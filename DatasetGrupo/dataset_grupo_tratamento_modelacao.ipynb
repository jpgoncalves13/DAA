{
 "cells": [
  {
   "cell_type": "markdown",
   "metadata": {},
   "source": [
    "# Spotify 1 Million Tracks - Tratamento e Modelação"
   ]
  },
  {
   "cell_type": "markdown",
   "metadata": {},
   "source": [
    "### Importe das Bibliotecas"
   ]
  },
  {
   "cell_type": "code",
   "execution_count": 5,
   "metadata": {},
   "outputs": [],
   "source": [
    "import pandas as pd\n",
    "import numpy as np\n",
    "import matplotlib.pyplot as plt\n",
    "import seaborn as sns\n",
    "from sklearn import preprocessing\n",
    "from sklearn.tree import DecisionTreeClassifier\n",
    "from sklearn.preprocessing import LabelEncoder\n",
    "from sklearn.metrics import accuracy_score, precision_score, recall_score, roc_auc_score, roc_curve\n",
    "from sklearn.linear_model import LinearRegression\n",
    "from sklearn import metrics\n",
    "from sklearn.feature_selection import RFE\n",
    "%matplotlib inline\n",
    "\n",
    "\n",
    "# Para visualizar os valores com cinco casas decimais\n",
    "# pd.set_option('display.float_format', lambda x: '%.5f' % x)"
   ]
  },
  {
   "cell_type": "markdown",
   "metadata": {},
   "source": [
    "## Tratamento dos Dados"
   ]
  },
  {
   "cell_type": "markdown",
   "metadata": {},
   "source": [
    "Carregar o dataset, previamente analisado"
   ]
  },
  {
   "cell_type": "code",
   "execution_count": 6,
   "metadata": {},
   "outputs": [],
   "source": [
    "data = pd.read_csv('dataset/spotify_data.csv')"
   ]
  },
  {
   "cell_type": "markdown",
   "metadata": {},
   "source": [
    "Eliminar coluns irrelevantes:\n",
    "ids e nomes das músicas"
   ]
  },
  {
   "cell_type": "code",
   "execution_count": 7,
   "metadata": {},
   "outputs": [],
   "source": [
    "# Drop Id and Track Id columns\n",
    "data.drop(['Unnamed: 0', 'track_id', 'track_name'], axis=1, inplace=True, errors='ignore')"
   ]
  },
  {
   "cell_type": "markdown",
   "metadata": {},
   "source": [
    "Remover outliers por género"
   ]
  },
  {
   "cell_type": "code",
   "execution_count": 8,
   "metadata": {},
   "outputs": [
    {
     "data": {
      "text/plain": [
       "\"q3 = data.groupby(by=['genre']).quantile(0.75,numeric_only=True).sort_values(by='popularity', ascending=False)['popularity']\\nq1 = data.groupby(by=['genre']).quantile(0.25,numeric_only=True).sort_values(by='popularity', ascending=False)['popularity']\\n\\ndata_aux = data.merge(q1, left_on='genre', right_index=True, suffixes=('', '_q1'))\\ndata_aux = data_aux.merge(q3, left_on='genre', right_index=True, suffixes=('', '_q3'))\\ndata_aux['iqr'] = data_aux['popularity_q3'] - data_aux['popularity_q1']\\n\\n#data_aux\\n# Verificar os outliers\\nno_outliers = data_aux[(data_aux['popularity'] <= data_aux['popularity_q3'] + 1.5 * data_aux['iqr']) & (data_aux['popularity'] >= data_aux['popularity_q1'] - 1.5 * data_aux['iqr'])]\\nno_outliers.drop(['popularity_q1', 'popularity_q3', 'iqr'], axis=1, inplace=True)\\nno_outliers\""
      ]
     },
     "execution_count": 8,
     "metadata": {},
     "output_type": "execute_result"
    }
   ],
   "source": [
    "\"\"\"q3 = data.groupby(by=['genre']).quantile(0.75,numeric_only=True).sort_values(by='popularity', ascending=False)['popularity']\n",
    "q1 = data.groupby(by=['genre']).quantile(0.25,numeric_only=True).sort_values(by='popularity', ascending=False)['popularity']\n",
    "\n",
    "data_aux = data.merge(q1, left_on='genre', right_index=True, suffixes=('', '_q1'))\n",
    "data_aux = data_aux.merge(q3, left_on='genre', right_index=True, suffixes=('', '_q3'))\n",
    "data_aux['iqr'] = data_aux['popularity_q3'] - data_aux['popularity_q1']\n",
    "\n",
    "#data_aux\n",
    "# Verificar os outliers\n",
    "no_outliers = data_aux[(data_aux['popularity'] <= data_aux['popularity_q3'] + 1.5 * data_aux['iqr']) & (data_aux['popularity'] >= data_aux['popularity_q1'] - 1.5 * data_aux['iqr'])]\n",
    "no_outliers.drop(['popularity_q1', 'popularity_q3', 'iqr'], axis=1, inplace=True)\n",
    "no_outliers\"\"\""
   ]
  },
  {
   "cell_type": "markdown",
   "metadata": {},
   "source": [
    "Converter valores categóricos para valores contínuos"
   ]
  },
  {
   "cell_type": "code",
   "execution_count": 9,
   "metadata": {},
   "outputs": [
    {
     "data": {
      "text/html": [
       "<div>\n",
       "<style scoped>\n",
       "    .dataframe tbody tr th:only-of-type {\n",
       "        vertical-align: middle;\n",
       "    }\n",
       "\n",
       "    .dataframe tbody tr th {\n",
       "        vertical-align: top;\n",
       "    }\n",
       "\n",
       "    .dataframe thead th {\n",
       "        text-align: right;\n",
       "    }\n",
       "</style>\n",
       "<table border=\"1\" class=\"dataframe\">\n",
       "  <thead>\n",
       "    <tr style=\"text-align: right;\">\n",
       "      <th></th>\n",
       "      <th>artist_name</th>\n",
       "      <th>popularity</th>\n",
       "      <th>year</th>\n",
       "      <th>genre</th>\n",
       "      <th>danceability</th>\n",
       "      <th>energy</th>\n",
       "      <th>key</th>\n",
       "      <th>loudness</th>\n",
       "      <th>mode</th>\n",
       "      <th>speechiness</th>\n",
       "      <th>acousticness</th>\n",
       "      <th>instrumentalness</th>\n",
       "      <th>liveness</th>\n",
       "      <th>valence</th>\n",
       "      <th>tempo</th>\n",
       "      <th>duration_ms</th>\n",
       "      <th>time_signature</th>\n",
       "    </tr>\n",
       "  </thead>\n",
       "  <tbody>\n",
       "    <tr>\n",
       "      <th>0</th>\n",
       "      <td>26235</td>\n",
       "      <td>68</td>\n",
       "      <td>2012</td>\n",
       "      <td>0</td>\n",
       "      <td>0.483</td>\n",
       "      <td>0.303</td>\n",
       "      <td>4</td>\n",
       "      <td>-10.058</td>\n",
       "      <td>1</td>\n",
       "      <td>0.0429</td>\n",
       "      <td>0.6940</td>\n",
       "      <td>0.000000</td>\n",
       "      <td>0.1150</td>\n",
       "      <td>0.1390</td>\n",
       "      <td>133.406</td>\n",
       "      <td>240166</td>\n",
       "      <td>3</td>\n",
       "    </tr>\n",
       "    <tr>\n",
       "      <th>1</th>\n",
       "      <td>26235</td>\n",
       "      <td>50</td>\n",
       "      <td>2012</td>\n",
       "      <td>0</td>\n",
       "      <td>0.572</td>\n",
       "      <td>0.454</td>\n",
       "      <td>3</td>\n",
       "      <td>-10.286</td>\n",
       "      <td>1</td>\n",
       "      <td>0.0258</td>\n",
       "      <td>0.4770</td>\n",
       "      <td>0.000014</td>\n",
       "      <td>0.0974</td>\n",
       "      <td>0.5150</td>\n",
       "      <td>140.182</td>\n",
       "      <td>216387</td>\n",
       "      <td>4</td>\n",
       "    </tr>\n",
       "    <tr>\n",
       "      <th>2</th>\n",
       "      <td>28122</td>\n",
       "      <td>57</td>\n",
       "      <td>2012</td>\n",
       "      <td>0</td>\n",
       "      <td>0.409</td>\n",
       "      <td>0.234</td>\n",
       "      <td>3</td>\n",
       "      <td>-13.711</td>\n",
       "      <td>1</td>\n",
       "      <td>0.0323</td>\n",
       "      <td>0.3380</td>\n",
       "      <td>0.000050</td>\n",
       "      <td>0.0895</td>\n",
       "      <td>0.1450</td>\n",
       "      <td>139.832</td>\n",
       "      <td>158960</td>\n",
       "      <td>4</td>\n",
       "    </tr>\n",
       "    <tr>\n",
       "      <th>3</th>\n",
       "      <td>7629</td>\n",
       "      <td>58</td>\n",
       "      <td>2012</td>\n",
       "      <td>0</td>\n",
       "      <td>0.392</td>\n",
       "      <td>0.251</td>\n",
       "      <td>10</td>\n",
       "      <td>-9.845</td>\n",
       "      <td>1</td>\n",
       "      <td>0.0363</td>\n",
       "      <td>0.8070</td>\n",
       "      <td>0.000000</td>\n",
       "      <td>0.0797</td>\n",
       "      <td>0.5080</td>\n",
       "      <td>204.961</td>\n",
       "      <td>304293</td>\n",
       "      <td>4</td>\n",
       "    </tr>\n",
       "    <tr>\n",
       "      <th>4</th>\n",
       "      <td>3014</td>\n",
       "      <td>54</td>\n",
       "      <td>2012</td>\n",
       "      <td>0</td>\n",
       "      <td>0.430</td>\n",
       "      <td>0.791</td>\n",
       "      <td>6</td>\n",
       "      <td>-5.419</td>\n",
       "      <td>0</td>\n",
       "      <td>0.0302</td>\n",
       "      <td>0.0726</td>\n",
       "      <td>0.019300</td>\n",
       "      <td>0.1100</td>\n",
       "      <td>0.2170</td>\n",
       "      <td>171.864</td>\n",
       "      <td>244320</td>\n",
       "      <td>4</td>\n",
       "    </tr>\n",
       "    <tr>\n",
       "      <th>...</th>\n",
       "      <td>...</td>\n",
       "      <td>...</td>\n",
       "      <td>...</td>\n",
       "      <td>...</td>\n",
       "      <td>...</td>\n",
       "      <td>...</td>\n",
       "      <td>...</td>\n",
       "      <td>...</td>\n",
       "      <td>...</td>\n",
       "      <td>...</td>\n",
       "      <td>...</td>\n",
       "      <td>...</td>\n",
       "      <td>...</td>\n",
       "      <td>...</td>\n",
       "      <td>...</td>\n",
       "      <td>...</td>\n",
       "      <td>...</td>\n",
       "    </tr>\n",
       "    <tr>\n",
       "      <th>1159759</th>\n",
       "      <td>40236</td>\n",
       "      <td>4</td>\n",
       "      <td>2011</td>\n",
       "      <td>81</td>\n",
       "      <td>0.373</td>\n",
       "      <td>0.742</td>\n",
       "      <td>10</td>\n",
       "      <td>-6.453</td>\n",
       "      <td>0</td>\n",
       "      <td>0.0736</td>\n",
       "      <td>0.3250</td>\n",
       "      <td>0.000141</td>\n",
       "      <td>0.1590</td>\n",
       "      <td>0.5220</td>\n",
       "      <td>107.951</td>\n",
       "      <td>344013</td>\n",
       "      <td>3</td>\n",
       "    </tr>\n",
       "    <tr>\n",
       "      <th>1159760</th>\n",
       "      <td>40236</td>\n",
       "      <td>3</td>\n",
       "      <td>2011</td>\n",
       "      <td>81</td>\n",
       "      <td>0.516</td>\n",
       "      <td>0.675</td>\n",
       "      <td>7</td>\n",
       "      <td>-7.588</td>\n",
       "      <td>0</td>\n",
       "      <td>0.0326</td>\n",
       "      <td>0.7880</td>\n",
       "      <td>0.000129</td>\n",
       "      <td>0.1300</td>\n",
       "      <td>0.2640</td>\n",
       "      <td>119.897</td>\n",
       "      <td>285067</td>\n",
       "      <td>4</td>\n",
       "    </tr>\n",
       "    <tr>\n",
       "      <th>1159761</th>\n",
       "      <td>2723</td>\n",
       "      <td>2</td>\n",
       "      <td>2011</td>\n",
       "      <td>81</td>\n",
       "      <td>0.491</td>\n",
       "      <td>0.440</td>\n",
       "      <td>5</td>\n",
       "      <td>-8.512</td>\n",
       "      <td>1</td>\n",
       "      <td>0.0274</td>\n",
       "      <td>0.4770</td>\n",
       "      <td>0.003130</td>\n",
       "      <td>0.0936</td>\n",
       "      <td>0.0351</td>\n",
       "      <td>100.076</td>\n",
       "      <td>214253</td>\n",
       "      <td>4</td>\n",
       "    </tr>\n",
       "    <tr>\n",
       "      <th>1159762</th>\n",
       "      <td>43073</td>\n",
       "      <td>0</td>\n",
       "      <td>2011</td>\n",
       "      <td>81</td>\n",
       "      <td>0.480</td>\n",
       "      <td>0.405</td>\n",
       "      <td>0</td>\n",
       "      <td>-13.343</td>\n",
       "      <td>1</td>\n",
       "      <td>0.0276</td>\n",
       "      <td>0.4310</td>\n",
       "      <td>0.000063</td>\n",
       "      <td>0.1250</td>\n",
       "      <td>0.2020</td>\n",
       "      <td>133.885</td>\n",
       "      <td>239133</td>\n",
       "      <td>3</td>\n",
       "    </tr>\n",
       "    <tr>\n",
       "      <th>1159763</th>\n",
       "      <td>38141</td>\n",
       "      <td>3</td>\n",
       "      <td>2011</td>\n",
       "      <td>81</td>\n",
       "      <td>0.782</td>\n",
       "      <td>0.861</td>\n",
       "      <td>1</td>\n",
       "      <td>-7.292</td>\n",
       "      <td>0</td>\n",
       "      <td>0.1250</td>\n",
       "      <td>0.2200</td>\n",
       "      <td>0.000008</td>\n",
       "      <td>0.0581</td>\n",
       "      <td>0.8570</td>\n",
       "      <td>89.987</td>\n",
       "      <td>212227</td>\n",
       "      <td>4</td>\n",
       "    </tr>\n",
       "  </tbody>\n",
       "</table>\n",
       "<p>1159764 rows × 17 columns</p>\n",
       "</div>"
      ],
      "text/plain": [
       "         artist_name  popularity  year  genre  danceability  energy  key  \\\n",
       "0              26235          68  2012      0         0.483   0.303    4   \n",
       "1              26235          50  2012      0         0.572   0.454    3   \n",
       "2              28122          57  2012      0         0.409   0.234    3   \n",
       "3               7629          58  2012      0         0.392   0.251   10   \n",
       "4               3014          54  2012      0         0.430   0.791    6   \n",
       "...              ...         ...   ...    ...           ...     ...  ...   \n",
       "1159759        40236           4  2011     81         0.373   0.742   10   \n",
       "1159760        40236           3  2011     81         0.516   0.675    7   \n",
       "1159761         2723           2  2011     81         0.491   0.440    5   \n",
       "1159762        43073           0  2011     81         0.480   0.405    0   \n",
       "1159763        38141           3  2011     81         0.782   0.861    1   \n",
       "\n",
       "         loudness  mode  speechiness  acousticness  instrumentalness  \\\n",
       "0         -10.058     1       0.0429        0.6940          0.000000   \n",
       "1         -10.286     1       0.0258        0.4770          0.000014   \n",
       "2         -13.711     1       0.0323        0.3380          0.000050   \n",
       "3          -9.845     1       0.0363        0.8070          0.000000   \n",
       "4          -5.419     0       0.0302        0.0726          0.019300   \n",
       "...           ...   ...          ...           ...               ...   \n",
       "1159759    -6.453     0       0.0736        0.3250          0.000141   \n",
       "1159760    -7.588     0       0.0326        0.7880          0.000129   \n",
       "1159761    -8.512     1       0.0274        0.4770          0.003130   \n",
       "1159762   -13.343     1       0.0276        0.4310          0.000063   \n",
       "1159763    -7.292     0       0.1250        0.2200          0.000008   \n",
       "\n",
       "         liveness  valence    tempo  duration_ms  time_signature  \n",
       "0          0.1150   0.1390  133.406       240166               3  \n",
       "1          0.0974   0.5150  140.182       216387               4  \n",
       "2          0.0895   0.1450  139.832       158960               4  \n",
       "3          0.0797   0.5080  204.961       304293               4  \n",
       "4          0.1100   0.2170  171.864       244320               4  \n",
       "...           ...      ...      ...          ...             ...  \n",
       "1159759    0.1590   0.5220  107.951       344013               3  \n",
       "1159760    0.1300   0.2640  119.897       285067               4  \n",
       "1159761    0.0936   0.0351  100.076       214253               4  \n",
       "1159762    0.1250   0.2020  133.885       239133               3  \n",
       "1159763    0.0581   0.8570   89.987       212227               4  \n",
       "\n",
       "[1159764 rows x 17 columns]"
      ]
     },
     "execution_count": 9,
     "metadata": {},
     "output_type": "execute_result"
    }
   ],
   "source": [
    "data_non_categorical = data.copy()\n",
    "lb_make = LabelEncoder()\n",
    "data_non_categorical['artist_name'] = lb_make.fit_transform(data_non_categorical['artist_name'])\n",
    "data_non_categorical['genre'] = lb_make.fit_transform(data_non_categorical['genre'])\n",
    "data_non_categorical"
   ]
  },
  {
   "cell_type": "markdown",
   "metadata": {},
   "source": [
    "### Redução dimensional\n",
    "\n",
    "Reduzir o número de features (dimensões do problema), mantendo o máximo de informação possível"
   ]
  },
  {
   "cell_type": "markdown",
   "metadata": {},
   "source": [
    "AutoEncoders"
   ]
  },
  {
   "cell_type": "code",
   "execution_count": 10,
   "metadata": {},
   "outputs": [],
   "source": [
    "X_reduction = data_non_categorical.drop('popularity', axis=1)\n",
    "y_reduction = data_non_categorical['popularity']"
   ]
  },
  {
   "cell_type": "code",
   "execution_count": 11,
   "metadata": {},
   "outputs": [],
   "source": [
    "from sklearn.model_selection import train_test_split\n",
    "X_train, X_test, y_train, y_test = train_test_split(X_reduction, y_reduction, test_size=0.4, random_state=101)"
   ]
  },
  {
   "cell_type": "code",
   "execution_count": 12,
   "metadata": {},
   "outputs": [
    {
     "name": "stderr",
     "output_type": "stream",
     "text": [
      "2023-11-05 17:20:35.649082: I tensorflow/tsl/cuda/cudart_stub.cc:28] Could not find cuda drivers on your machine, GPU will not be used.\n",
      "2023-11-05 17:20:35.824797: E tensorflow/compiler/xla/stream_executor/cuda/cuda_dnn.cc:9342] Unable to register cuDNN factory: Attempting to register factory for plugin cuDNN when one has already been registered\n",
      "2023-11-05 17:20:35.824830: E tensorflow/compiler/xla/stream_executor/cuda/cuda_fft.cc:609] Unable to register cuFFT factory: Attempting to register factory for plugin cuFFT when one has already been registered\n",
      "2023-11-05 17:20:35.825378: E tensorflow/compiler/xla/stream_executor/cuda/cuda_blas.cc:1518] Unable to register cuBLAS factory: Attempting to register factory for plugin cuBLAS when one has already been registered\n",
      "2023-11-05 17:20:35.990988: I tensorflow/tsl/cuda/cudart_stub.cc:28] Could not find cuda drivers on your machine, GPU will not be used.\n",
      "2023-11-05 17:20:35.992930: I tensorflow/core/platform/cpu_feature_guard.cc:182] This TensorFlow binary is optimized to use available CPU instructions in performance-critical operations.\n",
      "To enable the following instructions: AVX2 FMA, in other operations, rebuild TensorFlow with the appropriate compiler flags.\n",
      "2023-11-05 17:20:37.894748: W tensorflow/compiler/tf2tensorrt/utils/py_utils.cc:38] TF-TRT Warning: Could not find TensorRT\n"
     ]
    },
    {
     "name": "stdout",
     "output_type": "stream",
     "text": [
      "21746/21746 [==============================] - 80s 4ms/step - loss: 563.0813 - val_loss: 5381588992.0000\n"
     ]
    },
    {
     "data": {
      "text/plain": [
       "<keras.src.callbacks.History at 0x7f76a944d7b0>"
      ]
     },
     "execution_count": 12,
     "metadata": {},
     "output_type": "execute_result"
    }
   ],
   "source": [
    "from tensorflow.keras.layers import Input, Dense\n",
    "from tensorflow.keras.models import Model\n",
    "\n",
    "# Define the autoencoder model\n",
    "input_layer = Input(shape=(X_reduction.shape[1],))\n",
    "encoded = Dense(5, activation='relu')(input_layer)\n",
    "decoded = Dense(X_reduction.shape[1], activation='sigmoid')(encoded)\n",
    "\n",
    "autoencoder = Model(input_layer, decoded)\n",
    "autoencoder.compile(optimizer='adam', loss='mean_squared_error')\n",
    "\n",
    "# Train the autoencoder\n",
    "autoencoder.fit(X_train, y_train, epochs=1, batch_size=32, shuffle=True, validation_data=(X_test, X_test))"
   ]
  },
  {
   "cell_type": "code",
   "execution_count": 13,
   "metadata": {},
   "outputs": [
    {
     "name": "stdout",
     "output_type": "stream",
     "text": [
      "21746/21746 [==============================] - 43s 2ms/step\n"
     ]
    },
    {
     "data": {
      "text/plain": [
       "array([[ 25319.172  ,  23510.203  ,  94463.484  ,  47258.55   ,\n",
       "        114467.945  ],\n",
       "       [ 20220.389  ,  11859.308  ,  92404.37   ,  64264.72   ,\n",
       "        113554.766  ],\n",
       "       [ 14853.162  ,      0.     ,  93279.37   ,  86649.73   ,\n",
       "        116448.836  ],\n",
       "       ...,\n",
       "       [ 12376.642  ,    956.40497,  71145.734  ,  62584.812  ,\n",
       "         88687.31   ],\n",
       "       [ 19272.389  ,  10786.251  ,  89221.66   ,  63085.465  ,\n",
       "        109660.36   ],\n",
       "       [  8388.048  ,      0.     ,  55231.234  ,  54237.992  ,\n",
       "         69502.05   ]], dtype=float32)"
      ]
     },
     "execution_count": 13,
     "metadata": {},
     "output_type": "execute_result"
    }
   ],
   "source": [
    "encoder = Model(input_layer, encoded)\n",
    "encoded_features = encoder.predict(X_train)\n",
    "\n",
    "encoded_features"
   ]
  },
  {
   "cell_type": "markdown",
   "metadata": {},
   "source": [
    "--------------"
   ]
  },
  {
   "cell_type": "markdown",
   "metadata": {},
   "source": [
    "Recursive Feature Elimination"
   ]
  },
  {
   "cell_type": "code",
   "execution_count": 14,
   "metadata": {},
   "outputs": [],
   "source": [
    "model = LinearRegression()"
   ]
  },
  {
   "cell_type": "code",
   "execution_count": 15,
   "metadata": {},
   "outputs": [],
   "source": [
    "number_features_to_select = 10  # You can choose the number of features you want to retain\n",
    "rfe = RFE(model, n_features_to_select=number_features_to_select)"
   ]
  },
  {
   "cell_type": "code",
   "execution_count": 16,
   "metadata": {},
   "outputs": [
    {
     "data": {
      "text/html": [
       "<style>#sk-container-id-1 {color: black;}#sk-container-id-1 pre{padding: 0;}#sk-container-id-1 div.sk-toggleable {background-color: white;}#sk-container-id-1 label.sk-toggleable__label {cursor: pointer;display: block;width: 100%;margin-bottom: 0;padding: 0.3em;box-sizing: border-box;text-align: center;}#sk-container-id-1 label.sk-toggleable__label-arrow:before {content: \"▸\";float: left;margin-right: 0.25em;color: #696969;}#sk-container-id-1 label.sk-toggleable__label-arrow:hover:before {color: black;}#sk-container-id-1 div.sk-estimator:hover label.sk-toggleable__label-arrow:before {color: black;}#sk-container-id-1 div.sk-toggleable__content {max-height: 0;max-width: 0;overflow: hidden;text-align: left;background-color: #f0f8ff;}#sk-container-id-1 div.sk-toggleable__content pre {margin: 0.2em;color: black;border-radius: 0.25em;background-color: #f0f8ff;}#sk-container-id-1 input.sk-toggleable__control:checked~div.sk-toggleable__content {max-height: 200px;max-width: 100%;overflow: auto;}#sk-container-id-1 input.sk-toggleable__control:checked~label.sk-toggleable__label-arrow:before {content: \"▾\";}#sk-container-id-1 div.sk-estimator input.sk-toggleable__control:checked~label.sk-toggleable__label {background-color: #d4ebff;}#sk-container-id-1 div.sk-label input.sk-toggleable__control:checked~label.sk-toggleable__label {background-color: #d4ebff;}#sk-container-id-1 input.sk-hidden--visually {border: 0;clip: rect(1px 1px 1px 1px);clip: rect(1px, 1px, 1px, 1px);height: 1px;margin: -1px;overflow: hidden;padding: 0;position: absolute;width: 1px;}#sk-container-id-1 div.sk-estimator {font-family: monospace;background-color: #f0f8ff;border: 1px dotted black;border-radius: 0.25em;box-sizing: border-box;margin-bottom: 0.5em;}#sk-container-id-1 div.sk-estimator:hover {background-color: #d4ebff;}#sk-container-id-1 div.sk-parallel-item::after {content: \"\";width: 100%;border-bottom: 1px solid gray;flex-grow: 1;}#sk-container-id-1 div.sk-label:hover label.sk-toggleable__label {background-color: #d4ebff;}#sk-container-id-1 div.sk-serial::before {content: \"\";position: absolute;border-left: 1px solid gray;box-sizing: border-box;top: 0;bottom: 0;left: 50%;z-index: 0;}#sk-container-id-1 div.sk-serial {display: flex;flex-direction: column;align-items: center;background-color: white;padding-right: 0.2em;padding-left: 0.2em;position: relative;}#sk-container-id-1 div.sk-item {position: relative;z-index: 1;}#sk-container-id-1 div.sk-parallel {display: flex;align-items: stretch;justify-content: center;background-color: white;position: relative;}#sk-container-id-1 div.sk-item::before, #sk-container-id-1 div.sk-parallel-item::before {content: \"\";position: absolute;border-left: 1px solid gray;box-sizing: border-box;top: 0;bottom: 0;left: 50%;z-index: -1;}#sk-container-id-1 div.sk-parallel-item {display: flex;flex-direction: column;z-index: 1;position: relative;background-color: white;}#sk-container-id-1 div.sk-parallel-item:first-child::after {align-self: flex-end;width: 50%;}#sk-container-id-1 div.sk-parallel-item:last-child::after {align-self: flex-start;width: 50%;}#sk-container-id-1 div.sk-parallel-item:only-child::after {width: 0;}#sk-container-id-1 div.sk-dashed-wrapped {border: 1px dashed gray;margin: 0 0.4em 0.5em 0.4em;box-sizing: border-box;padding-bottom: 0.4em;background-color: white;}#sk-container-id-1 div.sk-label label {font-family: monospace;font-weight: bold;display: inline-block;line-height: 1.2em;}#sk-container-id-1 div.sk-label-container {text-align: center;}#sk-container-id-1 div.sk-container {/* jupyter's `normalize.less` sets `[hidden] { display: none; }` but bootstrap.min.css set `[hidden] { display: none !important; }` so we also need the `!important` here to be able to override the default hidden behavior on the sphinx rendered scikit-learn.org. See: https://github.com/scikit-learn/scikit-learn/issues/21755 */display: inline-block !important;position: relative;}#sk-container-id-1 div.sk-text-repr-fallback {display: none;}</style><div id=\"sk-container-id-1\" class=\"sk-top-container\"><div class=\"sk-text-repr-fallback\"><pre>RFE(estimator=LinearRegression(), n_features_to_select=10)</pre><b>In a Jupyter environment, please rerun this cell to show the HTML representation or trust the notebook. <br />On GitHub, the HTML representation is unable to render, please try loading this page with nbviewer.org.</b></div><div class=\"sk-container\" hidden><div class=\"sk-item sk-dashed-wrapped\"><div class=\"sk-label-container\"><div class=\"sk-label sk-toggleable\"><input class=\"sk-toggleable__control sk-hidden--visually\" id=\"sk-estimator-id-1\" type=\"checkbox\" ><label for=\"sk-estimator-id-1\" class=\"sk-toggleable__label sk-toggleable__label-arrow\">RFE</label><div class=\"sk-toggleable__content\"><pre>RFE(estimator=LinearRegression(), n_features_to_select=10)</pre></div></div></div><div class=\"sk-parallel\"><div class=\"sk-parallel-item\"><div class=\"sk-item\"><div class=\"sk-label-container\"><div class=\"sk-label sk-toggleable\"><input class=\"sk-toggleable__control sk-hidden--visually\" id=\"sk-estimator-id-2\" type=\"checkbox\" ><label for=\"sk-estimator-id-2\" class=\"sk-toggleable__label sk-toggleable__label-arrow\">estimator: LinearRegression</label><div class=\"sk-toggleable__content\"><pre>LinearRegression()</pre></div></div></div><div class=\"sk-serial\"><div class=\"sk-item\"><div class=\"sk-estimator sk-toggleable\"><input class=\"sk-toggleable__control sk-hidden--visually\" id=\"sk-estimator-id-3\" type=\"checkbox\" ><label for=\"sk-estimator-id-3\" class=\"sk-toggleable__label sk-toggleable__label-arrow\">LinearRegression</label><div class=\"sk-toggleable__content\"><pre>LinearRegression()</pre></div></div></div></div></div></div></div></div></div></div>"
      ],
      "text/plain": [
       "RFE(estimator=LinearRegression(), n_features_to_select=10)"
      ]
     },
     "execution_count": 16,
     "metadata": {},
     "output_type": "execute_result"
    }
   ],
   "source": [
    "rfe.fit(X_reduction, y_reduction)"
   ]
  },
  {
   "cell_type": "code",
   "execution_count": 17,
   "metadata": {},
   "outputs": [],
   "source": [
    "selected_features = X_reduction.columns[rfe.support_]\n",
    "ranking = rfe.ranking_\n",
    "selected_features = selected_features.append(pd.Index(['duration_ms']))"
   ]
  },
  {
   "cell_type": "code",
   "execution_count": 18,
   "metadata": {},
   "outputs": [
    {
     "data": {
      "text/html": [
       "<div>\n",
       "<style scoped>\n",
       "    .dataframe tbody tr th:only-of-type {\n",
       "        vertical-align: middle;\n",
       "    }\n",
       "\n",
       "    .dataframe tbody tr th {\n",
       "        vertical-align: top;\n",
       "    }\n",
       "\n",
       "    .dataframe thead th {\n",
       "        text-align: right;\n",
       "    }\n",
       "</style>\n",
       "<table border=\"1\" class=\"dataframe\">\n",
       "  <thead>\n",
       "    <tr style=\"text-align: right;\">\n",
       "      <th></th>\n",
       "      <th>year</th>\n",
       "      <th>danceability</th>\n",
       "      <th>energy</th>\n",
       "      <th>loudness</th>\n",
       "      <th>mode</th>\n",
       "      <th>speechiness</th>\n",
       "      <th>acousticness</th>\n",
       "      <th>instrumentalness</th>\n",
       "      <th>liveness</th>\n",
       "      <th>valence</th>\n",
       "      <th>duration_ms</th>\n",
       "    </tr>\n",
       "  </thead>\n",
       "  <tbody>\n",
       "    <tr>\n",
       "      <th>0</th>\n",
       "      <td>2012</td>\n",
       "      <td>0.483</td>\n",
       "      <td>0.303</td>\n",
       "      <td>-10.058</td>\n",
       "      <td>1</td>\n",
       "      <td>0.0429</td>\n",
       "      <td>0.6940</td>\n",
       "      <td>0.000000</td>\n",
       "      <td>0.1150</td>\n",
       "      <td>0.1390</td>\n",
       "      <td>240166</td>\n",
       "    </tr>\n",
       "    <tr>\n",
       "      <th>1</th>\n",
       "      <td>2012</td>\n",
       "      <td>0.572</td>\n",
       "      <td>0.454</td>\n",
       "      <td>-10.286</td>\n",
       "      <td>1</td>\n",
       "      <td>0.0258</td>\n",
       "      <td>0.4770</td>\n",
       "      <td>0.000014</td>\n",
       "      <td>0.0974</td>\n",
       "      <td>0.5150</td>\n",
       "      <td>216387</td>\n",
       "    </tr>\n",
       "    <tr>\n",
       "      <th>2</th>\n",
       "      <td>2012</td>\n",
       "      <td>0.409</td>\n",
       "      <td>0.234</td>\n",
       "      <td>-13.711</td>\n",
       "      <td>1</td>\n",
       "      <td>0.0323</td>\n",
       "      <td>0.3380</td>\n",
       "      <td>0.000050</td>\n",
       "      <td>0.0895</td>\n",
       "      <td>0.1450</td>\n",
       "      <td>158960</td>\n",
       "    </tr>\n",
       "    <tr>\n",
       "      <th>3</th>\n",
       "      <td>2012</td>\n",
       "      <td>0.392</td>\n",
       "      <td>0.251</td>\n",
       "      <td>-9.845</td>\n",
       "      <td>1</td>\n",
       "      <td>0.0363</td>\n",
       "      <td>0.8070</td>\n",
       "      <td>0.000000</td>\n",
       "      <td>0.0797</td>\n",
       "      <td>0.5080</td>\n",
       "      <td>304293</td>\n",
       "    </tr>\n",
       "    <tr>\n",
       "      <th>4</th>\n",
       "      <td>2012</td>\n",
       "      <td>0.430</td>\n",
       "      <td>0.791</td>\n",
       "      <td>-5.419</td>\n",
       "      <td>0</td>\n",
       "      <td>0.0302</td>\n",
       "      <td>0.0726</td>\n",
       "      <td>0.019300</td>\n",
       "      <td>0.1100</td>\n",
       "      <td>0.2170</td>\n",
       "      <td>244320</td>\n",
       "    </tr>\n",
       "    <tr>\n",
       "      <th>...</th>\n",
       "      <td>...</td>\n",
       "      <td>...</td>\n",
       "      <td>...</td>\n",
       "      <td>...</td>\n",
       "      <td>...</td>\n",
       "      <td>...</td>\n",
       "      <td>...</td>\n",
       "      <td>...</td>\n",
       "      <td>...</td>\n",
       "      <td>...</td>\n",
       "      <td>...</td>\n",
       "    </tr>\n",
       "    <tr>\n",
       "      <th>1159759</th>\n",
       "      <td>2011</td>\n",
       "      <td>0.373</td>\n",
       "      <td>0.742</td>\n",
       "      <td>-6.453</td>\n",
       "      <td>0</td>\n",
       "      <td>0.0736</td>\n",
       "      <td>0.3250</td>\n",
       "      <td>0.000141</td>\n",
       "      <td>0.1590</td>\n",
       "      <td>0.5220</td>\n",
       "      <td>344013</td>\n",
       "    </tr>\n",
       "    <tr>\n",
       "      <th>1159760</th>\n",
       "      <td>2011</td>\n",
       "      <td>0.516</td>\n",
       "      <td>0.675</td>\n",
       "      <td>-7.588</td>\n",
       "      <td>0</td>\n",
       "      <td>0.0326</td>\n",
       "      <td>0.7880</td>\n",
       "      <td>0.000129</td>\n",
       "      <td>0.1300</td>\n",
       "      <td>0.2640</td>\n",
       "      <td>285067</td>\n",
       "    </tr>\n",
       "    <tr>\n",
       "      <th>1159761</th>\n",
       "      <td>2011</td>\n",
       "      <td>0.491</td>\n",
       "      <td>0.440</td>\n",
       "      <td>-8.512</td>\n",
       "      <td>1</td>\n",
       "      <td>0.0274</td>\n",
       "      <td>0.4770</td>\n",
       "      <td>0.003130</td>\n",
       "      <td>0.0936</td>\n",
       "      <td>0.0351</td>\n",
       "      <td>214253</td>\n",
       "    </tr>\n",
       "    <tr>\n",
       "      <th>1159762</th>\n",
       "      <td>2011</td>\n",
       "      <td>0.480</td>\n",
       "      <td>0.405</td>\n",
       "      <td>-13.343</td>\n",
       "      <td>1</td>\n",
       "      <td>0.0276</td>\n",
       "      <td>0.4310</td>\n",
       "      <td>0.000063</td>\n",
       "      <td>0.1250</td>\n",
       "      <td>0.2020</td>\n",
       "      <td>239133</td>\n",
       "    </tr>\n",
       "    <tr>\n",
       "      <th>1159763</th>\n",
       "      <td>2011</td>\n",
       "      <td>0.782</td>\n",
       "      <td>0.861</td>\n",
       "      <td>-7.292</td>\n",
       "      <td>0</td>\n",
       "      <td>0.1250</td>\n",
       "      <td>0.2200</td>\n",
       "      <td>0.000008</td>\n",
       "      <td>0.0581</td>\n",
       "      <td>0.8570</td>\n",
       "      <td>212227</td>\n",
       "    </tr>\n",
       "  </tbody>\n",
       "</table>\n",
       "<p>1159764 rows × 11 columns</p>\n",
       "</div>"
      ],
      "text/plain": [
       "         year  danceability  energy  loudness  mode  speechiness  \\\n",
       "0        2012         0.483   0.303   -10.058     1       0.0429   \n",
       "1        2012         0.572   0.454   -10.286     1       0.0258   \n",
       "2        2012         0.409   0.234   -13.711     1       0.0323   \n",
       "3        2012         0.392   0.251    -9.845     1       0.0363   \n",
       "4        2012         0.430   0.791    -5.419     0       0.0302   \n",
       "...       ...           ...     ...       ...   ...          ...   \n",
       "1159759  2011         0.373   0.742    -6.453     0       0.0736   \n",
       "1159760  2011         0.516   0.675    -7.588     0       0.0326   \n",
       "1159761  2011         0.491   0.440    -8.512     1       0.0274   \n",
       "1159762  2011         0.480   0.405   -13.343     1       0.0276   \n",
       "1159763  2011         0.782   0.861    -7.292     0       0.1250   \n",
       "\n",
       "         acousticness  instrumentalness  liveness  valence  duration_ms  \n",
       "0              0.6940          0.000000    0.1150   0.1390       240166  \n",
       "1              0.4770          0.000014    0.0974   0.5150       216387  \n",
       "2              0.3380          0.000050    0.0895   0.1450       158960  \n",
       "3              0.8070          0.000000    0.0797   0.5080       304293  \n",
       "4              0.0726          0.019300    0.1100   0.2170       244320  \n",
       "...               ...               ...       ...      ...          ...  \n",
       "1159759        0.3250          0.000141    0.1590   0.5220       344013  \n",
       "1159760        0.7880          0.000129    0.1300   0.2640       285067  \n",
       "1159761        0.4770          0.003130    0.0936   0.0351       214253  \n",
       "1159762        0.4310          0.000063    0.1250   0.2020       239133  \n",
       "1159763        0.2200          0.000008    0.0581   0.8570       212227  \n",
       "\n",
       "[1159764 rows x 11 columns]"
      ]
     },
     "execution_count": 18,
     "metadata": {},
     "output_type": "execute_result"
    }
   ],
   "source": [
    "X_selected = X_reduction[selected_features]\n",
    "X_selected"
   ]
  },
  {
   "cell_type": "markdown",
   "metadata": {},
   "source": [
    "## Modelação "
   ]
  },
  {
   "cell_type": "markdown",
   "metadata": {},
   "source": [
    "Partição dos Dados entre dados de treino e teste"
   ]
  },
  {
   "cell_type": "code",
   "execution_count": 23,
   "metadata": {},
   "outputs": [
    {
     "name": "stdout",
     "output_type": "stream",
     "text": [
      "         year  danceability  energy  loudness  mode  speechiness  \\\n",
      "0        2012         0.483   0.303   -10.058     1       0.0429   \n",
      "1        2012         0.572   0.454   -10.286     1       0.0258   \n",
      "2        2012         0.409   0.234   -13.711     1       0.0323   \n",
      "3        2012         0.392   0.251    -9.845     1       0.0363   \n",
      "4        2012         0.430   0.791    -5.419     0       0.0302   \n",
      "...       ...           ...     ...       ...   ...          ...   \n",
      "1159758  2011         0.551   0.728    -6.904     0       0.0355   \n",
      "1159759  2011         0.373   0.742    -6.453     0       0.0736   \n",
      "1159760  2011         0.516   0.675    -7.588     0       0.0326   \n",
      "1159761  2011         0.491   0.440    -8.512     1       0.0274   \n",
      "1159763  2011         0.782   0.861    -7.292     0       0.1250   \n",
      "\n",
      "         acousticness  instrumentalness  liveness  valence  duration_ms  \n",
      "0              0.6940          0.000000    0.1150   0.1390       240166  \n",
      "1              0.4770          0.000014    0.0974   0.5150       216387  \n",
      "2              0.3380          0.000050    0.0895   0.1450       158960  \n",
      "3              0.8070          0.000000    0.0797   0.5080       304293  \n",
      "4              0.0726          0.019300    0.1100   0.2170       244320  \n",
      "...               ...               ...       ...      ...          ...  \n",
      "1159758        0.4680          0.000013    0.1180   0.4670       261733  \n",
      "1159759        0.3250          0.000141    0.1590   0.5220       344013  \n",
      "1159760        0.7880          0.000129    0.1300   0.2640       285067  \n",
      "1159761        0.4770          0.003130    0.0936   0.0351       214253  \n",
      "1159763        0.2200          0.000008    0.0581   0.8570       212227  \n",
      "\n",
      "[1001373 rows x 11 columns]\n",
      "0          68\n",
      "1          50\n",
      "2          57\n",
      "3          58\n",
      "4          54\n",
      "           ..\n",
      "1159758     7\n",
      "1159759     4\n",
      "1159760     3\n",
      "1159761     2\n",
      "1159763     3\n",
      "Name: popularity, Length: 1001373, dtype: int64\n"
     ]
    }
   ],
   "source": [
    "X = data_non_categorical[data_non_categorical['popularity'] > 0][selected_features]#.drop('popularity', axis=1)\n",
    "y = data_non_categorical[data_non_categorical['popularity'] > 0]['popularity']\n",
    "print(X)\n",
    "print(y)"
   ]
  },
  {
   "cell_type": "code",
   "execution_count": 24,
   "metadata": {},
   "outputs": [],
   "source": [
    "from sklearn.model_selection import train_test_split\n",
    "X_train, X_test, y_train, y_test = train_test_split(X, y, test_size=0.4, random_state=101)"
   ]
  },
  {
   "cell_type": "code",
   "execution_count": 4,
   "metadata": {},
   "outputs": [
    {
     "ename": "NameError",
     "evalue": "name 'X_test' is not defined",
     "output_type": "error",
     "traceback": [
      "\u001b[0;31m---------------------------------------------------------------------------\u001b[0m",
      "\u001b[0;31mNameError\u001b[0m                                 Traceback (most recent call last)",
      "\u001b[1;32m/home/miguel/Documents/4Ano1Sem/DAA/DAA/DatasetGrupo/dataset_grupo_tratamento_modelacao.ipynb Cell 30\u001b[0m line \u001b[0;36m1\n\u001b[0;32m----> <a href='vscode-notebook-cell:/home/miguel/Documents/4Ano1Sem/DAA/DAA/DatasetGrupo/dataset_grupo_tratamento_modelacao.ipynb#Y111sZmlsZQ%3D%3D?line=0'>1</a>\u001b[0m sns\u001b[39m.\u001b[39mhistplot(X_test[\u001b[39m'\u001b[39m\u001b[39mduration_ms\u001b[39m\u001b[39m'\u001b[39m])\n",
      "\u001b[0;31mNameError\u001b[0m: name 'X_test' is not defined"
     ]
    }
   ],
   "source": [
    "sns.histplot(X_test['duration_ms'])"
   ]
  },
  {
   "cell_type": "code",
   "execution_count": 3,
   "metadata": {},
   "outputs": [
    {
     "ename": "NameError",
     "evalue": "name 'y_train' is not defined",
     "output_type": "error",
     "traceback": [
      "\u001b[0;31m---------------------------------------------------------------------------\u001b[0m",
      "\u001b[0;31mNameError\u001b[0m                                 Traceback (most recent call last)",
      "\u001b[1;32m/home/miguel/Documents/4Ano1Sem/DAA/DAA/DatasetGrupo/dataset_grupo_tratamento_modelacao.ipynb Cell 31\u001b[0m line \u001b[0;36m1\n\u001b[0;32m----> <a href='vscode-notebook-cell:/home/miguel/Documents/4Ano1Sem/DAA/DAA/DatasetGrupo/dataset_grupo_tratamento_modelacao.ipynb#Y112sZmlsZQ%3D%3D?line=0'>1</a>\u001b[0m sns\u001b[39m.\u001b[39mhistplot(y_train)\n",
      "\u001b[0;31mNameError\u001b[0m: name 'y_train' is not defined"
     ]
    }
   ],
   "source": [
    "sns.histplot(y_train)"
   ]
  },
  {
   "cell_type": "markdown",
   "metadata": {},
   "source": [
    "### Problema de regressão"
   ]
  },
  {
   "cell_type": "markdown",
   "metadata": {},
   "source": [
    "#### Modelo de Regressão Linear"
   ]
  },
  {
   "cell_type": "markdown",
   "metadata": {},
   "source": [
    "Criação do modelo"
   ]
  },
  {
   "cell_type": "code",
   "execution_count": 25,
   "metadata": {},
   "outputs": [
    {
     "data": {
      "text/html": [
       "<style>#sk-container-id-3 {color: black;}#sk-container-id-3 pre{padding: 0;}#sk-container-id-3 div.sk-toggleable {background-color: white;}#sk-container-id-3 label.sk-toggleable__label {cursor: pointer;display: block;width: 100%;margin-bottom: 0;padding: 0.3em;box-sizing: border-box;text-align: center;}#sk-container-id-3 label.sk-toggleable__label-arrow:before {content: \"▸\";float: left;margin-right: 0.25em;color: #696969;}#sk-container-id-3 label.sk-toggleable__label-arrow:hover:before {color: black;}#sk-container-id-3 div.sk-estimator:hover label.sk-toggleable__label-arrow:before {color: black;}#sk-container-id-3 div.sk-toggleable__content {max-height: 0;max-width: 0;overflow: hidden;text-align: left;background-color: #f0f8ff;}#sk-container-id-3 div.sk-toggleable__content pre {margin: 0.2em;color: black;border-radius: 0.25em;background-color: #f0f8ff;}#sk-container-id-3 input.sk-toggleable__control:checked~div.sk-toggleable__content {max-height: 200px;max-width: 100%;overflow: auto;}#sk-container-id-3 input.sk-toggleable__control:checked~label.sk-toggleable__label-arrow:before {content: \"▾\";}#sk-container-id-3 div.sk-estimator input.sk-toggleable__control:checked~label.sk-toggleable__label {background-color: #d4ebff;}#sk-container-id-3 div.sk-label input.sk-toggleable__control:checked~label.sk-toggleable__label {background-color: #d4ebff;}#sk-container-id-3 input.sk-hidden--visually {border: 0;clip: rect(1px 1px 1px 1px);clip: rect(1px, 1px, 1px, 1px);height: 1px;margin: -1px;overflow: hidden;padding: 0;position: absolute;width: 1px;}#sk-container-id-3 div.sk-estimator {font-family: monospace;background-color: #f0f8ff;border: 1px dotted black;border-radius: 0.25em;box-sizing: border-box;margin-bottom: 0.5em;}#sk-container-id-3 div.sk-estimator:hover {background-color: #d4ebff;}#sk-container-id-3 div.sk-parallel-item::after {content: \"\";width: 100%;border-bottom: 1px solid gray;flex-grow: 1;}#sk-container-id-3 div.sk-label:hover label.sk-toggleable__label {background-color: #d4ebff;}#sk-container-id-3 div.sk-serial::before {content: \"\";position: absolute;border-left: 1px solid gray;box-sizing: border-box;top: 0;bottom: 0;left: 50%;z-index: 0;}#sk-container-id-3 div.sk-serial {display: flex;flex-direction: column;align-items: center;background-color: white;padding-right: 0.2em;padding-left: 0.2em;position: relative;}#sk-container-id-3 div.sk-item {position: relative;z-index: 1;}#sk-container-id-3 div.sk-parallel {display: flex;align-items: stretch;justify-content: center;background-color: white;position: relative;}#sk-container-id-3 div.sk-item::before, #sk-container-id-3 div.sk-parallel-item::before {content: \"\";position: absolute;border-left: 1px solid gray;box-sizing: border-box;top: 0;bottom: 0;left: 50%;z-index: -1;}#sk-container-id-3 div.sk-parallel-item {display: flex;flex-direction: column;z-index: 1;position: relative;background-color: white;}#sk-container-id-3 div.sk-parallel-item:first-child::after {align-self: flex-end;width: 50%;}#sk-container-id-3 div.sk-parallel-item:last-child::after {align-self: flex-start;width: 50%;}#sk-container-id-3 div.sk-parallel-item:only-child::after {width: 0;}#sk-container-id-3 div.sk-dashed-wrapped {border: 1px dashed gray;margin: 0 0.4em 0.5em 0.4em;box-sizing: border-box;padding-bottom: 0.4em;background-color: white;}#sk-container-id-3 div.sk-label label {font-family: monospace;font-weight: bold;display: inline-block;line-height: 1.2em;}#sk-container-id-3 div.sk-label-container {text-align: center;}#sk-container-id-3 div.sk-container {/* jupyter's `normalize.less` sets `[hidden] { display: none; }` but bootstrap.min.css set `[hidden] { display: none !important; }` so we also need the `!important` here to be able to override the default hidden behavior on the sphinx rendered scikit-learn.org. See: https://github.com/scikit-learn/scikit-learn/issues/21755 */display: inline-block !important;position: relative;}#sk-container-id-3 div.sk-text-repr-fallback {display: none;}</style><div id=\"sk-container-id-3\" class=\"sk-top-container\"><div class=\"sk-text-repr-fallback\"><pre>LinearRegression()</pre><b>In a Jupyter environment, please rerun this cell to show the HTML representation or trust the notebook. <br />On GitHub, the HTML representation is unable to render, please try loading this page with nbviewer.org.</b></div><div class=\"sk-container\" hidden><div class=\"sk-item\"><div class=\"sk-estimator sk-toggleable\"><input class=\"sk-toggleable__control sk-hidden--visually\" id=\"sk-estimator-id-3\" type=\"checkbox\" checked><label for=\"sk-estimator-id-3\" class=\"sk-toggleable__label sk-toggleable__label-arrow\">LinearRegression</label><div class=\"sk-toggleable__content\"><pre>LinearRegression()</pre></div></div></div></div></div>"
      ],
      "text/plain": [
       "LinearRegression()"
      ]
     },
     "execution_count": 31,
     "metadata": {},
     "output_type": "execute_result"
    }
   ],
   "source": [
    "lm = LinearRegression()\n",
    "lm.fit(X_train, y_train)"
   ]
  },
  {
   "cell_type": "markdown",
   "metadata": {},
   "source": [
    "Previsões do modelo"
   ]
  },
  {
   "cell_type": "code",
   "execution_count": 32,
   "metadata": {},
   "outputs": [],
   "source": [
    "predictions = lm.predict(X_test)"
   ]
  },
  {
   "cell_type": "markdown",
   "metadata": {},
   "source": [
    "Gráfico de previsão vs valor real\n",
    "- X: valor real\n",
    "- Y: previsão"
   ]
  },
  {
   "cell_type": "code",
   "execution_count": 33,
   "metadata": {},
   "outputs": [
    {
     "data": {
      "text/plain": [
       "<matplotlib.collections.PathCollection at 0x7f3d653afaf0>"
      ]
     },
     "execution_count": 33,
     "metadata": {},
     "output_type": "execute_result"
    },
    {
     "data": {
      "image/png": "[encoded data removed]",
      "text/plain": [
       "<Figure size 640x480 with 1 Axes>"
      ]
     },
     "metadata": {},
     "output_type": "display_data"
    }
   ],
   "source": [
    "plt.scatter(y_test, predictions)"
   ]
  },
  {
   "cell_type": "code",
   "execution_count": 45,
   "metadata": {},
   "outputs": [
    {
     "data": {
      "text/plain": [
       "<Axes: ylabel='Count'>"
      ]
     },
     "execution_count": 45,
     "metadata": {},
     "output_type": "execute_result"
    },
    {
     "data": {
      "image/png": "[encoded data removed]",
      "text/plain": [
       "<Figure size 640x480 with 1 Axes>"
      ]
     },
     "metadata": {},
     "output_type": "display_data"
    }
   ],
   "source": [
    "sns.histplot(predictions, bins=50)"
   ]
  },
  {
   "cell_type": "markdown",
   "metadata": {},
   "source": [
    "Valor máximo da previsão"
   ]
  },
  {
   "cell_type": "code",
   "execution_count": 34,
   "metadata": {},
   "outputs": [
    {
     "data": {
      "text/plain": [
       "39.00261907095023"
      ]
     },
     "execution_count": 34,
     "metadata": {},
     "output_type": "execute_result"
    }
   ],
   "source": [
    "predictions.max()"
   ]
  },
  {
   "cell_type": "markdown",
   "metadata": {},
   "source": [
    "Comparar os valores previstos com os reais"
   ]
  },
  {
   "cell_type": "code",
   "execution_count": 35,
   "metadata": {},
   "outputs": [
    {
     "data": {
      "text/html": [
       "<div>\n",
       "<style scoped>\n",
       "    .dataframe tbody tr th:only-of-type {\n",
       "        vertical-align: middle;\n",
       "    }\n",
       "\n",
       "    .dataframe tbody tr th {\n",
       "        vertical-align: top;\n",
       "    }\n",
       "\n",
       "    .dataframe thead th {\n",
       "        text-align: right;\n",
       "    }\n",
       "</style>\n",
       "<table border=\"1\" class=\"dataframe\">\n",
       "  <thead>\n",
       "    <tr style=\"text-align: right;\">\n",
       "      <th></th>\n",
       "      <th>popularity</th>\n",
       "      <th>0</th>\n",
       "    </tr>\n",
       "  </thead>\n",
       "  <tbody>\n",
       "    <tr>\n",
       "      <th>164774</th>\n",
       "      <td>14</td>\n",
       "      <td>19.374973</td>\n",
       "    </tr>\n",
       "    <tr>\n",
       "      <th>330544</th>\n",
       "      <td>27</td>\n",
       "      <td>17.677106</td>\n",
       "    </tr>\n",
       "    <tr>\n",
       "      <th>166277</th>\n",
       "      <td>26</td>\n",
       "      <td>21.200577</td>\n",
       "    </tr>\n",
       "    <tr>\n",
       "      <th>314202</th>\n",
       "      <td>37</td>\n",
       "      <td>31.791760</td>\n",
       "    </tr>\n",
       "    <tr>\n",
       "      <th>5250</th>\n",
       "      <td>19</td>\n",
       "      <td>5.216153</td>\n",
       "    </tr>\n",
       "    <tr>\n",
       "      <th>...</th>\n",
       "      <td>...</td>\n",
       "      <td>...</td>\n",
       "    </tr>\n",
       "    <tr>\n",
       "      <th>341323</th>\n",
       "      <td>57</td>\n",
       "      <td>29.145139</td>\n",
       "    </tr>\n",
       "    <tr>\n",
       "      <th>103993</th>\n",
       "      <td>5</td>\n",
       "      <td>12.804867</td>\n",
       "    </tr>\n",
       "    <tr>\n",
       "      <th>362086</th>\n",
       "      <td>38</td>\n",
       "      <td>28.231074</td>\n",
       "    </tr>\n",
       "    <tr>\n",
       "      <th>261823</th>\n",
       "      <td>20</td>\n",
       "      <td>27.382385</td>\n",
       "    </tr>\n",
       "    <tr>\n",
       "      <th>300287</th>\n",
       "      <td>10</td>\n",
       "      <td>13.664564</td>\n",
       "    </tr>\n",
       "  </tbody>\n",
       "</table>\n",
       "<p>145465 rows × 2 columns</p>\n",
       "</div>"
      ],
      "text/plain": [
       "        popularity          0\n",
       "164774          14  19.374973\n",
       "330544          27  17.677106\n",
       "166277          26  21.200577\n",
       "314202          37  31.791760\n",
       "5250            19   5.216153\n",
       "...            ...        ...\n",
       "341323          57  29.145139\n",
       "103993           5  12.804867\n",
       "362086          38  28.231074\n",
       "261823          20  27.382385\n",
       "300287          10  13.664564\n",
       "\n",
       "[145465 rows x 2 columns]"
      ]
     },
     "execution_count": 35,
     "metadata": {},
     "output_type": "execute_result"
    }
   ],
   "source": [
    "pd.merge(pd.DataFrame(y_test), pd.DataFrame(predictions), left_index=True, right_index=True)    "
   ]
  },
  {
   "cell_type": "markdown",
   "metadata": {},
   "source": [
    "Avaliação do Modelo"
   ]
  },
  {
   "cell_type": "code",
   "execution_count": 36,
   "metadata": {},
   "outputs": [
    {
     "name": "stdout",
     "output_type": "stream",
     "text": [
      "MAE: 11.157481917784521\n",
      "MSE: 192.56142559975703\n",
      "RMSE: 13.876650373910739\n"
     ]
    }
   ],
   "source": [
    "print('MAE:', metrics.mean_absolute_error(y_test, predictions))\n",
    "print('MSE:', metrics.mean_squared_error(y_test, predictions))\n",
    "print('RMSE:', np.sqrt(metrics.mean_squared_error(y_test, predictions)))"
   ]
  },
  {
   "cell_type": "markdown",
   "metadata": {},
   "source": [
    "### Problema de Classificação\n",
    "\n",
    "Uma outra forma de resolver este problema de previsão da popularidade de uma música consiste em transformar a feature 'popularity', target do nosso problema, numa feature discreta, dividindo a gama de valores contínuos (0 a 100) numa série de bins, ou seja intervalos de popularidade. Por exemplo, para 10 bins, o objetivo passaria a ser o de prever qual o nível de popularidade de uma música (Nível 0 - 0..10, Nível 1 - 10..20, etc)"
   ]
  },
  {
   "cell_type": "markdown",
   "metadata": {},
   "source": [
    "Vamos então transformar a feature 'popularity' numa feature discreta, recorrendo à funcionalidade KBinsDiscretizer do módulo Sci-kit learn.\n",
    "Este módulo permite realizar binning de duas estratégias diferentes:"
   ]
  },
  {
   "cell_type": "markdown",
   "metadata": {},
   "source": [
    "- ‘uniform’: All bins in each feature have identical widths.\n",
    "\n",
    "- ‘quantile’: All bins in each feature have the same number of points."
   ]
  },
  {
   "cell_type": "code",
   "execution_count": 37,
   "metadata": {},
   "outputs": [
    {
     "data": {
      "text/html": [
       "<div>\n",
       "<style scoped>\n",
       "    .dataframe tbody tr th:only-of-type {\n",
       "        vertical-align: middle;\n",
       "    }\n",
       "\n",
       "    .dataframe tbody tr th {\n",
       "        vertical-align: top;\n",
       "    }\n",
       "\n",
       "    .dataframe thead th {\n",
       "        text-align: right;\n",
       "    }\n",
       "</style>\n",
       "<table border=\"1\" class=\"dataframe\">\n",
       "  <thead>\n",
       "    <tr style=\"text-align: right;\">\n",
       "      <th></th>\n",
       "      <th>artist_name</th>\n",
       "      <th>year</th>\n",
       "      <th>genre</th>\n",
       "      <th>danceability</th>\n",
       "      <th>energy</th>\n",
       "      <th>key</th>\n",
       "      <th>loudness</th>\n",
       "      <th>mode</th>\n",
       "      <th>speechiness</th>\n",
       "      <th>acousticness</th>\n",
       "      <th>instrumentalness</th>\n",
       "      <th>liveness</th>\n",
       "      <th>valence</th>\n",
       "      <th>tempo</th>\n",
       "      <th>duration_ms</th>\n",
       "      <th>time_signature</th>\n",
       "      <th>popularity_binned</th>\n",
       "    </tr>\n",
       "  </thead>\n",
       "  <tbody>\n",
       "    <tr>\n",
       "      <th>0</th>\n",
       "      <td>Jason Mraz</td>\n",
       "      <td>2012</td>\n",
       "      <td>acoustic</td>\n",
       "      <td>0.483</td>\n",
       "      <td>0.303</td>\n",
       "      <td>4</td>\n",
       "      <td>-10.058</td>\n",
       "      <td>1</td>\n",
       "      <td>0.0429</td>\n",
       "      <td>0.6940</td>\n",
       "      <td>0.000000</td>\n",
       "      <td>0.1150</td>\n",
       "      <td>0.1390</td>\n",
       "      <td>133.406</td>\n",
       "      <td>240166</td>\n",
       "      <td>3</td>\n",
       "      <td>4.0</td>\n",
       "    </tr>\n",
       "    <tr>\n",
       "      <th>1</th>\n",
       "      <td>Jason Mraz</td>\n",
       "      <td>2012</td>\n",
       "      <td>acoustic</td>\n",
       "      <td>0.572</td>\n",
       "      <td>0.454</td>\n",
       "      <td>3</td>\n",
       "      <td>-10.286</td>\n",
       "      <td>1</td>\n",
       "      <td>0.0258</td>\n",
       "      <td>0.4770</td>\n",
       "      <td>0.000014</td>\n",
       "      <td>0.0974</td>\n",
       "      <td>0.5150</td>\n",
       "      <td>140.182</td>\n",
       "      <td>216387</td>\n",
       "      <td>4</td>\n",
       "      <td>4.0</td>\n",
       "    </tr>\n",
       "    <tr>\n",
       "      <th>2</th>\n",
       "      <td>Joshua Hyslop</td>\n",
       "      <td>2012</td>\n",
       "      <td>acoustic</td>\n",
       "      <td>0.409</td>\n",
       "      <td>0.234</td>\n",
       "      <td>3</td>\n",
       "      <td>-13.711</td>\n",
       "      <td>1</td>\n",
       "      <td>0.0323</td>\n",
       "      <td>0.3380</td>\n",
       "      <td>0.000050</td>\n",
       "      <td>0.0895</td>\n",
       "      <td>0.1450</td>\n",
       "      <td>139.832</td>\n",
       "      <td>158960</td>\n",
       "      <td>4</td>\n",
       "      <td>4.0</td>\n",
       "    </tr>\n",
       "    <tr>\n",
       "      <th>3</th>\n",
       "      <td>Boyce Avenue</td>\n",
       "      <td>2012</td>\n",
       "      <td>acoustic</td>\n",
       "      <td>0.392</td>\n",
       "      <td>0.251</td>\n",
       "      <td>10</td>\n",
       "      <td>-9.845</td>\n",
       "      <td>1</td>\n",
       "      <td>0.0363</td>\n",
       "      <td>0.8070</td>\n",
       "      <td>0.000000</td>\n",
       "      <td>0.0797</td>\n",
       "      <td>0.5080</td>\n",
       "      <td>204.961</td>\n",
       "      <td>304293</td>\n",
       "      <td>4</td>\n",
       "      <td>4.0</td>\n",
       "    </tr>\n",
       "    <tr>\n",
       "      <th>4</th>\n",
       "      <td>Andrew Belle</td>\n",
       "      <td>2012</td>\n",
       "      <td>acoustic</td>\n",
       "      <td>0.430</td>\n",
       "      <td>0.791</td>\n",
       "      <td>6</td>\n",
       "      <td>-5.419</td>\n",
       "      <td>0</td>\n",
       "      <td>0.0302</td>\n",
       "      <td>0.0726</td>\n",
       "      <td>0.019300</td>\n",
       "      <td>0.1100</td>\n",
       "      <td>0.2170</td>\n",
       "      <td>171.864</td>\n",
       "      <td>244320</td>\n",
       "      <td>4</td>\n",
       "      <td>4.0</td>\n",
       "    </tr>\n",
       "    <tr>\n",
       "      <th>...</th>\n",
       "      <td>...</td>\n",
       "      <td>...</td>\n",
       "      <td>...</td>\n",
       "      <td>...</td>\n",
       "      <td>...</td>\n",
       "      <td>...</td>\n",
       "      <td>...</td>\n",
       "      <td>...</td>\n",
       "      <td>...</td>\n",
       "      <td>...</td>\n",
       "      <td>...</td>\n",
       "      <td>...</td>\n",
       "      <td>...</td>\n",
       "      <td>...</td>\n",
       "      <td>...</td>\n",
       "      <td>...</td>\n",
       "      <td>...</td>\n",
       "    </tr>\n",
       "    <tr>\n",
       "      <th>1159759</th>\n",
       "      <td>Nicola Conte</td>\n",
       "      <td>2011</td>\n",
       "      <td>trip-hop</td>\n",
       "      <td>0.373</td>\n",
       "      <td>0.742</td>\n",
       "      <td>10</td>\n",
       "      <td>-6.453</td>\n",
       "      <td>0</td>\n",
       "      <td>0.0736</td>\n",
       "      <td>0.3250</td>\n",
       "      <td>0.000141</td>\n",
       "      <td>0.1590</td>\n",
       "      <td>0.5220</td>\n",
       "      <td>107.951</td>\n",
       "      <td>344013</td>\n",
       "      <td>3</td>\n",
       "      <td>1.0</td>\n",
       "    </tr>\n",
       "    <tr>\n",
       "      <th>1159760</th>\n",
       "      <td>Nicola Conte</td>\n",
       "      <td>2011</td>\n",
       "      <td>trip-hop</td>\n",
       "      <td>0.516</td>\n",
       "      <td>0.675</td>\n",
       "      <td>7</td>\n",
       "      <td>-7.588</td>\n",
       "      <td>0</td>\n",
       "      <td>0.0326</td>\n",
       "      <td>0.7880</td>\n",
       "      <td>0.000129</td>\n",
       "      <td>0.1300</td>\n",
       "      <td>0.2640</td>\n",
       "      <td>119.897</td>\n",
       "      <td>285067</td>\n",
       "      <td>4</td>\n",
       "      <td>1.0</td>\n",
       "    </tr>\n",
       "    <tr>\n",
       "      <th>1159761</th>\n",
       "      <td>Amon Tobin</td>\n",
       "      <td>2011</td>\n",
       "      <td>trip-hop</td>\n",
       "      <td>0.491</td>\n",
       "      <td>0.440</td>\n",
       "      <td>5</td>\n",
       "      <td>-8.512</td>\n",
       "      <td>1</td>\n",
       "      <td>0.0274</td>\n",
       "      <td>0.4770</td>\n",
       "      <td>0.003130</td>\n",
       "      <td>0.0936</td>\n",
       "      <td>0.0351</td>\n",
       "      <td>100.076</td>\n",
       "      <td>214253</td>\n",
       "      <td>4</td>\n",
       "      <td>0.0</td>\n",
       "    </tr>\n",
       "    <tr>\n",
       "      <th>1159762</th>\n",
       "      <td>Peace Orchestra</td>\n",
       "      <td>2011</td>\n",
       "      <td>trip-hop</td>\n",
       "      <td>0.480</td>\n",
       "      <td>0.405</td>\n",
       "      <td>0</td>\n",
       "      <td>-13.343</td>\n",
       "      <td>1</td>\n",
       "      <td>0.0276</td>\n",
       "      <td>0.4310</td>\n",
       "      <td>0.000063</td>\n",
       "      <td>0.1250</td>\n",
       "      <td>0.2020</td>\n",
       "      <td>133.885</td>\n",
       "      <td>239133</td>\n",
       "      <td>3</td>\n",
       "      <td>0.0</td>\n",
       "    </tr>\n",
       "    <tr>\n",
       "      <th>1159763</th>\n",
       "      <td>Mo' Horizons</td>\n",
       "      <td>2011</td>\n",
       "      <td>trip-hop</td>\n",
       "      <td>0.782</td>\n",
       "      <td>0.861</td>\n",
       "      <td>1</td>\n",
       "      <td>-7.292</td>\n",
       "      <td>0</td>\n",
       "      <td>0.1250</td>\n",
       "      <td>0.2200</td>\n",
       "      <td>0.000008</td>\n",
       "      <td>0.0581</td>\n",
       "      <td>0.8570</td>\n",
       "      <td>89.987</td>\n",
       "      <td>212227</td>\n",
       "      <td>4</td>\n",
       "      <td>1.0</td>\n",
       "    </tr>\n",
       "  </tbody>\n",
       "</table>\n",
       "<p>1159764 rows × 17 columns</p>\n",
       "</div>"
      ],
      "text/plain": [
       "             artist_name  year     genre  danceability  energy  key  loudness  \\\n",
       "0             Jason Mraz  2012  acoustic         0.483   0.303    4   -10.058   \n",
       "1             Jason Mraz  2012  acoustic         0.572   0.454    3   -10.286   \n",
       "2          Joshua Hyslop  2012  acoustic         0.409   0.234    3   -13.711   \n",
       "3           Boyce Avenue  2012  acoustic         0.392   0.251   10    -9.845   \n",
       "4           Andrew Belle  2012  acoustic         0.430   0.791    6    -5.419   \n",
       "...                  ...   ...       ...           ...     ...  ...       ...   \n",
       "1159759     Nicola Conte  2011  trip-hop         0.373   0.742   10    -6.453   \n",
       "1159760     Nicola Conte  2011  trip-hop         0.516   0.675    7    -7.588   \n",
       "1159761       Amon Tobin  2011  trip-hop         0.491   0.440    5    -8.512   \n",
       "1159762  Peace Orchestra  2011  trip-hop         0.480   0.405    0   -13.343   \n",
       "1159763     Mo' Horizons  2011  trip-hop         0.782   0.861    1    -7.292   \n",
       "\n",
       "         mode  speechiness  acousticness  instrumentalness  liveness  valence  \\\n",
       "0           1       0.0429        0.6940          0.000000    0.1150   0.1390   \n",
       "1           1       0.0258        0.4770          0.000014    0.0974   0.5150   \n",
       "2           1       0.0323        0.3380          0.000050    0.0895   0.1450   \n",
       "3           1       0.0363        0.8070          0.000000    0.0797   0.5080   \n",
       "4           0       0.0302        0.0726          0.019300    0.1100   0.2170   \n",
       "...       ...          ...           ...               ...       ...      ...   \n",
       "1159759     0       0.0736        0.3250          0.000141    0.1590   0.5220   \n",
       "1159760     0       0.0326        0.7880          0.000129    0.1300   0.2640   \n",
       "1159761     1       0.0274        0.4770          0.003130    0.0936   0.0351   \n",
       "1159762     1       0.0276        0.4310          0.000063    0.1250   0.2020   \n",
       "1159763     0       0.1250        0.2200          0.000008    0.0581   0.8570   \n",
       "\n",
       "           tempo  duration_ms  time_signature  popularity_binned  \n",
       "0        133.406       240166               3                4.0  \n",
       "1        140.182       216387               4                4.0  \n",
       "2        139.832       158960               4                4.0  \n",
       "3        204.961       304293               4                4.0  \n",
       "4        171.864       244320               4                4.0  \n",
       "...          ...          ...             ...                ...  \n",
       "1159759  107.951       344013               3                1.0  \n",
       "1159760  119.897       285067               4                1.0  \n",
       "1159761  100.076       214253               4                0.0  \n",
       "1159762  133.885       239133               3                0.0  \n",
       "1159763   89.987       212227               4                1.0  \n",
       "\n",
       "[1159764 rows x 17 columns]"
      ]
     },
     "execution_count": 37,
     "metadata": {},
     "output_type": "execute_result"
    }
   ],
   "source": [
    "estimator = preprocessing.KBinsDiscretizer(n_bins=5, encode='ordinal', strategy='quantile')\n",
    "data['popularity_binned'] = estimator.fit_transform(data[['popularity']])\n",
    "data['popularity_binned'].value_counts()\n",
    "data.drop(['popularity'], axis=1)"
   ]
  },
  {
   "cell_type": "markdown",
   "metadata": {},
   "source": [
    "### Modelo de Árvores de Decisão"
   ]
  },
  {
   "cell_type": "markdown",
   "metadata": {},
   "source": [
    "Vamos agora criar um modelo de árvores de decisão para prever o intervalo de popularidade de uma música."
   ]
  },
  {
   "cell_type": "code",
   "execution_count": 38,
   "metadata": {},
   "outputs": [],
   "source": [
    "classifier = DecisionTreeClassifier(random_state=2023)"
   ]
  },
  {
   "cell_type": "markdown",
   "metadata": {},
   "source": [
    "Before training the model, we must assure that all features are non categorical."
   ]
  },
  {
   "cell_type": "code",
   "execution_count": 39,
   "metadata": {},
   "outputs": [
    {
     "data": {
      "text/html": [
       "<div>\n",
       "<style scoped>\n",
       "    .dataframe tbody tr th:only-of-type {\n",
       "        vertical-align: middle;\n",
       "    }\n",
       "\n",
       "    .dataframe tbody tr th {\n",
       "        vertical-align: top;\n",
       "    }\n",
       "\n",
       "    .dataframe thead th {\n",
       "        text-align: right;\n",
       "    }\n",
       "</style>\n",
       "<table border=\"1\" class=\"dataframe\">\n",
       "  <thead>\n",
       "    <tr style=\"text-align: right;\">\n",
       "      <th></th>\n",
       "      <th>artist_name</th>\n",
       "      <th>popularity</th>\n",
       "      <th>year</th>\n",
       "      <th>genre</th>\n",
       "      <th>danceability</th>\n",
       "      <th>energy</th>\n",
       "      <th>key</th>\n",
       "      <th>loudness</th>\n",
       "      <th>mode</th>\n",
       "      <th>speechiness</th>\n",
       "      <th>acousticness</th>\n",
       "      <th>instrumentalness</th>\n",
       "      <th>liveness</th>\n",
       "      <th>valence</th>\n",
       "      <th>tempo</th>\n",
       "      <th>duration_ms</th>\n",
       "      <th>time_signature</th>\n",
       "      <th>popularity_binned</th>\n",
       "    </tr>\n",
       "  </thead>\n",
       "  <tbody>\n",
       "    <tr>\n",
       "      <th>0</th>\n",
       "      <td>26235</td>\n",
       "      <td>68</td>\n",
       "      <td>2012</td>\n",
       "      <td>0</td>\n",
       "      <td>0.483</td>\n",
       "      <td>0.303</td>\n",
       "      <td>4</td>\n",
       "      <td>-10.058</td>\n",
       "      <td>1</td>\n",
       "      <td>0.0429</td>\n",
       "      <td>0.6940</td>\n",
       "      <td>0.000000</td>\n",
       "      <td>0.1150</td>\n",
       "      <td>0.1390</td>\n",
       "      <td>133.406</td>\n",
       "      <td>240166</td>\n",
       "      <td>3</td>\n",
       "      <td>4.0</td>\n",
       "    </tr>\n",
       "    <tr>\n",
       "      <th>1</th>\n",
       "      <td>26235</td>\n",
       "      <td>50</td>\n",
       "      <td>2012</td>\n",
       "      <td>0</td>\n",
       "      <td>0.572</td>\n",
       "      <td>0.454</td>\n",
       "      <td>3</td>\n",
       "      <td>-10.286</td>\n",
       "      <td>1</td>\n",
       "      <td>0.0258</td>\n",
       "      <td>0.4770</td>\n",
       "      <td>0.000014</td>\n",
       "      <td>0.0974</td>\n",
       "      <td>0.5150</td>\n",
       "      <td>140.182</td>\n",
       "      <td>216387</td>\n",
       "      <td>4</td>\n",
       "      <td>4.0</td>\n",
       "    </tr>\n",
       "    <tr>\n",
       "      <th>2</th>\n",
       "      <td>28122</td>\n",
       "      <td>57</td>\n",
       "      <td>2012</td>\n",
       "      <td>0</td>\n",
       "      <td>0.409</td>\n",
       "      <td>0.234</td>\n",
       "      <td>3</td>\n",
       "      <td>-13.711</td>\n",
       "      <td>1</td>\n",
       "      <td>0.0323</td>\n",
       "      <td>0.3380</td>\n",
       "      <td>0.000050</td>\n",
       "      <td>0.0895</td>\n",
       "      <td>0.1450</td>\n",
       "      <td>139.832</td>\n",
       "      <td>158960</td>\n",
       "      <td>4</td>\n",
       "      <td>4.0</td>\n",
       "    </tr>\n",
       "    <tr>\n",
       "      <th>3</th>\n",
       "      <td>7629</td>\n",
       "      <td>58</td>\n",
       "      <td>2012</td>\n",
       "      <td>0</td>\n",
       "      <td>0.392</td>\n",
       "      <td>0.251</td>\n",
       "      <td>10</td>\n",
       "      <td>-9.845</td>\n",
       "      <td>1</td>\n",
       "      <td>0.0363</td>\n",
       "      <td>0.8070</td>\n",
       "      <td>0.000000</td>\n",
       "      <td>0.0797</td>\n",
       "      <td>0.5080</td>\n",
       "      <td>204.961</td>\n",
       "      <td>304293</td>\n",
       "      <td>4</td>\n",
       "      <td>4.0</td>\n",
       "    </tr>\n",
       "    <tr>\n",
       "      <th>4</th>\n",
       "      <td>3014</td>\n",
       "      <td>54</td>\n",
       "      <td>2012</td>\n",
       "      <td>0</td>\n",
       "      <td>0.430</td>\n",
       "      <td>0.791</td>\n",
       "      <td>6</td>\n",
       "      <td>-5.419</td>\n",
       "      <td>0</td>\n",
       "      <td>0.0302</td>\n",
       "      <td>0.0726</td>\n",
       "      <td>0.019300</td>\n",
       "      <td>0.1100</td>\n",
       "      <td>0.2170</td>\n",
       "      <td>171.864</td>\n",
       "      <td>244320</td>\n",
       "      <td>4</td>\n",
       "      <td>4.0</td>\n",
       "    </tr>\n",
       "    <tr>\n",
       "      <th>...</th>\n",
       "      <td>...</td>\n",
       "      <td>...</td>\n",
       "      <td>...</td>\n",
       "      <td>...</td>\n",
       "      <td>...</td>\n",
       "      <td>...</td>\n",
       "      <td>...</td>\n",
       "      <td>...</td>\n",
       "      <td>...</td>\n",
       "      <td>...</td>\n",
       "      <td>...</td>\n",
       "      <td>...</td>\n",
       "      <td>...</td>\n",
       "      <td>...</td>\n",
       "      <td>...</td>\n",
       "      <td>...</td>\n",
       "      <td>...</td>\n",
       "      <td>...</td>\n",
       "    </tr>\n",
       "    <tr>\n",
       "      <th>1159759</th>\n",
       "      <td>40236</td>\n",
       "      <td>4</td>\n",
       "      <td>2011</td>\n",
       "      <td>81</td>\n",
       "      <td>0.373</td>\n",
       "      <td>0.742</td>\n",
       "      <td>10</td>\n",
       "      <td>-6.453</td>\n",
       "      <td>0</td>\n",
       "      <td>0.0736</td>\n",
       "      <td>0.3250</td>\n",
       "      <td>0.000141</td>\n",
       "      <td>0.1590</td>\n",
       "      <td>0.5220</td>\n",
       "      <td>107.951</td>\n",
       "      <td>344013</td>\n",
       "      <td>3</td>\n",
       "      <td>1.0</td>\n",
       "    </tr>\n",
       "    <tr>\n",
       "      <th>1159760</th>\n",
       "      <td>40236</td>\n",
       "      <td>3</td>\n",
       "      <td>2011</td>\n",
       "      <td>81</td>\n",
       "      <td>0.516</td>\n",
       "      <td>0.675</td>\n",
       "      <td>7</td>\n",
       "      <td>-7.588</td>\n",
       "      <td>0</td>\n",
       "      <td>0.0326</td>\n",
       "      <td>0.7880</td>\n",
       "      <td>0.000129</td>\n",
       "      <td>0.1300</td>\n",
       "      <td>0.2640</td>\n",
       "      <td>119.897</td>\n",
       "      <td>285067</td>\n",
       "      <td>4</td>\n",
       "      <td>1.0</td>\n",
       "    </tr>\n",
       "    <tr>\n",
       "      <th>1159761</th>\n",
       "      <td>2723</td>\n",
       "      <td>2</td>\n",
       "      <td>2011</td>\n",
       "      <td>81</td>\n",
       "      <td>0.491</td>\n",
       "      <td>0.440</td>\n",
       "      <td>5</td>\n",
       "      <td>-8.512</td>\n",
       "      <td>1</td>\n",
       "      <td>0.0274</td>\n",
       "      <td>0.4770</td>\n",
       "      <td>0.003130</td>\n",
       "      <td>0.0936</td>\n",
       "      <td>0.0351</td>\n",
       "      <td>100.076</td>\n",
       "      <td>214253</td>\n",
       "      <td>4</td>\n",
       "      <td>0.0</td>\n",
       "    </tr>\n",
       "    <tr>\n",
       "      <th>1159762</th>\n",
       "      <td>43073</td>\n",
       "      <td>0</td>\n",
       "      <td>2011</td>\n",
       "      <td>81</td>\n",
       "      <td>0.480</td>\n",
       "      <td>0.405</td>\n",
       "      <td>0</td>\n",
       "      <td>-13.343</td>\n",
       "      <td>1</td>\n",
       "      <td>0.0276</td>\n",
       "      <td>0.4310</td>\n",
       "      <td>0.000063</td>\n",
       "      <td>0.1250</td>\n",
       "      <td>0.2020</td>\n",
       "      <td>133.885</td>\n",
       "      <td>239133</td>\n",
       "      <td>3</td>\n",
       "      <td>0.0</td>\n",
       "    </tr>\n",
       "    <tr>\n",
       "      <th>1159763</th>\n",
       "      <td>38141</td>\n",
       "      <td>3</td>\n",
       "      <td>2011</td>\n",
       "      <td>81</td>\n",
       "      <td>0.782</td>\n",
       "      <td>0.861</td>\n",
       "      <td>1</td>\n",
       "      <td>-7.292</td>\n",
       "      <td>0</td>\n",
       "      <td>0.1250</td>\n",
       "      <td>0.2200</td>\n",
       "      <td>0.000008</td>\n",
       "      <td>0.0581</td>\n",
       "      <td>0.8570</td>\n",
       "      <td>89.987</td>\n",
       "      <td>212227</td>\n",
       "      <td>4</td>\n",
       "      <td>1.0</td>\n",
       "    </tr>\n",
       "  </tbody>\n",
       "</table>\n",
       "<p>1159764 rows × 18 columns</p>\n",
       "</div>"
      ],
      "text/plain": [
       "         artist_name  popularity  year  genre  danceability  energy  key  \\\n",
       "0              26235          68  2012      0         0.483   0.303    4   \n",
       "1              26235          50  2012      0         0.572   0.454    3   \n",
       "2              28122          57  2012      0         0.409   0.234    3   \n",
       "3               7629          58  2012      0         0.392   0.251   10   \n",
       "4               3014          54  2012      0         0.430   0.791    6   \n",
       "...              ...         ...   ...    ...           ...     ...  ...   \n",
       "1159759        40236           4  2011     81         0.373   0.742   10   \n",
       "1159760        40236           3  2011     81         0.516   0.675    7   \n",
       "1159761         2723           2  2011     81         0.491   0.440    5   \n",
       "1159762        43073           0  2011     81         0.480   0.405    0   \n",
       "1159763        38141           3  2011     81         0.782   0.861    1   \n",
       "\n",
       "         loudness  mode  speechiness  acousticness  instrumentalness  \\\n",
       "0         -10.058     1       0.0429        0.6940          0.000000   \n",
       "1         -10.286     1       0.0258        0.4770          0.000014   \n",
       "2         -13.711     1       0.0323        0.3380          0.000050   \n",
       "3          -9.845     1       0.0363        0.8070          0.000000   \n",
       "4          -5.419     0       0.0302        0.0726          0.019300   \n",
       "...           ...   ...          ...           ...               ...   \n",
       "1159759    -6.453     0       0.0736        0.3250          0.000141   \n",
       "1159760    -7.588     0       0.0326        0.7880          0.000129   \n",
       "1159761    -8.512     1       0.0274        0.4770          0.003130   \n",
       "1159762   -13.343     1       0.0276        0.4310          0.000063   \n",
       "1159763    -7.292     0       0.1250        0.2200          0.000008   \n",
       "\n",
       "         liveness  valence    tempo  duration_ms  time_signature  \\\n",
       "0          0.1150   0.1390  133.406       240166               3   \n",
       "1          0.0974   0.5150  140.182       216387               4   \n",
       "2          0.0895   0.1450  139.832       158960               4   \n",
       "3          0.0797   0.5080  204.961       304293               4   \n",
       "4          0.1100   0.2170  171.864       244320               4   \n",
       "...           ...      ...      ...          ...             ...   \n",
       "1159759    0.1590   0.5220  107.951       344013               3   \n",
       "1159760    0.1300   0.2640  119.897       285067               4   \n",
       "1159761    0.0936   0.0351  100.076       214253               4   \n",
       "1159762    0.1250   0.2020  133.885       239133               3   \n",
       "1159763    0.0581   0.8570   89.987       212227               4   \n",
       "\n",
       "         popularity_binned  \n",
       "0                      4.0  \n",
       "1                      4.0  \n",
       "2                      4.0  \n",
       "3                      4.0  \n",
       "4                      4.0  \n",
       "...                    ...  \n",
       "1159759                1.0  \n",
       "1159760                1.0  \n",
       "1159761                0.0  \n",
       "1159762                0.0  \n",
       "1159763                1.0  \n",
       "\n",
       "[1159764 rows x 18 columns]"
      ]
     },
     "execution_count": 39,
     "metadata": {},
     "output_type": "execute_result"
    }
   ],
   "source": [
    "continous_features = data.copy()\n",
    "lb_make = LabelEncoder()\n",
    "continous_features['artist_name'] = lb_make.fit_transform(continous_features['artist_name'])\n",
    "continous_features['genre'] = lb_make.fit_transform(continous_features['genre'])\n",
    "continous_features"
   ]
  },
  {
   "cell_type": "code",
   "execution_count": 40,
   "metadata": {},
   "outputs": [],
   "source": [
    "X_dt = continous_features.drop(['popularity', 'popularity_binned'], axis=1)\n",
    "y_dt = continous_features['popularity_binned'].to_frame()"
   ]
  },
  {
   "cell_type": "code",
   "execution_count": 41,
   "metadata": {},
   "outputs": [],
   "source": [
    "X_train, X_test, y_train, y_test = train_test_split(X_dt, y_dt, test_size=0.25, random_state=101)"
   ]
  },
  {
   "cell_type": "code",
   "execution_count": 42,
   "metadata": {},
   "outputs": [
    {
     "data": {
      "text/html": [
       "<style>#sk-container-id-4 {color: black;}#sk-container-id-4 pre{padding: 0;}#sk-container-id-4 div.sk-toggleable {background-color: white;}#sk-container-id-4 label.sk-toggleable__label {cursor: pointer;display: block;width: 100%;margin-bottom: 0;padding: 0.3em;box-sizing: border-box;text-align: center;}#sk-container-id-4 label.sk-toggleable__label-arrow:before {content: \"▸\";float: left;margin-right: 0.25em;color: #696969;}#sk-container-id-4 label.sk-toggleable__label-arrow:hover:before {color: black;}#sk-container-id-4 div.sk-estimator:hover label.sk-toggleable__label-arrow:before {color: black;}#sk-container-id-4 div.sk-toggleable__content {max-height: 0;max-width: 0;overflow: hidden;text-align: left;background-color: #f0f8ff;}#sk-container-id-4 div.sk-toggleable__content pre {margin: 0.2em;color: black;border-radius: 0.25em;background-color: #f0f8ff;}#sk-container-id-4 input.sk-toggleable__control:checked~div.sk-toggleable__content {max-height: 200px;max-width: 100%;overflow: auto;}#sk-container-id-4 input.sk-toggleable__control:checked~label.sk-toggleable__label-arrow:before {content: \"▾\";}#sk-container-id-4 div.sk-estimator input.sk-toggleable__control:checked~label.sk-toggleable__label {background-color: #d4ebff;}#sk-container-id-4 div.sk-label input.sk-toggleable__control:checked~label.sk-toggleable__label {background-color: #d4ebff;}#sk-container-id-4 input.sk-hidden--visually {border: 0;clip: rect(1px 1px 1px 1px);clip: rect(1px, 1px, 1px, 1px);height: 1px;margin: -1px;overflow: hidden;padding: 0;position: absolute;width: 1px;}#sk-container-id-4 div.sk-estimator {font-family: monospace;background-color: #f0f8ff;border: 1px dotted black;border-radius: 0.25em;box-sizing: border-box;margin-bottom: 0.5em;}#sk-container-id-4 div.sk-estimator:hover {background-color: #d4ebff;}#sk-container-id-4 div.sk-parallel-item::after {content: \"\";width: 100%;border-bottom: 1px solid gray;flex-grow: 1;}#sk-container-id-4 div.sk-label:hover label.sk-toggleable__label {background-color: #d4ebff;}#sk-container-id-4 div.sk-serial::before {content: \"\";position: absolute;border-left: 1px solid gray;box-sizing: border-box;top: 0;bottom: 0;left: 50%;z-index: 0;}#sk-container-id-4 div.sk-serial {display: flex;flex-direction: column;align-items: center;background-color: white;padding-right: 0.2em;padding-left: 0.2em;position: relative;}#sk-container-id-4 div.sk-item {position: relative;z-index: 1;}#sk-container-id-4 div.sk-parallel {display: flex;align-items: stretch;justify-content: center;background-color: white;position: relative;}#sk-container-id-4 div.sk-item::before, #sk-container-id-4 div.sk-parallel-item::before {content: \"\";position: absolute;border-left: 1px solid gray;box-sizing: border-box;top: 0;bottom: 0;left: 50%;z-index: -1;}#sk-container-id-4 div.sk-parallel-item {display: flex;flex-direction: column;z-index: 1;position: relative;background-color: white;}#sk-container-id-4 div.sk-parallel-item:first-child::after {align-self: flex-end;width: 50%;}#sk-container-id-4 div.sk-parallel-item:last-child::after {align-self: flex-start;width: 50%;}#sk-container-id-4 div.sk-parallel-item:only-child::after {width: 0;}#sk-container-id-4 div.sk-dashed-wrapped {border: 1px dashed gray;margin: 0 0.4em 0.5em 0.4em;box-sizing: border-box;padding-bottom: 0.4em;background-color: white;}#sk-container-id-4 div.sk-label label {font-family: monospace;font-weight: bold;display: inline-block;line-height: 1.2em;}#sk-container-id-4 div.sk-label-container {text-align: center;}#sk-container-id-4 div.sk-container {/* jupyter's `normalize.less` sets `[hidden] { display: none; }` but bootstrap.min.css set `[hidden] { display: none !important; }` so we also need the `!important` here to be able to override the default hidden behavior on the sphinx rendered scikit-learn.org. See: https://github.com/scikit-learn/scikit-learn/issues/21755 */display: inline-block !important;position: relative;}#sk-container-id-4 div.sk-text-repr-fallback {display: none;}</style><div id=\"sk-container-id-4\" class=\"sk-top-container\"><div class=\"sk-text-repr-fallback\"><pre>DecisionTreeClassifier(random_state=2023)</pre><b>In a Jupyter environment, please rerun this cell to show the HTML representation or trust the notebook. <br />On GitHub, the HTML representation is unable to render, please try loading this page with nbviewer.org.</b></div><div class=\"sk-container\" hidden><div class=\"sk-item\"><div class=\"sk-estimator sk-toggleable\"><input class=\"sk-toggleable__control sk-hidden--visually\" id=\"sk-estimator-id-4\" type=\"checkbox\" checked><label for=\"sk-estimator-id-4\" class=\"sk-toggleable__label sk-toggleable__label-arrow\">DecisionTreeClassifier</label><div class=\"sk-toggleable__content\"><pre>DecisionTreeClassifier(random_state=2023)</pre></div></div></div></div></div>"
      ],
      "text/plain": [
       "DecisionTreeClassifier(random_state=2023)"
      ]
     },
     "execution_count": 42,
     "metadata": {},
     "output_type": "execute_result"
    }
   ],
   "source": [
    "classifier.fit(X_train, y_train)"
   ]
  },
  {
   "cell_type": "code",
   "execution_count": 43,
   "metadata": {},
   "outputs": [
    {
     "data": {
      "text/plain": [
       "array([0., 4., 2., ..., 4., 0., 1.])"
      ]
     },
     "execution_count": 43,
     "metadata": {},
     "output_type": "execute_result"
    }
   ],
   "source": [
    "d_tree_predictions = classifier.predict(X_test)\n",
    "d_tree_predictions"
   ]
  },
  {
   "cell_type": "code",
   "execution_count": 44,
   "metadata": {},
   "outputs": [
    {
     "data": {
      "text/plain": [
       "0.4897548121859275"
      ]
     },
     "execution_count": 44,
     "metadata": {},
     "output_type": "execute_result"
    }
   ],
   "source": [
    "accuracy_score(y_test, d_tree_predictions)"
   ]
  },
  {
   "cell_type": "markdown",
   "metadata": {},
   "source": [
    "### Support Vector Machines"
   ]
  },
  {
   "cell_type": "code",
   "execution_count": 46,
   "metadata": {},
   "outputs": [
    {
     "name": "stderr",
     "output_type": "stream",
     "text": [
      "/home/jmartins9/miniconda3/envs/Teste/lib/python3.10/site-packages/sklearn/utils/validation.py:1184: DataConversionWarning: A column-vector y was passed when a 1d array was expected. Please change the shape of y to (n_samples, ), for example using ravel().\n",
      "  y = column_or_1d(y, warn=True)\n"
     ]
    }
   ],
   "source": [
    "from sklearn.svm import SVC\n",
    "from sklearn.metrics import classification_report\n",
    "\n",
    "model = SVC(random_state=2023)\n",
    "model.fit(X_train, y_train)"
   ]
  },
  {
   "cell_type": "code",
   "execution_count": null,
   "metadata": {},
   "outputs": [
    {
     "data": {
      "text/plain": [
       "0.4897548121859275"
      ]
     },
     "execution_count": 33,
     "metadata": {},
     "output_type": "execute_result"
    }
   ],
   "source": [
    "predictions = model.predict(X_test)"
   ]
  },
  {
   "cell_type": "code",
   "execution_count": null,
   "metadata": {},
   "outputs": [],
   "source": [
    "print(\"%0.2f accuracy\" % (accuracy_score(y_test, predictions)))"
   ]
  },
  {
   "cell_type": "code",
   "execution_count": null,
   "metadata": {},
   "outputs": [],
   "source": [
    "print(classification_report(y_test, predictions))"
   ]
  },
  {
   "cell_type": "markdown",
   "metadata": {},
   "source": [
    "### Grid Search"
   ]
  },
  {
   "cell_type": "code",
   "execution_count": null,
   "metadata": {},
   "outputs": [],
   "source": [
    "param_grid = {'C': [0.1, 1, 10, 100, 1000], 'gamma': [1, 0.1, 0.01, 0.001, 0.0001], 'kernel': ['rbf']}\n",
    "\n",
    "from sklearn.model_selection import GridSearchCV\n",
    "\n",
    "grid = GridSearchCV(SVC(random_state=2023), param_grid, refit=True, verbose=3)"
   ]
  },
  {
   "cell_type": "code",
   "execution_count": null,
   "metadata": {},
   "outputs": [],
   "source": [
    "grid.fit(X_train, y_train)"
   ]
  },
  {
   "cell_type": "code",
   "execution_count": null,
   "metadata": {},
   "outputs": [],
   "source": [
    "grid.best_params_"
   ]
  },
  {
   "cell_type": "code",
   "execution_count": null,
   "metadata": {},
   "outputs": [],
   "source": [
    "grid.best_estimator_"
   ]
  },
  {
   "cell_type": "code",
   "execution_count": null,
   "metadata": {},
   "outputs": [],
   "source": [
    "grid_predictions = grid.predict(X_test)\n",
    "print(classification_report(y_test, grid_predictions))"
   ]
  }
 ],
 "metadata": {
  "kernelspec": {
   "display_name": "firstCondaEnv",
   "language": "python",
   "name": "python3"
  },
  "language_info": {
   "codemirror_mode": {
    "name": "ipython",
    "version": 3
   },
   "file_extension": ".py",
   "mimetype": "text/x-python",
   "name": "python",
   "nbconvert_exporter": "python",
   "pygments_lexer": "ipython3",
   "version": "3.10.0"
  },
  "orig_nbformat": 4
 },
 "nbformat": 4,
 "nbformat_minor": 2
}
