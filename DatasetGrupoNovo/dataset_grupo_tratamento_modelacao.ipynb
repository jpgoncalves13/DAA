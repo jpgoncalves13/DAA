{
 "cells": [
  {
   "cell_type": "markdown",
   "metadata": {},
   "source": [
    "# Spotify 1 Million Tracks - Tratamento e Modelação"
   ]
  },
  {
   "cell_type": "markdown",
   "metadata": {},
   "source": [
    "### Importe das Bibliotecas"
   ]
  },
  {
   "cell_type": "code",
   "execution_count": 69,
   "metadata": {},
   "outputs": [],
   "source": [
    "import pandas as pd\n",
    "import numpy as np\n",
    "import matplotlib.pyplot as plt\n",
    "import seaborn as sns\n",
    "from xgboost import XGBRegressor\n",
    "from sklearn import preprocessing\n",
    "from sklearn.tree import DecisionTreeClassifier, DecisionTreeRegressor\n",
    "from sklearn.preprocessing import LabelEncoder, StandardScaler\n",
    "from sklearn.metrics import accuracy_score, precision_score, recall_score, roc_auc_score, roc_curve, r2_score, confusion_matrix,f1_score, classification_report\n",
    "from sklearn.linear_model import LinearRegression, TweedieRegressor\n",
    "from sklearn.ensemble import RandomForestRegressor\n",
    "from sklearn import metrics\n",
    "from sklearn.feature_selection import RFE\n",
    "from sklearn.model_selection import GridSearchCV, train_test_split, cross_val_score\n",
    "%matplotlib inline\n",
    "\n",
    "\n",
    "# Para visualizar os valores com cinco casas decimais\n",
    "# pd.set_option('display.float_format', lambda x: '%.5f' % x)"
   ]
  },
  {
   "cell_type": "markdown",
   "metadata": {},
   "source": [
    "## Tratamento dos Dados"
   ]
  },
  {
   "cell_type": "markdown",
   "metadata": {},
   "source": [
    "Carregar o dataset, previamente analisado"
   ]
  },
  {
   "cell_type": "code",
   "execution_count": 70,
   "metadata": {},
   "outputs": [
    {
     "data": {
      "text/html": [
       "<div>\n",
       "<style scoped>\n",
       "    .dataframe tbody tr th:only-of-type {\n",
       "        vertical-align: middle;\n",
       "    }\n",
       "\n",
       "    .dataframe tbody tr th {\n",
       "        vertical-align: top;\n",
       "    }\n",
       "\n",
       "    .dataframe thead th {\n",
       "        text-align: right;\n",
       "    }\n",
       "</style>\n",
       "<table border=\"1\" class=\"dataframe\">\n",
       "  <thead>\n",
       "    <tr style=\"text-align: right;\">\n",
       "      <th></th>\n",
       "      <th>acousticness</th>\n",
       "      <th>artists</th>\n",
       "      <th>danceability</th>\n",
       "      <th>duration_ms</th>\n",
       "      <th>energy</th>\n",
       "      <th>explicit</th>\n",
       "      <th>id</th>\n",
       "      <th>instrumentalness</th>\n",
       "      <th>key</th>\n",
       "      <th>liveness</th>\n",
       "      <th>loudness</th>\n",
       "      <th>mode</th>\n",
       "      <th>name</th>\n",
       "      <th>popularity</th>\n",
       "      <th>release_date</th>\n",
       "      <th>speechiness</th>\n",
       "      <th>tempo</th>\n",
       "      <th>valence</th>\n",
       "      <th>year</th>\n",
       "    </tr>\n",
       "  </thead>\n",
       "  <tbody>\n",
       "    <tr>\n",
       "      <th>0</th>\n",
       "      <td>0.995</td>\n",
       "      <td>['Carl Woitschach']</td>\n",
       "      <td>0.708</td>\n",
       "      <td>158648</td>\n",
       "      <td>0.1950</td>\n",
       "      <td>0</td>\n",
       "      <td>6KbQ3uYMLKb5jDxLF7wYDD</td>\n",
       "      <td>0.563</td>\n",
       "      <td>10</td>\n",
       "      <td>0.1510</td>\n",
       "      <td>-12.428</td>\n",
       "      <td>1</td>\n",
       "      <td>Singende Bataillone 1. Teil</td>\n",
       "      <td>0</td>\n",
       "      <td>1928</td>\n",
       "      <td>0.0506</td>\n",
       "      <td>118.469</td>\n",
       "      <td>0.7790</td>\n",
       "      <td>1928</td>\n",
       "    </tr>\n",
       "    <tr>\n",
       "      <th>1</th>\n",
       "      <td>0.994</td>\n",
       "      <td>['Robert Schumann', 'Vladimir Horowitz']</td>\n",
       "      <td>0.379</td>\n",
       "      <td>282133</td>\n",
       "      <td>0.0135</td>\n",
       "      <td>0</td>\n",
       "      <td>6KuQTIu1KoTTkLXKrwlLPV</td>\n",
       "      <td>0.901</td>\n",
       "      <td>8</td>\n",
       "      <td>0.0763</td>\n",
       "      <td>-28.454</td>\n",
       "      <td>1</td>\n",
       "      <td>Fantasiestücke, Op. 111: Più tosto lento</td>\n",
       "      <td>0</td>\n",
       "      <td>1928</td>\n",
       "      <td>0.0462</td>\n",
       "      <td>83.972</td>\n",
       "      <td>0.0767</td>\n",
       "      <td>1928</td>\n",
       "    </tr>\n",
       "    <tr>\n",
       "      <th>2</th>\n",
       "      <td>0.604</td>\n",
       "      <td>['Seweryn Goszczyński']</td>\n",
       "      <td>0.749</td>\n",
       "      <td>104300</td>\n",
       "      <td>0.2200</td>\n",
       "      <td>0</td>\n",
       "      <td>6L63VW0PibdM1HDSBoqnoM</td>\n",
       "      <td>0.000</td>\n",
       "      <td>5</td>\n",
       "      <td>0.1190</td>\n",
       "      <td>-19.924</td>\n",
       "      <td>0</td>\n",
       "      <td>Chapter 1.18 - Zamek kaniowski</td>\n",
       "      <td>0</td>\n",
       "      <td>1928</td>\n",
       "      <td>0.9290</td>\n",
       "      <td>107.177</td>\n",
       "      <td>0.8800</td>\n",
       "      <td>1928</td>\n",
       "    </tr>\n",
       "    <tr>\n",
       "      <th>3</th>\n",
       "      <td>0.995</td>\n",
       "      <td>['Francisco Canaro']</td>\n",
       "      <td>0.781</td>\n",
       "      <td>180760</td>\n",
       "      <td>0.1300</td>\n",
       "      <td>0</td>\n",
       "      <td>6M94FkXd15sOAOQYRnWPN8</td>\n",
       "      <td>0.887</td>\n",
       "      <td>1</td>\n",
       "      <td>0.1110</td>\n",
       "      <td>-14.734</td>\n",
       "      <td>0</td>\n",
       "      <td>Bebamos Juntos - Instrumental (Remasterizado)</td>\n",
       "      <td>0</td>\n",
       "      <td>1928-09-25</td>\n",
       "      <td>0.0926</td>\n",
       "      <td>108.003</td>\n",
       "      <td>0.7200</td>\n",
       "      <td>1928</td>\n",
       "    </tr>\n",
       "    <tr>\n",
       "      <th>4</th>\n",
       "      <td>0.990</td>\n",
       "      <td>['Frédéric Chopin', 'Vladimir Horowitz']</td>\n",
       "      <td>0.210</td>\n",
       "      <td>687733</td>\n",
       "      <td>0.2040</td>\n",
       "      <td>0</td>\n",
       "      <td>6N6tiFZ9vLTSOIxkj8qKrd</td>\n",
       "      <td>0.908</td>\n",
       "      <td>11</td>\n",
       "      <td>0.0980</td>\n",
       "      <td>-16.829</td>\n",
       "      <td>1</td>\n",
       "      <td>Polonaise-Fantaisie in A-Flat Major, Op. 61</td>\n",
       "      <td>1</td>\n",
       "      <td>1928</td>\n",
       "      <td>0.0424</td>\n",
       "      <td>62.149</td>\n",
       "      <td>0.0693</td>\n",
       "      <td>1928</td>\n",
       "    </tr>\n",
       "  </tbody>\n",
       "</table>\n",
       "</div>"
      ],
      "text/plain": [
       "   acousticness                                   artists  danceability  \\\n",
       "0         0.995                       ['Carl Woitschach']         0.708   \n",
       "1         0.994  ['Robert Schumann', 'Vladimir Horowitz']         0.379   \n",
       "2         0.604                   ['Seweryn Goszczyński']         0.749   \n",
       "3         0.995                      ['Francisco Canaro']         0.781   \n",
       "4         0.990  ['Frédéric Chopin', 'Vladimir Horowitz']         0.210   \n",
       "\n",
       "   duration_ms  energy  explicit                      id  instrumentalness  \\\n",
       "0       158648  0.1950         0  6KbQ3uYMLKb5jDxLF7wYDD             0.563   \n",
       "1       282133  0.0135         0  6KuQTIu1KoTTkLXKrwlLPV             0.901   \n",
       "2       104300  0.2200         0  6L63VW0PibdM1HDSBoqnoM             0.000   \n",
       "3       180760  0.1300         0  6M94FkXd15sOAOQYRnWPN8             0.887   \n",
       "4       687733  0.2040         0  6N6tiFZ9vLTSOIxkj8qKrd             0.908   \n",
       "\n",
       "   key  liveness  loudness  mode  \\\n",
       "0   10    0.1510   -12.428     1   \n",
       "1    8    0.0763   -28.454     1   \n",
       "2    5    0.1190   -19.924     0   \n",
       "3    1    0.1110   -14.734     0   \n",
       "4   11    0.0980   -16.829     1   \n",
       "\n",
       "                                            name  popularity release_date  \\\n",
       "0                    Singende Bataillone 1. Teil           0         1928   \n",
       "1       Fantasiestücke, Op. 111: Più tosto lento           0         1928   \n",
       "2                 Chapter 1.18 - Zamek kaniowski           0         1928   \n",
       "3  Bebamos Juntos - Instrumental (Remasterizado)           0   1928-09-25   \n",
       "4    Polonaise-Fantaisie in A-Flat Major, Op. 61           1         1928   \n",
       "\n",
       "   speechiness    tempo  valence  year  \n",
       "0       0.0506  118.469   0.7790  1928  \n",
       "1       0.0462   83.972   0.0767  1928  \n",
       "2       0.9290  107.177   0.8800  1928  \n",
       "3       0.0926  108.003   0.7200  1928  \n",
       "4       0.0424   62.149   0.0693  1928  "
      ]
     },
     "execution_count": 70,
     "metadata": {},
     "output_type": "execute_result"
    }
   ],
   "source": [
    "data = pd.read_csv('data.csv')\n",
    "data.head()"
   ]
  },
  {
   "cell_type": "markdown",
   "metadata": {},
   "source": [
    "Eliminar coluns irrelevantes:\n",
    "id e name"
   ]
  },
  {
   "cell_type": "code",
   "execution_count": 71,
   "metadata": {},
   "outputs": [
    {
     "data": {
      "text/html": [
       "<div>\n",
       "<style scoped>\n",
       "    .dataframe tbody tr th:only-of-type {\n",
       "        vertical-align: middle;\n",
       "    }\n",
       "\n",
       "    .dataframe tbody tr th {\n",
       "        vertical-align: top;\n",
       "    }\n",
       "\n",
       "    .dataframe thead th {\n",
       "        text-align: right;\n",
       "    }\n",
       "</style>\n",
       "<table border=\"1\" class=\"dataframe\">\n",
       "  <thead>\n",
       "    <tr style=\"text-align: right;\">\n",
       "      <th></th>\n",
       "      <th>acousticness</th>\n",
       "      <th>danceability</th>\n",
       "      <th>duration_ms</th>\n",
       "      <th>energy</th>\n",
       "      <th>explicit</th>\n",
       "      <th>instrumentalness</th>\n",
       "      <th>key</th>\n",
       "      <th>liveness</th>\n",
       "      <th>loudness</th>\n",
       "      <th>mode</th>\n",
       "      <th>popularity</th>\n",
       "      <th>speechiness</th>\n",
       "      <th>tempo</th>\n",
       "      <th>valence</th>\n",
       "      <th>year</th>\n",
       "    </tr>\n",
       "  </thead>\n",
       "  <tbody>\n",
       "    <tr>\n",
       "      <th>0</th>\n",
       "      <td>0.9950</td>\n",
       "      <td>0.708</td>\n",
       "      <td>158648</td>\n",
       "      <td>0.1950</td>\n",
       "      <td>0</td>\n",
       "      <td>0.563000</td>\n",
       "      <td>10</td>\n",
       "      <td>0.1510</td>\n",
       "      <td>-12.428</td>\n",
       "      <td>1</td>\n",
       "      <td>0</td>\n",
       "      <td>0.0506</td>\n",
       "      <td>118.469</td>\n",
       "      <td>0.7790</td>\n",
       "      <td>1928</td>\n",
       "    </tr>\n",
       "    <tr>\n",
       "      <th>1</th>\n",
       "      <td>0.9940</td>\n",
       "      <td>0.379</td>\n",
       "      <td>282133</td>\n",
       "      <td>0.0135</td>\n",
       "      <td>0</td>\n",
       "      <td>0.901000</td>\n",
       "      <td>8</td>\n",
       "      <td>0.0763</td>\n",
       "      <td>-28.454</td>\n",
       "      <td>1</td>\n",
       "      <td>0</td>\n",
       "      <td>0.0462</td>\n",
       "      <td>83.972</td>\n",
       "      <td>0.0767</td>\n",
       "      <td>1928</td>\n",
       "    </tr>\n",
       "    <tr>\n",
       "      <th>2</th>\n",
       "      <td>0.6040</td>\n",
       "      <td>0.749</td>\n",
       "      <td>104300</td>\n",
       "      <td>0.2200</td>\n",
       "      <td>0</td>\n",
       "      <td>0.000000</td>\n",
       "      <td>5</td>\n",
       "      <td>0.1190</td>\n",
       "      <td>-19.924</td>\n",
       "      <td>0</td>\n",
       "      <td>0</td>\n",
       "      <td>0.9290</td>\n",
       "      <td>107.177</td>\n",
       "      <td>0.8800</td>\n",
       "      <td>1928</td>\n",
       "    </tr>\n",
       "    <tr>\n",
       "      <th>3</th>\n",
       "      <td>0.9950</td>\n",
       "      <td>0.781</td>\n",
       "      <td>180760</td>\n",
       "      <td>0.1300</td>\n",
       "      <td>0</td>\n",
       "      <td>0.887000</td>\n",
       "      <td>1</td>\n",
       "      <td>0.1110</td>\n",
       "      <td>-14.734</td>\n",
       "      <td>0</td>\n",
       "      <td>0</td>\n",
       "      <td>0.0926</td>\n",
       "      <td>108.003</td>\n",
       "      <td>0.7200</td>\n",
       "      <td>1928</td>\n",
       "    </tr>\n",
       "    <tr>\n",
       "      <th>4</th>\n",
       "      <td>0.9900</td>\n",
       "      <td>0.210</td>\n",
       "      <td>687733</td>\n",
       "      <td>0.2040</td>\n",
       "      <td>0</td>\n",
       "      <td>0.908000</td>\n",
       "      <td>11</td>\n",
       "      <td>0.0980</td>\n",
       "      <td>-16.829</td>\n",
       "      <td>1</td>\n",
       "      <td>1</td>\n",
       "      <td>0.0424</td>\n",
       "      <td>62.149</td>\n",
       "      <td>0.0693</td>\n",
       "      <td>1928</td>\n",
       "    </tr>\n",
       "    <tr>\n",
       "      <th>...</th>\n",
       "      <td>...</td>\n",
       "      <td>...</td>\n",
       "      <td>...</td>\n",
       "      <td>...</td>\n",
       "      <td>...</td>\n",
       "      <td>...</td>\n",
       "      <td>...</td>\n",
       "      <td>...</td>\n",
       "      <td>...</td>\n",
       "      <td>...</td>\n",
       "      <td>...</td>\n",
       "      <td>...</td>\n",
       "      <td>...</td>\n",
       "      <td>...</td>\n",
       "      <td>...</td>\n",
       "    </tr>\n",
       "    <tr>\n",
       "      <th>169904</th>\n",
       "      <td>0.1730</td>\n",
       "      <td>0.875</td>\n",
       "      <td>163800</td>\n",
       "      <td>0.4430</td>\n",
       "      <td>1</td>\n",
       "      <td>0.000032</td>\n",
       "      <td>1</td>\n",
       "      <td>0.0891</td>\n",
       "      <td>-7.461</td>\n",
       "      <td>1</td>\n",
       "      <td>75</td>\n",
       "      <td>0.1430</td>\n",
       "      <td>100.012</td>\n",
       "      <td>0.3060</td>\n",
       "      <td>2020</td>\n",
       "    </tr>\n",
       "    <tr>\n",
       "      <th>169905</th>\n",
       "      <td>0.0167</td>\n",
       "      <td>0.719</td>\n",
       "      <td>167468</td>\n",
       "      <td>0.3850</td>\n",
       "      <td>0</td>\n",
       "      <td>0.031300</td>\n",
       "      <td>8</td>\n",
       "      <td>0.1110</td>\n",
       "      <td>-10.907</td>\n",
       "      <td>1</td>\n",
       "      <td>64</td>\n",
       "      <td>0.0403</td>\n",
       "      <td>128.000</td>\n",
       "      <td>0.2700</td>\n",
       "      <td>2020</td>\n",
       "    </tr>\n",
       "    <tr>\n",
       "      <th>169906</th>\n",
       "      <td>0.5380</td>\n",
       "      <td>0.514</td>\n",
       "      <td>180700</td>\n",
       "      <td>0.5390</td>\n",
       "      <td>0</td>\n",
       "      <td>0.002330</td>\n",
       "      <td>7</td>\n",
       "      <td>0.1080</td>\n",
       "      <td>-9.332</td>\n",
       "      <td>1</td>\n",
       "      <td>70</td>\n",
       "      <td>0.1050</td>\n",
       "      <td>123.700</td>\n",
       "      <td>0.1530</td>\n",
       "      <td>2020</td>\n",
       "    </tr>\n",
       "    <tr>\n",
       "      <th>169907</th>\n",
       "      <td>0.0714</td>\n",
       "      <td>0.646</td>\n",
       "      <td>167308</td>\n",
       "      <td>0.7610</td>\n",
       "      <td>0</td>\n",
       "      <td>0.000000</td>\n",
       "      <td>1</td>\n",
       "      <td>0.2220</td>\n",
       "      <td>-2.557</td>\n",
       "      <td>1</td>\n",
       "      <td>70</td>\n",
       "      <td>0.0385</td>\n",
       "      <td>129.916</td>\n",
       "      <td>0.4720</td>\n",
       "      <td>2020</td>\n",
       "    </tr>\n",
       "    <tr>\n",
       "      <th>169908</th>\n",
       "      <td>0.1090</td>\n",
       "      <td>0.512</td>\n",
       "      <td>214787</td>\n",
       "      <td>0.4280</td>\n",
       "      <td>0</td>\n",
       "      <td>0.000000</td>\n",
       "      <td>0</td>\n",
       "      <td>0.1050</td>\n",
       "      <td>-7.387</td>\n",
       "      <td>1</td>\n",
       "      <td>65</td>\n",
       "      <td>0.0271</td>\n",
       "      <td>80.588</td>\n",
       "      <td>0.3660</td>\n",
       "      <td>2020</td>\n",
       "    </tr>\n",
       "  </tbody>\n",
       "</table>\n",
       "<p>169909 rows × 15 columns</p>\n",
       "</div>"
      ],
      "text/plain": [
       "        acousticness  danceability  duration_ms  energy  explicit  \\\n",
       "0             0.9950         0.708       158648  0.1950         0   \n",
       "1             0.9940         0.379       282133  0.0135         0   \n",
       "2             0.6040         0.749       104300  0.2200         0   \n",
       "3             0.9950         0.781       180760  0.1300         0   \n",
       "4             0.9900         0.210       687733  0.2040         0   \n",
       "...              ...           ...          ...     ...       ...   \n",
       "169904        0.1730         0.875       163800  0.4430         1   \n",
       "169905        0.0167         0.719       167468  0.3850         0   \n",
       "169906        0.5380         0.514       180700  0.5390         0   \n",
       "169907        0.0714         0.646       167308  0.7610         0   \n",
       "169908        0.1090         0.512       214787  0.4280         0   \n",
       "\n",
       "        instrumentalness  key  liveness  loudness  mode  popularity  \\\n",
       "0               0.563000   10    0.1510   -12.428     1           0   \n",
       "1               0.901000    8    0.0763   -28.454     1           0   \n",
       "2               0.000000    5    0.1190   -19.924     0           0   \n",
       "3               0.887000    1    0.1110   -14.734     0           0   \n",
       "4               0.908000   11    0.0980   -16.829     1           1   \n",
       "...                  ...  ...       ...       ...   ...         ...   \n",
       "169904          0.000032    1    0.0891    -7.461     1          75   \n",
       "169905          0.031300    8    0.1110   -10.907     1          64   \n",
       "169906          0.002330    7    0.1080    -9.332     1          70   \n",
       "169907          0.000000    1    0.2220    -2.557     1          70   \n",
       "169908          0.000000    0    0.1050    -7.387     1          65   \n",
       "\n",
       "        speechiness    tempo  valence  year  \n",
       "0            0.0506  118.469   0.7790  1928  \n",
       "1            0.0462   83.972   0.0767  1928  \n",
       "2            0.9290  107.177   0.8800  1928  \n",
       "3            0.0926  108.003   0.7200  1928  \n",
       "4            0.0424   62.149   0.0693  1928  \n",
       "...             ...      ...      ...   ...  \n",
       "169904       0.1430  100.012   0.3060  2020  \n",
       "169905       0.0403  128.000   0.2700  2020  \n",
       "169906       0.1050  123.700   0.1530  2020  \n",
       "169907       0.0385  129.916   0.4720  2020  \n",
       "169908       0.0271   80.588   0.3660  2020  \n",
       "\n",
       "[169909 rows x 15 columns]"
      ]
     },
     "execution_count": 71,
     "metadata": {},
     "output_type": "execute_result"
    }
   ],
   "source": [
    "# Drop Id and Track Id columns\n",
    "data.drop(['id', 'name', 'artists', 'release_date'], axis=1, inplace=True, errors='ignore')\n",
    "data"
   ]
  },
  {
   "cell_type": "markdown",
   "metadata": {},
   "source": [
    "Remover duplicados"
   ]
  },
  {
   "cell_type": "code",
   "execution_count": 72,
   "metadata": {},
   "outputs": [
    {
     "data": {
      "text/html": [
       "<div>\n",
       "<style scoped>\n",
       "    .dataframe tbody tr th:only-of-type {\n",
       "        vertical-align: middle;\n",
       "    }\n",
       "\n",
       "    .dataframe tbody tr th {\n",
       "        vertical-align: top;\n",
       "    }\n",
       "\n",
       "    .dataframe thead th {\n",
       "        text-align: right;\n",
       "    }\n",
       "</style>\n",
       "<table border=\"1\" class=\"dataframe\">\n",
       "  <thead>\n",
       "    <tr style=\"text-align: right;\">\n",
       "      <th></th>\n",
       "      <th>acousticness</th>\n",
       "      <th>danceability</th>\n",
       "      <th>duration_ms</th>\n",
       "      <th>energy</th>\n",
       "      <th>explicit</th>\n",
       "      <th>instrumentalness</th>\n",
       "      <th>key</th>\n",
       "      <th>liveness</th>\n",
       "      <th>loudness</th>\n",
       "      <th>mode</th>\n",
       "      <th>popularity</th>\n",
       "      <th>speechiness</th>\n",
       "      <th>tempo</th>\n",
       "      <th>valence</th>\n",
       "      <th>year</th>\n",
       "    </tr>\n",
       "  </thead>\n",
       "  <tbody>\n",
       "    <tr>\n",
       "      <th>0</th>\n",
       "      <td>0.9950</td>\n",
       "      <td>0.708</td>\n",
       "      <td>158648</td>\n",
       "      <td>0.1950</td>\n",
       "      <td>0</td>\n",
       "      <td>0.563000</td>\n",
       "      <td>10</td>\n",
       "      <td>0.1510</td>\n",
       "      <td>-12.428</td>\n",
       "      <td>1</td>\n",
       "      <td>0</td>\n",
       "      <td>0.0506</td>\n",
       "      <td>118.469</td>\n",
       "      <td>0.7790</td>\n",
       "      <td>1928</td>\n",
       "    </tr>\n",
       "    <tr>\n",
       "      <th>1</th>\n",
       "      <td>0.9940</td>\n",
       "      <td>0.379</td>\n",
       "      <td>282133</td>\n",
       "      <td>0.0135</td>\n",
       "      <td>0</td>\n",
       "      <td>0.901000</td>\n",
       "      <td>8</td>\n",
       "      <td>0.0763</td>\n",
       "      <td>-28.454</td>\n",
       "      <td>1</td>\n",
       "      <td>0</td>\n",
       "      <td>0.0462</td>\n",
       "      <td>83.972</td>\n",
       "      <td>0.0767</td>\n",
       "      <td>1928</td>\n",
       "    </tr>\n",
       "    <tr>\n",
       "      <th>2</th>\n",
       "      <td>0.6040</td>\n",
       "      <td>0.749</td>\n",
       "      <td>104300</td>\n",
       "      <td>0.2200</td>\n",
       "      <td>0</td>\n",
       "      <td>0.000000</td>\n",
       "      <td>5</td>\n",
       "      <td>0.1190</td>\n",
       "      <td>-19.924</td>\n",
       "      <td>0</td>\n",
       "      <td>0</td>\n",
       "      <td>0.9290</td>\n",
       "      <td>107.177</td>\n",
       "      <td>0.8800</td>\n",
       "      <td>1928</td>\n",
       "    </tr>\n",
       "    <tr>\n",
       "      <th>3</th>\n",
       "      <td>0.9950</td>\n",
       "      <td>0.781</td>\n",
       "      <td>180760</td>\n",
       "      <td>0.1300</td>\n",
       "      <td>0</td>\n",
       "      <td>0.887000</td>\n",
       "      <td>1</td>\n",
       "      <td>0.1110</td>\n",
       "      <td>-14.734</td>\n",
       "      <td>0</td>\n",
       "      <td>0</td>\n",
       "      <td>0.0926</td>\n",
       "      <td>108.003</td>\n",
       "      <td>0.7200</td>\n",
       "      <td>1928</td>\n",
       "    </tr>\n",
       "    <tr>\n",
       "      <th>4</th>\n",
       "      <td>0.9900</td>\n",
       "      <td>0.210</td>\n",
       "      <td>687733</td>\n",
       "      <td>0.2040</td>\n",
       "      <td>0</td>\n",
       "      <td>0.908000</td>\n",
       "      <td>11</td>\n",
       "      <td>0.0980</td>\n",
       "      <td>-16.829</td>\n",
       "      <td>1</td>\n",
       "      <td>1</td>\n",
       "      <td>0.0424</td>\n",
       "      <td>62.149</td>\n",
       "      <td>0.0693</td>\n",
       "      <td>1928</td>\n",
       "    </tr>\n",
       "    <tr>\n",
       "      <th>...</th>\n",
       "      <td>...</td>\n",
       "      <td>...</td>\n",
       "      <td>...</td>\n",
       "      <td>...</td>\n",
       "      <td>...</td>\n",
       "      <td>...</td>\n",
       "      <td>...</td>\n",
       "      <td>...</td>\n",
       "      <td>...</td>\n",
       "      <td>...</td>\n",
       "      <td>...</td>\n",
       "      <td>...</td>\n",
       "      <td>...</td>\n",
       "      <td>...</td>\n",
       "      <td>...</td>\n",
       "    </tr>\n",
       "    <tr>\n",
       "      <th>169904</th>\n",
       "      <td>0.1730</td>\n",
       "      <td>0.875</td>\n",
       "      <td>163800</td>\n",
       "      <td>0.4430</td>\n",
       "      <td>1</td>\n",
       "      <td>0.000032</td>\n",
       "      <td>1</td>\n",
       "      <td>0.0891</td>\n",
       "      <td>-7.461</td>\n",
       "      <td>1</td>\n",
       "      <td>75</td>\n",
       "      <td>0.1430</td>\n",
       "      <td>100.012</td>\n",
       "      <td>0.3060</td>\n",
       "      <td>2020</td>\n",
       "    </tr>\n",
       "    <tr>\n",
       "      <th>169905</th>\n",
       "      <td>0.0167</td>\n",
       "      <td>0.719</td>\n",
       "      <td>167468</td>\n",
       "      <td>0.3850</td>\n",
       "      <td>0</td>\n",
       "      <td>0.031300</td>\n",
       "      <td>8</td>\n",
       "      <td>0.1110</td>\n",
       "      <td>-10.907</td>\n",
       "      <td>1</td>\n",
       "      <td>64</td>\n",
       "      <td>0.0403</td>\n",
       "      <td>128.000</td>\n",
       "      <td>0.2700</td>\n",
       "      <td>2020</td>\n",
       "    </tr>\n",
       "    <tr>\n",
       "      <th>169906</th>\n",
       "      <td>0.5380</td>\n",
       "      <td>0.514</td>\n",
       "      <td>180700</td>\n",
       "      <td>0.5390</td>\n",
       "      <td>0</td>\n",
       "      <td>0.002330</td>\n",
       "      <td>7</td>\n",
       "      <td>0.1080</td>\n",
       "      <td>-9.332</td>\n",
       "      <td>1</td>\n",
       "      <td>70</td>\n",
       "      <td>0.1050</td>\n",
       "      <td>123.700</td>\n",
       "      <td>0.1530</td>\n",
       "      <td>2020</td>\n",
       "    </tr>\n",
       "    <tr>\n",
       "      <th>169907</th>\n",
       "      <td>0.0714</td>\n",
       "      <td>0.646</td>\n",
       "      <td>167308</td>\n",
       "      <td>0.7610</td>\n",
       "      <td>0</td>\n",
       "      <td>0.000000</td>\n",
       "      <td>1</td>\n",
       "      <td>0.2220</td>\n",
       "      <td>-2.557</td>\n",
       "      <td>1</td>\n",
       "      <td>70</td>\n",
       "      <td>0.0385</td>\n",
       "      <td>129.916</td>\n",
       "      <td>0.4720</td>\n",
       "      <td>2020</td>\n",
       "    </tr>\n",
       "    <tr>\n",
       "      <th>169908</th>\n",
       "      <td>0.1090</td>\n",
       "      <td>0.512</td>\n",
       "      <td>214787</td>\n",
       "      <td>0.4280</td>\n",
       "      <td>0</td>\n",
       "      <td>0.000000</td>\n",
       "      <td>0</td>\n",
       "      <td>0.1050</td>\n",
       "      <td>-7.387</td>\n",
       "      <td>1</td>\n",
       "      <td>65</td>\n",
       "      <td>0.0271</td>\n",
       "      <td>80.588</td>\n",
       "      <td>0.3660</td>\n",
       "      <td>2020</td>\n",
       "    </tr>\n",
       "  </tbody>\n",
       "</table>\n",
       "<p>169112 rows × 15 columns</p>\n",
       "</div>"
      ],
      "text/plain": [
       "        acousticness  danceability  duration_ms  energy  explicit  \\\n",
       "0             0.9950         0.708       158648  0.1950         0   \n",
       "1             0.9940         0.379       282133  0.0135         0   \n",
       "2             0.6040         0.749       104300  0.2200         0   \n",
       "3             0.9950         0.781       180760  0.1300         0   \n",
       "4             0.9900         0.210       687733  0.2040         0   \n",
       "...              ...           ...          ...     ...       ...   \n",
       "169904        0.1730         0.875       163800  0.4430         1   \n",
       "169905        0.0167         0.719       167468  0.3850         0   \n",
       "169906        0.5380         0.514       180700  0.5390         0   \n",
       "169907        0.0714         0.646       167308  0.7610         0   \n",
       "169908        0.1090         0.512       214787  0.4280         0   \n",
       "\n",
       "        instrumentalness  key  liveness  loudness  mode  popularity  \\\n",
       "0               0.563000   10    0.1510   -12.428     1           0   \n",
       "1               0.901000    8    0.0763   -28.454     1           0   \n",
       "2               0.000000    5    0.1190   -19.924     0           0   \n",
       "3               0.887000    1    0.1110   -14.734     0           0   \n",
       "4               0.908000   11    0.0980   -16.829     1           1   \n",
       "...                  ...  ...       ...       ...   ...         ...   \n",
       "169904          0.000032    1    0.0891    -7.461     1          75   \n",
       "169905          0.031300    8    0.1110   -10.907     1          64   \n",
       "169906          0.002330    7    0.1080    -9.332     1          70   \n",
       "169907          0.000000    1    0.2220    -2.557     1          70   \n",
       "169908          0.000000    0    0.1050    -7.387     1          65   \n",
       "\n",
       "        speechiness    tempo  valence  year  \n",
       "0            0.0506  118.469   0.7790  1928  \n",
       "1            0.0462   83.972   0.0767  1928  \n",
       "2            0.9290  107.177   0.8800  1928  \n",
       "3            0.0926  108.003   0.7200  1928  \n",
       "4            0.0424   62.149   0.0693  1928  \n",
       "...             ...      ...      ...   ...  \n",
       "169904       0.1430  100.012   0.3060  2020  \n",
       "169905       0.0403  128.000   0.2700  2020  \n",
       "169906       0.1050  123.700   0.1530  2020  \n",
       "169907       0.0385  129.916   0.4720  2020  \n",
       "169908       0.0271   80.588   0.3660  2020  \n",
       "\n",
       "[169112 rows x 15 columns]"
      ]
     },
     "execution_count": 72,
     "metadata": {},
     "output_type": "execute_result"
    }
   ],
   "source": [
    "data.drop_duplicates(inplace=True)\n",
    "data"
   ]
  },
  {
   "cell_type": "markdown",
   "metadata": {},
   "source": [
    "Remover os registos com popularidade igual a 0 para termos uma melhor distribuição"
   ]
  },
  {
   "cell_type": "code",
   "execution_count": 73,
   "metadata": {},
   "outputs": [],
   "source": [
    "data = data[data['popularity'] > 0]"
   ]
  },
  {
   "cell_type": "markdown",
   "metadata": {},
   "source": [
    "Remover outliers por género"
   ]
  },
  {
   "cell_type": "code",
   "execution_count": 74,
   "metadata": {},
   "outputs": [
    {
     "data": {
      "text/plain": [
       "\"q3 = data.groupby(by=['genre']).quantile(0.75,numeric_only=True).sort_values(by='popularity', ascending=False)['popularity']\\nq1 = data.groupby(by=['genre']).quantile(0.25,numeric_only=True).sort_values(by='popularity', ascending=False)['popularity']\\n\\ndata_aux = data.merge(q1, left_on='genre', right_index=True, suffixes=('', '_q1'))\\ndata_aux = data_aux.merge(q3, left_on='genre', right_index=True, suffixes=('', '_q3'))\\ndata_aux['iqr'] = data_aux['popularity_q3'] - data_aux['popularity_q1']\\n\\n#data_aux\\n# Verificar os outliers\\nno_outliers = data_aux[(data_aux['popularity'] <= data_aux['popularity_q3'] + 1.5 * data_aux['iqr']) & (data_aux['popularity'] >= data_aux['popularity_q1'] - 1.5 * data_aux['iqr'])]\\nno_outliers.drop(['popularity_q1', 'popularity_q3', 'iqr'], axis=1, inplace=True)\\nno_outliers\""
      ]
     },
     "execution_count": 74,
     "metadata": {},
     "output_type": "execute_result"
    }
   ],
   "source": [
    "\"\"\"q3 = data.groupby(by=['genre']).quantile(0.75,numeric_only=True).sort_values(by='popularity', ascending=False)['popularity']\n",
    "q1 = data.groupby(by=['genre']).quantile(0.25,numeric_only=True).sort_values(by='popularity', ascending=False)['popularity']\n",
    "\n",
    "data_aux = data.merge(q1, left_on='genre', right_index=True, suffixes=('', '_q1'))\n",
    "data_aux = data_aux.merge(q3, left_on='genre', right_index=True, suffixes=('', '_q3'))\n",
    "data_aux['iqr'] = data_aux['popularity_q3'] - data_aux['popularity_q1']\n",
    "\n",
    "#data_aux\n",
    "# Verificar os outliers\n",
    "no_outliers = data_aux[(data_aux['popularity'] <= data_aux['popularity_q3'] + 1.5 * data_aux['iqr']) & (data_aux['popularity'] >= data_aux['popularity_q1'] - 1.5 * data_aux['iqr'])]\n",
    "no_outliers.drop(['popularity_q1', 'popularity_q3', 'iqr'], axis=1, inplace=True)\n",
    "no_outliers\"\"\""
   ]
  },
  {
   "cell_type": "markdown",
   "metadata": {},
   "source": [
    "Converter valores categóricos para valores contínuos"
   ]
  },
  {
   "cell_type": "code",
   "execution_count": 75,
   "metadata": {},
   "outputs": [
    {
     "data": {
      "text/plain": [
       "\"data_non_categorical = data.copy()\\nlb_make = LabelEncoder()\\ndata_non_categorical['artist_name'] = lb_make.fit_transform(data_non_categorical['artist_name'])\\ndata_non_categorical['genre'] = lb_make.fit_transform(data_non_categorical['genre'])\\ndata_non_categorical\""
      ]
     },
     "execution_count": 75,
     "metadata": {},
     "output_type": "execute_result"
    }
   ],
   "source": [
    "\"\"\"data_non_categorical = data.copy()\n",
    "lb_make = LabelEncoder()\n",
    "data_non_categorical['artist_name'] = lb_make.fit_transform(data_non_categorical['artist_name'])\n",
    "data_non_categorical['genre'] = lb_make.fit_transform(data_non_categorical['genre'])\n",
    "data_non_categorical\"\"\""
   ]
  },
  {
   "cell_type": "code",
   "execution_count": 76,
   "metadata": {},
   "outputs": [
    {
     "name": "stdout",
     "output_type": "stream",
     "text": [
      "<class 'pandas.core.frame.DataFrame'>\n",
      "Index: 142497 entries, 4 to 169908\n",
      "Data columns (total 15 columns):\n",
      " #   Column            Non-Null Count   Dtype  \n",
      "---  ------            --------------   -----  \n",
      " 0   acousticness      142497 non-null  float64\n",
      " 1   danceability      142497 non-null  float64\n",
      " 2   duration_ms       142497 non-null  int64  \n",
      " 3   energy            142497 non-null  float64\n",
      " 4   explicit          142497 non-null  int64  \n",
      " 5   instrumentalness  142497 non-null  float64\n",
      " 6   key               142497 non-null  int64  \n",
      " 7   liveness          142497 non-null  float64\n",
      " 8   loudness          142497 non-null  float64\n",
      " 9   mode              142497 non-null  int64  \n",
      " 10  popularity        142497 non-null  int64  \n",
      " 11  speechiness       142497 non-null  float64\n",
      " 12  tempo             142497 non-null  float64\n",
      " 13  valence           142497 non-null  float64\n",
      " 14  year              142497 non-null  int64  \n",
      "dtypes: float64(9), int64(6)\n",
      "memory usage: 17.4 MB\n"
     ]
    }
   ],
   "source": [
    "data.info()"
   ]
  },
  {
   "cell_type": "markdown",
   "metadata": {},
   "source": [
    "### Remoção de outliers"
   ]
  },
  {
   "cell_type": "markdown",
   "metadata": {},
   "source": [
    "Acousticness"
   ]
  },
  {
   "cell_type": "code",
   "execution_count": 77,
   "metadata": {},
   "outputs": [
    {
     "name": "stdout",
     "output_type": "stream",
     "text": [
      "-1.0015\n",
      "0\n",
      "1.8377\n",
      "0\n"
     ]
    }
   ],
   "source": [
    "q1 = data['acousticness'].quantile(0.25)\n",
    "q3 = data['acousticness'].quantile(0.75)\n",
    "\n",
    "print(q1 - 1.5 * (q3 - q1))\n",
    "print(data[data['acousticness'] <= q1 - 1.5 * (q3 - q1)].shape[0])\n",
    "print(q3 + 1.5 * (q3 - q1))\n",
    "print(data[data['acousticness'] >= q3 + 1.5 * (q3 - q1)].shape[0])\n",
    "\n",
    "no_outliers_acousticness = data[(data['acousticness'] <= q3 + 1.5 * (q3 - q1)) & (data['acousticness'] >= q1 - 1.5 * (q3 - q1))]"
   ]
  },
  {
   "cell_type": "markdown",
   "metadata": {},
   "source": [
    "Danceability"
   ]
  },
  {
   "cell_type": "code",
   "execution_count": 78,
   "metadata": {},
   "outputs": [
    {
     "name": "stdout",
     "output_type": "stream",
     "text": [
      "0.06699999999999989\n",
      "226\n",
      "1.0350000000000001\n",
      "0\n"
     ]
    }
   ],
   "source": [
    "q1 = no_outliers_acousticness['danceability'].quantile(0.25)\n",
    "q3 = no_outliers_acousticness['danceability'].quantile(0.75)\n",
    "\n",
    "print(q1 - 1.5 * (q3 - q1))\n",
    "print(no_outliers_acousticness[no_outliers_acousticness['danceability'] <= q1 - 1.5 * (q3 - q1)].shape[0])\n",
    "print(q3 + 1.5 * (q3 - q1))\n",
    "print(no_outliers_acousticness[no_outliers_acousticness['danceability'] >= q3 + 1.5 * (q3 - q1)].shape[0])\n",
    "\n",
    "no_outliers_danceability = no_outliers_acousticness[(no_outliers_acousticness['danceability'] <= q3 + 1.5 * (q3 - q1)) & (no_outliers_acousticness['danceability'] >= q1 - 1.5 * (q3 - q1))]"
   ]
  },
  {
   "cell_type": "markdown",
   "metadata": {},
   "source": [
    "Loudness"
   ]
  },
  {
   "cell_type": "code",
   "execution_count": 79,
   "metadata": {},
   "outputs": [
    {
     "name": "stdout",
     "output_type": "stream",
     "text": [
      "<class 'pandas.core.frame.DataFrame'>\n",
      "Index: 142271 entries, 4 to 169908\n",
      "Data columns (total 15 columns):\n",
      " #   Column            Non-Null Count   Dtype  \n",
      "---  ------            --------------   -----  \n",
      " 0   acousticness      142271 non-null  float64\n",
      " 1   danceability      142271 non-null  float64\n",
      " 2   duration_ms       142271 non-null  int64  \n",
      " 3   energy            142271 non-null  float64\n",
      " 4   explicit          142271 non-null  int64  \n",
      " 5   instrumentalness  142271 non-null  float64\n",
      " 6   key               142271 non-null  int64  \n",
      " 7   liveness          142271 non-null  float64\n",
      " 8   loudness          142271 non-null  float64\n",
      " 9   mode              142271 non-null  int64  \n",
      " 10  popularity        142271 non-null  int64  \n",
      " 11  speechiness       142271 non-null  float64\n",
      " 12  tempo             142271 non-null  float64\n",
      " 13  valence           142271 non-null  float64\n",
      " 14  year              142271 non-null  int64  \n",
      "dtypes: float64(9), int64(6)\n",
      "memory usage: 17.4 MB\n"
     ]
    }
   ],
   "source": [
    "no_outliers_danceability.info()"
   ]
  },
  {
   "cell_type": "code",
   "execution_count": 80,
   "metadata": {},
   "outputs": [
    {
     "name": "stdout",
     "output_type": "stream",
     "text": [
      "-23.493\n",
      "3647\n",
      "3.4429999999999987\n",
      "1\n"
     ]
    },
    {
     "data": {
      "text/html": [
       "<div>\n",
       "<style scoped>\n",
       "    .dataframe tbody tr th:only-of-type {\n",
       "        vertical-align: middle;\n",
       "    }\n",
       "\n",
       "    .dataframe tbody tr th {\n",
       "        vertical-align: top;\n",
       "    }\n",
       "\n",
       "    .dataframe thead th {\n",
       "        text-align: right;\n",
       "    }\n",
       "</style>\n",
       "<table border=\"1\" class=\"dataframe\">\n",
       "  <thead>\n",
       "    <tr style=\"text-align: right;\">\n",
       "      <th></th>\n",
       "      <th>acousticness</th>\n",
       "      <th>danceability</th>\n",
       "      <th>duration_ms</th>\n",
       "      <th>energy</th>\n",
       "      <th>explicit</th>\n",
       "      <th>instrumentalness</th>\n",
       "      <th>key</th>\n",
       "      <th>liveness</th>\n",
       "      <th>loudness</th>\n",
       "      <th>mode</th>\n",
       "      <th>popularity</th>\n",
       "      <th>speechiness</th>\n",
       "      <th>tempo</th>\n",
       "      <th>valence</th>\n",
       "      <th>year</th>\n",
       "    </tr>\n",
       "  </thead>\n",
       "  <tbody>\n",
       "    <tr>\n",
       "      <th>4</th>\n",
       "      <td>0.9900</td>\n",
       "      <td>0.210</td>\n",
       "      <td>687733</td>\n",
       "      <td>0.2040</td>\n",
       "      <td>0</td>\n",
       "      <td>0.908000</td>\n",
       "      <td>11</td>\n",
       "      <td>0.0980</td>\n",
       "      <td>-16.829</td>\n",
       "      <td>1</td>\n",
       "      <td>1</td>\n",
       "      <td>0.0424</td>\n",
       "      <td>62.149</td>\n",
       "      <td>0.0693</td>\n",
       "      <td>1928</td>\n",
       "    </tr>\n",
       "    <tr>\n",
       "      <th>11</th>\n",
       "      <td>0.9890</td>\n",
       "      <td>0.170</td>\n",
       "      <td>85133</td>\n",
       "      <td>0.0823</td>\n",
       "      <td>0</td>\n",
       "      <td>0.911000</td>\n",
       "      <td>10</td>\n",
       "      <td>0.0962</td>\n",
       "      <td>-30.107</td>\n",
       "      <td>0</td>\n",
       "      <td>1</td>\n",
       "      <td>0.0317</td>\n",
       "      <td>85.989</td>\n",
       "      <td>0.3460</td>\n",
       "      <td>1928</td>\n",
       "    </tr>\n",
       "    <tr>\n",
       "      <th>40</th>\n",
       "      <td>0.9770</td>\n",
       "      <td>0.305</td>\n",
       "      <td>215267</td>\n",
       "      <td>0.0830</td>\n",
       "      <td>0</td>\n",
       "      <td>0.697000</td>\n",
       "      <td>6</td>\n",
       "      <td>0.2310</td>\n",
       "      <td>-20.895</td>\n",
       "      <td>1</td>\n",
       "      <td>1</td>\n",
       "      <td>0.0331</td>\n",
       "      <td>80.622</td>\n",
       "      <td>0.0479</td>\n",
       "      <td>1928</td>\n",
       "    </tr>\n",
       "    <tr>\n",
       "      <th>42</th>\n",
       "      <td>0.9900</td>\n",
       "      <td>0.337</td>\n",
       "      <td>333907</td>\n",
       "      <td>0.0699</td>\n",
       "      <td>0</td>\n",
       "      <td>0.903000</td>\n",
       "      <td>5</td>\n",
       "      <td>0.1060</td>\n",
       "      <td>-23.806</td>\n",
       "      <td>0</td>\n",
       "      <td>2</td>\n",
       "      <td>0.0322</td>\n",
       "      <td>72.133</td>\n",
       "      <td>0.1350</td>\n",
       "      <td>1928</td>\n",
       "    </tr>\n",
       "    <tr>\n",
       "      <th>47</th>\n",
       "      <td>0.9850</td>\n",
       "      <td>0.355</td>\n",
       "      <td>138013</td>\n",
       "      <td>0.0452</td>\n",
       "      <td>0</td>\n",
       "      <td>0.825000</td>\n",
       "      <td>1</td>\n",
       "      <td>0.1530</td>\n",
       "      <td>-24.125</td>\n",
       "      <td>1</td>\n",
       "      <td>2</td>\n",
       "      <td>0.0329</td>\n",
       "      <td>84.551</td>\n",
       "      <td>0.2760</td>\n",
       "      <td>1928</td>\n",
       "    </tr>\n",
       "    <tr>\n",
       "      <th>...</th>\n",
       "      <td>...</td>\n",
       "      <td>...</td>\n",
       "      <td>...</td>\n",
       "      <td>...</td>\n",
       "      <td>...</td>\n",
       "      <td>...</td>\n",
       "      <td>...</td>\n",
       "      <td>...</td>\n",
       "      <td>...</td>\n",
       "      <td>...</td>\n",
       "      <td>...</td>\n",
       "      <td>...</td>\n",
       "      <td>...</td>\n",
       "      <td>...</td>\n",
       "      <td>...</td>\n",
       "    </tr>\n",
       "    <tr>\n",
       "      <th>169904</th>\n",
       "      <td>0.1730</td>\n",
       "      <td>0.875</td>\n",
       "      <td>163800</td>\n",
       "      <td>0.4430</td>\n",
       "      <td>1</td>\n",
       "      <td>0.000032</td>\n",
       "      <td>1</td>\n",
       "      <td>0.0891</td>\n",
       "      <td>-7.461</td>\n",
       "      <td>1</td>\n",
       "      <td>75</td>\n",
       "      <td>0.1430</td>\n",
       "      <td>100.012</td>\n",
       "      <td>0.3060</td>\n",
       "      <td>2020</td>\n",
       "    </tr>\n",
       "    <tr>\n",
       "      <th>169905</th>\n",
       "      <td>0.0167</td>\n",
       "      <td>0.719</td>\n",
       "      <td>167468</td>\n",
       "      <td>0.3850</td>\n",
       "      <td>0</td>\n",
       "      <td>0.031300</td>\n",
       "      <td>8</td>\n",
       "      <td>0.1110</td>\n",
       "      <td>-10.907</td>\n",
       "      <td>1</td>\n",
       "      <td>64</td>\n",
       "      <td>0.0403</td>\n",
       "      <td>128.000</td>\n",
       "      <td>0.2700</td>\n",
       "      <td>2020</td>\n",
       "    </tr>\n",
       "    <tr>\n",
       "      <th>169906</th>\n",
       "      <td>0.5380</td>\n",
       "      <td>0.514</td>\n",
       "      <td>180700</td>\n",
       "      <td>0.5390</td>\n",
       "      <td>0</td>\n",
       "      <td>0.002330</td>\n",
       "      <td>7</td>\n",
       "      <td>0.1080</td>\n",
       "      <td>-9.332</td>\n",
       "      <td>1</td>\n",
       "      <td>70</td>\n",
       "      <td>0.1050</td>\n",
       "      <td>123.700</td>\n",
       "      <td>0.1530</td>\n",
       "      <td>2020</td>\n",
       "    </tr>\n",
       "    <tr>\n",
       "      <th>169907</th>\n",
       "      <td>0.0714</td>\n",
       "      <td>0.646</td>\n",
       "      <td>167308</td>\n",
       "      <td>0.7610</td>\n",
       "      <td>0</td>\n",
       "      <td>0.000000</td>\n",
       "      <td>1</td>\n",
       "      <td>0.2220</td>\n",
       "      <td>-2.557</td>\n",
       "      <td>1</td>\n",
       "      <td>70</td>\n",
       "      <td>0.0385</td>\n",
       "      <td>129.916</td>\n",
       "      <td>0.4720</td>\n",
       "      <td>2020</td>\n",
       "    </tr>\n",
       "    <tr>\n",
       "      <th>169908</th>\n",
       "      <td>0.1090</td>\n",
       "      <td>0.512</td>\n",
       "      <td>214787</td>\n",
       "      <td>0.4280</td>\n",
       "      <td>0</td>\n",
       "      <td>0.000000</td>\n",
       "      <td>0</td>\n",
       "      <td>0.1050</td>\n",
       "      <td>-7.387</td>\n",
       "      <td>1</td>\n",
       "      <td>65</td>\n",
       "      <td>0.0271</td>\n",
       "      <td>80.588</td>\n",
       "      <td>0.3660</td>\n",
       "      <td>2020</td>\n",
       "    </tr>\n",
       "  </tbody>\n",
       "</table>\n",
       "<p>142270 rows × 15 columns</p>\n",
       "</div>"
      ],
      "text/plain": [
       "        acousticness  danceability  duration_ms  energy  explicit  \\\n",
       "4             0.9900         0.210       687733  0.2040         0   \n",
       "11            0.9890         0.170        85133  0.0823         0   \n",
       "40            0.9770         0.305       215267  0.0830         0   \n",
       "42            0.9900         0.337       333907  0.0699         0   \n",
       "47            0.9850         0.355       138013  0.0452         0   \n",
       "...              ...           ...          ...     ...       ...   \n",
       "169904        0.1730         0.875       163800  0.4430         1   \n",
       "169905        0.0167         0.719       167468  0.3850         0   \n",
       "169906        0.5380         0.514       180700  0.5390         0   \n",
       "169907        0.0714         0.646       167308  0.7610         0   \n",
       "169908        0.1090         0.512       214787  0.4280         0   \n",
       "\n",
       "        instrumentalness  key  liveness  loudness  mode  popularity  \\\n",
       "4               0.908000   11    0.0980   -16.829     1           1   \n",
       "11              0.911000   10    0.0962   -30.107     0           1   \n",
       "40              0.697000    6    0.2310   -20.895     1           1   \n",
       "42              0.903000    5    0.1060   -23.806     0           2   \n",
       "47              0.825000    1    0.1530   -24.125     1           2   \n",
       "...                  ...  ...       ...       ...   ...         ...   \n",
       "169904          0.000032    1    0.0891    -7.461     1          75   \n",
       "169905          0.031300    8    0.1110   -10.907     1          64   \n",
       "169906          0.002330    7    0.1080    -9.332     1          70   \n",
       "169907          0.000000    1    0.2220    -2.557     1          70   \n",
       "169908          0.000000    0    0.1050    -7.387     1          65   \n",
       "\n",
       "        speechiness    tempo  valence  year  \n",
       "4            0.0424   62.149   0.0693  1928  \n",
       "11           0.0317   85.989   0.3460  1928  \n",
       "40           0.0331   80.622   0.0479  1928  \n",
       "42           0.0322   72.133   0.1350  1928  \n",
       "47           0.0329   84.551   0.2760  1928  \n",
       "...             ...      ...      ...   ...  \n",
       "169904       0.1430  100.012   0.3060  2020  \n",
       "169905       0.0403  128.000   0.2700  2020  \n",
       "169906       0.1050  123.700   0.1530  2020  \n",
       "169907       0.0385  129.916   0.4720  2020  \n",
       "169908       0.0271   80.588   0.3660  2020  \n",
       "\n",
       "[142270 rows x 15 columns]"
      ]
     },
     "execution_count": 80,
     "metadata": {},
     "output_type": "execute_result"
    }
   ],
   "source": [
    "q1 = no_outliers_danceability['loudness'].quantile(0.25)\n",
    "q3 = no_outliers_danceability['loudness'].quantile(0.75)\n",
    "\n",
    "print(q1 - 1.5 * (q3 - q1))\n",
    "print(no_outliers_danceability[no_outliers_danceability['loudness'] <= q1 - 1.5 * (q3 - q1)].shape[0])\n",
    "print(q3 + 1.5 * (q3 - q1))\n",
    "print(no_outliers_danceability[no_outliers_danceability['loudness'] >= q3 + 1.5 * (q3 - q1)].shape[0])\n",
    "\n",
    "no_outliers_loudness = no_outliers_danceability[(no_outliers_danceability['loudness'] <= q3 + 1.5 * (q3 - q1))]\n",
    "no_outliers_loudness"
   ]
  },
  {
   "cell_type": "code",
   "execution_count": 81,
   "metadata": {},
   "outputs": [
    {
     "name": "stdout",
     "output_type": "stream",
     "text": [
      "<class 'pandas.core.frame.DataFrame'>\n",
      "Index: 142270 entries, 4 to 169908\n",
      "Data columns (total 15 columns):\n",
      " #   Column            Non-Null Count   Dtype  \n",
      "---  ------            --------------   -----  \n",
      " 0   acousticness      142270 non-null  float64\n",
      " 1   danceability      142270 non-null  float64\n",
      " 2   duration_ms       142270 non-null  int64  \n",
      " 3   energy            142270 non-null  float64\n",
      " 4   explicit          142270 non-null  int64  \n",
      " 5   instrumentalness  142270 non-null  float64\n",
      " 6   key               142270 non-null  int64  \n",
      " 7   liveness          142270 non-null  float64\n",
      " 8   loudness          142270 non-null  float64\n",
      " 9   mode              142270 non-null  int64  \n",
      " 10  popularity        142270 non-null  int64  \n",
      " 11  speechiness       142270 non-null  float64\n",
      " 12  tempo             142270 non-null  float64\n",
      " 13  valence           142270 non-null  float64\n",
      " 14  year              142270 non-null  int64  \n",
      "dtypes: float64(9), int64(6)\n",
      "memory usage: 17.4 MB\n"
     ]
    }
   ],
   "source": [
    "no_outliers_loudness.info()"
   ]
  },
  {
   "cell_type": "markdown",
   "metadata": {},
   "source": [
    "Speechiness"
   ]
  },
  {
   "cell_type": "code",
   "execution_count": 82,
   "metadata": {},
   "outputs": [
    {
     "name": "stdout",
     "output_type": "stream",
     "text": [
      "-0.020149999999999987\n",
      "0\n",
      "0.12424999999999999\n",
      "18645\n"
     ]
    },
    {
     "data": {
      "text/html": [
       "<div>\n",
       "<style scoped>\n",
       "    .dataframe tbody tr th:only-of-type {\n",
       "        vertical-align: middle;\n",
       "    }\n",
       "\n",
       "    .dataframe tbody tr th {\n",
       "        vertical-align: top;\n",
       "    }\n",
       "\n",
       "    .dataframe thead th {\n",
       "        text-align: right;\n",
       "    }\n",
       "</style>\n",
       "<table border=\"1\" class=\"dataframe\">\n",
       "  <thead>\n",
       "    <tr style=\"text-align: right;\">\n",
       "      <th></th>\n",
       "      <th>acousticness</th>\n",
       "      <th>danceability</th>\n",
       "      <th>duration_ms</th>\n",
       "      <th>energy</th>\n",
       "      <th>explicit</th>\n",
       "      <th>instrumentalness</th>\n",
       "      <th>key</th>\n",
       "      <th>liveness</th>\n",
       "      <th>loudness</th>\n",
       "      <th>mode</th>\n",
       "      <th>popularity</th>\n",
       "      <th>speechiness</th>\n",
       "      <th>tempo</th>\n",
       "      <th>valence</th>\n",
       "      <th>year</th>\n",
       "    </tr>\n",
       "  </thead>\n",
       "  <tbody>\n",
       "    <tr>\n",
       "      <th>4</th>\n",
       "      <td>0.9900</td>\n",
       "      <td>0.210</td>\n",
       "      <td>687733</td>\n",
       "      <td>0.2040</td>\n",
       "      <td>0</td>\n",
       "      <td>0.908000</td>\n",
       "      <td>11</td>\n",
       "      <td>0.0980</td>\n",
       "      <td>-16.829</td>\n",
       "      <td>1</td>\n",
       "      <td>1</td>\n",
       "      <td>0.0424</td>\n",
       "      <td>62.149</td>\n",
       "      <td>0.0693</td>\n",
       "      <td>1928</td>\n",
       "    </tr>\n",
       "    <tr>\n",
       "      <th>11</th>\n",
       "      <td>0.9890</td>\n",
       "      <td>0.170</td>\n",
       "      <td>85133</td>\n",
       "      <td>0.0823</td>\n",
       "      <td>0</td>\n",
       "      <td>0.911000</td>\n",
       "      <td>10</td>\n",
       "      <td>0.0962</td>\n",
       "      <td>-30.107</td>\n",
       "      <td>0</td>\n",
       "      <td>1</td>\n",
       "      <td>0.0317</td>\n",
       "      <td>85.989</td>\n",
       "      <td>0.3460</td>\n",
       "      <td>1928</td>\n",
       "    </tr>\n",
       "    <tr>\n",
       "      <th>40</th>\n",
       "      <td>0.9770</td>\n",
       "      <td>0.305</td>\n",
       "      <td>215267</td>\n",
       "      <td>0.0830</td>\n",
       "      <td>0</td>\n",
       "      <td>0.697000</td>\n",
       "      <td>6</td>\n",
       "      <td>0.2310</td>\n",
       "      <td>-20.895</td>\n",
       "      <td>1</td>\n",
       "      <td>1</td>\n",
       "      <td>0.0331</td>\n",
       "      <td>80.622</td>\n",
       "      <td>0.0479</td>\n",
       "      <td>1928</td>\n",
       "    </tr>\n",
       "    <tr>\n",
       "      <th>42</th>\n",
       "      <td>0.9900</td>\n",
       "      <td>0.337</td>\n",
       "      <td>333907</td>\n",
       "      <td>0.0699</td>\n",
       "      <td>0</td>\n",
       "      <td>0.903000</td>\n",
       "      <td>5</td>\n",
       "      <td>0.1060</td>\n",
       "      <td>-23.806</td>\n",
       "      <td>0</td>\n",
       "      <td>2</td>\n",
       "      <td>0.0322</td>\n",
       "      <td>72.133</td>\n",
       "      <td>0.1350</td>\n",
       "      <td>1928</td>\n",
       "    </tr>\n",
       "    <tr>\n",
       "      <th>47</th>\n",
       "      <td>0.9850</td>\n",
       "      <td>0.355</td>\n",
       "      <td>138013</td>\n",
       "      <td>0.0452</td>\n",
       "      <td>0</td>\n",
       "      <td>0.825000</td>\n",
       "      <td>1</td>\n",
       "      <td>0.1530</td>\n",
       "      <td>-24.125</td>\n",
       "      <td>1</td>\n",
       "      <td>2</td>\n",
       "      <td>0.0329</td>\n",
       "      <td>84.551</td>\n",
       "      <td>0.2760</td>\n",
       "      <td>1928</td>\n",
       "    </tr>\n",
       "    <tr>\n",
       "      <th>...</th>\n",
       "      <td>...</td>\n",
       "      <td>...</td>\n",
       "      <td>...</td>\n",
       "      <td>...</td>\n",
       "      <td>...</td>\n",
       "      <td>...</td>\n",
       "      <td>...</td>\n",
       "      <td>...</td>\n",
       "      <td>...</td>\n",
       "      <td>...</td>\n",
       "      <td>...</td>\n",
       "      <td>...</td>\n",
       "      <td>...</td>\n",
       "      <td>...</td>\n",
       "      <td>...</td>\n",
       "    </tr>\n",
       "    <tr>\n",
       "      <th>169903</th>\n",
       "      <td>0.2100</td>\n",
       "      <td>0.795</td>\n",
       "      <td>218501</td>\n",
       "      <td>0.5850</td>\n",
       "      <td>0</td>\n",
       "      <td>0.000001</td>\n",
       "      <td>8</td>\n",
       "      <td>0.1120</td>\n",
       "      <td>-4.451</td>\n",
       "      <td>1</td>\n",
       "      <td>68</td>\n",
       "      <td>0.0374</td>\n",
       "      <td>97.479</td>\n",
       "      <td>0.9340</td>\n",
       "      <td>2020</td>\n",
       "    </tr>\n",
       "    <tr>\n",
       "      <th>169905</th>\n",
       "      <td>0.0167</td>\n",
       "      <td>0.719</td>\n",
       "      <td>167468</td>\n",
       "      <td>0.3850</td>\n",
       "      <td>0</td>\n",
       "      <td>0.031300</td>\n",
       "      <td>8</td>\n",
       "      <td>0.1110</td>\n",
       "      <td>-10.907</td>\n",
       "      <td>1</td>\n",
       "      <td>64</td>\n",
       "      <td>0.0403</td>\n",
       "      <td>128.000</td>\n",
       "      <td>0.2700</td>\n",
       "      <td>2020</td>\n",
       "    </tr>\n",
       "    <tr>\n",
       "      <th>169906</th>\n",
       "      <td>0.5380</td>\n",
       "      <td>0.514</td>\n",
       "      <td>180700</td>\n",
       "      <td>0.5390</td>\n",
       "      <td>0</td>\n",
       "      <td>0.002330</td>\n",
       "      <td>7</td>\n",
       "      <td>0.1080</td>\n",
       "      <td>-9.332</td>\n",
       "      <td>1</td>\n",
       "      <td>70</td>\n",
       "      <td>0.1050</td>\n",
       "      <td>123.700</td>\n",
       "      <td>0.1530</td>\n",
       "      <td>2020</td>\n",
       "    </tr>\n",
       "    <tr>\n",
       "      <th>169907</th>\n",
       "      <td>0.0714</td>\n",
       "      <td>0.646</td>\n",
       "      <td>167308</td>\n",
       "      <td>0.7610</td>\n",
       "      <td>0</td>\n",
       "      <td>0.000000</td>\n",
       "      <td>1</td>\n",
       "      <td>0.2220</td>\n",
       "      <td>-2.557</td>\n",
       "      <td>1</td>\n",
       "      <td>70</td>\n",
       "      <td>0.0385</td>\n",
       "      <td>129.916</td>\n",
       "      <td>0.4720</td>\n",
       "      <td>2020</td>\n",
       "    </tr>\n",
       "    <tr>\n",
       "      <th>169908</th>\n",
       "      <td>0.1090</td>\n",
       "      <td>0.512</td>\n",
       "      <td>214787</td>\n",
       "      <td>0.4280</td>\n",
       "      <td>0</td>\n",
       "      <td>0.000000</td>\n",
       "      <td>0</td>\n",
       "      <td>0.1050</td>\n",
       "      <td>-7.387</td>\n",
       "      <td>1</td>\n",
       "      <td>65</td>\n",
       "      <td>0.0271</td>\n",
       "      <td>80.588</td>\n",
       "      <td>0.3660</td>\n",
       "      <td>2020</td>\n",
       "    </tr>\n",
       "  </tbody>\n",
       "</table>\n",
       "<p>123625 rows × 15 columns</p>\n",
       "</div>"
      ],
      "text/plain": [
       "        acousticness  danceability  duration_ms  energy  explicit  \\\n",
       "4             0.9900         0.210       687733  0.2040         0   \n",
       "11            0.9890         0.170        85133  0.0823         0   \n",
       "40            0.9770         0.305       215267  0.0830         0   \n",
       "42            0.9900         0.337       333907  0.0699         0   \n",
       "47            0.9850         0.355       138013  0.0452         0   \n",
       "...              ...           ...          ...     ...       ...   \n",
       "169903        0.2100         0.795       218501  0.5850         0   \n",
       "169905        0.0167         0.719       167468  0.3850         0   \n",
       "169906        0.5380         0.514       180700  0.5390         0   \n",
       "169907        0.0714         0.646       167308  0.7610         0   \n",
       "169908        0.1090         0.512       214787  0.4280         0   \n",
       "\n",
       "        instrumentalness  key  liveness  loudness  mode  popularity  \\\n",
       "4               0.908000   11    0.0980   -16.829     1           1   \n",
       "11              0.911000   10    0.0962   -30.107     0           1   \n",
       "40              0.697000    6    0.2310   -20.895     1           1   \n",
       "42              0.903000    5    0.1060   -23.806     0           2   \n",
       "47              0.825000    1    0.1530   -24.125     1           2   \n",
       "...                  ...  ...       ...       ...   ...         ...   \n",
       "169903          0.000001    8    0.1120    -4.451     1          68   \n",
       "169905          0.031300    8    0.1110   -10.907     1          64   \n",
       "169906          0.002330    7    0.1080    -9.332     1          70   \n",
       "169907          0.000000    1    0.2220    -2.557     1          70   \n",
       "169908          0.000000    0    0.1050    -7.387     1          65   \n",
       "\n",
       "        speechiness    tempo  valence  year  \n",
       "4            0.0424   62.149   0.0693  1928  \n",
       "11           0.0317   85.989   0.3460  1928  \n",
       "40           0.0331   80.622   0.0479  1928  \n",
       "42           0.0322   72.133   0.1350  1928  \n",
       "47           0.0329   84.551   0.2760  1928  \n",
       "...             ...      ...      ...   ...  \n",
       "169903       0.0374   97.479   0.9340  2020  \n",
       "169905       0.0403  128.000   0.2700  2020  \n",
       "169906       0.1050  123.700   0.1530  2020  \n",
       "169907       0.0385  129.916   0.4720  2020  \n",
       "169908       0.0271   80.588   0.3660  2020  \n",
       "\n",
       "[123625 rows x 15 columns]"
      ]
     },
     "execution_count": 82,
     "metadata": {},
     "output_type": "execute_result"
    }
   ],
   "source": [
    "q1 = no_outliers_loudness['speechiness'].quantile(0.25)\n",
    "q3 = no_outliers_loudness['speechiness'].quantile(0.75)\n",
    "\n",
    "print(q1 - 1.5 * (q3 - q1))\n",
    "print(no_outliers_loudness[no_outliers_loudness['speechiness'] <= q1 - 1.5 * (q3 - q1)].shape[0])\n",
    "print(q3 + 1.5 * (q3 - q1))\n",
    "print(no_outliers_loudness[no_outliers_loudness['speechiness'] >= q3 + 1.5 * (q3 - q1)].shape[0])\n",
    "\n",
    "no_outliers_speechiness = no_outliers_loudness[(no_outliers_loudness['speechiness'] <= q3 + 1.5 * (q3 - q1)) & (no_outliers_loudness['speechiness'] >= q1 - 1.5 * (q3 - q1))]\n",
    "no_outliers_speechiness"
   ]
  },
  {
   "cell_type": "markdown",
   "metadata": {},
   "source": [
    "Valence"
   ]
  },
  {
   "cell_type": "code",
   "execution_count": 83,
   "metadata": {},
   "outputs": [
    {
     "name": "stdout",
     "output_type": "stream",
     "text": [
      "-0.3389999999999998\n",
      "0\n",
      "1.4129999999999998\n",
      "0\n"
     ]
    },
    {
     "data": {
      "text/html": [
       "<div>\n",
       "<style scoped>\n",
       "    .dataframe tbody tr th:only-of-type {\n",
       "        vertical-align: middle;\n",
       "    }\n",
       "\n",
       "    .dataframe tbody tr th {\n",
       "        vertical-align: top;\n",
       "    }\n",
       "\n",
       "    .dataframe thead th {\n",
       "        text-align: right;\n",
       "    }\n",
       "</style>\n",
       "<table border=\"1\" class=\"dataframe\">\n",
       "  <thead>\n",
       "    <tr style=\"text-align: right;\">\n",
       "      <th></th>\n",
       "      <th>acousticness</th>\n",
       "      <th>danceability</th>\n",
       "      <th>duration_ms</th>\n",
       "      <th>energy</th>\n",
       "      <th>explicit</th>\n",
       "      <th>instrumentalness</th>\n",
       "      <th>key</th>\n",
       "      <th>liveness</th>\n",
       "      <th>loudness</th>\n",
       "      <th>mode</th>\n",
       "      <th>popularity</th>\n",
       "      <th>speechiness</th>\n",
       "      <th>tempo</th>\n",
       "      <th>valence</th>\n",
       "      <th>year</th>\n",
       "    </tr>\n",
       "  </thead>\n",
       "  <tbody>\n",
       "    <tr>\n",
       "      <th>4</th>\n",
       "      <td>0.9900</td>\n",
       "      <td>0.210</td>\n",
       "      <td>687733</td>\n",
       "      <td>0.2040</td>\n",
       "      <td>0</td>\n",
       "      <td>0.908000</td>\n",
       "      <td>11</td>\n",
       "      <td>0.0980</td>\n",
       "      <td>-16.829</td>\n",
       "      <td>1</td>\n",
       "      <td>1</td>\n",
       "      <td>0.0424</td>\n",
       "      <td>62.149</td>\n",
       "      <td>0.0693</td>\n",
       "      <td>1928</td>\n",
       "    </tr>\n",
       "    <tr>\n",
       "      <th>11</th>\n",
       "      <td>0.9890</td>\n",
       "      <td>0.170</td>\n",
       "      <td>85133</td>\n",
       "      <td>0.0823</td>\n",
       "      <td>0</td>\n",
       "      <td>0.911000</td>\n",
       "      <td>10</td>\n",
       "      <td>0.0962</td>\n",
       "      <td>-30.107</td>\n",
       "      <td>0</td>\n",
       "      <td>1</td>\n",
       "      <td>0.0317</td>\n",
       "      <td>85.989</td>\n",
       "      <td>0.3460</td>\n",
       "      <td>1928</td>\n",
       "    </tr>\n",
       "    <tr>\n",
       "      <th>40</th>\n",
       "      <td>0.9770</td>\n",
       "      <td>0.305</td>\n",
       "      <td>215267</td>\n",
       "      <td>0.0830</td>\n",
       "      <td>0</td>\n",
       "      <td>0.697000</td>\n",
       "      <td>6</td>\n",
       "      <td>0.2310</td>\n",
       "      <td>-20.895</td>\n",
       "      <td>1</td>\n",
       "      <td>1</td>\n",
       "      <td>0.0331</td>\n",
       "      <td>80.622</td>\n",
       "      <td>0.0479</td>\n",
       "      <td>1928</td>\n",
       "    </tr>\n",
       "    <tr>\n",
       "      <th>42</th>\n",
       "      <td>0.9900</td>\n",
       "      <td>0.337</td>\n",
       "      <td>333907</td>\n",
       "      <td>0.0699</td>\n",
       "      <td>0</td>\n",
       "      <td>0.903000</td>\n",
       "      <td>5</td>\n",
       "      <td>0.1060</td>\n",
       "      <td>-23.806</td>\n",
       "      <td>0</td>\n",
       "      <td>2</td>\n",
       "      <td>0.0322</td>\n",
       "      <td>72.133</td>\n",
       "      <td>0.1350</td>\n",
       "      <td>1928</td>\n",
       "    </tr>\n",
       "    <tr>\n",
       "      <th>47</th>\n",
       "      <td>0.9850</td>\n",
       "      <td>0.355</td>\n",
       "      <td>138013</td>\n",
       "      <td>0.0452</td>\n",
       "      <td>0</td>\n",
       "      <td>0.825000</td>\n",
       "      <td>1</td>\n",
       "      <td>0.1530</td>\n",
       "      <td>-24.125</td>\n",
       "      <td>1</td>\n",
       "      <td>2</td>\n",
       "      <td>0.0329</td>\n",
       "      <td>84.551</td>\n",
       "      <td>0.2760</td>\n",
       "      <td>1928</td>\n",
       "    </tr>\n",
       "    <tr>\n",
       "      <th>...</th>\n",
       "      <td>...</td>\n",
       "      <td>...</td>\n",
       "      <td>...</td>\n",
       "      <td>...</td>\n",
       "      <td>...</td>\n",
       "      <td>...</td>\n",
       "      <td>...</td>\n",
       "      <td>...</td>\n",
       "      <td>...</td>\n",
       "      <td>...</td>\n",
       "      <td>...</td>\n",
       "      <td>...</td>\n",
       "      <td>...</td>\n",
       "      <td>...</td>\n",
       "      <td>...</td>\n",
       "    </tr>\n",
       "    <tr>\n",
       "      <th>169903</th>\n",
       "      <td>0.2100</td>\n",
       "      <td>0.795</td>\n",
       "      <td>218501</td>\n",
       "      <td>0.5850</td>\n",
       "      <td>0</td>\n",
       "      <td>0.000001</td>\n",
       "      <td>8</td>\n",
       "      <td>0.1120</td>\n",
       "      <td>-4.451</td>\n",
       "      <td>1</td>\n",
       "      <td>68</td>\n",
       "      <td>0.0374</td>\n",
       "      <td>97.479</td>\n",
       "      <td>0.9340</td>\n",
       "      <td>2020</td>\n",
       "    </tr>\n",
       "    <tr>\n",
       "      <th>169905</th>\n",
       "      <td>0.0167</td>\n",
       "      <td>0.719</td>\n",
       "      <td>167468</td>\n",
       "      <td>0.3850</td>\n",
       "      <td>0</td>\n",
       "      <td>0.031300</td>\n",
       "      <td>8</td>\n",
       "      <td>0.1110</td>\n",
       "      <td>-10.907</td>\n",
       "      <td>1</td>\n",
       "      <td>64</td>\n",
       "      <td>0.0403</td>\n",
       "      <td>128.000</td>\n",
       "      <td>0.2700</td>\n",
       "      <td>2020</td>\n",
       "    </tr>\n",
       "    <tr>\n",
       "      <th>169906</th>\n",
       "      <td>0.5380</td>\n",
       "      <td>0.514</td>\n",
       "      <td>180700</td>\n",
       "      <td>0.5390</td>\n",
       "      <td>0</td>\n",
       "      <td>0.002330</td>\n",
       "      <td>7</td>\n",
       "      <td>0.1080</td>\n",
       "      <td>-9.332</td>\n",
       "      <td>1</td>\n",
       "      <td>70</td>\n",
       "      <td>0.1050</td>\n",
       "      <td>123.700</td>\n",
       "      <td>0.1530</td>\n",
       "      <td>2020</td>\n",
       "    </tr>\n",
       "    <tr>\n",
       "      <th>169907</th>\n",
       "      <td>0.0714</td>\n",
       "      <td>0.646</td>\n",
       "      <td>167308</td>\n",
       "      <td>0.7610</td>\n",
       "      <td>0</td>\n",
       "      <td>0.000000</td>\n",
       "      <td>1</td>\n",
       "      <td>0.2220</td>\n",
       "      <td>-2.557</td>\n",
       "      <td>1</td>\n",
       "      <td>70</td>\n",
       "      <td>0.0385</td>\n",
       "      <td>129.916</td>\n",
       "      <td>0.4720</td>\n",
       "      <td>2020</td>\n",
       "    </tr>\n",
       "    <tr>\n",
       "      <th>169908</th>\n",
       "      <td>0.1090</td>\n",
       "      <td>0.512</td>\n",
       "      <td>214787</td>\n",
       "      <td>0.4280</td>\n",
       "      <td>0</td>\n",
       "      <td>0.000000</td>\n",
       "      <td>0</td>\n",
       "      <td>0.1050</td>\n",
       "      <td>-7.387</td>\n",
       "      <td>1</td>\n",
       "      <td>65</td>\n",
       "      <td>0.0271</td>\n",
       "      <td>80.588</td>\n",
       "      <td>0.3660</td>\n",
       "      <td>2020</td>\n",
       "    </tr>\n",
       "  </tbody>\n",
       "</table>\n",
       "<p>123625 rows × 15 columns</p>\n",
       "</div>"
      ],
      "text/plain": [
       "        acousticness  danceability  duration_ms  energy  explicit  \\\n",
       "4             0.9900         0.210       687733  0.2040         0   \n",
       "11            0.9890         0.170        85133  0.0823         0   \n",
       "40            0.9770         0.305       215267  0.0830         0   \n",
       "42            0.9900         0.337       333907  0.0699         0   \n",
       "47            0.9850         0.355       138013  0.0452         0   \n",
       "...              ...           ...          ...     ...       ...   \n",
       "169903        0.2100         0.795       218501  0.5850         0   \n",
       "169905        0.0167         0.719       167468  0.3850         0   \n",
       "169906        0.5380         0.514       180700  0.5390         0   \n",
       "169907        0.0714         0.646       167308  0.7610         0   \n",
       "169908        0.1090         0.512       214787  0.4280         0   \n",
       "\n",
       "        instrumentalness  key  liveness  loudness  mode  popularity  \\\n",
       "4               0.908000   11    0.0980   -16.829     1           1   \n",
       "11              0.911000   10    0.0962   -30.107     0           1   \n",
       "40              0.697000    6    0.2310   -20.895     1           1   \n",
       "42              0.903000    5    0.1060   -23.806     0           2   \n",
       "47              0.825000    1    0.1530   -24.125     1           2   \n",
       "...                  ...  ...       ...       ...   ...         ...   \n",
       "169903          0.000001    8    0.1120    -4.451     1          68   \n",
       "169905          0.031300    8    0.1110   -10.907     1          64   \n",
       "169906          0.002330    7    0.1080    -9.332     1          70   \n",
       "169907          0.000000    1    0.2220    -2.557     1          70   \n",
       "169908          0.000000    0    0.1050    -7.387     1          65   \n",
       "\n",
       "        speechiness    tempo  valence  year  \n",
       "4            0.0424   62.149   0.0693  1928  \n",
       "11           0.0317   85.989   0.3460  1928  \n",
       "40           0.0331   80.622   0.0479  1928  \n",
       "42           0.0322   72.133   0.1350  1928  \n",
       "47           0.0329   84.551   0.2760  1928  \n",
       "...             ...      ...      ...   ...  \n",
       "169903       0.0374   97.479   0.9340  2020  \n",
       "169905       0.0403  128.000   0.2700  2020  \n",
       "169906       0.1050  123.700   0.1530  2020  \n",
       "169907       0.0385  129.916   0.4720  2020  \n",
       "169908       0.0271   80.588   0.3660  2020  \n",
       "\n",
       "[123625 rows x 15 columns]"
      ]
     },
     "execution_count": 83,
     "metadata": {},
     "output_type": "execute_result"
    }
   ],
   "source": [
    "q1 = no_outliers_speechiness['valence'].quantile(0.25)\n",
    "q3 = no_outliers_speechiness['valence'].quantile(0.75)\n",
    "\n",
    "print(q1 - 1.5 * (q3 - q1))\n",
    "print(no_outliers_speechiness[no_outliers_speechiness['valence'] <= q1 - 1.5 * (q3 - q1)].shape[0])\n",
    "print(q3 + 1.5 * (q3 - q1))\n",
    "print(no_outliers_speechiness[no_outliers_speechiness['valence'] >= q3 + 1.5 * (q3 - q1)].shape[0])\n",
    "\n",
    "\n",
    "no_outliers_valence = no_outliers_speechiness[(no_outliers_speechiness['valence'] <= q3 + 1.5 * (q3 - q1)) & (no_outliers_speechiness['valence'] >= q1 - 1.5 * (q3 - q1))]\n",
    "no_outliers_valence"
   ]
  },
  {
   "cell_type": "markdown",
   "metadata": {},
   "source": [
    "Tempo"
   ]
  },
  {
   "cell_type": "code",
   "execution_count": 84,
   "metadata": {},
   "outputs": [
    {
     "name": "stdout",
     "output_type": "stream",
     "text": [
      "35.78999999999999\n",
      "11\n",
      "196.318\n",
      "1139\n"
     ]
    },
    {
     "data": {
      "text/html": [
       "<div>\n",
       "<style scoped>\n",
       "    .dataframe tbody tr th:only-of-type {\n",
       "        vertical-align: middle;\n",
       "    }\n",
       "\n",
       "    .dataframe tbody tr th {\n",
       "        vertical-align: top;\n",
       "    }\n",
       "\n",
       "    .dataframe thead th {\n",
       "        text-align: right;\n",
       "    }\n",
       "</style>\n",
       "<table border=\"1\" class=\"dataframe\">\n",
       "  <thead>\n",
       "    <tr style=\"text-align: right;\">\n",
       "      <th></th>\n",
       "      <th>acousticness</th>\n",
       "      <th>danceability</th>\n",
       "      <th>duration_ms</th>\n",
       "      <th>energy</th>\n",
       "      <th>explicit</th>\n",
       "      <th>instrumentalness</th>\n",
       "      <th>key</th>\n",
       "      <th>liveness</th>\n",
       "      <th>loudness</th>\n",
       "      <th>mode</th>\n",
       "      <th>popularity</th>\n",
       "      <th>speechiness</th>\n",
       "      <th>tempo</th>\n",
       "      <th>valence</th>\n",
       "      <th>year</th>\n",
       "    </tr>\n",
       "  </thead>\n",
       "  <tbody>\n",
       "    <tr>\n",
       "      <th>4</th>\n",
       "      <td>0.9900</td>\n",
       "      <td>0.210</td>\n",
       "      <td>687733</td>\n",
       "      <td>0.2040</td>\n",
       "      <td>0</td>\n",
       "      <td>0.908000</td>\n",
       "      <td>11</td>\n",
       "      <td>0.0980</td>\n",
       "      <td>-16.829</td>\n",
       "      <td>1</td>\n",
       "      <td>1</td>\n",
       "      <td>0.0424</td>\n",
       "      <td>62.149</td>\n",
       "      <td>0.0693</td>\n",
       "      <td>1928</td>\n",
       "    </tr>\n",
       "    <tr>\n",
       "      <th>11</th>\n",
       "      <td>0.9890</td>\n",
       "      <td>0.170</td>\n",
       "      <td>85133</td>\n",
       "      <td>0.0823</td>\n",
       "      <td>0</td>\n",
       "      <td>0.911000</td>\n",
       "      <td>10</td>\n",
       "      <td>0.0962</td>\n",
       "      <td>-30.107</td>\n",
       "      <td>0</td>\n",
       "      <td>1</td>\n",
       "      <td>0.0317</td>\n",
       "      <td>85.989</td>\n",
       "      <td>0.3460</td>\n",
       "      <td>1928</td>\n",
       "    </tr>\n",
       "    <tr>\n",
       "      <th>40</th>\n",
       "      <td>0.9770</td>\n",
       "      <td>0.305</td>\n",
       "      <td>215267</td>\n",
       "      <td>0.0830</td>\n",
       "      <td>0</td>\n",
       "      <td>0.697000</td>\n",
       "      <td>6</td>\n",
       "      <td>0.2310</td>\n",
       "      <td>-20.895</td>\n",
       "      <td>1</td>\n",
       "      <td>1</td>\n",
       "      <td>0.0331</td>\n",
       "      <td>80.622</td>\n",
       "      <td>0.0479</td>\n",
       "      <td>1928</td>\n",
       "    </tr>\n",
       "    <tr>\n",
       "      <th>42</th>\n",
       "      <td>0.9900</td>\n",
       "      <td>0.337</td>\n",
       "      <td>333907</td>\n",
       "      <td>0.0699</td>\n",
       "      <td>0</td>\n",
       "      <td>0.903000</td>\n",
       "      <td>5</td>\n",
       "      <td>0.1060</td>\n",
       "      <td>-23.806</td>\n",
       "      <td>0</td>\n",
       "      <td>2</td>\n",
       "      <td>0.0322</td>\n",
       "      <td>72.133</td>\n",
       "      <td>0.1350</td>\n",
       "      <td>1928</td>\n",
       "    </tr>\n",
       "    <tr>\n",
       "      <th>47</th>\n",
       "      <td>0.9850</td>\n",
       "      <td>0.355</td>\n",
       "      <td>138013</td>\n",
       "      <td>0.0452</td>\n",
       "      <td>0</td>\n",
       "      <td>0.825000</td>\n",
       "      <td>1</td>\n",
       "      <td>0.1530</td>\n",
       "      <td>-24.125</td>\n",
       "      <td>1</td>\n",
       "      <td>2</td>\n",
       "      <td>0.0329</td>\n",
       "      <td>84.551</td>\n",
       "      <td>0.2760</td>\n",
       "      <td>1928</td>\n",
       "    </tr>\n",
       "    <tr>\n",
       "      <th>...</th>\n",
       "      <td>...</td>\n",
       "      <td>...</td>\n",
       "      <td>...</td>\n",
       "      <td>...</td>\n",
       "      <td>...</td>\n",
       "      <td>...</td>\n",
       "      <td>...</td>\n",
       "      <td>...</td>\n",
       "      <td>...</td>\n",
       "      <td>...</td>\n",
       "      <td>...</td>\n",
       "      <td>...</td>\n",
       "      <td>...</td>\n",
       "      <td>...</td>\n",
       "      <td>...</td>\n",
       "    </tr>\n",
       "    <tr>\n",
       "      <th>169903</th>\n",
       "      <td>0.2100</td>\n",
       "      <td>0.795</td>\n",
       "      <td>218501</td>\n",
       "      <td>0.5850</td>\n",
       "      <td>0</td>\n",
       "      <td>0.000001</td>\n",
       "      <td>8</td>\n",
       "      <td>0.1120</td>\n",
       "      <td>-4.451</td>\n",
       "      <td>1</td>\n",
       "      <td>68</td>\n",
       "      <td>0.0374</td>\n",
       "      <td>97.479</td>\n",
       "      <td>0.9340</td>\n",
       "      <td>2020</td>\n",
       "    </tr>\n",
       "    <tr>\n",
       "      <th>169905</th>\n",
       "      <td>0.0167</td>\n",
       "      <td>0.719</td>\n",
       "      <td>167468</td>\n",
       "      <td>0.3850</td>\n",
       "      <td>0</td>\n",
       "      <td>0.031300</td>\n",
       "      <td>8</td>\n",
       "      <td>0.1110</td>\n",
       "      <td>-10.907</td>\n",
       "      <td>1</td>\n",
       "      <td>64</td>\n",
       "      <td>0.0403</td>\n",
       "      <td>128.000</td>\n",
       "      <td>0.2700</td>\n",
       "      <td>2020</td>\n",
       "    </tr>\n",
       "    <tr>\n",
       "      <th>169906</th>\n",
       "      <td>0.5380</td>\n",
       "      <td>0.514</td>\n",
       "      <td>180700</td>\n",
       "      <td>0.5390</td>\n",
       "      <td>0</td>\n",
       "      <td>0.002330</td>\n",
       "      <td>7</td>\n",
       "      <td>0.1080</td>\n",
       "      <td>-9.332</td>\n",
       "      <td>1</td>\n",
       "      <td>70</td>\n",
       "      <td>0.1050</td>\n",
       "      <td>123.700</td>\n",
       "      <td>0.1530</td>\n",
       "      <td>2020</td>\n",
       "    </tr>\n",
       "    <tr>\n",
       "      <th>169907</th>\n",
       "      <td>0.0714</td>\n",
       "      <td>0.646</td>\n",
       "      <td>167308</td>\n",
       "      <td>0.7610</td>\n",
       "      <td>0</td>\n",
       "      <td>0.000000</td>\n",
       "      <td>1</td>\n",
       "      <td>0.2220</td>\n",
       "      <td>-2.557</td>\n",
       "      <td>1</td>\n",
       "      <td>70</td>\n",
       "      <td>0.0385</td>\n",
       "      <td>129.916</td>\n",
       "      <td>0.4720</td>\n",
       "      <td>2020</td>\n",
       "    </tr>\n",
       "    <tr>\n",
       "      <th>169908</th>\n",
       "      <td>0.1090</td>\n",
       "      <td>0.512</td>\n",
       "      <td>214787</td>\n",
       "      <td>0.4280</td>\n",
       "      <td>0</td>\n",
       "      <td>0.000000</td>\n",
       "      <td>0</td>\n",
       "      <td>0.1050</td>\n",
       "      <td>-7.387</td>\n",
       "      <td>1</td>\n",
       "      <td>65</td>\n",
       "      <td>0.0271</td>\n",
       "      <td>80.588</td>\n",
       "      <td>0.3660</td>\n",
       "      <td>2020</td>\n",
       "    </tr>\n",
       "  </tbody>\n",
       "</table>\n",
       "<p>122475 rows × 15 columns</p>\n",
       "</div>"
      ],
      "text/plain": [
       "        acousticness  danceability  duration_ms  energy  explicit  \\\n",
       "4             0.9900         0.210       687733  0.2040         0   \n",
       "11            0.9890         0.170        85133  0.0823         0   \n",
       "40            0.9770         0.305       215267  0.0830         0   \n",
       "42            0.9900         0.337       333907  0.0699         0   \n",
       "47            0.9850         0.355       138013  0.0452         0   \n",
       "...              ...           ...          ...     ...       ...   \n",
       "169903        0.2100         0.795       218501  0.5850         0   \n",
       "169905        0.0167         0.719       167468  0.3850         0   \n",
       "169906        0.5380         0.514       180700  0.5390         0   \n",
       "169907        0.0714         0.646       167308  0.7610         0   \n",
       "169908        0.1090         0.512       214787  0.4280         0   \n",
       "\n",
       "        instrumentalness  key  liveness  loudness  mode  popularity  \\\n",
       "4               0.908000   11    0.0980   -16.829     1           1   \n",
       "11              0.911000   10    0.0962   -30.107     0           1   \n",
       "40              0.697000    6    0.2310   -20.895     1           1   \n",
       "42              0.903000    5    0.1060   -23.806     0           2   \n",
       "47              0.825000    1    0.1530   -24.125     1           2   \n",
       "...                  ...  ...       ...       ...   ...         ...   \n",
       "169903          0.000001    8    0.1120    -4.451     1          68   \n",
       "169905          0.031300    8    0.1110   -10.907     1          64   \n",
       "169906          0.002330    7    0.1080    -9.332     1          70   \n",
       "169907          0.000000    1    0.2220    -2.557     1          70   \n",
       "169908          0.000000    0    0.1050    -7.387     1          65   \n",
       "\n",
       "        speechiness    tempo  valence  year  \n",
       "4            0.0424   62.149   0.0693  1928  \n",
       "11           0.0317   85.989   0.3460  1928  \n",
       "40           0.0331   80.622   0.0479  1928  \n",
       "42           0.0322   72.133   0.1350  1928  \n",
       "47           0.0329   84.551   0.2760  1928  \n",
       "...             ...      ...      ...   ...  \n",
       "169903       0.0374   97.479   0.9340  2020  \n",
       "169905       0.0403  128.000   0.2700  2020  \n",
       "169906       0.1050  123.700   0.1530  2020  \n",
       "169907       0.0385  129.916   0.4720  2020  \n",
       "169908       0.0271   80.588   0.3660  2020  \n",
       "\n",
       "[122475 rows x 15 columns]"
      ]
     },
     "execution_count": 84,
     "metadata": {},
     "output_type": "execute_result"
    }
   ],
   "source": [
    "q1 = no_outliers_valence['tempo'].quantile(0.25)\n",
    "q3 = no_outliers_valence['tempo'].quantile(0.75)\n",
    "\n",
    "print(q1 - 1.5 * (q3 - q1))\n",
    "print(no_outliers_valence[no_outliers_valence['tempo'] <= q1 - 1.5 * (q3 - q1)].shape[0])\n",
    "print(q3 + 1.5 * (q3 - q1))\n",
    "print(no_outliers_valence[no_outliers_valence['tempo'] >= q3 + 1.5 * (q3 - q1)].shape[0])\n",
    "\n",
    "no_outliers_tempo = no_outliers_valence[(no_outliers_valence['tempo'] <= q3 + 1.5 * (q3 - q1)) & (no_outliers_valence['tempo'] >= q1 - 1.5 * (q3 - q1))]\n",
    "no_outliers_tempo"
   ]
  },
  {
   "cell_type": "markdown",
   "metadata": {},
   "source": [
    "Duration"
   ]
  },
  {
   "cell_type": "code",
   "execution_count": 85,
   "metadata": {},
   "outputs": [
    {
     "name": "stdout",
     "output_type": "stream",
     "text": [
      "35600.5\n",
      "51\n",
      "407972.5\n",
      "5950\n"
     ]
    },
    {
     "data": {
      "text/html": [
       "<div>\n",
       "<style scoped>\n",
       "    .dataframe tbody tr th:only-of-type {\n",
       "        vertical-align: middle;\n",
       "    }\n",
       "\n",
       "    .dataframe tbody tr th {\n",
       "        vertical-align: top;\n",
       "    }\n",
       "\n",
       "    .dataframe thead th {\n",
       "        text-align: right;\n",
       "    }\n",
       "</style>\n",
       "<table border=\"1\" class=\"dataframe\">\n",
       "  <thead>\n",
       "    <tr style=\"text-align: right;\">\n",
       "      <th></th>\n",
       "      <th>acousticness</th>\n",
       "      <th>danceability</th>\n",
       "      <th>duration_ms</th>\n",
       "      <th>energy</th>\n",
       "      <th>explicit</th>\n",
       "      <th>instrumentalness</th>\n",
       "      <th>key</th>\n",
       "      <th>liveness</th>\n",
       "      <th>loudness</th>\n",
       "      <th>mode</th>\n",
       "      <th>popularity</th>\n",
       "      <th>speechiness</th>\n",
       "      <th>tempo</th>\n",
       "      <th>valence</th>\n",
       "      <th>year</th>\n",
       "    </tr>\n",
       "  </thead>\n",
       "  <tbody>\n",
       "    <tr>\n",
       "      <th>11</th>\n",
       "      <td>0.9890</td>\n",
       "      <td>0.170</td>\n",
       "      <td>85133</td>\n",
       "      <td>0.0823</td>\n",
       "      <td>0</td>\n",
       "      <td>0.911000</td>\n",
       "      <td>10</td>\n",
       "      <td>0.0962</td>\n",
       "      <td>-30.107</td>\n",
       "      <td>0</td>\n",
       "      <td>1</td>\n",
       "      <td>0.0317</td>\n",
       "      <td>85.989</td>\n",
       "      <td>0.3460</td>\n",
       "      <td>1928</td>\n",
       "    </tr>\n",
       "    <tr>\n",
       "      <th>40</th>\n",
       "      <td>0.9770</td>\n",
       "      <td>0.305</td>\n",
       "      <td>215267</td>\n",
       "      <td>0.0830</td>\n",
       "      <td>0</td>\n",
       "      <td>0.697000</td>\n",
       "      <td>6</td>\n",
       "      <td>0.2310</td>\n",
       "      <td>-20.895</td>\n",
       "      <td>1</td>\n",
       "      <td>1</td>\n",
       "      <td>0.0331</td>\n",
       "      <td>80.622</td>\n",
       "      <td>0.0479</td>\n",
       "      <td>1928</td>\n",
       "    </tr>\n",
       "    <tr>\n",
       "      <th>42</th>\n",
       "      <td>0.9900</td>\n",
       "      <td>0.337</td>\n",
       "      <td>333907</td>\n",
       "      <td>0.0699</td>\n",
       "      <td>0</td>\n",
       "      <td>0.903000</td>\n",
       "      <td>5</td>\n",
       "      <td>0.1060</td>\n",
       "      <td>-23.806</td>\n",
       "      <td>0</td>\n",
       "      <td>2</td>\n",
       "      <td>0.0322</td>\n",
       "      <td>72.133</td>\n",
       "      <td>0.1350</td>\n",
       "      <td>1928</td>\n",
       "    </tr>\n",
       "    <tr>\n",
       "      <th>47</th>\n",
       "      <td>0.9850</td>\n",
       "      <td>0.355</td>\n",
       "      <td>138013</td>\n",
       "      <td>0.0452</td>\n",
       "      <td>0</td>\n",
       "      <td>0.825000</td>\n",
       "      <td>1</td>\n",
       "      <td>0.1530</td>\n",
       "      <td>-24.125</td>\n",
       "      <td>1</td>\n",
       "      <td>2</td>\n",
       "      <td>0.0329</td>\n",
       "      <td>84.551</td>\n",
       "      <td>0.2760</td>\n",
       "      <td>1928</td>\n",
       "    </tr>\n",
       "    <tr>\n",
       "      <th>59</th>\n",
       "      <td>0.9910</td>\n",
       "      <td>0.839</td>\n",
       "      <td>162147</td>\n",
       "      <td>0.3700</td>\n",
       "      <td>0</td>\n",
       "      <td>0.041900</td>\n",
       "      <td>2</td>\n",
       "      <td>0.1040</td>\n",
       "      <td>-11.602</td>\n",
       "      <td>1</td>\n",
       "      <td>1</td>\n",
       "      <td>0.0800</td>\n",
       "      <td>115.063</td>\n",
       "      <td>0.9760</td>\n",
       "      <td>1928</td>\n",
       "    </tr>\n",
       "    <tr>\n",
       "      <th>...</th>\n",
       "      <td>...</td>\n",
       "      <td>...</td>\n",
       "      <td>...</td>\n",
       "      <td>...</td>\n",
       "      <td>...</td>\n",
       "      <td>...</td>\n",
       "      <td>...</td>\n",
       "      <td>...</td>\n",
       "      <td>...</td>\n",
       "      <td>...</td>\n",
       "      <td>...</td>\n",
       "      <td>...</td>\n",
       "      <td>...</td>\n",
       "      <td>...</td>\n",
       "      <td>...</td>\n",
       "    </tr>\n",
       "    <tr>\n",
       "      <th>169903</th>\n",
       "      <td>0.2100</td>\n",
       "      <td>0.795</td>\n",
       "      <td>218501</td>\n",
       "      <td>0.5850</td>\n",
       "      <td>0</td>\n",
       "      <td>0.000001</td>\n",
       "      <td>8</td>\n",
       "      <td>0.1120</td>\n",
       "      <td>-4.451</td>\n",
       "      <td>1</td>\n",
       "      <td>68</td>\n",
       "      <td>0.0374</td>\n",
       "      <td>97.479</td>\n",
       "      <td>0.9340</td>\n",
       "      <td>2020</td>\n",
       "    </tr>\n",
       "    <tr>\n",
       "      <th>169905</th>\n",
       "      <td>0.0167</td>\n",
       "      <td>0.719</td>\n",
       "      <td>167468</td>\n",
       "      <td>0.3850</td>\n",
       "      <td>0</td>\n",
       "      <td>0.031300</td>\n",
       "      <td>8</td>\n",
       "      <td>0.1110</td>\n",
       "      <td>-10.907</td>\n",
       "      <td>1</td>\n",
       "      <td>64</td>\n",
       "      <td>0.0403</td>\n",
       "      <td>128.000</td>\n",
       "      <td>0.2700</td>\n",
       "      <td>2020</td>\n",
       "    </tr>\n",
       "    <tr>\n",
       "      <th>169906</th>\n",
       "      <td>0.5380</td>\n",
       "      <td>0.514</td>\n",
       "      <td>180700</td>\n",
       "      <td>0.5390</td>\n",
       "      <td>0</td>\n",
       "      <td>0.002330</td>\n",
       "      <td>7</td>\n",
       "      <td>0.1080</td>\n",
       "      <td>-9.332</td>\n",
       "      <td>1</td>\n",
       "      <td>70</td>\n",
       "      <td>0.1050</td>\n",
       "      <td>123.700</td>\n",
       "      <td>0.1530</td>\n",
       "      <td>2020</td>\n",
       "    </tr>\n",
       "    <tr>\n",
       "      <th>169907</th>\n",
       "      <td>0.0714</td>\n",
       "      <td>0.646</td>\n",
       "      <td>167308</td>\n",
       "      <td>0.7610</td>\n",
       "      <td>0</td>\n",
       "      <td>0.000000</td>\n",
       "      <td>1</td>\n",
       "      <td>0.2220</td>\n",
       "      <td>-2.557</td>\n",
       "      <td>1</td>\n",
       "      <td>70</td>\n",
       "      <td>0.0385</td>\n",
       "      <td>129.916</td>\n",
       "      <td>0.4720</td>\n",
       "      <td>2020</td>\n",
       "    </tr>\n",
       "    <tr>\n",
       "      <th>169908</th>\n",
       "      <td>0.1090</td>\n",
       "      <td>0.512</td>\n",
       "      <td>214787</td>\n",
       "      <td>0.4280</td>\n",
       "      <td>0</td>\n",
       "      <td>0.000000</td>\n",
       "      <td>0</td>\n",
       "      <td>0.1050</td>\n",
       "      <td>-7.387</td>\n",
       "      <td>1</td>\n",
       "      <td>65</td>\n",
       "      <td>0.0271</td>\n",
       "      <td>80.588</td>\n",
       "      <td>0.3660</td>\n",
       "      <td>2020</td>\n",
       "    </tr>\n",
       "  </tbody>\n",
       "</table>\n",
       "<p>116474 rows × 15 columns</p>\n",
       "</div>"
      ],
      "text/plain": [
       "        acousticness  danceability  duration_ms  energy  explicit  \\\n",
       "11            0.9890         0.170        85133  0.0823         0   \n",
       "40            0.9770         0.305       215267  0.0830         0   \n",
       "42            0.9900         0.337       333907  0.0699         0   \n",
       "47            0.9850         0.355       138013  0.0452         0   \n",
       "59            0.9910         0.839       162147  0.3700         0   \n",
       "...              ...           ...          ...     ...       ...   \n",
       "169903        0.2100         0.795       218501  0.5850         0   \n",
       "169905        0.0167         0.719       167468  0.3850         0   \n",
       "169906        0.5380         0.514       180700  0.5390         0   \n",
       "169907        0.0714         0.646       167308  0.7610         0   \n",
       "169908        0.1090         0.512       214787  0.4280         0   \n",
       "\n",
       "        instrumentalness  key  liveness  loudness  mode  popularity  \\\n",
       "11              0.911000   10    0.0962   -30.107     0           1   \n",
       "40              0.697000    6    0.2310   -20.895     1           1   \n",
       "42              0.903000    5    0.1060   -23.806     0           2   \n",
       "47              0.825000    1    0.1530   -24.125     1           2   \n",
       "59              0.041900    2    0.1040   -11.602     1           1   \n",
       "...                  ...  ...       ...       ...   ...         ...   \n",
       "169903          0.000001    8    0.1120    -4.451     1          68   \n",
       "169905          0.031300    8    0.1110   -10.907     1          64   \n",
       "169906          0.002330    7    0.1080    -9.332     1          70   \n",
       "169907          0.000000    1    0.2220    -2.557     1          70   \n",
       "169908          0.000000    0    0.1050    -7.387     1          65   \n",
       "\n",
       "        speechiness    tempo  valence  year  \n",
       "11           0.0317   85.989   0.3460  1928  \n",
       "40           0.0331   80.622   0.0479  1928  \n",
       "42           0.0322   72.133   0.1350  1928  \n",
       "47           0.0329   84.551   0.2760  1928  \n",
       "59           0.0800  115.063   0.9760  1928  \n",
       "...             ...      ...      ...   ...  \n",
       "169903       0.0374   97.479   0.9340  2020  \n",
       "169905       0.0403  128.000   0.2700  2020  \n",
       "169906       0.1050  123.700   0.1530  2020  \n",
       "169907       0.0385  129.916   0.4720  2020  \n",
       "169908       0.0271   80.588   0.3660  2020  \n",
       "\n",
       "[116474 rows x 15 columns]"
      ]
     },
     "execution_count": 85,
     "metadata": {},
     "output_type": "execute_result"
    }
   ],
   "source": [
    "q1 = no_outliers_tempo['duration_ms'].quantile(0.25)\n",
    "q3 = no_outliers_tempo['duration_ms'].quantile(0.75)\n",
    "\n",
    "print(q1 - 1.5 * (q3 - q1))\n",
    "print(no_outliers_tempo[no_outliers_tempo['duration_ms'] <= q1 - 1.5 * (q3 - q1)].shape[0])\n",
    "print(q3 + 1.5 * (q3 - q1))\n",
    "print(no_outliers_tempo[no_outliers_tempo['duration_ms'] >= q3 + 1.5 * (q3 - q1)].shape[0])\n",
    "\n",
    "no_outliers_duration = no_outliers_tempo[(no_outliers_tempo['duration_ms'] <= q3 + 1.5 * (q3 - q1)) & (no_outliers_tempo['duration_ms'] >= q1 - 1.5 * (q3 - q1))]\n",
    "no_outliers_duration"
   ]
  },
  {
   "cell_type": "code",
   "execution_count": 152,
   "metadata": {},
   "outputs": [
    {
     "data": {
      "text/html": [
       "<div>\n",
       "<style scoped>\n",
       "    .dataframe tbody tr th:only-of-type {\n",
       "        vertical-align: middle;\n",
       "    }\n",
       "\n",
       "    .dataframe tbody tr th {\n",
       "        vertical-align: top;\n",
       "    }\n",
       "\n",
       "    .dataframe thead th {\n",
       "        text-align: right;\n",
       "    }\n",
       "</style>\n",
       "<table border=\"1\" class=\"dataframe\">\n",
       "  <thead>\n",
       "    <tr style=\"text-align: right;\">\n",
       "      <th></th>\n",
       "      <th>acousticness</th>\n",
       "      <th>danceability</th>\n",
       "      <th>duration_ms</th>\n",
       "      <th>energy</th>\n",
       "      <th>explicit</th>\n",
       "      <th>instrumentalness</th>\n",
       "      <th>key</th>\n",
       "      <th>liveness</th>\n",
       "      <th>loudness</th>\n",
       "      <th>mode</th>\n",
       "      <th>popularity</th>\n",
       "      <th>speechiness</th>\n",
       "      <th>tempo</th>\n",
       "      <th>valence</th>\n",
       "      <th>year</th>\n",
       "    </tr>\n",
       "  </thead>\n",
       "  <tbody>\n",
       "    <tr>\n",
       "      <th>131340</th>\n",
       "      <td>0.701</td>\n",
       "      <td>0.289</td>\n",
       "      <td>407947</td>\n",
       "      <td>0.165</td>\n",
       "      <td>0</td>\n",
       "      <td>0.21700</td>\n",
       "      <td>10</td>\n",
       "      <td>0.1100</td>\n",
       "      <td>-17.606</td>\n",
       "      <td>1</td>\n",
       "      <td>35</td>\n",
       "      <td>0.0301</td>\n",
       "      <td>83.720</td>\n",
       "      <td>0.1120</td>\n",
       "      <td>1979</td>\n",
       "    </tr>\n",
       "    <tr>\n",
       "      <th>103826</th>\n",
       "      <td>0.461</td>\n",
       "      <td>0.512</td>\n",
       "      <td>407867</td>\n",
       "      <td>0.455</td>\n",
       "      <td>0</td>\n",
       "      <td>0.43600</td>\n",
       "      <td>2</td>\n",
       "      <td>0.1240</td>\n",
       "      <td>-8.595</td>\n",
       "      <td>1</td>\n",
       "      <td>46</td>\n",
       "      <td>0.0300</td>\n",
       "      <td>181.112</td>\n",
       "      <td>0.5820</td>\n",
       "      <td>1985</td>\n",
       "    </tr>\n",
       "    <tr>\n",
       "      <th>120044</th>\n",
       "      <td>0.417</td>\n",
       "      <td>0.623</td>\n",
       "      <td>407840</td>\n",
       "      <td>0.315</td>\n",
       "      <td>0</td>\n",
       "      <td>0.35400</td>\n",
       "      <td>0</td>\n",
       "      <td>0.0195</td>\n",
       "      <td>-15.144</td>\n",
       "      <td>1</td>\n",
       "      <td>26</td>\n",
       "      <td>0.0574</td>\n",
       "      <td>116.304</td>\n",
       "      <td>0.4910</td>\n",
       "      <td>1959</td>\n",
       "    </tr>\n",
       "    <tr>\n",
       "      <th>80571</th>\n",
       "      <td>0.995</td>\n",
       "      <td>0.319</td>\n",
       "      <td>407827</td>\n",
       "      <td>0.035</td>\n",
       "      <td>0</td>\n",
       "      <td>0.91700</td>\n",
       "      <td>7</td>\n",
       "      <td>0.0916</td>\n",
       "      <td>-26.216</td>\n",
       "      <td>1</td>\n",
       "      <td>18</td>\n",
       "      <td>0.0619</td>\n",
       "      <td>73.181</td>\n",
       "      <td>0.0502</td>\n",
       "      <td>1946</td>\n",
       "    </tr>\n",
       "    <tr>\n",
       "      <th>141610</th>\n",
       "      <td>0.292</td>\n",
       "      <td>0.342</td>\n",
       "      <td>407800</td>\n",
       "      <td>0.379</td>\n",
       "      <td>0</td>\n",
       "      <td>0.00426</td>\n",
       "      <td>9</td>\n",
       "      <td>0.1010</td>\n",
       "      <td>-10.525</td>\n",
       "      <td>0</td>\n",
       "      <td>42</td>\n",
       "      <td>0.0294</td>\n",
       "      <td>138.771</td>\n",
       "      <td>0.0857</td>\n",
       "      <td>1993</td>\n",
       "    </tr>\n",
       "    <tr>\n",
       "      <th>...</th>\n",
       "      <td>...</td>\n",
       "      <td>...</td>\n",
       "      <td>...</td>\n",
       "      <td>...</td>\n",
       "      <td>...</td>\n",
       "      <td>...</td>\n",
       "      <td>...</td>\n",
       "      <td>...</td>\n",
       "      <td>...</td>\n",
       "      <td>...</td>\n",
       "      <td>...</td>\n",
       "      <td>...</td>\n",
       "      <td>...</td>\n",
       "      <td>...</td>\n",
       "      <td>...</td>\n",
       "    </tr>\n",
       "    <tr>\n",
       "      <th>163568</th>\n",
       "      <td>0.993</td>\n",
       "      <td>0.552</td>\n",
       "      <td>36027</td>\n",
       "      <td>0.381</td>\n",
       "      <td>0</td>\n",
       "      <td>0.89700</td>\n",
       "      <td>5</td>\n",
       "      <td>0.1810</td>\n",
       "      <td>-18.549</td>\n",
       "      <td>1</td>\n",
       "      <td>19</td>\n",
       "      <td>0.0745</td>\n",
       "      <td>117.332</td>\n",
       "      <td>0.9620</td>\n",
       "      <td>1957</td>\n",
       "    </tr>\n",
       "    <tr>\n",
       "      <th>36952</th>\n",
       "      <td>0.751</td>\n",
       "      <td>0.536</td>\n",
       "      <td>35973</td>\n",
       "      <td>0.229</td>\n",
       "      <td>0</td>\n",
       "      <td>0.00000</td>\n",
       "      <td>4</td>\n",
       "      <td>0.6290</td>\n",
       "      <td>-24.760</td>\n",
       "      <td>1</td>\n",
       "      <td>37</td>\n",
       "      <td>0.0537</td>\n",
       "      <td>148.165</td>\n",
       "      <td>0.9640</td>\n",
       "      <td>1988</td>\n",
       "    </tr>\n",
       "    <tr>\n",
       "      <th>89660</th>\n",
       "      <td>0.920</td>\n",
       "      <td>0.438</td>\n",
       "      <td>35933</td>\n",
       "      <td>0.274</td>\n",
       "      <td>0</td>\n",
       "      <td>0.00000</td>\n",
       "      <td>0</td>\n",
       "      <td>0.6730</td>\n",
       "      <td>-13.897</td>\n",
       "      <td>0</td>\n",
       "      <td>13</td>\n",
       "      <td>0.0527</td>\n",
       "      <td>126.755</td>\n",
       "      <td>0.3970</td>\n",
       "      <td>1939</td>\n",
       "    </tr>\n",
       "    <tr>\n",
       "      <th>140122</th>\n",
       "      <td>0.789</td>\n",
       "      <td>0.302</td>\n",
       "      <td>35800</td>\n",
       "      <td>0.392</td>\n",
       "      <td>0</td>\n",
       "      <td>0.00000</td>\n",
       "      <td>2</td>\n",
       "      <td>0.7910</td>\n",
       "      <td>-16.468</td>\n",
       "      <td>1</td>\n",
       "      <td>39</td>\n",
       "      <td>0.1180</td>\n",
       "      <td>125.161</td>\n",
       "      <td>0.1560</td>\n",
       "      <td>1978</td>\n",
       "    </tr>\n",
       "    <tr>\n",
       "      <th>159911</th>\n",
       "      <td>0.018</td>\n",
       "      <td>0.723</td>\n",
       "      <td>35613</td>\n",
       "      <td>0.844</td>\n",
       "      <td>0</td>\n",
       "      <td>0.88700</td>\n",
       "      <td>10</td>\n",
       "      <td>0.0341</td>\n",
       "      <td>-8.684</td>\n",
       "      <td>0</td>\n",
       "      <td>50</td>\n",
       "      <td>0.0719</td>\n",
       "      <td>164.920</td>\n",
       "      <td>1.0000</td>\n",
       "      <td>2005</td>\n",
       "    </tr>\n",
       "  </tbody>\n",
       "</table>\n",
       "<p>116474 rows × 15 columns</p>\n",
       "</div>"
      ],
      "text/plain": [
       "        acousticness  danceability  duration_ms  energy  explicit  \\\n",
       "131340         0.701         0.289       407947   0.165         0   \n",
       "103826         0.461         0.512       407867   0.455         0   \n",
       "120044         0.417         0.623       407840   0.315         0   \n",
       "80571          0.995         0.319       407827   0.035         0   \n",
       "141610         0.292         0.342       407800   0.379         0   \n",
       "...              ...           ...          ...     ...       ...   \n",
       "163568         0.993         0.552        36027   0.381         0   \n",
       "36952          0.751         0.536        35973   0.229         0   \n",
       "89660          0.920         0.438        35933   0.274         0   \n",
       "140122         0.789         0.302        35800   0.392         0   \n",
       "159911         0.018         0.723        35613   0.844         0   \n",
       "\n",
       "        instrumentalness  key  liveness  loudness  mode  popularity  \\\n",
       "131340           0.21700   10    0.1100   -17.606     1          35   \n",
       "103826           0.43600    2    0.1240    -8.595     1          46   \n",
       "120044           0.35400    0    0.0195   -15.144     1          26   \n",
       "80571            0.91700    7    0.0916   -26.216     1          18   \n",
       "141610           0.00426    9    0.1010   -10.525     0          42   \n",
       "...                  ...  ...       ...       ...   ...         ...   \n",
       "163568           0.89700    5    0.1810   -18.549     1          19   \n",
       "36952            0.00000    4    0.6290   -24.760     1          37   \n",
       "89660            0.00000    0    0.6730   -13.897     0          13   \n",
       "140122           0.00000    2    0.7910   -16.468     1          39   \n",
       "159911           0.88700   10    0.0341    -8.684     0          50   \n",
       "\n",
       "        speechiness    tempo  valence  year  \n",
       "131340       0.0301   83.720   0.1120  1979  \n",
       "103826       0.0300  181.112   0.5820  1985  \n",
       "120044       0.0574  116.304   0.4910  1959  \n",
       "80571        0.0619   73.181   0.0502  1946  \n",
       "141610       0.0294  138.771   0.0857  1993  \n",
       "...             ...      ...      ...   ...  \n",
       "163568       0.0745  117.332   0.9620  1957  \n",
       "36952        0.0537  148.165   0.9640  1988  \n",
       "89660        0.0527  126.755   0.3970  1939  \n",
       "140122       0.1180  125.161   0.1560  1978  \n",
       "159911       0.0719  164.920   1.0000  2005  \n",
       "\n",
       "[116474 rows x 15 columns]"
      ]
     },
     "execution_count": 152,
     "metadata": {},
     "output_type": "execute_result"
    }
   ],
   "source": [
    "no_outliers_duration.sort_values(by='duration_ms', ascending=False)"
   ]
  },
  {
   "cell_type": "markdown",
   "metadata": {},
   "source": [
    "Energy"
   ]
  },
  {
   "cell_type": "code",
   "execution_count": 86,
   "metadata": {},
   "outputs": [
    {
     "name": "stdout",
     "output_type": "stream",
     "text": [
      "-0.33\n",
      "0\n",
      "1.374\n",
      "0\n"
     ]
    },
    {
     "data": {
      "text/html": [
       "<div>\n",
       "<style scoped>\n",
       "    .dataframe tbody tr th:only-of-type {\n",
       "        vertical-align: middle;\n",
       "    }\n",
       "\n",
       "    .dataframe tbody tr th {\n",
       "        vertical-align: top;\n",
       "    }\n",
       "\n",
       "    .dataframe thead th {\n",
       "        text-align: right;\n",
       "    }\n",
       "</style>\n",
       "<table border=\"1\" class=\"dataframe\">\n",
       "  <thead>\n",
       "    <tr style=\"text-align: right;\">\n",
       "      <th></th>\n",
       "      <th>acousticness</th>\n",
       "      <th>danceability</th>\n",
       "      <th>duration_ms</th>\n",
       "      <th>energy</th>\n",
       "      <th>explicit</th>\n",
       "      <th>instrumentalness</th>\n",
       "      <th>key</th>\n",
       "      <th>liveness</th>\n",
       "      <th>loudness</th>\n",
       "      <th>mode</th>\n",
       "      <th>popularity</th>\n",
       "      <th>speechiness</th>\n",
       "      <th>tempo</th>\n",
       "      <th>valence</th>\n",
       "      <th>year</th>\n",
       "    </tr>\n",
       "  </thead>\n",
       "  <tbody>\n",
       "    <tr>\n",
       "      <th>11</th>\n",
       "      <td>0.9890</td>\n",
       "      <td>0.170</td>\n",
       "      <td>85133</td>\n",
       "      <td>0.0823</td>\n",
       "      <td>0</td>\n",
       "      <td>0.911000</td>\n",
       "      <td>10</td>\n",
       "      <td>0.0962</td>\n",
       "      <td>-30.107</td>\n",
       "      <td>0</td>\n",
       "      <td>1</td>\n",
       "      <td>0.0317</td>\n",
       "      <td>85.989</td>\n",
       "      <td>0.3460</td>\n",
       "      <td>1928</td>\n",
       "    </tr>\n",
       "    <tr>\n",
       "      <th>40</th>\n",
       "      <td>0.9770</td>\n",
       "      <td>0.305</td>\n",
       "      <td>215267</td>\n",
       "      <td>0.0830</td>\n",
       "      <td>0</td>\n",
       "      <td>0.697000</td>\n",
       "      <td>6</td>\n",
       "      <td>0.2310</td>\n",
       "      <td>-20.895</td>\n",
       "      <td>1</td>\n",
       "      <td>1</td>\n",
       "      <td>0.0331</td>\n",
       "      <td>80.622</td>\n",
       "      <td>0.0479</td>\n",
       "      <td>1928</td>\n",
       "    </tr>\n",
       "    <tr>\n",
       "      <th>42</th>\n",
       "      <td>0.9900</td>\n",
       "      <td>0.337</td>\n",
       "      <td>333907</td>\n",
       "      <td>0.0699</td>\n",
       "      <td>0</td>\n",
       "      <td>0.903000</td>\n",
       "      <td>5</td>\n",
       "      <td>0.1060</td>\n",
       "      <td>-23.806</td>\n",
       "      <td>0</td>\n",
       "      <td>2</td>\n",
       "      <td>0.0322</td>\n",
       "      <td>72.133</td>\n",
       "      <td>0.1350</td>\n",
       "      <td>1928</td>\n",
       "    </tr>\n",
       "    <tr>\n",
       "      <th>47</th>\n",
       "      <td>0.9850</td>\n",
       "      <td>0.355</td>\n",
       "      <td>138013</td>\n",
       "      <td>0.0452</td>\n",
       "      <td>0</td>\n",
       "      <td>0.825000</td>\n",
       "      <td>1</td>\n",
       "      <td>0.1530</td>\n",
       "      <td>-24.125</td>\n",
       "      <td>1</td>\n",
       "      <td>2</td>\n",
       "      <td>0.0329</td>\n",
       "      <td>84.551</td>\n",
       "      <td>0.2760</td>\n",
       "      <td>1928</td>\n",
       "    </tr>\n",
       "    <tr>\n",
       "      <th>59</th>\n",
       "      <td>0.9910</td>\n",
       "      <td>0.839</td>\n",
       "      <td>162147</td>\n",
       "      <td>0.3700</td>\n",
       "      <td>0</td>\n",
       "      <td>0.041900</td>\n",
       "      <td>2</td>\n",
       "      <td>0.1040</td>\n",
       "      <td>-11.602</td>\n",
       "      <td>1</td>\n",
       "      <td>1</td>\n",
       "      <td>0.0800</td>\n",
       "      <td>115.063</td>\n",
       "      <td>0.9760</td>\n",
       "      <td>1928</td>\n",
       "    </tr>\n",
       "    <tr>\n",
       "      <th>...</th>\n",
       "      <td>...</td>\n",
       "      <td>...</td>\n",
       "      <td>...</td>\n",
       "      <td>...</td>\n",
       "      <td>...</td>\n",
       "      <td>...</td>\n",
       "      <td>...</td>\n",
       "      <td>...</td>\n",
       "      <td>...</td>\n",
       "      <td>...</td>\n",
       "      <td>...</td>\n",
       "      <td>...</td>\n",
       "      <td>...</td>\n",
       "      <td>...</td>\n",
       "      <td>...</td>\n",
       "    </tr>\n",
       "    <tr>\n",
       "      <th>169903</th>\n",
       "      <td>0.2100</td>\n",
       "      <td>0.795</td>\n",
       "      <td>218501</td>\n",
       "      <td>0.5850</td>\n",
       "      <td>0</td>\n",
       "      <td>0.000001</td>\n",
       "      <td>8</td>\n",
       "      <td>0.1120</td>\n",
       "      <td>-4.451</td>\n",
       "      <td>1</td>\n",
       "      <td>68</td>\n",
       "      <td>0.0374</td>\n",
       "      <td>97.479</td>\n",
       "      <td>0.9340</td>\n",
       "      <td>2020</td>\n",
       "    </tr>\n",
       "    <tr>\n",
       "      <th>169905</th>\n",
       "      <td>0.0167</td>\n",
       "      <td>0.719</td>\n",
       "      <td>167468</td>\n",
       "      <td>0.3850</td>\n",
       "      <td>0</td>\n",
       "      <td>0.031300</td>\n",
       "      <td>8</td>\n",
       "      <td>0.1110</td>\n",
       "      <td>-10.907</td>\n",
       "      <td>1</td>\n",
       "      <td>64</td>\n",
       "      <td>0.0403</td>\n",
       "      <td>128.000</td>\n",
       "      <td>0.2700</td>\n",
       "      <td>2020</td>\n",
       "    </tr>\n",
       "    <tr>\n",
       "      <th>169906</th>\n",
       "      <td>0.5380</td>\n",
       "      <td>0.514</td>\n",
       "      <td>180700</td>\n",
       "      <td>0.5390</td>\n",
       "      <td>0</td>\n",
       "      <td>0.002330</td>\n",
       "      <td>7</td>\n",
       "      <td>0.1080</td>\n",
       "      <td>-9.332</td>\n",
       "      <td>1</td>\n",
       "      <td>70</td>\n",
       "      <td>0.1050</td>\n",
       "      <td>123.700</td>\n",
       "      <td>0.1530</td>\n",
       "      <td>2020</td>\n",
       "    </tr>\n",
       "    <tr>\n",
       "      <th>169907</th>\n",
       "      <td>0.0714</td>\n",
       "      <td>0.646</td>\n",
       "      <td>167308</td>\n",
       "      <td>0.7610</td>\n",
       "      <td>0</td>\n",
       "      <td>0.000000</td>\n",
       "      <td>1</td>\n",
       "      <td>0.2220</td>\n",
       "      <td>-2.557</td>\n",
       "      <td>1</td>\n",
       "      <td>70</td>\n",
       "      <td>0.0385</td>\n",
       "      <td>129.916</td>\n",
       "      <td>0.4720</td>\n",
       "      <td>2020</td>\n",
       "    </tr>\n",
       "    <tr>\n",
       "      <th>169908</th>\n",
       "      <td>0.1090</td>\n",
       "      <td>0.512</td>\n",
       "      <td>214787</td>\n",
       "      <td>0.4280</td>\n",
       "      <td>0</td>\n",
       "      <td>0.000000</td>\n",
       "      <td>0</td>\n",
       "      <td>0.1050</td>\n",
       "      <td>-7.387</td>\n",
       "      <td>1</td>\n",
       "      <td>65</td>\n",
       "      <td>0.0271</td>\n",
       "      <td>80.588</td>\n",
       "      <td>0.3660</td>\n",
       "      <td>2020</td>\n",
       "    </tr>\n",
       "  </tbody>\n",
       "</table>\n",
       "<p>116474 rows × 15 columns</p>\n",
       "</div>"
      ],
      "text/plain": [
       "        acousticness  danceability  duration_ms  energy  explicit  \\\n",
       "11            0.9890         0.170        85133  0.0823         0   \n",
       "40            0.9770         0.305       215267  0.0830         0   \n",
       "42            0.9900         0.337       333907  0.0699         0   \n",
       "47            0.9850         0.355       138013  0.0452         0   \n",
       "59            0.9910         0.839       162147  0.3700         0   \n",
       "...              ...           ...          ...     ...       ...   \n",
       "169903        0.2100         0.795       218501  0.5850         0   \n",
       "169905        0.0167         0.719       167468  0.3850         0   \n",
       "169906        0.5380         0.514       180700  0.5390         0   \n",
       "169907        0.0714         0.646       167308  0.7610         0   \n",
       "169908        0.1090         0.512       214787  0.4280         0   \n",
       "\n",
       "        instrumentalness  key  liveness  loudness  mode  popularity  \\\n",
       "11              0.911000   10    0.0962   -30.107     0           1   \n",
       "40              0.697000    6    0.2310   -20.895     1           1   \n",
       "42              0.903000    5    0.1060   -23.806     0           2   \n",
       "47              0.825000    1    0.1530   -24.125     1           2   \n",
       "59              0.041900    2    0.1040   -11.602     1           1   \n",
       "...                  ...  ...       ...       ...   ...         ...   \n",
       "169903          0.000001    8    0.1120    -4.451     1          68   \n",
       "169905          0.031300    8    0.1110   -10.907     1          64   \n",
       "169906          0.002330    7    0.1080    -9.332     1          70   \n",
       "169907          0.000000    1    0.2220    -2.557     1          70   \n",
       "169908          0.000000    0    0.1050    -7.387     1          65   \n",
       "\n",
       "        speechiness    tempo  valence  year  \n",
       "11           0.0317   85.989   0.3460  1928  \n",
       "40           0.0331   80.622   0.0479  1928  \n",
       "42           0.0322   72.133   0.1350  1928  \n",
       "47           0.0329   84.551   0.2760  1928  \n",
       "59           0.0800  115.063   0.9760  1928  \n",
       "...             ...      ...      ...   ...  \n",
       "169903       0.0374   97.479   0.9340  2020  \n",
       "169905       0.0403  128.000   0.2700  2020  \n",
       "169906       0.1050  123.700   0.1530  2020  \n",
       "169907       0.0385  129.916   0.4720  2020  \n",
       "169908       0.0271   80.588   0.3660  2020  \n",
       "\n",
       "[116474 rows x 15 columns]"
      ]
     },
     "execution_count": 86,
     "metadata": {},
     "output_type": "execute_result"
    }
   ],
   "source": [
    "q1 = no_outliers_duration['energy'].quantile(0.25)\n",
    "q3 = no_outliers_duration['energy'].quantile(0.75)\n",
    "\n",
    "print(q1 - 1.5 * (q3 - q1))\n",
    "print(no_outliers_duration[no_outliers_duration['energy'] <= q1 - 1.5 * (q3 - q1)].shape[0])\n",
    "print(q3 + 1.5 * (q3 - q1))\n",
    "print(no_outliers_duration[no_outliers_duration['energy'] >= q3 + 1.5 * (q3 - q1)].shape[0])\n",
    "\n",
    "no_outliers_energy = no_outliers_duration[(no_outliers_duration['energy'] <= q3 + 1.5 * (q3 - q1)) & (no_outliers_duration['energy'] >= q1 - 1.5 * (q3 - q1))]\n",
    "no_outliers_energy"
   ]
  },
  {
   "cell_type": "markdown",
   "metadata": {},
   "source": [
    "Instrumentalness"
   ]
  },
  {
   "cell_type": "code",
   "execution_count": 87,
   "metadata": {},
   "outputs": [
    {
     "name": "stdout",
     "output_type": "stream",
     "text": [
      "-0.04035\n",
      "0\n",
      "0.06725\n",
      "25054\n"
     ]
    },
    {
     "data": {
      "text/html": [
       "<div>\n",
       "<style scoped>\n",
       "    .dataframe tbody tr th:only-of-type {\n",
       "        vertical-align: middle;\n",
       "    }\n",
       "\n",
       "    .dataframe tbody tr th {\n",
       "        vertical-align: top;\n",
       "    }\n",
       "\n",
       "    .dataframe thead th {\n",
       "        text-align: right;\n",
       "    }\n",
       "</style>\n",
       "<table border=\"1\" class=\"dataframe\">\n",
       "  <thead>\n",
       "    <tr style=\"text-align: right;\">\n",
       "      <th></th>\n",
       "      <th>acousticness</th>\n",
       "      <th>danceability</th>\n",
       "      <th>duration_ms</th>\n",
       "      <th>energy</th>\n",
       "      <th>explicit</th>\n",
       "      <th>instrumentalness</th>\n",
       "      <th>key</th>\n",
       "      <th>liveness</th>\n",
       "      <th>loudness</th>\n",
       "      <th>mode</th>\n",
       "      <th>popularity</th>\n",
       "      <th>speechiness</th>\n",
       "      <th>tempo</th>\n",
       "      <th>valence</th>\n",
       "      <th>year</th>\n",
       "    </tr>\n",
       "  </thead>\n",
       "  <tbody>\n",
       "    <tr>\n",
       "      <th>59</th>\n",
       "      <td>0.9910</td>\n",
       "      <td>0.839</td>\n",
       "      <td>162147</td>\n",
       "      <td>0.3700</td>\n",
       "      <td>0</td>\n",
       "      <td>0.041900</td>\n",
       "      <td>2</td>\n",
       "      <td>0.104</td>\n",
       "      <td>-11.602</td>\n",
       "      <td>1</td>\n",
       "      <td>1</td>\n",
       "      <td>0.0800</td>\n",
       "      <td>115.063</td>\n",
       "      <td>0.976</td>\n",
       "      <td>1928</td>\n",
       "    </tr>\n",
       "    <tr>\n",
       "      <th>67</th>\n",
       "      <td>0.9470</td>\n",
       "      <td>0.333</td>\n",
       "      <td>122733</td>\n",
       "      <td>0.1460</td>\n",
       "      <td>0</td>\n",
       "      <td>0.000426</td>\n",
       "      <td>2</td>\n",
       "      <td>0.265</td>\n",
       "      <td>-16.990</td>\n",
       "      <td>1</td>\n",
       "      <td>2</td>\n",
       "      <td>0.0353</td>\n",
       "      <td>75.372</td>\n",
       "      <td>0.234</td>\n",
       "      <td>1928</td>\n",
       "    </tr>\n",
       "    <tr>\n",
       "      <th>82</th>\n",
       "      <td>0.9180</td>\n",
       "      <td>0.754</td>\n",
       "      <td>184840</td>\n",
       "      <td>0.1940</td>\n",
       "      <td>0</td>\n",
       "      <td>0.000043</td>\n",
       "      <td>3</td>\n",
       "      <td>0.188</td>\n",
       "      <td>-11.634</td>\n",
       "      <td>1</td>\n",
       "      <td>1</td>\n",
       "      <td>0.0530</td>\n",
       "      <td>84.042</td>\n",
       "      <td>0.454</td>\n",
       "      <td>1928</td>\n",
       "    </tr>\n",
       "    <tr>\n",
       "      <th>108</th>\n",
       "      <td>0.9510</td>\n",
       "      <td>0.690</td>\n",
       "      <td>169509</td>\n",
       "      <td>0.7140</td>\n",
       "      <td>0</td>\n",
       "      <td>0.000348</td>\n",
       "      <td>0</td>\n",
       "      <td>0.234</td>\n",
       "      <td>-15.857</td>\n",
       "      <td>0</td>\n",
       "      <td>2</td>\n",
       "      <td>0.0747</td>\n",
       "      <td>116.188</td>\n",
       "      <td>0.804</td>\n",
       "      <td>1930</td>\n",
       "    </tr>\n",
       "    <tr>\n",
       "      <th>117</th>\n",
       "      <td>0.8700</td>\n",
       "      <td>0.353</td>\n",
       "      <td>137090</td>\n",
       "      <td>0.0785</td>\n",
       "      <td>0</td>\n",
       "      <td>0.000002</td>\n",
       "      <td>0</td>\n",
       "      <td>0.112</td>\n",
       "      <td>-18.434</td>\n",
       "      <td>0</td>\n",
       "      <td>2</td>\n",
       "      <td>0.0376</td>\n",
       "      <td>70.535</td>\n",
       "      <td>0.261</td>\n",
       "      <td>1930</td>\n",
       "    </tr>\n",
       "    <tr>\n",
       "      <th>...</th>\n",
       "      <td>...</td>\n",
       "      <td>...</td>\n",
       "      <td>...</td>\n",
       "      <td>...</td>\n",
       "      <td>...</td>\n",
       "      <td>...</td>\n",
       "      <td>...</td>\n",
       "      <td>...</td>\n",
       "      <td>...</td>\n",
       "      <td>...</td>\n",
       "      <td>...</td>\n",
       "      <td>...</td>\n",
       "      <td>...</td>\n",
       "      <td>...</td>\n",
       "      <td>...</td>\n",
       "    </tr>\n",
       "    <tr>\n",
       "      <th>169903</th>\n",
       "      <td>0.2100</td>\n",
       "      <td>0.795</td>\n",
       "      <td>218501</td>\n",
       "      <td>0.5850</td>\n",
       "      <td>0</td>\n",
       "      <td>0.000001</td>\n",
       "      <td>8</td>\n",
       "      <td>0.112</td>\n",
       "      <td>-4.451</td>\n",
       "      <td>1</td>\n",
       "      <td>68</td>\n",
       "      <td>0.0374</td>\n",
       "      <td>97.479</td>\n",
       "      <td>0.934</td>\n",
       "      <td>2020</td>\n",
       "    </tr>\n",
       "    <tr>\n",
       "      <th>169905</th>\n",
       "      <td>0.0167</td>\n",
       "      <td>0.719</td>\n",
       "      <td>167468</td>\n",
       "      <td>0.3850</td>\n",
       "      <td>0</td>\n",
       "      <td>0.031300</td>\n",
       "      <td>8</td>\n",
       "      <td>0.111</td>\n",
       "      <td>-10.907</td>\n",
       "      <td>1</td>\n",
       "      <td>64</td>\n",
       "      <td>0.0403</td>\n",
       "      <td>128.000</td>\n",
       "      <td>0.270</td>\n",
       "      <td>2020</td>\n",
       "    </tr>\n",
       "    <tr>\n",
       "      <th>169906</th>\n",
       "      <td>0.5380</td>\n",
       "      <td>0.514</td>\n",
       "      <td>180700</td>\n",
       "      <td>0.5390</td>\n",
       "      <td>0</td>\n",
       "      <td>0.002330</td>\n",
       "      <td>7</td>\n",
       "      <td>0.108</td>\n",
       "      <td>-9.332</td>\n",
       "      <td>1</td>\n",
       "      <td>70</td>\n",
       "      <td>0.1050</td>\n",
       "      <td>123.700</td>\n",
       "      <td>0.153</td>\n",
       "      <td>2020</td>\n",
       "    </tr>\n",
       "    <tr>\n",
       "      <th>169907</th>\n",
       "      <td>0.0714</td>\n",
       "      <td>0.646</td>\n",
       "      <td>167308</td>\n",
       "      <td>0.7610</td>\n",
       "      <td>0</td>\n",
       "      <td>0.000000</td>\n",
       "      <td>1</td>\n",
       "      <td>0.222</td>\n",
       "      <td>-2.557</td>\n",
       "      <td>1</td>\n",
       "      <td>70</td>\n",
       "      <td>0.0385</td>\n",
       "      <td>129.916</td>\n",
       "      <td>0.472</td>\n",
       "      <td>2020</td>\n",
       "    </tr>\n",
       "    <tr>\n",
       "      <th>169908</th>\n",
       "      <td>0.1090</td>\n",
       "      <td>0.512</td>\n",
       "      <td>214787</td>\n",
       "      <td>0.4280</td>\n",
       "      <td>0</td>\n",
       "      <td>0.000000</td>\n",
       "      <td>0</td>\n",
       "      <td>0.105</td>\n",
       "      <td>-7.387</td>\n",
       "      <td>1</td>\n",
       "      <td>65</td>\n",
       "      <td>0.0271</td>\n",
       "      <td>80.588</td>\n",
       "      <td>0.366</td>\n",
       "      <td>2020</td>\n",
       "    </tr>\n",
       "  </tbody>\n",
       "</table>\n",
       "<p>91420 rows × 15 columns</p>\n",
       "</div>"
      ],
      "text/plain": [
       "        acousticness  danceability  duration_ms  energy  explicit  \\\n",
       "59            0.9910         0.839       162147  0.3700         0   \n",
       "67            0.9470         0.333       122733  0.1460         0   \n",
       "82            0.9180         0.754       184840  0.1940         0   \n",
       "108           0.9510         0.690       169509  0.7140         0   \n",
       "117           0.8700         0.353       137090  0.0785         0   \n",
       "...              ...           ...          ...     ...       ...   \n",
       "169903        0.2100         0.795       218501  0.5850         0   \n",
       "169905        0.0167         0.719       167468  0.3850         0   \n",
       "169906        0.5380         0.514       180700  0.5390         0   \n",
       "169907        0.0714         0.646       167308  0.7610         0   \n",
       "169908        0.1090         0.512       214787  0.4280         0   \n",
       "\n",
       "        instrumentalness  key  liveness  loudness  mode  popularity  \\\n",
       "59              0.041900    2     0.104   -11.602     1           1   \n",
       "67              0.000426    2     0.265   -16.990     1           2   \n",
       "82              0.000043    3     0.188   -11.634     1           1   \n",
       "108             0.000348    0     0.234   -15.857     0           2   \n",
       "117             0.000002    0     0.112   -18.434     0           2   \n",
       "...                  ...  ...       ...       ...   ...         ...   \n",
       "169903          0.000001    8     0.112    -4.451     1          68   \n",
       "169905          0.031300    8     0.111   -10.907     1          64   \n",
       "169906          0.002330    7     0.108    -9.332     1          70   \n",
       "169907          0.000000    1     0.222    -2.557     1          70   \n",
       "169908          0.000000    0     0.105    -7.387     1          65   \n",
       "\n",
       "        speechiness    tempo  valence  year  \n",
       "59           0.0800  115.063    0.976  1928  \n",
       "67           0.0353   75.372    0.234  1928  \n",
       "82           0.0530   84.042    0.454  1928  \n",
       "108          0.0747  116.188    0.804  1930  \n",
       "117          0.0376   70.535    0.261  1930  \n",
       "...             ...      ...      ...   ...  \n",
       "169903       0.0374   97.479    0.934  2020  \n",
       "169905       0.0403  128.000    0.270  2020  \n",
       "169906       0.1050  123.700    0.153  2020  \n",
       "169907       0.0385  129.916    0.472  2020  \n",
       "169908       0.0271   80.588    0.366  2020  \n",
       "\n",
       "[91420 rows x 15 columns]"
      ]
     },
     "execution_count": 87,
     "metadata": {},
     "output_type": "execute_result"
    }
   ],
   "source": [
    "q1 = no_outliers_energy['instrumentalness'].quantile(0.25)\n",
    "q3 = no_outliers_energy['instrumentalness'].quantile(0.75)\n",
    "\n",
    "print(q1 - 1.5 * (q3 - q1))\n",
    "print(no_outliers_energy[no_outliers_energy['instrumentalness'] <= q1 - 1.5 * (q3 - q1)].shape[0])\n",
    "print(q3 + 1.5 * (q3 - q1))\n",
    "print(no_outliers_energy[no_outliers_energy['instrumentalness'] >= q3 + 1.5 * (q3 - q1)].shape[0])\n",
    "\n",
    "no_outliers_instrumentalness = no_outliers_energy[(no_outliers_energy['instrumentalness'] <= q3 + 1.5 * (q3 - q1)) & (no_outliers_energy['instrumentalness'] >= q1 - 1.5 * (q3 - q1))]\n",
    "no_outliers_instrumentalness"
   ]
  },
  {
   "cell_type": "markdown",
   "metadata": {},
   "source": [
    "Liveness"
   ]
  },
  {
   "cell_type": "code",
   "execution_count": 88,
   "metadata": {},
   "outputs": [
    {
     "name": "stdout",
     "output_type": "stream",
     "text": [
      "-0.1345\n",
      "0\n",
      "0.4759\n",
      "5616\n"
     ]
    },
    {
     "data": {
      "text/html": [
       "<div>\n",
       "<style scoped>\n",
       "    .dataframe tbody tr th:only-of-type {\n",
       "        vertical-align: middle;\n",
       "    }\n",
       "\n",
       "    .dataframe tbody tr th {\n",
       "        vertical-align: top;\n",
       "    }\n",
       "\n",
       "    .dataframe thead th {\n",
       "        text-align: right;\n",
       "    }\n",
       "</style>\n",
       "<table border=\"1\" class=\"dataframe\">\n",
       "  <thead>\n",
       "    <tr style=\"text-align: right;\">\n",
       "      <th></th>\n",
       "      <th>acousticness</th>\n",
       "      <th>danceability</th>\n",
       "      <th>duration_ms</th>\n",
       "      <th>energy</th>\n",
       "      <th>explicit</th>\n",
       "      <th>instrumentalness</th>\n",
       "      <th>key</th>\n",
       "      <th>liveness</th>\n",
       "      <th>loudness</th>\n",
       "      <th>mode</th>\n",
       "      <th>popularity</th>\n",
       "      <th>speechiness</th>\n",
       "      <th>tempo</th>\n",
       "      <th>valence</th>\n",
       "      <th>year</th>\n",
       "    </tr>\n",
       "  </thead>\n",
       "  <tbody>\n",
       "    <tr>\n",
       "      <th>59</th>\n",
       "      <td>0.9910</td>\n",
       "      <td>0.839</td>\n",
       "      <td>162147</td>\n",
       "      <td>0.3700</td>\n",
       "      <td>0</td>\n",
       "      <td>0.041900</td>\n",
       "      <td>2</td>\n",
       "      <td>0.104</td>\n",
       "      <td>-11.602</td>\n",
       "      <td>1</td>\n",
       "      <td>1</td>\n",
       "      <td>0.0800</td>\n",
       "      <td>115.063</td>\n",
       "      <td>0.976</td>\n",
       "      <td>1928</td>\n",
       "    </tr>\n",
       "    <tr>\n",
       "      <th>67</th>\n",
       "      <td>0.9470</td>\n",
       "      <td>0.333</td>\n",
       "      <td>122733</td>\n",
       "      <td>0.1460</td>\n",
       "      <td>0</td>\n",
       "      <td>0.000426</td>\n",
       "      <td>2</td>\n",
       "      <td>0.265</td>\n",
       "      <td>-16.990</td>\n",
       "      <td>1</td>\n",
       "      <td>2</td>\n",
       "      <td>0.0353</td>\n",
       "      <td>75.372</td>\n",
       "      <td>0.234</td>\n",
       "      <td>1928</td>\n",
       "    </tr>\n",
       "    <tr>\n",
       "      <th>82</th>\n",
       "      <td>0.9180</td>\n",
       "      <td>0.754</td>\n",
       "      <td>184840</td>\n",
       "      <td>0.1940</td>\n",
       "      <td>0</td>\n",
       "      <td>0.000043</td>\n",
       "      <td>3</td>\n",
       "      <td>0.188</td>\n",
       "      <td>-11.634</td>\n",
       "      <td>1</td>\n",
       "      <td>1</td>\n",
       "      <td>0.0530</td>\n",
       "      <td>84.042</td>\n",
       "      <td>0.454</td>\n",
       "      <td>1928</td>\n",
       "    </tr>\n",
       "    <tr>\n",
       "      <th>108</th>\n",
       "      <td>0.9510</td>\n",
       "      <td>0.690</td>\n",
       "      <td>169509</td>\n",
       "      <td>0.7140</td>\n",
       "      <td>0</td>\n",
       "      <td>0.000348</td>\n",
       "      <td>0</td>\n",
       "      <td>0.234</td>\n",
       "      <td>-15.857</td>\n",
       "      <td>0</td>\n",
       "      <td>2</td>\n",
       "      <td>0.0747</td>\n",
       "      <td>116.188</td>\n",
       "      <td>0.804</td>\n",
       "      <td>1930</td>\n",
       "    </tr>\n",
       "    <tr>\n",
       "      <th>117</th>\n",
       "      <td>0.8700</td>\n",
       "      <td>0.353</td>\n",
       "      <td>137090</td>\n",
       "      <td>0.0785</td>\n",
       "      <td>0</td>\n",
       "      <td>0.000002</td>\n",
       "      <td>0</td>\n",
       "      <td>0.112</td>\n",
       "      <td>-18.434</td>\n",
       "      <td>0</td>\n",
       "      <td>2</td>\n",
       "      <td>0.0376</td>\n",
       "      <td>70.535</td>\n",
       "      <td>0.261</td>\n",
       "      <td>1930</td>\n",
       "    </tr>\n",
       "    <tr>\n",
       "      <th>...</th>\n",
       "      <td>...</td>\n",
       "      <td>...</td>\n",
       "      <td>...</td>\n",
       "      <td>...</td>\n",
       "      <td>...</td>\n",
       "      <td>...</td>\n",
       "      <td>...</td>\n",
       "      <td>...</td>\n",
       "      <td>...</td>\n",
       "      <td>...</td>\n",
       "      <td>...</td>\n",
       "      <td>...</td>\n",
       "      <td>...</td>\n",
       "      <td>...</td>\n",
       "      <td>...</td>\n",
       "    </tr>\n",
       "    <tr>\n",
       "      <th>169903</th>\n",
       "      <td>0.2100</td>\n",
       "      <td>0.795</td>\n",
       "      <td>218501</td>\n",
       "      <td>0.5850</td>\n",
       "      <td>0</td>\n",
       "      <td>0.000001</td>\n",
       "      <td>8</td>\n",
       "      <td>0.112</td>\n",
       "      <td>-4.451</td>\n",
       "      <td>1</td>\n",
       "      <td>68</td>\n",
       "      <td>0.0374</td>\n",
       "      <td>97.479</td>\n",
       "      <td>0.934</td>\n",
       "      <td>2020</td>\n",
       "    </tr>\n",
       "    <tr>\n",
       "      <th>169905</th>\n",
       "      <td>0.0167</td>\n",
       "      <td>0.719</td>\n",
       "      <td>167468</td>\n",
       "      <td>0.3850</td>\n",
       "      <td>0</td>\n",
       "      <td>0.031300</td>\n",
       "      <td>8</td>\n",
       "      <td>0.111</td>\n",
       "      <td>-10.907</td>\n",
       "      <td>1</td>\n",
       "      <td>64</td>\n",
       "      <td>0.0403</td>\n",
       "      <td>128.000</td>\n",
       "      <td>0.270</td>\n",
       "      <td>2020</td>\n",
       "    </tr>\n",
       "    <tr>\n",
       "      <th>169906</th>\n",
       "      <td>0.5380</td>\n",
       "      <td>0.514</td>\n",
       "      <td>180700</td>\n",
       "      <td>0.5390</td>\n",
       "      <td>0</td>\n",
       "      <td>0.002330</td>\n",
       "      <td>7</td>\n",
       "      <td>0.108</td>\n",
       "      <td>-9.332</td>\n",
       "      <td>1</td>\n",
       "      <td>70</td>\n",
       "      <td>0.1050</td>\n",
       "      <td>123.700</td>\n",
       "      <td>0.153</td>\n",
       "      <td>2020</td>\n",
       "    </tr>\n",
       "    <tr>\n",
       "      <th>169907</th>\n",
       "      <td>0.0714</td>\n",
       "      <td>0.646</td>\n",
       "      <td>167308</td>\n",
       "      <td>0.7610</td>\n",
       "      <td>0</td>\n",
       "      <td>0.000000</td>\n",
       "      <td>1</td>\n",
       "      <td>0.222</td>\n",
       "      <td>-2.557</td>\n",
       "      <td>1</td>\n",
       "      <td>70</td>\n",
       "      <td>0.0385</td>\n",
       "      <td>129.916</td>\n",
       "      <td>0.472</td>\n",
       "      <td>2020</td>\n",
       "    </tr>\n",
       "    <tr>\n",
       "      <th>169908</th>\n",
       "      <td>0.1090</td>\n",
       "      <td>0.512</td>\n",
       "      <td>214787</td>\n",
       "      <td>0.4280</td>\n",
       "      <td>0</td>\n",
       "      <td>0.000000</td>\n",
       "      <td>0</td>\n",
       "      <td>0.105</td>\n",
       "      <td>-7.387</td>\n",
       "      <td>1</td>\n",
       "      <td>65</td>\n",
       "      <td>0.0271</td>\n",
       "      <td>80.588</td>\n",
       "      <td>0.366</td>\n",
       "      <td>2020</td>\n",
       "    </tr>\n",
       "  </tbody>\n",
       "</table>\n",
       "<p>85804 rows × 15 columns</p>\n",
       "</div>"
      ],
      "text/plain": [
       "        acousticness  danceability  duration_ms  energy  explicit  \\\n",
       "59            0.9910         0.839       162147  0.3700         0   \n",
       "67            0.9470         0.333       122733  0.1460         0   \n",
       "82            0.9180         0.754       184840  0.1940         0   \n",
       "108           0.9510         0.690       169509  0.7140         0   \n",
       "117           0.8700         0.353       137090  0.0785         0   \n",
       "...              ...           ...          ...     ...       ...   \n",
       "169903        0.2100         0.795       218501  0.5850         0   \n",
       "169905        0.0167         0.719       167468  0.3850         0   \n",
       "169906        0.5380         0.514       180700  0.5390         0   \n",
       "169907        0.0714         0.646       167308  0.7610         0   \n",
       "169908        0.1090         0.512       214787  0.4280         0   \n",
       "\n",
       "        instrumentalness  key  liveness  loudness  mode  popularity  \\\n",
       "59              0.041900    2     0.104   -11.602     1           1   \n",
       "67              0.000426    2     0.265   -16.990     1           2   \n",
       "82              0.000043    3     0.188   -11.634     1           1   \n",
       "108             0.000348    0     0.234   -15.857     0           2   \n",
       "117             0.000002    0     0.112   -18.434     0           2   \n",
       "...                  ...  ...       ...       ...   ...         ...   \n",
       "169903          0.000001    8     0.112    -4.451     1          68   \n",
       "169905          0.031300    8     0.111   -10.907     1          64   \n",
       "169906          0.002330    7     0.108    -9.332     1          70   \n",
       "169907          0.000000    1     0.222    -2.557     1          70   \n",
       "169908          0.000000    0     0.105    -7.387     1          65   \n",
       "\n",
       "        speechiness    tempo  valence  year  \n",
       "59           0.0800  115.063    0.976  1928  \n",
       "67           0.0353   75.372    0.234  1928  \n",
       "82           0.0530   84.042    0.454  1928  \n",
       "108          0.0747  116.188    0.804  1930  \n",
       "117          0.0376   70.535    0.261  1930  \n",
       "...             ...      ...      ...   ...  \n",
       "169903       0.0374   97.479    0.934  2020  \n",
       "169905       0.0403  128.000    0.270  2020  \n",
       "169906       0.1050  123.700    0.153  2020  \n",
       "169907       0.0385  129.916    0.472  2020  \n",
       "169908       0.0271   80.588    0.366  2020  \n",
       "\n",
       "[85804 rows x 15 columns]"
      ]
     },
     "execution_count": 88,
     "metadata": {},
     "output_type": "execute_result"
    }
   ],
   "source": [
    "q1 = no_outliers_instrumentalness['liveness'].quantile(0.25)\n",
    "q3 = no_outliers_instrumentalness['liveness'].quantile(0.75)\n",
    "\n",
    "print(q1 - 1.5 * (q3 - q1))\n",
    "print(no_outliers_instrumentalness[no_outliers_instrumentalness['liveness'] <= q1 - 1.5 * (q3 - q1)].shape[0])\n",
    "print(q3 + 1.5 * (q3 - q1))\n",
    "print(no_outliers_instrumentalness[no_outliers_instrumentalness['liveness'] >= q3 + 1.5 * (q3 - q1)].shape[0])\n",
    "\n",
    "no_outliers_liveness = no_outliers_instrumentalness[(no_outliers_instrumentalness['liveness'] <= q3 + 1.5 * (q3 - q1)) & (no_outliers_instrumentalness['liveness'] >= q1 - 1.5 * (q3 - q1))]\n",
    "no_outliers_liveness"
   ]
  },
  {
   "cell_type": "markdown",
   "metadata": {},
   "source": [
    "Popularity"
   ]
  },
  {
   "cell_type": "code",
   "execution_count": 89,
   "metadata": {},
   "outputs": [
    {
     "name": "stdout",
     "output_type": "stream",
     "text": [
      "-0.08875\n",
      "0\n",
      "0.39405\n",
      "2285\n"
     ]
    },
    {
     "data": {
      "text/html": [
       "<div>\n",
       "<style scoped>\n",
       "    .dataframe tbody tr th:only-of-type {\n",
       "        vertical-align: middle;\n",
       "    }\n",
       "\n",
       "    .dataframe tbody tr th {\n",
       "        vertical-align: top;\n",
       "    }\n",
       "\n",
       "    .dataframe thead th {\n",
       "        text-align: right;\n",
       "    }\n",
       "</style>\n",
       "<table border=\"1\" class=\"dataframe\">\n",
       "  <thead>\n",
       "    <tr style=\"text-align: right;\">\n",
       "      <th></th>\n",
       "      <th>acousticness</th>\n",
       "      <th>danceability</th>\n",
       "      <th>duration_ms</th>\n",
       "      <th>energy</th>\n",
       "      <th>explicit</th>\n",
       "      <th>instrumentalness</th>\n",
       "      <th>key</th>\n",
       "      <th>liveness</th>\n",
       "      <th>loudness</th>\n",
       "      <th>mode</th>\n",
       "      <th>popularity</th>\n",
       "      <th>speechiness</th>\n",
       "      <th>tempo</th>\n",
       "      <th>valence</th>\n",
       "      <th>year</th>\n",
       "    </tr>\n",
       "  </thead>\n",
       "  <tbody>\n",
       "    <tr>\n",
       "      <th>59</th>\n",
       "      <td>0.9910</td>\n",
       "      <td>0.839</td>\n",
       "      <td>162147</td>\n",
       "      <td>0.3700</td>\n",
       "      <td>0</td>\n",
       "      <td>0.041900</td>\n",
       "      <td>2</td>\n",
       "      <td>0.104</td>\n",
       "      <td>-11.602</td>\n",
       "      <td>1</td>\n",
       "      <td>1</td>\n",
       "      <td>0.0800</td>\n",
       "      <td>115.063</td>\n",
       "      <td>0.976</td>\n",
       "      <td>1928</td>\n",
       "    </tr>\n",
       "    <tr>\n",
       "      <th>67</th>\n",
       "      <td>0.9470</td>\n",
       "      <td>0.333</td>\n",
       "      <td>122733</td>\n",
       "      <td>0.1460</td>\n",
       "      <td>0</td>\n",
       "      <td>0.000426</td>\n",
       "      <td>2</td>\n",
       "      <td>0.265</td>\n",
       "      <td>-16.990</td>\n",
       "      <td>1</td>\n",
       "      <td>2</td>\n",
       "      <td>0.0353</td>\n",
       "      <td>75.372</td>\n",
       "      <td>0.234</td>\n",
       "      <td>1928</td>\n",
       "    </tr>\n",
       "    <tr>\n",
       "      <th>82</th>\n",
       "      <td>0.9180</td>\n",
       "      <td>0.754</td>\n",
       "      <td>184840</td>\n",
       "      <td>0.1940</td>\n",
       "      <td>0</td>\n",
       "      <td>0.000043</td>\n",
       "      <td>3</td>\n",
       "      <td>0.188</td>\n",
       "      <td>-11.634</td>\n",
       "      <td>1</td>\n",
       "      <td>1</td>\n",
       "      <td>0.0530</td>\n",
       "      <td>84.042</td>\n",
       "      <td>0.454</td>\n",
       "      <td>1928</td>\n",
       "    </tr>\n",
       "    <tr>\n",
       "      <th>108</th>\n",
       "      <td>0.9510</td>\n",
       "      <td>0.690</td>\n",
       "      <td>169509</td>\n",
       "      <td>0.7140</td>\n",
       "      <td>0</td>\n",
       "      <td>0.000348</td>\n",
       "      <td>0</td>\n",
       "      <td>0.234</td>\n",
       "      <td>-15.857</td>\n",
       "      <td>0</td>\n",
       "      <td>2</td>\n",
       "      <td>0.0747</td>\n",
       "      <td>116.188</td>\n",
       "      <td>0.804</td>\n",
       "      <td>1930</td>\n",
       "    </tr>\n",
       "    <tr>\n",
       "      <th>117</th>\n",
       "      <td>0.8700</td>\n",
       "      <td>0.353</td>\n",
       "      <td>137090</td>\n",
       "      <td>0.0785</td>\n",
       "      <td>0</td>\n",
       "      <td>0.000002</td>\n",
       "      <td>0</td>\n",
       "      <td>0.112</td>\n",
       "      <td>-18.434</td>\n",
       "      <td>0</td>\n",
       "      <td>2</td>\n",
       "      <td>0.0376</td>\n",
       "      <td>70.535</td>\n",
       "      <td>0.261</td>\n",
       "      <td>1930</td>\n",
       "    </tr>\n",
       "    <tr>\n",
       "      <th>...</th>\n",
       "      <td>...</td>\n",
       "      <td>...</td>\n",
       "      <td>...</td>\n",
       "      <td>...</td>\n",
       "      <td>...</td>\n",
       "      <td>...</td>\n",
       "      <td>...</td>\n",
       "      <td>...</td>\n",
       "      <td>...</td>\n",
       "      <td>...</td>\n",
       "      <td>...</td>\n",
       "      <td>...</td>\n",
       "      <td>...</td>\n",
       "      <td>...</td>\n",
       "      <td>...</td>\n",
       "    </tr>\n",
       "    <tr>\n",
       "      <th>169903</th>\n",
       "      <td>0.2100</td>\n",
       "      <td>0.795</td>\n",
       "      <td>218501</td>\n",
       "      <td>0.5850</td>\n",
       "      <td>0</td>\n",
       "      <td>0.000001</td>\n",
       "      <td>8</td>\n",
       "      <td>0.112</td>\n",
       "      <td>-4.451</td>\n",
       "      <td>1</td>\n",
       "      <td>68</td>\n",
       "      <td>0.0374</td>\n",
       "      <td>97.479</td>\n",
       "      <td>0.934</td>\n",
       "      <td>2020</td>\n",
       "    </tr>\n",
       "    <tr>\n",
       "      <th>169905</th>\n",
       "      <td>0.0167</td>\n",
       "      <td>0.719</td>\n",
       "      <td>167468</td>\n",
       "      <td>0.3850</td>\n",
       "      <td>0</td>\n",
       "      <td>0.031300</td>\n",
       "      <td>8</td>\n",
       "      <td>0.111</td>\n",
       "      <td>-10.907</td>\n",
       "      <td>1</td>\n",
       "      <td>64</td>\n",
       "      <td>0.0403</td>\n",
       "      <td>128.000</td>\n",
       "      <td>0.270</td>\n",
       "      <td>2020</td>\n",
       "    </tr>\n",
       "    <tr>\n",
       "      <th>169906</th>\n",
       "      <td>0.5380</td>\n",
       "      <td>0.514</td>\n",
       "      <td>180700</td>\n",
       "      <td>0.5390</td>\n",
       "      <td>0</td>\n",
       "      <td>0.002330</td>\n",
       "      <td>7</td>\n",
       "      <td>0.108</td>\n",
       "      <td>-9.332</td>\n",
       "      <td>1</td>\n",
       "      <td>70</td>\n",
       "      <td>0.1050</td>\n",
       "      <td>123.700</td>\n",
       "      <td>0.153</td>\n",
       "      <td>2020</td>\n",
       "    </tr>\n",
       "    <tr>\n",
       "      <th>169907</th>\n",
       "      <td>0.0714</td>\n",
       "      <td>0.646</td>\n",
       "      <td>167308</td>\n",
       "      <td>0.7610</td>\n",
       "      <td>0</td>\n",
       "      <td>0.000000</td>\n",
       "      <td>1</td>\n",
       "      <td>0.222</td>\n",
       "      <td>-2.557</td>\n",
       "      <td>1</td>\n",
       "      <td>70</td>\n",
       "      <td>0.0385</td>\n",
       "      <td>129.916</td>\n",
       "      <td>0.472</td>\n",
       "      <td>2020</td>\n",
       "    </tr>\n",
       "    <tr>\n",
       "      <th>169908</th>\n",
       "      <td>0.1090</td>\n",
       "      <td>0.512</td>\n",
       "      <td>214787</td>\n",
       "      <td>0.4280</td>\n",
       "      <td>0</td>\n",
       "      <td>0.000000</td>\n",
       "      <td>0</td>\n",
       "      <td>0.105</td>\n",
       "      <td>-7.387</td>\n",
       "      <td>1</td>\n",
       "      <td>65</td>\n",
       "      <td>0.0271</td>\n",
       "      <td>80.588</td>\n",
       "      <td>0.366</td>\n",
       "      <td>2020</td>\n",
       "    </tr>\n",
       "  </tbody>\n",
       "</table>\n",
       "<p>83519 rows × 15 columns</p>\n",
       "</div>"
      ],
      "text/plain": [
       "        acousticness  danceability  duration_ms  energy  explicit  \\\n",
       "59            0.9910         0.839       162147  0.3700         0   \n",
       "67            0.9470         0.333       122733  0.1460         0   \n",
       "82            0.9180         0.754       184840  0.1940         0   \n",
       "108           0.9510         0.690       169509  0.7140         0   \n",
       "117           0.8700         0.353       137090  0.0785         0   \n",
       "...              ...           ...          ...     ...       ...   \n",
       "169903        0.2100         0.795       218501  0.5850         0   \n",
       "169905        0.0167         0.719       167468  0.3850         0   \n",
       "169906        0.5380         0.514       180700  0.5390         0   \n",
       "169907        0.0714         0.646       167308  0.7610         0   \n",
       "169908        0.1090         0.512       214787  0.4280         0   \n",
       "\n",
       "        instrumentalness  key  liveness  loudness  mode  popularity  \\\n",
       "59              0.041900    2     0.104   -11.602     1           1   \n",
       "67              0.000426    2     0.265   -16.990     1           2   \n",
       "82              0.000043    3     0.188   -11.634     1           1   \n",
       "108             0.000348    0     0.234   -15.857     0           2   \n",
       "117             0.000002    0     0.112   -18.434     0           2   \n",
       "...                  ...  ...       ...       ...   ...         ...   \n",
       "169903          0.000001    8     0.112    -4.451     1          68   \n",
       "169905          0.031300    8     0.111   -10.907     1          64   \n",
       "169906          0.002330    7     0.108    -9.332     1          70   \n",
       "169907          0.000000    1     0.222    -2.557     1          70   \n",
       "169908          0.000000    0     0.105    -7.387     1          65   \n",
       "\n",
       "        speechiness    tempo  valence  year  \n",
       "59           0.0800  115.063    0.976  1928  \n",
       "67           0.0353   75.372    0.234  1928  \n",
       "82           0.0530   84.042    0.454  1928  \n",
       "108          0.0747  116.188    0.804  1930  \n",
       "117          0.0376   70.535    0.261  1930  \n",
       "...             ...      ...      ...   ...  \n",
       "169903       0.0374   97.479    0.934  2020  \n",
       "169905       0.0403  128.000    0.270  2020  \n",
       "169906       0.1050  123.700    0.153  2020  \n",
       "169907       0.0385  129.916    0.472  2020  \n",
       "169908       0.0271   80.588    0.366  2020  \n",
       "\n",
       "[83519 rows x 15 columns]"
      ]
     },
     "execution_count": 89,
     "metadata": {},
     "output_type": "execute_result"
    }
   ],
   "source": [
    "q1 = no_outliers_liveness['liveness'].quantile(0.25)\n",
    "q3 = no_outliers_liveness['liveness'].quantile(0.75)\n",
    "\n",
    "print(q1 - 1.5 * (q3 - q1))\n",
    "print(no_outliers_liveness[no_outliers_liveness['liveness'] <= q1 - 1.5 * (q3 - q1)].shape[0])\n",
    "print(q3 + 1.5 * (q3 - q1))\n",
    "print(no_outliers_liveness[no_outliers_liveness['liveness'] >= q3 + 1.5 * (q3 - q1)].shape[0])\n",
    "\n",
    "no_outliers_popularity = no_outliers_liveness[(no_outliers_liveness['liveness'] <= q3 + 1.5 * (q3 - q1)) & (no_outliers_liveness['liveness'] >= q1 - 1.5 * (q3 - q1))]\n",
    "no_outliers_popularity"
   ]
  },
  {
   "cell_type": "code",
   "execution_count": 90,
   "metadata": {},
   "outputs": [
    {
     "name": "stdout",
     "output_type": "stream",
     "text": [
      "<class 'pandas.core.frame.DataFrame'>\n",
      "Index: 83519 entries, 59 to 169908\n",
      "Data columns (total 15 columns):\n",
      " #   Column            Non-Null Count  Dtype  \n",
      "---  ------            --------------  -----  \n",
      " 0   acousticness      83519 non-null  float64\n",
      " 1   danceability      83519 non-null  float64\n",
      " 2   duration_ms       83519 non-null  int64  \n",
      " 3   energy            83519 non-null  float64\n",
      " 4   explicit          83519 non-null  int64  \n",
      " 5   instrumentalness  83519 non-null  float64\n",
      " 6   key               83519 non-null  int64  \n",
      " 7   liveness          83519 non-null  float64\n",
      " 8   loudness          83519 non-null  float64\n",
      " 9   mode              83519 non-null  int64  \n",
      " 10  popularity        83519 non-null  int64  \n",
      " 11  speechiness       83519 non-null  float64\n",
      " 12  tempo             83519 non-null  float64\n",
      " 13  valence           83519 non-null  float64\n",
      " 14  year              83519 non-null  int64  \n",
      "dtypes: float64(9), int64(6)\n",
      "memory usage: 10.2 MB\n"
     ]
    }
   ],
   "source": [
    "no_outliers_popularity.info()"
   ]
  },
  {
   "cell_type": "code",
   "execution_count": 91,
   "metadata": {},
   "outputs": [],
   "source": [
    "no_outliers = no_outliers_popularity"
   ]
  },
  {
   "cell_type": "markdown",
   "metadata": {},
   "source": [
    "### Redução dimensional\n",
    "\n",
    "Reduzir o número de features (dimensões do problema), mantendo o máximo de informação possível"
   ]
  },
  {
   "cell_type": "markdown",
   "metadata": {},
   "source": [
    "AutoEncoders"
   ]
  },
  {
   "cell_type": "code",
   "execution_count": 92,
   "metadata": {},
   "outputs": [],
   "source": [
    "#X_reduction = data_non_categorical.drop('popularity', axis=1)\n",
    "#y_reduction = data_non_categorical['popularity']"
   ]
  },
  {
   "cell_type": "code",
   "execution_count": 93,
   "metadata": {},
   "outputs": [],
   "source": [
    "#X_train, X_test, y_train, y_test = train_test_split(X_reduction, y_reduction, test_size=0.4, random_state=101)"
   ]
  },
  {
   "cell_type": "code",
   "execution_count": 94,
   "metadata": {},
   "outputs": [],
   "source": [
    "#from tensorflow.keras.layers import Input, Dense\n",
    "#from tensorflow.keras.models import Model\n",
    "\n",
    "# Define the autoencoder model\n",
    "#input_layer = Input(shape=(X_reduction.shape[1],))\n",
    "#encoded = Dense(5, activation='relu')(input_layer)\n",
    "#decoded = Dense(X_reduction.shape[1], activation='sigmoid')(encoded)\n",
    "\n",
    "#autoencoder = Model(input_layer, decoded)\n",
    "#autoencoder.compile(optimizer='adam', loss='mean_squared_error')\n",
    "\n",
    "# Train the autoencoder\n",
    "#autoencoder.fit(X_train, y_train, epochs=1, batch_size=32, shuffle=True, validation_data=(X_test, X_test))"
   ]
  },
  {
   "cell_type": "code",
   "execution_count": 95,
   "metadata": {},
   "outputs": [],
   "source": [
    "#encoder = Model(input_layer, encoded)\n",
    "#encoded_features = encoder.predict(X_train)\n",
    "\n",
    "#encoded_features"
   ]
  },
  {
   "cell_type": "markdown",
   "metadata": {},
   "source": [
    "--------------"
   ]
  },
  {
   "cell_type": "markdown",
   "metadata": {},
   "source": [
    "Recursive Feature Elimination"
   ]
  },
  {
   "cell_type": "code",
   "execution_count": 96,
   "metadata": {},
   "outputs": [],
   "source": [
    "#model = LinearRegression()"
   ]
  },
  {
   "cell_type": "code",
   "execution_count": 97,
   "metadata": {},
   "outputs": [],
   "source": [
    "#number_features_to_select = 10  # You can choose the number of features you want to retain\n",
    "#rfe = RFE(model, n_features_to_select=number_features_to_select)"
   ]
  },
  {
   "cell_type": "code",
   "execution_count": 98,
   "metadata": {},
   "outputs": [],
   "source": [
    "#rfe.fit(X_reduction, y_reduction)"
   ]
  },
  {
   "cell_type": "code",
   "execution_count": 99,
   "metadata": {},
   "outputs": [],
   "source": [
    "#selected_features = X_reduction.columns[rfe.support_]\n",
    "#ranking = rfe.ranking_\n",
    "#selected_features = selected_features.append(pd.Index(['duration_ms']))"
   ]
  },
  {
   "cell_type": "code",
   "execution_count": 100,
   "metadata": {},
   "outputs": [],
   "source": [
    "#X_selected = X_reduction[selected_features]\n",
    "#X_selected"
   ]
  },
  {
   "cell_type": "markdown",
   "metadata": {},
   "source": [
    "#### Standardização"
   ]
  },
  {
   "cell_type": "code",
   "execution_count": 101,
   "metadata": {},
   "outputs": [],
   "source": [
    "#no_outliers.info()"
   ]
  },
  {
   "cell_type": "markdown",
   "metadata": {},
   "source": [
    "### Oversampling"
   ]
  },
  {
   "cell_type": "code",
   "execution_count": 102,
   "metadata": {},
   "outputs": [],
   "source": [
    "#from imblearn.over_sampling import SMOTE"
   ]
  },
  {
   "cell_type": "code",
   "execution_count": 103,
   "metadata": {},
   "outputs": [],
   "source": [
    "#X = no_outliers.filter(['popularity'])\n",
    "#y = no_outliers['popularity']"
   ]
  },
  {
   "cell_type": "code",
   "execution_count": 104,
   "metadata": {},
   "outputs": [],
   "source": [
    "#oversample = SMOTE()\n",
    "#X, y = oversample.fit_resample(X, y)"
   ]
  },
  {
   "cell_type": "markdown",
   "metadata": {},
   "source": [
    "## Análise pós tratamento"
   ]
  },
  {
   "cell_type": "code",
   "execution_count": 154,
   "metadata": {},
   "outputs": [
    {
     "data": {
      "text/plain": [
       "<Axes: >"
      ]
     },
     "execution_count": 154,
     "metadata": {},
     "output_type": "execute_result"
    },
    {
     "data": {
      "image/png": "[encoded data removed]",
      "text/plain": [
       "<Figure size 1400x1200 with 2 Axes>"
      ]
     },
     "metadata": {},
     "output_type": "display_data"
    }
   ],
   "source": [
    "corr_matrix = no_outliers.corr(method='pearson', numeric_only=True)\n",
    "f, ax = plt.subplots(figsize=(14, 12))\n",
    "sns.heatmap(corr_matrix, vmin=-1, vmax=1, square=True, annot=True, cmap=sns.color_palette(\"RdBu_r\", 100))"
   ]
  },
  {
   "cell_type": "code",
   "execution_count": 105,
   "metadata": {},
   "outputs": [],
   "source": [
    "#X = no_outliers.filter('popularity')#.drop('popularity', axis=1)\n",
    "#y = no_outliers[no_outliers['popularity'] > 0]['popularity']"
   ]
  },
  {
   "cell_type": "code",
   "execution_count": 106,
   "metadata": {},
   "outputs": [],
   "source": [
    "#from scipy import stats\n",
    "\n",
    "# Assuming 'y' is your target variable\n",
    "#transformed_y, lambda_best_fit = stats.boxcox(y)\n",
    "#transformed_y"
   ]
  },
  {
   "cell_type": "code",
   "execution_count": 107,
   "metadata": {},
   "outputs": [],
   "source": [
    "#sns.histplot(no_outliers['popularity'], bins=100)"
   ]
  },
  {
   "cell_type": "code",
   "execution_count": 108,
   "metadata": {},
   "outputs": [],
   "source": [
    "#sns.histplot(transformed_y, bins=100)"
   ]
  },
  {
   "cell_type": "code",
   "execution_count": 109,
   "metadata": {},
   "outputs": [],
   "source": [
    "#transformed_y = np.log(y)"
   ]
  },
  {
   "cell_type": "code",
   "execution_count": 110,
   "metadata": {},
   "outputs": [],
   "source": [
    "#sns.histplot(transformed_y, bins=100)"
   ]
  },
  {
   "cell_type": "markdown",
   "metadata": {},
   "source": [
    "## Modelação "
   ]
  },
  {
   "cell_type": "markdown",
   "metadata": {},
   "source": [
    "Partição dos Dados entre dados de treino e teste"
   ]
  },
  {
   "cell_type": "code",
   "execution_count": 170,
   "metadata": {},
   "outputs": [],
   "source": [
    "selected_features = pd.Index(['acousticness', 'danceability', 'duration_ms', 'energy', 'explicit', 'instrumentalness', 'loudness', 'popularity'])"
   ]
  },
  {
   "cell_type": "code",
   "execution_count": 156,
   "metadata": {},
   "outputs": [
    {
     "name": "stdout",
     "output_type": "stream",
     "text": [
      "Index(['acousticness', 'danceability', 'duration_ms', 'energy', 'explicit',\n",
      "       'loudness', 'popularity'],\n",
      "      dtype='object')\n"
     ]
    }
   ],
   "source": [
    "print(selected_features)"
   ]
  },
  {
   "cell_type": "code",
   "execution_count": 113,
   "metadata": {},
   "outputs": [],
   "source": [
    "#scaler = StandardScaler()\n",
    "#standardized_data = scaler.fit_transform(X)\n",
    "#print(standardized_data)"
   ]
  },
  {
   "cell_type": "code",
   "execution_count": 114,
   "metadata": {},
   "outputs": [
    {
     "data": {
      "text/html": [
       "<div>\n",
       "<style scoped>\n",
       "    .dataframe tbody tr th:only-of-type {\n",
       "        vertical-align: middle;\n",
       "    }\n",
       "\n",
       "    .dataframe tbody tr th {\n",
       "        vertical-align: top;\n",
       "    }\n",
       "\n",
       "    .dataframe thead th {\n",
       "        text-align: right;\n",
       "    }\n",
       "</style>\n",
       "<table border=\"1\" class=\"dataframe\">\n",
       "  <thead>\n",
       "    <tr style=\"text-align: right;\">\n",
       "      <th></th>\n",
       "      <th>acousticness</th>\n",
       "      <th>danceability</th>\n",
       "      <th>duration_ms</th>\n",
       "      <th>energy</th>\n",
       "      <th>explicit</th>\n",
       "      <th>instrumentalness</th>\n",
       "      <th>key</th>\n",
       "      <th>liveness</th>\n",
       "      <th>loudness</th>\n",
       "      <th>mode</th>\n",
       "      <th>popularity</th>\n",
       "      <th>speechiness</th>\n",
       "      <th>tempo</th>\n",
       "      <th>valence</th>\n",
       "      <th>year</th>\n",
       "    </tr>\n",
       "  </thead>\n",
       "  <tbody>\n",
       "    <tr>\n",
       "      <th>4</th>\n",
       "      <td>0.9900</td>\n",
       "      <td>0.210</td>\n",
       "      <td>687733</td>\n",
       "      <td>0.2040</td>\n",
       "      <td>0</td>\n",
       "      <td>0.908000</td>\n",
       "      <td>11</td>\n",
       "      <td>0.0980</td>\n",
       "      <td>-16.829</td>\n",
       "      <td>1</td>\n",
       "      <td>1</td>\n",
       "      <td>0.0424</td>\n",
       "      <td>62.149</td>\n",
       "      <td>0.0693</td>\n",
       "      <td>1928</td>\n",
       "    </tr>\n",
       "    <tr>\n",
       "      <th>11</th>\n",
       "      <td>0.9890</td>\n",
       "      <td>0.170</td>\n",
       "      <td>85133</td>\n",
       "      <td>0.0823</td>\n",
       "      <td>0</td>\n",
       "      <td>0.911000</td>\n",
       "      <td>10</td>\n",
       "      <td>0.0962</td>\n",
       "      <td>-30.107</td>\n",
       "      <td>0</td>\n",
       "      <td>1</td>\n",
       "      <td>0.0317</td>\n",
       "      <td>85.989</td>\n",
       "      <td>0.3460</td>\n",
       "      <td>1928</td>\n",
       "    </tr>\n",
       "    <tr>\n",
       "      <th>40</th>\n",
       "      <td>0.9770</td>\n",
       "      <td>0.305</td>\n",
       "      <td>215267</td>\n",
       "      <td>0.0830</td>\n",
       "      <td>0</td>\n",
       "      <td>0.697000</td>\n",
       "      <td>6</td>\n",
       "      <td>0.2310</td>\n",
       "      <td>-20.895</td>\n",
       "      <td>1</td>\n",
       "      <td>1</td>\n",
       "      <td>0.0331</td>\n",
       "      <td>80.622</td>\n",
       "      <td>0.0479</td>\n",
       "      <td>1928</td>\n",
       "    </tr>\n",
       "    <tr>\n",
       "      <th>42</th>\n",
       "      <td>0.9900</td>\n",
       "      <td>0.337</td>\n",
       "      <td>333907</td>\n",
       "      <td>0.0699</td>\n",
       "      <td>0</td>\n",
       "      <td>0.903000</td>\n",
       "      <td>5</td>\n",
       "      <td>0.1060</td>\n",
       "      <td>-23.806</td>\n",
       "      <td>0</td>\n",
       "      <td>2</td>\n",
       "      <td>0.0322</td>\n",
       "      <td>72.133</td>\n",
       "      <td>0.1350</td>\n",
       "      <td>1928</td>\n",
       "    </tr>\n",
       "    <tr>\n",
       "      <th>47</th>\n",
       "      <td>0.9850</td>\n",
       "      <td>0.355</td>\n",
       "      <td>138013</td>\n",
       "      <td>0.0452</td>\n",
       "      <td>0</td>\n",
       "      <td>0.825000</td>\n",
       "      <td>1</td>\n",
       "      <td>0.1530</td>\n",
       "      <td>-24.125</td>\n",
       "      <td>1</td>\n",
       "      <td>2</td>\n",
       "      <td>0.0329</td>\n",
       "      <td>84.551</td>\n",
       "      <td>0.2760</td>\n",
       "      <td>1928</td>\n",
       "    </tr>\n",
       "    <tr>\n",
       "      <th>...</th>\n",
       "      <td>...</td>\n",
       "      <td>...</td>\n",
       "      <td>...</td>\n",
       "      <td>...</td>\n",
       "      <td>...</td>\n",
       "      <td>...</td>\n",
       "      <td>...</td>\n",
       "      <td>...</td>\n",
       "      <td>...</td>\n",
       "      <td>...</td>\n",
       "      <td>...</td>\n",
       "      <td>...</td>\n",
       "      <td>...</td>\n",
       "      <td>...</td>\n",
       "      <td>...</td>\n",
       "    </tr>\n",
       "    <tr>\n",
       "      <th>169904</th>\n",
       "      <td>0.1730</td>\n",
       "      <td>0.875</td>\n",
       "      <td>163800</td>\n",
       "      <td>0.4430</td>\n",
       "      <td>1</td>\n",
       "      <td>0.000032</td>\n",
       "      <td>1</td>\n",
       "      <td>0.0891</td>\n",
       "      <td>-7.461</td>\n",
       "      <td>1</td>\n",
       "      <td>75</td>\n",
       "      <td>0.1430</td>\n",
       "      <td>100.012</td>\n",
       "      <td>0.3060</td>\n",
       "      <td>2020</td>\n",
       "    </tr>\n",
       "    <tr>\n",
       "      <th>169905</th>\n",
       "      <td>0.0167</td>\n",
       "      <td>0.719</td>\n",
       "      <td>167468</td>\n",
       "      <td>0.3850</td>\n",
       "      <td>0</td>\n",
       "      <td>0.031300</td>\n",
       "      <td>8</td>\n",
       "      <td>0.1110</td>\n",
       "      <td>-10.907</td>\n",
       "      <td>1</td>\n",
       "      <td>64</td>\n",
       "      <td>0.0403</td>\n",
       "      <td>128.000</td>\n",
       "      <td>0.2700</td>\n",
       "      <td>2020</td>\n",
       "    </tr>\n",
       "    <tr>\n",
       "      <th>169906</th>\n",
       "      <td>0.5380</td>\n",
       "      <td>0.514</td>\n",
       "      <td>180700</td>\n",
       "      <td>0.5390</td>\n",
       "      <td>0</td>\n",
       "      <td>0.002330</td>\n",
       "      <td>7</td>\n",
       "      <td>0.1080</td>\n",
       "      <td>-9.332</td>\n",
       "      <td>1</td>\n",
       "      <td>70</td>\n",
       "      <td>0.1050</td>\n",
       "      <td>123.700</td>\n",
       "      <td>0.1530</td>\n",
       "      <td>2020</td>\n",
       "    </tr>\n",
       "    <tr>\n",
       "      <th>169907</th>\n",
       "      <td>0.0714</td>\n",
       "      <td>0.646</td>\n",
       "      <td>167308</td>\n",
       "      <td>0.7610</td>\n",
       "      <td>0</td>\n",
       "      <td>0.000000</td>\n",
       "      <td>1</td>\n",
       "      <td>0.2220</td>\n",
       "      <td>-2.557</td>\n",
       "      <td>1</td>\n",
       "      <td>70</td>\n",
       "      <td>0.0385</td>\n",
       "      <td>129.916</td>\n",
       "      <td>0.4720</td>\n",
       "      <td>2020</td>\n",
       "    </tr>\n",
       "    <tr>\n",
       "      <th>169908</th>\n",
       "      <td>0.1090</td>\n",
       "      <td>0.512</td>\n",
       "      <td>214787</td>\n",
       "      <td>0.4280</td>\n",
       "      <td>0</td>\n",
       "      <td>0.000000</td>\n",
       "      <td>0</td>\n",
       "      <td>0.1050</td>\n",
       "      <td>-7.387</td>\n",
       "      <td>1</td>\n",
       "      <td>65</td>\n",
       "      <td>0.0271</td>\n",
       "      <td>80.588</td>\n",
       "      <td>0.3660</td>\n",
       "      <td>2020</td>\n",
       "    </tr>\n",
       "  </tbody>\n",
       "</table>\n",
       "<p>142497 rows × 15 columns</p>\n",
       "</div>"
      ],
      "text/plain": [
       "        acousticness  danceability  duration_ms  energy  explicit  \\\n",
       "4             0.9900         0.210       687733  0.2040         0   \n",
       "11            0.9890         0.170        85133  0.0823         0   \n",
       "40            0.9770         0.305       215267  0.0830         0   \n",
       "42            0.9900         0.337       333907  0.0699         0   \n",
       "47            0.9850         0.355       138013  0.0452         0   \n",
       "...              ...           ...          ...     ...       ...   \n",
       "169904        0.1730         0.875       163800  0.4430         1   \n",
       "169905        0.0167         0.719       167468  0.3850         0   \n",
       "169906        0.5380         0.514       180700  0.5390         0   \n",
       "169907        0.0714         0.646       167308  0.7610         0   \n",
       "169908        0.1090         0.512       214787  0.4280         0   \n",
       "\n",
       "        instrumentalness  key  liveness  loudness  mode  popularity  \\\n",
       "4               0.908000   11    0.0980   -16.829     1           1   \n",
       "11              0.911000   10    0.0962   -30.107     0           1   \n",
       "40              0.697000    6    0.2310   -20.895     1           1   \n",
       "42              0.903000    5    0.1060   -23.806     0           2   \n",
       "47              0.825000    1    0.1530   -24.125     1           2   \n",
       "...                  ...  ...       ...       ...   ...         ...   \n",
       "169904          0.000032    1    0.0891    -7.461     1          75   \n",
       "169905          0.031300    8    0.1110   -10.907     1          64   \n",
       "169906          0.002330    7    0.1080    -9.332     1          70   \n",
       "169907          0.000000    1    0.2220    -2.557     1          70   \n",
       "169908          0.000000    0    0.1050    -7.387     1          65   \n",
       "\n",
       "        speechiness    tempo  valence  year  \n",
       "4            0.0424   62.149   0.0693  1928  \n",
       "11           0.0317   85.989   0.3460  1928  \n",
       "40           0.0331   80.622   0.0479  1928  \n",
       "42           0.0322   72.133   0.1350  1928  \n",
       "47           0.0329   84.551   0.2760  1928  \n",
       "...             ...      ...      ...   ...  \n",
       "169904       0.1430  100.012   0.3060  2020  \n",
       "169905       0.0403  128.000   0.2700  2020  \n",
       "169906       0.1050  123.700   0.1530  2020  \n",
       "169907       0.0385  129.916   0.4720  2020  \n",
       "169908       0.0271   80.588   0.3660  2020  \n",
       "\n",
       "[142497 rows x 15 columns]"
      ]
     },
     "execution_count": 114,
     "metadata": {},
     "output_type": "execute_result"
    }
   ],
   "source": [
    "data"
   ]
  },
  {
   "cell_type": "code",
   "execution_count": 171,
   "metadata": {},
   "outputs": [
    {
     "data": {
      "text/html": [
       "<div>\n",
       "<style scoped>\n",
       "    .dataframe tbody tr th:only-of-type {\n",
       "        vertical-align: middle;\n",
       "    }\n",
       "\n",
       "    .dataframe tbody tr th {\n",
       "        vertical-align: top;\n",
       "    }\n",
       "\n",
       "    .dataframe thead th {\n",
       "        text-align: right;\n",
       "    }\n",
       "</style>\n",
       "<table border=\"1\" class=\"dataframe\">\n",
       "  <thead>\n",
       "    <tr style=\"text-align: right;\">\n",
       "      <th></th>\n",
       "      <th>acousticness</th>\n",
       "      <th>danceability</th>\n",
       "      <th>duration_ms</th>\n",
       "      <th>energy</th>\n",
       "      <th>explicit</th>\n",
       "      <th>instrumentalness</th>\n",
       "      <th>loudness</th>\n",
       "    </tr>\n",
       "  </thead>\n",
       "  <tbody>\n",
       "    <tr>\n",
       "      <th>4</th>\n",
       "      <td>0.9900</td>\n",
       "      <td>0.210</td>\n",
       "      <td>687733</td>\n",
       "      <td>0.2040</td>\n",
       "      <td>0</td>\n",
       "      <td>0.908000</td>\n",
       "      <td>-16.829</td>\n",
       "    </tr>\n",
       "    <tr>\n",
       "      <th>11</th>\n",
       "      <td>0.9890</td>\n",
       "      <td>0.170</td>\n",
       "      <td>85133</td>\n",
       "      <td>0.0823</td>\n",
       "      <td>0</td>\n",
       "      <td>0.911000</td>\n",
       "      <td>-30.107</td>\n",
       "    </tr>\n",
       "    <tr>\n",
       "      <th>40</th>\n",
       "      <td>0.9770</td>\n",
       "      <td>0.305</td>\n",
       "      <td>215267</td>\n",
       "      <td>0.0830</td>\n",
       "      <td>0</td>\n",
       "      <td>0.697000</td>\n",
       "      <td>-20.895</td>\n",
       "    </tr>\n",
       "    <tr>\n",
       "      <th>42</th>\n",
       "      <td>0.9900</td>\n",
       "      <td>0.337</td>\n",
       "      <td>333907</td>\n",
       "      <td>0.0699</td>\n",
       "      <td>0</td>\n",
       "      <td>0.903000</td>\n",
       "      <td>-23.806</td>\n",
       "    </tr>\n",
       "    <tr>\n",
       "      <th>47</th>\n",
       "      <td>0.9850</td>\n",
       "      <td>0.355</td>\n",
       "      <td>138013</td>\n",
       "      <td>0.0452</td>\n",
       "      <td>0</td>\n",
       "      <td>0.825000</td>\n",
       "      <td>-24.125</td>\n",
       "    </tr>\n",
       "    <tr>\n",
       "      <th>...</th>\n",
       "      <td>...</td>\n",
       "      <td>...</td>\n",
       "      <td>...</td>\n",
       "      <td>...</td>\n",
       "      <td>...</td>\n",
       "      <td>...</td>\n",
       "      <td>...</td>\n",
       "    </tr>\n",
       "    <tr>\n",
       "      <th>169904</th>\n",
       "      <td>0.1730</td>\n",
       "      <td>0.875</td>\n",
       "      <td>163800</td>\n",
       "      <td>0.4430</td>\n",
       "      <td>1</td>\n",
       "      <td>0.000032</td>\n",
       "      <td>-7.461</td>\n",
       "    </tr>\n",
       "    <tr>\n",
       "      <th>169905</th>\n",
       "      <td>0.0167</td>\n",
       "      <td>0.719</td>\n",
       "      <td>167468</td>\n",
       "      <td>0.3850</td>\n",
       "      <td>0</td>\n",
       "      <td>0.031300</td>\n",
       "      <td>-10.907</td>\n",
       "    </tr>\n",
       "    <tr>\n",
       "      <th>169906</th>\n",
       "      <td>0.5380</td>\n",
       "      <td>0.514</td>\n",
       "      <td>180700</td>\n",
       "      <td>0.5390</td>\n",
       "      <td>0</td>\n",
       "      <td>0.002330</td>\n",
       "      <td>-9.332</td>\n",
       "    </tr>\n",
       "    <tr>\n",
       "      <th>169907</th>\n",
       "      <td>0.0714</td>\n",
       "      <td>0.646</td>\n",
       "      <td>167308</td>\n",
       "      <td>0.7610</td>\n",
       "      <td>0</td>\n",
       "      <td>0.000000</td>\n",
       "      <td>-2.557</td>\n",
       "    </tr>\n",
       "    <tr>\n",
       "      <th>169908</th>\n",
       "      <td>0.1090</td>\n",
       "      <td>0.512</td>\n",
       "      <td>214787</td>\n",
       "      <td>0.4280</td>\n",
       "      <td>0</td>\n",
       "      <td>0.000000</td>\n",
       "      <td>-7.387</td>\n",
       "    </tr>\n",
       "  </tbody>\n",
       "</table>\n",
       "<p>142497 rows × 7 columns</p>\n",
       "</div>"
      ],
      "text/plain": [
       "        acousticness  danceability  duration_ms  energy  explicit  \\\n",
       "4             0.9900         0.210       687733  0.2040         0   \n",
       "11            0.9890         0.170        85133  0.0823         0   \n",
       "40            0.9770         0.305       215267  0.0830         0   \n",
       "42            0.9900         0.337       333907  0.0699         0   \n",
       "47            0.9850         0.355       138013  0.0452         0   \n",
       "...              ...           ...          ...     ...       ...   \n",
       "169904        0.1730         0.875       163800  0.4430         1   \n",
       "169905        0.0167         0.719       167468  0.3850         0   \n",
       "169906        0.5380         0.514       180700  0.5390         0   \n",
       "169907        0.0714         0.646       167308  0.7610         0   \n",
       "169908        0.1090         0.512       214787  0.4280         0   \n",
       "\n",
       "        instrumentalness  loudness  \n",
       "4               0.908000   -16.829  \n",
       "11              0.911000   -30.107  \n",
       "40              0.697000   -20.895  \n",
       "42              0.903000   -23.806  \n",
       "47              0.825000   -24.125  \n",
       "...                  ...       ...  \n",
       "169904          0.000032    -7.461  \n",
       "169905          0.031300   -10.907  \n",
       "169906          0.002330    -9.332  \n",
       "169907          0.000000    -2.557  \n",
       "169908          0.000000    -7.387  \n",
       "\n",
       "[142497 rows x 7 columns]"
      ]
     },
     "execution_count": 171,
     "metadata": {},
     "output_type": "execute_result"
    }
   ],
   "source": [
    "final_data = data.copy()\n",
    "final_data = final_data[selected_features]\n",
    "X = final_data.drop('popularity', axis=1)\n",
    "y = final_data['popularity']\n",
    "X\n"
   ]
  },
  {
   "cell_type": "code",
   "execution_count": 172,
   "metadata": {},
   "outputs": [],
   "source": [
    "from sklearn.model_selection import train_test_split\n",
    "X_train, X_test, y_train, y_test = train_test_split(X, y, test_size=0.4, random_state=101)"
   ]
  },
  {
   "cell_type": "markdown",
   "metadata": {},
   "source": [
    "### Problema de regressão"
   ]
  },
  {
   "cell_type": "markdown",
   "metadata": {},
   "source": [
    "Validação de modelos (tirar depois)\n",
    "- sklearn.model_selection.train_test_split\n",
    "- sklearn.model_selection.Kfold\n",
    "- sklearn.model_selection.LeaveOneOut\n",
    "- sklearn.model_selection.StratifiedKFold\n",
    "- sklearn.model_selection.GridSearchCV\n",
    "- sklearn.model_selection.RandomizedSearchCV"
   ]
  },
  {
   "cell_type": "markdown",
   "metadata": {},
   "source": [
    "#### Modelo de Regressão Linear"
   ]
  },
  {
   "cell_type": "markdown",
   "metadata": {},
   "source": [
    "Criação do modelo"
   ]
  },
  {
   "cell_type": "code",
   "execution_count": 175,
   "metadata": {},
   "outputs": [
    {
     "data": {
      "text/html": [
       "<style>#sk-container-id-15 {color: black;}#sk-container-id-15 pre{padding: 0;}#sk-container-id-15 div.sk-toggleable {background-color: white;}#sk-container-id-15 label.sk-toggleable__label {cursor: pointer;display: block;width: 100%;margin-bottom: 0;padding: 0.3em;box-sizing: border-box;text-align: center;}#sk-container-id-15 label.sk-toggleable__label-arrow:before {content: \"▸\";float: left;margin-right: 0.25em;color: #696969;}#sk-container-id-15 label.sk-toggleable__label-arrow:hover:before {color: black;}#sk-container-id-15 div.sk-estimator:hover label.sk-toggleable__label-arrow:before {color: black;}#sk-container-id-15 div.sk-toggleable__content {max-height: 0;max-width: 0;overflow: hidden;text-align: left;background-color: #f0f8ff;}#sk-container-id-15 div.sk-toggleable__content pre {margin: 0.2em;color: black;border-radius: 0.25em;background-color: #f0f8ff;}#sk-container-id-15 input.sk-toggleable__control:checked~div.sk-toggleable__content {max-height: 200px;max-width: 100%;overflow: auto;}#sk-container-id-15 input.sk-toggleable__control:checked~label.sk-toggleable__label-arrow:before {content: \"▾\";}#sk-container-id-15 div.sk-estimator input.sk-toggleable__control:checked~label.sk-toggleable__label {background-color: #d4ebff;}#sk-container-id-15 div.sk-label input.sk-toggleable__control:checked~label.sk-toggleable__label {background-color: #d4ebff;}#sk-container-id-15 input.sk-hidden--visually {border: 0;clip: rect(1px 1px 1px 1px);clip: rect(1px, 1px, 1px, 1px);height: 1px;margin: -1px;overflow: hidden;padding: 0;position: absolute;width: 1px;}#sk-container-id-15 div.sk-estimator {font-family: monospace;background-color: #f0f8ff;border: 1px dotted black;border-radius: 0.25em;box-sizing: border-box;margin-bottom: 0.5em;}#sk-container-id-15 div.sk-estimator:hover {background-color: #d4ebff;}#sk-container-id-15 div.sk-parallel-item::after {content: \"\";width: 100%;border-bottom: 1px solid gray;flex-grow: 1;}#sk-container-id-15 div.sk-label:hover label.sk-toggleable__label {background-color: #d4ebff;}#sk-container-id-15 div.sk-serial::before {content: \"\";position: absolute;border-left: 1px solid gray;box-sizing: border-box;top: 0;bottom: 0;left: 50%;z-index: 0;}#sk-container-id-15 div.sk-serial {display: flex;flex-direction: column;align-items: center;background-color: white;padding-right: 0.2em;padding-left: 0.2em;position: relative;}#sk-container-id-15 div.sk-item {position: relative;z-index: 1;}#sk-container-id-15 div.sk-parallel {display: flex;align-items: stretch;justify-content: center;background-color: white;position: relative;}#sk-container-id-15 div.sk-item::before, #sk-container-id-15 div.sk-parallel-item::before {content: \"\";position: absolute;border-left: 1px solid gray;box-sizing: border-box;top: 0;bottom: 0;left: 50%;z-index: -1;}#sk-container-id-15 div.sk-parallel-item {display: flex;flex-direction: column;z-index: 1;position: relative;background-color: white;}#sk-container-id-15 div.sk-parallel-item:first-child::after {align-self: flex-end;width: 50%;}#sk-container-id-15 div.sk-parallel-item:last-child::after {align-self: flex-start;width: 50%;}#sk-container-id-15 div.sk-parallel-item:only-child::after {width: 0;}#sk-container-id-15 div.sk-dashed-wrapped {border: 1px dashed gray;margin: 0 0.4em 0.5em 0.4em;box-sizing: border-box;padding-bottom: 0.4em;background-color: white;}#sk-container-id-15 div.sk-label label {font-family: monospace;font-weight: bold;display: inline-block;line-height: 1.2em;}#sk-container-id-15 div.sk-label-container {text-align: center;}#sk-container-id-15 div.sk-container {/* jupyter's `normalize.less` sets `[hidden] { display: none; }` but bootstrap.min.css set `[hidden] { display: none !important; }` so we also need the `!important` here to be able to override the default hidden behavior on the sphinx rendered scikit-learn.org. See: https://github.com/scikit-learn/scikit-learn/issues/21755 */display: inline-block !important;position: relative;}#sk-container-id-15 div.sk-text-repr-fallback {display: none;}</style><div id=\"sk-container-id-15\" class=\"sk-top-container\"><div class=\"sk-text-repr-fallback\"><pre>LinearRegression()</pre><b>In a Jupyter environment, please rerun this cell to show the HTML representation or trust the notebook. <br />On GitHub, the HTML representation is unable to render, please try loading this page with nbviewer.org.</b></div><div class=\"sk-container\" hidden><div class=\"sk-item\"><div class=\"sk-estimator sk-toggleable\"><input class=\"sk-toggleable__control sk-hidden--visually\" id=\"sk-estimator-id-19\" type=\"checkbox\" checked><label for=\"sk-estimator-id-19\" class=\"sk-toggleable__label sk-toggleable__label-arrow\">LinearRegression</label><div class=\"sk-toggleable__content\"><pre>LinearRegression()</pre></div></div></div></div></div>"
      ],
      "text/plain": [
       "LinearRegression()"
      ]
     },
     "execution_count": 175,
     "metadata": {},
     "output_type": "execute_result"
    }
   ],
   "source": [
    "lm = LinearRegression()\n",
    "lm.fit(X_train, y_train)"
   ]
  },
  {
   "cell_type": "markdown",
   "metadata": {},
   "source": [
    "Previsões do modelo"
   ]
  },
  {
   "cell_type": "code",
   "execution_count": 176,
   "metadata": {},
   "outputs": [
    {
     "data": {
      "text/plain": [
       "array([29.59343706, 36.81721798, 30.72091252, ..., 24.12008631,\n",
       "       48.95938337, 50.36908316])"
      ]
     },
     "execution_count": 176,
     "metadata": {},
     "output_type": "execute_result"
    }
   ],
   "source": [
    "predictions = lm.predict(X_test)\n",
    "predictions"
   ]
  },
  {
   "cell_type": "markdown",
   "metadata": {},
   "source": [
    "Gráfico de previsão vs valor real\n",
    "- X: valor real\n",
    "- Y: previsão"
   ]
  },
  {
   "cell_type": "code",
   "execution_count": 177,
   "metadata": {},
   "outputs": [
    {
     "data": {
      "text/plain": [
       "<matplotlib.collections.PathCollection at 0x7f62757df1f0>"
      ]
     },
     "execution_count": 177,
     "metadata": {},
     "output_type": "execute_result"
    },
    {
     "data": {
      "image/png": "[encoded data removed]",
      "text/plain": [
       "<Figure size 640x480 with 1 Axes>"
      ]
     },
     "metadata": {},
     "output_type": "display_data"
    }
   ],
   "source": [
    "plt.scatter(y_test, predictions)"
   ]
  },
  {
   "cell_type": "code",
   "execution_count": 178,
   "metadata": {},
   "outputs": [
    {
     "data": {
      "text/plain": [
       "<Axes: xlabel='popularity', ylabel='Count'>"
      ]
     },
     "execution_count": 178,
     "metadata": {},
     "output_type": "execute_result"
    },
    {
     "data": {
      "image/png": "[encoded data removed]",
      "text/plain": [
       "<Figure size 640x480 with 1 Axes>"
      ]
     },
     "metadata": {},
     "output_type": "display_data"
    }
   ],
   "source": [
    "sns.histplot(y_test, bins=50)"
   ]
  },
  {
   "cell_type": "code",
   "execution_count": 121,
   "metadata": {},
   "outputs": [
    {
     "data": {
      "text/plain": [
       "<Axes: ylabel='Count'>"
      ]
     },
     "execution_count": 121,
     "metadata": {},
     "output_type": "execute_result"
    },
    {
     "data": {
      "image/png": "[encoded data removed]",
      "text/plain": [
       "<Figure size 640x480 with 1 Axes>"
      ]
     },
     "metadata": {},
     "output_type": "display_data"
    }
   ],
   "source": [
    "sns.histplot(predictions, bins=50)"
   ]
  },
  {
   "cell_type": "markdown",
   "metadata": {},
   "source": [
    "Valor máximo da previsão"
   ]
  },
  {
   "cell_type": "code",
   "execution_count": 179,
   "metadata": {},
   "outputs": [
    {
     "data": {
      "text/plain": [
       "63.11380613405646"
      ]
     },
     "execution_count": 179,
     "metadata": {},
     "output_type": "execute_result"
    }
   ],
   "source": [
    "predictions.max()"
   ]
  },
  {
   "cell_type": "markdown",
   "metadata": {},
   "source": [
    "Comparar os valores previstos com os reais"
   ]
  },
  {
   "cell_type": "code",
   "execution_count": 180,
   "metadata": {},
   "outputs": [
    {
     "data": {
      "text/html": [
       "<div>\n",
       "<style scoped>\n",
       "    .dataframe tbody tr th:only-of-type {\n",
       "        vertical-align: middle;\n",
       "    }\n",
       "\n",
       "    .dataframe tbody tr th {\n",
       "        vertical-align: top;\n",
       "    }\n",
       "\n",
       "    .dataframe thead th {\n",
       "        text-align: right;\n",
       "    }\n",
       "</style>\n",
       "<table border=\"1\" class=\"dataframe\">\n",
       "  <thead>\n",
       "    <tr style=\"text-align: right;\">\n",
       "      <th></th>\n",
       "      <th>popularity</th>\n",
       "      <th>0</th>\n",
       "    </tr>\n",
       "  </thead>\n",
       "  <tbody>\n",
       "    <tr>\n",
       "      <th>53363</th>\n",
       "      <td>34</td>\n",
       "      <td>43.928087</td>\n",
       "    </tr>\n",
       "    <tr>\n",
       "      <th>4674</th>\n",
       "      <td>35</td>\n",
       "      <td>45.160500</td>\n",
       "    </tr>\n",
       "    <tr>\n",
       "      <th>6076</th>\n",
       "      <td>49</td>\n",
       "      <td>34.857367</td>\n",
       "    </tr>\n",
       "    <tr>\n",
       "      <th>55424</th>\n",
       "      <td>58</td>\n",
       "      <td>23.981073</td>\n",
       "    </tr>\n",
       "    <tr>\n",
       "      <th>51561</th>\n",
       "      <td>24</td>\n",
       "      <td>22.902270</td>\n",
       "    </tr>\n",
       "    <tr>\n",
       "      <th>...</th>\n",
       "      <td>...</td>\n",
       "      <td>...</td>\n",
       "    </tr>\n",
       "    <tr>\n",
       "      <th>45447</th>\n",
       "      <td>43</td>\n",
       "      <td>43.449722</td>\n",
       "    </tr>\n",
       "    <tr>\n",
       "      <th>21645</th>\n",
       "      <td>40</td>\n",
       "      <td>27.209376</td>\n",
       "    </tr>\n",
       "    <tr>\n",
       "      <th>7198</th>\n",
       "      <td>49</td>\n",
       "      <td>56.712099</td>\n",
       "    </tr>\n",
       "    <tr>\n",
       "      <th>15917</th>\n",
       "      <td>60</td>\n",
       "      <td>44.707716</td>\n",
       "    </tr>\n",
       "    <tr>\n",
       "      <th>16086</th>\n",
       "      <td>70</td>\n",
       "      <td>26.031995</td>\n",
       "    </tr>\n",
       "  </tbody>\n",
       "</table>\n",
       "<p>19058 rows × 2 columns</p>\n",
       "</div>"
      ],
      "text/plain": [
       "       popularity          0\n",
       "53363          34  43.928087\n",
       "4674           35  45.160500\n",
       "6076           49  34.857367\n",
       "55424          58  23.981073\n",
       "51561          24  22.902270\n",
       "...           ...        ...\n",
       "45447          43  43.449722\n",
       "21645          40  27.209376\n",
       "7198           49  56.712099\n",
       "15917          60  44.707716\n",
       "16086          70  26.031995\n",
       "\n",
       "[19058 rows x 2 columns]"
      ]
     },
     "execution_count": 180,
     "metadata": {},
     "output_type": "execute_result"
    }
   ],
   "source": [
    "pd.merge(pd.DataFrame(y_test), pd.DataFrame(predictions), left_index=True, right_index=True)    "
   ]
  },
  {
   "cell_type": "markdown",
   "metadata": {},
   "source": [
    "Avaliação do Modelo"
   ]
  },
  {
   "cell_type": "code",
   "execution_count": 181,
   "metadata": {},
   "outputs": [
    {
     "name": "stdout",
     "output_type": "stream",
     "text": [
      "MAE: 12.373966936372334\n",
      "MSE: 233.70557493927208\n",
      "RMSE: 15.28743192754336\n"
     ]
    }
   ],
   "source": [
    "print('MAE:', metrics.mean_absolute_error(y_test, predictions))\n",
    "print('MSE:', metrics.mean_squared_error(y_test, predictions))\n",
    "print('RMSE:', np.sqrt(metrics.mean_squared_error(y_test, predictions)))"
   ]
  },
  {
   "cell_type": "markdown",
   "metadata": {},
   "source": [
    "#### Árvores de Decisão"
   ]
  },
  {
   "cell_type": "markdown",
   "metadata": {},
   "source": [
    "Criação do modelo"
   ]
  },
  {
   "cell_type": "code",
   "execution_count": 125,
   "metadata": {},
   "outputs": [
    {
     "data": {
      "text/html": [
       "<style>#sk-container-id-6 {color: black;}#sk-container-id-6 pre{padding: 0;}#sk-container-id-6 div.sk-toggleable {background-color: white;}#sk-container-id-6 label.sk-toggleable__label {cursor: pointer;display: block;width: 100%;margin-bottom: 0;padding: 0.3em;box-sizing: border-box;text-align: center;}#sk-container-id-6 label.sk-toggleable__label-arrow:before {content: \"▸\";float: left;margin-right: 0.25em;color: #696969;}#sk-container-id-6 label.sk-toggleable__label-arrow:hover:before {color: black;}#sk-container-id-6 div.sk-estimator:hover label.sk-toggleable__label-arrow:before {color: black;}#sk-container-id-6 div.sk-toggleable__content {max-height: 0;max-width: 0;overflow: hidden;text-align: left;background-color: #f0f8ff;}#sk-container-id-6 div.sk-toggleable__content pre {margin: 0.2em;color: black;border-radius: 0.25em;background-color: #f0f8ff;}#sk-container-id-6 input.sk-toggleable__control:checked~div.sk-toggleable__content {max-height: 200px;max-width: 100%;overflow: auto;}#sk-container-id-6 input.sk-toggleable__control:checked~label.sk-toggleable__label-arrow:before {content: \"▾\";}#sk-container-id-6 div.sk-estimator input.sk-toggleable__control:checked~label.sk-toggleable__label {background-color: #d4ebff;}#sk-container-id-6 div.sk-label input.sk-toggleable__control:checked~label.sk-toggleable__label {background-color: #d4ebff;}#sk-container-id-6 input.sk-hidden--visually {border: 0;clip: rect(1px 1px 1px 1px);clip: rect(1px, 1px, 1px, 1px);height: 1px;margin: -1px;overflow: hidden;padding: 0;position: absolute;width: 1px;}#sk-container-id-6 div.sk-estimator {font-family: monospace;background-color: #f0f8ff;border: 1px dotted black;border-radius: 0.25em;box-sizing: border-box;margin-bottom: 0.5em;}#sk-container-id-6 div.sk-estimator:hover {background-color: #d4ebff;}#sk-container-id-6 div.sk-parallel-item::after {content: \"\";width: 100%;border-bottom: 1px solid gray;flex-grow: 1;}#sk-container-id-6 div.sk-label:hover label.sk-toggleable__label {background-color: #d4ebff;}#sk-container-id-6 div.sk-serial::before {content: \"\";position: absolute;border-left: 1px solid gray;box-sizing: border-box;top: 0;bottom: 0;left: 50%;z-index: 0;}#sk-container-id-6 div.sk-serial {display: flex;flex-direction: column;align-items: center;background-color: white;padding-right: 0.2em;padding-left: 0.2em;position: relative;}#sk-container-id-6 div.sk-item {position: relative;z-index: 1;}#sk-container-id-6 div.sk-parallel {display: flex;align-items: stretch;justify-content: center;background-color: white;position: relative;}#sk-container-id-6 div.sk-item::before, #sk-container-id-6 div.sk-parallel-item::before {content: \"\";position: absolute;border-left: 1px solid gray;box-sizing: border-box;top: 0;bottom: 0;left: 50%;z-index: -1;}#sk-container-id-6 div.sk-parallel-item {display: flex;flex-direction: column;z-index: 1;position: relative;background-color: white;}#sk-container-id-6 div.sk-parallel-item:first-child::after {align-self: flex-end;width: 50%;}#sk-container-id-6 div.sk-parallel-item:last-child::after {align-self: flex-start;width: 50%;}#sk-container-id-6 div.sk-parallel-item:only-child::after {width: 0;}#sk-container-id-6 div.sk-dashed-wrapped {border: 1px dashed gray;margin: 0 0.4em 0.5em 0.4em;box-sizing: border-box;padding-bottom: 0.4em;background-color: white;}#sk-container-id-6 div.sk-label label {font-family: monospace;font-weight: bold;display: inline-block;line-height: 1.2em;}#sk-container-id-6 div.sk-label-container {text-align: center;}#sk-container-id-6 div.sk-container {/* jupyter's `normalize.less` sets `[hidden] { display: none; }` but bootstrap.min.css set `[hidden] { display: none !important; }` so we also need the `!important` here to be able to override the default hidden behavior on the sphinx rendered scikit-learn.org. See: https://github.com/scikit-learn/scikit-learn/issues/21755 */display: inline-block !important;position: relative;}#sk-container-id-6 div.sk-text-repr-fallback {display: none;}</style><div id=\"sk-container-id-6\" class=\"sk-top-container\"><div class=\"sk-text-repr-fallback\"><pre>DecisionTreeRegressor(random_state=2023)</pre><b>In a Jupyter environment, please rerun this cell to show the HTML representation or trust the notebook. <br />On GitHub, the HTML representation is unable to render, please try loading this page with nbviewer.org.</b></div><div class=\"sk-container\" hidden><div class=\"sk-item\"><div class=\"sk-estimator sk-toggleable\"><input class=\"sk-toggleable__control sk-hidden--visually\" id=\"sk-estimator-id-8\" type=\"checkbox\" checked><label for=\"sk-estimator-id-8\" class=\"sk-toggleable__label sk-toggleable__label-arrow\">DecisionTreeRegressor</label><div class=\"sk-toggleable__content\"><pre>DecisionTreeRegressor(random_state=2023)</pre></div></div></div></div></div>"
      ],
      "text/plain": [
       "DecisionTreeRegressor(random_state=2023)"
      ]
     },
     "execution_count": 125,
     "metadata": {},
     "output_type": "execute_result"
    }
   ],
   "source": [
    "dtree=DecisionTreeRegressor(random_state=2023)\n",
    "dtree.fit(X_train,y_train)"
   ]
  },
  {
   "cell_type": "markdown",
   "metadata": {},
   "source": [
    "Previsões do modelo"
   ]
  },
  {
   "cell_type": "code",
   "execution_count": 126,
   "metadata": {},
   "outputs": [],
   "source": [
    "pred = dtree.predict(X_test)"
   ]
  },
  {
   "cell_type": "code",
   "execution_count": 127,
   "metadata": {},
   "outputs": [
    {
     "name": "stdout",
     "output_type": "stream",
     "text": [
      "MAE: 10.263582109627654\n",
      "MSE: 191.14446342625894\n",
      "RMSE: 13.825500476520151\n",
      "R²: 0.6467963787609335\n"
     ]
    }
   ],
   "source": [
    "print('MAE:', metrics.mean_absolute_error(y_test, pred))\n",
    "print('MSE:', metrics.mean_squared_error(y_test, pred))\n",
    "print('RMSE:', np.sqrt(metrics.mean_squared_error(y_test, pred)))\n",
    "print('R²:', np.sqrt(metrics.r2_score(y_test, pred)))"
   ]
  },
  {
   "cell_type": "code",
   "execution_count": 128,
   "metadata": {},
   "outputs": [
    {
     "data": {
      "text/plain": [
       "<matplotlib.collections.PathCollection at 0x7f628108e350>"
      ]
     },
     "execution_count": 128,
     "metadata": {},
     "output_type": "execute_result"
    },
    {
     "data": {
      "image/png": "[encoded data removed]",
      "text/plain": [
       "<Figure size 640x480 with 1 Axes>"
      ]
     },
     "metadata": {},
     "output_type": "display_data"
    }
   ],
   "source": [
    "plt.scatter(y_test, pred)"
   ]
  },
  {
   "cell_type": "markdown",
   "metadata": {},
   "source": [
    "Grid Search"
   ]
  },
  {
   "cell_type": "code",
   "execution_count": 129,
   "metadata": {},
   "outputs": [],
   "source": [
    "# outros critérios: 'absolute_error', 'poisson'\n",
    "param_grid = {'criterion':['squared_error', 'friedman_mse'],'max_depth':[4,5,6,7,8,9,10,11,12,15]}\n",
    "\n",
    "grid_reg_bt = GridSearchCV(dtree, param_grid, refit=True, verbose=3)"
   ]
  },
  {
   "cell_type": "code",
   "execution_count": 130,
   "metadata": {},
   "outputs": [
    {
     "name": "stdout",
     "output_type": "stream",
     "text": [
      "Fitting 5 folds for each of 20 candidates, totalling 100 fits\n",
      "[CV 1/5] END criterion=squared_error, max_depth=4;, score=0.699 total time=   0.2s\n",
      "[CV 2/5] END criterion=squared_error, max_depth=4;, score=0.702 total time=   0.2s\n",
      "[CV 3/5] END criterion=squared_error, max_depth=4;, score=0.704 total time=   0.2s\n",
      "[CV 4/5] END criterion=squared_error, max_depth=4;, score=0.707 total time=   0.2s\n",
      "[CV 5/5] END criterion=squared_error, max_depth=4;, score=0.715 total time=   0.2s\n",
      "[CV 1/5] END criterion=squared_error, max_depth=5;, score=0.703 total time=   0.2s\n",
      "[CV 2/5] END criterion=squared_error, max_depth=5;, score=0.706 total time=   0.2s\n",
      "[CV 3/5] END criterion=squared_error, max_depth=5;, score=0.708 total time=   0.2s\n",
      "[CV 4/5] END criterion=squared_error, max_depth=5;, score=0.710 total time=   0.2s\n",
      "[CV 5/5] END criterion=squared_error, max_depth=5;, score=0.720 total time=   0.2s\n",
      "[CV 1/5] END criterion=squared_error, max_depth=6;, score=0.704 total time=   0.3s\n",
      "[CV 2/5] END criterion=squared_error, max_depth=6;, score=0.708 total time=   0.3s\n",
      "[CV 3/5] END criterion=squared_error, max_depth=6;, score=0.710 total time=   0.3s\n",
      "[CV 4/5] END criterion=squared_error, max_depth=6;, score=0.711 total time=   0.3s\n",
      "[CV 5/5] END criterion=squared_error, max_depth=6;, score=0.721 total time=   0.3s\n"
     ]
    },
    {
     "name": "stdout",
     "output_type": "stream",
     "text": [
      "[CV 1/5] END criterion=squared_error, max_depth=7;, score=0.703 total time=   0.3s\n",
      "[CV 2/5] END criterion=squared_error, max_depth=7;, score=0.709 total time=   0.3s\n",
      "[CV 3/5] END criterion=squared_error, max_depth=7;, score=0.711 total time=   0.3s\n",
      "[CV 4/5] END criterion=squared_error, max_depth=7;, score=0.712 total time=   0.3s\n",
      "[CV 5/5] END criterion=squared_error, max_depth=7;, score=0.722 total time=   0.3s\n",
      "[CV 1/5] END criterion=squared_error, max_depth=8;, score=0.701 total time=   0.3s\n",
      "[CV 2/5] END criterion=squared_error, max_depth=8;, score=0.707 total time=   0.3s\n",
      "[CV 3/5] END criterion=squared_error, max_depth=8;, score=0.709 total time=   0.3s\n",
      "[CV 4/5] END criterion=squared_error, max_depth=8;, score=0.710 total time=   0.3s\n",
      "[CV 5/5] END criterion=squared_error, max_depth=8;, score=0.721 total time=   0.3s\n",
      "[CV 1/5] END criterion=squared_error, max_depth=9;, score=0.699 total time=   0.4s\n",
      "[CV 2/5] END criterion=squared_error, max_depth=9;, score=0.705 total time=   0.4s\n",
      "[CV 3/5] END criterion=squared_error, max_depth=9;, score=0.704 total time=   0.4s\n",
      "[CV 4/5] END criterion=squared_error, max_depth=9;, score=0.708 total time=   0.4s\n",
      "[CV 5/5] END criterion=squared_error, max_depth=9;, score=0.715 total time=   0.4s\n",
      "[CV 1/5] END criterion=squared_error, max_depth=10;, score=0.695 total time=   0.4s\n",
      "[CV 2/5] END criterion=squared_error, max_depth=10;, score=0.698 total time=   0.4s\n",
      "[CV 3/5] END criterion=squared_error, max_depth=10;, score=0.698 total time=   0.4s\n",
      "[CV 4/5] END criterion=squared_error, max_depth=10;, score=0.703 total time=   0.4s\n",
      "[CV 5/5] END criterion=squared_error, max_depth=10;, score=0.708 total time=   0.4s\n",
      "[CV 1/5] END criterion=squared_error, max_depth=11;, score=0.687 total time=   0.4s\n",
      "[CV 2/5] END criterion=squared_error, max_depth=11;, score=0.688 total time=   0.4s\n",
      "[CV 3/5] END criterion=squared_error, max_depth=11;, score=0.689 total time=   0.4s\n",
      "[CV 4/5] END criterion=squared_error, max_depth=11;, score=0.693 total time=   0.4s\n",
      "[CV 5/5] END criterion=squared_error, max_depth=11;, score=0.698 total time=   0.5s\n",
      "[CV 1/5] END criterion=squared_error, max_depth=12;, score=0.677 total time=   0.5s\n",
      "[CV 2/5] END criterion=squared_error, max_depth=12;, score=0.674 total time=   0.5s\n",
      "[CV 3/5] END criterion=squared_error, max_depth=12;, score=0.675 total time=   0.5s\n",
      "[CV 4/5] END criterion=squared_error, max_depth=12;, score=0.681 total time=   0.5s\n",
      "[CV 5/5] END criterion=squared_error, max_depth=12;, score=0.687 total time=   0.5s\n",
      "[CV 1/5] END criterion=squared_error, max_depth=15;, score=0.618 total time=   0.7s\n",
      "[CV 2/5] END criterion=squared_error, max_depth=15;, score=0.629 total time=   0.6s\n",
      "[CV 3/5] END criterion=squared_error, max_depth=15;, score=0.624 total time=   0.6s\n",
      "[CV 4/5] END criterion=squared_error, max_depth=15;, score=0.623 total time=   0.6s\n",
      "[CV 5/5] END criterion=squared_error, max_depth=15;, score=0.633 total time=   0.6s\n",
      "[CV 1/5] END criterion=friedman_mse, max_depth=4;, score=0.699 total time=   0.2s\n",
      "[CV 2/5] END criterion=friedman_mse, max_depth=4;, score=0.702 total time=   0.2s\n",
      "[CV 3/5] END criterion=friedman_mse, max_depth=4;, score=0.704 total time=   0.2s\n",
      "[CV 4/5] END criterion=friedman_mse, max_depth=4;, score=0.707 total time=   0.2s\n",
      "[CV 5/5] END criterion=friedman_mse, max_depth=4;, score=0.715 total time=   0.2s\n",
      "[CV 1/5] END criterion=friedman_mse, max_depth=5;, score=0.703 total time=   0.2s\n",
      "[CV 2/5] END criterion=friedman_mse, max_depth=5;, score=0.706 total time=   0.2s\n",
      "[CV 3/5] END criterion=friedman_mse, max_depth=5;, score=0.708 total time=   0.2s\n",
      "[CV 4/5] END criterion=friedman_mse, max_depth=5;, score=0.710 total time=   0.2s\n",
      "[CV 5/5] END criterion=friedman_mse, max_depth=5;, score=0.720 total time=   0.2s\n",
      "[CV 1/5] END criterion=friedman_mse, max_depth=6;, score=0.704 total time=   0.2s\n",
      "[CV 2/5] END criterion=friedman_mse, max_depth=6;, score=0.708 total time=   0.2s\n",
      "[CV 3/5] END criterion=friedman_mse, max_depth=6;, score=0.710 total time=   0.2s\n",
      "[CV 4/5] END criterion=friedman_mse, max_depth=6;, score=0.711 total time=   0.3s\n",
      "[CV 5/5] END criterion=friedman_mse, max_depth=6;, score=0.721 total time=   0.2s\n",
      "[CV 1/5] END criterion=friedman_mse, max_depth=7;, score=0.703 total time=   0.3s\n",
      "[CV 2/5] END criterion=friedman_mse, max_depth=7;, score=0.709 total time=   0.3s\n",
      "[CV 3/5] END criterion=friedman_mse, max_depth=7;, score=0.711 total time=   0.3s\n",
      "[CV 4/5] END criterion=friedman_mse, max_depth=7;, score=0.712 total time=   0.3s\n",
      "[CV 5/5] END criterion=friedman_mse, max_depth=7;, score=0.722 total time=   0.3s\n",
      "[CV 1/5] END criterion=friedman_mse, max_depth=8;, score=0.701 total time=   0.4s\n",
      "[CV 2/5] END criterion=friedman_mse, max_depth=8;, score=0.707 total time=   0.4s\n",
      "[CV 3/5] END criterion=friedman_mse, max_depth=8;, score=0.709 total time=   0.4s\n",
      "[CV 4/5] END criterion=friedman_mse, max_depth=8;, score=0.710 total time=   0.4s\n",
      "[CV 5/5] END criterion=friedman_mse, max_depth=8;, score=0.721 total time=   0.3s\n",
      "[CV 1/5] END criterion=friedman_mse, max_depth=9;, score=0.699 total time=   0.4s\n",
      "[CV 2/5] END criterion=friedman_mse, max_depth=9;, score=0.705 total time=   0.4s\n",
      "[CV 3/5] END criterion=friedman_mse, max_depth=9;, score=0.704 total time=   0.4s\n",
      "[CV 4/5] END criterion=friedman_mse, max_depth=9;, score=0.708 total time=   0.4s\n",
      "[CV 5/5] END criterion=friedman_mse, max_depth=9;, score=0.715 total time=   0.4s\n",
      "[CV 1/5] END criterion=friedman_mse, max_depth=10;, score=0.695 total time=   0.4s\n",
      "[CV 2/5] END criterion=friedman_mse, max_depth=10;, score=0.698 total time=   0.4s\n",
      "[CV 3/5] END criterion=friedman_mse, max_depth=10;, score=0.698 total time=   0.4s\n",
      "[CV 4/5] END criterion=friedman_mse, max_depth=10;, score=0.703 total time=   0.4s\n",
      "[CV 5/5] END criterion=friedman_mse, max_depth=10;, score=0.708 total time=   0.4s\n",
      "[CV 1/5] END criterion=friedman_mse, max_depth=11;, score=0.687 total time=   0.4s\n",
      "[CV 2/5] END criterion=friedman_mse, max_depth=11;, score=0.688 total time=   0.4s\n",
      "[CV 3/5] END criterion=friedman_mse, max_depth=11;, score=0.689 total time=   0.4s\n",
      "[CV 4/5] END criterion=friedman_mse, max_depth=11;, score=0.693 total time=   0.4s\n",
      "[CV 5/5] END criterion=friedman_mse, max_depth=11;, score=0.698 total time=   0.4s\n",
      "[CV 1/5] END criterion=friedman_mse, max_depth=12;, score=0.677 total time=   0.5s\n",
      "[CV 2/5] END criterion=friedman_mse, max_depth=12;, score=0.674 total time=   0.6s\n",
      "[CV 3/5] END criterion=friedman_mse, max_depth=12;, score=0.675 total time=   0.4s\n",
      "[CV 4/5] END criterion=friedman_mse, max_depth=12;, score=0.681 total time=   0.5s\n",
      "[CV 5/5] END criterion=friedman_mse, max_depth=12;, score=0.687 total time=   0.4s\n",
      "[CV 1/5] END criterion=friedman_mse, max_depth=15;, score=0.616 total time=   0.6s\n",
      "[CV 2/5] END criterion=friedman_mse, max_depth=15;, score=0.629 total time=   0.5s\n",
      "[CV 3/5] END criterion=friedman_mse, max_depth=15;, score=0.623 total time=   0.5s\n",
      "[CV 4/5] END criterion=friedman_mse, max_depth=15;, score=0.623 total time=   0.5s\n",
      "[CV 5/5] END criterion=friedman_mse, max_depth=15;, score=0.633 total time=   0.6s\n"
     ]
    },
    {
     "data": {
      "text/html": [
       "<style>#sk-container-id-7 {color: black;}#sk-container-id-7 pre{padding: 0;}#sk-container-id-7 div.sk-toggleable {background-color: white;}#sk-container-id-7 label.sk-toggleable__label {cursor: pointer;display: block;width: 100%;margin-bottom: 0;padding: 0.3em;box-sizing: border-box;text-align: center;}#sk-container-id-7 label.sk-toggleable__label-arrow:before {content: \"▸\";float: left;margin-right: 0.25em;color: #696969;}#sk-container-id-7 label.sk-toggleable__label-arrow:hover:before {color: black;}#sk-container-id-7 div.sk-estimator:hover label.sk-toggleable__label-arrow:before {color: black;}#sk-container-id-7 div.sk-toggleable__content {max-height: 0;max-width: 0;overflow: hidden;text-align: left;background-color: #f0f8ff;}#sk-container-id-7 div.sk-toggleable__content pre {margin: 0.2em;color: black;border-radius: 0.25em;background-color: #f0f8ff;}#sk-container-id-7 input.sk-toggleable__control:checked~div.sk-toggleable__content {max-height: 200px;max-width: 100%;overflow: auto;}#sk-container-id-7 input.sk-toggleable__control:checked~label.sk-toggleable__label-arrow:before {content: \"▾\";}#sk-container-id-7 div.sk-estimator input.sk-toggleable__control:checked~label.sk-toggleable__label {background-color: #d4ebff;}#sk-container-id-7 div.sk-label input.sk-toggleable__control:checked~label.sk-toggleable__label {background-color: #d4ebff;}#sk-container-id-7 input.sk-hidden--visually {border: 0;clip: rect(1px 1px 1px 1px);clip: rect(1px, 1px, 1px, 1px);height: 1px;margin: -1px;overflow: hidden;padding: 0;position: absolute;width: 1px;}#sk-container-id-7 div.sk-estimator {font-family: monospace;background-color: #f0f8ff;border: 1px dotted black;border-radius: 0.25em;box-sizing: border-box;margin-bottom: 0.5em;}#sk-container-id-7 div.sk-estimator:hover {background-color: #d4ebff;}#sk-container-id-7 div.sk-parallel-item::after {content: \"\";width: 100%;border-bottom: 1px solid gray;flex-grow: 1;}#sk-container-id-7 div.sk-label:hover label.sk-toggleable__label {background-color: #d4ebff;}#sk-container-id-7 div.sk-serial::before {content: \"\";position: absolute;border-left: 1px solid gray;box-sizing: border-box;top: 0;bottom: 0;left: 50%;z-index: 0;}#sk-container-id-7 div.sk-serial {display: flex;flex-direction: column;align-items: center;background-color: white;padding-right: 0.2em;padding-left: 0.2em;position: relative;}#sk-container-id-7 div.sk-item {position: relative;z-index: 1;}#sk-container-id-7 div.sk-parallel {display: flex;align-items: stretch;justify-content: center;background-color: white;position: relative;}#sk-container-id-7 div.sk-item::before, #sk-container-id-7 div.sk-parallel-item::before {content: \"\";position: absolute;border-left: 1px solid gray;box-sizing: border-box;top: 0;bottom: 0;left: 50%;z-index: -1;}#sk-container-id-7 div.sk-parallel-item {display: flex;flex-direction: column;z-index: 1;position: relative;background-color: white;}#sk-container-id-7 div.sk-parallel-item:first-child::after {align-self: flex-end;width: 50%;}#sk-container-id-7 div.sk-parallel-item:last-child::after {align-self: flex-start;width: 50%;}#sk-container-id-7 div.sk-parallel-item:only-child::after {width: 0;}#sk-container-id-7 div.sk-dashed-wrapped {border: 1px dashed gray;margin: 0 0.4em 0.5em 0.4em;box-sizing: border-box;padding-bottom: 0.4em;background-color: white;}#sk-container-id-7 div.sk-label label {font-family: monospace;font-weight: bold;display: inline-block;line-height: 1.2em;}#sk-container-id-7 div.sk-label-container {text-align: center;}#sk-container-id-7 div.sk-container {/* jupyter's `normalize.less` sets `[hidden] { display: none; }` but bootstrap.min.css set `[hidden] { display: none !important; }` so we also need the `!important` here to be able to override the default hidden behavior on the sphinx rendered scikit-learn.org. See: https://github.com/scikit-learn/scikit-learn/issues/21755 */display: inline-block !important;position: relative;}#sk-container-id-7 div.sk-text-repr-fallback {display: none;}</style><div id=\"sk-container-id-7\" class=\"sk-top-container\"><div class=\"sk-text-repr-fallback\"><pre>GridSearchCV(estimator=DecisionTreeRegressor(random_state=2023),\n",
       "             param_grid={&#x27;criterion&#x27;: [&#x27;squared_error&#x27;, &#x27;friedman_mse&#x27;],\n",
       "                         &#x27;max_depth&#x27;: [4, 5, 6, 7, 8, 9, 10, 11, 12, 15]},\n",
       "             verbose=3)</pre><b>In a Jupyter environment, please rerun this cell to show the HTML representation or trust the notebook. <br />On GitHub, the HTML representation is unable to render, please try loading this page with nbviewer.org.</b></div><div class=\"sk-container\" hidden><div class=\"sk-item sk-dashed-wrapped\"><div class=\"sk-label-container\"><div class=\"sk-label sk-toggleable\"><input class=\"sk-toggleable__control sk-hidden--visually\" id=\"sk-estimator-id-9\" type=\"checkbox\" ><label for=\"sk-estimator-id-9\" class=\"sk-toggleable__label sk-toggleable__label-arrow\">GridSearchCV</label><div class=\"sk-toggleable__content\"><pre>GridSearchCV(estimator=DecisionTreeRegressor(random_state=2023),\n",
       "             param_grid={&#x27;criterion&#x27;: [&#x27;squared_error&#x27;, &#x27;friedman_mse&#x27;],\n",
       "                         &#x27;max_depth&#x27;: [4, 5, 6, 7, 8, 9, 10, 11, 12, 15]},\n",
       "             verbose=3)</pre></div></div></div><div class=\"sk-parallel\"><div class=\"sk-parallel-item\"><div class=\"sk-item\"><div class=\"sk-label-container\"><div class=\"sk-label sk-toggleable\"><input class=\"sk-toggleable__control sk-hidden--visually\" id=\"sk-estimator-id-10\" type=\"checkbox\" ><label for=\"sk-estimator-id-10\" class=\"sk-toggleable__label sk-toggleable__label-arrow\">estimator: DecisionTreeRegressor</label><div class=\"sk-toggleable__content\"><pre>DecisionTreeRegressor(random_state=2023)</pre></div></div></div><div class=\"sk-serial\"><div class=\"sk-item\"><div class=\"sk-estimator sk-toggleable\"><input class=\"sk-toggleable__control sk-hidden--visually\" id=\"sk-estimator-id-11\" type=\"checkbox\" ><label for=\"sk-estimator-id-11\" class=\"sk-toggleable__label sk-toggleable__label-arrow\">DecisionTreeRegressor</label><div class=\"sk-toggleable__content\"><pre>DecisionTreeRegressor(random_state=2023)</pre></div></div></div></div></div></div></div></div></div></div>"
      ],
      "text/plain": [
       "GridSearchCV(estimator=DecisionTreeRegressor(random_state=2023),\n",
       "             param_grid={'criterion': ['squared_error', 'friedman_mse'],\n",
       "                         'max_depth': [4, 5, 6, 7, 8, 9, 10, 11, 12, 15]},\n",
       "             verbose=3)"
      ]
     },
     "execution_count": 130,
     "metadata": {},
     "output_type": "execute_result"
    }
   ],
   "source": [
    "grid_reg_bt.fit(X_train, y_train)"
   ]
  },
  {
   "cell_type": "code",
   "execution_count": 131,
   "metadata": {},
   "outputs": [],
   "source": [
    "grid_reg_bt_predictions = grid_reg_bt.predict(X_test)"
   ]
  },
  {
   "cell_type": "code",
   "execution_count": 132,
   "metadata": {},
   "outputs": [
    {
     "data": {
      "text/plain": [
       "{'criterion': 'squared_error', 'max_depth': 7}"
      ]
     },
     "execution_count": 132,
     "metadata": {},
     "output_type": "execute_result"
    }
   ],
   "source": [
    "grid_reg_bt.best_params_"
   ]
  },
  {
   "cell_type": "code",
   "execution_count": 133,
   "metadata": {},
   "outputs": [
    {
     "data": {
      "text/html": [
       "<style>#sk-container-id-8 {color: black;}#sk-container-id-8 pre{padding: 0;}#sk-container-id-8 div.sk-toggleable {background-color: white;}#sk-container-id-8 label.sk-toggleable__label {cursor: pointer;display: block;width: 100%;margin-bottom: 0;padding: 0.3em;box-sizing: border-box;text-align: center;}#sk-container-id-8 label.sk-toggleable__label-arrow:before {content: \"▸\";float: left;margin-right: 0.25em;color: #696969;}#sk-container-id-8 label.sk-toggleable__label-arrow:hover:before {color: black;}#sk-container-id-8 div.sk-estimator:hover label.sk-toggleable__label-arrow:before {color: black;}#sk-container-id-8 div.sk-toggleable__content {max-height: 0;max-width: 0;overflow: hidden;text-align: left;background-color: #f0f8ff;}#sk-container-id-8 div.sk-toggleable__content pre {margin: 0.2em;color: black;border-radius: 0.25em;background-color: #f0f8ff;}#sk-container-id-8 input.sk-toggleable__control:checked~div.sk-toggleable__content {max-height: 200px;max-width: 100%;overflow: auto;}#sk-container-id-8 input.sk-toggleable__control:checked~label.sk-toggleable__label-arrow:before {content: \"▾\";}#sk-container-id-8 div.sk-estimator input.sk-toggleable__control:checked~label.sk-toggleable__label {background-color: #d4ebff;}#sk-container-id-8 div.sk-label input.sk-toggleable__control:checked~label.sk-toggleable__label {background-color: #d4ebff;}#sk-container-id-8 input.sk-hidden--visually {border: 0;clip: rect(1px 1px 1px 1px);clip: rect(1px, 1px, 1px, 1px);height: 1px;margin: -1px;overflow: hidden;padding: 0;position: absolute;width: 1px;}#sk-container-id-8 div.sk-estimator {font-family: monospace;background-color: #f0f8ff;border: 1px dotted black;border-radius: 0.25em;box-sizing: border-box;margin-bottom: 0.5em;}#sk-container-id-8 div.sk-estimator:hover {background-color: #d4ebff;}#sk-container-id-8 div.sk-parallel-item::after {content: \"\";width: 100%;border-bottom: 1px solid gray;flex-grow: 1;}#sk-container-id-8 div.sk-label:hover label.sk-toggleable__label {background-color: #d4ebff;}#sk-container-id-8 div.sk-serial::before {content: \"\";position: absolute;border-left: 1px solid gray;box-sizing: border-box;top: 0;bottom: 0;left: 50%;z-index: 0;}#sk-container-id-8 div.sk-serial {display: flex;flex-direction: column;align-items: center;background-color: white;padding-right: 0.2em;padding-left: 0.2em;position: relative;}#sk-container-id-8 div.sk-item {position: relative;z-index: 1;}#sk-container-id-8 div.sk-parallel {display: flex;align-items: stretch;justify-content: center;background-color: white;position: relative;}#sk-container-id-8 div.sk-item::before, #sk-container-id-8 div.sk-parallel-item::before {content: \"\";position: absolute;border-left: 1px solid gray;box-sizing: border-box;top: 0;bottom: 0;left: 50%;z-index: -1;}#sk-container-id-8 div.sk-parallel-item {display: flex;flex-direction: column;z-index: 1;position: relative;background-color: white;}#sk-container-id-8 div.sk-parallel-item:first-child::after {align-self: flex-end;width: 50%;}#sk-container-id-8 div.sk-parallel-item:last-child::after {align-self: flex-start;width: 50%;}#sk-container-id-8 div.sk-parallel-item:only-child::after {width: 0;}#sk-container-id-8 div.sk-dashed-wrapped {border: 1px dashed gray;margin: 0 0.4em 0.5em 0.4em;box-sizing: border-box;padding-bottom: 0.4em;background-color: white;}#sk-container-id-8 div.sk-label label {font-family: monospace;font-weight: bold;display: inline-block;line-height: 1.2em;}#sk-container-id-8 div.sk-label-container {text-align: center;}#sk-container-id-8 div.sk-container {/* jupyter's `normalize.less` sets `[hidden] { display: none; }` but bootstrap.min.css set `[hidden] { display: none !important; }` so we also need the `!important` here to be able to override the default hidden behavior on the sphinx rendered scikit-learn.org. See: https://github.com/scikit-learn/scikit-learn/issues/21755 */display: inline-block !important;position: relative;}#sk-container-id-8 div.sk-text-repr-fallback {display: none;}</style><div id=\"sk-container-id-8\" class=\"sk-top-container\"><div class=\"sk-text-repr-fallback\"><pre>DecisionTreeRegressor(max_depth=7, random_state=2023)</pre><b>In a Jupyter environment, please rerun this cell to show the HTML representation or trust the notebook. <br />On GitHub, the HTML representation is unable to render, please try loading this page with nbviewer.org.</b></div><div class=\"sk-container\" hidden><div class=\"sk-item\"><div class=\"sk-estimator sk-toggleable\"><input class=\"sk-toggleable__control sk-hidden--visually\" id=\"sk-estimator-id-12\" type=\"checkbox\" checked><label for=\"sk-estimator-id-12\" class=\"sk-toggleable__label sk-toggleable__label-arrow\">DecisionTreeRegressor</label><div class=\"sk-toggleable__content\"><pre>DecisionTreeRegressor(max_depth=7, random_state=2023)</pre></div></div></div></div></div>"
      ],
      "text/plain": [
       "DecisionTreeRegressor(max_depth=7, random_state=2023)"
      ]
     },
     "execution_count": 133,
     "metadata": {},
     "output_type": "execute_result"
    }
   ],
   "source": [
    "grid_reg_bt.best_estimator_"
   ]
  },
  {
   "cell_type": "code",
   "execution_count": 134,
   "metadata": {},
   "outputs": [
    {
     "name": "stdout",
     "output_type": "stream",
     "text": [
      "MAE: 7.455565237779633\n",
      "MSE: 95.14785492126157\n",
      "RMSE: 9.754376193343251\n",
      "R²: 0.842890360875511\n"
     ]
    }
   ],
   "source": [
    "print('MAE:', metrics.mean_absolute_error(y_test, grid_reg_bt_predictions))\n",
    "print('MSE:', metrics.mean_squared_error(y_test, grid_reg_bt_predictions))\n",
    "print('RMSE:', np.sqrt(metrics.mean_squared_error(y_test, grid_reg_bt_predictions)))\n",
    "print('R²:', np.sqrt(metrics.r2_score(y_test, grid_reg_bt_predictions)))"
   ]
  },
  {
   "cell_type": "markdown",
   "metadata": {},
   "source": [
    "#### Gradient Boosted Trees"
   ]
  },
  {
   "cell_type": "code",
   "execution_count": 135,
   "metadata": {},
   "outputs": [
    {
     "data": {
      "text/html": [
       "<style>#sk-container-id-9 {color: black;}#sk-container-id-9 pre{padding: 0;}#sk-container-id-9 div.sk-toggleable {background-color: white;}#sk-container-id-9 label.sk-toggleable__label {cursor: pointer;display: block;width: 100%;margin-bottom: 0;padding: 0.3em;box-sizing: border-box;text-align: center;}#sk-container-id-9 label.sk-toggleable__label-arrow:before {content: \"▸\";float: left;margin-right: 0.25em;color: #696969;}#sk-container-id-9 label.sk-toggleable__label-arrow:hover:before {color: black;}#sk-container-id-9 div.sk-estimator:hover label.sk-toggleable__label-arrow:before {color: black;}#sk-container-id-9 div.sk-toggleable__content {max-height: 0;max-width: 0;overflow: hidden;text-align: left;background-color: #f0f8ff;}#sk-container-id-9 div.sk-toggleable__content pre {margin: 0.2em;color: black;border-radius: 0.25em;background-color: #f0f8ff;}#sk-container-id-9 input.sk-toggleable__control:checked~div.sk-toggleable__content {max-height: 200px;max-width: 100%;overflow: auto;}#sk-container-id-9 input.sk-toggleable__control:checked~label.sk-toggleable__label-arrow:before {content: \"▾\";}#sk-container-id-9 div.sk-estimator input.sk-toggleable__control:checked~label.sk-toggleable__label {background-color: #d4ebff;}#sk-container-id-9 div.sk-label input.sk-toggleable__control:checked~label.sk-toggleable__label {background-color: #d4ebff;}#sk-container-id-9 input.sk-hidden--visually {border: 0;clip: rect(1px 1px 1px 1px);clip: rect(1px, 1px, 1px, 1px);height: 1px;margin: -1px;overflow: hidden;padding: 0;position: absolute;width: 1px;}#sk-container-id-9 div.sk-estimator {font-family: monospace;background-color: #f0f8ff;border: 1px dotted black;border-radius: 0.25em;box-sizing: border-box;margin-bottom: 0.5em;}#sk-container-id-9 div.sk-estimator:hover {background-color: #d4ebff;}#sk-container-id-9 div.sk-parallel-item::after {content: \"\";width: 100%;border-bottom: 1px solid gray;flex-grow: 1;}#sk-container-id-9 div.sk-label:hover label.sk-toggleable__label {background-color: #d4ebff;}#sk-container-id-9 div.sk-serial::before {content: \"\";position: absolute;border-left: 1px solid gray;box-sizing: border-box;top: 0;bottom: 0;left: 50%;z-index: 0;}#sk-container-id-9 div.sk-serial {display: flex;flex-direction: column;align-items: center;background-color: white;padding-right: 0.2em;padding-left: 0.2em;position: relative;}#sk-container-id-9 div.sk-item {position: relative;z-index: 1;}#sk-container-id-9 div.sk-parallel {display: flex;align-items: stretch;justify-content: center;background-color: white;position: relative;}#sk-container-id-9 div.sk-item::before, #sk-container-id-9 div.sk-parallel-item::before {content: \"\";position: absolute;border-left: 1px solid gray;box-sizing: border-box;top: 0;bottom: 0;left: 50%;z-index: -1;}#sk-container-id-9 div.sk-parallel-item {display: flex;flex-direction: column;z-index: 1;position: relative;background-color: white;}#sk-container-id-9 div.sk-parallel-item:first-child::after {align-self: flex-end;width: 50%;}#sk-container-id-9 div.sk-parallel-item:last-child::after {align-self: flex-start;width: 50%;}#sk-container-id-9 div.sk-parallel-item:only-child::after {width: 0;}#sk-container-id-9 div.sk-dashed-wrapped {border: 1px dashed gray;margin: 0 0.4em 0.5em 0.4em;box-sizing: border-box;padding-bottom: 0.4em;background-color: white;}#sk-container-id-9 div.sk-label label {font-family: monospace;font-weight: bold;display: inline-block;line-height: 1.2em;}#sk-container-id-9 div.sk-label-container {text-align: center;}#sk-container-id-9 div.sk-container {/* jupyter's `normalize.less` sets `[hidden] { display: none; }` but bootstrap.min.css set `[hidden] { display: none !important; }` so we also need the `!important` here to be able to override the default hidden behavior on the sphinx rendered scikit-learn.org. See: https://github.com/scikit-learn/scikit-learn/issues/21755 */display: inline-block !important;position: relative;}#sk-container-id-9 div.sk-text-repr-fallback {display: none;}</style><div id=\"sk-container-id-9\" class=\"sk-top-container\"><div class=\"sk-text-repr-fallback\"><pre>XGBRegressor(base_score=None, booster=None, callbacks=None,\n",
       "             colsample_bylevel=None, colsample_bynode=None,\n",
       "             colsample_bytree=None, device=None, early_stopping_rounds=None,\n",
       "             enable_categorical=False, eval_metric=None, feature_types=None,\n",
       "             gamma=None, grow_policy=None, importance_type=None,\n",
       "             interaction_constraints=None, learning_rate=None, max_bin=None,\n",
       "             max_cat_threshold=None, max_cat_to_onehot=None,\n",
       "             max_delta_step=None, max_depth=None, max_leaves=None,\n",
       "             min_child_weight=None, missing=nan, monotone_constraints=None,\n",
       "             multi_strategy=None, n_estimators=None, n_jobs=None,\n",
       "             num_parallel_tree=None, random_state=None, ...)</pre><b>In a Jupyter environment, please rerun this cell to show the HTML representation or trust the notebook. <br />On GitHub, the HTML representation is unable to render, please try loading this page with nbviewer.org.</b></div><div class=\"sk-container\" hidden><div class=\"sk-item\"><div class=\"sk-estimator sk-toggleable\"><input class=\"sk-toggleable__control sk-hidden--visually\" id=\"sk-estimator-id-13\" type=\"checkbox\" checked><label for=\"sk-estimator-id-13\" class=\"sk-toggleable__label sk-toggleable__label-arrow\">XGBRegressor</label><div class=\"sk-toggleable__content\"><pre>XGBRegressor(base_score=None, booster=None, callbacks=None,\n",
       "             colsample_bylevel=None, colsample_bynode=None,\n",
       "             colsample_bytree=None, device=None, early_stopping_rounds=None,\n",
       "             enable_categorical=False, eval_metric=None, feature_types=None,\n",
       "             gamma=None, grow_policy=None, importance_type=None,\n",
       "             interaction_constraints=None, learning_rate=None, max_bin=None,\n",
       "             max_cat_threshold=None, max_cat_to_onehot=None,\n",
       "             max_delta_step=None, max_depth=None, max_leaves=None,\n",
       "             min_child_weight=None, missing=nan, monotone_constraints=None,\n",
       "             multi_strategy=None, n_estimators=None, n_jobs=None,\n",
       "             num_parallel_tree=None, random_state=None, ...)</pre></div></div></div></div></div>"
      ],
      "text/plain": [
       "XGBRegressor(base_score=None, booster=None, callbacks=None,\n",
       "             colsample_bylevel=None, colsample_bynode=None,\n",
       "             colsample_bytree=None, device=None, early_stopping_rounds=None,\n",
       "             enable_categorical=False, eval_metric=None, feature_types=None,\n",
       "             gamma=None, grow_policy=None, importance_type=None,\n",
       "             interaction_constraints=None, learning_rate=None, max_bin=None,\n",
       "             max_cat_threshold=None, max_cat_to_onehot=None,\n",
       "             max_delta_step=None, max_depth=None, max_leaves=None,\n",
       "             min_child_weight=None, missing=nan, monotone_constraints=None,\n",
       "             multi_strategy=None, n_estimators=None, n_jobs=None,\n",
       "             num_parallel_tree=None, random_state=None, ...)"
      ]
     },
     "execution_count": 135,
     "metadata": {},
     "output_type": "execute_result"
    }
   ],
   "source": [
    "xgbreg=XGBRegressor()\n",
    "xgbreg.fit(X_train,y_train)"
   ]
  },
  {
   "cell_type": "code",
   "execution_count": 136,
   "metadata": {},
   "outputs": [],
   "source": [
    "pred = xgbreg.predict(X_test)"
   ]
  },
  {
   "cell_type": "code",
   "execution_count": 137,
   "metadata": {},
   "outputs": [
    {
     "name": "stdout",
     "output_type": "stream",
     "text": [
      "MAE: 7.371919472548471\n",
      "MSE: 93.47888544372326\n",
      "RMSE: 9.668447933547725\n"
     ]
    }
   ],
   "source": [
    "print('MAE:', metrics.mean_absolute_error(y_test, pred))\n",
    "print('MSE:', metrics.mean_squared_error(y_test, pred))\n",
    "print('RMSE:', np.sqrt(metrics.mean_squared_error(y_test, pred)))"
   ]
  },
  {
   "cell_type": "code",
   "execution_count": 138,
   "metadata": {},
   "outputs": [
    {
     "data": {
      "text/plain": [
       "<matplotlib.collections.PathCollection at 0x7f6275ff2cb0>"
      ]
     },
     "execution_count": 138,
     "metadata": {},
     "output_type": "execute_result"
    },
    {
     "data": {
      "image/png": "[encoded data removed]",
      "text/plain": [
       "<Figure size 640x480 with 1 Axes>"
      ]
     },
     "metadata": {},
     "output_type": "display_data"
    }
   ],
   "source": [
    "plt.scatter(y_test, pred)"
   ]
  },
  {
   "cell_type": "markdown",
   "metadata": {},
   "source": [
    "#### Tweedie Regressor\n",
    "https://scikit-learn.org/stable/modules/linear_model.html#generalized-linear-models"
   ]
  },
  {
   "cell_type": "code",
   "execution_count": 139,
   "metadata": {},
   "outputs": [],
   "source": [
    "model = TweedieRegressor(power=2, alpha=0.5, link='log')"
   ]
  },
  {
   "cell_type": "code",
   "execution_count": 140,
   "metadata": {},
   "outputs": [
    {
     "data": {
      "text/html": [
       "<style>#sk-container-id-10 {color: black;}#sk-container-id-10 pre{padding: 0;}#sk-container-id-10 div.sk-toggleable {background-color: white;}#sk-container-id-10 label.sk-toggleable__label {cursor: pointer;display: block;width: 100%;margin-bottom: 0;padding: 0.3em;box-sizing: border-box;text-align: center;}#sk-container-id-10 label.sk-toggleable__label-arrow:before {content: \"▸\";float: left;margin-right: 0.25em;color: #696969;}#sk-container-id-10 label.sk-toggleable__label-arrow:hover:before {color: black;}#sk-container-id-10 div.sk-estimator:hover label.sk-toggleable__label-arrow:before {color: black;}#sk-container-id-10 div.sk-toggleable__content {max-height: 0;max-width: 0;overflow: hidden;text-align: left;background-color: #f0f8ff;}#sk-container-id-10 div.sk-toggleable__content pre {margin: 0.2em;color: black;border-radius: 0.25em;background-color: #f0f8ff;}#sk-container-id-10 input.sk-toggleable__control:checked~div.sk-toggleable__content {max-height: 200px;max-width: 100%;overflow: auto;}#sk-container-id-10 input.sk-toggleable__control:checked~label.sk-toggleable__label-arrow:before {content: \"▾\";}#sk-container-id-10 div.sk-estimator input.sk-toggleable__control:checked~label.sk-toggleable__label {background-color: #d4ebff;}#sk-container-id-10 div.sk-label input.sk-toggleable__control:checked~label.sk-toggleable__label {background-color: #d4ebff;}#sk-container-id-10 input.sk-hidden--visually {border: 0;clip: rect(1px 1px 1px 1px);clip: rect(1px, 1px, 1px, 1px);height: 1px;margin: -1px;overflow: hidden;padding: 0;position: absolute;width: 1px;}#sk-container-id-10 div.sk-estimator {font-family: monospace;background-color: #f0f8ff;border: 1px dotted black;border-radius: 0.25em;box-sizing: border-box;margin-bottom: 0.5em;}#sk-container-id-10 div.sk-estimator:hover {background-color: #d4ebff;}#sk-container-id-10 div.sk-parallel-item::after {content: \"\";width: 100%;border-bottom: 1px solid gray;flex-grow: 1;}#sk-container-id-10 div.sk-label:hover label.sk-toggleable__label {background-color: #d4ebff;}#sk-container-id-10 div.sk-serial::before {content: \"\";position: absolute;border-left: 1px solid gray;box-sizing: border-box;top: 0;bottom: 0;left: 50%;z-index: 0;}#sk-container-id-10 div.sk-serial {display: flex;flex-direction: column;align-items: center;background-color: white;padding-right: 0.2em;padding-left: 0.2em;position: relative;}#sk-container-id-10 div.sk-item {position: relative;z-index: 1;}#sk-container-id-10 div.sk-parallel {display: flex;align-items: stretch;justify-content: center;background-color: white;position: relative;}#sk-container-id-10 div.sk-item::before, #sk-container-id-10 div.sk-parallel-item::before {content: \"\";position: absolute;border-left: 1px solid gray;box-sizing: border-box;top: 0;bottom: 0;left: 50%;z-index: -1;}#sk-container-id-10 div.sk-parallel-item {display: flex;flex-direction: column;z-index: 1;position: relative;background-color: white;}#sk-container-id-10 div.sk-parallel-item:first-child::after {align-self: flex-end;width: 50%;}#sk-container-id-10 div.sk-parallel-item:last-child::after {align-self: flex-start;width: 50%;}#sk-container-id-10 div.sk-parallel-item:only-child::after {width: 0;}#sk-container-id-10 div.sk-dashed-wrapped {border: 1px dashed gray;margin: 0 0.4em 0.5em 0.4em;box-sizing: border-box;padding-bottom: 0.4em;background-color: white;}#sk-container-id-10 div.sk-label label {font-family: monospace;font-weight: bold;display: inline-block;line-height: 1.2em;}#sk-container-id-10 div.sk-label-container {text-align: center;}#sk-container-id-10 div.sk-container {/* jupyter's `normalize.less` sets `[hidden] { display: none; }` but bootstrap.min.css set `[hidden] { display: none !important; }` so we also need the `!important` here to be able to override the default hidden behavior on the sphinx rendered scikit-learn.org. See: https://github.com/scikit-learn/scikit-learn/issues/21755 */display: inline-block !important;position: relative;}#sk-container-id-10 div.sk-text-repr-fallback {display: none;}</style><div id=\"sk-container-id-10\" class=\"sk-top-container\"><div class=\"sk-text-repr-fallback\"><pre>TweedieRegressor(alpha=0.5, link=&#x27;log&#x27;, power=2)</pre><b>In a Jupyter environment, please rerun this cell to show the HTML representation or trust the notebook. <br />On GitHub, the HTML representation is unable to render, please try loading this page with nbviewer.org.</b></div><div class=\"sk-container\" hidden><div class=\"sk-item\"><div class=\"sk-estimator sk-toggleable\"><input class=\"sk-toggleable__control sk-hidden--visually\" id=\"sk-estimator-id-14\" type=\"checkbox\" checked><label for=\"sk-estimator-id-14\" class=\"sk-toggleable__label sk-toggleable__label-arrow\">TweedieRegressor</label><div class=\"sk-toggleable__content\"><pre>TweedieRegressor(alpha=0.5, link=&#x27;log&#x27;, power=2)</pre></div></div></div></div></div>"
      ],
      "text/plain": [
       "TweedieRegressor(alpha=0.5, link='log', power=2)"
      ]
     },
     "execution_count": 140,
     "metadata": {},
     "output_type": "execute_result"
    }
   ],
   "source": [
    "model.fit(X_train, y_train)"
   ]
  },
  {
   "cell_type": "code",
   "execution_count": 141,
   "metadata": {},
   "outputs": [
    {
     "data": {
      "text/plain": [
       "array([37.72771596, 40.58961866, 35.30975559, ..., 32.37341029,\n",
       "       46.07605722, 40.4618684 ])"
      ]
     },
     "execution_count": 141,
     "metadata": {},
     "output_type": "execute_result"
    }
   ],
   "source": [
    "pred = model.predict(X_test)\n",
    "pred"
   ]
  },
  {
   "cell_type": "code",
   "execution_count": 142,
   "metadata": {},
   "outputs": [
    {
     "data": {
      "text/plain": [
       "<Axes: ylabel='Count'>"
      ]
     },
     "execution_count": 142,
     "metadata": {},
     "output_type": "execute_result"
    },
    {
     "data": {
      "image/png": "[encoded data removed]",
      "text/plain": [
       "<Figure size 640x480 with 1 Axes>"
      ]
     },
     "metadata": {},
     "output_type": "display_data"
    }
   ],
   "source": [
    "sns.histplot(pred, bins=50)"
   ]
  },
  {
   "cell_type": "code",
   "execution_count": 143,
   "metadata": {},
   "outputs": [
    {
     "name": "stdout",
     "output_type": "stream",
     "text": [
      "MAE: 13.023261816504839\n",
      "MSE: 263.52048150727074\n",
      "RMSE: 16.23331394100634\n"
     ]
    }
   ],
   "source": [
    "print('MAE:', metrics.mean_absolute_error(y_test, pred))\n",
    "print('MSE:', metrics.mean_squared_error(y_test, pred))\n",
    "print('RMSE:', np.sqrt(metrics.mean_squared_error(y_test, pred)))"
   ]
  },
  {
   "cell_type": "code",
   "execution_count": 144,
   "metadata": {},
   "outputs": [
    {
     "data": {
      "text/plain": [
       "<matplotlib.collections.PathCollection at 0x7f6275f80550>"
      ]
     },
     "execution_count": 144,
     "metadata": {},
     "output_type": "execute_result"
    },
    {
     "data": {
      "image/png": "[encoded data removed]",
      "text/plain": [
       "<Figure size 640x480 with 1 Axes>"
      ]
     },
     "metadata": {},
     "output_type": "display_data"
    }
   ],
   "source": [
    "plt.scatter(y_test, pred)"
   ]
  },
  {
   "cell_type": "markdown",
   "metadata": {},
   "source": [
    "#### Random Forest"
   ]
  },
  {
   "cell_type": "code",
   "execution_count": 166,
   "metadata": {},
   "outputs": [],
   "source": [
    "rf = RandomForestRegressor(n_estimators=200, random_state=2023)"
   ]
  },
  {
   "cell_type": "code",
   "execution_count": 167,
   "metadata": {},
   "outputs": [
    {
     "data": {
      "text/html": [
       "<style>#sk-container-id-13 {color: black;}#sk-container-id-13 pre{padding: 0;}#sk-container-id-13 div.sk-toggleable {background-color: white;}#sk-container-id-13 label.sk-toggleable__label {cursor: pointer;display: block;width: 100%;margin-bottom: 0;padding: 0.3em;box-sizing: border-box;text-align: center;}#sk-container-id-13 label.sk-toggleable__label-arrow:before {content: \"▸\";float: left;margin-right: 0.25em;color: #696969;}#sk-container-id-13 label.sk-toggleable__label-arrow:hover:before {color: black;}#sk-container-id-13 div.sk-estimator:hover label.sk-toggleable__label-arrow:before {color: black;}#sk-container-id-13 div.sk-toggleable__content {max-height: 0;max-width: 0;overflow: hidden;text-align: left;background-color: #f0f8ff;}#sk-container-id-13 div.sk-toggleable__content pre {margin: 0.2em;color: black;border-radius: 0.25em;background-color: #f0f8ff;}#sk-container-id-13 input.sk-toggleable__control:checked~div.sk-toggleable__content {max-height: 200px;max-width: 100%;overflow: auto;}#sk-container-id-13 input.sk-toggleable__control:checked~label.sk-toggleable__label-arrow:before {content: \"▾\";}#sk-container-id-13 div.sk-estimator input.sk-toggleable__control:checked~label.sk-toggleable__label {background-color: #d4ebff;}#sk-container-id-13 div.sk-label input.sk-toggleable__control:checked~label.sk-toggleable__label {background-color: #d4ebff;}#sk-container-id-13 input.sk-hidden--visually {border: 0;clip: rect(1px 1px 1px 1px);clip: rect(1px, 1px, 1px, 1px);height: 1px;margin: -1px;overflow: hidden;padding: 0;position: absolute;width: 1px;}#sk-container-id-13 div.sk-estimator {font-family: monospace;background-color: #f0f8ff;border: 1px dotted black;border-radius: 0.25em;box-sizing: border-box;margin-bottom: 0.5em;}#sk-container-id-13 div.sk-estimator:hover {background-color: #d4ebff;}#sk-container-id-13 div.sk-parallel-item::after {content: \"\";width: 100%;border-bottom: 1px solid gray;flex-grow: 1;}#sk-container-id-13 div.sk-label:hover label.sk-toggleable__label {background-color: #d4ebff;}#sk-container-id-13 div.sk-serial::before {content: \"\";position: absolute;border-left: 1px solid gray;box-sizing: border-box;top: 0;bottom: 0;left: 50%;z-index: 0;}#sk-container-id-13 div.sk-serial {display: flex;flex-direction: column;align-items: center;background-color: white;padding-right: 0.2em;padding-left: 0.2em;position: relative;}#sk-container-id-13 div.sk-item {position: relative;z-index: 1;}#sk-container-id-13 div.sk-parallel {display: flex;align-items: stretch;justify-content: center;background-color: white;position: relative;}#sk-container-id-13 div.sk-item::before, #sk-container-id-13 div.sk-parallel-item::before {content: \"\";position: absolute;border-left: 1px solid gray;box-sizing: border-box;top: 0;bottom: 0;left: 50%;z-index: -1;}#sk-container-id-13 div.sk-parallel-item {display: flex;flex-direction: column;z-index: 1;position: relative;background-color: white;}#sk-container-id-13 div.sk-parallel-item:first-child::after {align-self: flex-end;width: 50%;}#sk-container-id-13 div.sk-parallel-item:last-child::after {align-self: flex-start;width: 50%;}#sk-container-id-13 div.sk-parallel-item:only-child::after {width: 0;}#sk-container-id-13 div.sk-dashed-wrapped {border: 1px dashed gray;margin: 0 0.4em 0.5em 0.4em;box-sizing: border-box;padding-bottom: 0.4em;background-color: white;}#sk-container-id-13 div.sk-label label {font-family: monospace;font-weight: bold;display: inline-block;line-height: 1.2em;}#sk-container-id-13 div.sk-label-container {text-align: center;}#sk-container-id-13 div.sk-container {/* jupyter's `normalize.less` sets `[hidden] { display: none; }` but bootstrap.min.css set `[hidden] { display: none !important; }` so we also need the `!important` here to be able to override the default hidden behavior on the sphinx rendered scikit-learn.org. See: https://github.com/scikit-learn/scikit-learn/issues/21755 */display: inline-block !important;position: relative;}#sk-container-id-13 div.sk-text-repr-fallback {display: none;}</style><div id=\"sk-container-id-13\" class=\"sk-top-container\"><div class=\"sk-text-repr-fallback\"><pre>RandomForestRegressor(n_estimators=200, random_state=2023)</pre><b>In a Jupyter environment, please rerun this cell to show the HTML representation or trust the notebook. <br />On GitHub, the HTML representation is unable to render, please try loading this page with nbviewer.org.</b></div><div class=\"sk-container\" hidden><div class=\"sk-item\"><div class=\"sk-estimator sk-toggleable\"><input class=\"sk-toggleable__control sk-hidden--visually\" id=\"sk-estimator-id-17\" type=\"checkbox\" checked><label for=\"sk-estimator-id-17\" class=\"sk-toggleable__label sk-toggleable__label-arrow\">RandomForestRegressor</label><div class=\"sk-toggleable__content\"><pre>RandomForestRegressor(n_estimators=200, random_state=2023)</pre></div></div></div></div></div>"
      ],
      "text/plain": [
       "RandomForestRegressor(n_estimators=200, random_state=2023)"
      ]
     },
     "execution_count": 167,
     "metadata": {},
     "output_type": "execute_result"
    }
   ],
   "source": [
    "rf.fit(X_train, y_train)"
   ]
  },
  {
   "cell_type": "code",
   "execution_count": 168,
   "metadata": {},
   "outputs": [
    {
     "data": {
      "text/plain": [
       "array([30.8025, 45.74  , 37.175 , ...,  8.57  , 54.94  , 62.875 ])"
      ]
     },
     "execution_count": 168,
     "metadata": {},
     "output_type": "execute_result"
    }
   ],
   "source": [
    "pred = rf.predict(X_test)\n",
    "pred"
   ]
  },
  {
   "cell_type": "code",
   "execution_count": 169,
   "metadata": {},
   "outputs": [
    {
     "name": "stdout",
     "output_type": "stream",
     "text": [
      "MAE: 11.036969385484777\n",
      "MSE: 194.13005950103013\n",
      "RMSE: 13.933056358926786\n"
     ]
    }
   ],
   "source": [
    "print('MAE:', metrics.mean_absolute_error(y_test, pred))\n",
    "print('MSE:', metrics.mean_squared_error(y_test, pred))\n",
    "print('RMSE:', np.sqrt(metrics.mean_squared_error(y_test, pred)))"
   ]
  },
  {
   "cell_type": "code",
   "execution_count": 149,
   "metadata": {},
   "outputs": [
    {
     "data": {
      "text/plain": [
       "<matplotlib.collections.PathCollection at 0x7f6275e53f10>"
      ]
     },
     "execution_count": 149,
     "metadata": {},
     "output_type": "execute_result"
    },
    {
     "data": {
      "image/png": "[encoded data removed]",
      "text/plain": [
       "<Figure size 640x480 with 1 Axes>"
      ]
     },
     "metadata": {},
     "output_type": "display_data"
    }
   ],
   "source": [
    "plt.scatter(y_test, pred)"
   ]
  },
  {
   "cell_type": "markdown",
   "metadata": {},
   "source": [
    "Grid Search"
   ]
  },
  {
   "cell_type": "code",
   "execution_count": null,
   "metadata": {},
   "outputs": [],
   "source": [
    "param_grid = {'criterion':['squared_error', 'absolute_error', 'friedman_mse', 'poisson'],'max_depth':[4,5,6,7,8,9,10,11,12,15,20,30,40,50,70,90,120,150]}\n",
    "\n",
    "grid_reg_rf = GridSearchCV(rf, param_grid, refit=True, verbose=3)"
   ]
  },
  {
   "cell_type": "code",
   "execution_count": null,
   "metadata": {},
   "outputs": [],
   "source": [
    "grid_reg_rf.fit(X_train, y_train)"
   ]
  },
  {
   "cell_type": "code",
   "execution_count": null,
   "metadata": {},
   "outputs": [],
   "source": [
    "grid_reg_rf_pred = rf.predict(X_test)"
   ]
  },
  {
   "cell_type": "code",
   "execution_count": null,
   "metadata": {},
   "outputs": [],
   "source": [
    "print('MAE:', metrics.mean_absolute_error(y_test, grid_reg_rf_pred))\n",
    "print('MSE:', metrics.mean_squared_error(y_test, grid_reg_rf_pred))\n",
    "print('RMSE:', np.sqrt(metrics.mean_squared_error(y_test, grid_reg_rf_pred)))"
   ]
  },
  {
   "cell_type": "markdown",
   "metadata": {},
   "source": [
    "### Problema de Classificação\n",
    "\n",
    "Uma outra forma de resolver este problema de previsão da popularidade de uma música consiste em transformar a feature 'popularity', target do nosso problema, numa feature discreta, dividindo a gama de valores contínuos (0 a 100) numa série de bins, ou seja intervalos de popularidade. Por exemplo, para 10 bins, o objetivo passaria a ser o de prever qual o nível de popularidade de uma música (Nível 0 - 0..10, Nível 1 - 10..20, etc)"
   ]
  },
  {
   "cell_type": "markdown",
   "metadata": {},
   "source": [
    "Vamos então transformar a feature 'popularity' numa feature discreta, recorrendo à funcionalidade KBinsDiscretizer do módulo Sci-kit learn.\n",
    "Este módulo permite realizar binning de duas estratégias diferentes:"
   ]
  },
  {
   "cell_type": "markdown",
   "metadata": {},
   "source": [
    "- ‘uniform’: All bins in each feature have identical widths.\n",
    "\n",
    "- ‘quantile’: All bins in each feature have the same number of points."
   ]
  },
  {
   "cell_type": "code",
   "execution_count": 83,
   "metadata": {},
   "outputs": [
    {
     "name": "stdout",
     "output_type": "stream",
     "text": [
      "<class 'pandas.core.frame.DataFrame'>\n",
      "Index: 142497 entries, 4 to 169908\n",
      "Data columns (total 16 columns):\n",
      " #   Column             Non-Null Count   Dtype  \n",
      "---  ------             --------------   -----  \n",
      " 0   acousticness       142497 non-null  float64\n",
      " 1   danceability       142497 non-null  float64\n",
      " 2   duration_ms        142497 non-null  int64  \n",
      " 3   energy             142497 non-null  float64\n",
      " 4   explicit           142497 non-null  int64  \n",
      " 5   instrumentalness   142497 non-null  float64\n",
      " 6   key                142497 non-null  int64  \n",
      " 7   liveness           142497 non-null  float64\n",
      " 8   loudness           142497 non-null  float64\n",
      " 9   mode               142497 non-null  int64  \n",
      " 10  popularity         142497 non-null  int64  \n",
      " 11  speechiness        142497 non-null  float64\n",
      " 12  tempo              142497 non-null  float64\n",
      " 13  valence            142497 non-null  float64\n",
      " 14  year               142497 non-null  int64  \n",
      " 15  popularity_binned  142497 non-null  float64\n",
      "dtypes: float64(10), int64(6)\n",
      "memory usage: 18.5 MB\n"
     ]
    }
   ],
   "source": [
    "data_binned = data.copy()\n",
    "estimator = preprocessing.KBinsDiscretizer(n_bins=3, encode='ordinal', strategy='quantile')\n",
    "data_binned['popularity_binned'] = estimator.fit_transform(data[['popularity']])\n",
    "data_binned.info()"
   ]
  },
  {
   "cell_type": "code",
   "execution_count": 85,
   "metadata": {},
   "outputs": [
    {
     "data": {
      "text/plain": [
       "array([[<Axes: title={'center': 'popularity_binned'}>]], dtype=object)"
      ]
     },
     "execution_count": 85,
     "metadata": {},
     "output_type": "execute_result"
    },
    {
     "data": {
      "image/png": "[encoded data removed]",
      "text/plain": [
       "<Figure size 640x480 with 1 Axes>"
      ]
     },
     "metadata": {},
     "output_type": "display_data"
    }
   ],
   "source": [
    "data_binned.hist(column='popularity_binned')"
   ]
  },
  {
   "cell_type": "code",
   "execution_count": 84,
   "metadata": {},
   "outputs": [
    {
     "data": {
      "text/html": [
       "<div>\n",
       "<style scoped>\n",
       "    .dataframe tbody tr th:only-of-type {\n",
       "        vertical-align: middle;\n",
       "    }\n",
       "\n",
       "    .dataframe tbody tr th {\n",
       "        vertical-align: top;\n",
       "    }\n",
       "\n",
       "    .dataframe thead th {\n",
       "        text-align: right;\n",
       "    }\n",
       "</style>\n",
       "<table border=\"1\" class=\"dataframe\">\n",
       "  <thead>\n",
       "    <tr style=\"text-align: right;\">\n",
       "      <th></th>\n",
       "      <th>acousticness</th>\n",
       "      <th>danceability</th>\n",
       "      <th>duration_ms</th>\n",
       "      <th>energy</th>\n",
       "      <th>explicit</th>\n",
       "      <th>instrumentalness</th>\n",
       "      <th>key</th>\n",
       "      <th>liveness</th>\n",
       "      <th>loudness</th>\n",
       "      <th>mode</th>\n",
       "      <th>popularity</th>\n",
       "      <th>speechiness</th>\n",
       "      <th>tempo</th>\n",
       "      <th>valence</th>\n",
       "      <th>year</th>\n",
       "    </tr>\n",
       "    <tr>\n",
       "      <th>popularity_binned</th>\n",
       "      <th></th>\n",
       "      <th></th>\n",
       "      <th></th>\n",
       "      <th></th>\n",
       "      <th></th>\n",
       "      <th></th>\n",
       "      <th></th>\n",
       "      <th></th>\n",
       "      <th></th>\n",
       "      <th></th>\n",
       "      <th></th>\n",
       "      <th></th>\n",
       "      <th></th>\n",
       "      <th></th>\n",
       "      <th></th>\n",
       "    </tr>\n",
       "  </thead>\n",
       "  <tbody>\n",
       "    <tr>\n",
       "      <th>0.0</th>\n",
       "      <td>0.643425</td>\n",
       "      <td>0.504251</td>\n",
       "      <td>223942.336319</td>\n",
       "      <td>0.401616</td>\n",
       "      <td>0.005292</td>\n",
       "      <td>0.193735</td>\n",
       "      <td>5.121341</td>\n",
       "      <td>0.217382</td>\n",
       "      <td>-13.238485</td>\n",
       "      <td>0.734862</td>\n",
       "      <td>16.968824</td>\n",
       "      <td>0.074935</td>\n",
       "      <td>115.449002</td>\n",
       "      <td>0.536173</td>\n",
       "      <td>1962.368267</td>\n",
       "    </tr>\n",
       "    <tr>\n",
       "      <th>1.0</th>\n",
       "      <td>0.350746</td>\n",
       "      <td>0.545385</td>\n",
       "      <td>244278.726436</td>\n",
       "      <td>0.569076</td>\n",
       "      <td>0.065346</td>\n",
       "      <td>0.117730</td>\n",
       "      <td>5.241204</td>\n",
       "      <td>0.204586</td>\n",
       "      <td>-10.475989</td>\n",
       "      <td>0.716993</td>\n",
       "      <td>37.710676</td>\n",
       "      <td>0.072714</td>\n",
       "      <td>119.829191</td>\n",
       "      <td>0.555300</td>\n",
       "      <td>1986.150849</td>\n",
       "    </tr>\n",
       "    <tr>\n",
       "      <th>2.0</th>\n",
       "      <td>0.278140</td>\n",
       "      <td>0.587287</td>\n",
       "      <td>235381.167405</td>\n",
       "      <td>0.620183</td>\n",
       "      <td>0.183524</td>\n",
       "      <td>0.072806</td>\n",
       "      <td>5.246142</td>\n",
       "      <td>0.187989</td>\n",
       "      <td>-8.266365</td>\n",
       "      <td>0.679833</td>\n",
       "      <td>57.004632</td>\n",
       "      <td>0.085947</td>\n",
       "      <td>120.493430</td>\n",
       "      <td>0.517920</td>\n",
       "      <td>2002.486864</td>\n",
       "    </tr>\n",
       "  </tbody>\n",
       "</table>\n",
       "</div>"
      ],
      "text/plain": [
       "                   acousticness  danceability    duration_ms    energy  \\\n",
       "popularity_binned                                                        \n",
       "0.0                    0.643425      0.504251  223942.336319  0.401616   \n",
       "1.0                    0.350746      0.545385  244278.726436  0.569076   \n",
       "2.0                    0.278140      0.587287  235381.167405  0.620183   \n",
       "\n",
       "                   explicit  instrumentalness       key  liveness   loudness  \\\n",
       "popularity_binned                                                              \n",
       "0.0                0.005292          0.193735  5.121341  0.217382 -13.238485   \n",
       "1.0                0.065346          0.117730  5.241204  0.204586 -10.475989   \n",
       "2.0                0.183524          0.072806  5.246142  0.187989  -8.266365   \n",
       "\n",
       "                       mode  popularity  speechiness       tempo   valence  \\\n",
       "popularity_binned                                                            \n",
       "0.0                0.734862   16.968824     0.074935  115.449002  0.536173   \n",
       "1.0                0.716993   37.710676     0.072714  119.829191  0.555300   \n",
       "2.0                0.679833   57.004632     0.085947  120.493430  0.517920   \n",
       "\n",
       "                          year  \n",
       "popularity_binned               \n",
       "0.0                1962.368267  \n",
       "1.0                1986.150849  \n",
       "2.0                2002.486864  "
      ]
     },
     "execution_count": 84,
     "metadata": {},
     "output_type": "execute_result"
    }
   ],
   "source": [
    "data_binned.groupby(by=['popularity_binned']).mean()"
   ]
  },
  {
   "cell_type": "markdown",
   "metadata": {},
   "source": [
    "### Modelo de Árvores de Decisão"
   ]
  },
  {
   "cell_type": "markdown",
   "metadata": {},
   "source": [
    "Vamos agora criar um modelo de árvores de decisão para prever o intervalo de popularidade de uma música."
   ]
  },
  {
   "cell_type": "code",
   "execution_count": 96,
   "metadata": {},
   "outputs": [],
   "source": [
    "\"\"\"\n",
    "Hyperparameters:\n",
    "criterion - The function to measure the quality of a split.\n",
    "    \"entropy\" - Entropy = 0 means it is pure split (all instances are of only 1 class). Entropy = 1 means it is impure split.\n",
    "    \"gini\" - \n",
    "max_depth - The maximum number of levels in the tree.\n",
    "min_samples_leaf - The minimum number of samples allowed in a leaf.\n",
    "min_samples_split - The minimum number of samples required to split an internal node.\n",
    "\"\"\"\n",
    "classifier = DecisionTreeClassifier(random_state=2023, criterion='entropy', splitter='best') "
   ]
  },
  {
   "cell_type": "markdown",
   "metadata": {},
   "source": [
    "Before training the model, we must assure that all features are non categorical."
   ]
  },
  {
   "cell_type": "code",
   "execution_count": 97,
   "metadata": {},
   "outputs": [],
   "source": [
    "continous_features = data_binned.copy()\n",
    "#continous_features['artist_name'] = lb_make.fit_transform(continous_features['artist_name'])\n",
    "#continous_features['genre'] = lb_make.fit_transform(continous_features['genre'])\n",
    "#continous_features"
   ]
  },
  {
   "cell_type": "code",
   "execution_count": 98,
   "metadata": {},
   "outputs": [],
   "source": [
    "X_dt = continous_features.drop(['popularity', 'popularity_binned'], axis=1)\n",
    "y_dt = continous_features['popularity_binned'].to_frame()"
   ]
  },
  {
   "cell_type": "code",
   "execution_count": 99,
   "metadata": {},
   "outputs": [],
   "source": [
    "X_train, X_test, y_train, y_test = train_test_split(X_dt, y_dt, test_size=0.25, random_state=101)"
   ]
  },
  {
   "cell_type": "code",
   "execution_count": 100,
   "metadata": {},
   "outputs": [
    {
     "data": {
      "text/html": [
       "<style>#sk-container-id-8 {color: black;}#sk-container-id-8 pre{padding: 0;}#sk-container-id-8 div.sk-toggleable {background-color: white;}#sk-container-id-8 label.sk-toggleable__label {cursor: pointer;display: block;width: 100%;margin-bottom: 0;padding: 0.3em;box-sizing: border-box;text-align: center;}#sk-container-id-8 label.sk-toggleable__label-arrow:before {content: \"▸\";float: left;margin-right: 0.25em;color: #696969;}#sk-container-id-8 label.sk-toggleable__label-arrow:hover:before {color: black;}#sk-container-id-8 div.sk-estimator:hover label.sk-toggleable__label-arrow:before {color: black;}#sk-container-id-8 div.sk-toggleable__content {max-height: 0;max-width: 0;overflow: hidden;text-align: left;background-color: #f0f8ff;}#sk-container-id-8 div.sk-toggleable__content pre {margin: 0.2em;color: black;border-radius: 0.25em;background-color: #f0f8ff;}#sk-container-id-8 input.sk-toggleable__control:checked~div.sk-toggleable__content {max-height: 200px;max-width: 100%;overflow: auto;}#sk-container-id-8 input.sk-toggleable__control:checked~label.sk-toggleable__label-arrow:before {content: \"▾\";}#sk-container-id-8 div.sk-estimator input.sk-toggleable__control:checked~label.sk-toggleable__label {background-color: #d4ebff;}#sk-container-id-8 div.sk-label input.sk-toggleable__control:checked~label.sk-toggleable__label {background-color: #d4ebff;}#sk-container-id-8 input.sk-hidden--visually {border: 0;clip: rect(1px 1px 1px 1px);clip: rect(1px, 1px, 1px, 1px);height: 1px;margin: -1px;overflow: hidden;padding: 0;position: absolute;width: 1px;}#sk-container-id-8 div.sk-estimator {font-family: monospace;background-color: #f0f8ff;border: 1px dotted black;border-radius: 0.25em;box-sizing: border-box;margin-bottom: 0.5em;}#sk-container-id-8 div.sk-estimator:hover {background-color: #d4ebff;}#sk-container-id-8 div.sk-parallel-item::after {content: \"\";width: 100%;border-bottom: 1px solid gray;flex-grow: 1;}#sk-container-id-8 div.sk-label:hover label.sk-toggleable__label {background-color: #d4ebff;}#sk-container-id-8 div.sk-serial::before {content: \"\";position: absolute;border-left: 1px solid gray;box-sizing: border-box;top: 0;bottom: 0;left: 50%;z-index: 0;}#sk-container-id-8 div.sk-serial {display: flex;flex-direction: column;align-items: center;background-color: white;padding-right: 0.2em;padding-left: 0.2em;position: relative;}#sk-container-id-8 div.sk-item {position: relative;z-index: 1;}#sk-container-id-8 div.sk-parallel {display: flex;align-items: stretch;justify-content: center;background-color: white;position: relative;}#sk-container-id-8 div.sk-item::before, #sk-container-id-8 div.sk-parallel-item::before {content: \"\";position: absolute;border-left: 1px solid gray;box-sizing: border-box;top: 0;bottom: 0;left: 50%;z-index: -1;}#sk-container-id-8 div.sk-parallel-item {display: flex;flex-direction: column;z-index: 1;position: relative;background-color: white;}#sk-container-id-8 div.sk-parallel-item:first-child::after {align-self: flex-end;width: 50%;}#sk-container-id-8 div.sk-parallel-item:last-child::after {align-self: flex-start;width: 50%;}#sk-container-id-8 div.sk-parallel-item:only-child::after {width: 0;}#sk-container-id-8 div.sk-dashed-wrapped {border: 1px dashed gray;margin: 0 0.4em 0.5em 0.4em;box-sizing: border-box;padding-bottom: 0.4em;background-color: white;}#sk-container-id-8 div.sk-label label {font-family: monospace;font-weight: bold;display: inline-block;line-height: 1.2em;}#sk-container-id-8 div.sk-label-container {text-align: center;}#sk-container-id-8 div.sk-container {/* jupyter's `normalize.less` sets `[hidden] { display: none; }` but bootstrap.min.css set `[hidden] { display: none !important; }` so we also need the `!important` here to be able to override the default hidden behavior on the sphinx rendered scikit-learn.org. See: https://github.com/scikit-learn/scikit-learn/issues/21755 */display: inline-block !important;position: relative;}#sk-container-id-8 div.sk-text-repr-fallback {display: none;}</style><div id=\"sk-container-id-8\" class=\"sk-top-container\"><div class=\"sk-text-repr-fallback\"><pre>DecisionTreeClassifier(criterion=&#x27;entropy&#x27;, random_state=2023)</pre><b>In a Jupyter environment, please rerun this cell to show the HTML representation or trust the notebook. <br />On GitHub, the HTML representation is unable to render, please try loading this page with nbviewer.org.</b></div><div class=\"sk-container\" hidden><div class=\"sk-item\"><div class=\"sk-estimator sk-toggleable\"><input class=\"sk-toggleable__control sk-hidden--visually\" id=\"sk-estimator-id-12\" type=\"checkbox\" checked><label for=\"sk-estimator-id-12\" class=\"sk-toggleable__label sk-toggleable__label-arrow\">DecisionTreeClassifier</label><div class=\"sk-toggleable__content\"><pre>DecisionTreeClassifier(criterion=&#x27;entropy&#x27;, random_state=2023)</pre></div></div></div></div></div>"
      ],
      "text/plain": [
       "DecisionTreeClassifier(criterion='entropy', random_state=2023)"
      ]
     },
     "execution_count": 100,
     "metadata": {},
     "output_type": "execute_result"
    }
   ],
   "source": [
    "classifier.fit(X_train, y_train)"
   ]
  },
  {
   "cell_type": "code",
   "execution_count": 101,
   "metadata": {},
   "outputs": [
    {
     "data": {
      "text/plain": [
       "array([0., 2., 0., ..., 1., 1., 2.])"
      ]
     },
     "execution_count": 101,
     "metadata": {},
     "output_type": "execute_result"
    }
   ],
   "source": [
    "d_tree_predictions = classifier.predict(X_test)\n",
    "d_tree_predictions"
   ]
  },
  {
   "cell_type": "code",
   "execution_count": 102,
   "metadata": {},
   "outputs": [
    {
     "data": {
      "text/html": [
       "<div>\n",
       "<style scoped>\n",
       "    .dataframe tbody tr th:only-of-type {\n",
       "        vertical-align: middle;\n",
       "    }\n",
       "\n",
       "    .dataframe tbody tr th {\n",
       "        vertical-align: top;\n",
       "    }\n",
       "\n",
       "    .dataframe thead th {\n",
       "        text-align: right;\n",
       "    }\n",
       "</style>\n",
       "<table border=\"1\" class=\"dataframe\">\n",
       "  <thead>\n",
       "    <tr style=\"text-align: right;\">\n",
       "      <th></th>\n",
       "      <th>prediction_binned</th>\n",
       "      <th>popularity_binned</th>\n",
       "    </tr>\n",
       "  </thead>\n",
       "  <tbody>\n",
       "    <tr>\n",
       "      <th>4</th>\n",
       "      <td>0.0</td>\n",
       "      <td>0.0</td>\n",
       "    </tr>\n",
       "    <tr>\n",
       "      <th>59</th>\n",
       "      <td>1.0</td>\n",
       "      <td>0.0</td>\n",
       "    </tr>\n",
       "    <tr>\n",
       "      <th>75</th>\n",
       "      <td>2.0</td>\n",
       "      <td>0.0</td>\n",
       "    </tr>\n",
       "    <tr>\n",
       "      <th>81</th>\n",
       "      <td>2.0</td>\n",
       "      <td>0.0</td>\n",
       "    </tr>\n",
       "    <tr>\n",
       "      <th>84</th>\n",
       "      <td>0.0</td>\n",
       "      <td>0.0</td>\n",
       "    </tr>\n",
       "  </tbody>\n",
       "</table>\n",
       "</div>"
      ],
      "text/plain": [
       "    prediction_binned  popularity_binned\n",
       "4                 0.0                0.0\n",
       "59                1.0                0.0\n",
       "75                2.0                0.0\n",
       "81                2.0                0.0\n",
       "84                0.0                0.0"
      ]
     },
     "execution_count": 102,
     "metadata": {},
     "output_type": "execute_result"
    }
   ],
   "source": [
    "df = pd.DataFrame(d_tree_predictions, columns = ['prediction_binned'])\n",
    "pred_actual = df.merge(right=y_test, left_index=True, right_index=True)\n",
    "pred_actual.head()"
   ]
  },
  {
   "cell_type": "code",
   "execution_count": 103,
   "metadata": {},
   "outputs": [
    {
     "data": {
      "image/png": "[encoded data removed]",
      "text/plain": [
       "<Figure size 640x480 with 1 Axes>"
      ]
     },
     "metadata": {},
     "output_type": "display_data"
    }
   ],
   "source": [
    "# Create histograms for each column\n",
    "plt.hist(pred_actual['prediction_binned'], align='left', bins=30, alpha=0.5, label='Prediction')\n",
    "plt.hist(pred_actual['popularity_binned'], align='right', bins=30, alpha=0.5, label='Real Value')\n",
    "\n",
    "# Add labels and title\n",
    "plt.xlabel('Value')\n",
    "plt.ylabel('Frequency')\n",
    "plt.title('Histogram for Two Columns')\n",
    "plt.legend()  # Show legend with labels\n",
    "\n",
    "# Display the plot\n",
    "plt.show()"
   ]
  },
  {
   "cell_type": "code",
   "execution_count": 104,
   "metadata": {},
   "outputs": [
    {
     "data": {
      "text/plain": [
       "array([[8174, 2552,  882],\n",
       "       [2597, 5615, 3356],\n",
       "       [ 916, 3391, 8142]])"
      ]
     },
     "execution_count": 104,
     "metadata": {},
     "output_type": "execute_result"
    }
   ],
   "source": [
    "confusion_matrix(y_test, d_tree_predictions)"
   ]
  },
  {
   "cell_type": "code",
   "execution_count": 105,
   "metadata": {},
   "outputs": [
    {
     "data": {
      "text/plain": [
       "0.6156070175438596"
      ]
     },
     "execution_count": 105,
     "metadata": {},
     "output_type": "execute_result"
    }
   ],
   "source": [
    "accuracy_score(y_test, d_tree_predictions)"
   ]
  },
  {
   "cell_type": "code",
   "execution_count": 106,
   "metadata": {},
   "outputs": [
    {
     "data": {
      "text/plain": [
       "0.6155321914518275"
      ]
     },
     "execution_count": 106,
     "metadata": {},
     "output_type": "execute_result"
    }
   ],
   "source": [
    "f1_score(y_test, d_tree_predictions, average='weighted')"
   ]
  },
  {
   "cell_type": "code",
   "execution_count": 107,
   "metadata": {},
   "outputs": [
    {
     "data": {
      "text/plain": [
       "0.6154662240433298"
      ]
     },
     "execution_count": 107,
     "metadata": {},
     "output_type": "execute_result"
    }
   ],
   "source": [
    "precision_score(y_test, d_tree_predictions, average='weighted')"
   ]
  },
  {
   "cell_type": "code",
   "execution_count": 108,
   "metadata": {},
   "outputs": [
    {
     "data": {
      "text/plain": [
       "0.6156070175438596"
      ]
     },
     "execution_count": 108,
     "metadata": {},
     "output_type": "execute_result"
    }
   ],
   "source": [
    "recall_score(y_test, d_tree_predictions, average='weighted')"
   ]
  },
  {
   "cell_type": "markdown",
   "metadata": {},
   "source": [
    "##### Árvores de Decisão com cross-validation"
   ]
  },
  {
   "cell_type": "code",
   "execution_count": 63,
   "metadata": {},
   "outputs": [],
   "source": [
    "cross_valid_model = LinearRegression()"
   ]
  },
  {
   "cell_type": "code",
   "execution_count": 64,
   "metadata": {},
   "outputs": [],
   "source": [
    "scores = cross_val_score(classifier, X_dt, y_dt, cv=5, scoring='accuracy')"
   ]
  },
  {
   "cell_type": "code",
   "execution_count": 66,
   "metadata": {},
   "outputs": [
    {
     "data": {
      "text/plain": [
       "0.5778646305225853"
      ]
     },
     "execution_count": 66,
     "metadata": {},
     "output_type": "execute_result"
    }
   ],
   "source": [
    "scores.mean()"
   ]
  },
  {
   "cell_type": "code",
   "execution_count": 67,
   "metadata": {},
   "outputs": [
    {
     "data": {
      "text/plain": [
       "0.0732470242083767"
      ]
     },
     "execution_count": 67,
     "metadata": {},
     "output_type": "execute_result"
    }
   ],
   "source": [
    "scores.std()"
   ]
  },
  {
   "cell_type": "markdown",
   "metadata": {},
   "source": [
    "Grid Search"
   ]
  },
  {
   "cell_type": "code",
   "execution_count": 109,
   "metadata": {},
   "outputs": [],
   "source": [
    "param_grid = {'criterion':['gini','entropy'],'max_depth':[4,5,6,7,8,9,10,11,12,15,20,30,40,50,70,90,120,150]}\n",
    "\n",
    "grid_clf_dtrees = GridSearchCV(classifier, param_grid, refit=True, verbose=3)"
   ]
  },
  {
   "cell_type": "code",
   "execution_count": 110,
   "metadata": {},
   "outputs": [
    {
     "name": "stdout",
     "output_type": "stream",
     "text": [
      "Fitting 5 folds for each of 36 candidates, totalling 180 fits\n",
      "[CV 1/5] END .......criterion=gini, max_depth=4;, score=0.798 total time=   0.4s\n",
      "[CV 2/5] END .......criterion=gini, max_depth=4;, score=0.567 total time=   0.4s\n",
      "[CV 3/5] END .......criterion=gini, max_depth=4;, score=0.417 total time=   0.4s\n",
      "[CV 4/5] END .......criterion=gini, max_depth=4;, score=0.689 total time=   0.4s\n",
      "[CV 5/5] END .......criterion=gini, max_depth=4;, score=0.850 total time=   0.4s\n",
      "[CV 1/5] END .......criterion=gini, max_depth=5;, score=0.797 total time=   0.5s\n",
      "[CV 2/5] END .......criterion=gini, max_depth=5;, score=0.570 total time=   0.5s\n",
      "[CV 3/5] END .......criterion=gini, max_depth=5;, score=0.417 total time=   0.5s\n",
      "[CV 4/5] END .......criterion=gini, max_depth=5;, score=0.629 total time=   0.5s\n",
      "[CV 5/5] END .......criterion=gini, max_depth=5;, score=0.830 total time=   0.5s\n",
      "[CV 1/5] END .......criterion=gini, max_depth=6;, score=0.784 total time=   0.6s\n",
      "[CV 2/5] END .......criterion=gini, max_depth=6;, score=0.545 total time=   0.6s\n",
      "[CV 3/5] END .......criterion=gini, max_depth=6;, score=0.419 total time=   0.6s\n",
      "[CV 4/5] END .......criterion=gini, max_depth=6;, score=0.682 total time=   0.6s\n",
      "[CV 5/5] END .......criterion=gini, max_depth=6;, score=0.825 total time=   0.6s\n",
      "[CV 1/5] END .......criterion=gini, max_depth=7;, score=0.784 total time=   0.7s\n",
      "[CV 2/5] END .......criterion=gini, max_depth=7;, score=0.562 total time=   0.7s\n",
      "[CV 3/5] END .......criterion=gini, max_depth=7;, score=0.432 total time=   0.7s\n",
      "[CV 4/5] END .......criterion=gini, max_depth=7;, score=0.632 total time=   0.7s\n",
      "[CV 5/5] END .......criterion=gini, max_depth=7;, score=0.817 total time=   0.7s\n",
      "[CV 1/5] END .......criterion=gini, max_depth=8;, score=0.788 total time=   0.8s\n",
      "[CV 2/5] END .......criterion=gini, max_depth=8;, score=0.555 total time=   0.8s\n",
      "[CV 3/5] END .......criterion=gini, max_depth=8;, score=0.431 total time=   0.8s\n",
      "[CV 4/5] END .......criterion=gini, max_depth=8;, score=0.661 total time=   0.8s\n",
      "[CV 5/5] END .......criterion=gini, max_depth=8;, score=0.823 total time=   0.8s\n",
      "[CV 1/5] END .......criterion=gini, max_depth=9;, score=0.779 total time=   0.9s\n",
      "[CV 2/5] END .......criterion=gini, max_depth=9;, score=0.554 total time=   0.9s\n",
      "[CV 3/5] END .......criterion=gini, max_depth=9;, score=0.431 total time=   0.9s\n",
      "[CV 4/5] END .......criterion=gini, max_depth=9;, score=0.647 total time=   0.9s\n",
      "[CV 5/5] END .......criterion=gini, max_depth=9;, score=0.810 total time=   0.9s\n",
      "[CV 1/5] END ......criterion=gini, max_depth=10;, score=0.770 total time=   1.0s\n",
      "[CV 2/5] END ......criterion=gini, max_depth=10;, score=0.551 total time=   1.0s\n",
      "[CV 3/5] END ......criterion=gini, max_depth=10;, score=0.432 total time=   1.0s\n",
      "[CV 4/5] END ......criterion=gini, max_depth=10;, score=0.650 total time=   1.0s\n",
      "[CV 5/5] END ......criterion=gini, max_depth=10;, score=0.802 total time=   1.0s\n",
      "[CV 1/5] END ......criterion=gini, max_depth=11;, score=0.761 total time=   1.1s\n",
      "[CV 2/5] END ......criterion=gini, max_depth=11;, score=0.558 total time=   1.1s\n",
      "[CV 3/5] END ......criterion=gini, max_depth=11;, score=0.430 total time=   1.1s\n",
      "[CV 4/5] END ......criterion=gini, max_depth=11;, score=0.639 total time=   1.1s\n",
      "[CV 5/5] END ......criterion=gini, max_depth=11;, score=0.796 total time=   1.1s\n",
      "[CV 1/5] END ......criterion=gini, max_depth=12;, score=0.749 total time=   1.2s\n",
      "[CV 2/5] END ......criterion=gini, max_depth=12;, score=0.559 total time=   1.2s\n",
      "[CV 3/5] END ......criterion=gini, max_depth=12;, score=0.434 total time=   1.2s\n",
      "[CV 4/5] END ......criterion=gini, max_depth=12;, score=0.654 total time=   1.2s\n",
      "[CV 5/5] END ......criterion=gini, max_depth=12;, score=0.788 total time=   1.2s\n",
      "[CV 1/5] END ......criterion=gini, max_depth=15;, score=0.721 total time=   1.5s\n",
      "[CV 2/5] END ......criterion=gini, max_depth=15;, score=0.551 total time=   1.5s\n",
      "[CV 3/5] END ......criterion=gini, max_depth=15;, score=0.441 total time=   1.5s\n",
      "[CV 4/5] END ......criterion=gini, max_depth=15;, score=0.628 total time=   1.5s\n",
      "[CV 5/5] END ......criterion=gini, max_depth=15;, score=0.753 total time=   1.5s\n",
      "[CV 1/5] END ......criterion=gini, max_depth=20;, score=0.679 total time=   1.9s\n",
      "[CV 2/5] END ......criterion=gini, max_depth=20;, score=0.541 total time=   1.8s\n",
      "[CV 3/5] END ......criterion=gini, max_depth=20;, score=0.445 total time=   1.7s\n",
      "[CV 4/5] END ......criterion=gini, max_depth=20;, score=0.601 total time=   1.8s\n",
      "[CV 5/5] END ......criterion=gini, max_depth=20;, score=0.697 total time=   1.9s\n",
      "[CV 1/5] END ......criterion=gini, max_depth=30;, score=0.644 total time=   2.1s\n",
      "[CV 2/5] END ......criterion=gini, max_depth=30;, score=0.538 total time=   2.0s\n",
      "[CV 3/5] END ......criterion=gini, max_depth=30;, score=0.457 total time=   2.0s\n",
      "[CV 4/5] END ......criterion=gini, max_depth=30;, score=0.592 total time=   2.0s\n",
      "[CV 5/5] END ......criterion=gini, max_depth=30;, score=0.662 total time=   2.0s\n",
      "[CV 1/5] END ......criterion=gini, max_depth=40;, score=0.642 total time=   2.2s\n",
      "[CV 2/5] END ......criterion=gini, max_depth=40;, score=0.537 total time=   2.1s\n",
      "[CV 3/5] END ......criterion=gini, max_depth=40;, score=0.456 total time=   2.0s\n",
      "[CV 4/5] END ......criterion=gini, max_depth=40;, score=0.594 total time=   2.0s\n",
      "[CV 5/5] END ......criterion=gini, max_depth=40;, score=0.658 total time=   2.1s\n",
      "[CV 1/5] END ......criterion=gini, max_depth=50;, score=0.642 total time=   2.2s\n",
      "[CV 2/5] END ......criterion=gini, max_depth=50;, score=0.537 total time=   2.3s\n",
      "[CV 3/5] END ......criterion=gini, max_depth=50;, score=0.458 total time=   2.0s\n",
      "[CV 4/5] END ......criterion=gini, max_depth=50;, score=0.593 total time=   2.1s\n",
      "[CV 5/5] END ......criterion=gini, max_depth=50;, score=0.658 total time=   2.1s\n",
      "[CV 1/5] END ......criterion=gini, max_depth=70;, score=0.642 total time=   2.1s\n",
      "[CV 2/5] END ......criterion=gini, max_depth=70;, score=0.537 total time=   2.1s\n",
      "[CV 3/5] END ......criterion=gini, max_depth=70;, score=0.458 total time=   1.9s\n",
      "[CV 4/5] END ......criterion=gini, max_depth=70;, score=0.594 total time=   2.1s\n",
      "[CV 5/5] END ......criterion=gini, max_depth=70;, score=0.658 total time=   2.0s\n",
      "[CV 1/5] END ......criterion=gini, max_depth=90;, score=0.642 total time=   2.1s\n",
      "[CV 2/5] END ......criterion=gini, max_depth=90;, score=0.537 total time=   2.0s\n",
      "[CV 3/5] END ......criterion=gini, max_depth=90;, score=0.458 total time=   2.0s\n",
      "[CV 4/5] END ......criterion=gini, max_depth=90;, score=0.594 total time=   2.0s\n",
      "[CV 5/5] END ......criterion=gini, max_depth=90;, score=0.658 total time=   2.1s\n",
      "[CV 1/5] END .....criterion=gini, max_depth=120;, score=0.642 total time=   2.1s\n",
      "[CV 2/5] END .....criterion=gini, max_depth=120;, score=0.537 total time=   2.0s\n",
      "[CV 3/5] END .....criterion=gini, max_depth=120;, score=0.458 total time=   2.0s\n",
      "[CV 4/5] END .....criterion=gini, max_depth=120;, score=0.594 total time=   2.0s\n",
      "[CV 5/5] END .....criterion=gini, max_depth=120;, score=0.658 total time=   2.1s\n",
      "[CV 1/5] END .....criterion=gini, max_depth=150;, score=0.642 total time=   2.1s\n",
      "[CV 2/5] END .....criterion=gini, max_depth=150;, score=0.537 total time=   2.1s\n",
      "[CV 3/5] END .....criterion=gini, max_depth=150;, score=0.458 total time=   2.0s\n",
      "[CV 4/5] END .....criterion=gini, max_depth=150;, score=0.594 total time=   2.0s\n",
      "[CV 5/5] END .....criterion=gini, max_depth=150;, score=0.658 total time=   2.1s\n",
      "[CV 1/5] END ....criterion=entropy, max_depth=4;, score=0.798 total time=   0.4s\n",
      "[CV 2/5] END ....criterion=entropy, max_depth=4;, score=0.584 total time=   0.4s\n",
      "[CV 3/5] END ....criterion=entropy, max_depth=4;, score=0.425 total time=   0.4s\n",
      "[CV 4/5] END ....criterion=entropy, max_depth=4;, score=0.710 total time=   0.4s\n",
      "[CV 5/5] END ....criterion=entropy, max_depth=4;, score=0.864 total time=   0.4s\n",
      "[CV 1/5] END ....criterion=entropy, max_depth=5;, score=0.798 total time=   0.6s\n",
      "[CV 2/5] END ....criterion=entropy, max_depth=5;, score=0.538 total time=   0.6s\n",
      "[CV 3/5] END ....criterion=entropy, max_depth=5;, score=0.418 total time=   0.5s\n",
      "[CV 4/5] END ....criterion=entropy, max_depth=5;, score=0.707 total time=   0.6s\n",
      "[CV 5/5] END ....criterion=entropy, max_depth=5;, score=0.845 total time=   0.6s\n",
      "[CV 1/5] END ....criterion=entropy, max_depth=6;, score=0.800 total time=   0.7s\n",
      "[CV 2/5] END ....criterion=entropy, max_depth=6;, score=0.553 total time=   0.7s\n",
      "[CV 3/5] END ....criterion=entropy, max_depth=6;, score=0.419 total time=   0.6s\n",
      "[CV 4/5] END ....criterion=entropy, max_depth=6;, score=0.682 total time=   0.7s\n",
      "[CV 5/5] END ....criterion=entropy, max_depth=6;, score=0.836 total time=   0.7s\n",
      "[CV 1/5] END ....criterion=entropy, max_depth=7;, score=0.778 total time=   0.8s\n",
      "[CV 2/5] END ....criterion=entropy, max_depth=7;, score=0.560 total time=   0.8s\n",
      "[CV 3/5] END ....criterion=entropy, max_depth=7;, score=0.421 total time=   0.8s\n",
      "[CV 4/5] END ....criterion=entropy, max_depth=7;, score=0.669 total time=   0.8s\n",
      "[CV 5/5] END ....criterion=entropy, max_depth=7;, score=0.830 total time=   0.8s\n",
      "[CV 1/5] END ....criterion=entropy, max_depth=8;, score=0.791 total time=   0.9s\n",
      "[CV 2/5] END ....criterion=entropy, max_depth=8;, score=0.552 total time=   0.9s\n",
      "[CV 3/5] END ....criterion=entropy, max_depth=8;, score=0.423 total time=   0.9s\n",
      "[CV 4/5] END ....criterion=entropy, max_depth=8;, score=0.618 total time=   0.9s\n",
      "[CV 5/5] END ....criterion=entropy, max_depth=8;, score=0.824 total time=   0.9s\n",
      "[CV 1/5] END ....criterion=entropy, max_depth=9;, score=0.783 total time=   1.0s\n",
      "[CV 2/5] END ....criterion=entropy, max_depth=9;, score=0.567 total time=   1.1s\n",
      "[CV 3/5] END ....criterion=entropy, max_depth=9;, score=0.425 total time=   1.1s\n",
      "[CV 4/5] END ....criterion=entropy, max_depth=9;, score=0.651 total time=   1.1s\n",
      "[CV 5/5] END ....criterion=entropy, max_depth=9;, score=0.820 total time=   1.1s\n",
      "[CV 1/5] END ...criterion=entropy, max_depth=10;, score=0.779 total time=   1.3s\n",
      "[CV 2/5] END ...criterion=entropy, max_depth=10;, score=0.559 total time=   1.2s\n",
      "[CV 3/5] END ...criterion=entropy, max_depth=10;, score=0.427 total time=   1.2s\n",
      "[CV 4/5] END ...criterion=entropy, max_depth=10;, score=0.666 total time=   1.2s\n",
      "[CV 5/5] END ...criterion=entropy, max_depth=10;, score=0.808 total time=   1.3s\n",
      "[CV 1/5] END ...criterion=entropy, max_depth=11;, score=0.775 total time=   1.3s\n",
      "[CV 2/5] END ...criterion=entropy, max_depth=11;, score=0.559 total time=   1.4s\n",
      "[CV 3/5] END ...criterion=entropy, max_depth=11;, score=0.426 total time=   1.3s\n",
      "[CV 4/5] END ...criterion=entropy, max_depth=11;, score=0.644 total time=   1.4s\n",
      "[CV 5/5] END ...criterion=entropy, max_depth=11;, score=0.796 total time=   1.5s\n",
      "[CV 1/5] END ...criterion=entropy, max_depth=12;, score=0.766 total time=   1.7s\n",
      "[CV 2/5] END ...criterion=entropy, max_depth=12;, score=0.554 total time=   1.7s\n",
      "[CV 3/5] END ...criterion=entropy, max_depth=12;, score=0.427 total time=   1.9s\n",
      "[CV 4/5] END ...criterion=entropy, max_depth=12;, score=0.639 total time=   1.8s\n",
      "[CV 5/5] END ...criterion=entropy, max_depth=12;, score=0.785 total time=   1.7s\n",
      "[CV 1/5] END ...criterion=entropy, max_depth=15;, score=0.735 total time=   2.0s\n",
      "[CV 2/5] END ...criterion=entropy, max_depth=15;, score=0.547 total time=   2.2s\n",
      "[CV 3/5] END ...criterion=entropy, max_depth=15;, score=0.434 total time=   1.7s\n",
      "[CV 4/5] END ...criterion=entropy, max_depth=15;, score=0.614 total time=   1.8s\n",
      "[CV 5/5] END ...criterion=entropy, max_depth=15;, score=0.758 total time=   2.1s\n",
      "[CV 1/5] END ...criterion=entropy, max_depth=20;, score=0.695 total time=   2.3s\n",
      "[CV 2/5] END ...criterion=entropy, max_depth=20;, score=0.541 total time=   2.3s\n",
      "[CV 3/5] END ...criterion=entropy, max_depth=20;, score=0.447 total time=   2.0s\n",
      "[CV 4/5] END ...criterion=entropy, max_depth=20;, score=0.610 total time=   2.4s\n",
      "[CV 5/5] END ...criterion=entropy, max_depth=20;, score=0.709 total time=   2.7s\n",
      "[CV 1/5] END ...criterion=entropy, max_depth=30;, score=0.655 total time=   2.6s\n",
      "[CV 2/5] END ...criterion=entropy, max_depth=30;, score=0.544 total time=   2.6s\n",
      "[CV 3/5] END ...criterion=entropy, max_depth=30;, score=0.458 total time=   2.5s\n",
      "[CV 4/5] END ...criterion=entropy, max_depth=30;, score=0.599 total time=   2.7s\n",
      "[CV 5/5] END ...criterion=entropy, max_depth=30;, score=0.667 total time=   2.7s\n",
      "[CV 1/5] END ...criterion=entropy, max_depth=40;, score=0.646 total time=   2.9s\n",
      "[CV 2/5] END ...criterion=entropy, max_depth=40;, score=0.545 total time=   3.1s\n",
      "[CV 3/5] END ...criterion=entropy, max_depth=40;, score=0.463 total time=   2.8s\n",
      "[CV 4/5] END ...criterion=entropy, max_depth=40;, score=0.597 total time=   3.0s\n",
      "[CV 5/5] END ...criterion=entropy, max_depth=40;, score=0.660 total time=   3.8s\n",
      "[CV 1/5] END ...criterion=entropy, max_depth=50;, score=0.648 total time=   3.3s\n",
      "[CV 2/5] END ...criterion=entropy, max_depth=50;, score=0.543 total time=   3.2s\n",
      "[CV 3/5] END ...criterion=entropy, max_depth=50;, score=0.463 total time=   2.7s\n",
      "[CV 4/5] END ...criterion=entropy, max_depth=50;, score=0.598 total time=   2.7s\n",
      "[CV 5/5] END ...criterion=entropy, max_depth=50;, score=0.657 total time=   4.3s\n",
      "[CV 1/5] END ...criterion=entropy, max_depth=70;, score=0.648 total time=   4.6s\n",
      "[CV 2/5] END ...criterion=entropy, max_depth=70;, score=0.543 total time=   4.2s\n",
      "[CV 3/5] END ...criterion=entropy, max_depth=70;, score=0.463 total time=   4.0s\n",
      "[CV 4/5] END ...criterion=entropy, max_depth=70;, score=0.598 total time=   4.4s\n",
      "[CV 5/5] END ...criterion=entropy, max_depth=70;, score=0.657 total time=   4.5s\n",
      "[CV 1/5] END ...criterion=entropy, max_depth=90;, score=0.648 total time=   4.5s\n",
      "[CV 2/5] END ...criterion=entropy, max_depth=90;, score=0.543 total time=   4.3s\n",
      "[CV 3/5] END ...criterion=entropy, max_depth=90;, score=0.463 total time=   3.9s\n",
      "[CV 4/5] END ...criterion=entropy, max_depth=90;, score=0.598 total time=   4.5s\n",
      "[CV 5/5] END ...criterion=entropy, max_depth=90;, score=0.657 total time=   4.5s\n",
      "[CV 1/5] END ..criterion=entropy, max_depth=120;, score=0.648 total time=   4.5s\n",
      "[CV 2/5] END ..criterion=entropy, max_depth=120;, score=0.543 total time=   4.2s\n",
      "[CV 3/5] END ..criterion=entropy, max_depth=120;, score=0.463 total time=   4.0s\n",
      "[CV 4/5] END ..criterion=entropy, max_depth=120;, score=0.598 total time=   4.3s\n",
      "[CV 5/5] END ..criterion=entropy, max_depth=120;, score=0.657 total time=   4.5s\n",
      "[CV 1/5] END ..criterion=entropy, max_depth=150;, score=0.648 total time=   4.5s\n",
      "[CV 2/5] END ..criterion=entropy, max_depth=150;, score=0.543 total time=   4.1s\n",
      "[CV 3/5] END ..criterion=entropy, max_depth=150;, score=0.463 total time=   3.8s\n",
      "[CV 4/5] END ..criterion=entropy, max_depth=150;, score=0.598 total time=   4.3s\n",
      "[CV 5/5] END ..criterion=entropy, max_depth=150;, score=0.657 total time=   4.4s\n"
     ]
    },
    {
     "data": {
      "text/html": [
       "<style>#sk-container-id-9 {color: black;}#sk-container-id-9 pre{padding: 0;}#sk-container-id-9 div.sk-toggleable {background-color: white;}#sk-container-id-9 label.sk-toggleable__label {cursor: pointer;display: block;width: 100%;margin-bottom: 0;padding: 0.3em;box-sizing: border-box;text-align: center;}#sk-container-id-9 label.sk-toggleable__label-arrow:before {content: \"▸\";float: left;margin-right: 0.25em;color: #696969;}#sk-container-id-9 label.sk-toggleable__label-arrow:hover:before {color: black;}#sk-container-id-9 div.sk-estimator:hover label.sk-toggleable__label-arrow:before {color: black;}#sk-container-id-9 div.sk-toggleable__content {max-height: 0;max-width: 0;overflow: hidden;text-align: left;background-color: #f0f8ff;}#sk-container-id-9 div.sk-toggleable__content pre {margin: 0.2em;color: black;border-radius: 0.25em;background-color: #f0f8ff;}#sk-container-id-9 input.sk-toggleable__control:checked~div.sk-toggleable__content {max-height: 200px;max-width: 100%;overflow: auto;}#sk-container-id-9 input.sk-toggleable__control:checked~label.sk-toggleable__label-arrow:before {content: \"▾\";}#sk-container-id-9 div.sk-estimator input.sk-toggleable__control:checked~label.sk-toggleable__label {background-color: #d4ebff;}#sk-container-id-9 div.sk-label input.sk-toggleable__control:checked~label.sk-toggleable__label {background-color: #d4ebff;}#sk-container-id-9 input.sk-hidden--visually {border: 0;clip: rect(1px 1px 1px 1px);clip: rect(1px, 1px, 1px, 1px);height: 1px;margin: -1px;overflow: hidden;padding: 0;position: absolute;width: 1px;}#sk-container-id-9 div.sk-estimator {font-family: monospace;background-color: #f0f8ff;border: 1px dotted black;border-radius: 0.25em;box-sizing: border-box;margin-bottom: 0.5em;}#sk-container-id-9 div.sk-estimator:hover {background-color: #d4ebff;}#sk-container-id-9 div.sk-parallel-item::after {content: \"\";width: 100%;border-bottom: 1px solid gray;flex-grow: 1;}#sk-container-id-9 div.sk-label:hover label.sk-toggleable__label {background-color: #d4ebff;}#sk-container-id-9 div.sk-serial::before {content: \"\";position: absolute;border-left: 1px solid gray;box-sizing: border-box;top: 0;bottom: 0;left: 50%;z-index: 0;}#sk-container-id-9 div.sk-serial {display: flex;flex-direction: column;align-items: center;background-color: white;padding-right: 0.2em;padding-left: 0.2em;position: relative;}#sk-container-id-9 div.sk-item {position: relative;z-index: 1;}#sk-container-id-9 div.sk-parallel {display: flex;align-items: stretch;justify-content: center;background-color: white;position: relative;}#sk-container-id-9 div.sk-item::before, #sk-container-id-9 div.sk-parallel-item::before {content: \"\";position: absolute;border-left: 1px solid gray;box-sizing: border-box;top: 0;bottom: 0;left: 50%;z-index: -1;}#sk-container-id-9 div.sk-parallel-item {display: flex;flex-direction: column;z-index: 1;position: relative;background-color: white;}#sk-container-id-9 div.sk-parallel-item:first-child::after {align-self: flex-end;width: 50%;}#sk-container-id-9 div.sk-parallel-item:last-child::after {align-self: flex-start;width: 50%;}#sk-container-id-9 div.sk-parallel-item:only-child::after {width: 0;}#sk-container-id-9 div.sk-dashed-wrapped {border: 1px dashed gray;margin: 0 0.4em 0.5em 0.4em;box-sizing: border-box;padding-bottom: 0.4em;background-color: white;}#sk-container-id-9 div.sk-label label {font-family: monospace;font-weight: bold;display: inline-block;line-height: 1.2em;}#sk-container-id-9 div.sk-label-container {text-align: center;}#sk-container-id-9 div.sk-container {/* jupyter's `normalize.less` sets `[hidden] { display: none; }` but bootstrap.min.css set `[hidden] { display: none !important; }` so we also need the `!important` here to be able to override the default hidden behavior on the sphinx rendered scikit-learn.org. See: https://github.com/scikit-learn/scikit-learn/issues/21755 */display: inline-block !important;position: relative;}#sk-container-id-9 div.sk-text-repr-fallback {display: none;}</style><div id=\"sk-container-id-9\" class=\"sk-top-container\"><div class=\"sk-text-repr-fallback\"><pre>GridSearchCV(estimator=DecisionTreeClassifier(criterion=&#x27;entropy&#x27;,\n",
       "                                              random_state=2023),\n",
       "             param_grid={&#x27;criterion&#x27;: [&#x27;gini&#x27;, &#x27;entropy&#x27;],\n",
       "                         &#x27;max_depth&#x27;: [4, 5, 6, 7, 8, 9, 10, 11, 12, 15, 20, 30,\n",
       "                                       40, 50, 70, 90, 120, 150]},\n",
       "             verbose=3)</pre><b>In a Jupyter environment, please rerun this cell to show the HTML representation or trust the notebook. <br />On GitHub, the HTML representation is unable to render, please try loading this page with nbviewer.org.</b></div><div class=\"sk-container\" hidden><div class=\"sk-item sk-dashed-wrapped\"><div class=\"sk-label-container\"><div class=\"sk-label sk-toggleable\"><input class=\"sk-toggleable__control sk-hidden--visually\" id=\"sk-estimator-id-13\" type=\"checkbox\" ><label for=\"sk-estimator-id-13\" class=\"sk-toggleable__label sk-toggleable__label-arrow\">GridSearchCV</label><div class=\"sk-toggleable__content\"><pre>GridSearchCV(estimator=DecisionTreeClassifier(criterion=&#x27;entropy&#x27;,\n",
       "                                              random_state=2023),\n",
       "             param_grid={&#x27;criterion&#x27;: [&#x27;gini&#x27;, &#x27;entropy&#x27;],\n",
       "                         &#x27;max_depth&#x27;: [4, 5, 6, 7, 8, 9, 10, 11, 12, 15, 20, 30,\n",
       "                                       40, 50, 70, 90, 120, 150]},\n",
       "             verbose=3)</pre></div></div></div><div class=\"sk-parallel\"><div class=\"sk-parallel-item\"><div class=\"sk-item\"><div class=\"sk-label-container\"><div class=\"sk-label sk-toggleable\"><input class=\"sk-toggleable__control sk-hidden--visually\" id=\"sk-estimator-id-14\" type=\"checkbox\" ><label for=\"sk-estimator-id-14\" class=\"sk-toggleable__label sk-toggleable__label-arrow\">estimator: DecisionTreeClassifier</label><div class=\"sk-toggleable__content\"><pre>DecisionTreeClassifier(criterion=&#x27;entropy&#x27;, random_state=2023)</pre></div></div></div><div class=\"sk-serial\"><div class=\"sk-item\"><div class=\"sk-estimator sk-toggleable\"><input class=\"sk-toggleable__control sk-hidden--visually\" id=\"sk-estimator-id-15\" type=\"checkbox\" ><label for=\"sk-estimator-id-15\" class=\"sk-toggleable__label sk-toggleable__label-arrow\">DecisionTreeClassifier</label><div class=\"sk-toggleable__content\"><pre>DecisionTreeClassifier(criterion=&#x27;entropy&#x27;, random_state=2023)</pre></div></div></div></div></div></div></div></div></div></div>"
      ],
      "text/plain": [
       "GridSearchCV(estimator=DecisionTreeClassifier(criterion='entropy',\n",
       "                                              random_state=2023),\n",
       "             param_grid={'criterion': ['gini', 'entropy'],\n",
       "                         'max_depth': [4, 5, 6, 7, 8, 9, 10, 11, 12, 15, 20, 30,\n",
       "                                       40, 50, 70, 90, 120, 150]},\n",
       "             verbose=3)"
      ]
     },
     "execution_count": 110,
     "metadata": {},
     "output_type": "execute_result"
    }
   ],
   "source": [
    "grid_clf_dtrees.fit(X_dt, y_dt)"
   ]
  },
  {
   "cell_type": "code",
   "execution_count": 112,
   "metadata": {},
   "outputs": [
    {
     "data": {
      "text/plain": [
       "{'criterion': 'entropy', 'max_depth': 4}"
      ]
     },
     "execution_count": 112,
     "metadata": {},
     "output_type": "execute_result"
    }
   ],
   "source": [
    "grid_clf_dtrees.best_params_"
   ]
  },
  {
   "cell_type": "code",
   "execution_count": 113,
   "metadata": {},
   "outputs": [
    {
     "data": {
      "text/html": [
       "<style>#sk-container-id-10 {color: black;}#sk-container-id-10 pre{padding: 0;}#sk-container-id-10 div.sk-toggleable {background-color: white;}#sk-container-id-10 label.sk-toggleable__label {cursor: pointer;display: block;width: 100%;margin-bottom: 0;padding: 0.3em;box-sizing: border-box;text-align: center;}#sk-container-id-10 label.sk-toggleable__label-arrow:before {content: \"▸\";float: left;margin-right: 0.25em;color: #696969;}#sk-container-id-10 label.sk-toggleable__label-arrow:hover:before {color: black;}#sk-container-id-10 div.sk-estimator:hover label.sk-toggleable__label-arrow:before {color: black;}#sk-container-id-10 div.sk-toggleable__content {max-height: 0;max-width: 0;overflow: hidden;text-align: left;background-color: #f0f8ff;}#sk-container-id-10 div.sk-toggleable__content pre {margin: 0.2em;color: black;border-radius: 0.25em;background-color: #f0f8ff;}#sk-container-id-10 input.sk-toggleable__control:checked~div.sk-toggleable__content {max-height: 200px;max-width: 100%;overflow: auto;}#sk-container-id-10 input.sk-toggleable__control:checked~label.sk-toggleable__label-arrow:before {content: \"▾\";}#sk-container-id-10 div.sk-estimator input.sk-toggleable__control:checked~label.sk-toggleable__label {background-color: #d4ebff;}#sk-container-id-10 div.sk-label input.sk-toggleable__control:checked~label.sk-toggleable__label {background-color: #d4ebff;}#sk-container-id-10 input.sk-hidden--visually {border: 0;clip: rect(1px 1px 1px 1px);clip: rect(1px, 1px, 1px, 1px);height: 1px;margin: -1px;overflow: hidden;padding: 0;position: absolute;width: 1px;}#sk-container-id-10 div.sk-estimator {font-family: monospace;background-color: #f0f8ff;border: 1px dotted black;border-radius: 0.25em;box-sizing: border-box;margin-bottom: 0.5em;}#sk-container-id-10 div.sk-estimator:hover {background-color: #d4ebff;}#sk-container-id-10 div.sk-parallel-item::after {content: \"\";width: 100%;border-bottom: 1px solid gray;flex-grow: 1;}#sk-container-id-10 div.sk-label:hover label.sk-toggleable__label {background-color: #d4ebff;}#sk-container-id-10 div.sk-serial::before {content: \"\";position: absolute;border-left: 1px solid gray;box-sizing: border-box;top: 0;bottom: 0;left: 50%;z-index: 0;}#sk-container-id-10 div.sk-serial {display: flex;flex-direction: column;align-items: center;background-color: white;padding-right: 0.2em;padding-left: 0.2em;position: relative;}#sk-container-id-10 div.sk-item {position: relative;z-index: 1;}#sk-container-id-10 div.sk-parallel {display: flex;align-items: stretch;justify-content: center;background-color: white;position: relative;}#sk-container-id-10 div.sk-item::before, #sk-container-id-10 div.sk-parallel-item::before {content: \"\";position: absolute;border-left: 1px solid gray;box-sizing: border-box;top: 0;bottom: 0;left: 50%;z-index: -1;}#sk-container-id-10 div.sk-parallel-item {display: flex;flex-direction: column;z-index: 1;position: relative;background-color: white;}#sk-container-id-10 div.sk-parallel-item:first-child::after {align-self: flex-end;width: 50%;}#sk-container-id-10 div.sk-parallel-item:last-child::after {align-self: flex-start;width: 50%;}#sk-container-id-10 div.sk-parallel-item:only-child::after {width: 0;}#sk-container-id-10 div.sk-dashed-wrapped {border: 1px dashed gray;margin: 0 0.4em 0.5em 0.4em;box-sizing: border-box;padding-bottom: 0.4em;background-color: white;}#sk-container-id-10 div.sk-label label {font-family: monospace;font-weight: bold;display: inline-block;line-height: 1.2em;}#sk-container-id-10 div.sk-label-container {text-align: center;}#sk-container-id-10 div.sk-container {/* jupyter's `normalize.less` sets `[hidden] { display: none; }` but bootstrap.min.css set `[hidden] { display: none !important; }` so we also need the `!important` here to be able to override the default hidden behavior on the sphinx rendered scikit-learn.org. See: https://github.com/scikit-learn/scikit-learn/issues/21755 */display: inline-block !important;position: relative;}#sk-container-id-10 div.sk-text-repr-fallback {display: none;}</style><div id=\"sk-container-id-10\" class=\"sk-top-container\"><div class=\"sk-text-repr-fallback\"><pre>DecisionTreeClassifier(criterion=&#x27;entropy&#x27;, max_depth=4, random_state=2023)</pre><b>In a Jupyter environment, please rerun this cell to show the HTML representation or trust the notebook. <br />On GitHub, the HTML representation is unable to render, please try loading this page with nbviewer.org.</b></div><div class=\"sk-container\" hidden><div class=\"sk-item\"><div class=\"sk-estimator sk-toggleable\"><input class=\"sk-toggleable__control sk-hidden--visually\" id=\"sk-estimator-id-16\" type=\"checkbox\" checked><label for=\"sk-estimator-id-16\" class=\"sk-toggleable__label sk-toggleable__label-arrow\">DecisionTreeClassifier</label><div class=\"sk-toggleable__content\"><pre>DecisionTreeClassifier(criterion=&#x27;entropy&#x27;, max_depth=4, random_state=2023)</pre></div></div></div></div></div>"
      ],
      "text/plain": [
       "DecisionTreeClassifier(criterion='entropy', max_depth=4, random_state=2023)"
      ]
     },
     "execution_count": 113,
     "metadata": {},
     "output_type": "execute_result"
    }
   ],
   "source": [
    "grid_clf_dtrees.best_estimator_"
   ]
  },
  {
   "cell_type": "code",
   "execution_count": 114,
   "metadata": {},
   "outputs": [
    {
     "name": "stdout",
     "output_type": "stream",
     "text": [
      "              precision    recall  f1-score   support\n",
      "\n",
      "         0.0       0.81      0.72      0.76     11608\n",
      "         1.0       0.54      0.72      0.61     11568\n",
      "         2.0       0.81      0.65      0.72     12449\n",
      "\n",
      "    accuracy                           0.69     35625\n",
      "   macro avg       0.72      0.69      0.70     35625\n",
      "weighted avg       0.72      0.69      0.70     35625\n",
      "\n"
     ]
    }
   ],
   "source": [
    "grid_dtrees_predictions = grid_clf_dtrees.predict(X_test)\n",
    "print(classification_report(y_test, grid_dtrees_predictions))"
   ]
  },
  {
   "cell_type": "code",
   "execution_count": 115,
   "metadata": {},
   "outputs": [
    {
     "data": {
      "text/plain": [
       "0.6935298245614036"
      ]
     },
     "execution_count": 115,
     "metadata": {},
     "output_type": "execute_result"
    }
   ],
   "source": [
    "accuracy_score(y_test, grid_dtrees_predictions)"
   ]
  },
  {
   "cell_type": "code",
   "execution_count": 116,
   "metadata": {},
   "outputs": [
    {
     "data": {
      "text/plain": [
       "0.7001395215510425"
      ]
     },
     "execution_count": 116,
     "metadata": {},
     "output_type": "execute_result"
    }
   ],
   "source": [
    "f1_score(y_test, grid_dtrees_predictions, average='weighted')"
   ]
  },
  {
   "cell_type": "code",
   "execution_count": 117,
   "metadata": {},
   "outputs": [
    {
     "data": {
      "text/plain": [
       "0.7233567434975023"
      ]
     },
     "execution_count": 117,
     "metadata": {},
     "output_type": "execute_result"
    }
   ],
   "source": [
    "precision_score(y_test, grid_dtrees_predictions, average='weighted')"
   ]
  },
  {
   "cell_type": "code",
   "execution_count": 118,
   "metadata": {},
   "outputs": [
    {
     "data": {
      "text/plain": [
       "0.6935298245614036"
      ]
     },
     "execution_count": 118,
     "metadata": {},
     "output_type": "execute_result"
    }
   ],
   "source": [
    "recall_score(y_test, grid_dtrees_predictions, average='weighted')"
   ]
  },
  {
   "cell_type": "markdown",
   "metadata": {},
   "source": [
    "### Logistic Regression"
   ]
  },
  {
   "cell_type": "code",
   "execution_count": 48,
   "metadata": {},
   "outputs": [],
   "source": [
    "from sklearn import linear_model"
   ]
  },
  {
   "cell_type": "code",
   "execution_count": 49,
   "metadata": {},
   "outputs": [],
   "source": [
    "log_reg = linear_model.LogisticRegression(solver = 'lbfgs', max_iter = 1000)"
   ]
  },
  {
   "cell_type": "code",
   "execution_count": 170,
   "metadata": {},
   "outputs": [
    {
     "name": "stderr",
     "output_type": "stream",
     "text": [
      "/home/miguel/miniconda3/envs/firstCondaEnv/lib/python3.10/site-packages/sklearn/utils/validation.py:1184: DataConversionWarning: A column-vector y was passed when a 1d array was expected. Please change the shape of y to (n_samples, ), for example using ravel().\n",
      "  y = column_or_1d(y, warn=True)\n"
     ]
    },
    {
     "data": {
      "text/html": [
       "<style>#sk-container-id-16 {color: black;}#sk-container-id-16 pre{padding: 0;}#sk-container-id-16 div.sk-toggleable {background-color: white;}#sk-container-id-16 label.sk-toggleable__label {cursor: pointer;display: block;width: 100%;margin-bottom: 0;padding: 0.3em;box-sizing: border-box;text-align: center;}#sk-container-id-16 label.sk-toggleable__label-arrow:before {content: \"▸\";float: left;margin-right: 0.25em;color: #696969;}#sk-container-id-16 label.sk-toggleable__label-arrow:hover:before {color: black;}#sk-container-id-16 div.sk-estimator:hover label.sk-toggleable__label-arrow:before {color: black;}#sk-container-id-16 div.sk-toggleable__content {max-height: 0;max-width: 0;overflow: hidden;text-align: left;background-color: #f0f8ff;}#sk-container-id-16 div.sk-toggleable__content pre {margin: 0.2em;color: black;border-radius: 0.25em;background-color: #f0f8ff;}#sk-container-id-16 input.sk-toggleable__control:checked~div.sk-toggleable__content {max-height: 200px;max-width: 100%;overflow: auto;}#sk-container-id-16 input.sk-toggleable__control:checked~label.sk-toggleable__label-arrow:before {content: \"▾\";}#sk-container-id-16 div.sk-estimator input.sk-toggleable__control:checked~label.sk-toggleable__label {background-color: #d4ebff;}#sk-container-id-16 div.sk-label input.sk-toggleable__control:checked~label.sk-toggleable__label {background-color: #d4ebff;}#sk-container-id-16 input.sk-hidden--visually {border: 0;clip: rect(1px 1px 1px 1px);clip: rect(1px, 1px, 1px, 1px);height: 1px;margin: -1px;overflow: hidden;padding: 0;position: absolute;width: 1px;}#sk-container-id-16 div.sk-estimator {font-family: monospace;background-color: #f0f8ff;border: 1px dotted black;border-radius: 0.25em;box-sizing: border-box;margin-bottom: 0.5em;}#sk-container-id-16 div.sk-estimator:hover {background-color: #d4ebff;}#sk-container-id-16 div.sk-parallel-item::after {content: \"\";width: 100%;border-bottom: 1px solid gray;flex-grow: 1;}#sk-container-id-16 div.sk-label:hover label.sk-toggleable__label {background-color: #d4ebff;}#sk-container-id-16 div.sk-serial::before {content: \"\";position: absolute;border-left: 1px solid gray;box-sizing: border-box;top: 0;bottom: 0;left: 50%;z-index: 0;}#sk-container-id-16 div.sk-serial {display: flex;flex-direction: column;align-items: center;background-color: white;padding-right: 0.2em;padding-left: 0.2em;position: relative;}#sk-container-id-16 div.sk-item {position: relative;z-index: 1;}#sk-container-id-16 div.sk-parallel {display: flex;align-items: stretch;justify-content: center;background-color: white;position: relative;}#sk-container-id-16 div.sk-item::before, #sk-container-id-16 div.sk-parallel-item::before {content: \"\";position: absolute;border-left: 1px solid gray;box-sizing: border-box;top: 0;bottom: 0;left: 50%;z-index: -1;}#sk-container-id-16 div.sk-parallel-item {display: flex;flex-direction: column;z-index: 1;position: relative;background-color: white;}#sk-container-id-16 div.sk-parallel-item:first-child::after {align-self: flex-end;width: 50%;}#sk-container-id-16 div.sk-parallel-item:last-child::after {align-self: flex-start;width: 50%;}#sk-container-id-16 div.sk-parallel-item:only-child::after {width: 0;}#sk-container-id-16 div.sk-dashed-wrapped {border: 1px dashed gray;margin: 0 0.4em 0.5em 0.4em;box-sizing: border-box;padding-bottom: 0.4em;background-color: white;}#sk-container-id-16 div.sk-label label {font-family: monospace;font-weight: bold;display: inline-block;line-height: 1.2em;}#sk-container-id-16 div.sk-label-container {text-align: center;}#sk-container-id-16 div.sk-container {/* jupyter's `normalize.less` sets `[hidden] { display: none; }` but bootstrap.min.css set `[hidden] { display: none !important; }` so we also need the `!important` here to be able to override the default hidden behavior on the sphinx rendered scikit-learn.org. See: https://github.com/scikit-learn/scikit-learn/issues/21755 */display: inline-block !important;position: relative;}#sk-container-id-16 div.sk-text-repr-fallback {display: none;}</style><div id=\"sk-container-id-16\" class=\"sk-top-container\"><div class=\"sk-text-repr-fallback\"><pre>LogisticRegression(max_iter=1000)</pre><b>In a Jupyter environment, please rerun this cell to show the HTML representation or trust the notebook. <br />On GitHub, the HTML representation is unable to render, please try loading this page with nbviewer.org.</b></div><div class=\"sk-container\" hidden><div class=\"sk-item\"><div class=\"sk-estimator sk-toggleable\"><input class=\"sk-toggleable__control sk-hidden--visually\" id=\"sk-estimator-id-16\" type=\"checkbox\" checked><label for=\"sk-estimator-id-16\" class=\"sk-toggleable__label sk-toggleable__label-arrow\">LogisticRegression</label><div class=\"sk-toggleable__content\"><pre>LogisticRegression(max_iter=1000)</pre></div></div></div></div></div>"
      ],
      "text/plain": [
       "LogisticRegression(max_iter=1000)"
      ]
     },
     "execution_count": 170,
     "metadata": {},
     "output_type": "execute_result"
    }
   ],
   "source": [
    "log_reg.fit(X_train, y_train)"
   ]
  },
  {
   "cell_type": "code",
   "execution_count": 172,
   "metadata": {},
   "outputs": [
    {
     "data": {
      "text/plain": [
       "array([1., 2., 2., ..., 2., 2., 2.])"
      ]
     },
     "execution_count": 172,
     "metadata": {},
     "output_type": "execute_result"
    }
   ],
   "source": [
    "lr_predictions = log_reg.predict(X_test)\n",
    "lr_predictions"
   ]
  },
  {
   "cell_type": "code",
   "execution_count": 173,
   "metadata": {},
   "outputs": [
    {
     "data": {
      "text/html": [
       "<div>\n",
       "<style scoped>\n",
       "    .dataframe tbody tr th:only-of-type {\n",
       "        vertical-align: middle;\n",
       "    }\n",
       "\n",
       "    .dataframe tbody tr th {\n",
       "        vertical-align: top;\n",
       "    }\n",
       "\n",
       "    .dataframe thead th {\n",
       "        text-align: right;\n",
       "    }\n",
       "</style>\n",
       "<table border=\"1\" class=\"dataframe\">\n",
       "  <thead>\n",
       "    <tr style=\"text-align: right;\">\n",
       "      <th></th>\n",
       "      <th>prediction_binned</th>\n",
       "      <th>popularity_binned</th>\n",
       "    </tr>\n",
       "  </thead>\n",
       "  <tbody>\n",
       "    <tr>\n",
       "      <th>4</th>\n",
       "      <td>1.0</td>\n",
       "      <td>0.0</td>\n",
       "    </tr>\n",
       "    <tr>\n",
       "      <th>59</th>\n",
       "      <td>2.0</td>\n",
       "      <td>0.0</td>\n",
       "    </tr>\n",
       "    <tr>\n",
       "      <th>75</th>\n",
       "      <td>2.0</td>\n",
       "      <td>0.0</td>\n",
       "    </tr>\n",
       "    <tr>\n",
       "      <th>81</th>\n",
       "      <td>2.0</td>\n",
       "      <td>0.0</td>\n",
       "    </tr>\n",
       "    <tr>\n",
       "      <th>84</th>\n",
       "      <td>2.0</td>\n",
       "      <td>0.0</td>\n",
       "    </tr>\n",
       "  </tbody>\n",
       "</table>\n",
       "</div>"
      ],
      "text/plain": [
       "    prediction_binned  popularity_binned\n",
       "4                 1.0                0.0\n",
       "59                2.0                0.0\n",
       "75                2.0                0.0\n",
       "81                2.0                0.0\n",
       "84                2.0                0.0"
      ]
     },
     "execution_count": 173,
     "metadata": {},
     "output_type": "execute_result"
    }
   ],
   "source": [
    "df = pd.DataFrame(lr_predictions, columns = ['prediction_binned'])\n",
    "pred_actual = df.merge(right=y_test, left_index=True, right_index=True)\n",
    "pred_actual.head()"
   ]
  },
  {
   "cell_type": "code",
   "execution_count": 174,
   "metadata": {},
   "outputs": [
    {
     "data": {
      "image/png": "[encoded data removed]",
      "text/plain": [
       "<Figure size 640x480 with 1 Axes>"
      ]
     },
     "metadata": {},
     "output_type": "display_data"
    }
   ],
   "source": [
    "# Create histograms for each column\n",
    "plt.hist(pred_actual['prediction_binned'], align='left', bins=30, alpha=0.5, label='Column 1')\n",
    "plt.hist(pred_actual['popularity_binned'], align='right', bins=30, alpha=0.5, label='Column 2')\n",
    "\n",
    "# Add labels and title\n",
    "plt.xlabel('Value')\n",
    "plt.ylabel('Frequency')\n",
    "plt.title('Histogram for Two Columns')\n",
    "plt.legend()  # Show legend with labels\n",
    "\n",
    "# Display the plot\n",
    "plt.show()"
   ]
  },
  {
   "cell_type": "code",
   "execution_count": 177,
   "metadata": {},
   "outputs": [
    {
     "data": {
      "text/plain": [
       "array([[ 1309,  1586,  8713],\n",
       "       [  651,  1715,  9202],\n",
       "       [  441,  1129, 10879]])"
      ]
     },
     "execution_count": 177,
     "metadata": {},
     "output_type": "execute_result"
    }
   ],
   "source": [
    "confusion_matrix(y_test, lr_predictions)"
   ]
  },
  {
   "cell_type": "code",
   "execution_count": 178,
   "metadata": {},
   "outputs": [
    {
     "data": {
      "text/plain": [
       "0.39025964912280703"
      ]
     },
     "execution_count": 178,
     "metadata": {},
     "output_type": "execute_result"
    }
   ],
   "source": [
    "accuracy_score(y_test, lr_predictions)"
   ]
  },
  {
   "cell_type": "code",
   "execution_count": 179,
   "metadata": {},
   "outputs": [
    {
     "data": {
      "text/plain": [
       "-1.046166336906495"
      ]
     },
     "execution_count": 179,
     "metadata": {},
     "output_type": "execute_result"
    }
   ],
   "source": [
    "r2_score(y_test, lr_predictions)"
   ]
  },
  {
   "cell_type": "code",
   "execution_count": 180,
   "metadata": {},
   "outputs": [
    {
     "data": {
      "text/plain": [
       "0.31486451930480275"
      ]
     },
     "execution_count": 180,
     "metadata": {},
     "output_type": "execute_result"
    }
   ],
   "source": [
    "f1_score(y_test, lr_predictions, average='weighted')"
   ]
  },
  {
   "cell_type": "code",
   "execution_count": 181,
   "metadata": {},
   "outputs": [
    {
     "data": {
      "text/plain": [
       "0.4353801998881727"
      ]
     },
     "execution_count": 181,
     "metadata": {},
     "output_type": "execute_result"
    }
   ],
   "source": [
    "precision_score(y_test, lr_predictions, average='weighted')"
   ]
  },
  {
   "cell_type": "code",
   "execution_count": 182,
   "metadata": {},
   "outputs": [
    {
     "data": {
      "text/plain": [
       "0.39025964912280703"
      ]
     },
     "execution_count": 182,
     "metadata": {},
     "output_type": "execute_result"
    }
   ],
   "source": [
    "recall_score(y_test, lr_predictions, average='weighted')"
   ]
  },
  {
   "cell_type": "markdown",
   "metadata": {},
   "source": [
    "Grid Search"
   ]
  },
  {
   "cell_type": "code",
   "execution_count": 50,
   "metadata": {},
   "outputs": [],
   "source": [
    "param_grid = {\"C\" : np.logspace(-3,3,7), \"penalty\" : [\"l1\",\"l2\"]}\n",
    "\n",
    "grid_clf_lr = GridSearchCV(log_reg, param_grid, refit=True, verbose=3)"
   ]
  },
  {
   "cell_type": "code",
   "execution_count": 51,
   "metadata": {},
   "outputs": [
    {
     "name": "stdout",
     "output_type": "stream",
     "text": [
      "Fitting 5 folds for each of 14 candidates, totalling 70 fits\n",
      "[CV 1/5] END .................C=0.001, penalty=l1;, score=nan total time=   0.0s\n",
      "[CV 2/5] END .................C=0.001, penalty=l1;, score=nan total time=   0.0s\n",
      "[CV 3/5] END .................C=0.001, penalty=l1;, score=nan total time=   0.0s\n",
      "[CV 4/5] END .................C=0.001, penalty=l1;, score=nan total time=   0.0s\n",
      "[CV 5/5] END .................C=0.001, penalty=l1;, score=nan total time=   0.0s\n"
     ]
    },
    {
     "name": "stderr",
     "output_type": "stream",
     "text": [
      "/home/miguel/miniconda3/envs/firstCondaEnv/lib/python3.10/site-packages/sklearn/utils/validation.py:1184: DataConversionWarning: A column-vector y was passed when a 1d array was expected. Please change the shape of y to (n_samples, ), for example using ravel().\n",
      "  y = column_or_1d(y, warn=True)\n"
     ]
    },
    {
     "name": "stdout",
     "output_type": "stream",
     "text": [
      "[CV 1/5] END ...............C=0.001, penalty=l2;, score=0.374 total time=   1.1s\n"
     ]
    },
    {
     "name": "stderr",
     "output_type": "stream",
     "text": [
      "/home/miguel/miniconda3/envs/firstCondaEnv/lib/python3.10/site-packages/sklearn/utils/validation.py:1184: DataConversionWarning: A column-vector y was passed when a 1d array was expected. Please change the shape of y to (n_samples, ), for example using ravel().\n",
      "  y = column_or_1d(y, warn=True)\n"
     ]
    },
    {
     "name": "stdout",
     "output_type": "stream",
     "text": [
      "[CV 2/5] END ...............C=0.001, penalty=l2;, score=0.374 total time=   1.1s\n"
     ]
    },
    {
     "name": "stderr",
     "output_type": "stream",
     "text": [
      "/home/miguel/miniconda3/envs/firstCondaEnv/lib/python3.10/site-packages/sklearn/utils/validation.py:1184: DataConversionWarning: A column-vector y was passed when a 1d array was expected. Please change the shape of y to (n_samples, ), for example using ravel().\n",
      "  y = column_or_1d(y, warn=True)\n"
     ]
    },
    {
     "name": "stdout",
     "output_type": "stream",
     "text": [
      "[CV 3/5] END ...............C=0.001, penalty=l2;, score=0.388 total time=   1.5s\n"
     ]
    },
    {
     "name": "stderr",
     "output_type": "stream",
     "text": [
      "/home/miguel/miniconda3/envs/firstCondaEnv/lib/python3.10/site-packages/sklearn/utils/validation.py:1184: DataConversionWarning: A column-vector y was passed when a 1d array was expected. Please change the shape of y to (n_samples, ), for example using ravel().\n",
      "  y = column_or_1d(y, warn=True)\n"
     ]
    },
    {
     "name": "stdout",
     "output_type": "stream",
     "text": [
      "[CV 4/5] END ...............C=0.001, penalty=l2;, score=0.369 total time=   1.1s\n"
     ]
    },
    {
     "name": "stderr",
     "output_type": "stream",
     "text": [
      "/home/miguel/miniconda3/envs/firstCondaEnv/lib/python3.10/site-packages/sklearn/utils/validation.py:1184: DataConversionWarning: A column-vector y was passed when a 1d array was expected. Please change the shape of y to (n_samples, ), for example using ravel().\n",
      "  y = column_or_1d(y, warn=True)\n"
     ]
    },
    {
     "name": "stdout",
     "output_type": "stream",
     "text": [
      "[CV 5/5] END ...............C=0.001, penalty=l2;, score=0.369 total time=   1.2s\n",
      "[CV 1/5] END ..................C=0.01, penalty=l1;, score=nan total time=   0.0s\n",
      "[CV 2/5] END ..................C=0.01, penalty=l1;, score=nan total time=   0.0s\n",
      "[CV 3/5] END ..................C=0.01, penalty=l1;, score=nan total time=   0.0s\n",
      "[CV 4/5] END ..................C=0.01, penalty=l1;, score=nan total time=   0.0s\n",
      "[CV 5/5] END ..................C=0.01, penalty=l1;, score=nan total time=   0.0s\n"
     ]
    },
    {
     "name": "stderr",
     "output_type": "stream",
     "text": [
      "/home/miguel/miniconda3/envs/firstCondaEnv/lib/python3.10/site-packages/sklearn/utils/validation.py:1184: DataConversionWarning: A column-vector y was passed when a 1d array was expected. Please change the shape of y to (n_samples, ), for example using ravel().\n",
      "  y = column_or_1d(y, warn=True)\n"
     ]
    },
    {
     "name": "stdout",
     "output_type": "stream",
     "text": [
      "[CV 1/5] END ................C=0.01, penalty=l2;, score=0.374 total time=   0.9s\n"
     ]
    },
    {
     "name": "stderr",
     "output_type": "stream",
     "text": [
      "/home/miguel/miniconda3/envs/firstCondaEnv/lib/python3.10/site-packages/sklearn/utils/validation.py:1184: DataConversionWarning: A column-vector y was passed when a 1d array was expected. Please change the shape of y to (n_samples, ), for example using ravel().\n",
      "  y = column_or_1d(y, warn=True)\n"
     ]
    },
    {
     "name": "stdout",
     "output_type": "stream",
     "text": [
      "[CV 2/5] END ................C=0.01, penalty=l2;, score=0.374 total time=   1.0s\n"
     ]
    },
    {
     "name": "stderr",
     "output_type": "stream",
     "text": [
      "/home/miguel/miniconda3/envs/firstCondaEnv/lib/python3.10/site-packages/sklearn/utils/validation.py:1184: DataConversionWarning: A column-vector y was passed when a 1d array was expected. Please change the shape of y to (n_samples, ), for example using ravel().\n",
      "  y = column_or_1d(y, warn=True)\n"
     ]
    },
    {
     "name": "stdout",
     "output_type": "stream",
     "text": [
      "[CV 3/5] END ................C=0.01, penalty=l2;, score=0.388 total time=   2.0s\n"
     ]
    },
    {
     "name": "stderr",
     "output_type": "stream",
     "text": [
      "/home/miguel/miniconda3/envs/firstCondaEnv/lib/python3.10/site-packages/sklearn/utils/validation.py:1184: DataConversionWarning: A column-vector y was passed when a 1d array was expected. Please change the shape of y to (n_samples, ), for example using ravel().\n",
      "  y = column_or_1d(y, warn=True)\n"
     ]
    },
    {
     "name": "stdout",
     "output_type": "stream",
     "text": [
      "[CV 4/5] END ................C=0.01, penalty=l2;, score=0.369 total time=   1.2s\n"
     ]
    },
    {
     "name": "stderr",
     "output_type": "stream",
     "text": [
      "/home/miguel/miniconda3/envs/firstCondaEnv/lib/python3.10/site-packages/sklearn/utils/validation.py:1184: DataConversionWarning: A column-vector y was passed when a 1d array was expected. Please change the shape of y to (n_samples, ), for example using ravel().\n",
      "  y = column_or_1d(y, warn=True)\n"
     ]
    },
    {
     "name": "stdout",
     "output_type": "stream",
     "text": [
      "[CV 5/5] END ................C=0.01, penalty=l2;, score=0.369 total time=   1.0s\n",
      "[CV 1/5] END ...................C=0.1, penalty=l1;, score=nan total time=   0.0s\n",
      "[CV 2/5] END ...................C=0.1, penalty=l1;, score=nan total time=   0.0s\n",
      "[CV 3/5] END ...................C=0.1, penalty=l1;, score=nan total time=   0.0s\n",
      "[CV 4/5] END ...................C=0.1, penalty=l1;, score=nan total time=   0.0s\n",
      "[CV 5/5] END ...................C=0.1, penalty=l1;, score=nan total time=   0.0s\n"
     ]
    },
    {
     "name": "stderr",
     "output_type": "stream",
     "text": [
      "/home/miguel/miniconda3/envs/firstCondaEnv/lib/python3.10/site-packages/sklearn/utils/validation.py:1184: DataConversionWarning: A column-vector y was passed when a 1d array was expected. Please change the shape of y to (n_samples, ), for example using ravel().\n",
      "  y = column_or_1d(y, warn=True)\n"
     ]
    },
    {
     "name": "stdout",
     "output_type": "stream",
     "text": [
      "[CV 1/5] END .................C=0.1, penalty=l2;, score=0.374 total time=   0.9s\n"
     ]
    },
    {
     "name": "stderr",
     "output_type": "stream",
     "text": [
      "/home/miguel/miniconda3/envs/firstCondaEnv/lib/python3.10/site-packages/sklearn/utils/validation.py:1184: DataConversionWarning: A column-vector y was passed when a 1d array was expected. Please change the shape of y to (n_samples, ), for example using ravel().\n",
      "  y = column_or_1d(y, warn=True)\n"
     ]
    },
    {
     "name": "stdout",
     "output_type": "stream",
     "text": [
      "[CV 2/5] END .................C=0.1, penalty=l2;, score=0.374 total time=   1.1s\n"
     ]
    },
    {
     "name": "stderr",
     "output_type": "stream",
     "text": [
      "/home/miguel/miniconda3/envs/firstCondaEnv/lib/python3.10/site-packages/sklearn/utils/validation.py:1184: DataConversionWarning: A column-vector y was passed when a 1d array was expected. Please change the shape of y to (n_samples, ), for example using ravel().\n",
      "  y = column_or_1d(y, warn=True)\n"
     ]
    },
    {
     "name": "stdout",
     "output_type": "stream",
     "text": [
      "[CV 3/5] END .................C=0.1, penalty=l2;, score=0.388 total time=   1.7s\n"
     ]
    },
    {
     "name": "stderr",
     "output_type": "stream",
     "text": [
      "/home/miguel/miniconda3/envs/firstCondaEnv/lib/python3.10/site-packages/sklearn/utils/validation.py:1184: DataConversionWarning: A column-vector y was passed when a 1d array was expected. Please change the shape of y to (n_samples, ), for example using ravel().\n",
      "  y = column_or_1d(y, warn=True)\n"
     ]
    },
    {
     "name": "stdout",
     "output_type": "stream",
     "text": [
      "[CV 4/5] END .................C=0.1, penalty=l2;, score=0.369 total time=   1.1s\n"
     ]
    },
    {
     "name": "stderr",
     "output_type": "stream",
     "text": [
      "/home/miguel/miniconda3/envs/firstCondaEnv/lib/python3.10/site-packages/sklearn/utils/validation.py:1184: DataConversionWarning: A column-vector y was passed when a 1d array was expected. Please change the shape of y to (n_samples, ), for example using ravel().\n",
      "  y = column_or_1d(y, warn=True)\n"
     ]
    },
    {
     "name": "stdout",
     "output_type": "stream",
     "text": [
      "[CV 5/5] END .................C=0.1, penalty=l2;, score=0.369 total time=   1.1s\n",
      "[CV 1/5] END ...................C=1.0, penalty=l1;, score=nan total time=   0.0s\n",
      "[CV 2/5] END ...................C=1.0, penalty=l1;, score=nan total time=   0.0s\n",
      "[CV 3/5] END ...................C=1.0, penalty=l1;, score=nan total time=   0.0s\n",
      "[CV 4/5] END ...................C=1.0, penalty=l1;, score=nan total time=   0.0s\n",
      "[CV 5/5] END ...................C=1.0, penalty=l1;, score=nan total time=   0.0s\n"
     ]
    },
    {
     "name": "stderr",
     "output_type": "stream",
     "text": [
      "/home/miguel/miniconda3/envs/firstCondaEnv/lib/python3.10/site-packages/sklearn/utils/validation.py:1184: DataConversionWarning: A column-vector y was passed when a 1d array was expected. Please change the shape of y to (n_samples, ), for example using ravel().\n",
      "  y = column_or_1d(y, warn=True)\n"
     ]
    },
    {
     "name": "stdout",
     "output_type": "stream",
     "text": [
      "[CV 1/5] END .................C=1.0, penalty=l2;, score=0.374 total time=   1.0s\n"
     ]
    },
    {
     "name": "stderr",
     "output_type": "stream",
     "text": [
      "/home/miguel/miniconda3/envs/firstCondaEnv/lib/python3.10/site-packages/sklearn/utils/validation.py:1184: DataConversionWarning: A column-vector y was passed when a 1d array was expected. Please change the shape of y to (n_samples, ), for example using ravel().\n",
      "  y = column_or_1d(y, warn=True)\n"
     ]
    },
    {
     "name": "stdout",
     "output_type": "stream",
     "text": [
      "[CV 2/5] END .................C=1.0, penalty=l2;, score=0.374 total time=   1.0s\n"
     ]
    },
    {
     "name": "stderr",
     "output_type": "stream",
     "text": [
      "/home/miguel/miniconda3/envs/firstCondaEnv/lib/python3.10/site-packages/sklearn/utils/validation.py:1184: DataConversionWarning: A column-vector y was passed when a 1d array was expected. Please change the shape of y to (n_samples, ), for example using ravel().\n",
      "  y = column_or_1d(y, warn=True)\n"
     ]
    },
    {
     "name": "stdout",
     "output_type": "stream",
     "text": [
      "[CV 3/5] END .................C=1.0, penalty=l2;, score=0.388 total time=   2.2s\n"
     ]
    },
    {
     "name": "stderr",
     "output_type": "stream",
     "text": [
      "/home/miguel/miniconda3/envs/firstCondaEnv/lib/python3.10/site-packages/sklearn/utils/validation.py:1184: DataConversionWarning: A column-vector y was passed when a 1d array was expected. Please change the shape of y to (n_samples, ), for example using ravel().\n",
      "  y = column_or_1d(y, warn=True)\n"
     ]
    },
    {
     "name": "stdout",
     "output_type": "stream",
     "text": [
      "[CV 4/5] END .................C=1.0, penalty=l2;, score=0.369 total time=   1.5s\n"
     ]
    },
    {
     "name": "stderr",
     "output_type": "stream",
     "text": [
      "/home/miguel/miniconda3/envs/firstCondaEnv/lib/python3.10/site-packages/sklearn/utils/validation.py:1184: DataConversionWarning: A column-vector y was passed when a 1d array was expected. Please change the shape of y to (n_samples, ), for example using ravel().\n",
      "  y = column_or_1d(y, warn=True)\n"
     ]
    },
    {
     "name": "stdout",
     "output_type": "stream",
     "text": [
      "[CV 5/5] END .................C=1.0, penalty=l2;, score=0.369 total time=   1.2s\n",
      "[CV 1/5] END ..................C=10.0, penalty=l1;, score=nan total time=   0.0s\n",
      "[CV 2/5] END ..................C=10.0, penalty=l1;, score=nan total time=   0.0s\n",
      "[CV 3/5] END ..................C=10.0, penalty=l1;, score=nan total time=   0.0s\n",
      "[CV 4/5] END ..................C=10.0, penalty=l1;, score=nan total time=   0.0s\n",
      "[CV 5/5] END ..................C=10.0, penalty=l1;, score=nan total time=   0.0s\n"
     ]
    },
    {
     "name": "stderr",
     "output_type": "stream",
     "text": [
      "/home/miguel/miniconda3/envs/firstCondaEnv/lib/python3.10/site-packages/sklearn/utils/validation.py:1184: DataConversionWarning: A column-vector y was passed when a 1d array was expected. Please change the shape of y to (n_samples, ), for example using ravel().\n",
      "  y = column_or_1d(y, warn=True)\n"
     ]
    },
    {
     "name": "stdout",
     "output_type": "stream",
     "text": [
      "[CV 1/5] END ................C=10.0, penalty=l2;, score=0.374 total time=   1.2s\n"
     ]
    },
    {
     "name": "stderr",
     "output_type": "stream",
     "text": [
      "/home/miguel/miniconda3/envs/firstCondaEnv/lib/python3.10/site-packages/sklearn/utils/validation.py:1184: DataConversionWarning: A column-vector y was passed when a 1d array was expected. Please change the shape of y to (n_samples, ), for example using ravel().\n",
      "  y = column_or_1d(y, warn=True)\n"
     ]
    },
    {
     "name": "stdout",
     "output_type": "stream",
     "text": [
      "[CV 2/5] END ................C=10.0, penalty=l2;, score=0.374 total time=   1.3s\n"
     ]
    },
    {
     "name": "stderr",
     "output_type": "stream",
     "text": [
      "/home/miguel/miniconda3/envs/firstCondaEnv/lib/python3.10/site-packages/sklearn/utils/validation.py:1184: DataConversionWarning: A column-vector y was passed when a 1d array was expected. Please change the shape of y to (n_samples, ), for example using ravel().\n",
      "  y = column_or_1d(y, warn=True)\n"
     ]
    },
    {
     "name": "stdout",
     "output_type": "stream",
     "text": [
      "[CV 3/5] END ................C=10.0, penalty=l2;, score=0.388 total time=   2.3s\n"
     ]
    },
    {
     "name": "stderr",
     "output_type": "stream",
     "text": [
      "/home/miguel/miniconda3/envs/firstCondaEnv/lib/python3.10/site-packages/sklearn/utils/validation.py:1184: DataConversionWarning: A column-vector y was passed when a 1d array was expected. Please change the shape of y to (n_samples, ), for example using ravel().\n",
      "  y = column_or_1d(y, warn=True)\n"
     ]
    },
    {
     "name": "stdout",
     "output_type": "stream",
     "text": [
      "[CV 4/5] END ................C=10.0, penalty=l2;, score=0.369 total time=   1.5s\n"
     ]
    },
    {
     "name": "stderr",
     "output_type": "stream",
     "text": [
      "/home/miguel/miniconda3/envs/firstCondaEnv/lib/python3.10/site-packages/sklearn/utils/validation.py:1184: DataConversionWarning: A column-vector y was passed when a 1d array was expected. Please change the shape of y to (n_samples, ), for example using ravel().\n",
      "  y = column_or_1d(y, warn=True)\n"
     ]
    },
    {
     "name": "stdout",
     "output_type": "stream",
     "text": [
      "[CV 5/5] END ................C=10.0, penalty=l2;, score=0.369 total time=   1.3s\n",
      "[CV 1/5] END .................C=100.0, penalty=l1;, score=nan total time=   0.0s\n",
      "[CV 2/5] END .................C=100.0, penalty=l1;, score=nan total time=   0.0s\n",
      "[CV 3/5] END .................C=100.0, penalty=l1;, score=nan total time=   0.0s\n",
      "[CV 4/5] END .................C=100.0, penalty=l1;, score=nan total time=   0.0s\n",
      "[CV 5/5] END .................C=100.0, penalty=l1;, score=nan total time=   0.0s\n"
     ]
    },
    {
     "name": "stderr",
     "output_type": "stream",
     "text": [
      "/home/miguel/miniconda3/envs/firstCondaEnv/lib/python3.10/site-packages/sklearn/utils/validation.py:1184: DataConversionWarning: A column-vector y was passed when a 1d array was expected. Please change the shape of y to (n_samples, ), for example using ravel().\n",
      "  y = column_or_1d(y, warn=True)\n"
     ]
    },
    {
     "name": "stdout",
     "output_type": "stream",
     "text": [
      "[CV 1/5] END ...............C=100.0, penalty=l2;, score=0.374 total time=   1.1s\n"
     ]
    },
    {
     "name": "stderr",
     "output_type": "stream",
     "text": [
      "/home/miguel/miniconda3/envs/firstCondaEnv/lib/python3.10/site-packages/sklearn/utils/validation.py:1184: DataConversionWarning: A column-vector y was passed when a 1d array was expected. Please change the shape of y to (n_samples, ), for example using ravel().\n",
      "  y = column_or_1d(y, warn=True)\n"
     ]
    },
    {
     "name": "stdout",
     "output_type": "stream",
     "text": [
      "[CV 2/5] END ...............C=100.0, penalty=l2;, score=0.374 total time=   1.2s\n"
     ]
    },
    {
     "name": "stderr",
     "output_type": "stream",
     "text": [
      "/home/miguel/miniconda3/envs/firstCondaEnv/lib/python3.10/site-packages/sklearn/utils/validation.py:1184: DataConversionWarning: A column-vector y was passed when a 1d array was expected. Please change the shape of y to (n_samples, ), for example using ravel().\n",
      "  y = column_or_1d(y, warn=True)\n"
     ]
    },
    {
     "name": "stdout",
     "output_type": "stream",
     "text": [
      "[CV 3/5] END ...............C=100.0, penalty=l2;, score=0.388 total time=   2.3s\n"
     ]
    },
    {
     "name": "stderr",
     "output_type": "stream",
     "text": [
      "/home/miguel/miniconda3/envs/firstCondaEnv/lib/python3.10/site-packages/sklearn/utils/validation.py:1184: DataConversionWarning: A column-vector y was passed when a 1d array was expected. Please change the shape of y to (n_samples, ), for example using ravel().\n",
      "  y = column_or_1d(y, warn=True)\n"
     ]
    },
    {
     "name": "stdout",
     "output_type": "stream",
     "text": [
      "[CV 4/5] END ...............C=100.0, penalty=l2;, score=0.369 total time=   1.7s\n"
     ]
    },
    {
     "name": "stderr",
     "output_type": "stream",
     "text": [
      "/home/miguel/miniconda3/envs/firstCondaEnv/lib/python3.10/site-packages/sklearn/utils/validation.py:1184: DataConversionWarning: A column-vector y was passed when a 1d array was expected. Please change the shape of y to (n_samples, ), for example using ravel().\n",
      "  y = column_or_1d(y, warn=True)\n"
     ]
    },
    {
     "name": "stdout",
     "output_type": "stream",
     "text": [
      "[CV 5/5] END ...............C=100.0, penalty=l2;, score=0.369 total time=   1.3s\n",
      "[CV 1/5] END ................C=1000.0, penalty=l1;, score=nan total time=   0.0s\n",
      "[CV 2/5] END ................C=1000.0, penalty=l1;, score=nan total time=   0.0s\n",
      "[CV 3/5] END ................C=1000.0, penalty=l1;, score=nan total time=   0.0s\n",
      "[CV 4/5] END ................C=1000.0, penalty=l1;, score=nan total time=   0.0s\n",
      "[CV 5/5] END ................C=1000.0, penalty=l1;, score=nan total time=   0.0s\n"
     ]
    },
    {
     "name": "stderr",
     "output_type": "stream",
     "text": [
      "/home/miguel/miniconda3/envs/firstCondaEnv/lib/python3.10/site-packages/sklearn/utils/validation.py:1184: DataConversionWarning: A column-vector y was passed when a 1d array was expected. Please change the shape of y to (n_samples, ), for example using ravel().\n",
      "  y = column_or_1d(y, warn=True)\n"
     ]
    },
    {
     "name": "stdout",
     "output_type": "stream",
     "text": [
      "[CV 1/5] END ..............C=1000.0, penalty=l2;, score=0.374 total time=   1.0s\n"
     ]
    },
    {
     "name": "stderr",
     "output_type": "stream",
     "text": [
      "/home/miguel/miniconda3/envs/firstCondaEnv/lib/python3.10/site-packages/sklearn/utils/validation.py:1184: DataConversionWarning: A column-vector y was passed when a 1d array was expected. Please change the shape of y to (n_samples, ), for example using ravel().\n",
      "  y = column_or_1d(y, warn=True)\n"
     ]
    },
    {
     "name": "stdout",
     "output_type": "stream",
     "text": [
      "[CV 2/5] END ..............C=1000.0, penalty=l2;, score=0.374 total time=   1.5s\n"
     ]
    },
    {
     "name": "stderr",
     "output_type": "stream",
     "text": [
      "/home/miguel/miniconda3/envs/firstCondaEnv/lib/python3.10/site-packages/sklearn/utils/validation.py:1184: DataConversionWarning: A column-vector y was passed when a 1d array was expected. Please change the shape of y to (n_samples, ), for example using ravel().\n",
      "  y = column_or_1d(y, warn=True)\n"
     ]
    },
    {
     "name": "stdout",
     "output_type": "stream",
     "text": [
      "[CV 3/5] END ..............C=1000.0, penalty=l2;, score=0.388 total time=   2.2s\n"
     ]
    },
    {
     "name": "stderr",
     "output_type": "stream",
     "text": [
      "/home/miguel/miniconda3/envs/firstCondaEnv/lib/python3.10/site-packages/sklearn/utils/validation.py:1184: DataConversionWarning: A column-vector y was passed when a 1d array was expected. Please change the shape of y to (n_samples, ), for example using ravel().\n",
      "  y = column_or_1d(y, warn=True)\n"
     ]
    },
    {
     "name": "stdout",
     "output_type": "stream",
     "text": [
      "[CV 4/5] END ..............C=1000.0, penalty=l2;, score=0.369 total time=   1.3s\n"
     ]
    },
    {
     "name": "stderr",
     "output_type": "stream",
     "text": [
      "/home/miguel/miniconda3/envs/firstCondaEnv/lib/python3.10/site-packages/sklearn/utils/validation.py:1184: DataConversionWarning: A column-vector y was passed when a 1d array was expected. Please change the shape of y to (n_samples, ), for example using ravel().\n",
      "  y = column_or_1d(y, warn=True)\n"
     ]
    },
    {
     "name": "stdout",
     "output_type": "stream",
     "text": [
      "[CV 5/5] END ..............C=1000.0, penalty=l2;, score=0.369 total time=   1.5s\n"
     ]
    },
    {
     "name": "stderr",
     "output_type": "stream",
     "text": [
      "/home/miguel/miniconda3/envs/firstCondaEnv/lib/python3.10/site-packages/sklearn/model_selection/_validation.py:425: FitFailedWarning: \n",
      "35 fits failed out of a total of 70.\n",
      "The score on these train-test partitions for these parameters will be set to nan.\n",
      "If these failures are not expected, you can try to debug them by setting error_score='raise'.\n",
      "\n",
      "Below are more details about the failures:\n",
      "--------------------------------------------------------------------------------\n",
      "35 fits failed with the following error:\n",
      "Traceback (most recent call last):\n",
      "  File \"/home/miguel/miniconda3/envs/firstCondaEnv/lib/python3.10/site-packages/sklearn/model_selection/_validation.py\", line 732, in _fit_and_score\n",
      "    estimator.fit(X_train, y_train, **fit_params)\n",
      "  File \"/home/miguel/miniconda3/envs/firstCondaEnv/lib/python3.10/site-packages/sklearn/base.py\", line 1151, in wrapper\n",
      "    return fit_method(estimator, *args, **kwargs)\n",
      "  File \"/home/miguel/miniconda3/envs/firstCondaEnv/lib/python3.10/site-packages/sklearn/linear_model/_logistic.py\", line 1168, in fit\n",
      "    solver = _check_solver(self.solver, self.penalty, self.dual)\n",
      "  File \"/home/miguel/miniconda3/envs/firstCondaEnv/lib/python3.10/site-packages/sklearn/linear_model/_logistic.py\", line 56, in _check_solver\n",
      "    raise ValueError(\n",
      "ValueError: Solver lbfgs supports only 'l2' or 'none' penalties, got l1 penalty.\n",
      "\n",
      "  warnings.warn(some_fits_failed_message, FitFailedWarning)\n",
      "/home/miguel/miniconda3/envs/firstCondaEnv/lib/python3.10/site-packages/sklearn/model_selection/_search.py:976: UserWarning: One or more of the test scores are non-finite: [       nan 0.37501142        nan 0.37501142        nan 0.37501142\n",
      "        nan 0.37501142        nan 0.37501142        nan 0.37501142\n",
      "        nan 0.37501142]\n",
      "  warnings.warn(\n",
      "/home/miguel/miniconda3/envs/firstCondaEnv/lib/python3.10/site-packages/sklearn/utils/validation.py:1184: DataConversionWarning: A column-vector y was passed when a 1d array was expected. Please change the shape of y to (n_samples, ), for example using ravel().\n",
      "  y = column_or_1d(y, warn=True)\n"
     ]
    },
    {
     "data": {
      "text/html": [
       "<style>#sk-container-id-3 {color: black;}#sk-container-id-3 pre{padding: 0;}#sk-container-id-3 div.sk-toggleable {background-color: white;}#sk-container-id-3 label.sk-toggleable__label {cursor: pointer;display: block;width: 100%;margin-bottom: 0;padding: 0.3em;box-sizing: border-box;text-align: center;}#sk-container-id-3 label.sk-toggleable__label-arrow:before {content: \"▸\";float: left;margin-right: 0.25em;color: #696969;}#sk-container-id-3 label.sk-toggleable__label-arrow:hover:before {color: black;}#sk-container-id-3 div.sk-estimator:hover label.sk-toggleable__label-arrow:before {color: black;}#sk-container-id-3 div.sk-toggleable__content {max-height: 0;max-width: 0;overflow: hidden;text-align: left;background-color: #f0f8ff;}#sk-container-id-3 div.sk-toggleable__content pre {margin: 0.2em;color: black;border-radius: 0.25em;background-color: #f0f8ff;}#sk-container-id-3 input.sk-toggleable__control:checked~div.sk-toggleable__content {max-height: 200px;max-width: 100%;overflow: auto;}#sk-container-id-3 input.sk-toggleable__control:checked~label.sk-toggleable__label-arrow:before {content: \"▾\";}#sk-container-id-3 div.sk-estimator input.sk-toggleable__control:checked~label.sk-toggleable__label {background-color: #d4ebff;}#sk-container-id-3 div.sk-label input.sk-toggleable__control:checked~label.sk-toggleable__label {background-color: #d4ebff;}#sk-container-id-3 input.sk-hidden--visually {border: 0;clip: rect(1px 1px 1px 1px);clip: rect(1px, 1px, 1px, 1px);height: 1px;margin: -1px;overflow: hidden;padding: 0;position: absolute;width: 1px;}#sk-container-id-3 div.sk-estimator {font-family: monospace;background-color: #f0f8ff;border: 1px dotted black;border-radius: 0.25em;box-sizing: border-box;margin-bottom: 0.5em;}#sk-container-id-3 div.sk-estimator:hover {background-color: #d4ebff;}#sk-container-id-3 div.sk-parallel-item::after {content: \"\";width: 100%;border-bottom: 1px solid gray;flex-grow: 1;}#sk-container-id-3 div.sk-label:hover label.sk-toggleable__label {background-color: #d4ebff;}#sk-container-id-3 div.sk-serial::before {content: \"\";position: absolute;border-left: 1px solid gray;box-sizing: border-box;top: 0;bottom: 0;left: 50%;z-index: 0;}#sk-container-id-3 div.sk-serial {display: flex;flex-direction: column;align-items: center;background-color: white;padding-right: 0.2em;padding-left: 0.2em;position: relative;}#sk-container-id-3 div.sk-item {position: relative;z-index: 1;}#sk-container-id-3 div.sk-parallel {display: flex;align-items: stretch;justify-content: center;background-color: white;position: relative;}#sk-container-id-3 div.sk-item::before, #sk-container-id-3 div.sk-parallel-item::before {content: \"\";position: absolute;border-left: 1px solid gray;box-sizing: border-box;top: 0;bottom: 0;left: 50%;z-index: -1;}#sk-container-id-3 div.sk-parallel-item {display: flex;flex-direction: column;z-index: 1;position: relative;background-color: white;}#sk-container-id-3 div.sk-parallel-item:first-child::after {align-self: flex-end;width: 50%;}#sk-container-id-3 div.sk-parallel-item:last-child::after {align-self: flex-start;width: 50%;}#sk-container-id-3 div.sk-parallel-item:only-child::after {width: 0;}#sk-container-id-3 div.sk-dashed-wrapped {border: 1px dashed gray;margin: 0 0.4em 0.5em 0.4em;box-sizing: border-box;padding-bottom: 0.4em;background-color: white;}#sk-container-id-3 div.sk-label label {font-family: monospace;font-weight: bold;display: inline-block;line-height: 1.2em;}#sk-container-id-3 div.sk-label-container {text-align: center;}#sk-container-id-3 div.sk-container {/* jupyter's `normalize.less` sets `[hidden] { display: none; }` but bootstrap.min.css set `[hidden] { display: none !important; }` so we also need the `!important` here to be able to override the default hidden behavior on the sphinx rendered scikit-learn.org. See: https://github.com/scikit-learn/scikit-learn/issues/21755 */display: inline-block !important;position: relative;}#sk-container-id-3 div.sk-text-repr-fallback {display: none;}</style><div id=\"sk-container-id-3\" class=\"sk-top-container\"><div class=\"sk-text-repr-fallback\"><pre>GridSearchCV(estimator=LogisticRegression(max_iter=1000),\n",
       "             param_grid={&#x27;C&#x27;: array([1.e-03, 1.e-02, 1.e-01, 1.e+00, 1.e+01, 1.e+02, 1.e+03]),\n",
       "                         &#x27;penalty&#x27;: [&#x27;l1&#x27;, &#x27;l2&#x27;]},\n",
       "             verbose=3)</pre><b>In a Jupyter environment, please rerun this cell to show the HTML representation or trust the notebook. <br />On GitHub, the HTML representation is unable to render, please try loading this page with nbviewer.org.</b></div><div class=\"sk-container\" hidden><div class=\"sk-item sk-dashed-wrapped\"><div class=\"sk-label-container\"><div class=\"sk-label sk-toggleable\"><input class=\"sk-toggleable__control sk-hidden--visually\" id=\"sk-estimator-id-5\" type=\"checkbox\" ><label for=\"sk-estimator-id-5\" class=\"sk-toggleable__label sk-toggleable__label-arrow\">GridSearchCV</label><div class=\"sk-toggleable__content\"><pre>GridSearchCV(estimator=LogisticRegression(max_iter=1000),\n",
       "             param_grid={&#x27;C&#x27;: array([1.e-03, 1.e-02, 1.e-01, 1.e+00, 1.e+01, 1.e+02, 1.e+03]),\n",
       "                         &#x27;penalty&#x27;: [&#x27;l1&#x27;, &#x27;l2&#x27;]},\n",
       "             verbose=3)</pre></div></div></div><div class=\"sk-parallel\"><div class=\"sk-parallel-item\"><div class=\"sk-item\"><div class=\"sk-label-container\"><div class=\"sk-label sk-toggleable\"><input class=\"sk-toggleable__control sk-hidden--visually\" id=\"sk-estimator-id-6\" type=\"checkbox\" ><label for=\"sk-estimator-id-6\" class=\"sk-toggleable__label sk-toggleable__label-arrow\">estimator: LogisticRegression</label><div class=\"sk-toggleable__content\"><pre>LogisticRegression(max_iter=1000)</pre></div></div></div><div class=\"sk-serial\"><div class=\"sk-item\"><div class=\"sk-estimator sk-toggleable\"><input class=\"sk-toggleable__control sk-hidden--visually\" id=\"sk-estimator-id-7\" type=\"checkbox\" ><label for=\"sk-estimator-id-7\" class=\"sk-toggleable__label sk-toggleable__label-arrow\">LogisticRegression</label><div class=\"sk-toggleable__content\"><pre>LogisticRegression(max_iter=1000)</pre></div></div></div></div></div></div></div></div></div></div>"
      ],
      "text/plain": [
       "GridSearchCV(estimator=LogisticRegression(max_iter=1000),\n",
       "             param_grid={'C': array([1.e-03, 1.e-02, 1.e-01, 1.e+00, 1.e+01, 1.e+02, 1.e+03]),\n",
       "                         'penalty': ['l1', 'l2']},\n",
       "             verbose=3)"
      ]
     },
     "execution_count": 51,
     "metadata": {},
     "output_type": "execute_result"
    }
   ],
   "source": [
    "grid_clf_lr.fit(X_dt, y_dt)"
   ]
  },
  {
   "cell_type": "code",
   "execution_count": 52,
   "metadata": {},
   "outputs": [
    {
     "data": {
      "text/plain": [
       "{'C': 0.001, 'penalty': 'l2'}"
      ]
     },
     "execution_count": 52,
     "metadata": {},
     "output_type": "execute_result"
    }
   ],
   "source": [
    "grid_clf_lr.best_params_"
   ]
  },
  {
   "cell_type": "code",
   "execution_count": 54,
   "metadata": {},
   "outputs": [
    {
     "data": {
      "text/html": [
       "<style>#sk-container-id-5 {color: black;}#sk-container-id-5 pre{padding: 0;}#sk-container-id-5 div.sk-toggleable {background-color: white;}#sk-container-id-5 label.sk-toggleable__label {cursor: pointer;display: block;width: 100%;margin-bottom: 0;padding: 0.3em;box-sizing: border-box;text-align: center;}#sk-container-id-5 label.sk-toggleable__label-arrow:before {content: \"▸\";float: left;margin-right: 0.25em;color: #696969;}#sk-container-id-5 label.sk-toggleable__label-arrow:hover:before {color: black;}#sk-container-id-5 div.sk-estimator:hover label.sk-toggleable__label-arrow:before {color: black;}#sk-container-id-5 div.sk-toggleable__content {max-height: 0;max-width: 0;overflow: hidden;text-align: left;background-color: #f0f8ff;}#sk-container-id-5 div.sk-toggleable__content pre {margin: 0.2em;color: black;border-radius: 0.25em;background-color: #f0f8ff;}#sk-container-id-5 input.sk-toggleable__control:checked~div.sk-toggleable__content {max-height: 200px;max-width: 100%;overflow: auto;}#sk-container-id-5 input.sk-toggleable__control:checked~label.sk-toggleable__label-arrow:before {content: \"▾\";}#sk-container-id-5 div.sk-estimator input.sk-toggleable__control:checked~label.sk-toggleable__label {background-color: #d4ebff;}#sk-container-id-5 div.sk-label input.sk-toggleable__control:checked~label.sk-toggleable__label {background-color: #d4ebff;}#sk-container-id-5 input.sk-hidden--visually {border: 0;clip: rect(1px 1px 1px 1px);clip: rect(1px, 1px, 1px, 1px);height: 1px;margin: -1px;overflow: hidden;padding: 0;position: absolute;width: 1px;}#sk-container-id-5 div.sk-estimator {font-family: monospace;background-color: #f0f8ff;border: 1px dotted black;border-radius: 0.25em;box-sizing: border-box;margin-bottom: 0.5em;}#sk-container-id-5 div.sk-estimator:hover {background-color: #d4ebff;}#sk-container-id-5 div.sk-parallel-item::after {content: \"\";width: 100%;border-bottom: 1px solid gray;flex-grow: 1;}#sk-container-id-5 div.sk-label:hover label.sk-toggleable__label {background-color: #d4ebff;}#sk-container-id-5 div.sk-serial::before {content: \"\";position: absolute;border-left: 1px solid gray;box-sizing: border-box;top: 0;bottom: 0;left: 50%;z-index: 0;}#sk-container-id-5 div.sk-serial {display: flex;flex-direction: column;align-items: center;background-color: white;padding-right: 0.2em;padding-left: 0.2em;position: relative;}#sk-container-id-5 div.sk-item {position: relative;z-index: 1;}#sk-container-id-5 div.sk-parallel {display: flex;align-items: stretch;justify-content: center;background-color: white;position: relative;}#sk-container-id-5 div.sk-item::before, #sk-container-id-5 div.sk-parallel-item::before {content: \"\";position: absolute;border-left: 1px solid gray;box-sizing: border-box;top: 0;bottom: 0;left: 50%;z-index: -1;}#sk-container-id-5 div.sk-parallel-item {display: flex;flex-direction: column;z-index: 1;position: relative;background-color: white;}#sk-container-id-5 div.sk-parallel-item:first-child::after {align-self: flex-end;width: 50%;}#sk-container-id-5 div.sk-parallel-item:last-child::after {align-self: flex-start;width: 50%;}#sk-container-id-5 div.sk-parallel-item:only-child::after {width: 0;}#sk-container-id-5 div.sk-dashed-wrapped {border: 1px dashed gray;margin: 0 0.4em 0.5em 0.4em;box-sizing: border-box;padding-bottom: 0.4em;background-color: white;}#sk-container-id-5 div.sk-label label {font-family: monospace;font-weight: bold;display: inline-block;line-height: 1.2em;}#sk-container-id-5 div.sk-label-container {text-align: center;}#sk-container-id-5 div.sk-container {/* jupyter's `normalize.less` sets `[hidden] { display: none; }` but bootstrap.min.css set `[hidden] { display: none !important; }` so we also need the `!important` here to be able to override the default hidden behavior on the sphinx rendered scikit-learn.org. See: https://github.com/scikit-learn/scikit-learn/issues/21755 */display: inline-block !important;position: relative;}#sk-container-id-5 div.sk-text-repr-fallback {display: none;}</style><div id=\"sk-container-id-5\" class=\"sk-top-container\"><div class=\"sk-text-repr-fallback\"><pre>LogisticRegression(C=0.001, max_iter=1000)</pre><b>In a Jupyter environment, please rerun this cell to show the HTML representation or trust the notebook. <br />On GitHub, the HTML representation is unable to render, please try loading this page with nbviewer.org.</b></div><div class=\"sk-container\" hidden><div class=\"sk-item\"><div class=\"sk-estimator sk-toggleable\"><input class=\"sk-toggleable__control sk-hidden--visually\" id=\"sk-estimator-id-9\" type=\"checkbox\" checked><label for=\"sk-estimator-id-9\" class=\"sk-toggleable__label sk-toggleable__label-arrow\">LogisticRegression</label><div class=\"sk-toggleable__content\"><pre>LogisticRegression(C=0.001, max_iter=1000)</pre></div></div></div></div></div>"
      ],
      "text/plain": [
       "LogisticRegression(C=0.001, max_iter=1000)"
      ]
     },
     "execution_count": 54,
     "metadata": {},
     "output_type": "execute_result"
    }
   ],
   "source": [
    "grid_clf_lr.best_estimator_"
   ]
  },
  {
   "cell_type": "code",
   "execution_count": 55,
   "metadata": {},
   "outputs": [
    {
     "name": "stdout",
     "output_type": "stream",
     "text": [
      "              precision    recall  f1-score   support\n",
      "\n",
      "         0.0       0.59      0.03      0.05     11608\n",
      "         1.0       0.39      0.14      0.21     11568\n",
      "         2.0       0.37      0.91      0.52     12449\n",
      "\n",
      "    accuracy                           0.37     35625\n",
      "   macro avg       0.45      0.36      0.26     35625\n",
      "weighted avg       0.44      0.37      0.27     35625\n",
      "\n"
     ]
    }
   ],
   "source": [
    "grid_lr_predictions = grid_clf_lr.predict(X_test)\n",
    "print(classification_report(y_test, grid_lr_predictions))"
   ]
  },
  {
   "cell_type": "markdown",
   "metadata": {},
   "source": [
    "### Support Vector Machines"
   ]
  },
  {
   "cell_type": "code",
   "execution_count": 183,
   "metadata": {},
   "outputs": [],
   "source": [
    "from sklearn.svm import SVC\n",
    "from sklearn.metrics import classification_report"
   ]
  },
  {
   "cell_type": "code",
   "execution_count": 185,
   "metadata": {},
   "outputs": [],
   "source": [
    "svc_model = SVC(random_state=2023)"
   ]
  },
  {
   "cell_type": "code",
   "execution_count": 186,
   "metadata": {},
   "outputs": [
    {
     "name": "stderr",
     "output_type": "stream",
     "text": [
      "/home/miguel/miniconda3/envs/firstCondaEnv/lib/python3.10/site-packages/sklearn/utils/validation.py:1184: DataConversionWarning: A column-vector y was passed when a 1d array was expected. Please change the shape of y to (n_samples, ), for example using ravel().\n",
      "  y = column_or_1d(y, warn=True)\n"
     ]
    }
   ],
   "source": [
    "#svc_model.fit(X_train, y_train)"
   ]
  },
  {
   "cell_type": "code",
   "execution_count": 1,
   "metadata": {},
   "outputs": [],
   "source": [
    "#svc_predictions = svc_model.predict(X_test)"
   ]
  },
  {
   "cell_type": "code",
   "execution_count": null,
   "metadata": {},
   "outputs": [],
   "source": [
    "df = pd.DataFrame(lr_predictions, columns = ['prediction_binned'])\n",
    "pred_actual = df.merge(right=y_test, left_index=True, right_index=True)\n",
    "pred_actual.head()"
   ]
  },
  {
   "cell_type": "code",
   "execution_count": null,
   "metadata": {},
   "outputs": [],
   "source": [
    "# Create histograms for each column\n",
    "plt.hist(pred_actual['prediction_binned'], align='left', bins=30, alpha=0.5, label='Column 1')\n",
    "plt.hist(pred_actual['popularity_binned'], align='right', bins=30, alpha=0.5, label='Column 2')\n",
    "\n",
    "# Add labels and title\n",
    "plt.xlabel('Value')\n",
    "plt.ylabel('Frequency')\n",
    "plt.title('Histogram for Two Columns')\n",
    "plt.legend()  # Show legend with labels\n",
    "\n",
    "# Display the plot\n",
    "plt.show()"
   ]
  },
  {
   "cell_type": "code",
   "execution_count": null,
   "metadata": {},
   "outputs": [],
   "source": [
    "confusion_matrix(y_test, lr_predictions)"
   ]
  },
  {
   "cell_type": "code",
   "execution_count": null,
   "metadata": {},
   "outputs": [],
   "source": [
    "accuracy_score(y_test, lr_predictions)"
   ]
  },
  {
   "cell_type": "code",
   "execution_count": null,
   "metadata": {},
   "outputs": [],
   "source": [
    "r2_score(y_test, lr_predictions)"
   ]
  },
  {
   "cell_type": "code",
   "execution_count": null,
   "metadata": {},
   "outputs": [],
   "source": [
    "f1_score(y_test, lr_predictions, average='weighted')"
   ]
  },
  {
   "cell_type": "code",
   "execution_count": null,
   "metadata": {},
   "outputs": [],
   "source": [
    "precision_score(y_test, lr_predictions, average='weighted')"
   ]
  },
  {
   "cell_type": "code",
   "execution_count": null,
   "metadata": {},
   "outputs": [],
   "source": [
    "recall_score(y_test, lr_predictions, average='weighted')"
   ]
  },
  {
   "cell_type": "markdown",
   "metadata": {},
   "source": [
    "### Clustering"
   ]
  },
  {
   "cell_type": "code",
   "execution_count": 45,
   "metadata": {},
   "outputs": [],
   "source": [
    "from sklearn.cluster import KMeans\n",
    "from sklearn_extra.cluster import KMedoids"
   ]
  },
  {
   "cell_type": "code",
   "execution_count": 64,
   "metadata": {},
   "outputs": [],
   "source": [
    "selected_features_clustering = ['popularity']"
   ]
  },
  {
   "cell_type": "code",
   "execution_count": 81,
   "metadata": {},
   "outputs": [
    {
     "data": {
      "text/html": [
       "<div>\n",
       "<style scoped>\n",
       "    .dataframe tbody tr th:only-of-type {\n",
       "        vertical-align: middle;\n",
       "    }\n",
       "\n",
       "    .dataframe tbody tr th {\n",
       "        vertical-align: top;\n",
       "    }\n",
       "\n",
       "    .dataframe thead th {\n",
       "        text-align: right;\n",
       "    }\n",
       "</style>\n",
       "<table border=\"1\" class=\"dataframe\">\n",
       "  <thead>\n",
       "    <tr style=\"text-align: right;\">\n",
       "      <th></th>\n",
       "      <th>popularity</th>\n",
       "    </tr>\n",
       "  </thead>\n",
       "  <tbody>\n",
       "    <tr>\n",
       "      <th>4</th>\n",
       "      <td>1</td>\n",
       "    </tr>\n",
       "    <tr>\n",
       "      <th>11</th>\n",
       "      <td>1</td>\n",
       "    </tr>\n",
       "    <tr>\n",
       "      <th>40</th>\n",
       "      <td>1</td>\n",
       "    </tr>\n",
       "    <tr>\n",
       "      <th>42</th>\n",
       "      <td>2</td>\n",
       "    </tr>\n",
       "    <tr>\n",
       "      <th>47</th>\n",
       "      <td>2</td>\n",
       "    </tr>\n",
       "    <tr>\n",
       "      <th>...</th>\n",
       "      <td>...</td>\n",
       "    </tr>\n",
       "    <tr>\n",
       "      <th>169904</th>\n",
       "      <td>75</td>\n",
       "    </tr>\n",
       "    <tr>\n",
       "      <th>169905</th>\n",
       "      <td>64</td>\n",
       "    </tr>\n",
       "    <tr>\n",
       "      <th>169906</th>\n",
       "      <td>70</td>\n",
       "    </tr>\n",
       "    <tr>\n",
       "      <th>169907</th>\n",
       "      <td>70</td>\n",
       "    </tr>\n",
       "    <tr>\n",
       "      <th>169908</th>\n",
       "      <td>65</td>\n",
       "    </tr>\n",
       "  </tbody>\n",
       "</table>\n",
       "<p>142510 rows × 1 columns</p>\n",
       "</div>"
      ],
      "text/plain": [
       "        popularity\n",
       "4                1\n",
       "11               1\n",
       "40               1\n",
       "42               2\n",
       "47               2\n",
       "...            ...\n",
       "169904          75\n",
       "169905          64\n",
       "169906          70\n",
       "169907          70\n",
       "169908          65\n",
       "\n",
       "[142510 rows x 1 columns]"
      ]
     },
     "execution_count": 81,
     "metadata": {},
     "output_type": "execute_result"
    }
   ],
   "source": [
    "final_data = data.copy()\n",
    "final_data = final_data[selected_features_clustering]\n",
    "final_data"
   ]
  },
  {
   "cell_type": "markdown",
   "metadata": {},
   "source": [
    "#### KMeans"
   ]
  },
  {
   "cell_type": "code",
   "execution_count": 87,
   "metadata": {},
   "outputs": [
    {
     "data": {
      "text/html": [
       "<style>#sk-container-id-12 {color: black;}#sk-container-id-12 pre{padding: 0;}#sk-container-id-12 div.sk-toggleable {background-color: white;}#sk-container-id-12 label.sk-toggleable__label {cursor: pointer;display: block;width: 100%;margin-bottom: 0;padding: 0.3em;box-sizing: border-box;text-align: center;}#sk-container-id-12 label.sk-toggleable__label-arrow:before {content: \"▸\";float: left;margin-right: 0.25em;color: #696969;}#sk-container-id-12 label.sk-toggleable__label-arrow:hover:before {color: black;}#sk-container-id-12 div.sk-estimator:hover label.sk-toggleable__label-arrow:before {color: black;}#sk-container-id-12 div.sk-toggleable__content {max-height: 0;max-width: 0;overflow: hidden;text-align: left;background-color: #f0f8ff;}#sk-container-id-12 div.sk-toggleable__content pre {margin: 0.2em;color: black;border-radius: 0.25em;background-color: #f0f8ff;}#sk-container-id-12 input.sk-toggleable__control:checked~div.sk-toggleable__content {max-height: 200px;max-width: 100%;overflow: auto;}#sk-container-id-12 input.sk-toggleable__control:checked~label.sk-toggleable__label-arrow:before {content: \"▾\";}#sk-container-id-12 div.sk-estimator input.sk-toggleable__control:checked~label.sk-toggleable__label {background-color: #d4ebff;}#sk-container-id-12 div.sk-label input.sk-toggleable__control:checked~label.sk-toggleable__label {background-color: #d4ebff;}#sk-container-id-12 input.sk-hidden--visually {border: 0;clip: rect(1px 1px 1px 1px);clip: rect(1px, 1px, 1px, 1px);height: 1px;margin: -1px;overflow: hidden;padding: 0;position: absolute;width: 1px;}#sk-container-id-12 div.sk-estimator {font-family: monospace;background-color: #f0f8ff;border: 1px dotted black;border-radius: 0.25em;box-sizing: border-box;margin-bottom: 0.5em;}#sk-container-id-12 div.sk-estimator:hover {background-color: #d4ebff;}#sk-container-id-12 div.sk-parallel-item::after {content: \"\";width: 100%;border-bottom: 1px solid gray;flex-grow: 1;}#sk-container-id-12 div.sk-label:hover label.sk-toggleable__label {background-color: #d4ebff;}#sk-container-id-12 div.sk-serial::before {content: \"\";position: absolute;border-left: 1px solid gray;box-sizing: border-box;top: 0;bottom: 0;left: 50%;z-index: 0;}#sk-container-id-12 div.sk-serial {display: flex;flex-direction: column;align-items: center;background-color: white;padding-right: 0.2em;padding-left: 0.2em;position: relative;}#sk-container-id-12 div.sk-item {position: relative;z-index: 1;}#sk-container-id-12 div.sk-parallel {display: flex;align-items: stretch;justify-content: center;background-color: white;position: relative;}#sk-container-id-12 div.sk-item::before, #sk-container-id-12 div.sk-parallel-item::before {content: \"\";position: absolute;border-left: 1px solid gray;box-sizing: border-box;top: 0;bottom: 0;left: 50%;z-index: -1;}#sk-container-id-12 div.sk-parallel-item {display: flex;flex-direction: column;z-index: 1;position: relative;background-color: white;}#sk-container-id-12 div.sk-parallel-item:first-child::after {align-self: flex-end;width: 50%;}#sk-container-id-12 div.sk-parallel-item:last-child::after {align-self: flex-start;width: 50%;}#sk-container-id-12 div.sk-parallel-item:only-child::after {width: 0;}#sk-container-id-12 div.sk-dashed-wrapped {border: 1px dashed gray;margin: 0 0.4em 0.5em 0.4em;box-sizing: border-box;padding-bottom: 0.4em;background-color: white;}#sk-container-id-12 div.sk-label label {font-family: monospace;font-weight: bold;display: inline-block;line-height: 1.2em;}#sk-container-id-12 div.sk-label-container {text-align: center;}#sk-container-id-12 div.sk-container {/* jupyter's `normalize.less` sets `[hidden] { display: none; }` but bootstrap.min.css set `[hidden] { display: none !important; }` so we also need the `!important` here to be able to override the default hidden behavior on the sphinx rendered scikit-learn.org. See: https://github.com/scikit-learn/scikit-learn/issues/21755 */display: inline-block !important;position: relative;}#sk-container-id-12 div.sk-text-repr-fallback {display: none;}</style><div id=\"sk-container-id-12\" class=\"sk-top-container\"><div class=\"sk-text-repr-fallback\"><pre>KMeans(n_clusters=2, n_init=10, random_state=2023)</pre><b>In a Jupyter environment, please rerun this cell to show the HTML representation or trust the notebook. <br />On GitHub, the HTML representation is unable to render, please try loading this page with nbviewer.org.</b></div><div class=\"sk-container\" hidden><div class=\"sk-item\"><div class=\"sk-estimator sk-toggleable\"><input class=\"sk-toggleable__control sk-hidden--visually\" id=\"sk-estimator-id-12\" type=\"checkbox\" checked><label for=\"sk-estimator-id-12\" class=\"sk-toggleable__label sk-toggleable__label-arrow\">KMeans</label><div class=\"sk-toggleable__content\"><pre>KMeans(n_clusters=2, n_init=10, random_state=2023)</pre></div></div></div></div></div>"
      ],
      "text/plain": [
       "KMeans(n_clusters=2, n_init=10, random_state=2023)"
      ]
     },
     "execution_count": 87,
     "metadata": {},
     "output_type": "execute_result"
    }
   ],
   "source": [
    "\"\"\"\n",
    "n_clusters: The number of clusters to form as well as the number of centroids to generate.\n",
    "n_init: Number of times the k-means algorithm is run with different centroid seeds.\n",
    "\"\"\"\n",
    "kmeans = KMeans(n_clusters=2, n_init=10, random_state=2023)\n",
    "kmeans.fit(final_data)"
   ]
  },
  {
   "cell_type": "code",
   "execution_count": 88,
   "metadata": {},
   "outputs": [
    {
     "data": {
      "text/plain": [
       "array([0, 0, 0, ..., 1, 1, 1], dtype=int32)"
      ]
     },
     "execution_count": 88,
     "metadata": {},
     "output_type": "execute_result"
    }
   ],
   "source": [
    "kmeans.labels_"
   ]
  },
  {
   "cell_type": "code",
   "execution_count": 89,
   "metadata": {},
   "outputs": [
    {
     "data": {
      "text/html": [
       "<div>\n",
       "<style scoped>\n",
       "    .dataframe tbody tr th:only-of-type {\n",
       "        vertical-align: middle;\n",
       "    }\n",
       "\n",
       "    .dataframe tbody tr th {\n",
       "        vertical-align: top;\n",
       "    }\n",
       "\n",
       "    .dataframe thead th {\n",
       "        text-align: right;\n",
       "    }\n",
       "</style>\n",
       "<table border=\"1\" class=\"dataframe\">\n",
       "  <thead>\n",
       "    <tr style=\"text-align: right;\">\n",
       "      <th></th>\n",
       "      <th>popularity</th>\n",
       "      <th>label</th>\n",
       "    </tr>\n",
       "  </thead>\n",
       "  <tbody>\n",
       "    <tr>\n",
       "      <th>4</th>\n",
       "      <td>1</td>\n",
       "      <td>0</td>\n",
       "    </tr>\n",
       "    <tr>\n",
       "      <th>11</th>\n",
       "      <td>1</td>\n",
       "      <td>0</td>\n",
       "    </tr>\n",
       "    <tr>\n",
       "      <th>40</th>\n",
       "      <td>1</td>\n",
       "      <td>0</td>\n",
       "    </tr>\n",
       "    <tr>\n",
       "      <th>42</th>\n",
       "      <td>2</td>\n",
       "      <td>0</td>\n",
       "    </tr>\n",
       "    <tr>\n",
       "      <th>47</th>\n",
       "      <td>2</td>\n",
       "      <td>0</td>\n",
       "    </tr>\n",
       "    <tr>\n",
       "      <th>...</th>\n",
       "      <td>...</td>\n",
       "      <td>...</td>\n",
       "    </tr>\n",
       "    <tr>\n",
       "      <th>142505</th>\n",
       "      <td>49</td>\n",
       "      <td>1</td>\n",
       "    </tr>\n",
       "    <tr>\n",
       "      <th>142506</th>\n",
       "      <td>44</td>\n",
       "      <td>1</td>\n",
       "    </tr>\n",
       "    <tr>\n",
       "      <th>142507</th>\n",
       "      <td>48</td>\n",
       "      <td>1</td>\n",
       "    </tr>\n",
       "    <tr>\n",
       "      <th>142508</th>\n",
       "      <td>55</td>\n",
       "      <td>1</td>\n",
       "    </tr>\n",
       "    <tr>\n",
       "      <th>142509</th>\n",
       "      <td>43</td>\n",
       "      <td>1</td>\n",
       "    </tr>\n",
       "  </tbody>\n",
       "</table>\n",
       "<p>119936 rows × 2 columns</p>\n",
       "</div>"
      ],
      "text/plain": [
       "        popularity  label\n",
       "4                1      0\n",
       "11               1      0\n",
       "40               1      0\n",
       "42               2      0\n",
       "47               2      0\n",
       "...            ...    ...\n",
       "142505          49      1\n",
       "142506          44      1\n",
       "142507          48      1\n",
       "142508          55      1\n",
       "142509          43      1\n",
       "\n",
       "[119936 rows x 2 columns]"
      ]
     },
     "execution_count": 89,
     "metadata": {},
     "output_type": "execute_result"
    }
   ],
   "source": [
    "result = pd.merge(pd.DataFrame(final_data), pd.DataFrame(kmeans.labels_, columns=[\"label\"]), left_index=True, right_index=True)    \n",
    "#result = pd.merge(pd.DataFrame(X_test), pd.DataFrame(result), left_index=True, right_index=True)    \n",
    "result"
   ]
  },
  {
   "cell_type": "markdown",
   "metadata": {},
   "source": [
    "Verificar se existe correlação entre a label e a popularidade"
   ]
  },
  {
   "cell_type": "code",
   "execution_count": 90,
   "metadata": {},
   "outputs": [
    {
     "data": {
      "text/plain": [
       "<Axes: >"
      ]
     },
     "execution_count": 90,
     "metadata": {},
     "output_type": "execute_result"
    },
    {
     "data": {
      "image/png": "[encoded data removed]",
      "text/plain": [
       "<Figure size 1400x1200 with 2 Axes>"
      ]
     },
     "metadata": {},
     "output_type": "display_data"
    }
   ],
   "source": [
    "corr_matrix = result.corr(method='pearson', numeric_only=True)\n",
    "f, ax = plt.subplots(figsize=(14, 12))\n",
    "sns.heatmap(corr_matrix, vmin=-1, vmax=1, square=True, annot=True, cmap=sns.color_palette(\"RdBu_r\", 100))"
   ]
  },
  {
   "cell_type": "code",
   "execution_count": 92,
   "metadata": {},
   "outputs": [
    {
     "data": {
      "text/html": [
       "<div>\n",
       "<style scoped>\n",
       "    .dataframe tbody tr th:only-of-type {\n",
       "        vertical-align: middle;\n",
       "    }\n",
       "\n",
       "    .dataframe tbody tr th {\n",
       "        vertical-align: top;\n",
       "    }\n",
       "\n",
       "    .dataframe thead th {\n",
       "        text-align: right;\n",
       "    }\n",
       "</style>\n",
       "<table border=\"1\" class=\"dataframe\">\n",
       "  <thead>\n",
       "    <tr style=\"text-align: right;\">\n",
       "      <th></th>\n",
       "      <th>popularity</th>\n",
       "    </tr>\n",
       "    <tr>\n",
       "      <th>label</th>\n",
       "      <th></th>\n",
       "    </tr>\n",
       "  </thead>\n",
       "  <tbody>\n",
       "    <tr>\n",
       "      <th>0</th>\n",
       "      <td>36.515236</td>\n",
       "    </tr>\n",
       "    <tr>\n",
       "      <th>1</th>\n",
       "      <td>38.167224</td>\n",
       "    </tr>\n",
       "  </tbody>\n",
       "</table>\n",
       "</div>"
      ],
      "text/plain": [
       "       popularity\n",
       "label            \n",
       "0       36.515236\n",
       "1       38.167224"
      ]
     },
     "execution_count": 92,
     "metadata": {},
     "output_type": "execute_result"
    }
   ],
   "source": [
    "result.groupby(by=['label']).mean(numeric_only=True)"
   ]
  },
  {
   "cell_type": "markdown",
   "metadata": {},
   "source": [
    "#### KMedoids"
   ]
  },
  {
   "cell_type": "code",
   "execution_count": 93,
   "metadata": {},
   "outputs": [],
   "source": [
    "from sklearn_extra.cluster import KMedoids"
   ]
  },
  {
   "cell_type": "code",
   "execution_count": 104,
   "metadata": {},
   "outputs": [
    {
     "name": "stderr",
     "output_type": "stream",
     "text": [
      "/home/miguel/miniconda3/envs/firstCondaEnv/lib/python3.10/site-packages/sklearn_extra/cluster/_k_medoids.py:329: UserWarning: Cluster 1 is empty! self.labels_[self.medoid_indices_[1]] may not be labeled with its corresponding cluster (1).\n",
      "  warnings.warn(\n",
      "/home/miguel/miniconda3/envs/firstCondaEnv/lib/python3.10/site-packages/sklearn_extra/cluster/_k_medoids.py:329: UserWarning: Cluster 2 is empty! self.labels_[self.medoid_indices_[2]] may not be labeled with its corresponding cluster (2).\n",
      "  warnings.warn(\n"
     ]
    },
    {
     "data": {
      "text/html": [
       "<style>#sk-container-id-14 {color: black;}#sk-container-id-14 pre{padding: 0;}#sk-container-id-14 div.sk-toggleable {background-color: white;}#sk-container-id-14 label.sk-toggleable__label {cursor: pointer;display: block;width: 100%;margin-bottom: 0;padding: 0.3em;box-sizing: border-box;text-align: center;}#sk-container-id-14 label.sk-toggleable__label-arrow:before {content: \"▸\";float: left;margin-right: 0.25em;color: #696969;}#sk-container-id-14 label.sk-toggleable__label-arrow:hover:before {color: black;}#sk-container-id-14 div.sk-estimator:hover label.sk-toggleable__label-arrow:before {color: black;}#sk-container-id-14 div.sk-toggleable__content {max-height: 0;max-width: 0;overflow: hidden;text-align: left;background-color: #f0f8ff;}#sk-container-id-14 div.sk-toggleable__content pre {margin: 0.2em;color: black;border-radius: 0.25em;background-color: #f0f8ff;}#sk-container-id-14 input.sk-toggleable__control:checked~div.sk-toggleable__content {max-height: 200px;max-width: 100%;overflow: auto;}#sk-container-id-14 input.sk-toggleable__control:checked~label.sk-toggleable__label-arrow:before {content: \"▾\";}#sk-container-id-14 div.sk-estimator input.sk-toggleable__control:checked~label.sk-toggleable__label {background-color: #d4ebff;}#sk-container-id-14 div.sk-label input.sk-toggleable__control:checked~label.sk-toggleable__label {background-color: #d4ebff;}#sk-container-id-14 input.sk-hidden--visually {border: 0;clip: rect(1px 1px 1px 1px);clip: rect(1px, 1px, 1px, 1px);height: 1px;margin: -1px;overflow: hidden;padding: 0;position: absolute;width: 1px;}#sk-container-id-14 div.sk-estimator {font-family: monospace;background-color: #f0f8ff;border: 1px dotted black;border-radius: 0.25em;box-sizing: border-box;margin-bottom: 0.5em;}#sk-container-id-14 div.sk-estimator:hover {background-color: #d4ebff;}#sk-container-id-14 div.sk-parallel-item::after {content: \"\";width: 100%;border-bottom: 1px solid gray;flex-grow: 1;}#sk-container-id-14 div.sk-label:hover label.sk-toggleable__label {background-color: #d4ebff;}#sk-container-id-14 div.sk-serial::before {content: \"\";position: absolute;border-left: 1px solid gray;box-sizing: border-box;top: 0;bottom: 0;left: 50%;z-index: 0;}#sk-container-id-14 div.sk-serial {display: flex;flex-direction: column;align-items: center;background-color: white;padding-right: 0.2em;padding-left: 0.2em;position: relative;}#sk-container-id-14 div.sk-item {position: relative;z-index: 1;}#sk-container-id-14 div.sk-parallel {display: flex;align-items: stretch;justify-content: center;background-color: white;position: relative;}#sk-container-id-14 div.sk-item::before, #sk-container-id-14 div.sk-parallel-item::before {content: \"\";position: absolute;border-left: 1px solid gray;box-sizing: border-box;top: 0;bottom: 0;left: 50%;z-index: -1;}#sk-container-id-14 div.sk-parallel-item {display: flex;flex-direction: column;z-index: 1;position: relative;background-color: white;}#sk-container-id-14 div.sk-parallel-item:first-child::after {align-self: flex-end;width: 50%;}#sk-container-id-14 div.sk-parallel-item:last-child::after {align-self: flex-start;width: 50%;}#sk-container-id-14 div.sk-parallel-item:only-child::after {width: 0;}#sk-container-id-14 div.sk-dashed-wrapped {border: 1px dashed gray;margin: 0 0.4em 0.5em 0.4em;box-sizing: border-box;padding-bottom: 0.4em;background-color: white;}#sk-container-id-14 div.sk-label label {font-family: monospace;font-weight: bold;display: inline-block;line-height: 1.2em;}#sk-container-id-14 div.sk-label-container {text-align: center;}#sk-container-id-14 div.sk-container {/* jupyter's `normalize.less` sets `[hidden] { display: none; }` but bootstrap.min.css set `[hidden] { display: none !important; }` so we also need the `!important` here to be able to override the default hidden behavior on the sphinx rendered scikit-learn.org. See: https://github.com/scikit-learn/scikit-learn/issues/21755 */display: inline-block !important;position: relative;}#sk-container-id-14 div.sk-text-repr-fallback {display: none;}</style><div id=\"sk-container-id-14\" class=\"sk-top-container\"><div class=\"sk-text-repr-fallback\"><pre>KMedoids(n_clusters=3, random_state=2023)</pre><b>In a Jupyter environment, please rerun this cell to show the HTML representation or trust the notebook. <br />On GitHub, the HTML representation is unable to render, please try loading this page with nbviewer.org.</b></div><div class=\"sk-container\" hidden><div class=\"sk-item\"><div class=\"sk-estimator sk-toggleable\"><input class=\"sk-toggleable__control sk-hidden--visually\" id=\"sk-estimator-id-14\" type=\"checkbox\" checked><label for=\"sk-estimator-id-14\" class=\"sk-toggleable__label sk-toggleable__label-arrow\">KMedoids</label><div class=\"sk-toggleable__content\"><pre>KMedoids(n_clusters=3, random_state=2023)</pre></div></div></div></div></div>"
      ],
      "text/plain": [
       "KMedoids(n_clusters=3, random_state=2023)"
      ]
     },
     "execution_count": 104,
     "metadata": {},
     "output_type": "execute_result"
    }
   ],
   "source": [
    "kMedoids = KMedoids(n_clusters=3, random_state=2023)\n",
    "kMedoids.fit(final_data.sample(frac=0.1)) # Se usar os dados todos dá erro de memória"
   ]
  },
  {
   "cell_type": "code",
   "execution_count": 105,
   "metadata": {},
   "outputs": [
    {
     "data": {
      "text/plain": [
       "array([0, 0, 0, ..., 0, 0, 0])"
      ]
     },
     "execution_count": 105,
     "metadata": {},
     "output_type": "execute_result"
    }
   ],
   "source": [
    "kMedoids.labels_"
   ]
  },
  {
   "cell_type": "code",
   "execution_count": 106,
   "metadata": {},
   "outputs": [
    {
     "data": {
      "text/html": [
       "<div>\n",
       "<style scoped>\n",
       "    .dataframe tbody tr th:only-of-type {\n",
       "        vertical-align: middle;\n",
       "    }\n",
       "\n",
       "    .dataframe tbody tr th {\n",
       "        vertical-align: top;\n",
       "    }\n",
       "\n",
       "    .dataframe thead th {\n",
       "        text-align: right;\n",
       "    }\n",
       "</style>\n",
       "<table border=\"1\" class=\"dataframe\">\n",
       "  <thead>\n",
       "    <tr style=\"text-align: right;\">\n",
       "      <th></th>\n",
       "      <th>popularity</th>\n",
       "      <th>label</th>\n",
       "    </tr>\n",
       "  </thead>\n",
       "  <tbody>\n",
       "    <tr>\n",
       "      <th>4</th>\n",
       "      <td>1</td>\n",
       "      <td>0</td>\n",
       "    </tr>\n",
       "    <tr>\n",
       "      <th>11</th>\n",
       "      <td>1</td>\n",
       "      <td>0</td>\n",
       "    </tr>\n",
       "    <tr>\n",
       "      <th>40</th>\n",
       "      <td>1</td>\n",
       "      <td>0</td>\n",
       "    </tr>\n",
       "    <tr>\n",
       "      <th>42</th>\n",
       "      <td>2</td>\n",
       "      <td>0</td>\n",
       "    </tr>\n",
       "    <tr>\n",
       "      <th>47</th>\n",
       "      <td>2</td>\n",
       "      <td>0</td>\n",
       "    </tr>\n",
       "    <tr>\n",
       "      <th>...</th>\n",
       "      <td>...</td>\n",
       "      <td>...</td>\n",
       "    </tr>\n",
       "    <tr>\n",
       "      <th>14246</th>\n",
       "      <td>40</td>\n",
       "      <td>0</td>\n",
       "    </tr>\n",
       "    <tr>\n",
       "      <th>14247</th>\n",
       "      <td>48</td>\n",
       "      <td>0</td>\n",
       "    </tr>\n",
       "    <tr>\n",
       "      <th>14248</th>\n",
       "      <td>47</td>\n",
       "      <td>0</td>\n",
       "    </tr>\n",
       "    <tr>\n",
       "      <th>14249</th>\n",
       "      <td>46</td>\n",
       "      <td>0</td>\n",
       "    </tr>\n",
       "    <tr>\n",
       "      <th>14250</th>\n",
       "      <td>44</td>\n",
       "      <td>0</td>\n",
       "    </tr>\n",
       "  </tbody>\n",
       "</table>\n",
       "<p>11693 rows × 2 columns</p>\n",
       "</div>"
      ],
      "text/plain": [
       "       popularity  label\n",
       "4               1      0\n",
       "11              1      0\n",
       "40              1      0\n",
       "42              2      0\n",
       "47              2      0\n",
       "...           ...    ...\n",
       "14246          40      0\n",
       "14247          48      0\n",
       "14248          47      0\n",
       "14249          46      0\n",
       "14250          44      0\n",
       "\n",
       "[11693 rows x 2 columns]"
      ]
     },
     "execution_count": 106,
     "metadata": {},
     "output_type": "execute_result"
    }
   ],
   "source": [
    "result_kMedoids = pd.merge(pd.DataFrame(final_data), pd.DataFrame(kMedoids.labels_, columns=[\"label\"]), left_index=True, right_index=True)    \n",
    "#result = pd.merge(pd.DataFrame(X_test), pd.DataFrame(result), left_index=True, right_index=True)    \n",
    "result_kMedoids"
   ]
  },
  {
   "cell_type": "code",
   "execution_count": 107,
   "metadata": {},
   "outputs": [
    {
     "data": {
      "text/plain": [
       "<Axes: >"
      ]
     },
     "execution_count": 107,
     "metadata": {},
     "output_type": "execute_result"
    },
    {
     "data": {
      "image/png": "[encoded data removed]",
      "text/plain": [
       "<Figure size 1400x1200 with 2 Axes>"
      ]
     },
     "metadata": {},
     "output_type": "display_data"
    }
   ],
   "source": [
    "corr_matrix = result_kMedoids.corr(method='pearson', numeric_only=True)\n",
    "f, ax = plt.subplots(figsize=(14, 12))\n",
    "sns.heatmap(corr_matrix, vmin=-1, vmax=1, square=True, annot=True, cmap=sns.color_palette(\"RdBu_r\", 100))"
   ]
  },
  {
   "cell_type": "code",
   "execution_count": 103,
   "metadata": {},
   "outputs": [
    {
     "data": {
      "text/html": [
       "<div>\n",
       "<style scoped>\n",
       "    .dataframe tbody tr th:only-of-type {\n",
       "        vertical-align: middle;\n",
       "    }\n",
       "\n",
       "    .dataframe tbody tr th {\n",
       "        vertical-align: top;\n",
       "    }\n",
       "\n",
       "    .dataframe thead th {\n",
       "        text-align: right;\n",
       "    }\n",
       "</style>\n",
       "<table border=\"1\" class=\"dataframe\">\n",
       "  <thead>\n",
       "    <tr style=\"text-align: right;\">\n",
       "      <th></th>\n",
       "      <th>popularity</th>\n",
       "    </tr>\n",
       "    <tr>\n",
       "      <th>label</th>\n",
       "      <th></th>\n",
       "    </tr>\n",
       "  </thead>\n",
       "  <tbody>\n",
       "    <tr>\n",
       "      <th>0</th>\n",
       "      <td>32.494569</td>\n",
       "    </tr>\n",
       "  </tbody>\n",
       "</table>\n",
       "</div>"
      ],
      "text/plain": [
       "       popularity\n",
       "label            \n",
       "0       32.494569"
      ]
     },
     "execution_count": 103,
     "metadata": {},
     "output_type": "execute_result"
    }
   ],
   "source": [
    "result_kMedoids.groupby(by=['label']).mean(numeric_only=True)"
   ]
  }
 ],
 "metadata": {
  "kernelspec": {
   "display_name": "firstCondaEnv",
   "language": "python",
   "name": "python3"
  },
  "language_info": {
   "codemirror_mode": {
    "name": "ipython",
    "version": 3
   },
   "file_extension": ".py",
   "mimetype": "text/x-python",
   "name": "python",
   "nbconvert_exporter": "python",
   "pygments_lexer": "ipython3",
   "version": "3.10.0"
  },
  "orig_nbformat": 4
 },
 "nbformat": 4,
 "nbformat_minor": 2
}
