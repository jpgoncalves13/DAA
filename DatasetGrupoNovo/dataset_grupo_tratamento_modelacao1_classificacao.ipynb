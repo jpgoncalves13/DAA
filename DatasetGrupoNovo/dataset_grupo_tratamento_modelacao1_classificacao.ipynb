{
 "cells": [
  {
   "cell_type": "markdown",
   "metadata": {},
   "source": [
    "# Spotify 1 Million Tracks - Tratamento e Modelação"
   ]
  },
  {
   "cell_type": "markdown",
   "metadata": {},
   "source": [
    "### Importe das Bibliotecas"
   ]
  },
  {
   "cell_type": "code",
   "execution_count": 16,
   "metadata": {},
   "outputs": [],
   "source": [
    "import pandas as pd\n",
    "import numpy as np\n",
    "import matplotlib.pyplot as plt\n",
    "import seaborn as sns\n",
    "from xgboost import XGBRegressor\n",
    "from sklearn import preprocessing\n",
    "from sklearn.tree import DecisionTreeClassifier, DecisionTreeRegressor\n",
    "from sklearn.preprocessing import LabelEncoder, StandardScaler\n",
    "from sklearn.metrics import accuracy_score, precision_score, recall_score, roc_auc_score, roc_curve, r2_score, confusion_matrix,f1_score, classification_report\n",
    "from sklearn.linear_model import LinearRegression, TweedieRegressor\n",
    "from sklearn.ensemble import RandomForestRegressor\n",
    "from sklearn import metrics\n",
    "from sklearn.feature_selection import RFE\n",
    "from sklearn.model_selection import GridSearchCV, train_test_split, cross_val_score\n",
    "%matplotlib inline\n",
    "\n",
    "\n",
    "# Para visualizar os valores com cinco casas decimais\n",
    "# pd.set_option('display.float_format', lambda x: '%.5f' % x)"
   ]
  },
  {
   "cell_type": "markdown",
   "metadata": {},
   "source": [
    "## Tratamento dos Dados"
   ]
  },
  {
   "cell_type": "markdown",
   "metadata": {},
   "source": [
    "Carregar o dataset, previamente analisado"
   ]
  },
  {
   "cell_type": "code",
   "execution_count": 17,
   "metadata": {},
   "outputs": [],
   "source": [
    "data = pd.read_csv('data.csv')"
   ]
  },
  {
   "cell_type": "markdown",
   "metadata": {},
   "source": [
    "Eliminar coluns irrelevantes:\n",
    "id e name"
   ]
  },
  {
   "cell_type": "code",
   "execution_count": 18,
   "metadata": {},
   "outputs": [
    {
     "data": {
      "text/html": [
       "<div>\n",
       "<style scoped>\n",
       "    .dataframe tbody tr th:only-of-type {\n",
       "        vertical-align: middle;\n",
       "    }\n",
       "\n",
       "    .dataframe tbody tr th {\n",
       "        vertical-align: top;\n",
       "    }\n",
       "\n",
       "    .dataframe thead th {\n",
       "        text-align: right;\n",
       "    }\n",
       "</style>\n",
       "<table border=\"1\" class=\"dataframe\">\n",
       "  <thead>\n",
       "    <tr style=\"text-align: right;\">\n",
       "      <th></th>\n",
       "      <th>acousticness</th>\n",
       "      <th>artists</th>\n",
       "      <th>danceability</th>\n",
       "      <th>duration_ms</th>\n",
       "      <th>energy</th>\n",
       "      <th>explicit</th>\n",
       "      <th>instrumentalness</th>\n",
       "      <th>key</th>\n",
       "      <th>liveness</th>\n",
       "      <th>loudness</th>\n",
       "      <th>mode</th>\n",
       "      <th>name</th>\n",
       "      <th>popularity</th>\n",
       "      <th>speechiness</th>\n",
       "      <th>tempo</th>\n",
       "      <th>valence</th>\n",
       "      <th>year</th>\n",
       "    </tr>\n",
       "  </thead>\n",
       "  <tbody>\n",
       "    <tr>\n",
       "      <th>0</th>\n",
       "      <td>0.9950</td>\n",
       "      <td>['Carl Woitschach']</td>\n",
       "      <td>0.708</td>\n",
       "      <td>158648</td>\n",
       "      <td>0.1950</td>\n",
       "      <td>0</td>\n",
       "      <td>0.563000</td>\n",
       "      <td>10</td>\n",
       "      <td>0.1510</td>\n",
       "      <td>-12.428</td>\n",
       "      <td>1</td>\n",
       "      <td>Singende Bataillone 1. Teil</td>\n",
       "      <td>0</td>\n",
       "      <td>0.0506</td>\n",
       "      <td>118.469</td>\n",
       "      <td>0.7790</td>\n",
       "      <td>1928</td>\n",
       "    </tr>\n",
       "    <tr>\n",
       "      <th>1</th>\n",
       "      <td>0.9940</td>\n",
       "      <td>['Robert Schumann', 'Vladimir Horowitz']</td>\n",
       "      <td>0.379</td>\n",
       "      <td>282133</td>\n",
       "      <td>0.0135</td>\n",
       "      <td>0</td>\n",
       "      <td>0.901000</td>\n",
       "      <td>8</td>\n",
       "      <td>0.0763</td>\n",
       "      <td>-28.454</td>\n",
       "      <td>1</td>\n",
       "      <td>Fantasiestücke, Op. 111: Più tosto lento</td>\n",
       "      <td>0</td>\n",
       "      <td>0.0462</td>\n",
       "      <td>83.972</td>\n",
       "      <td>0.0767</td>\n",
       "      <td>1928</td>\n",
       "    </tr>\n",
       "    <tr>\n",
       "      <th>2</th>\n",
       "      <td>0.6040</td>\n",
       "      <td>['Seweryn Goszczyński']</td>\n",
       "      <td>0.749</td>\n",
       "      <td>104300</td>\n",
       "      <td>0.2200</td>\n",
       "      <td>0</td>\n",
       "      <td>0.000000</td>\n",
       "      <td>5</td>\n",
       "      <td>0.1190</td>\n",
       "      <td>-19.924</td>\n",
       "      <td>0</td>\n",
       "      <td>Chapter 1.18 - Zamek kaniowski</td>\n",
       "      <td>0</td>\n",
       "      <td>0.9290</td>\n",
       "      <td>107.177</td>\n",
       "      <td>0.8800</td>\n",
       "      <td>1928</td>\n",
       "    </tr>\n",
       "    <tr>\n",
       "      <th>3</th>\n",
       "      <td>0.9950</td>\n",
       "      <td>['Francisco Canaro']</td>\n",
       "      <td>0.781</td>\n",
       "      <td>180760</td>\n",
       "      <td>0.1300</td>\n",
       "      <td>0</td>\n",
       "      <td>0.887000</td>\n",
       "      <td>1</td>\n",
       "      <td>0.1110</td>\n",
       "      <td>-14.734</td>\n",
       "      <td>0</td>\n",
       "      <td>Bebamos Juntos - Instrumental (Remasterizado)</td>\n",
       "      <td>0</td>\n",
       "      <td>0.0926</td>\n",
       "      <td>108.003</td>\n",
       "      <td>0.7200</td>\n",
       "      <td>1928</td>\n",
       "    </tr>\n",
       "    <tr>\n",
       "      <th>4</th>\n",
       "      <td>0.9900</td>\n",
       "      <td>['Frédéric Chopin', 'Vladimir Horowitz']</td>\n",
       "      <td>0.210</td>\n",
       "      <td>687733</td>\n",
       "      <td>0.2040</td>\n",
       "      <td>0</td>\n",
       "      <td>0.908000</td>\n",
       "      <td>11</td>\n",
       "      <td>0.0980</td>\n",
       "      <td>-16.829</td>\n",
       "      <td>1</td>\n",
       "      <td>Polonaise-Fantaisie in A-Flat Major, Op. 61</td>\n",
       "      <td>1</td>\n",
       "      <td>0.0424</td>\n",
       "      <td>62.149</td>\n",
       "      <td>0.0693</td>\n",
       "      <td>1928</td>\n",
       "    </tr>\n",
       "    <tr>\n",
       "      <th>...</th>\n",
       "      <td>...</td>\n",
       "      <td>...</td>\n",
       "      <td>...</td>\n",
       "      <td>...</td>\n",
       "      <td>...</td>\n",
       "      <td>...</td>\n",
       "      <td>...</td>\n",
       "      <td>...</td>\n",
       "      <td>...</td>\n",
       "      <td>...</td>\n",
       "      <td>...</td>\n",
       "      <td>...</td>\n",
       "      <td>...</td>\n",
       "      <td>...</td>\n",
       "      <td>...</td>\n",
       "      <td>...</td>\n",
       "      <td>...</td>\n",
       "    </tr>\n",
       "    <tr>\n",
       "      <th>169904</th>\n",
       "      <td>0.1730</td>\n",
       "      <td>['DripReport', 'Tyga']</td>\n",
       "      <td>0.875</td>\n",
       "      <td>163800</td>\n",
       "      <td>0.4430</td>\n",
       "      <td>1</td>\n",
       "      <td>0.000032</td>\n",
       "      <td>1</td>\n",
       "      <td>0.0891</td>\n",
       "      <td>-7.461</td>\n",
       "      <td>1</td>\n",
       "      <td>Skechers (feat. Tyga) - Remix</td>\n",
       "      <td>75</td>\n",
       "      <td>0.1430</td>\n",
       "      <td>100.012</td>\n",
       "      <td>0.3060</td>\n",
       "      <td>2020</td>\n",
       "    </tr>\n",
       "    <tr>\n",
       "      <th>169905</th>\n",
       "      <td>0.0167</td>\n",
       "      <td>['Leon Bridges', 'Terrace Martin']</td>\n",
       "      <td>0.719</td>\n",
       "      <td>167468</td>\n",
       "      <td>0.3850</td>\n",
       "      <td>0</td>\n",
       "      <td>0.031300</td>\n",
       "      <td>8</td>\n",
       "      <td>0.1110</td>\n",
       "      <td>-10.907</td>\n",
       "      <td>1</td>\n",
       "      <td>Sweeter (feat. Terrace Martin)</td>\n",
       "      <td>64</td>\n",
       "      <td>0.0403</td>\n",
       "      <td>128.000</td>\n",
       "      <td>0.2700</td>\n",
       "      <td>2020</td>\n",
       "    </tr>\n",
       "    <tr>\n",
       "      <th>169906</th>\n",
       "      <td>0.5380</td>\n",
       "      <td>['Kygo', 'Oh Wonder']</td>\n",
       "      <td>0.514</td>\n",
       "      <td>180700</td>\n",
       "      <td>0.5390</td>\n",
       "      <td>0</td>\n",
       "      <td>0.002330</td>\n",
       "      <td>7</td>\n",
       "      <td>0.1080</td>\n",
       "      <td>-9.332</td>\n",
       "      <td>1</td>\n",
       "      <td>How Would I Know</td>\n",
       "      <td>70</td>\n",
       "      <td>0.1050</td>\n",
       "      <td>123.700</td>\n",
       "      <td>0.1530</td>\n",
       "      <td>2020</td>\n",
       "    </tr>\n",
       "    <tr>\n",
       "      <th>169907</th>\n",
       "      <td>0.0714</td>\n",
       "      <td>['Cash Cash', 'Andy Grammer']</td>\n",
       "      <td>0.646</td>\n",
       "      <td>167308</td>\n",
       "      <td>0.7610</td>\n",
       "      <td>0</td>\n",
       "      <td>0.000000</td>\n",
       "      <td>1</td>\n",
       "      <td>0.2220</td>\n",
       "      <td>-2.557</td>\n",
       "      <td>1</td>\n",
       "      <td>I Found You</td>\n",
       "      <td>70</td>\n",
       "      <td>0.0385</td>\n",
       "      <td>129.916</td>\n",
       "      <td>0.4720</td>\n",
       "      <td>2020</td>\n",
       "    </tr>\n",
       "    <tr>\n",
       "      <th>169908</th>\n",
       "      <td>0.1090</td>\n",
       "      <td>['Ingrid Andress']</td>\n",
       "      <td>0.512</td>\n",
       "      <td>214787</td>\n",
       "      <td>0.4280</td>\n",
       "      <td>0</td>\n",
       "      <td>0.000000</td>\n",
       "      <td>0</td>\n",
       "      <td>0.1050</td>\n",
       "      <td>-7.387</td>\n",
       "      <td>1</td>\n",
       "      <td>More Hearts Than Mine</td>\n",
       "      <td>65</td>\n",
       "      <td>0.0271</td>\n",
       "      <td>80.588</td>\n",
       "      <td>0.3660</td>\n",
       "      <td>2020</td>\n",
       "    </tr>\n",
       "  </tbody>\n",
       "</table>\n",
       "<p>169909 rows × 17 columns</p>\n",
       "</div>"
      ],
      "text/plain": [
       "        acousticness                                   artists  danceability  \\\n",
       "0             0.9950                       ['Carl Woitschach']         0.708   \n",
       "1             0.9940  ['Robert Schumann', 'Vladimir Horowitz']         0.379   \n",
       "2             0.6040                   ['Seweryn Goszczyński']         0.749   \n",
       "3             0.9950                      ['Francisco Canaro']         0.781   \n",
       "4             0.9900  ['Frédéric Chopin', 'Vladimir Horowitz']         0.210   \n",
       "...              ...                                       ...           ...   \n",
       "169904        0.1730                    ['DripReport', 'Tyga']         0.875   \n",
       "169905        0.0167        ['Leon Bridges', 'Terrace Martin']         0.719   \n",
       "169906        0.5380                     ['Kygo', 'Oh Wonder']         0.514   \n",
       "169907        0.0714             ['Cash Cash', 'Andy Grammer']         0.646   \n",
       "169908        0.1090                        ['Ingrid Andress']         0.512   \n",
       "\n",
       "        duration_ms  energy  explicit  instrumentalness  key  liveness  \\\n",
       "0            158648  0.1950         0          0.563000   10    0.1510   \n",
       "1            282133  0.0135         0          0.901000    8    0.0763   \n",
       "2            104300  0.2200         0          0.000000    5    0.1190   \n",
       "3            180760  0.1300         0          0.887000    1    0.1110   \n",
       "4            687733  0.2040         0          0.908000   11    0.0980   \n",
       "...             ...     ...       ...               ...  ...       ...   \n",
       "169904       163800  0.4430         1          0.000032    1    0.0891   \n",
       "169905       167468  0.3850         0          0.031300    8    0.1110   \n",
       "169906       180700  0.5390         0          0.002330    7    0.1080   \n",
       "169907       167308  0.7610         0          0.000000    1    0.2220   \n",
       "169908       214787  0.4280         0          0.000000    0    0.1050   \n",
       "\n",
       "        loudness  mode                                           name  \\\n",
       "0        -12.428     1                    Singende Bataillone 1. Teil   \n",
       "1        -28.454     1       Fantasiestücke, Op. 111: Più tosto lento   \n",
       "2        -19.924     0                 Chapter 1.18 - Zamek kaniowski   \n",
       "3        -14.734     0  Bebamos Juntos - Instrumental (Remasterizado)   \n",
       "4        -16.829     1    Polonaise-Fantaisie in A-Flat Major, Op. 61   \n",
       "...          ...   ...                                            ...   \n",
       "169904    -7.461     1                  Skechers (feat. Tyga) - Remix   \n",
       "169905   -10.907     1                 Sweeter (feat. Terrace Martin)   \n",
       "169906    -9.332     1                               How Would I Know   \n",
       "169907    -2.557     1                                    I Found You   \n",
       "169908    -7.387     1                          More Hearts Than Mine   \n",
       "\n",
       "        popularity  speechiness    tempo  valence  year  \n",
       "0                0       0.0506  118.469   0.7790  1928  \n",
       "1                0       0.0462   83.972   0.0767  1928  \n",
       "2                0       0.9290  107.177   0.8800  1928  \n",
       "3                0       0.0926  108.003   0.7200  1928  \n",
       "4                1       0.0424   62.149   0.0693  1928  \n",
       "...            ...          ...      ...      ...   ...  \n",
       "169904          75       0.1430  100.012   0.3060  2020  \n",
       "169905          64       0.0403  128.000   0.2700  2020  \n",
       "169906          70       0.1050  123.700   0.1530  2020  \n",
       "169907          70       0.0385  129.916   0.4720  2020  \n",
       "169908          65       0.0271   80.588   0.3660  2020  \n",
       "\n",
       "[169909 rows x 17 columns]"
      ]
     },
     "execution_count": 18,
     "metadata": {},
     "output_type": "execute_result"
    }
   ],
   "source": [
    "# Drop Id and Track Id columns\n",
    "data.drop(['id', 'release_date'], axis=1, inplace=True, errors='ignore')\n",
    "data"
   ]
  },
  {
   "cell_type": "markdown",
   "metadata": {},
   "source": [
    "Remover duplicados"
   ]
  },
  {
   "cell_type": "code",
   "execution_count": 19,
   "metadata": {},
   "outputs": [
    {
     "data": {
      "text/html": [
       "<div>\n",
       "<style scoped>\n",
       "    .dataframe tbody tr th:only-of-type {\n",
       "        vertical-align: middle;\n",
       "    }\n",
       "\n",
       "    .dataframe tbody tr th {\n",
       "        vertical-align: top;\n",
       "    }\n",
       "\n",
       "    .dataframe thead th {\n",
       "        text-align: right;\n",
       "    }\n",
       "</style>\n",
       "<table border=\"1\" class=\"dataframe\">\n",
       "  <thead>\n",
       "    <tr style=\"text-align: right;\">\n",
       "      <th></th>\n",
       "      <th>acousticness</th>\n",
       "      <th>artists</th>\n",
       "      <th>danceability</th>\n",
       "      <th>duration_ms</th>\n",
       "      <th>energy</th>\n",
       "      <th>explicit</th>\n",
       "      <th>instrumentalness</th>\n",
       "      <th>key</th>\n",
       "      <th>liveness</th>\n",
       "      <th>loudness</th>\n",
       "      <th>mode</th>\n",
       "      <th>name</th>\n",
       "      <th>popularity</th>\n",
       "      <th>speechiness</th>\n",
       "      <th>tempo</th>\n",
       "      <th>valence</th>\n",
       "      <th>year</th>\n",
       "    </tr>\n",
       "  </thead>\n",
       "  <tbody>\n",
       "    <tr>\n",
       "      <th>0</th>\n",
       "      <td>0.9950</td>\n",
       "      <td>['Carl Woitschach']</td>\n",
       "      <td>0.708</td>\n",
       "      <td>158648</td>\n",
       "      <td>0.1950</td>\n",
       "      <td>0</td>\n",
       "      <td>0.563000</td>\n",
       "      <td>10</td>\n",
       "      <td>0.1510</td>\n",
       "      <td>-12.428</td>\n",
       "      <td>1</td>\n",
       "      <td>Singende Bataillone 1. Teil</td>\n",
       "      <td>0</td>\n",
       "      <td>0.0506</td>\n",
       "      <td>118.469</td>\n",
       "      <td>0.7790</td>\n",
       "      <td>1928</td>\n",
       "    </tr>\n",
       "    <tr>\n",
       "      <th>1</th>\n",
       "      <td>0.9940</td>\n",
       "      <td>['Robert Schumann', 'Vladimir Horowitz']</td>\n",
       "      <td>0.379</td>\n",
       "      <td>282133</td>\n",
       "      <td>0.0135</td>\n",
       "      <td>0</td>\n",
       "      <td>0.901000</td>\n",
       "      <td>8</td>\n",
       "      <td>0.0763</td>\n",
       "      <td>-28.454</td>\n",
       "      <td>1</td>\n",
       "      <td>Fantasiestücke, Op. 111: Più tosto lento</td>\n",
       "      <td>0</td>\n",
       "      <td>0.0462</td>\n",
       "      <td>83.972</td>\n",
       "      <td>0.0767</td>\n",
       "      <td>1928</td>\n",
       "    </tr>\n",
       "    <tr>\n",
       "      <th>2</th>\n",
       "      <td>0.6040</td>\n",
       "      <td>['Seweryn Goszczyński']</td>\n",
       "      <td>0.749</td>\n",
       "      <td>104300</td>\n",
       "      <td>0.2200</td>\n",
       "      <td>0</td>\n",
       "      <td>0.000000</td>\n",
       "      <td>5</td>\n",
       "      <td>0.1190</td>\n",
       "      <td>-19.924</td>\n",
       "      <td>0</td>\n",
       "      <td>Chapter 1.18 - Zamek kaniowski</td>\n",
       "      <td>0</td>\n",
       "      <td>0.9290</td>\n",
       "      <td>107.177</td>\n",
       "      <td>0.8800</td>\n",
       "      <td>1928</td>\n",
       "    </tr>\n",
       "    <tr>\n",
       "      <th>3</th>\n",
       "      <td>0.9950</td>\n",
       "      <td>['Francisco Canaro']</td>\n",
       "      <td>0.781</td>\n",
       "      <td>180760</td>\n",
       "      <td>0.1300</td>\n",
       "      <td>0</td>\n",
       "      <td>0.887000</td>\n",
       "      <td>1</td>\n",
       "      <td>0.1110</td>\n",
       "      <td>-14.734</td>\n",
       "      <td>0</td>\n",
       "      <td>Bebamos Juntos - Instrumental (Remasterizado)</td>\n",
       "      <td>0</td>\n",
       "      <td>0.0926</td>\n",
       "      <td>108.003</td>\n",
       "      <td>0.7200</td>\n",
       "      <td>1928</td>\n",
       "    </tr>\n",
       "    <tr>\n",
       "      <th>4</th>\n",
       "      <td>0.9900</td>\n",
       "      <td>['Frédéric Chopin', 'Vladimir Horowitz']</td>\n",
       "      <td>0.210</td>\n",
       "      <td>687733</td>\n",
       "      <td>0.2040</td>\n",
       "      <td>0</td>\n",
       "      <td>0.908000</td>\n",
       "      <td>11</td>\n",
       "      <td>0.0980</td>\n",
       "      <td>-16.829</td>\n",
       "      <td>1</td>\n",
       "      <td>Polonaise-Fantaisie in A-Flat Major, Op. 61</td>\n",
       "      <td>1</td>\n",
       "      <td>0.0424</td>\n",
       "      <td>62.149</td>\n",
       "      <td>0.0693</td>\n",
       "      <td>1928</td>\n",
       "    </tr>\n",
       "    <tr>\n",
       "      <th>...</th>\n",
       "      <td>...</td>\n",
       "      <td>...</td>\n",
       "      <td>...</td>\n",
       "      <td>...</td>\n",
       "      <td>...</td>\n",
       "      <td>...</td>\n",
       "      <td>...</td>\n",
       "      <td>...</td>\n",
       "      <td>...</td>\n",
       "      <td>...</td>\n",
       "      <td>...</td>\n",
       "      <td>...</td>\n",
       "      <td>...</td>\n",
       "      <td>...</td>\n",
       "      <td>...</td>\n",
       "      <td>...</td>\n",
       "      <td>...</td>\n",
       "    </tr>\n",
       "    <tr>\n",
       "      <th>169904</th>\n",
       "      <td>0.1730</td>\n",
       "      <td>['DripReport', 'Tyga']</td>\n",
       "      <td>0.875</td>\n",
       "      <td>163800</td>\n",
       "      <td>0.4430</td>\n",
       "      <td>1</td>\n",
       "      <td>0.000032</td>\n",
       "      <td>1</td>\n",
       "      <td>0.0891</td>\n",
       "      <td>-7.461</td>\n",
       "      <td>1</td>\n",
       "      <td>Skechers (feat. Tyga) - Remix</td>\n",
       "      <td>75</td>\n",
       "      <td>0.1430</td>\n",
       "      <td>100.012</td>\n",
       "      <td>0.3060</td>\n",
       "      <td>2020</td>\n",
       "    </tr>\n",
       "    <tr>\n",
       "      <th>169905</th>\n",
       "      <td>0.0167</td>\n",
       "      <td>['Leon Bridges', 'Terrace Martin']</td>\n",
       "      <td>0.719</td>\n",
       "      <td>167468</td>\n",
       "      <td>0.3850</td>\n",
       "      <td>0</td>\n",
       "      <td>0.031300</td>\n",
       "      <td>8</td>\n",
       "      <td>0.1110</td>\n",
       "      <td>-10.907</td>\n",
       "      <td>1</td>\n",
       "      <td>Sweeter (feat. Terrace Martin)</td>\n",
       "      <td>64</td>\n",
       "      <td>0.0403</td>\n",
       "      <td>128.000</td>\n",
       "      <td>0.2700</td>\n",
       "      <td>2020</td>\n",
       "    </tr>\n",
       "    <tr>\n",
       "      <th>169906</th>\n",
       "      <td>0.5380</td>\n",
       "      <td>['Kygo', 'Oh Wonder']</td>\n",
       "      <td>0.514</td>\n",
       "      <td>180700</td>\n",
       "      <td>0.5390</td>\n",
       "      <td>0</td>\n",
       "      <td>0.002330</td>\n",
       "      <td>7</td>\n",
       "      <td>0.1080</td>\n",
       "      <td>-9.332</td>\n",
       "      <td>1</td>\n",
       "      <td>How Would I Know</td>\n",
       "      <td>70</td>\n",
       "      <td>0.1050</td>\n",
       "      <td>123.700</td>\n",
       "      <td>0.1530</td>\n",
       "      <td>2020</td>\n",
       "    </tr>\n",
       "    <tr>\n",
       "      <th>169907</th>\n",
       "      <td>0.0714</td>\n",
       "      <td>['Cash Cash', 'Andy Grammer']</td>\n",
       "      <td>0.646</td>\n",
       "      <td>167308</td>\n",
       "      <td>0.7610</td>\n",
       "      <td>0</td>\n",
       "      <td>0.000000</td>\n",
       "      <td>1</td>\n",
       "      <td>0.2220</td>\n",
       "      <td>-2.557</td>\n",
       "      <td>1</td>\n",
       "      <td>I Found You</td>\n",
       "      <td>70</td>\n",
       "      <td>0.0385</td>\n",
       "      <td>129.916</td>\n",
       "      <td>0.4720</td>\n",
       "      <td>2020</td>\n",
       "    </tr>\n",
       "    <tr>\n",
       "      <th>169908</th>\n",
       "      <td>0.1090</td>\n",
       "      <td>['Ingrid Andress']</td>\n",
       "      <td>0.512</td>\n",
       "      <td>214787</td>\n",
       "      <td>0.4280</td>\n",
       "      <td>0</td>\n",
       "      <td>0.000000</td>\n",
       "      <td>0</td>\n",
       "      <td>0.1050</td>\n",
       "      <td>-7.387</td>\n",
       "      <td>1</td>\n",
       "      <td>More Hearts Than Mine</td>\n",
       "      <td>65</td>\n",
       "      <td>0.0271</td>\n",
       "      <td>80.588</td>\n",
       "      <td>0.3660</td>\n",
       "      <td>2020</td>\n",
       "    </tr>\n",
       "  </tbody>\n",
       "</table>\n",
       "<p>169302 rows × 17 columns</p>\n",
       "</div>"
      ],
      "text/plain": [
       "        acousticness                                   artists  danceability  \\\n",
       "0             0.9950                       ['Carl Woitschach']         0.708   \n",
       "1             0.9940  ['Robert Schumann', 'Vladimir Horowitz']         0.379   \n",
       "2             0.6040                   ['Seweryn Goszczyński']         0.749   \n",
       "3             0.9950                      ['Francisco Canaro']         0.781   \n",
       "4             0.9900  ['Frédéric Chopin', 'Vladimir Horowitz']         0.210   \n",
       "...              ...                                       ...           ...   \n",
       "169904        0.1730                    ['DripReport', 'Tyga']         0.875   \n",
       "169905        0.0167        ['Leon Bridges', 'Terrace Martin']         0.719   \n",
       "169906        0.5380                     ['Kygo', 'Oh Wonder']         0.514   \n",
       "169907        0.0714             ['Cash Cash', 'Andy Grammer']         0.646   \n",
       "169908        0.1090                        ['Ingrid Andress']         0.512   \n",
       "\n",
       "        duration_ms  energy  explicit  instrumentalness  key  liveness  \\\n",
       "0            158648  0.1950         0          0.563000   10    0.1510   \n",
       "1            282133  0.0135         0          0.901000    8    0.0763   \n",
       "2            104300  0.2200         0          0.000000    5    0.1190   \n",
       "3            180760  0.1300         0          0.887000    1    0.1110   \n",
       "4            687733  0.2040         0          0.908000   11    0.0980   \n",
       "...             ...     ...       ...               ...  ...       ...   \n",
       "169904       163800  0.4430         1          0.000032    1    0.0891   \n",
       "169905       167468  0.3850         0          0.031300    8    0.1110   \n",
       "169906       180700  0.5390         0          0.002330    7    0.1080   \n",
       "169907       167308  0.7610         0          0.000000    1    0.2220   \n",
       "169908       214787  0.4280         0          0.000000    0    0.1050   \n",
       "\n",
       "        loudness  mode                                           name  \\\n",
       "0        -12.428     1                    Singende Bataillone 1. Teil   \n",
       "1        -28.454     1       Fantasiestücke, Op. 111: Più tosto lento   \n",
       "2        -19.924     0                 Chapter 1.18 - Zamek kaniowski   \n",
       "3        -14.734     0  Bebamos Juntos - Instrumental (Remasterizado)   \n",
       "4        -16.829     1    Polonaise-Fantaisie in A-Flat Major, Op. 61   \n",
       "...          ...   ...                                            ...   \n",
       "169904    -7.461     1                  Skechers (feat. Tyga) - Remix   \n",
       "169905   -10.907     1                 Sweeter (feat. Terrace Martin)   \n",
       "169906    -9.332     1                               How Would I Know   \n",
       "169907    -2.557     1                                    I Found You   \n",
       "169908    -7.387     1                          More Hearts Than Mine   \n",
       "\n",
       "        popularity  speechiness    tempo  valence  year  \n",
       "0                0       0.0506  118.469   0.7790  1928  \n",
       "1                0       0.0462   83.972   0.0767  1928  \n",
       "2                0       0.9290  107.177   0.8800  1928  \n",
       "3                0       0.0926  108.003   0.7200  1928  \n",
       "4                1       0.0424   62.149   0.0693  1928  \n",
       "...            ...          ...      ...      ...   ...  \n",
       "169904          75       0.1430  100.012   0.3060  2020  \n",
       "169905          64       0.0403  128.000   0.2700  2020  \n",
       "169906          70       0.1050  123.700   0.1530  2020  \n",
       "169907          70       0.0385  129.916   0.4720  2020  \n",
       "169908          65       0.0271   80.588   0.3660  2020  \n",
       "\n",
       "[169302 rows x 17 columns]"
      ]
     },
     "execution_count": 19,
     "metadata": {},
     "output_type": "execute_result"
    }
   ],
   "source": [
    "data.drop_duplicates(inplace=True)\n",
    "data"
   ]
  },
  {
   "cell_type": "markdown",
   "metadata": {},
   "source": [
    "Tratamento dos artistas"
   ]
  },
  {
   "cell_type": "code",
   "execution_count": 20,
   "metadata": {},
   "outputs": [
    {
     "data": {
      "text/html": [
       "<div>\n",
       "<style scoped>\n",
       "    .dataframe tbody tr th:only-of-type {\n",
       "        vertical-align: middle;\n",
       "    }\n",
       "\n",
       "    .dataframe tbody tr th {\n",
       "        vertical-align: top;\n",
       "    }\n",
       "\n",
       "    .dataframe thead th {\n",
       "        text-align: right;\n",
       "    }\n",
       "</style>\n",
       "<table border=\"1\" class=\"dataframe\">\n",
       "  <thead>\n",
       "    <tr style=\"text-align: right;\">\n",
       "      <th></th>\n",
       "      <th>acousticness</th>\n",
       "      <th>artists</th>\n",
       "      <th>danceability</th>\n",
       "      <th>duration_ms</th>\n",
       "      <th>energy</th>\n",
       "      <th>explicit</th>\n",
       "      <th>instrumentalness</th>\n",
       "      <th>key</th>\n",
       "      <th>liveness</th>\n",
       "      <th>loudness</th>\n",
       "      <th>mode</th>\n",
       "      <th>name</th>\n",
       "      <th>popularity</th>\n",
       "      <th>speechiness</th>\n",
       "      <th>tempo</th>\n",
       "      <th>valence</th>\n",
       "      <th>year</th>\n",
       "    </tr>\n",
       "  </thead>\n",
       "  <tbody>\n",
       "    <tr>\n",
       "      <th>0</th>\n",
       "      <td>0.9950</td>\n",
       "      <td>Carl Woitschach</td>\n",
       "      <td>0.708</td>\n",
       "      <td>158648</td>\n",
       "      <td>0.1950</td>\n",
       "      <td>0</td>\n",
       "      <td>0.56300</td>\n",
       "      <td>10</td>\n",
       "      <td>0.1510</td>\n",
       "      <td>-12.428</td>\n",
       "      <td>1</td>\n",
       "      <td>Singende Bataillone 1. Teil</td>\n",
       "      <td>0</td>\n",
       "      <td>0.0506</td>\n",
       "      <td>118.469</td>\n",
       "      <td>0.7790</td>\n",
       "      <td>1928</td>\n",
       "    </tr>\n",
       "    <tr>\n",
       "      <th>1</th>\n",
       "      <td>0.9940</td>\n",
       "      <td>Robert Schumann</td>\n",
       "      <td>0.379</td>\n",
       "      <td>282133</td>\n",
       "      <td>0.0135</td>\n",
       "      <td>0</td>\n",
       "      <td>0.90100</td>\n",
       "      <td>8</td>\n",
       "      <td>0.0763</td>\n",
       "      <td>-28.454</td>\n",
       "      <td>1</td>\n",
       "      <td>Fantasiestücke, Op. 111: Più tosto lento</td>\n",
       "      <td>0</td>\n",
       "      <td>0.0462</td>\n",
       "      <td>83.972</td>\n",
       "      <td>0.0767</td>\n",
       "      <td>1928</td>\n",
       "    </tr>\n",
       "    <tr>\n",
       "      <th>1</th>\n",
       "      <td>0.9940</td>\n",
       "      <td>Vladimir Horowitz</td>\n",
       "      <td>0.379</td>\n",
       "      <td>282133</td>\n",
       "      <td>0.0135</td>\n",
       "      <td>0</td>\n",
       "      <td>0.90100</td>\n",
       "      <td>8</td>\n",
       "      <td>0.0763</td>\n",
       "      <td>-28.454</td>\n",
       "      <td>1</td>\n",
       "      <td>Fantasiestücke, Op. 111: Più tosto lento</td>\n",
       "      <td>0</td>\n",
       "      <td>0.0462</td>\n",
       "      <td>83.972</td>\n",
       "      <td>0.0767</td>\n",
       "      <td>1928</td>\n",
       "    </tr>\n",
       "    <tr>\n",
       "      <th>2</th>\n",
       "      <td>0.6040</td>\n",
       "      <td>Seweryn Goszczyński</td>\n",
       "      <td>0.749</td>\n",
       "      <td>104300</td>\n",
       "      <td>0.2200</td>\n",
       "      <td>0</td>\n",
       "      <td>0.00000</td>\n",
       "      <td>5</td>\n",
       "      <td>0.1190</td>\n",
       "      <td>-19.924</td>\n",
       "      <td>0</td>\n",
       "      <td>Chapter 1.18 - Zamek kaniowski</td>\n",
       "      <td>0</td>\n",
       "      <td>0.9290</td>\n",
       "      <td>107.177</td>\n",
       "      <td>0.8800</td>\n",
       "      <td>1928</td>\n",
       "    </tr>\n",
       "    <tr>\n",
       "      <th>3</th>\n",
       "      <td>0.9950</td>\n",
       "      <td>Francisco Canaro</td>\n",
       "      <td>0.781</td>\n",
       "      <td>180760</td>\n",
       "      <td>0.1300</td>\n",
       "      <td>0</td>\n",
       "      <td>0.88700</td>\n",
       "      <td>1</td>\n",
       "      <td>0.1110</td>\n",
       "      <td>-14.734</td>\n",
       "      <td>0</td>\n",
       "      <td>Bebamos Juntos - Instrumental (Remasterizado)</td>\n",
       "      <td>0</td>\n",
       "      <td>0.0926</td>\n",
       "      <td>108.003</td>\n",
       "      <td>0.7200</td>\n",
       "      <td>1928</td>\n",
       "    </tr>\n",
       "    <tr>\n",
       "      <th>...</th>\n",
       "      <td>...</td>\n",
       "      <td>...</td>\n",
       "      <td>...</td>\n",
       "      <td>...</td>\n",
       "      <td>...</td>\n",
       "      <td>...</td>\n",
       "      <td>...</td>\n",
       "      <td>...</td>\n",
       "      <td>...</td>\n",
       "      <td>...</td>\n",
       "      <td>...</td>\n",
       "      <td>...</td>\n",
       "      <td>...</td>\n",
       "      <td>...</td>\n",
       "      <td>...</td>\n",
       "      <td>...</td>\n",
       "      <td>...</td>\n",
       "    </tr>\n",
       "    <tr>\n",
       "      <th>169906</th>\n",
       "      <td>0.5380</td>\n",
       "      <td>Kygo</td>\n",
       "      <td>0.514</td>\n",
       "      <td>180700</td>\n",
       "      <td>0.5390</td>\n",
       "      <td>0</td>\n",
       "      <td>0.00233</td>\n",
       "      <td>7</td>\n",
       "      <td>0.1080</td>\n",
       "      <td>-9.332</td>\n",
       "      <td>1</td>\n",
       "      <td>How Would I Know</td>\n",
       "      <td>70</td>\n",
       "      <td>0.1050</td>\n",
       "      <td>123.700</td>\n",
       "      <td>0.1530</td>\n",
       "      <td>2020</td>\n",
       "    </tr>\n",
       "    <tr>\n",
       "      <th>169906</th>\n",
       "      <td>0.5380</td>\n",
       "      <td>Oh Wonder</td>\n",
       "      <td>0.514</td>\n",
       "      <td>180700</td>\n",
       "      <td>0.5390</td>\n",
       "      <td>0</td>\n",
       "      <td>0.00233</td>\n",
       "      <td>7</td>\n",
       "      <td>0.1080</td>\n",
       "      <td>-9.332</td>\n",
       "      <td>1</td>\n",
       "      <td>How Would I Know</td>\n",
       "      <td>70</td>\n",
       "      <td>0.1050</td>\n",
       "      <td>123.700</td>\n",
       "      <td>0.1530</td>\n",
       "      <td>2020</td>\n",
       "    </tr>\n",
       "    <tr>\n",
       "      <th>169907</th>\n",
       "      <td>0.0714</td>\n",
       "      <td>Cash Cash</td>\n",
       "      <td>0.646</td>\n",
       "      <td>167308</td>\n",
       "      <td>0.7610</td>\n",
       "      <td>0</td>\n",
       "      <td>0.00000</td>\n",
       "      <td>1</td>\n",
       "      <td>0.2220</td>\n",
       "      <td>-2.557</td>\n",
       "      <td>1</td>\n",
       "      <td>I Found You</td>\n",
       "      <td>70</td>\n",
       "      <td>0.0385</td>\n",
       "      <td>129.916</td>\n",
       "      <td>0.4720</td>\n",
       "      <td>2020</td>\n",
       "    </tr>\n",
       "    <tr>\n",
       "      <th>169907</th>\n",
       "      <td>0.0714</td>\n",
       "      <td>Andy Grammer</td>\n",
       "      <td>0.646</td>\n",
       "      <td>167308</td>\n",
       "      <td>0.7610</td>\n",
       "      <td>0</td>\n",
       "      <td>0.00000</td>\n",
       "      <td>1</td>\n",
       "      <td>0.2220</td>\n",
       "      <td>-2.557</td>\n",
       "      <td>1</td>\n",
       "      <td>I Found You</td>\n",
       "      <td>70</td>\n",
       "      <td>0.0385</td>\n",
       "      <td>129.916</td>\n",
       "      <td>0.4720</td>\n",
       "      <td>2020</td>\n",
       "    </tr>\n",
       "    <tr>\n",
       "      <th>169908</th>\n",
       "      <td>0.1090</td>\n",
       "      <td>Ingrid Andress</td>\n",
       "      <td>0.512</td>\n",
       "      <td>214787</td>\n",
       "      <td>0.4280</td>\n",
       "      <td>0</td>\n",
       "      <td>0.00000</td>\n",
       "      <td>0</td>\n",
       "      <td>0.1050</td>\n",
       "      <td>-7.387</td>\n",
       "      <td>1</td>\n",
       "      <td>More Hearts Than Mine</td>\n",
       "      <td>65</td>\n",
       "      <td>0.0271</td>\n",
       "      <td>80.588</td>\n",
       "      <td>0.3660</td>\n",
       "      <td>2020</td>\n",
       "    </tr>\n",
       "  </tbody>\n",
       "</table>\n",
       "<p>225405 rows × 17 columns</p>\n",
       "</div>"
      ],
      "text/plain": [
       "        acousticness              artists  danceability  duration_ms  energy  \\\n",
       "0             0.9950      Carl Woitschach         0.708       158648  0.1950   \n",
       "1             0.9940      Robert Schumann         0.379       282133  0.0135   \n",
       "1             0.9940    Vladimir Horowitz         0.379       282133  0.0135   \n",
       "2             0.6040  Seweryn Goszczyński         0.749       104300  0.2200   \n",
       "3             0.9950     Francisco Canaro         0.781       180760  0.1300   \n",
       "...              ...                  ...           ...          ...     ...   \n",
       "169906        0.5380                 Kygo         0.514       180700  0.5390   \n",
       "169906        0.5380            Oh Wonder         0.514       180700  0.5390   \n",
       "169907        0.0714            Cash Cash         0.646       167308  0.7610   \n",
       "169907        0.0714         Andy Grammer         0.646       167308  0.7610   \n",
       "169908        0.1090       Ingrid Andress         0.512       214787  0.4280   \n",
       "\n",
       "        explicit  instrumentalness  key  liveness  loudness  mode  \\\n",
       "0              0           0.56300   10    0.1510   -12.428     1   \n",
       "1              0           0.90100    8    0.0763   -28.454     1   \n",
       "1              0           0.90100    8    0.0763   -28.454     1   \n",
       "2              0           0.00000    5    0.1190   -19.924     0   \n",
       "3              0           0.88700    1    0.1110   -14.734     0   \n",
       "...          ...               ...  ...       ...       ...   ...   \n",
       "169906         0           0.00233    7    0.1080    -9.332     1   \n",
       "169906         0           0.00233    7    0.1080    -9.332     1   \n",
       "169907         0           0.00000    1    0.2220    -2.557     1   \n",
       "169907         0           0.00000    1    0.2220    -2.557     1   \n",
       "169908         0           0.00000    0    0.1050    -7.387     1   \n",
       "\n",
       "                                                 name  popularity  \\\n",
       "0                         Singende Bataillone 1. Teil           0   \n",
       "1            Fantasiestücke, Op. 111: Più tosto lento           0   \n",
       "1            Fantasiestücke, Op. 111: Più tosto lento           0   \n",
       "2                      Chapter 1.18 - Zamek kaniowski           0   \n",
       "3       Bebamos Juntos - Instrumental (Remasterizado)           0   \n",
       "...                                               ...         ...   \n",
       "169906                               How Would I Know          70   \n",
       "169906                               How Would I Know          70   \n",
       "169907                                    I Found You          70   \n",
       "169907                                    I Found You          70   \n",
       "169908                          More Hearts Than Mine          65   \n",
       "\n",
       "        speechiness    tempo  valence  year  \n",
       "0            0.0506  118.469   0.7790  1928  \n",
       "1            0.0462   83.972   0.0767  1928  \n",
       "1            0.0462   83.972   0.0767  1928  \n",
       "2            0.9290  107.177   0.8800  1928  \n",
       "3            0.0926  108.003   0.7200  1928  \n",
       "...             ...      ...      ...   ...  \n",
       "169906       0.1050  123.700   0.1530  2020  \n",
       "169906       0.1050  123.700   0.1530  2020  \n",
       "169907       0.0385  129.916   0.4720  2020  \n",
       "169907       0.0385  129.916   0.4720  2020  \n",
       "169908       0.0271   80.588   0.3660  2020  \n",
       "\n",
       "[225405 rows x 17 columns]"
      ]
     },
     "execution_count": 20,
     "metadata": {},
     "output_type": "execute_result"
    }
   ],
   "source": [
    "data[\"artists\"] = data[\"artists\"].str.replace(\"[\\[\\]']\", \"\", regex=True)\n",
    "data['artists'] = data['artists'].str.split(', ')\n",
    "data = data.explode('artists')\n",
    "data"
   ]
  },
  {
   "cell_type": "markdown",
   "metadata": {},
   "source": [
    "Encoding dos artistas"
   ]
  },
  {
   "cell_type": "code",
   "execution_count": 21,
   "metadata": {},
   "outputs": [],
   "source": [
    "from sklearn.preprocessing import LabelEncoder\n",
    "\n",
    "label_encoder = LabelEncoder()\n",
    "data['artists'] = label_encoder.fit_transform(data['artists'])"
   ]
  },
  {
   "cell_type": "markdown",
   "metadata": {},
   "source": [
    "Encoding do nome da música"
   ]
  },
  {
   "cell_type": "code",
   "execution_count": 22,
   "metadata": {},
   "outputs": [],
   "source": [
    "from sklearn.preprocessing import LabelEncoder\n",
    "\n",
    "label_encoder = LabelEncoder()\n",
    "data['name'] = label_encoder.fit_transform(data['name'])"
   ]
  },
  {
   "cell_type": "code",
   "execution_count": 23,
   "metadata": {},
   "outputs": [
    {
     "data": {
      "text/plain": [
       "<Axes: >"
      ]
     },
     "execution_count": 23,
     "metadata": {},
     "output_type": "execute_result"
    },
    {
     "data": {
      "image/png": "[encoded data removed]",
      "text/plain": [
       "<Figure size 1400x1200 with 2 Axes>"
      ]
     },
     "metadata": {},
     "output_type": "display_data"
    }
   ],
   "source": [
    "corr_matrix = data.corr(method='pearson', numeric_only=True)\n",
    "f, ax = plt.subplots(figsize=(14, 12))\n",
    "sns.heatmap(corr_matrix, vmin=-1, vmax=1, square=True, annot=True, cmap=sns.color_palette(\"RdBu_r\", 100))"
   ]
  },
  {
   "cell_type": "markdown",
   "metadata": {},
   "source": [
    "### Problema de Classificação\n",
    "\n",
    "Uma outra forma de resolver este problema de previsão da popularidade de uma música consiste em transformar a feature 'popularity', target do nosso problema, numa feature discreta, dividindo a gama de valores contínuos (0 a 100) numa série de bins, ou seja intervalos de popularidade. Por exemplo, para 10 bins, o objetivo passaria a ser o de prever qual o nível de popularidade de uma música (Nível 0 - 0..10, Nível 1 - 10..20, etc)"
   ]
  },
  {
   "cell_type": "markdown",
   "metadata": {},
   "source": [
    "Vamos então transformar a feature 'popularity' numa feature discreta, recorrendo à funcionalidade KBinsDiscretizer do módulo Sci-kit learn.\n",
    "Este módulo permite realizar binning de duas estratégias diferentes:"
   ]
  },
  {
   "cell_type": "markdown",
   "metadata": {},
   "source": [
    "- ‘uniform’: All bins in each feature have identical widths.\n",
    "\n",
    "- ‘quantile’: All bins in each feature have the same number of points."
   ]
  },
  {
   "cell_type": "code",
   "execution_count": 24,
   "metadata": {},
   "outputs": [
    {
     "name": "stdout",
     "output_type": "stream",
     "text": [
      "<class 'pandas.core.frame.DataFrame'>\n",
      "Index: 225405 entries, 0 to 169908\n",
      "Data columns (total 17 columns):\n",
      " #   Column            Non-Null Count   Dtype  \n",
      "---  ------            --------------   -----  \n",
      " 0   acousticness      225405 non-null  float64\n",
      " 1   artists           225405 non-null  int64  \n",
      " 2   danceability      225405 non-null  float64\n",
      " 3   duration_ms       225405 non-null  int64  \n",
      " 4   energy            225405 non-null  float64\n",
      " 5   explicit          225405 non-null  int64  \n",
      " 6   instrumentalness  225405 non-null  float64\n",
      " 7   key               225405 non-null  int64  \n",
      " 8   liveness          225405 non-null  float64\n",
      " 9   loudness          225405 non-null  float64\n",
      " 10  mode              225405 non-null  int64  \n",
      " 11  name              225405 non-null  int64  \n",
      " 12  popularity        225405 non-null  float64\n",
      " 13  speechiness       225405 non-null  float64\n",
      " 14  tempo             225405 non-null  float64\n",
      " 15  valence           225405 non-null  float64\n",
      " 16  year              225405 non-null  int64  \n",
      "dtypes: float64(10), int64(7)\n",
      "memory usage: 31.0 MB\n"
     ]
    }
   ],
   "source": [
    "data = data.copy()\n",
    "estimator = preprocessing.KBinsDiscretizer(n_bins=3, encode='ordinal', strategy='quantile')\n",
    "data['popularity'] = estimator.fit_transform(data[['popularity']])\n",
    "data.info()"
   ]
  },
  {
   "cell_type": "code",
   "execution_count": 25,
   "metadata": {},
   "outputs": [
    {
     "data": {
      "text/plain": [
       "array([[<Axes: title={'center': 'popularity'}>]], dtype=object)"
      ]
     },
     "execution_count": 25,
     "metadata": {},
     "output_type": "execute_result"
    },
    {
     "data": {
      "image/png": "[encoded data removed]",
      "text/plain": [
       "<Figure size 640x480 with 1 Axes>"
      ]
     },
     "metadata": {},
     "output_type": "display_data"
    }
   ],
   "source": [
    "data.hist(column='popularity')"
   ]
  },
  {
   "cell_type": "code",
   "execution_count": 26,
   "metadata": {},
   "outputs": [
    {
     "data": {
      "text/html": [
       "<div>\n",
       "<style scoped>\n",
       "    .dataframe tbody tr th:only-of-type {\n",
       "        vertical-align: middle;\n",
       "    }\n",
       "\n",
       "    .dataframe tbody tr th {\n",
       "        vertical-align: top;\n",
       "    }\n",
       "\n",
       "    .dataframe thead th {\n",
       "        text-align: right;\n",
       "    }\n",
       "</style>\n",
       "<table border=\"1\" class=\"dataframe\">\n",
       "  <thead>\n",
       "    <tr style=\"text-align: right;\">\n",
       "      <th></th>\n",
       "      <th>acousticness</th>\n",
       "      <th>artists</th>\n",
       "      <th>danceability</th>\n",
       "      <th>duration_ms</th>\n",
       "      <th>energy</th>\n",
       "      <th>explicit</th>\n",
       "      <th>instrumentalness</th>\n",
       "      <th>key</th>\n",
       "      <th>liveness</th>\n",
       "      <th>loudness</th>\n",
       "      <th>mode</th>\n",
       "      <th>name</th>\n",
       "      <th>speechiness</th>\n",
       "      <th>tempo</th>\n",
       "      <th>valence</th>\n",
       "      <th>year</th>\n",
       "    </tr>\n",
       "    <tr>\n",
       "      <th>popularity</th>\n",
       "      <th></th>\n",
       "      <th></th>\n",
       "      <th></th>\n",
       "      <th></th>\n",
       "      <th></th>\n",
       "      <th></th>\n",
       "      <th></th>\n",
       "      <th></th>\n",
       "      <th></th>\n",
       "      <th></th>\n",
       "      <th></th>\n",
       "      <th></th>\n",
       "      <th></th>\n",
       "      <th></th>\n",
       "      <th></th>\n",
       "      <th></th>\n",
       "    </tr>\n",
       "  </thead>\n",
       "  <tbody>\n",
       "    <tr>\n",
       "      <th>0.0</th>\n",
       "      <td>0.878892</td>\n",
       "      <td>13693.528805</td>\n",
       "      <td>0.457754</td>\n",
       "      <td>234534.040357</td>\n",
       "      <td>0.258950</td>\n",
       "      <td>0.028697</td>\n",
       "      <td>0.316474</td>\n",
       "      <td>5.114548</td>\n",
       "      <td>0.225055</td>\n",
       "      <td>-15.630646</td>\n",
       "      <td>0.721040</td>\n",
       "      <td>68877.621581</td>\n",
       "      <td>0.124030</td>\n",
       "      <td>108.089090</td>\n",
       "      <td>0.449714</td>\n",
       "      <td>1946.131963</td>\n",
       "    </tr>\n",
       "    <tr>\n",
       "      <th>1.0</th>\n",
       "      <td>0.473336</td>\n",
       "      <td>14040.474375</td>\n",
       "      <td>0.520145</td>\n",
       "      <td>243404.482187</td>\n",
       "      <td>0.491753</td>\n",
       "      <td>0.036029</td>\n",
       "      <td>0.148820</td>\n",
       "      <td>5.154933</td>\n",
       "      <td>0.213240</td>\n",
       "      <td>-12.112604</td>\n",
       "      <td>0.727349</td>\n",
       "      <td>66115.509516</td>\n",
       "      <td>0.074406</td>\n",
       "      <td>117.457454</td>\n",
       "      <td>0.543012</td>\n",
       "      <td>1976.574396</td>\n",
       "    </tr>\n",
       "    <tr>\n",
       "      <th>2.0</th>\n",
       "      <td>0.289842</td>\n",
       "      <td>13705.152348</td>\n",
       "      <td>0.587983</td>\n",
       "      <td>239508.650941</td>\n",
       "      <td>0.610785</td>\n",
       "      <td>0.207180</td>\n",
       "      <td>0.080006</td>\n",
       "      <td>5.236712</td>\n",
       "      <td>0.192876</td>\n",
       "      <td>-8.549790</td>\n",
       "      <td>0.673116</td>\n",
       "      <td>64352.239108</td>\n",
       "      <td>0.094809</td>\n",
       "      <td>119.802885</td>\n",
       "      <td>0.517076</td>\n",
       "      <td>2001.770398</td>\n",
       "    </tr>\n",
       "  </tbody>\n",
       "</table>\n",
       "</div>"
      ],
      "text/plain": [
       "            acousticness       artists  danceability    duration_ms    energy  \\\n",
       "popularity                                                                      \n",
       "0.0             0.878892  13693.528805      0.457754  234534.040357  0.258950   \n",
       "1.0             0.473336  14040.474375      0.520145  243404.482187  0.491753   \n",
       "2.0             0.289842  13705.152348      0.587983  239508.650941  0.610785   \n",
       "\n",
       "            explicit  instrumentalness       key  liveness   loudness  \\\n",
       "popularity                                                              \n",
       "0.0         0.028697          0.316474  5.114548  0.225055 -15.630646   \n",
       "1.0         0.036029          0.148820  5.154933  0.213240 -12.112604   \n",
       "2.0         0.207180          0.080006  5.236712  0.192876  -8.549790   \n",
       "\n",
       "                mode          name  speechiness       tempo   valence  \\\n",
       "popularity                                                              \n",
       "0.0         0.721040  68877.621581     0.124030  108.089090  0.449714   \n",
       "1.0         0.727349  66115.509516     0.074406  117.457454  0.543012   \n",
       "2.0         0.673116  64352.239108     0.094809  119.802885  0.517076   \n",
       "\n",
       "                   year  \n",
       "popularity               \n",
       "0.0         1946.131963  \n",
       "1.0         1976.574396  \n",
       "2.0         2001.770398  "
      ]
     },
     "execution_count": 26,
     "metadata": {},
     "output_type": "execute_result"
    }
   ],
   "source": [
    "data.groupby(by=['popularity']).mean()"
   ]
  },
  {
   "cell_type": "markdown",
   "metadata": {},
   "source": [
    "## Modelação "
   ]
  },
  {
   "cell_type": "markdown",
   "metadata": {},
   "source": [
    "Partição dos Dados entre dados de treino e teste"
   ]
  },
  {
   "cell_type": "code",
   "execution_count": 27,
   "metadata": {},
   "outputs": [
    {
     "data": {
      "text/html": [
       "<div>\n",
       "<style scoped>\n",
       "    .dataframe tbody tr th:only-of-type {\n",
       "        vertical-align: middle;\n",
       "    }\n",
       "\n",
       "    .dataframe tbody tr th {\n",
       "        vertical-align: top;\n",
       "    }\n",
       "\n",
       "    .dataframe thead th {\n",
       "        text-align: right;\n",
       "    }\n",
       "</style>\n",
       "<table border=\"1\" class=\"dataframe\">\n",
       "  <thead>\n",
       "    <tr style=\"text-align: right;\">\n",
       "      <th></th>\n",
       "      <th>acousticness</th>\n",
       "      <th>artists</th>\n",
       "      <th>danceability</th>\n",
       "      <th>duration_ms</th>\n",
       "      <th>energy</th>\n",
       "      <th>explicit</th>\n",
       "      <th>instrumentalness</th>\n",
       "      <th>key</th>\n",
       "      <th>liveness</th>\n",
       "      <th>loudness</th>\n",
       "      <th>mode</th>\n",
       "      <th>name</th>\n",
       "      <th>speechiness</th>\n",
       "      <th>tempo</th>\n",
       "      <th>valence</th>\n",
       "      <th>year</th>\n",
       "    </tr>\n",
       "  </thead>\n",
       "  <tbody>\n",
       "    <tr>\n",
       "      <th>0</th>\n",
       "      <td>0.9950</td>\n",
       "      <td>4166</td>\n",
       "      <td>0.708</td>\n",
       "      <td>158648</td>\n",
       "      <td>0.1950</td>\n",
       "      <td>0</td>\n",
       "      <td>0.56300</td>\n",
       "      <td>10</td>\n",
       "      <td>0.1510</td>\n",
       "      <td>-12.428</td>\n",
       "      <td>1</td>\n",
       "      <td>96100</td>\n",
       "      <td>0.0506</td>\n",
       "      <td>118.469</td>\n",
       "      <td>0.7790</td>\n",
       "      <td>1928</td>\n",
       "    </tr>\n",
       "    <tr>\n",
       "      <th>1</th>\n",
       "      <td>0.9940</td>\n",
       "      <td>20519</td>\n",
       "      <td>0.379</td>\n",
       "      <td>282133</td>\n",
       "      <td>0.0135</td>\n",
       "      <td>0</td>\n",
       "      <td>0.90100</td>\n",
       "      <td>8</td>\n",
       "      <td>0.0763</td>\n",
       "      <td>-28.454</td>\n",
       "      <td>1</td>\n",
       "      <td>34247</td>\n",
       "      <td>0.0462</td>\n",
       "      <td>83.972</td>\n",
       "      <td>0.0767</td>\n",
       "      <td>1928</td>\n",
       "    </tr>\n",
       "    <tr>\n",
       "      <th>1</th>\n",
       "      <td>0.9940</td>\n",
       "      <td>26210</td>\n",
       "      <td>0.379</td>\n",
       "      <td>282133</td>\n",
       "      <td>0.0135</td>\n",
       "      <td>0</td>\n",
       "      <td>0.90100</td>\n",
       "      <td>8</td>\n",
       "      <td>0.0763</td>\n",
       "      <td>-28.454</td>\n",
       "      <td>1</td>\n",
       "      <td>34247</td>\n",
       "      <td>0.0462</td>\n",
       "      <td>83.972</td>\n",
       "      <td>0.0767</td>\n",
       "      <td>1928</td>\n",
       "    </tr>\n",
       "    <tr>\n",
       "      <th>2</th>\n",
       "      <td>0.6040</td>\n",
       "      <td>21595</td>\n",
       "      <td>0.749</td>\n",
       "      <td>104300</td>\n",
       "      <td>0.2200</td>\n",
       "      <td>0</td>\n",
       "      <td>0.00000</td>\n",
       "      <td>5</td>\n",
       "      <td>0.1190</td>\n",
       "      <td>-19.924</td>\n",
       "      <td>0</td>\n",
       "      <td>18622</td>\n",
       "      <td>0.9290</td>\n",
       "      <td>107.177</td>\n",
       "      <td>0.8800</td>\n",
       "      <td>1928</td>\n",
       "    </tr>\n",
       "    <tr>\n",
       "      <th>3</th>\n",
       "      <td>0.9950</td>\n",
       "      <td>8356</td>\n",
       "      <td>0.781</td>\n",
       "      <td>180760</td>\n",
       "      <td>0.1300</td>\n",
       "      <td>0</td>\n",
       "      <td>0.88700</td>\n",
       "      <td>1</td>\n",
       "      <td>0.1110</td>\n",
       "      <td>-14.734</td>\n",
       "      <td>0</td>\n",
       "      <td>11093</td>\n",
       "      <td>0.0926</td>\n",
       "      <td>108.003</td>\n",
       "      <td>0.7200</td>\n",
       "      <td>1928</td>\n",
       "    </tr>\n",
       "    <tr>\n",
       "      <th>...</th>\n",
       "      <td>...</td>\n",
       "      <td>...</td>\n",
       "      <td>...</td>\n",
       "      <td>...</td>\n",
       "      <td>...</td>\n",
       "      <td>...</td>\n",
       "      <td>...</td>\n",
       "      <td>...</td>\n",
       "      <td>...</td>\n",
       "      <td>...</td>\n",
       "      <td>...</td>\n",
       "      <td>...</td>\n",
       "      <td>...</td>\n",
       "      <td>...</td>\n",
       "      <td>...</td>\n",
       "      <td>...</td>\n",
       "    </tr>\n",
       "    <tr>\n",
       "      <th>169906</th>\n",
       "      <td>0.5380</td>\n",
       "      <td>13656</td>\n",
       "      <td>0.514</td>\n",
       "      <td>180700</td>\n",
       "      <td>0.5390</td>\n",
       "      <td>0</td>\n",
       "      <td>0.00233</td>\n",
       "      <td>7</td>\n",
       "      <td>0.1080</td>\n",
       "      <td>-9.332</td>\n",
       "      <td>1</td>\n",
       "      <td>45940</td>\n",
       "      <td>0.1050</td>\n",
       "      <td>123.700</td>\n",
       "      <td>0.1530</td>\n",
       "      <td>2020</td>\n",
       "    </tr>\n",
       "    <tr>\n",
       "      <th>169906</th>\n",
       "      <td>0.5380</td>\n",
       "      <td>18049</td>\n",
       "      <td>0.514</td>\n",
       "      <td>180700</td>\n",
       "      <td>0.5390</td>\n",
       "      <td>0</td>\n",
       "      <td>0.00233</td>\n",
       "      <td>7</td>\n",
       "      <td>0.1080</td>\n",
       "      <td>-9.332</td>\n",
       "      <td>1</td>\n",
       "      <td>45940</td>\n",
       "      <td>0.1050</td>\n",
       "      <td>123.700</td>\n",
       "      <td>0.1530</td>\n",
       "      <td>2020</td>\n",
       "    </tr>\n",
       "    <tr>\n",
       "      <th>169907</th>\n",
       "      <td>0.0714</td>\n",
       "      <td>4302</td>\n",
       "      <td>0.646</td>\n",
       "      <td>167308</td>\n",
       "      <td>0.7610</td>\n",
       "      <td>0</td>\n",
       "      <td>0.00000</td>\n",
       "      <td>1</td>\n",
       "      <td>0.2220</td>\n",
       "      <td>-2.557</td>\n",
       "      <td>1</td>\n",
       "      <td>47513</td>\n",
       "      <td>0.0385</td>\n",
       "      <td>129.916</td>\n",
       "      <td>0.4720</td>\n",
       "      <td>2020</td>\n",
       "    </tr>\n",
       "    <tr>\n",
       "      <th>169907</th>\n",
       "      <td>0.0714</td>\n",
       "      <td>1534</td>\n",
       "      <td>0.646</td>\n",
       "      <td>167308</td>\n",
       "      <td>0.7610</td>\n",
       "      <td>0</td>\n",
       "      <td>0.00000</td>\n",
       "      <td>1</td>\n",
       "      <td>0.2220</td>\n",
       "      <td>-2.557</td>\n",
       "      <td>1</td>\n",
       "      <td>47513</td>\n",
       "      <td>0.0385</td>\n",
       "      <td>129.916</td>\n",
       "      <td>0.4720</td>\n",
       "      <td>2020</td>\n",
       "    </tr>\n",
       "    <tr>\n",
       "      <th>169908</th>\n",
       "      <td>0.1090</td>\n",
       "      <td>10702</td>\n",
       "      <td>0.512</td>\n",
       "      <td>214787</td>\n",
       "      <td>0.4280</td>\n",
       "      <td>0</td>\n",
       "      <td>0.00000</td>\n",
       "      <td>0</td>\n",
       "      <td>0.1050</td>\n",
       "      <td>-7.387</td>\n",
       "      <td>1</td>\n",
       "      <td>71861</td>\n",
       "      <td>0.0271</td>\n",
       "      <td>80.588</td>\n",
       "      <td>0.3660</td>\n",
       "      <td>2020</td>\n",
       "    </tr>\n",
       "  </tbody>\n",
       "</table>\n",
       "<p>225405 rows × 16 columns</p>\n",
       "</div>"
      ],
      "text/plain": [
       "        acousticness  artists  danceability  duration_ms  energy  explicit  \\\n",
       "0             0.9950     4166         0.708       158648  0.1950         0   \n",
       "1             0.9940    20519         0.379       282133  0.0135         0   \n",
       "1             0.9940    26210         0.379       282133  0.0135         0   \n",
       "2             0.6040    21595         0.749       104300  0.2200         0   \n",
       "3             0.9950     8356         0.781       180760  0.1300         0   \n",
       "...              ...      ...           ...          ...     ...       ...   \n",
       "169906        0.5380    13656         0.514       180700  0.5390         0   \n",
       "169906        0.5380    18049         0.514       180700  0.5390         0   \n",
       "169907        0.0714     4302         0.646       167308  0.7610         0   \n",
       "169907        0.0714     1534         0.646       167308  0.7610         0   \n",
       "169908        0.1090    10702         0.512       214787  0.4280         0   \n",
       "\n",
       "        instrumentalness  key  liveness  loudness  mode   name  speechiness  \\\n",
       "0                0.56300   10    0.1510   -12.428     1  96100       0.0506   \n",
       "1                0.90100    8    0.0763   -28.454     1  34247       0.0462   \n",
       "1                0.90100    8    0.0763   -28.454     1  34247       0.0462   \n",
       "2                0.00000    5    0.1190   -19.924     0  18622       0.9290   \n",
       "3                0.88700    1    0.1110   -14.734     0  11093       0.0926   \n",
       "...                  ...  ...       ...       ...   ...    ...          ...   \n",
       "169906           0.00233    7    0.1080    -9.332     1  45940       0.1050   \n",
       "169906           0.00233    7    0.1080    -9.332     1  45940       0.1050   \n",
       "169907           0.00000    1    0.2220    -2.557     1  47513       0.0385   \n",
       "169907           0.00000    1    0.2220    -2.557     1  47513       0.0385   \n",
       "169908           0.00000    0    0.1050    -7.387     1  71861       0.0271   \n",
       "\n",
       "          tempo  valence  year  \n",
       "0       118.469   0.7790  1928  \n",
       "1        83.972   0.0767  1928  \n",
       "1        83.972   0.0767  1928  \n",
       "2       107.177   0.8800  1928  \n",
       "3       108.003   0.7200  1928  \n",
       "...         ...      ...   ...  \n",
       "169906  123.700   0.1530  2020  \n",
       "169906  123.700   0.1530  2020  \n",
       "169907  129.916   0.4720  2020  \n",
       "169907  129.916   0.4720  2020  \n",
       "169908   80.588   0.3660  2020  \n",
       "\n",
       "[225405 rows x 16 columns]"
      ]
     },
     "execution_count": 27,
     "metadata": {},
     "output_type": "execute_result"
    }
   ],
   "source": [
    "X = data.drop(['popularity'], axis=1)\n",
    "y = data['popularity']\n",
    "X"
   ]
  },
  {
   "cell_type": "code",
   "execution_count": 28,
   "metadata": {},
   "outputs": [],
   "source": [
    "from sklearn.model_selection import GridSearchCV, KFold, train_test_split\n",
    "X_train, X_test, y_train, y_test = train_test_split(X, y, test_size=0.3, random_state=101)"
   ]
  },
  {
   "cell_type": "markdown",
   "metadata": {},
   "source": [
    "### Modelo de Árvores de Decisão"
   ]
  },
  {
   "cell_type": "markdown",
   "metadata": {},
   "source": [
    "Vamos agora criar um modelo de árvores de decisão para prever o intervalo de popularidade de uma música."
   ]
  },
  {
   "cell_type": "code",
   "execution_count": 29,
   "metadata": {},
   "outputs": [],
   "source": [
    "\"\"\"\n",
    "Hyperparameters:\n",
    "criterion - The function to measure the quality of a split.\n",
    "    \"entropy\" - Entropy = 0 means it is pure split (all instances are of only 1 class). Entropy = 1 means it is impure split.\n",
    "    \"gini\" - \n",
    "max_depth - The maximum number of levels in the tree.\n",
    "min_samples_leaf - The minimum number of samples allowed in a leaf.\n",
    "min_samples_split - The minimum number of samples required to split an internal node.\n",
    "\"\"\"\n",
    "classifier = DecisionTreeClassifier(random_state=2023, criterion='entropy', splitter='best') "
   ]
  },
  {
   "cell_type": "code",
   "execution_count": 30,
   "metadata": {},
   "outputs": [
    {
     "data": {
      "text/plain": [
       "158485    1.0\n",
       "67032     1.0\n",
       "72009     0.0\n",
       "123893    2.0\n",
       "70867     0.0\n",
       "         ... \n",
       "102634    2.0\n",
       "154169    0.0\n",
       "161682    0.0\n",
       "161803    0.0\n",
       "133470    2.0\n",
       "Name: popularity, Length: 157783, dtype: float64"
      ]
     },
     "execution_count": 30,
     "metadata": {},
     "output_type": "execute_result"
    }
   ],
   "source": [
    "y_train"
   ]
  },
  {
   "cell_type": "code",
   "execution_count": 31,
   "metadata": {},
   "outputs": [
    {
     "data": {
      "text/html": [
       "<style>#sk-container-id-1 {color: black;}#sk-container-id-1 pre{padding: 0;}#sk-container-id-1 div.sk-toggleable {background-color: white;}#sk-container-id-1 label.sk-toggleable__label {cursor: pointer;display: block;width: 100%;margin-bottom: 0;padding: 0.3em;box-sizing: border-box;text-align: center;}#sk-container-id-1 label.sk-toggleable__label-arrow:before {content: \"▸\";float: left;margin-right: 0.25em;color: #696969;}#sk-container-id-1 label.sk-toggleable__label-arrow:hover:before {color: black;}#sk-container-id-1 div.sk-estimator:hover label.sk-toggleable__label-arrow:before {color: black;}#sk-container-id-1 div.sk-toggleable__content {max-height: 0;max-width: 0;overflow: hidden;text-align: left;background-color: #f0f8ff;}#sk-container-id-1 div.sk-toggleable__content pre {margin: 0.2em;color: black;border-radius: 0.25em;background-color: #f0f8ff;}#sk-container-id-1 input.sk-toggleable__control:checked~div.sk-toggleable__content {max-height: 200px;max-width: 100%;overflow: auto;}#sk-container-id-1 input.sk-toggleable__control:checked~label.sk-toggleable__label-arrow:before {content: \"▾\";}#sk-container-id-1 div.sk-estimator input.sk-toggleable__control:checked~label.sk-toggleable__label {background-color: #d4ebff;}#sk-container-id-1 div.sk-label input.sk-toggleable__control:checked~label.sk-toggleable__label {background-color: #d4ebff;}#sk-container-id-1 input.sk-hidden--visually {border: 0;clip: rect(1px 1px 1px 1px);clip: rect(1px, 1px, 1px, 1px);height: 1px;margin: -1px;overflow: hidden;padding: 0;position: absolute;width: 1px;}#sk-container-id-1 div.sk-estimator {font-family: monospace;background-color: #f0f8ff;border: 1px dotted black;border-radius: 0.25em;box-sizing: border-box;margin-bottom: 0.5em;}#sk-container-id-1 div.sk-estimator:hover {background-color: #d4ebff;}#sk-container-id-1 div.sk-parallel-item::after {content: \"\";width: 100%;border-bottom: 1px solid gray;flex-grow: 1;}#sk-container-id-1 div.sk-label:hover label.sk-toggleable__label {background-color: #d4ebff;}#sk-container-id-1 div.sk-serial::before {content: \"\";position: absolute;border-left: 1px solid gray;box-sizing: border-box;top: 0;bottom: 0;left: 50%;z-index: 0;}#sk-container-id-1 div.sk-serial {display: flex;flex-direction: column;align-items: center;background-color: white;padding-right: 0.2em;padding-left: 0.2em;position: relative;}#sk-container-id-1 div.sk-item {position: relative;z-index: 1;}#sk-container-id-1 div.sk-parallel {display: flex;align-items: stretch;justify-content: center;background-color: white;position: relative;}#sk-container-id-1 div.sk-item::before, #sk-container-id-1 div.sk-parallel-item::before {content: \"\";position: absolute;border-left: 1px solid gray;box-sizing: border-box;top: 0;bottom: 0;left: 50%;z-index: -1;}#sk-container-id-1 div.sk-parallel-item {display: flex;flex-direction: column;z-index: 1;position: relative;background-color: white;}#sk-container-id-1 div.sk-parallel-item:first-child::after {align-self: flex-end;width: 50%;}#sk-container-id-1 div.sk-parallel-item:last-child::after {align-self: flex-start;width: 50%;}#sk-container-id-1 div.sk-parallel-item:only-child::after {width: 0;}#sk-container-id-1 div.sk-dashed-wrapped {border: 1px dashed gray;margin: 0 0.4em 0.5em 0.4em;box-sizing: border-box;padding-bottom: 0.4em;background-color: white;}#sk-container-id-1 div.sk-label label {font-family: monospace;font-weight: bold;display: inline-block;line-height: 1.2em;}#sk-container-id-1 div.sk-label-container {text-align: center;}#sk-container-id-1 div.sk-container {/* jupyter's `normalize.less` sets `[hidden] { display: none; }` but bootstrap.min.css set `[hidden] { display: none !important; }` so we also need the `!important` here to be able to override the default hidden behavior on the sphinx rendered scikit-learn.org. See: https://github.com/scikit-learn/scikit-learn/issues/21755 */display: inline-block !important;position: relative;}#sk-container-id-1 div.sk-text-repr-fallback {display: none;}</style><div id=\"sk-container-id-1\" class=\"sk-top-container\"><div class=\"sk-text-repr-fallback\"><pre>DecisionTreeClassifier(criterion=&#x27;entropy&#x27;, random_state=2023)</pre><b>In a Jupyter environment, please rerun this cell to show the HTML representation or trust the notebook. <br />On GitHub, the HTML representation is unable to render, please try loading this page with nbviewer.org.</b></div><div class=\"sk-container\" hidden><div class=\"sk-item\"><div class=\"sk-estimator sk-toggleable\"><input class=\"sk-toggleable__control sk-hidden--visually\" id=\"sk-estimator-id-1\" type=\"checkbox\" checked><label for=\"sk-estimator-id-1\" class=\"sk-toggleable__label sk-toggleable__label-arrow\">DecisionTreeClassifier</label><div class=\"sk-toggleable__content\"><pre>DecisionTreeClassifier(criterion=&#x27;entropy&#x27;, random_state=2023)</pre></div></div></div></div></div>"
      ],
      "text/plain": [
       "DecisionTreeClassifier(criterion='entropy', random_state=2023)"
      ]
     },
     "execution_count": 31,
     "metadata": {},
     "output_type": "execute_result"
    }
   ],
   "source": [
    "classifier.fit(X_train, y_train)"
   ]
  },
  {
   "cell_type": "code",
   "execution_count": 32,
   "metadata": {},
   "outputs": [
    {
     "data": {
      "text/plain": [
       "array([1., 0., 1., ..., 1., 0., 2.])"
      ]
     },
     "execution_count": 32,
     "metadata": {},
     "output_type": "execute_result"
    }
   ],
   "source": [
    "d_tree_predictions = classifier.predict(X_test)\n",
    "d_tree_predictions"
   ]
  },
  {
   "cell_type": "code",
   "execution_count": 36,
   "metadata": {},
   "outputs": [
    {
     "data": {
      "text/html": [
       "<div>\n",
       "<style scoped>\n",
       "    .dataframe tbody tr th:only-of-type {\n",
       "        vertical-align: middle;\n",
       "    }\n",
       "\n",
       "    .dataframe tbody tr th {\n",
       "        vertical-align: top;\n",
       "    }\n",
       "\n",
       "    .dataframe thead th {\n",
       "        text-align: right;\n",
       "    }\n",
       "</style>\n",
       "<table border=\"1\" class=\"dataframe\">\n",
       "  <thead>\n",
       "    <tr style=\"text-align: right;\">\n",
       "      <th></th>\n",
       "      <th>prediction</th>\n",
       "      <th>popularity</th>\n",
       "    </tr>\n",
       "  </thead>\n",
       "  <tbody>\n",
       "    <tr>\n",
       "      <th>4</th>\n",
       "      <td>0.0</td>\n",
       "      <td>0.0</td>\n",
       "    </tr>\n",
       "    <tr>\n",
       "      <th>6</th>\n",
       "      <td>1.0</td>\n",
       "      <td>0.0</td>\n",
       "    </tr>\n",
       "    <tr>\n",
       "      <th>8</th>\n",
       "      <td>1.0</td>\n",
       "      <td>0.0</td>\n",
       "    </tr>\n",
       "    <tr>\n",
       "      <th>11</th>\n",
       "      <td>1.0</td>\n",
       "      <td>0.0</td>\n",
       "    </tr>\n",
       "    <tr>\n",
       "      <th>12</th>\n",
       "      <td>1.0</td>\n",
       "      <td>0.0</td>\n",
       "    </tr>\n",
       "  </tbody>\n",
       "</table>\n",
       "</div>"
      ],
      "text/plain": [
       "    prediction  popularity\n",
       "4          0.0         0.0\n",
       "6          1.0         0.0\n",
       "8          1.0         0.0\n",
       "11         1.0         0.0\n",
       "12         1.0         0.0"
      ]
     },
     "execution_count": 36,
     "metadata": {},
     "output_type": "execute_result"
    }
   ],
   "source": [
    "df = pd.DataFrame(d_tree_predictions, columns = ['prediction'])\n",
    "pred_actual = df.merge(right=y_test, left_index=True, right_index=True)\n",
    "pred_actual.head()"
   ]
  },
  {
   "cell_type": "code",
   "execution_count": 37,
   "metadata": {},
   "outputs": [
    {
     "data": {
      "image/png": "[encoded data removed]",
      "text/plain": [
       "<Figure size 640x480 with 1 Axes>"
      ]
     },
     "metadata": {},
     "output_type": "display_data"
    }
   ],
   "source": [
    "# Create histograms for each column\n",
    "plt.hist(pred_actual['prediction'], align='left', bins=30, alpha=0.5, label='Prediction')\n",
    "plt.hist(pred_actual['popularity'], align='right', bins=30, alpha=0.5, label='Real Value')\n",
    "\n",
    "# Add labels and title\n",
    "plt.xlabel('Value')\n",
    "plt.ylabel('Frequency')\n",
    "plt.title('Histogram for Two Columns')\n",
    "plt.legend()  # Show legend with labels\n",
    "\n",
    "# Display the plot\n",
    "plt.show()"
   ]
  },
  {
   "cell_type": "code",
   "execution_count": 38,
   "metadata": {},
   "outputs": [
    {
     "data": {
      "text/plain": [
       "array([[20512,  1576,   159],\n",
       "       [ 1568, 15705,  5025],\n",
       "       [  166,  4966, 17945]])"
      ]
     },
     "execution_count": 38,
     "metadata": {},
     "output_type": "execute_result"
    }
   ],
   "source": [
    "confusion_matrix(y_test, d_tree_predictions)"
   ]
  },
  {
   "cell_type": "code",
   "execution_count": 43,
   "metadata": {},
   "outputs": [
    {
     "name": "stdout",
     "output_type": "stream",
     "text": [
      "              precision    recall  f1-score   support\n",
      "\n",
      "         0.0       0.92      0.92      0.92     22247\n",
      "         1.0       0.71      0.70      0.71     22298\n",
      "         2.0       0.78      0.78      0.78     23077\n",
      "\n",
      "    accuracy                           0.80     67622\n",
      "   macro avg       0.80      0.80      0.80     67622\n",
      "weighted avg       0.80      0.80      0.80     67622\n",
      "\n"
     ]
    }
   ],
   "source": [
    "print(classification_report(y_test, d_tree_predictions))"
   ]
  },
  {
   "cell_type": "markdown",
   "metadata": {},
   "source": [
    "##### Árvores de Decisão com cross-validation"
   ]
  },
  {
   "cell_type": "code",
   "execution_count": 44,
   "metadata": {},
   "outputs": [],
   "source": [
    "cross_valid_model = LinearRegression()"
   ]
  },
  {
   "cell_type": "code",
   "execution_count": 46,
   "metadata": {},
   "outputs": [],
   "source": [
    "scores = cross_val_score(classifier, X_train, y_train, cv=5, scoring='accuracy')"
   ]
  },
  {
   "cell_type": "code",
   "execution_count": 47,
   "metadata": {},
   "outputs": [
    {
     "data": {
      "text/plain": [
       "0.7952440897389164"
      ]
     },
     "execution_count": 47,
     "metadata": {},
     "output_type": "execute_result"
    }
   ],
   "source": [
    "scores.mean()"
   ]
  },
  {
   "cell_type": "code",
   "execution_count": 48,
   "metadata": {},
   "outputs": [
    {
     "data": {
      "text/plain": [
       "0.0015576208001367056"
      ]
     },
     "execution_count": 48,
     "metadata": {},
     "output_type": "execute_result"
    }
   ],
   "source": [
    "scores.std()"
   ]
  },
  {
   "cell_type": "markdown",
   "metadata": {},
   "source": [
    "Grid Search"
   ]
  },
  {
   "cell_type": "code",
   "execution_count": 49,
   "metadata": {},
   "outputs": [],
   "source": [
    "param_grid = {'criterion':['gini','entropy'],'max_depth':[4,5,6,7,8,9,10,11,12,15,20,30,40,50,70,90,120,150]}\n",
    "\n",
    "grid_clf_dtrees = GridSearchCV(classifier, param_grid, refit=True, verbose=3)"
   ]
  },
  {
   "cell_type": "code",
   "execution_count": 50,
   "metadata": {},
   "outputs": [
    {
     "name": "stdout",
     "output_type": "stream",
     "text": [
      "Fitting 5 folds for each of 36 candidates, totalling 180 fits\n",
      "[CV 1/5] END .......criterion=gini, max_depth=4;, score=0.813 total time=   0.8s\n",
      "[CV 2/5] END .......criterion=gini, max_depth=4;, score=0.816 total time=   0.8s\n",
      "[CV 3/5] END .......criterion=gini, max_depth=4;, score=0.814 total time=   0.8s\n",
      "[CV 4/5] END .......criterion=gini, max_depth=4;, score=0.816 total time=   0.8s\n",
      "[CV 5/5] END .......criterion=gini, max_depth=4;, score=0.817 total time=   0.9s\n",
      "[CV 1/5] END .......criterion=gini, max_depth=5;, score=0.814 total time=   0.9s\n",
      "[CV 2/5] END .......criterion=gini, max_depth=5;, score=0.817 total time=   0.9s\n",
      "[CV 3/5] END .......criterion=gini, max_depth=5;, score=0.816 total time=   0.9s\n",
      "[CV 4/5] END .......criterion=gini, max_depth=5;, score=0.816 total time=   0.9s\n",
      "[CV 5/5] END .......criterion=gini, max_depth=5;, score=0.818 total time=   0.9s\n",
      "[CV 1/5] END .......criterion=gini, max_depth=6;, score=0.813 total time=   1.1s\n",
      "[CV 2/5] END .......criterion=gini, max_depth=6;, score=0.817 total time=   1.2s\n",
      "[CV 3/5] END .......criterion=gini, max_depth=6;, score=0.816 total time=   1.2s\n",
      "[CV 4/5] END .......criterion=gini, max_depth=6;, score=0.817 total time=   1.1s\n",
      "[CV 5/5] END .......criterion=gini, max_depth=6;, score=0.818 total time=   1.1s\n",
      "[CV 1/5] END .......criterion=gini, max_depth=7;, score=0.815 total time=   1.2s\n",
      "[CV 2/5] END .......criterion=gini, max_depth=7;, score=0.819 total time=   1.2s\n",
      "[CV 3/5] END .......criterion=gini, max_depth=7;, score=0.817 total time=   1.3s\n",
      "[CV 4/5] END .......criterion=gini, max_depth=7;, score=0.818 total time=   1.3s\n",
      "[CV 5/5] END .......criterion=gini, max_depth=7;, score=0.819 total time=   1.3s\n",
      "[CV 1/5] END .......criterion=gini, max_depth=8;, score=0.812 total time=   1.5s\n",
      "[CV 2/5] END .......criterion=gini, max_depth=8;, score=0.818 total time=   1.4s\n",
      "[CV 3/5] END .......criterion=gini, max_depth=8;, score=0.816 total time=   1.5s\n",
      "[CV 4/5] END .......criterion=gini, max_depth=8;, score=0.820 total time=   1.5s\n",
      "[CV 5/5] END .......criterion=gini, max_depth=8;, score=0.820 total time=   1.5s\n",
      "[CV 1/5] END .......criterion=gini, max_depth=9;, score=0.816 total time=   1.6s\n",
      "[CV 2/5] END .......criterion=gini, max_depth=9;, score=0.821 total time=   1.6s\n",
      "[CV 3/5] END .......criterion=gini, max_depth=9;, score=0.819 total time=   1.6s\n",
      "[CV 4/5] END .......criterion=gini, max_depth=9;, score=0.820 total time=   1.6s\n",
      "[CV 5/5] END .......criterion=gini, max_depth=9;, score=0.820 total time=   1.6s\n",
      "[CV 1/5] END ......criterion=gini, max_depth=10;, score=0.815 total time=   1.7s\n",
      "[CV 2/5] END ......criterion=gini, max_depth=10;, score=0.821 total time=   1.7s\n",
      "[CV 3/5] END ......criterion=gini, max_depth=10;, score=0.818 total time=   1.6s\n",
      "[CV 4/5] END ......criterion=gini, max_depth=10;, score=0.821 total time=   1.8s\n",
      "[CV 5/5] END ......criterion=gini, max_depth=10;, score=0.821 total time=   1.7s\n",
      "[CV 1/5] END ......criterion=gini, max_depth=11;, score=0.817 total time=   1.9s\n",
      "[CV 2/5] END ......criterion=gini, max_depth=11;, score=0.821 total time=   1.9s\n",
      "[CV 3/5] END ......criterion=gini, max_depth=11;, score=0.818 total time=   1.9s\n",
      "[CV 4/5] END ......criterion=gini, max_depth=11;, score=0.819 total time=   1.9s\n",
      "[CV 5/5] END ......criterion=gini, max_depth=11;, score=0.821 total time=   1.9s\n",
      "[CV 1/5] END ......criterion=gini, max_depth=12;, score=0.816 total time=   2.1s\n",
      "[CV 2/5] END ......criterion=gini, max_depth=12;, score=0.819 total time=   2.0s\n",
      "[CV 3/5] END ......criterion=gini, max_depth=12;, score=0.817 total time=   2.0s\n",
      "[CV 4/5] END ......criterion=gini, max_depth=12;, score=0.817 total time=   2.0s\n",
      "[CV 5/5] END ......criterion=gini, max_depth=12;, score=0.822 total time=   2.1s\n",
      "[CV 1/5] END ......criterion=gini, max_depth=15;, score=0.811 total time=   2.4s\n",
      "[CV 2/5] END ......criterion=gini, max_depth=15;, score=0.816 total time=   2.3s\n",
      "[CV 3/5] END ......criterion=gini, max_depth=15;, score=0.817 total time=   2.3s\n",
      "[CV 4/5] END ......criterion=gini, max_depth=15;, score=0.814 total time=   2.3s\n",
      "[CV 5/5] END ......criterion=gini, max_depth=15;, score=0.817 total time=   2.4s\n",
      "[CV 1/5] END ......criterion=gini, max_depth=20;, score=0.805 total time=   2.7s\n",
      "[CV 2/5] END ......criterion=gini, max_depth=20;, score=0.807 total time=   2.7s\n",
      "[CV 3/5] END ......criterion=gini, max_depth=20;, score=0.809 total time=   2.7s\n",
      "[CV 4/5] END ......criterion=gini, max_depth=20;, score=0.803 total time=   2.8s\n",
      "[CV 5/5] END ......criterion=gini, max_depth=20;, score=0.807 total time=   2.8s\n",
      "[CV 1/5] END ......criterion=gini, max_depth=30;, score=0.798 total time=   3.0s\n",
      "[CV 2/5] END ......criterion=gini, max_depth=30;, score=0.794 total time=   2.9s\n",
      "[CV 3/5] END ......criterion=gini, max_depth=30;, score=0.797 total time=   3.0s\n",
      "[CV 4/5] END ......criterion=gini, max_depth=30;, score=0.793 total time=   3.1s\n",
      "[CV 5/5] END ......criterion=gini, max_depth=30;, score=0.795 total time=   3.0s\n",
      "[CV 1/5] END ......criterion=gini, max_depth=40;, score=0.795 total time=   3.1s\n",
      "[CV 2/5] END ......criterion=gini, max_depth=40;, score=0.792 total time=   3.3s\n",
      "[CV 3/5] END ......criterion=gini, max_depth=40;, score=0.794 total time=   3.3s\n",
      "[CV 4/5] END ......criterion=gini, max_depth=40;, score=0.794 total time=   3.5s\n",
      "[CV 5/5] END ......criterion=gini, max_depth=40;, score=0.793 total time=   3.0s\n",
      "[CV 1/5] END ......criterion=gini, max_depth=50;, score=0.795 total time=   2.9s\n",
      "[CV 2/5] END ......criterion=gini, max_depth=50;, score=0.794 total time=   3.0s\n",
      "[CV 3/5] END ......criterion=gini, max_depth=50;, score=0.794 total time=   3.0s\n",
      "[CV 4/5] END ......criterion=gini, max_depth=50;, score=0.793 total time=   3.1s\n",
      "[CV 5/5] END ......criterion=gini, max_depth=50;, score=0.792 total time=   3.0s\n",
      "[CV 1/5] END ......criterion=gini, max_depth=70;, score=0.795 total time=   3.0s\n",
      "[CV 2/5] END ......criterion=gini, max_depth=70;, score=0.794 total time=   2.9s\n",
      "[CV 3/5] END ......criterion=gini, max_depth=70;, score=0.794 total time=   3.0s\n",
      "[CV 4/5] END ......criterion=gini, max_depth=70;, score=0.793 total time=   3.1s\n",
      "[CV 5/5] END ......criterion=gini, max_depth=70;, score=0.792 total time=   3.2s\n",
      "[CV 1/5] END ......criterion=gini, max_depth=90;, score=0.795 total time=   3.5s\n",
      "[CV 2/5] END ......criterion=gini, max_depth=90;, score=0.794 total time=   3.4s\n",
      "[CV 3/5] END ......criterion=gini, max_depth=90;, score=0.794 total time=   3.7s\n",
      "[CV 4/5] END ......criterion=gini, max_depth=90;, score=0.793 total time=   3.4s\n",
      "[CV 5/5] END ......criterion=gini, max_depth=90;, score=0.792 total time=   3.3s\n",
      "[CV 1/5] END .....criterion=gini, max_depth=120;, score=0.795 total time=   3.2s\n",
      "[CV 2/5] END .....criterion=gini, max_depth=120;, score=0.794 total time=   3.0s\n",
      "[CV 3/5] END .....criterion=gini, max_depth=120;, score=0.794 total time=   3.0s\n",
      "[CV 4/5] END .....criterion=gini, max_depth=120;, score=0.793 total time=   3.1s\n",
      "[CV 5/5] END .....criterion=gini, max_depth=120;, score=0.792 total time=   3.0s\n",
      "[CV 1/5] END .....criterion=gini, max_depth=150;, score=0.795 total time=   3.2s\n",
      "[CV 2/5] END .....criterion=gini, max_depth=150;, score=0.794 total time=   3.3s\n",
      "[CV 3/5] END .....criterion=gini, max_depth=150;, score=0.794 total time=   3.1s\n",
      "[CV 4/5] END .....criterion=gini, max_depth=150;, score=0.793 total time=   3.1s\n",
      "[CV 5/5] END .....criterion=gini, max_depth=150;, score=0.792 total time=   3.1s\n",
      "[CV 1/5] END ....criterion=entropy, max_depth=4;, score=0.809 total time=   0.9s\n",
      "[CV 2/5] END ....criterion=entropy, max_depth=4;, score=0.813 total time=   0.8s\n",
      "[CV 3/5] END ....criterion=entropy, max_depth=4;, score=0.811 total time=   0.8s\n",
      "[CV 4/5] END ....criterion=entropy, max_depth=4;, score=0.813 total time=   0.8s\n",
      "[CV 5/5] END ....criterion=entropy, max_depth=4;, score=0.814 total time=   0.8s\n",
      "[CV 1/5] END ....criterion=entropy, max_depth=5;, score=0.814 total time=   1.0s\n",
      "[CV 2/5] END ....criterion=entropy, max_depth=5;, score=0.818 total time=   1.0s\n",
      "[CV 3/5] END ....criterion=entropy, max_depth=5;, score=0.816 total time=   1.0s\n",
      "[CV 4/5] END ....criterion=entropy, max_depth=5;, score=0.816 total time=   1.0s\n",
      "[CV 5/5] END ....criterion=entropy, max_depth=5;, score=0.817 total time=   1.0s\n",
      "[CV 1/5] END ....criterion=entropy, max_depth=6;, score=0.813 total time=   1.2s\n",
      "[CV 2/5] END ....criterion=entropy, max_depth=6;, score=0.818 total time=   1.2s\n",
      "[CV 3/5] END ....criterion=entropy, max_depth=6;, score=0.816 total time=   1.3s\n",
      "[CV 4/5] END ....criterion=entropy, max_depth=6;, score=0.817 total time=   1.2s\n",
      "[CV 5/5] END ....criterion=entropy, max_depth=6;, score=0.818 total time=   1.2s\n",
      "[CV 1/5] END ....criterion=entropy, max_depth=7;, score=0.814 total time=   1.4s\n",
      "[CV 2/5] END ....criterion=entropy, max_depth=7;, score=0.818 total time=   1.4s\n",
      "[CV 3/5] END ....criterion=entropy, max_depth=7;, score=0.817 total time=   1.4s\n",
      "[CV 4/5] END ....criterion=entropy, max_depth=7;, score=0.818 total time=   1.4s\n",
      "[CV 5/5] END ....criterion=entropy, max_depth=7;, score=0.818 total time=   1.4s\n",
      "[CV 1/5] END ....criterion=entropy, max_depth=8;, score=0.815 total time=   1.6s\n",
      "[CV 2/5] END ....criterion=entropy, max_depth=8;, score=0.818 total time=   1.6s\n",
      "[CV 3/5] END ....criterion=entropy, max_depth=8;, score=0.818 total time=   1.6s\n",
      "[CV 4/5] END ....criterion=entropy, max_depth=8;, score=0.819 total time=   1.6s\n",
      "[CV 5/5] END ....criterion=entropy, max_depth=8;, score=0.819 total time=   1.6s\n",
      "[CV 1/5] END ....criterion=entropy, max_depth=9;, score=0.814 total time=   1.8s\n",
      "[CV 2/5] END ....criterion=entropy, max_depth=9;, score=0.818 total time=   1.8s\n",
      "[CV 3/5] END ....criterion=entropy, max_depth=9;, score=0.816 total time=   1.7s\n",
      "[CV 4/5] END ....criterion=entropy, max_depth=9;, score=0.818 total time=   1.8s\n",
      "[CV 5/5] END ....criterion=entropy, max_depth=9;, score=0.820 total time=   1.7s\n",
      "[CV 1/5] END ...criterion=entropy, max_depth=10;, score=0.816 total time=   1.9s\n",
      "[CV 2/5] END ...criterion=entropy, max_depth=10;, score=0.820 total time=   1.9s\n",
      "[CV 3/5] END ...criterion=entropy, max_depth=10;, score=0.817 total time=   1.9s\n",
      "[CV 4/5] END ...criterion=entropy, max_depth=10;, score=0.821 total time=   1.8s\n",
      "[CV 5/5] END ...criterion=entropy, max_depth=10;, score=0.820 total time=   1.8s\n",
      "[CV 1/5] END ...criterion=entropy, max_depth=11;, score=0.817 total time=   2.0s\n",
      "[CV 2/5] END ...criterion=entropy, max_depth=11;, score=0.819 total time=   2.2s\n",
      "[CV 3/5] END ...criterion=entropy, max_depth=11;, score=0.818 total time=   2.2s\n",
      "[CV 4/5] END ...criterion=entropy, max_depth=11;, score=0.821 total time=   2.0s\n",
      "[CV 5/5] END ...criterion=entropy, max_depth=11;, score=0.818 total time=   2.0s\n",
      "[CV 1/5] END ...criterion=entropy, max_depth=12;, score=0.816 total time=   2.2s\n",
      "[CV 2/5] END ...criterion=entropy, max_depth=12;, score=0.820 total time=   2.1s\n",
      "[CV 3/5] END ...criterion=entropy, max_depth=12;, score=0.821 total time=   2.2s\n",
      "[CV 4/5] END ...criterion=entropy, max_depth=12;, score=0.820 total time=   2.2s\n",
      "[CV 5/5] END ...criterion=entropy, max_depth=12;, score=0.820 total time=   2.2s\n",
      "[CV 1/5] END ...criterion=entropy, max_depth=15;, score=0.815 total time=   2.6s\n",
      "[CV 2/5] END ...criterion=entropy, max_depth=15;, score=0.815 total time=   2.6s\n",
      "[CV 3/5] END ...criterion=entropy, max_depth=15;, score=0.819 total time=   2.5s\n",
      "[CV 4/5] END ...criterion=entropy, max_depth=15;, score=0.815 total time=   2.5s\n",
      "[CV 5/5] END ...criterion=entropy, max_depth=15;, score=0.818 total time=   2.4s\n",
      "[CV 1/5] END ...criterion=entropy, max_depth=20;, score=0.810 total time=   3.1s\n",
      "[CV 2/5] END ...criterion=entropy, max_depth=20;, score=0.808 total time=   3.0s\n",
      "[CV 3/5] END ...criterion=entropy, max_depth=20;, score=0.811 total time=   2.9s\n",
      "[CV 4/5] END ...criterion=entropy, max_depth=20;, score=0.808 total time=   2.8s\n",
      "[CV 5/5] END ...criterion=entropy, max_depth=20;, score=0.809 total time=   2.9s\n",
      "[CV 1/5] END ...criterion=entropy, max_depth=30;, score=0.800 total time=   3.2s\n",
      "[CV 2/5] END ...criterion=entropy, max_depth=30;, score=0.795 total time=   3.4s\n",
      "[CV 3/5] END ...criterion=entropy, max_depth=30;, score=0.796 total time=   3.6s\n",
      "[CV 4/5] END ...criterion=entropy, max_depth=30;, score=0.797 total time=   3.7s\n",
      "[CV 5/5] END ...criterion=entropy, max_depth=30;, score=0.799 total time=   3.6s\n",
      "[CV 1/5] END ...criterion=entropy, max_depth=40;, score=0.799 total time=   3.7s\n",
      "[CV 2/5] END ...criterion=entropy, max_depth=40;, score=0.794 total time=   3.6s\n",
      "[CV 3/5] END ...criterion=entropy, max_depth=40;, score=0.796 total time=   3.6s\n",
      "[CV 4/5] END ...criterion=entropy, max_depth=40;, score=0.794 total time=   3.5s\n",
      "[CV 5/5] END ...criterion=entropy, max_depth=40;, score=0.795 total time=   3.6s\n",
      "[CV 1/5] END ...criterion=entropy, max_depth=50;, score=0.798 total time=   3.5s\n",
      "[CV 2/5] END ...criterion=entropy, max_depth=50;, score=0.794 total time=   3.5s\n",
      "[CV 3/5] END ...criterion=entropy, max_depth=50;, score=0.796 total time=   3.6s\n",
      "[CV 4/5] END ...criterion=entropy, max_depth=50;, score=0.793 total time=   3.7s\n",
      "[CV 5/5] END ...criterion=entropy, max_depth=50;, score=0.795 total time=   3.5s\n",
      "[CV 1/5] END ...criterion=entropy, max_depth=70;, score=0.798 total time=   3.6s\n",
      "[CV 2/5] END ...criterion=entropy, max_depth=70;, score=0.794 total time=   3.6s\n",
      "[CV 3/5] END ...criterion=entropy, max_depth=70;, score=0.796 total time=   3.6s\n",
      "[CV 4/5] END ...criterion=entropy, max_depth=70;, score=0.793 total time=   3.5s\n",
      "[CV 5/5] END ...criterion=entropy, max_depth=70;, score=0.795 total time=   3.5s\n",
      "[CV 1/5] END ...criterion=entropy, max_depth=90;, score=0.798 total time=   3.6s\n",
      "[CV 2/5] END ...criterion=entropy, max_depth=90;, score=0.794 total time=   3.5s\n",
      "[CV 3/5] END ...criterion=entropy, max_depth=90;, score=0.796 total time=   3.6s\n",
      "[CV 4/5] END ...criterion=entropy, max_depth=90;, score=0.793 total time=   3.5s\n",
      "[CV 5/5] END ...criterion=entropy, max_depth=90;, score=0.795 total time=   3.4s\n",
      "[CV 1/5] END ..criterion=entropy, max_depth=120;, score=0.798 total time=   3.4s\n",
      "[CV 2/5] END ..criterion=entropy, max_depth=120;, score=0.794 total time=   3.3s\n",
      "[CV 3/5] END ..criterion=entropy, max_depth=120;, score=0.796 total time=   3.3s\n",
      "[CV 4/5] END ..criterion=entropy, max_depth=120;, score=0.793 total time=   3.3s\n",
      "[CV 5/5] END ..criterion=entropy, max_depth=120;, score=0.795 total time=   3.5s\n",
      "[CV 1/5] END ..criterion=entropy, max_depth=150;, score=0.798 total time=   3.8s\n",
      "[CV 2/5] END ..criterion=entropy, max_depth=150;, score=0.794 total time=   3.4s\n",
      "[CV 3/5] END ..criterion=entropy, max_depth=150;, score=0.796 total time=   3.5s\n",
      "[CV 4/5] END ..criterion=entropy, max_depth=150;, score=0.793 total time=   3.3s\n",
      "[CV 5/5] END ..criterion=entropy, max_depth=150;, score=0.795 total time=   3.3s\n"
     ]
    },
    {
     "data": {
      "text/html": [
       "<style>#sk-container-id-2 {color: black;}#sk-container-id-2 pre{padding: 0;}#sk-container-id-2 div.sk-toggleable {background-color: white;}#sk-container-id-2 label.sk-toggleable__label {cursor: pointer;display: block;width: 100%;margin-bottom: 0;padding: 0.3em;box-sizing: border-box;text-align: center;}#sk-container-id-2 label.sk-toggleable__label-arrow:before {content: \"▸\";float: left;margin-right: 0.25em;color: #696969;}#sk-container-id-2 label.sk-toggleable__label-arrow:hover:before {color: black;}#sk-container-id-2 div.sk-estimator:hover label.sk-toggleable__label-arrow:before {color: black;}#sk-container-id-2 div.sk-toggleable__content {max-height: 0;max-width: 0;overflow: hidden;text-align: left;background-color: #f0f8ff;}#sk-container-id-2 div.sk-toggleable__content pre {margin: 0.2em;color: black;border-radius: 0.25em;background-color: #f0f8ff;}#sk-container-id-2 input.sk-toggleable__control:checked~div.sk-toggleable__content {max-height: 200px;max-width: 100%;overflow: auto;}#sk-container-id-2 input.sk-toggleable__control:checked~label.sk-toggleable__label-arrow:before {content: \"▾\";}#sk-container-id-2 div.sk-estimator input.sk-toggleable__control:checked~label.sk-toggleable__label {background-color: #d4ebff;}#sk-container-id-2 div.sk-label input.sk-toggleable__control:checked~label.sk-toggleable__label {background-color: #d4ebff;}#sk-container-id-2 input.sk-hidden--visually {border: 0;clip: rect(1px 1px 1px 1px);clip: rect(1px, 1px, 1px, 1px);height: 1px;margin: -1px;overflow: hidden;padding: 0;position: absolute;width: 1px;}#sk-container-id-2 div.sk-estimator {font-family: monospace;background-color: #f0f8ff;border: 1px dotted black;border-radius: 0.25em;box-sizing: border-box;margin-bottom: 0.5em;}#sk-container-id-2 div.sk-estimator:hover {background-color: #d4ebff;}#sk-container-id-2 div.sk-parallel-item::after {content: \"\";width: 100%;border-bottom: 1px solid gray;flex-grow: 1;}#sk-container-id-2 div.sk-label:hover label.sk-toggleable__label {background-color: #d4ebff;}#sk-container-id-2 div.sk-serial::before {content: \"\";position: absolute;border-left: 1px solid gray;box-sizing: border-box;top: 0;bottom: 0;left: 50%;z-index: 0;}#sk-container-id-2 div.sk-serial {display: flex;flex-direction: column;align-items: center;background-color: white;padding-right: 0.2em;padding-left: 0.2em;position: relative;}#sk-container-id-2 div.sk-item {position: relative;z-index: 1;}#sk-container-id-2 div.sk-parallel {display: flex;align-items: stretch;justify-content: center;background-color: white;position: relative;}#sk-container-id-2 div.sk-item::before, #sk-container-id-2 div.sk-parallel-item::before {content: \"\";position: absolute;border-left: 1px solid gray;box-sizing: border-box;top: 0;bottom: 0;left: 50%;z-index: -1;}#sk-container-id-2 div.sk-parallel-item {display: flex;flex-direction: column;z-index: 1;position: relative;background-color: white;}#sk-container-id-2 div.sk-parallel-item:first-child::after {align-self: flex-end;width: 50%;}#sk-container-id-2 div.sk-parallel-item:last-child::after {align-self: flex-start;width: 50%;}#sk-container-id-2 div.sk-parallel-item:only-child::after {width: 0;}#sk-container-id-2 div.sk-dashed-wrapped {border: 1px dashed gray;margin: 0 0.4em 0.5em 0.4em;box-sizing: border-box;padding-bottom: 0.4em;background-color: white;}#sk-container-id-2 div.sk-label label {font-family: monospace;font-weight: bold;display: inline-block;line-height: 1.2em;}#sk-container-id-2 div.sk-label-container {text-align: center;}#sk-container-id-2 div.sk-container {/* jupyter's `normalize.less` sets `[hidden] { display: none; }` but bootstrap.min.css set `[hidden] { display: none !important; }` so we also need the `!important` here to be able to override the default hidden behavior on the sphinx rendered scikit-learn.org. See: https://github.com/scikit-learn/scikit-learn/issues/21755 */display: inline-block !important;position: relative;}#sk-container-id-2 div.sk-text-repr-fallback {display: none;}</style><div id=\"sk-container-id-2\" class=\"sk-top-container\"><div class=\"sk-text-repr-fallback\"><pre>GridSearchCV(estimator=DecisionTreeClassifier(criterion=&#x27;entropy&#x27;,\n",
       "                                              random_state=2023),\n",
       "             param_grid={&#x27;criterion&#x27;: [&#x27;gini&#x27;, &#x27;entropy&#x27;],\n",
       "                         &#x27;max_depth&#x27;: [4, 5, 6, 7, 8, 9, 10, 11, 12, 15, 20, 30,\n",
       "                                       40, 50, 70, 90, 120, 150]},\n",
       "             verbose=3)</pre><b>In a Jupyter environment, please rerun this cell to show the HTML representation or trust the notebook. <br />On GitHub, the HTML representation is unable to render, please try loading this page with nbviewer.org.</b></div><div class=\"sk-container\" hidden><div class=\"sk-item sk-dashed-wrapped\"><div class=\"sk-label-container\"><div class=\"sk-label sk-toggleable\"><input class=\"sk-toggleable__control sk-hidden--visually\" id=\"sk-estimator-id-2\" type=\"checkbox\" ><label for=\"sk-estimator-id-2\" class=\"sk-toggleable__label sk-toggleable__label-arrow\">GridSearchCV</label><div class=\"sk-toggleable__content\"><pre>GridSearchCV(estimator=DecisionTreeClassifier(criterion=&#x27;entropy&#x27;,\n",
       "                                              random_state=2023),\n",
       "             param_grid={&#x27;criterion&#x27;: [&#x27;gini&#x27;, &#x27;entropy&#x27;],\n",
       "                         &#x27;max_depth&#x27;: [4, 5, 6, 7, 8, 9, 10, 11, 12, 15, 20, 30,\n",
       "                                       40, 50, 70, 90, 120, 150]},\n",
       "             verbose=3)</pre></div></div></div><div class=\"sk-parallel\"><div class=\"sk-parallel-item\"><div class=\"sk-item\"><div class=\"sk-label-container\"><div class=\"sk-label sk-toggleable\"><input class=\"sk-toggleable__control sk-hidden--visually\" id=\"sk-estimator-id-3\" type=\"checkbox\" ><label for=\"sk-estimator-id-3\" class=\"sk-toggleable__label sk-toggleable__label-arrow\">estimator: DecisionTreeClassifier</label><div class=\"sk-toggleable__content\"><pre>DecisionTreeClassifier(criterion=&#x27;entropy&#x27;, random_state=2023)</pre></div></div></div><div class=\"sk-serial\"><div class=\"sk-item\"><div class=\"sk-estimator sk-toggleable\"><input class=\"sk-toggleable__control sk-hidden--visually\" id=\"sk-estimator-id-4\" type=\"checkbox\" ><label for=\"sk-estimator-id-4\" class=\"sk-toggleable__label sk-toggleable__label-arrow\">DecisionTreeClassifier</label><div class=\"sk-toggleable__content\"><pre>DecisionTreeClassifier(criterion=&#x27;entropy&#x27;, random_state=2023)</pre></div></div></div></div></div></div></div></div></div></div>"
      ],
      "text/plain": [
       "GridSearchCV(estimator=DecisionTreeClassifier(criterion='entropy',\n",
       "                                              random_state=2023),\n",
       "             param_grid={'criterion': ['gini', 'entropy'],\n",
       "                         'max_depth': [4, 5, 6, 7, 8, 9, 10, 11, 12, 15, 20, 30,\n",
       "                                       40, 50, 70, 90, 120, 150]},\n",
       "             verbose=3)"
      ]
     },
     "execution_count": 50,
     "metadata": {},
     "output_type": "execute_result"
    }
   ],
   "source": [
    "grid_clf_dtrees.fit(X_train, y_train)"
   ]
  },
  {
   "cell_type": "code",
   "execution_count": 51,
   "metadata": {},
   "outputs": [
    {
     "data": {
      "text/plain": [
       "{'criterion': 'gini', 'max_depth': 11}"
      ]
     },
     "execution_count": 51,
     "metadata": {},
     "output_type": "execute_result"
    }
   ],
   "source": [
    "grid_clf_dtrees.best_params_"
   ]
  },
  {
   "cell_type": "code",
   "execution_count": 52,
   "metadata": {},
   "outputs": [
    {
     "data": {
      "text/html": [
       "<style>#sk-container-id-3 {color: black;}#sk-container-id-3 pre{padding: 0;}#sk-container-id-3 div.sk-toggleable {background-color: white;}#sk-container-id-3 label.sk-toggleable__label {cursor: pointer;display: block;width: 100%;margin-bottom: 0;padding: 0.3em;box-sizing: border-box;text-align: center;}#sk-container-id-3 label.sk-toggleable__label-arrow:before {content: \"▸\";float: left;margin-right: 0.25em;color: #696969;}#sk-container-id-3 label.sk-toggleable__label-arrow:hover:before {color: black;}#sk-container-id-3 div.sk-estimator:hover label.sk-toggleable__label-arrow:before {color: black;}#sk-container-id-3 div.sk-toggleable__content {max-height: 0;max-width: 0;overflow: hidden;text-align: left;background-color: #f0f8ff;}#sk-container-id-3 div.sk-toggleable__content pre {margin: 0.2em;color: black;border-radius: 0.25em;background-color: #f0f8ff;}#sk-container-id-3 input.sk-toggleable__control:checked~div.sk-toggleable__content {max-height: 200px;max-width: 100%;overflow: auto;}#sk-container-id-3 input.sk-toggleable__control:checked~label.sk-toggleable__label-arrow:before {content: \"▾\";}#sk-container-id-3 div.sk-estimator input.sk-toggleable__control:checked~label.sk-toggleable__label {background-color: #d4ebff;}#sk-container-id-3 div.sk-label input.sk-toggleable__control:checked~label.sk-toggleable__label {background-color: #d4ebff;}#sk-container-id-3 input.sk-hidden--visually {border: 0;clip: rect(1px 1px 1px 1px);clip: rect(1px, 1px, 1px, 1px);height: 1px;margin: -1px;overflow: hidden;padding: 0;position: absolute;width: 1px;}#sk-container-id-3 div.sk-estimator {font-family: monospace;background-color: #f0f8ff;border: 1px dotted black;border-radius: 0.25em;box-sizing: border-box;margin-bottom: 0.5em;}#sk-container-id-3 div.sk-estimator:hover {background-color: #d4ebff;}#sk-container-id-3 div.sk-parallel-item::after {content: \"\";width: 100%;border-bottom: 1px solid gray;flex-grow: 1;}#sk-container-id-3 div.sk-label:hover label.sk-toggleable__label {background-color: #d4ebff;}#sk-container-id-3 div.sk-serial::before {content: \"\";position: absolute;border-left: 1px solid gray;box-sizing: border-box;top: 0;bottom: 0;left: 50%;z-index: 0;}#sk-container-id-3 div.sk-serial {display: flex;flex-direction: column;align-items: center;background-color: white;padding-right: 0.2em;padding-left: 0.2em;position: relative;}#sk-container-id-3 div.sk-item {position: relative;z-index: 1;}#sk-container-id-3 div.sk-parallel {display: flex;align-items: stretch;justify-content: center;background-color: white;position: relative;}#sk-container-id-3 div.sk-item::before, #sk-container-id-3 div.sk-parallel-item::before {content: \"\";position: absolute;border-left: 1px solid gray;box-sizing: border-box;top: 0;bottom: 0;left: 50%;z-index: -1;}#sk-container-id-3 div.sk-parallel-item {display: flex;flex-direction: column;z-index: 1;position: relative;background-color: white;}#sk-container-id-3 div.sk-parallel-item:first-child::after {align-self: flex-end;width: 50%;}#sk-container-id-3 div.sk-parallel-item:last-child::after {align-self: flex-start;width: 50%;}#sk-container-id-3 div.sk-parallel-item:only-child::after {width: 0;}#sk-container-id-3 div.sk-dashed-wrapped {border: 1px dashed gray;margin: 0 0.4em 0.5em 0.4em;box-sizing: border-box;padding-bottom: 0.4em;background-color: white;}#sk-container-id-3 div.sk-label label {font-family: monospace;font-weight: bold;display: inline-block;line-height: 1.2em;}#sk-container-id-3 div.sk-label-container {text-align: center;}#sk-container-id-3 div.sk-container {/* jupyter's `normalize.less` sets `[hidden] { display: none; }` but bootstrap.min.css set `[hidden] { display: none !important; }` so we also need the `!important` here to be able to override the default hidden behavior on the sphinx rendered scikit-learn.org. See: https://github.com/scikit-learn/scikit-learn/issues/21755 */display: inline-block !important;position: relative;}#sk-container-id-3 div.sk-text-repr-fallback {display: none;}</style><div id=\"sk-container-id-3\" class=\"sk-top-container\"><div class=\"sk-text-repr-fallback\"><pre>DecisionTreeClassifier(max_depth=11, random_state=2023)</pre><b>In a Jupyter environment, please rerun this cell to show the HTML representation or trust the notebook. <br />On GitHub, the HTML representation is unable to render, please try loading this page with nbviewer.org.</b></div><div class=\"sk-container\" hidden><div class=\"sk-item\"><div class=\"sk-estimator sk-toggleable\"><input class=\"sk-toggleable__control sk-hidden--visually\" id=\"sk-estimator-id-5\" type=\"checkbox\" checked><label for=\"sk-estimator-id-5\" class=\"sk-toggleable__label sk-toggleable__label-arrow\">DecisionTreeClassifier</label><div class=\"sk-toggleable__content\"><pre>DecisionTreeClassifier(max_depth=11, random_state=2023)</pre></div></div></div></div></div>"
      ],
      "text/plain": [
       "DecisionTreeClassifier(max_depth=11, random_state=2023)"
      ]
     },
     "execution_count": 52,
     "metadata": {},
     "output_type": "execute_result"
    }
   ],
   "source": [
    "grid_clf_dtrees.best_estimator_"
   ]
  },
  {
   "cell_type": "code",
   "execution_count": 53,
   "metadata": {},
   "outputs": [
    {
     "name": "stdout",
     "output_type": "stream",
     "text": [
      "              precision    recall  f1-score   support\n",
      "\n",
      "         0.0       0.91      0.93      0.92     22247\n",
      "         1.0       0.71      0.77      0.74     22298\n",
      "         2.0       0.84      0.76      0.80     23077\n",
      "\n",
      "    accuracy                           0.82     67622\n",
      "   macro avg       0.82      0.82      0.82     67622\n",
      "weighted avg       0.82      0.82      0.82     67622\n",
      "\n"
     ]
    }
   ],
   "source": [
    "grid_dtrees_predictions = grid_clf_dtrees.predict(X_test)\n",
    "print(classification_report(y_test, grid_dtrees_predictions))"
   ]
  },
  {
   "cell_type": "markdown",
   "metadata": {},
   "source": [
    "### Logistic Regression"
   ]
  },
  {
   "cell_type": "code",
   "execution_count": 56,
   "metadata": {},
   "outputs": [],
   "source": [
    "from sklearn import linear_model"
   ]
  },
  {
   "cell_type": "code",
   "execution_count": 57,
   "metadata": {},
   "outputs": [],
   "source": [
    "log_reg = linear_model.LogisticRegression(solver = 'lbfgs', max_iter = 1000)"
   ]
  },
  {
   "cell_type": "code",
   "execution_count": 58,
   "metadata": {},
   "outputs": [
    {
     "name": "stderr",
     "output_type": "stream",
     "text": [
      "/home/jmartins9/miniconda3/envs/Teste/lib/python3.10/site-packages/sklearn/linear_model/_logistic.py:460: ConvergenceWarning: lbfgs failed to converge (status=1):\n",
      "STOP: TOTAL NO. of ITERATIONS REACHED LIMIT.\n",
      "\n",
      "Increase the number of iterations (max_iter) or scale the data as shown in:\n",
      "    https://scikit-learn.org/stable/modules/preprocessing.html\n",
      "Please also refer to the documentation for alternative solver options:\n",
      "    https://scikit-learn.org/stable/modules/linear_model.html#logistic-regression\n",
      "  n_iter_i = _check_optimize_result(\n"
     ]
    },
    {
     "data": {
      "text/html": [
       "<style>#sk-container-id-4 {color: black;}#sk-container-id-4 pre{padding: 0;}#sk-container-id-4 div.sk-toggleable {background-color: white;}#sk-container-id-4 label.sk-toggleable__label {cursor: pointer;display: block;width: 100%;margin-bottom: 0;padding: 0.3em;box-sizing: border-box;text-align: center;}#sk-container-id-4 label.sk-toggleable__label-arrow:before {content: \"▸\";float: left;margin-right: 0.25em;color: #696969;}#sk-container-id-4 label.sk-toggleable__label-arrow:hover:before {color: black;}#sk-container-id-4 div.sk-estimator:hover label.sk-toggleable__label-arrow:before {color: black;}#sk-container-id-4 div.sk-toggleable__content {max-height: 0;max-width: 0;overflow: hidden;text-align: left;background-color: #f0f8ff;}#sk-container-id-4 div.sk-toggleable__content pre {margin: 0.2em;color: black;border-radius: 0.25em;background-color: #f0f8ff;}#sk-container-id-4 input.sk-toggleable__control:checked~div.sk-toggleable__content {max-height: 200px;max-width: 100%;overflow: auto;}#sk-container-id-4 input.sk-toggleable__control:checked~label.sk-toggleable__label-arrow:before {content: \"▾\";}#sk-container-id-4 div.sk-estimator input.sk-toggleable__control:checked~label.sk-toggleable__label {background-color: #d4ebff;}#sk-container-id-4 div.sk-label input.sk-toggleable__control:checked~label.sk-toggleable__label {background-color: #d4ebff;}#sk-container-id-4 input.sk-hidden--visually {border: 0;clip: rect(1px 1px 1px 1px);clip: rect(1px, 1px, 1px, 1px);height: 1px;margin: -1px;overflow: hidden;padding: 0;position: absolute;width: 1px;}#sk-container-id-4 div.sk-estimator {font-family: monospace;background-color: #f0f8ff;border: 1px dotted black;border-radius: 0.25em;box-sizing: border-box;margin-bottom: 0.5em;}#sk-container-id-4 div.sk-estimator:hover {background-color: #d4ebff;}#sk-container-id-4 div.sk-parallel-item::after {content: \"\";width: 100%;border-bottom: 1px solid gray;flex-grow: 1;}#sk-container-id-4 div.sk-label:hover label.sk-toggleable__label {background-color: #d4ebff;}#sk-container-id-4 div.sk-serial::before {content: \"\";position: absolute;border-left: 1px solid gray;box-sizing: border-box;top: 0;bottom: 0;left: 50%;z-index: 0;}#sk-container-id-4 div.sk-serial {display: flex;flex-direction: column;align-items: center;background-color: white;padding-right: 0.2em;padding-left: 0.2em;position: relative;}#sk-container-id-4 div.sk-item {position: relative;z-index: 1;}#sk-container-id-4 div.sk-parallel {display: flex;align-items: stretch;justify-content: center;background-color: white;position: relative;}#sk-container-id-4 div.sk-item::before, #sk-container-id-4 div.sk-parallel-item::before {content: \"\";position: absolute;border-left: 1px solid gray;box-sizing: border-box;top: 0;bottom: 0;left: 50%;z-index: -1;}#sk-container-id-4 div.sk-parallel-item {display: flex;flex-direction: column;z-index: 1;position: relative;background-color: white;}#sk-container-id-4 div.sk-parallel-item:first-child::after {align-self: flex-end;width: 50%;}#sk-container-id-4 div.sk-parallel-item:last-child::after {align-self: flex-start;width: 50%;}#sk-container-id-4 div.sk-parallel-item:only-child::after {width: 0;}#sk-container-id-4 div.sk-dashed-wrapped {border: 1px dashed gray;margin: 0 0.4em 0.5em 0.4em;box-sizing: border-box;padding-bottom: 0.4em;background-color: white;}#sk-container-id-4 div.sk-label label {font-family: monospace;font-weight: bold;display: inline-block;line-height: 1.2em;}#sk-container-id-4 div.sk-label-container {text-align: center;}#sk-container-id-4 div.sk-container {/* jupyter's `normalize.less` sets `[hidden] { display: none; }` but bootstrap.min.css set `[hidden] { display: none !important; }` so we also need the `!important` here to be able to override the default hidden behavior on the sphinx rendered scikit-learn.org. See: https://github.com/scikit-learn/scikit-learn/issues/21755 */display: inline-block !important;position: relative;}#sk-container-id-4 div.sk-text-repr-fallback {display: none;}</style><div id=\"sk-container-id-4\" class=\"sk-top-container\"><div class=\"sk-text-repr-fallback\"><pre>LogisticRegression(max_iter=1000)</pre><b>In a Jupyter environment, please rerun this cell to show the HTML representation or trust the notebook. <br />On GitHub, the HTML representation is unable to render, please try loading this page with nbviewer.org.</b></div><div class=\"sk-container\" hidden><div class=\"sk-item\"><div class=\"sk-estimator sk-toggleable\"><input class=\"sk-toggleable__control sk-hidden--visually\" id=\"sk-estimator-id-6\" type=\"checkbox\" checked><label for=\"sk-estimator-id-6\" class=\"sk-toggleable__label sk-toggleable__label-arrow\">LogisticRegression</label><div class=\"sk-toggleable__content\"><pre>LogisticRegression(max_iter=1000)</pre></div></div></div></div></div>"
      ],
      "text/plain": [
       "LogisticRegression(max_iter=1000)"
      ]
     },
     "execution_count": 58,
     "metadata": {},
     "output_type": "execute_result"
    }
   ],
   "source": [
    "log_reg.fit(X_train, y_train)"
   ]
  },
  {
   "cell_type": "code",
   "execution_count": 59,
   "metadata": {},
   "outputs": [
    {
     "data": {
      "text/plain": [
       "array([0., 2., 0., ..., 1., 0., 2.])"
      ]
     },
     "execution_count": 59,
     "metadata": {},
     "output_type": "execute_result"
    }
   ],
   "source": [
    "lr_predictions = log_reg.predict(X_test)\n",
    "lr_predictions"
   ]
  },
  {
   "cell_type": "code",
   "execution_count": 60,
   "metadata": {},
   "outputs": [
    {
     "data": {
      "text/html": [
       "<div>\n",
       "<style scoped>\n",
       "    .dataframe tbody tr th:only-of-type {\n",
       "        vertical-align: middle;\n",
       "    }\n",
       "\n",
       "    .dataframe tbody tr th {\n",
       "        vertical-align: top;\n",
       "    }\n",
       "\n",
       "    .dataframe thead th {\n",
       "        text-align: right;\n",
       "    }\n",
       "</style>\n",
       "<table border=\"1\" class=\"dataframe\">\n",
       "  <thead>\n",
       "    <tr style=\"text-align: right;\">\n",
       "      <th></th>\n",
       "      <th>prediction_binned</th>\n",
       "      <th>popularity</th>\n",
       "    </tr>\n",
       "  </thead>\n",
       "  <tbody>\n",
       "    <tr>\n",
       "      <th>4</th>\n",
       "      <td>2.0</td>\n",
       "      <td>0.0</td>\n",
       "    </tr>\n",
       "    <tr>\n",
       "      <th>6</th>\n",
       "      <td>2.0</td>\n",
       "      <td>0.0</td>\n",
       "    </tr>\n",
       "    <tr>\n",
       "      <th>8</th>\n",
       "      <td>0.0</td>\n",
       "      <td>0.0</td>\n",
       "    </tr>\n",
       "    <tr>\n",
       "      <th>11</th>\n",
       "      <td>2.0</td>\n",
       "      <td>0.0</td>\n",
       "    </tr>\n",
       "    <tr>\n",
       "      <th>12</th>\n",
       "      <td>0.0</td>\n",
       "      <td>0.0</td>\n",
       "    </tr>\n",
       "  </tbody>\n",
       "</table>\n",
       "</div>"
      ],
      "text/plain": [
       "    prediction_binned  popularity\n",
       "4                 2.0         0.0\n",
       "6                 2.0         0.0\n",
       "8                 0.0         0.0\n",
       "11                2.0         0.0\n",
       "12                0.0         0.0"
      ]
     },
     "execution_count": 60,
     "metadata": {},
     "output_type": "execute_result"
    }
   ],
   "source": [
    "df = pd.DataFrame(lr_predictions, columns = ['prediction_binned'])\n",
    "pred_actual = df.merge(right=y_test, left_index=True, right_index=True)\n",
    "pred_actual.head()"
   ]
  },
  {
   "cell_type": "code",
   "execution_count": 63,
   "metadata": {},
   "outputs": [
    {
     "data": {
      "image/png": "[encoded data removed]",
      "text/plain": [
       "<Figure size 640x480 with 1 Axes>"
      ]
     },
     "metadata": {},
     "output_type": "display_data"
    }
   ],
   "source": [
    "# Create histograms for each column\n",
    "plt.hist(pred_actual['prediction_binned'], align='left', bins=30, alpha=0.5, label='Prediction')\n",
    "plt.hist(pred_actual['popularity'], align='right', bins=30, alpha=0.5, label='Popularity')\n",
    "\n",
    "# Add labels and title\n",
    "plt.xlabel('Value')\n",
    "plt.ylabel('Frequency')\n",
    "plt.title('Histogram for Two Columns')\n",
    "plt.legend()  # Show legend with labels\n",
    "\n",
    "# Display the plot\n",
    "plt.show()"
   ]
  },
  {
   "cell_type": "code",
   "execution_count": 64,
   "metadata": {},
   "outputs": [
    {
     "data": {
      "text/plain": [
       "array([[13625,  5173,  3449],\n",
       "       [ 7047,  6387,  8864],\n",
       "       [ 2694,  3228, 17155]])"
      ]
     },
     "execution_count": 64,
     "metadata": {},
     "output_type": "execute_result"
    }
   ],
   "source": [
    "confusion_matrix(y_test, lr_predictions)"
   ]
  },
  {
   "cell_type": "code",
   "execution_count": 67,
   "metadata": {},
   "outputs": [
    {
     "name": "stdout",
     "output_type": "stream",
     "text": [
      "              precision    recall  f1-score   support\n",
      "\n",
      "         0.0       0.58      0.61      0.60     22247\n",
      "         1.0       0.43      0.29      0.34     22298\n",
      "         2.0       0.58      0.74      0.65     23077\n",
      "\n",
      "    accuracy                           0.55     67622\n",
      "   macro avg       0.53      0.55      0.53     67622\n",
      "weighted avg       0.53      0.55      0.53     67622\n",
      "\n"
     ]
    }
   ],
   "source": [
    "print(classification_report(y_test, lr_predictions))"
   ]
  },
  {
   "cell_type": "markdown",
   "metadata": {},
   "source": [
    "Grid Search"
   ]
  },
  {
   "cell_type": "code",
   "execution_count": 68,
   "metadata": {},
   "outputs": [],
   "source": [
    "param_grid = {\"C\" : np.logspace(-3,3,7), \"penalty\" : [\"l1\",\"l2\"]}\n",
    "\n",
    "grid_clf_lr = GridSearchCV(log_reg, param_grid, refit=True, verbose=3)"
   ]
  },
  {
   "cell_type": "code",
   "execution_count": 69,
   "metadata": {},
   "outputs": [
    {
     "name": "stdout",
     "output_type": "stream",
     "text": [
      "Fitting 5 folds for each of 14 candidates, totalling 70 fits\n",
      "[CV 1/5] END .................C=0.001, penalty=l1;, score=nan total time=   0.0s\n",
      "[CV 2/5] END .................C=0.001, penalty=l1;, score=nan total time=   0.0s\n",
      "[CV 3/5] END .................C=0.001, penalty=l1;, score=nan total time=   0.0s\n",
      "[CV 4/5] END .................C=0.001, penalty=l1;, score=nan total time=   0.0s\n",
      "[CV 5/5] END .................C=0.001, penalty=l1;, score=nan total time=   0.0s\n"
     ]
    },
    {
     "name": "stderr",
     "output_type": "stream",
     "text": [
      "/home/jmartins9/miniconda3/envs/Teste/lib/python3.10/site-packages/sklearn/linear_model/_logistic.py:460: ConvergenceWarning: lbfgs failed to converge (status=1):\n",
      "STOP: TOTAL NO. of ITERATIONS REACHED LIMIT.\n",
      "\n",
      "Increase the number of iterations (max_iter) or scale the data as shown in:\n",
      "    https://scikit-learn.org/stable/modules/preprocessing.html\n",
      "Please also refer to the documentation for alternative solver options:\n",
      "    https://scikit-learn.org/stable/modules/linear_model.html#logistic-regression\n",
      "  n_iter_i = _check_optimize_result(\n"
     ]
    },
    {
     "name": "stdout",
     "output_type": "stream",
     "text": [
      "[CV 1/5] END ...............C=0.001, penalty=l2;, score=0.553 total time=  45.4s\n",
      "[CV 2/5] END ...............C=0.001, penalty=l2;, score=0.414 total time=   7.8s\n",
      "[CV 3/5] END ...............C=0.001, penalty=l2;, score=0.417 total time=  10.2s\n"
     ]
    },
    {
     "name": "stderr",
     "output_type": "stream",
     "text": [
      "/home/jmartins9/miniconda3/envs/Teste/lib/python3.10/site-packages/sklearn/linear_model/_logistic.py:460: ConvergenceWarning: lbfgs failed to converge (status=1):\n",
      "STOP: TOTAL NO. of ITERATIONS REACHED LIMIT.\n",
      "\n",
      "Increase the number of iterations (max_iter) or scale the data as shown in:\n",
      "    https://scikit-learn.org/stable/modules/preprocessing.html\n",
      "Please also refer to the documentation for alternative solver options:\n",
      "    https://scikit-learn.org/stable/modules/linear_model.html#logistic-regression\n",
      "  n_iter_i = _check_optimize_result(\n"
     ]
    },
    {
     "name": "stdout",
     "output_type": "stream",
     "text": [
      "[CV 4/5] END ...............C=0.001, penalty=l2;, score=0.541 total time=  39.7s\n",
      "[CV 5/5] END ...............C=0.001, penalty=l2;, score=0.412 total time=   9.3s\n",
      "[CV 1/5] END ..................C=0.01, penalty=l1;, score=nan total time=   0.0s\n",
      "[CV 2/5] END ..................C=0.01, penalty=l1;, score=nan total time=   0.0s\n",
      "[CV 3/5] END ..................C=0.01, penalty=l1;, score=nan total time=   0.0s\n",
      "[CV 4/5] END ..................C=0.01, penalty=l1;, score=nan total time=   0.0s\n",
      "[CV 5/5] END ..................C=0.01, penalty=l1;, score=nan total time=   0.0s\n",
      "[CV 1/5] END ................C=0.01, penalty=l2;, score=0.414 total time=  10.4s\n"
     ]
    },
    {
     "name": "stderr",
     "output_type": "stream",
     "text": [
      "/home/jmartins9/miniconda3/envs/Teste/lib/python3.10/site-packages/sklearn/linear_model/_logistic.py:460: ConvergenceWarning: lbfgs failed to converge (status=1):\n",
      "STOP: TOTAL NO. of ITERATIONS REACHED LIMIT.\n",
      "\n",
      "Increase the number of iterations (max_iter) or scale the data as shown in:\n",
      "    https://scikit-learn.org/stable/modules/preprocessing.html\n",
      "Please also refer to the documentation for alternative solver options:\n",
      "    https://scikit-learn.org/stable/modules/linear_model.html#logistic-regression\n",
      "  n_iter_i = _check_optimize_result(\n"
     ]
    },
    {
     "name": "stdout",
     "output_type": "stream",
     "text": [
      "[CV 2/5] END ................C=0.01, penalty=l2;, score=0.547 total time=  42.6s\n",
      "[CV 3/5] END ................C=0.01, penalty=l2;, score=0.417 total time=  15.3s\n",
      "[CV 4/5] END ................C=0.01, penalty=l2;, score=0.411 total time=   7.1s\n"
     ]
    },
    {
     "name": "stderr",
     "output_type": "stream",
     "text": [
      "/home/jmartins9/miniconda3/envs/Teste/lib/python3.10/site-packages/sklearn/linear_model/_logistic.py:460: ConvergenceWarning: lbfgs failed to converge (status=1):\n",
      "STOP: TOTAL NO. of ITERATIONS REACHED LIMIT.\n",
      "\n",
      "Increase the number of iterations (max_iter) or scale the data as shown in:\n",
      "    https://scikit-learn.org/stable/modules/preprocessing.html\n",
      "Please also refer to the documentation for alternative solver options:\n",
      "    https://scikit-learn.org/stable/modules/linear_model.html#logistic-regression\n",
      "  n_iter_i = _check_optimize_result(\n"
     ]
    },
    {
     "name": "stdout",
     "output_type": "stream",
     "text": [
      "[CV 5/5] END ................C=0.01, penalty=l2;, score=0.544 total time=  38.0s\n",
      "[CV 1/5] END ...................C=0.1, penalty=l1;, score=nan total time=   0.0s\n",
      "[CV 2/5] END ...................C=0.1, penalty=l1;, score=nan total time=   0.0s\n",
      "[CV 3/5] END ...................C=0.1, penalty=l1;, score=nan total time=   0.0s\n",
      "[CV 4/5] END ...................C=0.1, penalty=l1;, score=nan total time=   0.0s\n",
      "[CV 5/5] END ...................C=0.1, penalty=l1;, score=nan total time=   0.0s\n"
     ]
    },
    {
     "name": "stderr",
     "output_type": "stream",
     "text": [
      "/home/jmartins9/miniconda3/envs/Teste/lib/python3.10/site-packages/sklearn/linear_model/_logistic.py:460: ConvergenceWarning: lbfgs failed to converge (status=1):\n",
      "STOP: TOTAL NO. of ITERATIONS REACHED LIMIT.\n",
      "\n",
      "Increase the number of iterations (max_iter) or scale the data as shown in:\n",
      "    https://scikit-learn.org/stable/modules/preprocessing.html\n",
      "Please also refer to the documentation for alternative solver options:\n",
      "    https://scikit-learn.org/stable/modules/linear_model.html#logistic-regression\n",
      "  n_iter_i = _check_optimize_result(\n"
     ]
    },
    {
     "name": "stdout",
     "output_type": "stream",
     "text": [
      "[CV 1/5] END .................C=0.1, penalty=l2;, score=0.542 total time=  42.0s\n",
      "[CV 2/5] END .................C=0.1, penalty=l2;, score=0.414 total time=   7.9s\n"
     ]
    },
    {
     "name": "stderr",
     "output_type": "stream",
     "text": [
      "/home/jmartins9/miniconda3/envs/Teste/lib/python3.10/site-packages/sklearn/linear_model/_logistic.py:460: ConvergenceWarning: lbfgs failed to converge (status=1):\n",
      "STOP: TOTAL NO. of ITERATIONS REACHED LIMIT.\n",
      "\n",
      "Increase the number of iterations (max_iter) or scale the data as shown in:\n",
      "    https://scikit-learn.org/stable/modules/preprocessing.html\n",
      "Please also refer to the documentation for alternative solver options:\n",
      "    https://scikit-learn.org/stable/modules/linear_model.html#logistic-regression\n",
      "  n_iter_i = _check_optimize_result(\n"
     ]
    },
    {
     "name": "stdout",
     "output_type": "stream",
     "text": [
      "[CV 3/5] END .................C=0.1, penalty=l2;, score=0.538 total time=  39.4s\n",
      "[CV 4/5] END .................C=0.1, penalty=l2;, score=0.411 total time=   7.5s\n",
      "[CV 5/5] END .................C=0.1, penalty=l2;, score=0.413 total time=  13.7s\n",
      "[CV 1/5] END ...................C=1.0, penalty=l1;, score=nan total time=   0.0s\n",
      "[CV 2/5] END ...................C=1.0, penalty=l1;, score=nan total time=   0.0s\n",
      "[CV 3/5] END ...................C=1.0, penalty=l1;, score=nan total time=   0.0s\n",
      "[CV 4/5] END ...................C=1.0, penalty=l1;, score=nan total time=   0.0s\n",
      "[CV 5/5] END ...................C=1.0, penalty=l1;, score=nan total time=   0.0s\n",
      "[CV 1/5] END .................C=1.0, penalty=l2;, score=0.414 total time=  13.2s\n",
      "[CV 2/5] END .................C=1.0, penalty=l2;, score=0.414 total time=   8.1s\n"
     ]
    },
    {
     "name": "stderr",
     "output_type": "stream",
     "text": [
      "/home/jmartins9/miniconda3/envs/Teste/lib/python3.10/site-packages/sklearn/linear_model/_logistic.py:460: ConvergenceWarning: lbfgs failed to converge (status=1):\n",
      "STOP: TOTAL NO. of ITERATIONS REACHED LIMIT.\n",
      "\n",
      "Increase the number of iterations (max_iter) or scale the data as shown in:\n",
      "    https://scikit-learn.org/stable/modules/preprocessing.html\n",
      "Please also refer to the documentation for alternative solver options:\n",
      "    https://scikit-learn.org/stable/modules/linear_model.html#logistic-regression\n",
      "  n_iter_i = _check_optimize_result(\n"
     ]
    },
    {
     "name": "stdout",
     "output_type": "stream",
     "text": [
      "[CV 3/5] END .................C=1.0, penalty=l2;, score=0.540 total time=  37.2s\n",
      "[CV 4/5] END .................C=1.0, penalty=l2;, score=0.411 total time=   6.4s\n",
      "[CV 5/5] END .................C=1.0, penalty=l2;, score=0.412 total time=   9.8s\n",
      "[CV 1/5] END ..................C=10.0, penalty=l1;, score=nan total time=   0.0s\n",
      "[CV 2/5] END ..................C=10.0, penalty=l1;, score=nan total time=   0.0s\n",
      "[CV 3/5] END ..................C=10.0, penalty=l1;, score=nan total time=   0.0s\n",
      "[CV 4/5] END ..................C=10.0, penalty=l1;, score=nan total time=   0.0s\n",
      "[CV 5/5] END ..................C=10.0, penalty=l1;, score=nan total time=   0.0s\n",
      "[CV 1/5] END ................C=10.0, penalty=l2;, score=0.541 total time=  29.4s\n",
      "[CV 2/5] END ................C=10.0, penalty=l2;, score=0.414 total time=   6.6s\n",
      "[CV 3/5] END ................C=10.0, penalty=l2;, score=0.417 total time=   8.4s\n",
      "[CV 4/5] END ................C=10.0, penalty=l2;, score=0.411 total time=   8.2s\n"
     ]
    },
    {
     "name": "stderr",
     "output_type": "stream",
     "text": [
      "/home/jmartins9/miniconda3/envs/Teste/lib/python3.10/site-packages/sklearn/linear_model/_logistic.py:460: ConvergenceWarning: lbfgs failed to converge (status=1):\n",
      "STOP: TOTAL NO. of ITERATIONS REACHED LIMIT.\n",
      "\n",
      "Increase the number of iterations (max_iter) or scale the data as shown in:\n",
      "    https://scikit-learn.org/stable/modules/preprocessing.html\n",
      "Please also refer to the documentation for alternative solver options:\n",
      "    https://scikit-learn.org/stable/modules/linear_model.html#logistic-regression\n",
      "  n_iter_i = _check_optimize_result(\n"
     ]
    },
    {
     "name": "stdout",
     "output_type": "stream",
     "text": [
      "[CV 5/5] END ................C=10.0, penalty=l2;, score=0.550 total time=  36.2s\n",
      "[CV 1/5] END .................C=100.0, penalty=l1;, score=nan total time=   0.0s\n",
      "[CV 2/5] END .................C=100.0, penalty=l1;, score=nan total time=   0.0s\n",
      "[CV 3/5] END .................C=100.0, penalty=l1;, score=nan total time=   0.0s\n",
      "[CV 4/5] END .................C=100.0, penalty=l1;, score=nan total time=   0.0s\n",
      "[CV 5/5] END .................C=100.0, penalty=l1;, score=nan total time=   0.0s\n",
      "[CV 1/5] END ...............C=100.0, penalty=l2;, score=0.414 total time=   8.5s\n",
      "[CV 2/5] END ...............C=100.0, penalty=l2;, score=0.414 total time=   8.1s\n",
      "[CV 3/5] END ...............C=100.0, penalty=l2;, score=0.417 total time=   7.2s\n",
      "[CV 4/5] END ...............C=100.0, penalty=l2;, score=0.536 total time=  23.5s\n",
      "[CV 5/5] END ...............C=100.0, penalty=l2;, score=0.413 total time=   8.7s\n",
      "[CV 1/5] END ................C=1000.0, penalty=l1;, score=nan total time=   0.0s\n",
      "[CV 2/5] END ................C=1000.0, penalty=l1;, score=nan total time=   0.0s\n",
      "[CV 3/5] END ................C=1000.0, penalty=l1;, score=nan total time=   0.0s\n",
      "[CV 4/5] END ................C=1000.0, penalty=l1;, score=nan total time=   0.0s\n",
      "[CV 5/5] END ................C=1000.0, penalty=l1;, score=nan total time=   0.0s\n",
      "[CV 1/5] END ..............C=1000.0, penalty=l2;, score=0.414 total time=   6.3s\n"
     ]
    },
    {
     "name": "stderr",
     "output_type": "stream",
     "text": [
      "/home/jmartins9/miniconda3/envs/Teste/lib/python3.10/site-packages/sklearn/linear_model/_logistic.py:460: ConvergenceWarning: lbfgs failed to converge (status=1):\n",
      "STOP: TOTAL NO. of ITERATIONS REACHED LIMIT.\n",
      "\n",
      "Increase the number of iterations (max_iter) or scale the data as shown in:\n",
      "    https://scikit-learn.org/stable/modules/preprocessing.html\n",
      "Please also refer to the documentation for alternative solver options:\n",
      "    https://scikit-learn.org/stable/modules/linear_model.html#logistic-regression\n",
      "  n_iter_i = _check_optimize_result(\n"
     ]
    },
    {
     "name": "stdout",
     "output_type": "stream",
     "text": [
      "[CV 2/5] END ..............C=1000.0, penalty=l2;, score=0.543 total time=  33.8s\n",
      "[CV 3/5] END ..............C=1000.0, penalty=l2;, score=0.417 total time=   7.3s\n",
      "[CV 4/5] END ..............C=1000.0, penalty=l2;, score=0.411 total time=   6.8s\n",
      "[CV 5/5] END ..............C=1000.0, penalty=l2;, score=0.413 total time=   8.7s\n"
     ]
    },
    {
     "name": "stderr",
     "output_type": "stream",
     "text": [
      "/home/jmartins9/miniconda3/envs/Teste/lib/python3.10/site-packages/sklearn/model_selection/_validation.py:425: FitFailedWarning: \n",
      "35 fits failed out of a total of 70.\n",
      "The score on these train-test partitions for these parameters will be set to nan.\n",
      "If these failures are not expected, you can try to debug them by setting error_score='raise'.\n",
      "\n",
      "Below are more details about the failures:\n",
      "--------------------------------------------------------------------------------\n",
      "35 fits failed with the following error:\n",
      "Traceback (most recent call last):\n",
      "  File \"/home/jmartins9/miniconda3/envs/Teste/lib/python3.10/site-packages/sklearn/model_selection/_validation.py\", line 732, in _fit_and_score\n",
      "    estimator.fit(X_train, y_train, **fit_params)\n",
      "  File \"/home/jmartins9/miniconda3/envs/Teste/lib/python3.10/site-packages/sklearn/base.py\", line 1151, in wrapper\n",
      "    return fit_method(estimator, *args, **kwargs)\n",
      "  File \"/home/jmartins9/miniconda3/envs/Teste/lib/python3.10/site-packages/sklearn/linear_model/_logistic.py\", line 1168, in fit\n",
      "    solver = _check_solver(self.solver, self.penalty, self.dual)\n",
      "  File \"/home/jmartins9/miniconda3/envs/Teste/lib/python3.10/site-packages/sklearn/linear_model/_logistic.py\", line 56, in _check_solver\n",
      "    raise ValueError(\n",
      "ValueError: Solver lbfgs supports only 'l2' or 'none' penalties, got l1 penalty.\n",
      "\n",
      "  warnings.warn(some_fits_failed_message, FitFailedWarning)\n",
      "/home/jmartins9/miniconda3/envs/Teste/lib/python3.10/site-packages/sklearn/model_selection/_search.py:976: UserWarning: One or more of the test scores are non-finite: [       nan 0.46751563        nan 0.46669174        nan 0.46361076\n",
      "        nan 0.43826614        nan 0.46652065        nan 0.43876128\n",
      "        nan 0.43947032]\n",
      "  warnings.warn(\n",
      "/home/jmartins9/miniconda3/envs/Teste/lib/python3.10/site-packages/sklearn/linear_model/_logistic.py:460: ConvergenceWarning: lbfgs failed to converge (status=1):\n",
      "STOP: TOTAL NO. of ITERATIONS REACHED LIMIT.\n",
      "\n",
      "Increase the number of iterations (max_iter) or scale the data as shown in:\n",
      "    https://scikit-learn.org/stable/modules/preprocessing.html\n",
      "Please also refer to the documentation for alternative solver options:\n",
      "    https://scikit-learn.org/stable/modules/linear_model.html#logistic-regression\n",
      "  n_iter_i = _check_optimize_result(\n"
     ]
    },
    {
     "data": {
      "text/html": [
       "<style>#sk-container-id-5 {color: black;}#sk-container-id-5 pre{padding: 0;}#sk-container-id-5 div.sk-toggleable {background-color: white;}#sk-container-id-5 label.sk-toggleable__label {cursor: pointer;display: block;width: 100%;margin-bottom: 0;padding: 0.3em;box-sizing: border-box;text-align: center;}#sk-container-id-5 label.sk-toggleable__label-arrow:before {content: \"▸\";float: left;margin-right: 0.25em;color: #696969;}#sk-container-id-5 label.sk-toggleable__label-arrow:hover:before {color: black;}#sk-container-id-5 div.sk-estimator:hover label.sk-toggleable__label-arrow:before {color: black;}#sk-container-id-5 div.sk-toggleable__content {max-height: 0;max-width: 0;overflow: hidden;text-align: left;background-color: #f0f8ff;}#sk-container-id-5 div.sk-toggleable__content pre {margin: 0.2em;color: black;border-radius: 0.25em;background-color: #f0f8ff;}#sk-container-id-5 input.sk-toggleable__control:checked~div.sk-toggleable__content {max-height: 200px;max-width: 100%;overflow: auto;}#sk-container-id-5 input.sk-toggleable__control:checked~label.sk-toggleable__label-arrow:before {content: \"▾\";}#sk-container-id-5 div.sk-estimator input.sk-toggleable__control:checked~label.sk-toggleable__label {background-color: #d4ebff;}#sk-container-id-5 div.sk-label input.sk-toggleable__control:checked~label.sk-toggleable__label {background-color: #d4ebff;}#sk-container-id-5 input.sk-hidden--visually {border: 0;clip: rect(1px 1px 1px 1px);clip: rect(1px, 1px, 1px, 1px);height: 1px;margin: -1px;overflow: hidden;padding: 0;position: absolute;width: 1px;}#sk-container-id-5 div.sk-estimator {font-family: monospace;background-color: #f0f8ff;border: 1px dotted black;border-radius: 0.25em;box-sizing: border-box;margin-bottom: 0.5em;}#sk-container-id-5 div.sk-estimator:hover {background-color: #d4ebff;}#sk-container-id-5 div.sk-parallel-item::after {content: \"\";width: 100%;border-bottom: 1px solid gray;flex-grow: 1;}#sk-container-id-5 div.sk-label:hover label.sk-toggleable__label {background-color: #d4ebff;}#sk-container-id-5 div.sk-serial::before {content: \"\";position: absolute;border-left: 1px solid gray;box-sizing: border-box;top: 0;bottom: 0;left: 50%;z-index: 0;}#sk-container-id-5 div.sk-serial {display: flex;flex-direction: column;align-items: center;background-color: white;padding-right: 0.2em;padding-left: 0.2em;position: relative;}#sk-container-id-5 div.sk-item {position: relative;z-index: 1;}#sk-container-id-5 div.sk-parallel {display: flex;align-items: stretch;justify-content: center;background-color: white;position: relative;}#sk-container-id-5 div.sk-item::before, #sk-container-id-5 div.sk-parallel-item::before {content: \"\";position: absolute;border-left: 1px solid gray;box-sizing: border-box;top: 0;bottom: 0;left: 50%;z-index: -1;}#sk-container-id-5 div.sk-parallel-item {display: flex;flex-direction: column;z-index: 1;position: relative;background-color: white;}#sk-container-id-5 div.sk-parallel-item:first-child::after {align-self: flex-end;width: 50%;}#sk-container-id-5 div.sk-parallel-item:last-child::after {align-self: flex-start;width: 50%;}#sk-container-id-5 div.sk-parallel-item:only-child::after {width: 0;}#sk-container-id-5 div.sk-dashed-wrapped {border: 1px dashed gray;margin: 0 0.4em 0.5em 0.4em;box-sizing: border-box;padding-bottom: 0.4em;background-color: white;}#sk-container-id-5 div.sk-label label {font-family: monospace;font-weight: bold;display: inline-block;line-height: 1.2em;}#sk-container-id-5 div.sk-label-container {text-align: center;}#sk-container-id-5 div.sk-container {/* jupyter's `normalize.less` sets `[hidden] { display: none; }` but bootstrap.min.css set `[hidden] { display: none !important; }` so we also need the `!important` here to be able to override the default hidden behavior on the sphinx rendered scikit-learn.org. See: https://github.com/scikit-learn/scikit-learn/issues/21755 */display: inline-block !important;position: relative;}#sk-container-id-5 div.sk-text-repr-fallback {display: none;}</style><div id=\"sk-container-id-5\" class=\"sk-top-container\"><div class=\"sk-text-repr-fallback\"><pre>GridSearchCV(estimator=LogisticRegression(max_iter=1000),\n",
       "             param_grid={&#x27;C&#x27;: array([1.e-03, 1.e-02, 1.e-01, 1.e+00, 1.e+01, 1.e+02, 1.e+03]),\n",
       "                         &#x27;penalty&#x27;: [&#x27;l1&#x27;, &#x27;l2&#x27;]},\n",
       "             verbose=3)</pre><b>In a Jupyter environment, please rerun this cell to show the HTML representation or trust the notebook. <br />On GitHub, the HTML representation is unable to render, please try loading this page with nbviewer.org.</b></div><div class=\"sk-container\" hidden><div class=\"sk-item sk-dashed-wrapped\"><div class=\"sk-label-container\"><div class=\"sk-label sk-toggleable\"><input class=\"sk-toggleable__control sk-hidden--visually\" id=\"sk-estimator-id-7\" type=\"checkbox\" ><label for=\"sk-estimator-id-7\" class=\"sk-toggleable__label sk-toggleable__label-arrow\">GridSearchCV</label><div class=\"sk-toggleable__content\"><pre>GridSearchCV(estimator=LogisticRegression(max_iter=1000),\n",
       "             param_grid={&#x27;C&#x27;: array([1.e-03, 1.e-02, 1.e-01, 1.e+00, 1.e+01, 1.e+02, 1.e+03]),\n",
       "                         &#x27;penalty&#x27;: [&#x27;l1&#x27;, &#x27;l2&#x27;]},\n",
       "             verbose=3)</pre></div></div></div><div class=\"sk-parallel\"><div class=\"sk-parallel-item\"><div class=\"sk-item\"><div class=\"sk-label-container\"><div class=\"sk-label sk-toggleable\"><input class=\"sk-toggleable__control sk-hidden--visually\" id=\"sk-estimator-id-8\" type=\"checkbox\" ><label for=\"sk-estimator-id-8\" class=\"sk-toggleable__label sk-toggleable__label-arrow\">estimator: LogisticRegression</label><div class=\"sk-toggleable__content\"><pre>LogisticRegression(max_iter=1000)</pre></div></div></div><div class=\"sk-serial\"><div class=\"sk-item\"><div class=\"sk-estimator sk-toggleable\"><input class=\"sk-toggleable__control sk-hidden--visually\" id=\"sk-estimator-id-9\" type=\"checkbox\" ><label for=\"sk-estimator-id-9\" class=\"sk-toggleable__label sk-toggleable__label-arrow\">LogisticRegression</label><div class=\"sk-toggleable__content\"><pre>LogisticRegression(max_iter=1000)</pre></div></div></div></div></div></div></div></div></div></div>"
      ],
      "text/plain": [
       "GridSearchCV(estimator=LogisticRegression(max_iter=1000),\n",
       "             param_grid={'C': array([1.e-03, 1.e-02, 1.e-01, 1.e+00, 1.e+01, 1.e+02, 1.e+03]),\n",
       "                         'penalty': ['l1', 'l2']},\n",
       "             verbose=3)"
      ]
     },
     "execution_count": 69,
     "metadata": {},
     "output_type": "execute_result"
    }
   ],
   "source": [
    "grid_clf_lr.fit(X_train, y_train)"
   ]
  },
  {
   "cell_type": "code",
   "execution_count": 70,
   "metadata": {},
   "outputs": [
    {
     "data": {
      "text/plain": [
       "{'C': 0.001, 'penalty': 'l2'}"
      ]
     },
     "execution_count": 70,
     "metadata": {},
     "output_type": "execute_result"
    }
   ],
   "source": [
    "grid_clf_lr.best_params_"
   ]
  },
  {
   "cell_type": "code",
   "execution_count": 71,
   "metadata": {},
   "outputs": [
    {
     "data": {
      "text/html": [
       "<style>#sk-container-id-6 {color: black;}#sk-container-id-6 pre{padding: 0;}#sk-container-id-6 div.sk-toggleable {background-color: white;}#sk-container-id-6 label.sk-toggleable__label {cursor: pointer;display: block;width: 100%;margin-bottom: 0;padding: 0.3em;box-sizing: border-box;text-align: center;}#sk-container-id-6 label.sk-toggleable__label-arrow:before {content: \"▸\";float: left;margin-right: 0.25em;color: #696969;}#sk-container-id-6 label.sk-toggleable__label-arrow:hover:before {color: black;}#sk-container-id-6 div.sk-estimator:hover label.sk-toggleable__label-arrow:before {color: black;}#sk-container-id-6 div.sk-toggleable__content {max-height: 0;max-width: 0;overflow: hidden;text-align: left;background-color: #f0f8ff;}#sk-container-id-6 div.sk-toggleable__content pre {margin: 0.2em;color: black;border-radius: 0.25em;background-color: #f0f8ff;}#sk-container-id-6 input.sk-toggleable__control:checked~div.sk-toggleable__content {max-height: 200px;max-width: 100%;overflow: auto;}#sk-container-id-6 input.sk-toggleable__control:checked~label.sk-toggleable__label-arrow:before {content: \"▾\";}#sk-container-id-6 div.sk-estimator input.sk-toggleable__control:checked~label.sk-toggleable__label {background-color: #d4ebff;}#sk-container-id-6 div.sk-label input.sk-toggleable__control:checked~label.sk-toggleable__label {background-color: #d4ebff;}#sk-container-id-6 input.sk-hidden--visually {border: 0;clip: rect(1px 1px 1px 1px);clip: rect(1px, 1px, 1px, 1px);height: 1px;margin: -1px;overflow: hidden;padding: 0;position: absolute;width: 1px;}#sk-container-id-6 div.sk-estimator {font-family: monospace;background-color: #f0f8ff;border: 1px dotted black;border-radius: 0.25em;box-sizing: border-box;margin-bottom: 0.5em;}#sk-container-id-6 div.sk-estimator:hover {background-color: #d4ebff;}#sk-container-id-6 div.sk-parallel-item::after {content: \"\";width: 100%;border-bottom: 1px solid gray;flex-grow: 1;}#sk-container-id-6 div.sk-label:hover label.sk-toggleable__label {background-color: #d4ebff;}#sk-container-id-6 div.sk-serial::before {content: \"\";position: absolute;border-left: 1px solid gray;box-sizing: border-box;top: 0;bottom: 0;left: 50%;z-index: 0;}#sk-container-id-6 div.sk-serial {display: flex;flex-direction: column;align-items: center;background-color: white;padding-right: 0.2em;padding-left: 0.2em;position: relative;}#sk-container-id-6 div.sk-item {position: relative;z-index: 1;}#sk-container-id-6 div.sk-parallel {display: flex;align-items: stretch;justify-content: center;background-color: white;position: relative;}#sk-container-id-6 div.sk-item::before, #sk-container-id-6 div.sk-parallel-item::before {content: \"\";position: absolute;border-left: 1px solid gray;box-sizing: border-box;top: 0;bottom: 0;left: 50%;z-index: -1;}#sk-container-id-6 div.sk-parallel-item {display: flex;flex-direction: column;z-index: 1;position: relative;background-color: white;}#sk-container-id-6 div.sk-parallel-item:first-child::after {align-self: flex-end;width: 50%;}#sk-container-id-6 div.sk-parallel-item:last-child::after {align-self: flex-start;width: 50%;}#sk-container-id-6 div.sk-parallel-item:only-child::after {width: 0;}#sk-container-id-6 div.sk-dashed-wrapped {border: 1px dashed gray;margin: 0 0.4em 0.5em 0.4em;box-sizing: border-box;padding-bottom: 0.4em;background-color: white;}#sk-container-id-6 div.sk-label label {font-family: monospace;font-weight: bold;display: inline-block;line-height: 1.2em;}#sk-container-id-6 div.sk-label-container {text-align: center;}#sk-container-id-6 div.sk-container {/* jupyter's `normalize.less` sets `[hidden] { display: none; }` but bootstrap.min.css set `[hidden] { display: none !important; }` so we also need the `!important` here to be able to override the default hidden behavior on the sphinx rendered scikit-learn.org. See: https://github.com/scikit-learn/scikit-learn/issues/21755 */display: inline-block !important;position: relative;}#sk-container-id-6 div.sk-text-repr-fallback {display: none;}</style><div id=\"sk-container-id-6\" class=\"sk-top-container\"><div class=\"sk-text-repr-fallback\"><pre>LogisticRegression(C=0.001, max_iter=1000)</pre><b>In a Jupyter environment, please rerun this cell to show the HTML representation or trust the notebook. <br />On GitHub, the HTML representation is unable to render, please try loading this page with nbviewer.org.</b></div><div class=\"sk-container\" hidden><div class=\"sk-item\"><div class=\"sk-estimator sk-toggleable\"><input class=\"sk-toggleable__control sk-hidden--visually\" id=\"sk-estimator-id-10\" type=\"checkbox\" checked><label for=\"sk-estimator-id-10\" class=\"sk-toggleable__label sk-toggleable__label-arrow\">LogisticRegression</label><div class=\"sk-toggleable__content\"><pre>LogisticRegression(C=0.001, max_iter=1000)</pre></div></div></div></div></div>"
      ],
      "text/plain": [
       "LogisticRegression(C=0.001, max_iter=1000)"
      ]
     },
     "execution_count": 71,
     "metadata": {},
     "output_type": "execute_result"
    }
   ],
   "source": [
    "grid_clf_lr.best_estimator_"
   ]
  },
  {
   "cell_type": "code",
   "execution_count": 72,
   "metadata": {},
   "outputs": [
    {
     "name": "stdout",
     "output_type": "stream",
     "text": [
      "              precision    recall  f1-score   support\n",
      "\n",
      "         0.0       0.58      0.61      0.59     22247\n",
      "         1.0       0.43      0.29      0.34     22298\n",
      "         2.0       0.56      0.71      0.63     23077\n",
      "\n",
      "    accuracy                           0.54     67622\n",
      "   macro avg       0.52      0.53      0.52     67622\n",
      "weighted avg       0.52      0.54      0.52     67622\n",
      "\n"
     ]
    }
   ],
   "source": [
    "grid_lr_predictions = grid_clf_lr.predict(X_test)\n",
    "print(classification_report(y_test, grid_lr_predictions))"
   ]
  },
  {
   "cell_type": "code",
   "execution_count": 136,
   "metadata": {},
   "outputs": [
    {
     "data": {
      "text/html": [
       "<div>\n",
       "<style scoped>\n",
       "    .dataframe tbody tr th:only-of-type {\n",
       "        vertical-align: middle;\n",
       "    }\n",
       "\n",
       "    .dataframe tbody tr th {\n",
       "        vertical-align: top;\n",
       "    }\n",
       "\n",
       "    .dataframe thead th {\n",
       "        text-align: right;\n",
       "    }\n",
       "</style>\n",
       "<table border=\"1\" class=\"dataframe\">\n",
       "  <thead>\n",
       "    <tr style=\"text-align: right;\">\n",
       "      <th></th>\n",
       "      <th>prediction_binned</th>\n",
       "      <th>popularity_binned</th>\n",
       "    </tr>\n",
       "  </thead>\n",
       "  <tbody>\n",
       "    <tr>\n",
       "      <th>4</th>\n",
       "      <td>1.0</td>\n",
       "      <td>0.0</td>\n",
       "    </tr>\n",
       "    <tr>\n",
       "      <th>59</th>\n",
       "      <td>2.0</td>\n",
       "      <td>0.0</td>\n",
       "    </tr>\n",
       "    <tr>\n",
       "      <th>75</th>\n",
       "      <td>2.0</td>\n",
       "      <td>0.0</td>\n",
       "    </tr>\n",
       "    <tr>\n",
       "      <th>81</th>\n",
       "      <td>2.0</td>\n",
       "      <td>0.0</td>\n",
       "    </tr>\n",
       "    <tr>\n",
       "      <th>84</th>\n",
       "      <td>2.0</td>\n",
       "      <td>0.0</td>\n",
       "    </tr>\n",
       "  </tbody>\n",
       "</table>\n",
       "</div>"
      ],
      "text/plain": [
       "    prediction_binned  popularity_binned\n",
       "4                 1.0                0.0\n",
       "59                2.0                0.0\n",
       "75                2.0                0.0\n",
       "81                2.0                0.0\n",
       "84                2.0                0.0"
      ]
     },
     "execution_count": 136,
     "metadata": {},
     "output_type": "execute_result"
    }
   ],
   "source": [
    "df = pd.DataFrame(grid_lr_predictions, columns = ['prediction_binned'])\n",
    "pred_actual = df.merge(right=y_test, left_index=True, right_index=True)\n",
    "pred_actual.head()"
   ]
  },
  {
   "cell_type": "code",
   "execution_count": 74,
   "metadata": {},
   "outputs": [
    {
     "data": {
      "image/png": "[encoded data removed]",
      "text/plain": [
       "<Figure size 640x480 with 1 Axes>"
      ]
     },
     "metadata": {},
     "output_type": "display_data"
    }
   ],
   "source": [
    "# Create histograms for each column\n",
    "plt.hist(pred_actual['prediction_binned'], align='left', bins=30, alpha=0.5, label='Prediction')\n",
    "plt.hist(pred_actual['popularity'], align='right', bins=30, alpha=0.5, label='Popularity')\n",
    "\n",
    "# Add labels and title\n",
    "plt.xlabel('Value')\n",
    "plt.ylabel('Frequency')\n",
    "plt.title('Histogram for Two Columns')\n",
    "plt.legend()  # Show legend with labels\n",
    "\n",
    "# Display the plot\n",
    "plt.show()"
   ]
  },
  {
   "cell_type": "markdown",
   "metadata": {},
   "source": [
    "Random Forest"
   ]
  },
  {
   "cell_type": "code",
   "execution_count": 75,
   "metadata": {},
   "outputs": [],
   "source": [
    "from sklearn.ensemble import RandomForestClassifier\n",
    "rf = RandomForestClassifier(n_estimators=100, max_depth=10, random_state=0)"
   ]
  },
  {
   "cell_type": "code",
   "execution_count": 76,
   "metadata": {},
   "outputs": [
    {
     "data": {
      "text/html": [
       "<style>#sk-container-id-7 {color: black;}#sk-container-id-7 pre{padding: 0;}#sk-container-id-7 div.sk-toggleable {background-color: white;}#sk-container-id-7 label.sk-toggleable__label {cursor: pointer;display: block;width: 100%;margin-bottom: 0;padding: 0.3em;box-sizing: border-box;text-align: center;}#sk-container-id-7 label.sk-toggleable__label-arrow:before {content: \"▸\";float: left;margin-right: 0.25em;color: #696969;}#sk-container-id-7 label.sk-toggleable__label-arrow:hover:before {color: black;}#sk-container-id-7 div.sk-estimator:hover label.sk-toggleable__label-arrow:before {color: black;}#sk-container-id-7 div.sk-toggleable__content {max-height: 0;max-width: 0;overflow: hidden;text-align: left;background-color: #f0f8ff;}#sk-container-id-7 div.sk-toggleable__content pre {margin: 0.2em;color: black;border-radius: 0.25em;background-color: #f0f8ff;}#sk-container-id-7 input.sk-toggleable__control:checked~div.sk-toggleable__content {max-height: 200px;max-width: 100%;overflow: auto;}#sk-container-id-7 input.sk-toggleable__control:checked~label.sk-toggleable__label-arrow:before {content: \"▾\";}#sk-container-id-7 div.sk-estimator input.sk-toggleable__control:checked~label.sk-toggleable__label {background-color: #d4ebff;}#sk-container-id-7 div.sk-label input.sk-toggleable__control:checked~label.sk-toggleable__label {background-color: #d4ebff;}#sk-container-id-7 input.sk-hidden--visually {border: 0;clip: rect(1px 1px 1px 1px);clip: rect(1px, 1px, 1px, 1px);height: 1px;margin: -1px;overflow: hidden;padding: 0;position: absolute;width: 1px;}#sk-container-id-7 div.sk-estimator {font-family: monospace;background-color: #f0f8ff;border: 1px dotted black;border-radius: 0.25em;box-sizing: border-box;margin-bottom: 0.5em;}#sk-container-id-7 div.sk-estimator:hover {background-color: #d4ebff;}#sk-container-id-7 div.sk-parallel-item::after {content: \"\";width: 100%;border-bottom: 1px solid gray;flex-grow: 1;}#sk-container-id-7 div.sk-label:hover label.sk-toggleable__label {background-color: #d4ebff;}#sk-container-id-7 div.sk-serial::before {content: \"\";position: absolute;border-left: 1px solid gray;box-sizing: border-box;top: 0;bottom: 0;left: 50%;z-index: 0;}#sk-container-id-7 div.sk-serial {display: flex;flex-direction: column;align-items: center;background-color: white;padding-right: 0.2em;padding-left: 0.2em;position: relative;}#sk-container-id-7 div.sk-item {position: relative;z-index: 1;}#sk-container-id-7 div.sk-parallel {display: flex;align-items: stretch;justify-content: center;background-color: white;position: relative;}#sk-container-id-7 div.sk-item::before, #sk-container-id-7 div.sk-parallel-item::before {content: \"\";position: absolute;border-left: 1px solid gray;box-sizing: border-box;top: 0;bottom: 0;left: 50%;z-index: -1;}#sk-container-id-7 div.sk-parallel-item {display: flex;flex-direction: column;z-index: 1;position: relative;background-color: white;}#sk-container-id-7 div.sk-parallel-item:first-child::after {align-self: flex-end;width: 50%;}#sk-container-id-7 div.sk-parallel-item:last-child::after {align-self: flex-start;width: 50%;}#sk-container-id-7 div.sk-parallel-item:only-child::after {width: 0;}#sk-container-id-7 div.sk-dashed-wrapped {border: 1px dashed gray;margin: 0 0.4em 0.5em 0.4em;box-sizing: border-box;padding-bottom: 0.4em;background-color: white;}#sk-container-id-7 div.sk-label label {font-family: monospace;font-weight: bold;display: inline-block;line-height: 1.2em;}#sk-container-id-7 div.sk-label-container {text-align: center;}#sk-container-id-7 div.sk-container {/* jupyter's `normalize.less` sets `[hidden] { display: none; }` but bootstrap.min.css set `[hidden] { display: none !important; }` so we also need the `!important` here to be able to override the default hidden behavior on the sphinx rendered scikit-learn.org. See: https://github.com/scikit-learn/scikit-learn/issues/21755 */display: inline-block !important;position: relative;}#sk-container-id-7 div.sk-text-repr-fallback {display: none;}</style><div id=\"sk-container-id-7\" class=\"sk-top-container\"><div class=\"sk-text-repr-fallback\"><pre>RandomForestClassifier(max_depth=10, random_state=0)</pre><b>In a Jupyter environment, please rerun this cell to show the HTML representation or trust the notebook. <br />On GitHub, the HTML representation is unable to render, please try loading this page with nbviewer.org.</b></div><div class=\"sk-container\" hidden><div class=\"sk-item\"><div class=\"sk-estimator sk-toggleable\"><input class=\"sk-toggleable__control sk-hidden--visually\" id=\"sk-estimator-id-11\" type=\"checkbox\" checked><label for=\"sk-estimator-id-11\" class=\"sk-toggleable__label sk-toggleable__label-arrow\">RandomForestClassifier</label><div class=\"sk-toggleable__content\"><pre>RandomForestClassifier(max_depth=10, random_state=0)</pre></div></div></div></div></div>"
      ],
      "text/plain": [
       "RandomForestClassifier(max_depth=10, random_state=0)"
      ]
     },
     "execution_count": 76,
     "metadata": {},
     "output_type": "execute_result"
    }
   ],
   "source": [
    "rf.fit(X_train, y_train)"
   ]
  },
  {
   "cell_type": "code",
   "execution_count": 77,
   "metadata": {},
   "outputs": [
    {
     "data": {
      "text/plain": [
       "array([1., 0., 1., ..., 0., 1., 2.])"
      ]
     },
     "execution_count": 77,
     "metadata": {},
     "output_type": "execute_result"
    }
   ],
   "source": [
    "predictions = rf.predict(X_test)\n",
    "predictions"
   ]
  },
  {
   "cell_type": "code",
   "execution_count": 78,
   "metadata": {},
   "outputs": [
    {
     "name": "stdout",
     "output_type": "stream",
     "text": [
      "              precision    recall  f1-score   support\n",
      "\n",
      "         0.0       0.94      0.91      0.92     22247\n",
      "         1.0       0.70      0.83      0.76     22298\n",
      "         2.0       0.87      0.74      0.80     23077\n",
      "\n",
      "    accuracy                           0.82     67622\n",
      "   macro avg       0.83      0.82      0.83     67622\n",
      "weighted avg       0.83      0.82      0.83     67622\n",
      "\n"
     ]
    }
   ],
   "source": [
    "print(classification_report(y_test, predictions))"
   ]
  },
  {
   "cell_type": "markdown",
   "metadata": {},
   "source": [
    "### Redes Neuronais"
   ]
  },
  {
   "cell_type": "code",
   "execution_count": 79,
   "metadata": {},
   "outputs": [
    {
     "name": "stderr",
     "output_type": "stream",
     "text": [
      "2023-11-22 22:06:34.519819: I tensorflow/core/platform/cpu_feature_guard.cc:182] This TensorFlow binary is optimized to use available CPU instructions in performance-critical operations.\n",
      "To enable the following instructions: SSE4.1 SSE4.2 AVX AVX2 FMA, in other operations, rebuild TensorFlow with the appropriate compiler flags.\n"
     ]
    }
   ],
   "source": [
    "import tensorflow as tf\n",
    "from tensorflow import keras\n",
    "from tensorflow.keras.models import Sequential\n",
    "from tensorflow.keras.layers import Dense, Dropout, BatchNormalization\n",
    "from scikeras.wrappers import KerasClassifier"
   ]
  },
  {
   "cell_type": "code",
   "execution_count": 80,
   "metadata": {},
   "outputs": [],
   "source": [
    "def build_model(activation='relu', learning_rate=0.01):\n",
    "    model = Sequential()\n",
    "    model.add(Dense(16, input_dim=X_train.shape[1], activation=activation))\n",
    "    model.add(Dense(32, activation=activation))\n",
    "    model.add(Dense(32, activation=activation))\n",
    "    model.add(Dense(1, activation=activation)) # output\n",
    "\n",
    "    # Compile the model\n",
    "    model.compile(loss='binary_crossentropy',\n",
    "        optimizer='sgd',\n",
    "        metrics=['accuracy'])\n",
    "    return model"
   ]
  },
  {
   "cell_type": "markdown",
   "metadata": {},
   "source": [
    "Construção do modelo"
   ]
  },
  {
   "cell_type": "code",
   "execution_count": 81,
   "metadata": {},
   "outputs": [
    {
     "name": "stdout",
     "output_type": "stream",
     "text": [
      "Model: \"sequential\"\n",
      "_________________________________________________________________\n",
      " Layer (type)                Output Shape              Param #   \n",
      "=================================================================\n",
      " dense (Dense)               (None, 16)                272       \n",
      "                                                                 \n",
      " dense_1 (Dense)             (None, 32)                544       \n",
      "                                                                 \n",
      " dense_2 (Dense)             (None, 32)                1056      \n",
      "                                                                 \n",
      " dense_3 (Dense)             (None, 1)                 33        \n",
      "                                                                 \n",
      "=================================================================\n",
      "Total params: 1,905\n",
      "Trainable params: 1,905\n",
      "Non-trainable params: 0\n",
      "_________________________________________________________________\n"
     ]
    },
    {
     "name": "stderr",
     "output_type": "stream",
     "text": [
      "2023-11-22 22:06:45.380694: I tensorflow/core/common_runtime/process_util.cc:146] Creating new thread pool with default inter op setting: 2. Tune using inter_op_parallelism_threads for best performance.\n"
     ]
    }
   ],
   "source": [
    "model = build_model()\n",
    "model.summary()"
   ]
  },
  {
   "cell_type": "markdown",
   "metadata": {},
   "source": [
    "GridSearch"
   ]
  },
  {
   "cell_type": "code",
   "execution_count": 82,
   "metadata": {},
   "outputs": [],
   "source": [
    "#optimizer = ['SGD', 'RMSprop', 'Adagrad']\n",
    "optimizer = ['SGD'] # foi o que apresentou melhores resultados\n",
    "param_grid = dict(optimizer = optimizer)"
   ]
  },
  {
   "cell_type": "code",
   "execution_count": 83,
   "metadata": {},
   "outputs": [],
   "source": [
    "kf = KFold(n_splits=5, shuffle=True, random_state=2021)"
   ]
  },
  {
   "cell_type": "markdown",
   "metadata": {},
   "source": [
    "Keras Classifier"
   ]
  },
  {
   "cell_type": "code",
   "execution_count": 84,
   "metadata": {},
   "outputs": [],
   "source": [
    "model = KerasClassifier(model = build_model, batch_size = 32, validation_split=0.2, epochs=10)"
   ]
  },
  {
   "cell_type": "markdown",
   "metadata": {},
   "source": [
    "Criar um modelo Grid Search"
   ]
  },
  {
   "cell_type": "code",
   "execution_count": 85,
   "metadata": {},
   "outputs": [],
   "source": [
    "grid_search = GridSearchCV(estimator = model, param_grid = param_grid, cv = kf, scoring='accuracy', refit='True', verbose=1)"
   ]
  },
  {
   "cell_type": "code",
   "execution_count": 86,
   "metadata": {},
   "outputs": [
    {
     "name": "stdout",
     "output_type": "stream",
     "text": [
      "Fitting 5 folds for each of 1 candidates, totalling 5 fits\n",
      "Epoch 1/10\n",
      "3156/3156 [==============================] - 19s 6ms/step - loss: 15.5659 - accuracy: 0.3271 - val_loss: 15.5808 - val_accuracy: 0.3305\n",
      "Epoch 2/10\n",
      "3156/3156 [==============================] - 19s 6ms/step - loss: 15.6045 - accuracy: 0.3293 - val_loss: 15.5808 - val_accuracy: 0.3305\n",
      "Epoch 3/10\n",
      "3156/3156 [==============================] - 20s 6ms/step - loss: 15.6045 - accuracy: 0.3293 - val_loss: 15.5808 - val_accuracy: 0.3305\n",
      "Epoch 4/10\n",
      "3156/3156 [==============================] - 17s 5ms/step - loss: 15.6045 - accuracy: 0.3293 - val_loss: 15.5808 - val_accuracy: 0.3305\n",
      "Epoch 5/10\n",
      "3156/3156 [==============================] - 17s 5ms/step - loss: 15.6045 - accuracy: 0.3293 - val_loss: 15.5808 - val_accuracy: 0.3305\n",
      "Epoch 6/10\n",
      "3156/3156 [==============================] - 18s 6ms/step - loss: 15.6045 - accuracy: 0.3293 - val_loss: 15.5808 - val_accuracy: 0.3305\n",
      "Epoch 7/10\n",
      "3156/3156 [==============================] - 17s 5ms/step - loss: 15.6045 - accuracy: 0.3293 - val_loss: 15.5808 - val_accuracy: 0.3305\n",
      "Epoch 8/10\n",
      "3156/3156 [==============================] - 17s 6ms/step - loss: 15.6045 - accuracy: 0.3293 - val_loss: 15.5808 - val_accuracy: 0.3305\n",
      "Epoch 9/10\n",
      "3156/3156 [==============================] - 18s 6ms/step - loss: 15.6045 - accuracy: 0.3293 - val_loss: 15.5808 - val_accuracy: 0.3305\n",
      "Epoch 10/10\n",
      "3156/3156 [==============================] - 17s 5ms/step - loss: 15.6045 - accuracy: 0.3293 - val_loss: 15.5808 - val_accuracy: 0.3305\n",
      "987/987 [==============================] - 4s 4ms/step\n",
      "Epoch 1/10\n",
      "3156/3156 [==============================] - 19s 6ms/step - loss: 15.5793 - accuracy: 0.3299 - val_loss: 15.5563 - val_accuracy: 0.3326\n",
      "Epoch 2/10\n",
      "3156/3156 [==============================] - 17s 5ms/step - loss: 15.5793 - accuracy: 0.3299 - val_loss: 15.5563 - val_accuracy: 0.3326\n",
      "Epoch 3/10\n",
      "3156/3156 [==============================] - 20s 6ms/step - loss: 15.5793 - accuracy: 0.3299 - val_loss: 15.5563 - val_accuracy: 0.3326\n",
      "Epoch 4/10\n",
      "3156/3156 [==============================] - 20s 6ms/step - loss: 15.5793 - accuracy: 0.3299 - val_loss: 15.5563 - val_accuracy: 0.3326\n",
      "Epoch 5/10\n",
      "3156/3156 [==============================] - 16s 5ms/step - loss: 15.5793 - accuracy: 0.3299 - val_loss: 15.5563 - val_accuracy: 0.3326\n",
      "Epoch 6/10\n",
      "3156/3156 [==============================] - 14s 4ms/step - loss: 15.5793 - accuracy: 0.3299 - val_loss: 15.5563 - val_accuracy: 0.3326\n",
      "Epoch 7/10\n",
      "3156/3156 [==============================] - 16s 5ms/step - loss: 15.5793 - accuracy: 0.3299 - val_loss: 15.5563 - val_accuracy: 0.3326\n",
      "Epoch 8/10\n",
      "3156/3156 [==============================] - 16s 5ms/step - loss: 15.5793 - accuracy: 0.3299 - val_loss: 15.5563 - val_accuracy: 0.3326\n",
      "Epoch 9/10\n",
      "3156/3156 [==============================] - 15s 5ms/step - loss: 15.5793 - accuracy: 0.3299 - val_loss: 15.5563 - val_accuracy: 0.3326\n",
      "Epoch 10/10\n",
      "3156/3156 [==============================] - 15s 5ms/step - loss: 15.5793 - accuracy: 0.3299 - val_loss: 15.5563 - val_accuracy: 0.3326\n",
      "987/987 [==============================] - 3s 3ms/step\n",
      "Epoch 1/10\n",
      "3156/3156 [==============================] - 16s 5ms/step - loss: 15.5842 - accuracy: 0.3303 - val_loss: 15.6052 - val_accuracy: 0.3307\n",
      "Epoch 2/10\n",
      "3156/3156 [==============================] - 18s 6ms/step - loss: 15.5842 - accuracy: 0.3303 - val_loss: 15.6052 - val_accuracy: 0.3307\n",
      "Epoch 3/10\n",
      "3156/3156 [==============================] - 22s 7ms/step - loss: 15.5841 - accuracy: 0.3303 - val_loss: 15.6052 - val_accuracy: 0.3307\n",
      "Epoch 4/10\n",
      "3156/3156 [==============================] - 20s 6ms/step - loss: 15.5842 - accuracy: 0.3303 - val_loss: 15.6052 - val_accuracy: 0.3307\n",
      "Epoch 5/10\n",
      "3156/3156 [==============================] - 25s 8ms/step - loss: 15.5842 - accuracy: 0.3303 - val_loss: 15.6052 - val_accuracy: 0.3307\n",
      "Epoch 6/10\n",
      "3156/3156 [==============================] - 17s 5ms/step - loss: 15.5842 - accuracy: 0.3303 - val_loss: 15.6052 - val_accuracy: 0.3307\n",
      "Epoch 7/10\n",
      "3156/3156 [==============================] - 16s 5ms/step - loss: 15.5842 - accuracy: 0.3303 - val_loss: 15.6052 - val_accuracy: 0.3307\n",
      "Epoch 8/10\n",
      "3156/3156 [==============================] - 19s 6ms/step - loss: 15.5842 - accuracy: 0.3303 - val_loss: 15.6052 - val_accuracy: 0.3307\n",
      "Epoch 9/10\n",
      "3156/3156 [==============================] - 17s 5ms/step - loss: 15.5842 - accuracy: 0.3303 - val_loss: 15.6052 - val_accuracy: 0.3307\n",
      "Epoch 10/10\n",
      "3156/3156 [==============================] - 18s 6ms/step - loss: 15.5842 - accuracy: 0.3303 - val_loss: 15.6052 - val_accuracy: 0.3307\n",
      "987/987 [==============================] - 3s 3ms/step\n",
      "Epoch 1/10\n",
      "3156/3156 [==============================] - 22s 7ms/step - loss: -0.1503 - accuracy: 0.3301 - val_loss: -0.1643 - val_accuracy: 0.3267\n",
      "Epoch 2/10\n",
      "3156/3156 [==============================] - 14s 5ms/step - loss: -0.1503 - accuracy: 0.3301 - val_loss: -0.1643 - val_accuracy: 0.3267\n",
      "Epoch 3/10\n",
      "3156/3156 [==============================] - 17s 5ms/step - loss: -0.1503 - accuracy: 0.3301 - val_loss: -0.1643 - val_accuracy: 0.3267\n",
      "Epoch 4/10\n",
      "3156/3156 [==============================] - 15s 5ms/step - loss: -0.1503 - accuracy: 0.3301 - val_loss: -0.1643 - val_accuracy: 0.3267\n",
      "Epoch 5/10\n",
      "3156/3156 [==============================] - 14s 5ms/step - loss: -0.1503 - accuracy: 0.3301 - val_loss: -0.1643 - val_accuracy: 0.3267\n",
      "Epoch 6/10\n",
      "3156/3156 [==============================] - 20s 6ms/step - loss: -0.1503 - accuracy: 0.3301 - val_loss: -0.1643 - val_accuracy: 0.3267\n",
      "Epoch 7/10\n",
      "3156/3156 [==============================] - 21s 7ms/step - loss: -0.1503 - accuracy: 0.3301 - val_loss: -0.1643 - val_accuracy: 0.3267\n",
      "Epoch 8/10\n",
      "3156/3156 [==============================] - 19s 6ms/step - loss: -0.1503 - accuracy: 0.3301 - val_loss: -0.1643 - val_accuracy: 0.3267\n",
      "Epoch 9/10\n",
      "3156/3156 [==============================] - 16s 5ms/step - loss: -0.1503 - accuracy: 0.3301 - val_loss: -0.1643 - val_accuracy: 0.3267\n",
      "Epoch 10/10\n",
      "3156/3156 [==============================] - 16s 5ms/step - loss: -0.1503 - accuracy: 0.3301 - val_loss: -0.1643 - val_accuracy: 0.3267\n",
      "987/987 [==============================] - 4s 4ms/step\n",
      "Epoch 1/10\n",
      "3156/3156 [==============================] - 14s 4ms/step - loss: 15.5683 - accuracy: 0.3306 - val_loss: 15.5637 - val_accuracy: 0.3321\n",
      "Epoch 2/10\n",
      "3156/3156 [==============================] - 21s 7ms/step - loss: 15.5683 - accuracy: 0.3306 - val_loss: 15.5637 - val_accuracy: 0.3321\n",
      "Epoch 3/10\n",
      "3156/3156 [==============================] - 18s 6ms/step - loss: 15.5683 - accuracy: 0.3306 - val_loss: 15.5637 - val_accuracy: 0.3321\n",
      "Epoch 4/10\n",
      "3156/3156 [==============================] - 16s 5ms/step - loss: 15.5683 - accuracy: 0.3306 - val_loss: 15.5637 - val_accuracy: 0.3321\n",
      "Epoch 5/10\n",
      "3156/3156 [==============================] - 19s 6ms/step - loss: 15.5683 - accuracy: 0.3306 - val_loss: 15.5637 - val_accuracy: 0.3321\n",
      "Epoch 6/10\n",
      "3156/3156 [==============================] - 18s 6ms/step - loss: 15.5683 - accuracy: 0.3306 - val_loss: 15.5637 - val_accuracy: 0.3321\n",
      "Epoch 7/10\n",
      "3156/3156 [==============================] - 17s 5ms/step - loss: 15.5683 - accuracy: 0.3306 - val_loss: 15.5637 - val_accuracy: 0.3321\n",
      "Epoch 8/10\n",
      "3156/3156 [==============================] - 16s 5ms/step - loss: 15.5683 - accuracy: 0.3306 - val_loss: 15.5637 - val_accuracy: 0.3321\n",
      "Epoch 9/10\n",
      "3156/3156 [==============================] - 18s 6ms/step - loss: 15.5683 - accuracy: 0.3306 - val_loss: 15.5637 - val_accuracy: 0.3321\n",
      "Epoch 10/10\n",
      "3156/3156 [==============================] - 16s 5ms/step - loss: 15.5683 - accuracy: 0.3306 - val_loss: 15.5637 - val_accuracy: 0.3321\n",
      "987/987 [==============================] - 4s 4ms/step\n",
      "Epoch 1/10\n",
      "3945/3945 [==============================] - 22s 5ms/step - loss: 15.4531 - accuracy: 0.3268 - val_loss: 15.5789 - val_accuracy: 0.3314\n",
      "Epoch 2/10\n",
      "3945/3945 [==============================] - 23s 6ms/step - loss: 15.5827 - accuracy: 0.3300 - val_loss: 15.5789 - val_accuracy: 0.3314\n",
      "Epoch 3/10\n",
      "3945/3945 [==============================] - 23s 6ms/step - loss: 15.5827 - accuracy: 0.3300 - val_loss: 15.5789 - val_accuracy: 0.3314\n",
      "Epoch 4/10\n",
      "3945/3945 [==============================] - 23s 6ms/step - loss: 15.5828 - accuracy: 0.3300 - val_loss: 15.5789 - val_accuracy: 0.3314\n",
      "Epoch 5/10\n",
      "3945/3945 [==============================] - 22s 6ms/step - loss: 15.5828 - accuracy: 0.3300 - val_loss: 15.5789 - val_accuracy: 0.3314\n",
      "Epoch 6/10\n",
      "3945/3945 [==============================] - 24s 6ms/step - loss: 15.5828 - accuracy: 0.3300 - val_loss: 15.5789 - val_accuracy: 0.3314\n",
      "Epoch 7/10\n",
      "3945/3945 [==============================] - 21s 5ms/step - loss: 15.5828 - accuracy: 0.3300 - val_loss: 15.5789 - val_accuracy: 0.3314\n",
      "Epoch 8/10\n",
      "3945/3945 [==============================] - 23s 6ms/step - loss: 15.5827 - accuracy: 0.3300 - val_loss: 15.5789 - val_accuracy: 0.3314\n",
      "Epoch 9/10\n",
      "3945/3945 [==============================] - 23s 6ms/step - loss: 15.5827 - accuracy: 0.3300 - val_loss: 15.5789 - val_accuracy: 0.3314\n",
      "Epoch 10/10\n",
      "3945/3945 [==============================] - 24s 6ms/step - loss: 15.5828 - accuracy: 0.3300 - val_loss: 15.5789 - val_accuracy: 0.3314\n"
     ]
    },
    {
     "data": {
      "text/html": [
       "<style>#sk-container-id-8 {color: black;}#sk-container-id-8 pre{padding: 0;}#sk-container-id-8 div.sk-toggleable {background-color: white;}#sk-container-id-8 label.sk-toggleable__label {cursor: pointer;display: block;width: 100%;margin-bottom: 0;padding: 0.3em;box-sizing: border-box;text-align: center;}#sk-container-id-8 label.sk-toggleable__label-arrow:before {content: \"▸\";float: left;margin-right: 0.25em;color: #696969;}#sk-container-id-8 label.sk-toggleable__label-arrow:hover:before {color: black;}#sk-container-id-8 div.sk-estimator:hover label.sk-toggleable__label-arrow:before {color: black;}#sk-container-id-8 div.sk-toggleable__content {max-height: 0;max-width: 0;overflow: hidden;text-align: left;background-color: #f0f8ff;}#sk-container-id-8 div.sk-toggleable__content pre {margin: 0.2em;color: black;border-radius: 0.25em;background-color: #f0f8ff;}#sk-container-id-8 input.sk-toggleable__control:checked~div.sk-toggleable__content {max-height: 200px;max-width: 100%;overflow: auto;}#sk-container-id-8 input.sk-toggleable__control:checked~label.sk-toggleable__label-arrow:before {content: \"▾\";}#sk-container-id-8 div.sk-estimator input.sk-toggleable__control:checked~label.sk-toggleable__label {background-color: #d4ebff;}#sk-container-id-8 div.sk-label input.sk-toggleable__control:checked~label.sk-toggleable__label {background-color: #d4ebff;}#sk-container-id-8 input.sk-hidden--visually {border: 0;clip: rect(1px 1px 1px 1px);clip: rect(1px, 1px, 1px, 1px);height: 1px;margin: -1px;overflow: hidden;padding: 0;position: absolute;width: 1px;}#sk-container-id-8 div.sk-estimator {font-family: monospace;background-color: #f0f8ff;border: 1px dotted black;border-radius: 0.25em;box-sizing: border-box;margin-bottom: 0.5em;}#sk-container-id-8 div.sk-estimator:hover {background-color: #d4ebff;}#sk-container-id-8 div.sk-parallel-item::after {content: \"\";width: 100%;border-bottom: 1px solid gray;flex-grow: 1;}#sk-container-id-8 div.sk-label:hover label.sk-toggleable__label {background-color: #d4ebff;}#sk-container-id-8 div.sk-serial::before {content: \"\";position: absolute;border-left: 1px solid gray;box-sizing: border-box;top: 0;bottom: 0;left: 50%;z-index: 0;}#sk-container-id-8 div.sk-serial {display: flex;flex-direction: column;align-items: center;background-color: white;padding-right: 0.2em;padding-left: 0.2em;position: relative;}#sk-container-id-8 div.sk-item {position: relative;z-index: 1;}#sk-container-id-8 div.sk-parallel {display: flex;align-items: stretch;justify-content: center;background-color: white;position: relative;}#sk-container-id-8 div.sk-item::before, #sk-container-id-8 div.sk-parallel-item::before {content: \"\";position: absolute;border-left: 1px solid gray;box-sizing: border-box;top: 0;bottom: 0;left: 50%;z-index: -1;}#sk-container-id-8 div.sk-parallel-item {display: flex;flex-direction: column;z-index: 1;position: relative;background-color: white;}#sk-container-id-8 div.sk-parallel-item:first-child::after {align-self: flex-end;width: 50%;}#sk-container-id-8 div.sk-parallel-item:last-child::after {align-self: flex-start;width: 50%;}#sk-container-id-8 div.sk-parallel-item:only-child::after {width: 0;}#sk-container-id-8 div.sk-dashed-wrapped {border: 1px dashed gray;margin: 0 0.4em 0.5em 0.4em;box-sizing: border-box;padding-bottom: 0.4em;background-color: white;}#sk-container-id-8 div.sk-label label {font-family: monospace;font-weight: bold;display: inline-block;line-height: 1.2em;}#sk-container-id-8 div.sk-label-container {text-align: center;}#sk-container-id-8 div.sk-container {/* jupyter's `normalize.less` sets `[hidden] { display: none; }` but bootstrap.min.css set `[hidden] { display: none !important; }` so we also need the `!important` here to be able to override the default hidden behavior on the sphinx rendered scikit-learn.org. See: https://github.com/scikit-learn/scikit-learn/issues/21755 */display: inline-block !important;position: relative;}#sk-container-id-8 div.sk-text-repr-fallback {display: none;}</style><div id=\"sk-container-id-8\" class=\"sk-top-container\"><div class=\"sk-text-repr-fallback\"><pre>GridSearchCV(cv=KFold(n_splits=5, random_state=2021, shuffle=True),\n",
       "             estimator=KerasClassifier(batch_size=32, epochs=10, model=&lt;function build_model at 0x7f3fa8c81870&gt;, validation_split=0.2),\n",
       "             param_grid={&#x27;optimizer&#x27;: [&#x27;SGD&#x27;]}, refit=&#x27;True&#x27;,\n",
       "             scoring=&#x27;accuracy&#x27;, verbose=1)</pre><b>In a Jupyter environment, please rerun this cell to show the HTML representation or trust the notebook. <br />On GitHub, the HTML representation is unable to render, please try loading this page with nbviewer.org.</b></div><div class=\"sk-container\" hidden><div class=\"sk-item sk-dashed-wrapped\"><div class=\"sk-label-container\"><div class=\"sk-label sk-toggleable\"><input class=\"sk-toggleable__control sk-hidden--visually\" id=\"sk-estimator-id-12\" type=\"checkbox\" ><label for=\"sk-estimator-id-12\" class=\"sk-toggleable__label sk-toggleable__label-arrow\">GridSearchCV</label><div class=\"sk-toggleable__content\"><pre>GridSearchCV(cv=KFold(n_splits=5, random_state=2021, shuffle=True),\n",
       "             estimator=KerasClassifier(batch_size=32, epochs=10, model=&lt;function build_model at 0x7f3fa8c81870&gt;, validation_split=0.2),\n",
       "             param_grid={&#x27;optimizer&#x27;: [&#x27;SGD&#x27;]}, refit=&#x27;True&#x27;,\n",
       "             scoring=&#x27;accuracy&#x27;, verbose=1)</pre></div></div></div><div class=\"sk-parallel\"><div class=\"sk-parallel-item\"><div class=\"sk-item\"><div class=\"sk-label-container\"><div class=\"sk-label sk-toggleable\"><input class=\"sk-toggleable__control sk-hidden--visually\" id=\"sk-estimator-id-13\" type=\"checkbox\" ><label for=\"sk-estimator-id-13\" class=\"sk-toggleable__label sk-toggleable__label-arrow\">estimator: KerasClassifier</label><div class=\"sk-toggleable__content\"><pre>KerasClassifier(\n",
       "\tmodel=&lt;function build_model at 0x7f3fa8c81870&gt;\n",
       "\tbuild_fn=None\n",
       "\twarm_start=False\n",
       "\trandom_state=None\n",
       "\toptimizer=rmsprop\n",
       "\tloss=None\n",
       "\tmetrics=None\n",
       "\tbatch_size=32\n",
       "\tvalidation_batch_size=None\n",
       "\tverbose=1\n",
       "\tcallbacks=None\n",
       "\tvalidation_split=0.2\n",
       "\tshuffle=True\n",
       "\trun_eagerly=False\n",
       "\tepochs=10\n",
       "\tclass_weight=None\n",
       ")</pre></div></div></div><div class=\"sk-serial\"><div class=\"sk-item\"><div class=\"sk-estimator sk-toggleable\"><input class=\"sk-toggleable__control sk-hidden--visually\" id=\"sk-estimator-id-14\" type=\"checkbox\" ><label for=\"sk-estimator-id-14\" class=\"sk-toggleable__label sk-toggleable__label-arrow\">KerasClassifier</label><div class=\"sk-toggleable__content\"><pre>KerasClassifier(\n",
       "\tmodel=&lt;function build_model at 0x7f3fa8c81870&gt;\n",
       "\tbuild_fn=None\n",
       "\twarm_start=False\n",
       "\trandom_state=None\n",
       "\toptimizer=rmsprop\n",
       "\tloss=None\n",
       "\tmetrics=None\n",
       "\tbatch_size=32\n",
       "\tvalidation_batch_size=None\n",
       "\tverbose=1\n",
       "\tcallbacks=None\n",
       "\tvalidation_split=0.2\n",
       "\tshuffle=True\n",
       "\trun_eagerly=False\n",
       "\tepochs=10\n",
       "\tclass_weight=None\n",
       ")</pre></div></div></div></div></div></div></div></div></div></div>"
      ],
      "text/plain": [
       "GridSearchCV(cv=KFold(n_splits=5, random_state=2021, shuffle=True),\n",
       "             estimator=KerasClassifier(batch_size=32, epochs=10, model=<function build_model at 0x7f3fa8c81870>, validation_split=0.2),\n",
       "             param_grid={'optimizer': ['SGD']}, refit='True',\n",
       "             scoring='accuracy', verbose=1)"
      ]
     },
     "execution_count": 86,
     "metadata": {},
     "output_type": "execute_result"
    }
   ],
   "source": [
    "grid_search.fit(X_train, y_train)"
   ]
  },
  {
   "cell_type": "code",
   "execution_count": 87,
   "metadata": {},
   "outputs": [
    {
     "data": {
      "text/plain": [
       "158485    1.0\n",
       "67032     1.0\n",
       "72009     0.0\n",
       "123893    2.0\n",
       "70867     0.0\n",
       "         ... \n",
       "102634    2.0\n",
       "154169    0.0\n",
       "161682    0.0\n",
       "161803    0.0\n",
       "133470    2.0\n",
       "Name: popularity, Length: 157783, dtype: float64"
      ]
     },
     "execution_count": 87,
     "metadata": {},
     "output_type": "execute_result"
    }
   ],
   "source": [
    "y_train"
   ]
  },
  {
   "cell_type": "markdown",
   "metadata": {},
   "source": [
    "Verificar qual é o valor e os parâmetros do melhor resultado"
   ]
  },
  {
   "cell_type": "code",
   "execution_count": 88,
   "metadata": {},
   "outputs": [
    {
     "name": "stdout",
     "output_type": "stream",
     "text": [
      "Best: 0.330295 using {'optimizer': 'SGD'}\n"
     ]
    }
   ],
   "source": [
    "print(\"Best: %f using %s\" % (grid_search.best_score_, grid_search.best_params_))"
   ]
  },
  {
   "cell_type": "code",
   "execution_count": 89,
   "metadata": {},
   "outputs": [],
   "source": [
    "means = grid_search.cv_results_['mean_test_score']\n",
    "stds = grid_search.cv_results_['std_test_score']\n",
    "params = grid_search.cv_results_['params']"
   ]
  },
  {
   "cell_type": "code",
   "execution_count": 90,
   "metadata": {},
   "outputs": [
    {
     "name": "stdout",
     "output_type": "stream",
     "text": [
      "0.330295 (0.001738) with: {'optimizer': 'SGD'}\n"
     ]
    }
   ],
   "source": [
    "for mean, stdev, param in zip(means, stds, params):\n",
    "    print(\"%f (%f) with: %r\" % (mean, stdev, param))"
   ]
  },
  {
   "cell_type": "markdown",
   "metadata": {},
   "source": [
    "Encontrar o melhor modelo"
   ]
  },
  {
   "cell_type": "code",
   "execution_count": 91,
   "metadata": {},
   "outputs": [
    {
     "name": "stdout",
     "output_type": "stream",
     "text": [
      "KerasClassifier(\n",
      "\tmodel=<function build_model at 0x7f3fa8c81870>\n",
      "\tbuild_fn=None\n",
      "\twarm_start=False\n",
      "\trandom_state=None\n",
      "\toptimizer=SGD\n",
      "\tloss=None\n",
      "\tmetrics=None\n",
      "\tbatch_size=32\n",
      "\tvalidation_batch_size=None\n",
      "\tverbose=1\n",
      "\tcallbacks=None\n",
      "\tvalidation_split=0.2\n",
      "\tshuffle=True\n",
      "\trun_eagerly=False\n",
      "\tepochs=10\n",
      "\tclass_weight=None\n",
      ")\n"
     ]
    }
   ],
   "source": [
    "best_mlp_model = grid_search.best_estimator_ \n",
    "print(best_mlp_model)"
   ]
  },
  {
   "cell_type": "markdown",
   "metadata": {},
   "source": [
    "Usar o melhor modelo"
   ]
  },
  {
   "cell_type": "code",
   "execution_count": 92,
   "metadata": {},
   "outputs": [
    {
     "name": "stdout",
     "output_type": "stream",
     "text": [
      "Epoch 1/40\n",
      "4931/4931 [==============================] - 40s 8ms/step - loss: 15.5819 - accuracy: 0.3303 - val_loss: 15.6143 - val_accuracy: 0.3290\n",
      "Epoch 2/40\n",
      "4931/4931 [==============================] - 36s 7ms/step - loss: 15.5819 - accuracy: 0.3303 - val_loss: 15.6143 - val_accuracy: 0.3290\n",
      "Epoch 3/40\n",
      "4931/4931 [==============================] - 35s 7ms/step - loss: 15.5819 - accuracy: 0.3303 - val_loss: 15.6143 - val_accuracy: 0.3290\n",
      "Epoch 4/40\n",
      "4931/4931 [==============================] - 34s 7ms/step - loss: 15.5819 - accuracy: 0.3303 - val_loss: 15.6143 - val_accuracy: 0.3290\n",
      "Epoch 5/40\n",
      "4931/4931 [==============================] - 34s 7ms/step - loss: 15.5820 - accuracy: 0.3303 - val_loss: 15.6143 - val_accuracy: 0.3290\n",
      "Epoch 6/40\n",
      "4931/4931 [==============================] - 32s 7ms/step - loss: 15.5819 - accuracy: 0.3303 - val_loss: 15.6143 - val_accuracy: 0.3290\n",
      "Epoch 7/40\n",
      "4931/4931 [==============================] - 36s 7ms/step - loss: 15.5820 - accuracy: 0.3303 - val_loss: 15.6143 - val_accuracy: 0.3290\n",
      "Epoch 8/40\n",
      "4931/4931 [==============================] - 30s 6ms/step - loss: 15.5819 - accuracy: 0.3303 - val_loss: 15.6143 - val_accuracy: 0.3290\n",
      "Epoch 9/40\n",
      "4931/4931 [==============================] - 32s 6ms/step - loss: 15.5819 - accuracy: 0.3303 - val_loss: 15.6143 - val_accuracy: 0.3290\n",
      "Epoch 10/40\n",
      "4931/4931 [==============================] - 31s 6ms/step - loss: 15.5819 - accuracy: 0.3303 - val_loss: 15.6143 - val_accuracy: 0.3290\n",
      "Epoch 11/40\n",
      "4931/4931 [==============================] - 37s 8ms/step - loss: 15.5819 - accuracy: 0.3303 - val_loss: 15.6143 - val_accuracy: 0.3290\n",
      "Epoch 12/40\n",
      "4931/4931 [==============================] - 36s 7ms/step - loss: 15.5819 - accuracy: 0.3303 - val_loss: 15.6143 - val_accuracy: 0.3290\n",
      "Epoch 13/40\n",
      "4931/4931 [==============================] - 39s 8ms/step - loss: 15.5819 - accuracy: 0.3303 - val_loss: 15.6143 - val_accuracy: 0.3290\n",
      "Epoch 14/40\n",
      "4931/4931 [==============================] - 53s 11ms/step - loss: 15.5819 - accuracy: 0.3303 - val_loss: 15.6143 - val_accuracy: 0.3290\n",
      "Epoch 15/40\n",
      "4931/4931 [==============================] - 39s 8ms/step - loss: 15.5820 - accuracy: 0.3303 - val_loss: 15.6143 - val_accuracy: 0.3290\n",
      "Epoch 16/40\n",
      "4931/4931 [==============================] - 30s 6ms/step - loss: 15.5820 - accuracy: 0.3303 - val_loss: 15.6143 - val_accuracy: 0.3290\n",
      "Epoch 17/40\n",
      "4931/4931 [==============================] - 32s 6ms/step - loss: 15.5819 - accuracy: 0.3303 - val_loss: 15.6143 - val_accuracy: 0.3290\n",
      "Epoch 18/40\n",
      "4931/4931 [==============================] - 34s 7ms/step - loss: 15.5820 - accuracy: 0.3303 - val_loss: 15.6143 - val_accuracy: 0.3290\n",
      "Epoch 19/40\n",
      "4931/4931 [==============================] - 30s 6ms/step - loss: 15.5819 - accuracy: 0.3303 - val_loss: 15.6143 - val_accuracy: 0.3290\n",
      "Epoch 20/40\n",
      "4931/4931 [==============================] - 34s 7ms/step - loss: 15.5819 - accuracy: 0.3303 - val_loss: 15.6143 - val_accuracy: 0.3290\n",
      "Epoch 21/40\n",
      "4931/4931 [==============================] - 27s 5ms/step - loss: 15.5819 - accuracy: 0.3303 - val_loss: 15.6143 - val_accuracy: 0.3290\n",
      "Epoch 22/40\n",
      "4931/4931 [==============================] - 32s 6ms/step - loss: 15.5820 - accuracy: 0.3303 - val_loss: 15.6143 - val_accuracy: 0.3290\n",
      "Epoch 23/40\n",
      "4931/4931 [==============================] - 35s 7ms/step - loss: 15.5820 - accuracy: 0.3303 - val_loss: 15.6143 - val_accuracy: 0.3290\n",
      "Epoch 24/40\n",
      "4931/4931 [==============================] - 32s 7ms/step - loss: 15.5819 - accuracy: 0.3303 - val_loss: 15.6143 - val_accuracy: 0.3290\n",
      "Epoch 25/40\n",
      "4931/4931 [==============================] - 33s 7ms/step - loss: 15.5819 - accuracy: 0.3303 - val_loss: 15.6143 - val_accuracy: 0.3290\n",
      "Epoch 26/40\n",
      "4931/4931 [==============================] - 36s 7ms/step - loss: 15.5819 - accuracy: 0.3303 - val_loss: 15.6143 - val_accuracy: 0.3290\n",
      "Epoch 27/40\n",
      "4931/4931 [==============================] - 39s 8ms/step - loss: 15.5820 - accuracy: 0.3303 - val_loss: 15.6143 - val_accuracy: 0.3290\n",
      "Epoch 28/40\n",
      "4931/4931 [==============================] - 38s 8ms/step - loss: 15.5820 - accuracy: 0.3303 - val_loss: 15.6143 - val_accuracy: 0.3290\n",
      "Epoch 29/40\n",
      "4931/4931 [==============================] - 36s 7ms/step - loss: 15.5820 - accuracy: 0.3303 - val_loss: 15.6143 - val_accuracy: 0.3290\n",
      "Epoch 30/40\n",
      "4931/4931 [==============================] - 51s 10ms/step - loss: 15.5820 - accuracy: 0.3303 - val_loss: 15.6143 - val_accuracy: 0.3290\n",
      "Epoch 31/40\n",
      "4931/4931 [==============================] - 36s 7ms/step - loss: 15.5819 - accuracy: 0.3303 - val_loss: 15.6143 - val_accuracy: 0.3290\n",
      "Epoch 32/40\n",
      "4931/4931 [==============================] - 32s 6ms/step - loss: 15.5819 - accuracy: 0.3303 - val_loss: 15.6143 - val_accuracy: 0.3290\n",
      "Epoch 33/40\n",
      "4931/4931 [==============================] - 41s 8ms/step - loss: 15.5819 - accuracy: 0.3303 - val_loss: 15.6143 - val_accuracy: 0.3290\n",
      "Epoch 34/40\n",
      "4931/4931 [==============================] - 41s 8ms/step - loss: 15.5819 - accuracy: 0.3303 - val_loss: 15.6143 - val_accuracy: 0.3290\n",
      "Epoch 35/40\n",
      "4931/4931 [==============================] - 38s 8ms/step - loss: 15.5819 - accuracy: 0.3303 - val_loss: 15.6143 - val_accuracy: 0.3290\n",
      "Epoch 36/40\n",
      "4931/4931 [==============================] - 36s 7ms/step - loss: 15.5819 - accuracy: 0.3303 - val_loss: 15.6143 - val_accuracy: 0.3290\n",
      "Epoch 37/40\n",
      "4931/4931 [==============================] - 29s 6ms/step - loss: 15.5820 - accuracy: 0.3303 - val_loss: 15.6143 - val_accuracy: 0.3290\n",
      "Epoch 38/40\n",
      "4931/4931 [==============================] - 32s 6ms/step - loss: 15.5819 - accuracy: 0.3303 - val_loss: 15.6143 - val_accuracy: 0.3290\n",
      "Epoch 39/40\n",
      "4931/4931 [==============================] - 27s 6ms/step - loss: 15.5820 - accuracy: 0.3303 - val_loss: 15.6143 - val_accuracy: 0.3290\n",
      "Epoch 40/40\n",
      "4931/4931 [==============================] - 33s 7ms/step - loss: 15.5820 - accuracy: 0.3303 - val_loss: 15.6143 - val_accuracy: 0.3290\n"
     ]
    },
    {
     "data": {
      "text/html": [
       "<style>#sk-container-id-9 {color: black;}#sk-container-id-9 pre{padding: 0;}#sk-container-id-9 div.sk-toggleable {background-color: white;}#sk-container-id-9 label.sk-toggleable__label {cursor: pointer;display: block;width: 100%;margin-bottom: 0;padding: 0.3em;box-sizing: border-box;text-align: center;}#sk-container-id-9 label.sk-toggleable__label-arrow:before {content: \"▸\";float: left;margin-right: 0.25em;color: #696969;}#sk-container-id-9 label.sk-toggleable__label-arrow:hover:before {color: black;}#sk-container-id-9 div.sk-estimator:hover label.sk-toggleable__label-arrow:before {color: black;}#sk-container-id-9 div.sk-toggleable__content {max-height: 0;max-width: 0;overflow: hidden;text-align: left;background-color: #f0f8ff;}#sk-container-id-9 div.sk-toggleable__content pre {margin: 0.2em;color: black;border-radius: 0.25em;background-color: #f0f8ff;}#sk-container-id-9 input.sk-toggleable__control:checked~div.sk-toggleable__content {max-height: 200px;max-width: 100%;overflow: auto;}#sk-container-id-9 input.sk-toggleable__control:checked~label.sk-toggleable__label-arrow:before {content: \"▾\";}#sk-container-id-9 div.sk-estimator input.sk-toggleable__control:checked~label.sk-toggleable__label {background-color: #d4ebff;}#sk-container-id-9 div.sk-label input.sk-toggleable__control:checked~label.sk-toggleable__label {background-color: #d4ebff;}#sk-container-id-9 input.sk-hidden--visually {border: 0;clip: rect(1px 1px 1px 1px);clip: rect(1px, 1px, 1px, 1px);height: 1px;margin: -1px;overflow: hidden;padding: 0;position: absolute;width: 1px;}#sk-container-id-9 div.sk-estimator {font-family: monospace;background-color: #f0f8ff;border: 1px dotted black;border-radius: 0.25em;box-sizing: border-box;margin-bottom: 0.5em;}#sk-container-id-9 div.sk-estimator:hover {background-color: #d4ebff;}#sk-container-id-9 div.sk-parallel-item::after {content: \"\";width: 100%;border-bottom: 1px solid gray;flex-grow: 1;}#sk-container-id-9 div.sk-label:hover label.sk-toggleable__label {background-color: #d4ebff;}#sk-container-id-9 div.sk-serial::before {content: \"\";position: absolute;border-left: 1px solid gray;box-sizing: border-box;top: 0;bottom: 0;left: 50%;z-index: 0;}#sk-container-id-9 div.sk-serial {display: flex;flex-direction: column;align-items: center;background-color: white;padding-right: 0.2em;padding-left: 0.2em;position: relative;}#sk-container-id-9 div.sk-item {position: relative;z-index: 1;}#sk-container-id-9 div.sk-parallel {display: flex;align-items: stretch;justify-content: center;background-color: white;position: relative;}#sk-container-id-9 div.sk-item::before, #sk-container-id-9 div.sk-parallel-item::before {content: \"\";position: absolute;border-left: 1px solid gray;box-sizing: border-box;top: 0;bottom: 0;left: 50%;z-index: -1;}#sk-container-id-9 div.sk-parallel-item {display: flex;flex-direction: column;z-index: 1;position: relative;background-color: white;}#sk-container-id-9 div.sk-parallel-item:first-child::after {align-self: flex-end;width: 50%;}#sk-container-id-9 div.sk-parallel-item:last-child::after {align-self: flex-start;width: 50%;}#sk-container-id-9 div.sk-parallel-item:only-child::after {width: 0;}#sk-container-id-9 div.sk-dashed-wrapped {border: 1px dashed gray;margin: 0 0.4em 0.5em 0.4em;box-sizing: border-box;padding-bottom: 0.4em;background-color: white;}#sk-container-id-9 div.sk-label label {font-family: monospace;font-weight: bold;display: inline-block;line-height: 1.2em;}#sk-container-id-9 div.sk-label-container {text-align: center;}#sk-container-id-9 div.sk-container {/* jupyter's `normalize.less` sets `[hidden] { display: none; }` but bootstrap.min.css set `[hidden] { display: none !important; }` so we also need the `!important` here to be able to override the default hidden behavior on the sphinx rendered scikit-learn.org. See: https://github.com/scikit-learn/scikit-learn/issues/21755 */display: inline-block !important;position: relative;}#sk-container-id-9 div.sk-text-repr-fallback {display: none;}</style><div id=\"sk-container-id-9\" class=\"sk-top-container\"><div class=\"sk-text-repr-fallback\"><pre>KerasClassifier(\n",
       "\tmodel=&lt;function build_model at 0x7f3fa8c81870&gt;\n",
       "\tbuild_fn=None\n",
       "\twarm_start=False\n",
       "\trandom_state=None\n",
       "\toptimizer=SGD\n",
       "\tloss=None\n",
       "\tmetrics=None\n",
       "\tbatch_size=32\n",
       "\tvalidation_batch_size=None\n",
       "\tverbose=1\n",
       "\tcallbacks=None\n",
       "\tvalidation_split=0.2\n",
       "\tshuffle=True\n",
       "\trun_eagerly=False\n",
       "\tepochs=10\n",
       "\tclass_weight=None\n",
       ")</pre><b>In a Jupyter environment, please rerun this cell to show the HTML representation or trust the notebook. <br />On GitHub, the HTML representation is unable to render, please try loading this page with nbviewer.org.</b></div><div class=\"sk-container\" hidden><div class=\"sk-item\"><div class=\"sk-estimator sk-toggleable\"><input class=\"sk-toggleable__control sk-hidden--visually\" id=\"sk-estimator-id-15\" type=\"checkbox\" checked><label for=\"sk-estimator-id-15\" class=\"sk-toggleable__label sk-toggleable__label-arrow\">KerasClassifier</label><div class=\"sk-toggleable__content\"><pre>KerasClassifier(\n",
       "\tmodel=&lt;function build_model at 0x7f3fa8c81870&gt;\n",
       "\tbuild_fn=None\n",
       "\twarm_start=False\n",
       "\trandom_state=None\n",
       "\toptimizer=SGD\n",
       "\tloss=None\n",
       "\tmetrics=None\n",
       "\tbatch_size=32\n",
       "\tvalidation_batch_size=None\n",
       "\tverbose=1\n",
       "\tcallbacks=None\n",
       "\tvalidation_split=0.2\n",
       "\tshuffle=True\n",
       "\trun_eagerly=False\n",
       "\tepochs=10\n",
       "\tclass_weight=None\n",
       ")</pre></div></div></div></div></div>"
      ],
      "text/plain": [
       "KerasClassifier(\n",
       "\tmodel=<function build_model at 0x7f3fa8c81870>\n",
       "\tbuild_fn=None\n",
       "\twarm_start=False\n",
       "\trandom_state=None\n",
       "\toptimizer=SGD\n",
       "\tloss=None\n",
       "\tmetrics=None\n",
       "\tbatch_size=32\n",
       "\tvalidation_batch_size=None\n",
       "\tverbose=1\n",
       "\tcallbacks=None\n",
       "\tvalidation_split=0.2\n",
       "\tshuffle=True\n",
       "\trun_eagerly=False\n",
       "\tepochs=10\n",
       "\tclass_weight=None\n",
       ")"
      ]
     },
     "execution_count": 92,
     "metadata": {},
     "output_type": "execute_result"
    }
   ],
   "source": [
    "best_mlp_model.fit(X_train, y_train, epochs = 40, validation_data = (X_test, y_test), verbose = 1)"
   ]
  },
  {
   "cell_type": "code",
   "execution_count": 93,
   "metadata": {},
   "outputs": [
    {
     "data": {
      "image/png": "[encoded data removed]",
      "text/plain": [
       "<Figure size 640x480 with 1 Axes>"
      ]
     },
     "metadata": {},
     "output_type": "display_data"
    }
   ],
   "source": [
    "plt.plot(best_mlp_model.history_['loss'])\n",
    "plt.plot(best_mlp_model.history_['val_loss'])\n",
    "plt.title('Model Performance')\n",
    "plt.ylabel('Loss Values')\n",
    "plt.xlabel('Epoch')\n",
    "plt.legend(['Train', 'Validation'], loc='upper left')\n",
    "plt.show()"
   ]
  },
  {
   "cell_type": "code",
   "execution_count": 94,
   "metadata": {},
   "outputs": [
    {
     "data": {
      "image/png": "[encoded data removed]",
      "text/plain": [
       "<Figure size 800x500 with 1 Axes>"
      ]
     },
     "metadata": {},
     "output_type": "display_data"
    }
   ],
   "source": [
    "pd.DataFrame(best_mlp_model.history_).plot(figsize=(8, 5))\n",
    "plt.show()"
   ]
  },
  {
   "cell_type": "markdown",
   "metadata": {},
   "source": [
    "Previsões"
   ]
  },
  {
   "cell_type": "code",
   "execution_count": 95,
   "metadata": {},
   "outputs": [
    {
     "name": "stdout",
     "output_type": "stream",
     "text": [
      "2114/2114 [==============================] - 9s 4ms/step\n"
     ]
    },
    {
     "data": {
      "text/plain": [
       "array([0., 0., 0., ..., 0., 0., 0.])"
      ]
     },
     "execution_count": 95,
     "metadata": {},
     "output_type": "execute_result"
    }
   ],
   "source": [
    "predictions = best_mlp_model.predict(X_test)\n",
    "predictions"
   ]
  },
  {
   "cell_type": "markdown",
   "metadata": {},
   "source": [
    "Observar os valores obtidos vs os valores reais"
   ]
  },
  {
   "cell_type": "code",
   "execution_count": 96,
   "metadata": {},
   "outputs": [
    {
     "data": {
      "text/plain": [
       "<matplotlib.collections.PathCollection at 0x7f3f7418fa90>"
      ]
     },
     "execution_count": 96,
     "metadata": {},
     "output_type": "execute_result"
    },
    {
     "data": {
      "image/png": "[encoded data removed]",
      "text/plain": [
       "<Figure size 640x480 with 1 Axes>"
      ]
     },
     "metadata": {},
     "output_type": "display_data"
    }
   ],
   "source": [
    "plt.scatter(y_test, predictions)"
   ]
  },
  {
   "cell_type": "markdown",
   "metadata": {},
   "source": [
    "Avaliar o modelo"
   ]
  },
  {
   "cell_type": "code",
   "execution_count": 97,
   "metadata": {},
   "outputs": [
    {
     "name": "stdout",
     "output_type": "stream",
     "text": [
      "              precision    recall  f1-score   support\n",
      "\n",
      "         0.0       0.33      1.00      0.50     22247\n",
      "         1.0       0.00      0.00      0.00     22298\n",
      "         2.0       0.00      0.00      0.00     23077\n",
      "\n",
      "    accuracy                           0.33     67622\n",
      "   macro avg       0.11      0.33      0.17     67622\n",
      "weighted avg       0.11      0.33      0.16     67622\n",
      "\n"
     ]
    },
    {
     "name": "stderr",
     "output_type": "stream",
     "text": [
      "/home/jmartins9/miniconda3/envs/Teste/lib/python3.10/site-packages/sklearn/metrics/_classification.py:1469: UndefinedMetricWarning: Precision and F-score are ill-defined and being set to 0.0 in labels with no predicted samples. Use `zero_division` parameter to control this behavior.\n",
      "  _warn_prf(average, modifier, msg_start, len(result))\n",
      "/home/jmartins9/miniconda3/envs/Teste/lib/python3.10/site-packages/sklearn/metrics/_classification.py:1469: UndefinedMetricWarning: Precision and F-score are ill-defined and being set to 0.0 in labels with no predicted samples. Use `zero_division` parameter to control this behavior.\n",
      "  _warn_prf(average, modifier, msg_start, len(result))\n",
      "/home/jmartins9/miniconda3/envs/Teste/lib/python3.10/site-packages/sklearn/metrics/_classification.py:1469: UndefinedMetricWarning: Precision and F-score are ill-defined and being set to 0.0 in labels with no predicted samples. Use `zero_division` parameter to control this behavior.\n",
      "  _warn_prf(average, modifier, msg_start, len(result))\n"
     ]
    }
   ],
   "source": [
    "print(classification_report(y_test, predictions))"
   ]
  }
 ],
 "metadata": {
  "kernelspec": {
   "display_name": "firstCondaEnv",
   "language": "python",
   "name": "python3"
  },
  "language_info": {
   "codemirror_mode": {
    "name": "ipython",
    "version": 3
   },
   "file_extension": ".py",
   "mimetype": "text/x-python",
   "name": "python",
   "nbconvert_exporter": "python",
   "pygments_lexer": "ipython3",
   "version": "3.10.0"
  },
  "orig_nbformat": 4
 },
 "nbformat": 4,
 "nbformat_minor": 2
}
