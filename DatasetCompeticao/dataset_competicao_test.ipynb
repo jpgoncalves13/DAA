{
 "cells": [
  {
   "cell_type": "markdown",
   "metadata": {},
   "source": [
    "# Produção Energética e Sustentabilidade"
   ]
  },
  {
   "cell_type": "markdown",
   "metadata": {},
   "source": [
    "### Descrição\n",
    "\n",
    "A energia solar é uma das principais fontes de energias renováveis, desempenhando não só um papel fundamental na transição para fontes de energia limpa e renovável, mas também na promoção da sustentabilidade ambiental. Nesse contexto, além de ser crucial otimizar o uso da energia solar, a relação entre o gasto e a produção energética é essencial para permitir um planeamento eficaz do consumo energético e a integração harmoniosa de sistemas de energia solar em redes elétricas existentes.\n",
    "\n",
    "Nesse sentido, a 6ª Edição da Competição ML @SBS/DAA consiste no desenvolvimento de modelos de Machine Learning capazes de prever, com precisão, a quantidade de energia elétrica, em kWh, gerada por painéis solares e injectada na rede eléctrica existente a cada hora do dia com base numa ampla gama de atributos, que vão desde dados meteorológicos e informações geográficas, ao histórico de gasto e produção energética.\n",
    "\n",
    "Este é, portanto, um problema de previsão de energia com impacto significativo na eficiência energética, mas também na redução das emissões de gases com efeito estufa e na promoção da sustentabilidade. Com isso em consideração, foi colecionado um dataset que contém diversos dados referentes à produção energética de determinados painéis solares na cidade de Braga (o dataset cobre um período que vai desde setembro de 2021 até abril de 2023)."
   ]
  },
  {
   "cell_type": "markdown",
   "metadata": {},
   "source": [
    "### Objetivo\n",
    "\n",
    "O objetivo de cada grupo de trabalho passa por desenvolver o melhor modelo possível capaz de prever a quantidade de energia, em kWh, produzida por painéis solares e injectada, em redes elétricas existentes, a cada hora do dia.\n",
    "\n",
    "O dataset utilizado nesta competição contém um conjunto de features sendo de destacar a feature Injeção na rede (kWh) . Esta feature indica, numa escala qualitativa (None, Low, Medium, High e Very_High), a quantidade de energia que se injectou na rede elétrica num determinado ponto temporal (i.e., numa determinada hora de um determinado dia). Se o valor desta feature for None, significa que não foi injectada nenhuma energia na rede (ou porque nada foi obtido dos painéis solares, ou porque toda a energia produzida pelos painéis foi consumida localmente). Um valor de Very_High implica a existência de uma quantidade muito alta de energia injectada na rede eléctrica naquele ponto temporal.\n",
    "\n",
    "Para treino e tuning dos modelos de Machine Learning ser-vos-ão disponibilizados dois datasets com dados energéticos e dois datasets com dados meteorológicos. Tantos os datasets energéticos como os meteorológicos estão divididos por data, i.e., um dos datasets cobre o período de 2021 enquanto que o outro cobre todo o ano de 2022. Os grupos de trabalho poderão adicionar aos datasets qualquer atributo que achem relevante.\n",
    "\n",
    "Para obtenção de scores na competição, os grupos de trabalho deverão prever, para cada registo do dataset de teste (\"energia_202301-202304.csv\"), a quantidade de energia que se injectou na rede elétrica num determinado ponto temporal, utilizando a escala None, Low, Medium, High e Very_High."
   ]
  },
  {
   "cell_type": "markdown",
   "metadata": {
    "tags": []
   },
   "source": [
    "### Os dados\n",
    "\n",
    "São disponibilizados dois tipos de datasets, i.e., um tipo com dados energéticos e outro tipo com dados meteorológicos. Além disso, cada tipo de dataset está dividido por data, i.e., um dos datasets cobre o período de 2021 enquanto que o outro cobre todo o ano de 2022. Em resumo, são disponibilizados quatro datasets para treino e tuning dos modelos de Machine Learning\n",
    "\n",
    "Features dos Datasets de Energia\n",
    "\n",
    "- **Data** - o timestamp associado ao registo, ao dia;\n",
    "- **Hora** - a hora associada ao registo;\n",
    "- **Normal (kWh)** - quantidade de energia eléctrica consumida, em kWh e proveniente da rede eléctrica, num período considerado normal em ciclos bi-horário diários (horas fora de vazio);\n",
    "- **Horário Económico (kWh)** - quantidade de energia eléctrica consumida, em kWh e proveniente da rede eléctrica, num período considerado económico em ciclos bi-horário diários (horas de vazio);\n",
    "- **Autoconsumo (kWh)** - quantidade de energia eléctrica consumida, em kWh, proveniente dos painéis solares;\n",
    "- **Injeção na rede (kWh)** - quantidade de energia eléctrica injectada na rede eléctrica, em kWh, proveniente dos painéis solares.\n",
    "\n",
    "Features dos Datasets Meteorológicos\n",
    "\n",
    "- **dt** - o timestamp associado ao registo;\n",
    "- **dt_iso** - a data associada ao registo, ao segundo;\n",
    "- **city_name** - o local em causa;\n",
    "- **temp** - temperatura em ºC;\n",
    "- **feels_like** - sensação térmica em ºC;\n",
    "- **temp_min** - temperatura mínima sentida em ºC;\n",
    "- **temp_max** - temperatura máxima sentida em ºC;\n",
    "- **pressure** - pressão atmosférica sentida em atm;\n",
    "- **sea_level** - pressão atmosférica sentida ao nível do mar em atm;\n",
    "- **grnd_level** - pressão atmosférica sentida à altitude local em atm;\n",
    "- **humidity** - humidade em percentagem;\n",
    "- **wind_speed** - velocidade do vento em metros por segundo;\n",
    "- **rain_1h** - valor médio de precipitação;\n",
    "- **clouds_all** - nível de nebulosidade em percentagem;\n",
    "- **weather_description** - avaliação qualitativa do estado do tempo.\n"
   ]
  },
  {
   "cell_type": "markdown",
   "metadata": {
    "tags": []
   },
   "source": [
    "## Importar Bibliotecas"
   ]
  },
  {
   "cell_type": "code",
   "execution_count": 75,
   "metadata": {
    "ExecuteTime": {
     "end_time": "2023-11-13T17:22:37.112020566Z",
     "start_time": "2023-11-13T17:22:37.102379225Z"
    }
   },
   "outputs": [],
   "source": [
    "import pandas as pd\n",
    "import numpy as np\n",
    "import matplotlib.pyplot as plt\n",
    "import seaborn as sns\n",
    "import tensorflow as tf\n",
    "from tensorflow import keras\n",
    "from tensorflow.keras.models import Sequential\n",
    "from tensorflow.keras.layers import Dense, Dropout\n",
    "from sklearn.preprocessing import StandardScaler, MinMaxScaler\n",
    "from sklearn.model_selection import KFold, GridSearchCV, train_test_split, StratifiedKFold\n",
    "import time \n",
    "from sklearn.model_selection import cross_val_score\n",
    "from sklearn.ensemble import RandomForestClassifier\n",
    "from sklearn.linear_model import LogisticRegression\n",
    "from sklearn.svm import SVC\n",
    "from sklearn.tree import DecisionTreeClassifier\n",
    "from sklearn.metrics import classification_report\n",
    "from scikeras.wrappers import KerasClassifier\n",
    "import xgboost as xgb\n",
    "#from imblearn.under_sampling import RandomUnderSampler\n",
    "\n",
    "# Outras bibliotecas a importar mais tarde\n",
    "%matplotlib inline"
   ]
  },
  {
   "cell_type": "markdown",
   "metadata": {
    "tags": []
   },
   "source": [
    "## Carregar os Datasets"
   ]
  },
  {
   "cell_type": "code",
   "execution_count": 76,
   "metadata": {
    "ExecuteTime": {
     "end_time": "2023-11-13T17:22:41.339995544Z",
     "start_time": "2023-11-13T17:22:41.243699257Z"
    }
   },
   "outputs": [],
   "source": [
    "energia2021 = pd.read_csv('datasets/energia_202109-202112.csv', encoding = \"ISO-8859-1\")\n",
    "energia2022 = pd.read_csv('datasets/energia_202201-202212.csv', encoding = \"ISO-8859-1\")\n",
    "energia2023 = pd.read_csv('datasets/energia_202301-202304.csv', encoding = \"ISO-8859-1\")\n",
    "\n",
    "meteo2021 = pd.read_csv('datasets/meteo_202109-202112.csv')\n",
    "meteo2022 = pd.read_csv('datasets/meteo_202201-202212.csv')\n",
    "meteo2023 = pd.read_csv('datasets/meteo_202301-202304.csv')\n",
    "\n",
    "radiation_data = pd.read_csv('datasets/radiation_data.csv')"
   ]
  },
  {
   "cell_type": "markdown",
   "metadata": {},
   "source": [
    "Verificar as colunas de cada dataset"
   ]
  },
  {
   "cell_type": "code",
   "execution_count": 77,
   "metadata": {
    "ExecuteTime": {
     "end_time": "2023-11-13T17:22:44.893181469Z",
     "start_time": "2023-11-13T17:22:44.859279076Z"
    }
   },
   "outputs": [
    {
     "name": "stdout",
     "output_type": "stream",
     "text": [
      "Index(['Data', 'Hora', 'Normal (kWh)', 'Horário Económico (kWh)',\n",
      "       'Autoconsumo (kWh)', 'Injeção na rede (kWh)'],\n",
      "      dtype='object')\n",
      "Index(['Data', 'Hora', 'Normal (kWh)', 'Horário Económico (kWh)',\n",
      "       'Autoconsumo (kWh)', 'Injeção na rede (kWh)'],\n",
      "      dtype='object')\n",
      "Index(['Data', 'Hora', 'Normal (kWh)', 'Horário Económico (kWh)',\n",
      "       'Autoconsumo (kWh)'],\n",
      "      dtype='object')\n",
      "Index(['dt', 'dt_iso', 'city_name', 'temp', 'feels_like', 'temp_min',\n",
      "       'temp_max', 'pressure', 'sea_level', 'grnd_level', 'humidity',\n",
      "       'wind_speed', 'rain_1h', 'clouds_all', 'weather_description'],\n",
      "      dtype='object')\n",
      "Index(['dt', 'dt_iso', 'city_name', 'temp', 'feels_like', 'temp_min',\n",
      "       'temp_max', 'pressure', 'sea_level', 'grnd_level', 'humidity',\n",
      "       'wind_speed', 'rain_1h', 'clouds_all', 'weather_description'],\n",
      "      dtype='object')\n",
      "Index(['dt', 'dt_iso', 'city_name', 'temp', 'feels_like', 'temp_min',\n",
      "       'temp_max', 'pressure', 'sea_level', 'grnd_level', 'humidity',\n",
      "       'wind_speed', 'rain_1h', 'clouds_all', 'weather_description'],\n",
      "      dtype='object')\n",
      "Index(['time', 'shortwave_radiation (W/m²)', 'direct_radiation (W/m²)',\n",
      "       'diffuse_radiation (W/m²)', 'direct_normal_irradiance (W/m²)',\n",
      "       'terrestrial_radiation (W/m²)'],\n",
      "      dtype='object')\n"
     ]
    }
   ],
   "source": [
    "print(energia2021.columns)\n",
    "print(energia2022.columns)\n",
    "print(energia2023.columns)\n",
    "print(meteo2021.columns)\n",
    "print(meteo2022.columns)\n",
    "print(meteo2023.columns)\n",
    "print(radiation_data.columns)"
   ]
  },
  {
   "cell_type": "code",
   "execution_count": 78,
   "metadata": {
    "ExecuteTime": {
     "end_time": "2023-11-13T17:22:46.413713568Z",
     "start_time": "2023-11-13T17:22:46.316308354Z"
    }
   },
   "outputs": [
    {
     "name": "stdout",
     "output_type": "stream",
     "text": [
      "<class 'pandas.core.frame.DataFrame'>\n",
      "RangeIndex: 2256 entries, 0 to 2255\n",
      "Data columns (total 6 columns):\n",
      " #   Column                   Non-Null Count  Dtype  \n",
      "---  ------                   --------------  -----  \n",
      " 0   Data                     2256 non-null   object \n",
      " 1   Hora                     2256 non-null   int64  \n",
      " 2   Normal (kWh)             2256 non-null   float64\n",
      " 3   Horário Económico (kWh)  2256 non-null   float64\n",
      " 4   Autoconsumo (kWh)        2256 non-null   float64\n",
      " 5   Injeção na rede (kWh)    566 non-null    object \n",
      "dtypes: float64(3), int64(1), object(2)\n",
      "memory usage: 105.9+ KB\n",
      "None\n",
      "\n",
      "<class 'pandas.core.frame.DataFrame'>\n",
      "RangeIndex: 8760 entries, 0 to 8759\n",
      "Data columns (total 6 columns):\n",
      " #   Column                   Non-Null Count  Dtype  \n",
      "---  ------                   --------------  -----  \n",
      " 0   Data                     8760 non-null   object \n",
      " 1   Hora                     8760 non-null   int64  \n",
      " 2   Normal (kWh)             8760 non-null   float64\n",
      " 3   Horário Económico (kWh)  8760 non-null   float64\n",
      " 4   Autoconsumo (kWh)        8760 non-null   float64\n",
      " 5   Injeção na rede (kWh)    2673 non-null   object \n",
      "dtypes: float64(3), int64(1), object(2)\n",
      "memory usage: 410.8+ KB\n",
      "None\n",
      "\n",
      "<class 'pandas.core.frame.DataFrame'>\n",
      "RangeIndex: 2256 entries, 0 to 2255\n",
      "Data columns (total 5 columns):\n",
      " #   Column                   Non-Null Count  Dtype  \n",
      "---  ------                   --------------  -----  \n",
      " 0   Data                     2256 non-null   object \n",
      " 1   Hora                     2256 non-null   int64  \n",
      " 2   Normal (kWh)             2256 non-null   float64\n",
      " 3   Horário Económico (kWh)  2256 non-null   float64\n",
      " 4   Autoconsumo (kWh)        2256 non-null   float64\n",
      "dtypes: float64(3), int64(1), object(1)\n",
      "memory usage: 88.2+ KB\n",
      "None\n",
      "\n",
      "<class 'pandas.core.frame.DataFrame'>\n",
      "RangeIndex: 2928 entries, 0 to 2927\n",
      "Data columns (total 15 columns):\n",
      " #   Column               Non-Null Count  Dtype  \n",
      "---  ------               --------------  -----  \n",
      " 0   dt                   2928 non-null   int64  \n",
      " 1   dt_iso               2928 non-null   object \n",
      " 2   city_name            2928 non-null   object \n",
      " 3   temp                 2928 non-null   float64\n",
      " 4   feels_like           2928 non-null   float64\n",
      " 5   temp_min             2928 non-null   float64\n",
      " 6   temp_max             2928 non-null   float64\n",
      " 7   pressure             2928 non-null   int64  \n",
      " 8   sea_level            0 non-null      float64\n",
      " 9   grnd_level           0 non-null      float64\n",
      " 10  humidity             2928 non-null   int64  \n",
      " 11  wind_speed           2928 non-null   float64\n",
      " 12  rain_1h              537 non-null    float64\n",
      " 13  clouds_all           2928 non-null   int64  \n",
      " 14  weather_description  2928 non-null   object \n",
      "dtypes: float64(8), int64(4), object(3)\n",
      "memory usage: 343.2+ KB\n",
      "None\n",
      "\n",
      "<class 'pandas.core.frame.DataFrame'>\n",
      "RangeIndex: 8760 entries, 0 to 8759\n",
      "Data columns (total 15 columns):\n",
      " #   Column               Non-Null Count  Dtype  \n",
      "---  ------               --------------  -----  \n",
      " 0   dt                   8760 non-null   int64  \n",
      " 1   dt_iso               8760 non-null   object \n",
      " 2   city_name            8760 non-null   object \n",
      " 3   temp                 8760 non-null   float64\n",
      " 4   feels_like           8760 non-null   float64\n",
      " 5   temp_min             8760 non-null   float64\n",
      " 6   temp_max             8760 non-null   float64\n",
      " 7   pressure             8760 non-null   int64  \n",
      " 8   sea_level            0 non-null      float64\n",
      " 9   grnd_level           0 non-null      float64\n",
      " 10  humidity             8760 non-null   int64  \n",
      " 11  wind_speed           8760 non-null   float64\n",
      " 12  rain_1h              1898 non-null   float64\n",
      " 13  clouds_all           8760 non-null   int64  \n",
      " 14  weather_description  8760 non-null   object \n",
      "dtypes: float64(8), int64(4), object(3)\n",
      "memory usage: 1.0+ MB\n",
      "None\n",
      "\n",
      "<class 'pandas.core.frame.DataFrame'>\n",
      "RangeIndex: 1752 entries, 0 to 1751\n",
      "Data columns (total 15 columns):\n",
      " #   Column               Non-Null Count  Dtype  \n",
      "---  ------               --------------  -----  \n",
      " 0   dt                   1752 non-null   int64  \n",
      " 1   dt_iso               1752 non-null   object \n",
      " 2   city_name            1752 non-null   object \n",
      " 3   temp                 1752 non-null   float64\n",
      " 4   feels_like           1752 non-null   float64\n",
      " 5   temp_min             1752 non-null   float64\n",
      " 6   temp_max             1752 non-null   float64\n",
      " 7   pressure             1752 non-null   int64  \n",
      " 8   sea_level            0 non-null      float64\n",
      " 9   grnd_level           0 non-null      float64\n",
      " 10  humidity             1752 non-null   int64  \n",
      " 11  wind_speed           1752 non-null   float64\n",
      " 12  rain_1h              206 non-null    float64\n",
      " 13  clouds_all           1752 non-null   int64  \n",
      " 14  weather_description  1752 non-null   object \n",
      "dtypes: float64(8), int64(4), object(3)\n",
      "memory usage: 205.4+ KB\n",
      "None\n"
     ]
    }
   ],
   "source": [
    "print(energia2021.info())\n",
    "print()\n",
    "print(energia2022.info())\n",
    "print()\n",
    "print(energia2023.info())\n",
    "print()\n",
    "print(meteo2021.info())\n",
    "print()\n",
    "print(meteo2022.info())\n",
    "print()\n",
    "print(meteo2023.info())\n"
   ]
  },
  {
   "cell_type": "markdown",
   "metadata": {},
   "source": [
    "Conclusão: as colunas são as mesmas\n",
    "\n",
    "Próximo passo: Concatenar os datasets"
   ]
  },
  {
   "cell_type": "code",
   "execution_count": 79,
   "metadata": {
    "ExecuteTime": {
     "end_time": "2023-11-13T17:22:50.594155341Z",
     "start_time": "2023-11-13T17:22:50.576281552Z"
    }
   },
   "outputs": [],
   "source": [
    "frames_energia = [energia2021, energia2022]\n",
    "frames_meteo = [meteo2021, meteo2022]\n",
    "\n",
    "energia = pd.concat(frames_energia)\n",
    "meteo = pd.concat(frames_meteo)\n",
    "\n",
    "meteo.rename(columns={'dt': 'Timestamp','dt_iso':'Data', 'city_name':'Nome da Cidade', 'temp':'Temperatura (ºC)', 'feels_like': 'Sensação Térmica (ºC)', 'temp_min': 'Temperatura Mínima (ºC)', 'temp_max': 'Temperatura Máxima (ºC)', 'pressure': 'Pressão Atmosférica (atm)', 'sea_level': 'Pressão atmosférica no nível do mar (atm)', 'grnd_level': 'Pressão atmosférica na altitude local (atm)', 'humidity': 'Humidade (%)', 'wind_speed': 'Velocidade do vento (m/s)', 'rain_1h': 'Valor médio de precipitação', 'clouds_all': 'Nível de nebulosidade (%)', 'weather_description': 'Avaliação qualitativa do estado do tempo'}, inplace=True)"
   ]
  },
  {
   "cell_type": "markdown",
   "metadata": {},
   "source": [
    "Verificar o tamanho dos dados depois da concatenação, a presença de missing values e os tipos de dados"
   ]
  },
  {
   "cell_type": "code",
   "execution_count": 80,
   "metadata": {
    "is_executing": true
   },
   "outputs": [
    {
     "name": "stdout",
     "output_type": "stream",
     "text": [
      "<class 'pandas.core.frame.DataFrame'>\n",
      "Index: 11016 entries, 0 to 8759\n",
      "Data columns (total 6 columns):\n",
      " #   Column                   Non-Null Count  Dtype  \n",
      "---  ------                   --------------  -----  \n",
      " 0   Data                     11016 non-null  object \n",
      " 1   Hora                     11016 non-null  int64  \n",
      " 2   Normal (kWh)             11016 non-null  float64\n",
      " 3   Horário Económico (kWh)  11016 non-null  float64\n",
      " 4   Autoconsumo (kWh)        11016 non-null  float64\n",
      " 5   Injeção na rede (kWh)    3239 non-null   object \n",
      "dtypes: float64(3), int64(1), object(2)\n",
      "memory usage: 602.4+ KB\n",
      "None\n",
      "\n",
      "<class 'pandas.core.frame.DataFrame'>\n",
      "Index: 11688 entries, 0 to 8759\n",
      "Data columns (total 15 columns):\n",
      " #   Column                                       Non-Null Count  Dtype  \n",
      "---  ------                                       --------------  -----  \n",
      " 0   Timestamp                                    11688 non-null  int64  \n",
      " 1   Data                                         11688 non-null  object \n",
      " 2   Nome da Cidade                               11688 non-null  object \n",
      " 3   Temperatura (ºC)                             11688 non-null  float64\n",
      " 4   Sensação Térmica (ºC)                        11688 non-null  float64\n",
      " 5   Temperatura Mínima (ºC)                      11688 non-null  float64\n",
      " 6   Temperatura Máxima (ºC)                      11688 non-null  float64\n",
      " 7   Pressão Atmosférica (atm)                    11688 non-null  int64  \n",
      " 8   Pressão atmosférica no nível do mar (atm)    0 non-null      float64\n",
      " 9   Pressão atmosférica na altitude local (atm)  0 non-null      float64\n",
      " 10  Humidade (%)                                 11688 non-null  int64  \n",
      " 11  Velocidade do vento (m/s)                    11688 non-null  float64\n",
      " 12  Valor médio de precipitação                  2435 non-null   float64\n",
      " 13  Nível de nebulosidade (%)                    11688 non-null  int64  \n",
      " 14  Avaliação qualitativa do estado do tempo     11688 non-null  object \n",
      "dtypes: float64(8), int64(4), object(3)\n",
      "memory usage: 1.4+ MB\n",
      "None\n"
     ]
    }
   ],
   "source": [
    "print(energia.info())\n",
    "print()\n",
    "print(meteo.info())"
   ]
  },
  {
   "cell_type": "code",
   "execution_count": 81,
   "metadata": {
    "is_executing": true
   },
   "outputs": [
    {
     "data": {
      "text/html": [
       "<div>\n",
       "<style scoped>\n",
       "    .dataframe tbody tr th:only-of-type {\n",
       "        vertical-align: middle;\n",
       "    }\n",
       "\n",
       "    .dataframe tbody tr th {\n",
       "        vertical-align: top;\n",
       "    }\n",
       "\n",
       "    .dataframe thead th {\n",
       "        text-align: right;\n",
       "    }\n",
       "</style>\n",
       "<table border=\"1\" class=\"dataframe\">\n",
       "  <thead>\n",
       "    <tr style=\"text-align: right;\">\n",
       "      <th></th>\n",
       "      <th>Timestamp</th>\n",
       "      <th>Data</th>\n",
       "      <th>Nome da Cidade</th>\n",
       "      <th>Temperatura (ºC)</th>\n",
       "      <th>Sensação Térmica (ºC)</th>\n",
       "      <th>Temperatura Mínima (ºC)</th>\n",
       "      <th>Temperatura Máxima (ºC)</th>\n",
       "      <th>Pressão Atmosférica (atm)</th>\n",
       "      <th>Pressão atmosférica no nível do mar (atm)</th>\n",
       "      <th>Pressão atmosférica na altitude local (atm)</th>\n",
       "      <th>Humidade (%)</th>\n",
       "      <th>Velocidade do vento (m/s)</th>\n",
       "      <th>Valor médio de precipitação</th>\n",
       "      <th>Nível de nebulosidade (%)</th>\n",
       "      <th>Avaliação qualitativa do estado do tempo</th>\n",
       "    </tr>\n",
       "  </thead>\n",
       "  <tbody>\n",
       "    <tr>\n",
       "      <th>0</th>\n",
       "      <td>1630454400</td>\n",
       "      <td>2021-09-01 00:00:00 +0000 UTC</td>\n",
       "      <td>local</td>\n",
       "      <td>18.74</td>\n",
       "      <td>18.84</td>\n",
       "      <td>15.72</td>\n",
       "      <td>20.34</td>\n",
       "      <td>1015</td>\n",
       "      <td>NaN</td>\n",
       "      <td>NaN</td>\n",
       "      <td>83</td>\n",
       "      <td>1.18</td>\n",
       "      <td>NaN</td>\n",
       "      <td>78</td>\n",
       "      <td>broken clouds</td>\n",
       "    </tr>\n",
       "    <tr>\n",
       "      <th>1</th>\n",
       "      <td>1630458000</td>\n",
       "      <td>2021-09-01 01:00:00 +0000 UTC</td>\n",
       "      <td>local</td>\n",
       "      <td>18.73</td>\n",
       "      <td>18.83</td>\n",
       "      <td>15.72</td>\n",
       "      <td>20.34</td>\n",
       "      <td>1014</td>\n",
       "      <td>NaN</td>\n",
       "      <td>NaN</td>\n",
       "      <td>83</td>\n",
       "      <td>1.46</td>\n",
       "      <td>NaN</td>\n",
       "      <td>92</td>\n",
       "      <td>overcast clouds</td>\n",
       "    </tr>\n",
       "    <tr>\n",
       "      <th>2</th>\n",
       "      <td>1630461600</td>\n",
       "      <td>2021-09-01 02:00:00 +0000 UTC</td>\n",
       "      <td>local</td>\n",
       "      <td>17.84</td>\n",
       "      <td>17.98</td>\n",
       "      <td>16.72</td>\n",
       "      <td>20.34</td>\n",
       "      <td>1014</td>\n",
       "      <td>NaN</td>\n",
       "      <td>NaN</td>\n",
       "      <td>88</td>\n",
       "      <td>1.05</td>\n",
       "      <td>NaN</td>\n",
       "      <td>91</td>\n",
       "      <td>overcast clouds</td>\n",
       "    </tr>\n",
       "    <tr>\n",
       "      <th>3</th>\n",
       "      <td>1630465200</td>\n",
       "      <td>2021-09-01 03:00:00 +0000 UTC</td>\n",
       "      <td>local</td>\n",
       "      <td>18.27</td>\n",
       "      <td>18.40</td>\n",
       "      <td>16.68</td>\n",
       "      <td>20.34</td>\n",
       "      <td>1014</td>\n",
       "      <td>NaN</td>\n",
       "      <td>NaN</td>\n",
       "      <td>86</td>\n",
       "      <td>0.46</td>\n",
       "      <td>0.14</td>\n",
       "      <td>94</td>\n",
       "      <td>light rain</td>\n",
       "    </tr>\n",
       "    <tr>\n",
       "      <th>4</th>\n",
       "      <td>1630468800</td>\n",
       "      <td>2021-09-01 04:00:00 +0000 UTC</td>\n",
       "      <td>local</td>\n",
       "      <td>17.81</td>\n",
       "      <td>17.97</td>\n",
       "      <td>16.12</td>\n",
       "      <td>20.34</td>\n",
       "      <td>1013</td>\n",
       "      <td>NaN</td>\n",
       "      <td>NaN</td>\n",
       "      <td>89</td>\n",
       "      <td>0.93</td>\n",
       "      <td>1.26</td>\n",
       "      <td>95</td>\n",
       "      <td>moderate rain</td>\n",
       "    </tr>\n",
       "    <tr>\n",
       "      <th>...</th>\n",
       "      <td>...</td>\n",
       "      <td>...</td>\n",
       "      <td>...</td>\n",
       "      <td>...</td>\n",
       "      <td>...</td>\n",
       "      <td>...</td>\n",
       "      <td>...</td>\n",
       "      <td>...</td>\n",
       "      <td>...</td>\n",
       "      <td>...</td>\n",
       "      <td>...</td>\n",
       "      <td>...</td>\n",
       "      <td>...</td>\n",
       "      <td>...</td>\n",
       "      <td>...</td>\n",
       "    </tr>\n",
       "    <tr>\n",
       "      <th>8755</th>\n",
       "      <td>1672513200</td>\n",
       "      <td>2022-12-31 19:00:00 +0000 UTC</td>\n",
       "      <td>local</td>\n",
       "      <td>15.70</td>\n",
       "      <td>15.57</td>\n",
       "      <td>15.57</td>\n",
       "      <td>15.72</td>\n",
       "      <td>1018</td>\n",
       "      <td>NaN</td>\n",
       "      <td>NaN</td>\n",
       "      <td>86</td>\n",
       "      <td>5.56</td>\n",
       "      <td>3.58</td>\n",
       "      <td>100</td>\n",
       "      <td>moderate rain</td>\n",
       "    </tr>\n",
       "    <tr>\n",
       "      <th>8756</th>\n",
       "      <td>1672516800</td>\n",
       "      <td>2022-12-31 20:00:00 +0000 UTC</td>\n",
       "      <td>local</td>\n",
       "      <td>15.55</td>\n",
       "      <td>15.43</td>\n",
       "      <td>12.72</td>\n",
       "      <td>15.70</td>\n",
       "      <td>1018</td>\n",
       "      <td>NaN</td>\n",
       "      <td>NaN</td>\n",
       "      <td>87</td>\n",
       "      <td>4.47</td>\n",
       "      <td>4.20</td>\n",
       "      <td>100</td>\n",
       "      <td>heavy intensity rain</td>\n",
       "    </tr>\n",
       "    <tr>\n",
       "      <th>8757</th>\n",
       "      <td>1672520400</td>\n",
       "      <td>2022-12-31 21:00:00 +0000 UTC</td>\n",
       "      <td>local</td>\n",
       "      <td>13.45</td>\n",
       "      <td>13.28</td>\n",
       "      <td>12.23</td>\n",
       "      <td>13.99</td>\n",
       "      <td>1019</td>\n",
       "      <td>NaN</td>\n",
       "      <td>NaN</td>\n",
       "      <td>93</td>\n",
       "      <td>3.29</td>\n",
       "      <td>4.23</td>\n",
       "      <td>100</td>\n",
       "      <td>heavy intensity rain</td>\n",
       "    </tr>\n",
       "    <tr>\n",
       "      <th>8758</th>\n",
       "      <td>1672524000</td>\n",
       "      <td>2022-12-31 22:00:00 +0000 UTC</td>\n",
       "      <td>local</td>\n",
       "      <td>12.93</td>\n",
       "      <td>12.73</td>\n",
       "      <td>12.23</td>\n",
       "      <td>13.43</td>\n",
       "      <td>1019</td>\n",
       "      <td>NaN</td>\n",
       "      <td>NaN</td>\n",
       "      <td>94</td>\n",
       "      <td>1.49</td>\n",
       "      <td>3.90</td>\n",
       "      <td>100</td>\n",
       "      <td>moderate rain</td>\n",
       "    </tr>\n",
       "    <tr>\n",
       "      <th>8759</th>\n",
       "      <td>1672527600</td>\n",
       "      <td>2022-12-31 23:00:00 +0000 UTC</td>\n",
       "      <td>local</td>\n",
       "      <td>12.93</td>\n",
       "      <td>12.76</td>\n",
       "      <td>12.23</td>\n",
       "      <td>13.43</td>\n",
       "      <td>1019</td>\n",
       "      <td>NaN</td>\n",
       "      <td>NaN</td>\n",
       "      <td>95</td>\n",
       "      <td>1.93</td>\n",
       "      <td>4.07</td>\n",
       "      <td>100</td>\n",
       "      <td>heavy intensity rain</td>\n",
       "    </tr>\n",
       "  </tbody>\n",
       "</table>\n",
       "<p>11688 rows × 15 columns</p>\n",
       "</div>"
      ],
      "text/plain": [
       "       Timestamp                           Data Nome da Cidade  \\\n",
       "0     1630454400  2021-09-01 00:00:00 +0000 UTC          local   \n",
       "1     1630458000  2021-09-01 01:00:00 +0000 UTC          local   \n",
       "2     1630461600  2021-09-01 02:00:00 +0000 UTC          local   \n",
       "3     1630465200  2021-09-01 03:00:00 +0000 UTC          local   \n",
       "4     1630468800  2021-09-01 04:00:00 +0000 UTC          local   \n",
       "...          ...                            ...            ...   \n",
       "8755  1672513200  2022-12-31 19:00:00 +0000 UTC          local   \n",
       "8756  1672516800  2022-12-31 20:00:00 +0000 UTC          local   \n",
       "8757  1672520400  2022-12-31 21:00:00 +0000 UTC          local   \n",
       "8758  1672524000  2022-12-31 22:00:00 +0000 UTC          local   \n",
       "8759  1672527600  2022-12-31 23:00:00 +0000 UTC          local   \n",
       "\n",
       "      Temperatura (ºC)  Sensação Térmica (ºC)  Temperatura Mínima (ºC)  \\\n",
       "0                18.74                  18.84                    15.72   \n",
       "1                18.73                  18.83                    15.72   \n",
       "2                17.84                  17.98                    16.72   \n",
       "3                18.27                  18.40                    16.68   \n",
       "4                17.81                  17.97                    16.12   \n",
       "...                ...                    ...                      ...   \n",
       "8755             15.70                  15.57                    15.57   \n",
       "8756             15.55                  15.43                    12.72   \n",
       "8757             13.45                  13.28                    12.23   \n",
       "8758             12.93                  12.73                    12.23   \n",
       "8759             12.93                  12.76                    12.23   \n",
       "\n",
       "      Temperatura Máxima (ºC)  Pressão Atmosférica (atm)  \\\n",
       "0                       20.34                       1015   \n",
       "1                       20.34                       1014   \n",
       "2                       20.34                       1014   \n",
       "3                       20.34                       1014   \n",
       "4                       20.34                       1013   \n",
       "...                       ...                        ...   \n",
       "8755                    15.72                       1018   \n",
       "8756                    15.70                       1018   \n",
       "8757                    13.99                       1019   \n",
       "8758                    13.43                       1019   \n",
       "8759                    13.43                       1019   \n",
       "\n",
       "      Pressão atmosférica no nível do mar (atm)  \\\n",
       "0                                           NaN   \n",
       "1                                           NaN   \n",
       "2                                           NaN   \n",
       "3                                           NaN   \n",
       "4                                           NaN   \n",
       "...                                         ...   \n",
       "8755                                        NaN   \n",
       "8756                                        NaN   \n",
       "8757                                        NaN   \n",
       "8758                                        NaN   \n",
       "8759                                        NaN   \n",
       "\n",
       "      Pressão atmosférica na altitude local (atm)  Humidade (%)  \\\n",
       "0                                             NaN            83   \n",
       "1                                             NaN            83   \n",
       "2                                             NaN            88   \n",
       "3                                             NaN            86   \n",
       "4                                             NaN            89   \n",
       "...                                           ...           ...   \n",
       "8755                                          NaN            86   \n",
       "8756                                          NaN            87   \n",
       "8757                                          NaN            93   \n",
       "8758                                          NaN            94   \n",
       "8759                                          NaN            95   \n",
       "\n",
       "      Velocidade do vento (m/s)  Valor médio de precipitação  \\\n",
       "0                          1.18                          NaN   \n",
       "1                          1.46                          NaN   \n",
       "2                          1.05                          NaN   \n",
       "3                          0.46                         0.14   \n",
       "4                          0.93                         1.26   \n",
       "...                         ...                          ...   \n",
       "8755                       5.56                         3.58   \n",
       "8756                       4.47                         4.20   \n",
       "8757                       3.29                         4.23   \n",
       "8758                       1.49                         3.90   \n",
       "8759                       1.93                         4.07   \n",
       "\n",
       "      Nível de nebulosidade (%) Avaliação qualitativa do estado do tempo  \n",
       "0                            78                            broken clouds  \n",
       "1                            92                          overcast clouds  \n",
       "2                            91                          overcast clouds  \n",
       "3                            94                               light rain  \n",
       "4                            95                            moderate rain  \n",
       "...                         ...                                      ...  \n",
       "8755                        100                            moderate rain  \n",
       "8756                        100                     heavy intensity rain  \n",
       "8757                        100                     heavy intensity rain  \n",
       "8758                        100                            moderate rain  \n",
       "8759                        100                     heavy intensity rain  \n",
       "\n",
       "[11688 rows x 15 columns]"
      ]
     },
     "execution_count": 81,
     "metadata": {},
     "output_type": "execute_result"
    }
   ],
   "source": [
    "meteo"
   ]
  },
  {
   "cell_type": "code",
   "execution_count": 82,
   "metadata": {},
   "outputs": [
    {
     "data": {
      "text/html": [
       "<div>\n",
       "<style scoped>\n",
       "    .dataframe tbody tr th:only-of-type {\n",
       "        vertical-align: middle;\n",
       "    }\n",
       "\n",
       "    .dataframe tbody tr th {\n",
       "        vertical-align: top;\n",
       "    }\n",
       "\n",
       "    .dataframe thead th {\n",
       "        text-align: right;\n",
       "    }\n",
       "</style>\n",
       "<table border=\"1\" class=\"dataframe\">\n",
       "  <thead>\n",
       "    <tr style=\"text-align: right;\">\n",
       "      <th></th>\n",
       "      <th>Data</th>\n",
       "      <th>Hora</th>\n",
       "      <th>Normal (kWh)</th>\n",
       "      <th>Horário Económico (kWh)</th>\n",
       "      <th>Autoconsumo (kWh)</th>\n",
       "      <th>Injeção na rede (kWh)</th>\n",
       "    </tr>\n",
       "  </thead>\n",
       "  <tbody>\n",
       "    <tr>\n",
       "      <th>0</th>\n",
       "      <td>2021-09-29</td>\n",
       "      <td>0</td>\n",
       "      <td>0.000</td>\n",
       "      <td>0.000</td>\n",
       "      <td>0.0</td>\n",
       "      <td>NaN</td>\n",
       "    </tr>\n",
       "    <tr>\n",
       "      <th>1</th>\n",
       "      <td>2021-09-29</td>\n",
       "      <td>1</td>\n",
       "      <td>0.000</td>\n",
       "      <td>0.000</td>\n",
       "      <td>0.0</td>\n",
       "      <td>NaN</td>\n",
       "    </tr>\n",
       "    <tr>\n",
       "      <th>2</th>\n",
       "      <td>2021-09-29</td>\n",
       "      <td>2</td>\n",
       "      <td>0.000</td>\n",
       "      <td>0.000</td>\n",
       "      <td>0.0</td>\n",
       "      <td>NaN</td>\n",
       "    </tr>\n",
       "    <tr>\n",
       "      <th>3</th>\n",
       "      <td>2021-09-29</td>\n",
       "      <td>3</td>\n",
       "      <td>0.000</td>\n",
       "      <td>0.000</td>\n",
       "      <td>0.0</td>\n",
       "      <td>NaN</td>\n",
       "    </tr>\n",
       "    <tr>\n",
       "      <th>4</th>\n",
       "      <td>2021-09-29</td>\n",
       "      <td>4</td>\n",
       "      <td>0.000</td>\n",
       "      <td>0.000</td>\n",
       "      <td>0.0</td>\n",
       "      <td>NaN</td>\n",
       "    </tr>\n",
       "    <tr>\n",
       "      <th>...</th>\n",
       "      <td>...</td>\n",
       "      <td>...</td>\n",
       "      <td>...</td>\n",
       "      <td>...</td>\n",
       "      <td>...</td>\n",
       "      <td>...</td>\n",
       "    </tr>\n",
       "    <tr>\n",
       "      <th>8755</th>\n",
       "      <td>2022-12-31</td>\n",
       "      <td>19</td>\n",
       "      <td>1.693</td>\n",
       "      <td>0.000</td>\n",
       "      <td>0.0</td>\n",
       "      <td>NaN</td>\n",
       "    </tr>\n",
       "    <tr>\n",
       "      <th>8756</th>\n",
       "      <td>2022-12-31</td>\n",
       "      <td>20</td>\n",
       "      <td>1.327</td>\n",
       "      <td>0.000</td>\n",
       "      <td>0.0</td>\n",
       "      <td>NaN</td>\n",
       "    </tr>\n",
       "    <tr>\n",
       "      <th>8757</th>\n",
       "      <td>2022-12-31</td>\n",
       "      <td>21</td>\n",
       "      <td>0.757</td>\n",
       "      <td>0.000</td>\n",
       "      <td>0.0</td>\n",
       "      <td>NaN</td>\n",
       "    </tr>\n",
       "    <tr>\n",
       "      <th>8758</th>\n",
       "      <td>2022-12-31</td>\n",
       "      <td>22</td>\n",
       "      <td>0.000</td>\n",
       "      <td>0.675</td>\n",
       "      <td>0.0</td>\n",
       "      <td>NaN</td>\n",
       "    </tr>\n",
       "    <tr>\n",
       "      <th>8759</th>\n",
       "      <td>2022-12-31</td>\n",
       "      <td>23</td>\n",
       "      <td>0.000</td>\n",
       "      <td>0.403</td>\n",
       "      <td>0.0</td>\n",
       "      <td>NaN</td>\n",
       "    </tr>\n",
       "  </tbody>\n",
       "</table>\n",
       "<p>11016 rows × 6 columns</p>\n",
       "</div>"
      ],
      "text/plain": [
       "            Data  Hora  Normal (kWh)  Horário Económico (kWh)  \\\n",
       "0     2021-09-29     0         0.000                    0.000   \n",
       "1     2021-09-29     1         0.000                    0.000   \n",
       "2     2021-09-29     2         0.000                    0.000   \n",
       "3     2021-09-29     3         0.000                    0.000   \n",
       "4     2021-09-29     4         0.000                    0.000   \n",
       "...          ...   ...           ...                      ...   \n",
       "8755  2022-12-31    19         1.693                    0.000   \n",
       "8756  2022-12-31    20         1.327                    0.000   \n",
       "8757  2022-12-31    21         0.757                    0.000   \n",
       "8758  2022-12-31    22         0.000                    0.675   \n",
       "8759  2022-12-31    23         0.000                    0.403   \n",
       "\n",
       "      Autoconsumo (kWh) Injeção na rede (kWh)  \n",
       "0                   0.0                   NaN  \n",
       "1                   0.0                   NaN  \n",
       "2                   0.0                   NaN  \n",
       "3                   0.0                   NaN  \n",
       "4                   0.0                   NaN  \n",
       "...                 ...                   ...  \n",
       "8755                0.0                   NaN  \n",
       "8756                0.0                   NaN  \n",
       "8757                0.0                   NaN  \n",
       "8758                0.0                   NaN  \n",
       "8759                0.0                   NaN  \n",
       "\n",
       "[11016 rows x 6 columns]"
      ]
     },
     "execution_count": 82,
     "metadata": {},
     "output_type": "execute_result"
    }
   ],
   "source": [
    "energia"
   ]
  },
  {
   "cell_type": "markdown",
   "metadata": {},
   "source": [
    "Juntar num único dataset. Precisamos de agrupar os dados metereológicos às medições de energia correspondentes.\n",
    "Agrupar por Data e Hora."
   ]
  },
  {
   "cell_type": "code",
   "execution_count": 83,
   "metadata": {
    "is_executing": true
   },
   "outputs": [
    {
     "data": {
      "text/html": [
       "<div>\n",
       "<style scoped>\n",
       "    .dataframe tbody tr th:only-of-type {\n",
       "        vertical-align: middle;\n",
       "    }\n",
       "\n",
       "    .dataframe tbody tr th {\n",
       "        vertical-align: top;\n",
       "    }\n",
       "\n",
       "    .dataframe thead th {\n",
       "        text-align: right;\n",
       "    }\n",
       "</style>\n",
       "<table border=\"1\" class=\"dataframe\">\n",
       "  <thead>\n",
       "    <tr style=\"text-align: right;\">\n",
       "      <th></th>\n",
       "      <th>Timestamp</th>\n",
       "      <th>Data</th>\n",
       "      <th>Nome da Cidade</th>\n",
       "      <th>Temperatura (ºC)</th>\n",
       "      <th>Sensação Térmica (ºC)</th>\n",
       "      <th>Temperatura Mínima (ºC)</th>\n",
       "      <th>Temperatura Máxima (ºC)</th>\n",
       "      <th>Pressão Atmosférica (atm)</th>\n",
       "      <th>Pressão atmosférica no nível do mar (atm)</th>\n",
       "      <th>Pressão atmosférica na altitude local (atm)</th>\n",
       "      <th>Humidade (%)</th>\n",
       "      <th>Velocidade do vento (m/s)</th>\n",
       "      <th>Valor médio de precipitação</th>\n",
       "      <th>Nível de nebulosidade (%)</th>\n",
       "      <th>Avaliação qualitativa do estado do tempo</th>\n",
       "    </tr>\n",
       "  </thead>\n",
       "  <tbody>\n",
       "    <tr>\n",
       "      <th>0</th>\n",
       "      <td>1630454400</td>\n",
       "      <td>2021-09-01 00:00:00</td>\n",
       "      <td>local</td>\n",
       "      <td>18.74</td>\n",
       "      <td>18.84</td>\n",
       "      <td>15.72</td>\n",
       "      <td>20.34</td>\n",
       "      <td>1015</td>\n",
       "      <td>NaN</td>\n",
       "      <td>NaN</td>\n",
       "      <td>83</td>\n",
       "      <td>1.18</td>\n",
       "      <td>NaN</td>\n",
       "      <td>78</td>\n",
       "      <td>broken clouds</td>\n",
       "    </tr>\n",
       "    <tr>\n",
       "      <th>1</th>\n",
       "      <td>1630458000</td>\n",
       "      <td>2021-09-01 01:00:00</td>\n",
       "      <td>local</td>\n",
       "      <td>18.73</td>\n",
       "      <td>18.83</td>\n",
       "      <td>15.72</td>\n",
       "      <td>20.34</td>\n",
       "      <td>1014</td>\n",
       "      <td>NaN</td>\n",
       "      <td>NaN</td>\n",
       "      <td>83</td>\n",
       "      <td>1.46</td>\n",
       "      <td>NaN</td>\n",
       "      <td>92</td>\n",
       "      <td>overcast clouds</td>\n",
       "    </tr>\n",
       "    <tr>\n",
       "      <th>2</th>\n",
       "      <td>1630461600</td>\n",
       "      <td>2021-09-01 02:00:00</td>\n",
       "      <td>local</td>\n",
       "      <td>17.84</td>\n",
       "      <td>17.98</td>\n",
       "      <td>16.72</td>\n",
       "      <td>20.34</td>\n",
       "      <td>1014</td>\n",
       "      <td>NaN</td>\n",
       "      <td>NaN</td>\n",
       "      <td>88</td>\n",
       "      <td>1.05</td>\n",
       "      <td>NaN</td>\n",
       "      <td>91</td>\n",
       "      <td>overcast clouds</td>\n",
       "    </tr>\n",
       "    <tr>\n",
       "      <th>3</th>\n",
       "      <td>1630465200</td>\n",
       "      <td>2021-09-01 03:00:00</td>\n",
       "      <td>local</td>\n",
       "      <td>18.27</td>\n",
       "      <td>18.40</td>\n",
       "      <td>16.68</td>\n",
       "      <td>20.34</td>\n",
       "      <td>1014</td>\n",
       "      <td>NaN</td>\n",
       "      <td>NaN</td>\n",
       "      <td>86</td>\n",
       "      <td>0.46</td>\n",
       "      <td>0.14</td>\n",
       "      <td>94</td>\n",
       "      <td>light rain</td>\n",
       "    </tr>\n",
       "    <tr>\n",
       "      <th>4</th>\n",
       "      <td>1630468800</td>\n",
       "      <td>2021-09-01 04:00:00</td>\n",
       "      <td>local</td>\n",
       "      <td>17.81</td>\n",
       "      <td>17.97</td>\n",
       "      <td>16.12</td>\n",
       "      <td>20.34</td>\n",
       "      <td>1013</td>\n",
       "      <td>NaN</td>\n",
       "      <td>NaN</td>\n",
       "      <td>89</td>\n",
       "      <td>0.93</td>\n",
       "      <td>1.26</td>\n",
       "      <td>95</td>\n",
       "      <td>moderate rain</td>\n",
       "    </tr>\n",
       "  </tbody>\n",
       "</table>\n",
       "</div>"
      ],
      "text/plain": [
       "    Timestamp                Data Nome da Cidade  Temperatura (ºC)  \\\n",
       "0  1630454400 2021-09-01 00:00:00          local             18.74   \n",
       "1  1630458000 2021-09-01 01:00:00          local             18.73   \n",
       "2  1630461600 2021-09-01 02:00:00          local             17.84   \n",
       "3  1630465200 2021-09-01 03:00:00          local             18.27   \n",
       "4  1630468800 2021-09-01 04:00:00          local             17.81   \n",
       "\n",
       "   Sensação Térmica (ºC)  Temperatura Mínima (ºC)  Temperatura Máxima (ºC)  \\\n",
       "0                  18.84                    15.72                    20.34   \n",
       "1                  18.83                    15.72                    20.34   \n",
       "2                  17.98                    16.72                    20.34   \n",
       "3                  18.40                    16.68                    20.34   \n",
       "4                  17.97                    16.12                    20.34   \n",
       "\n",
       "   Pressão Atmosférica (atm)  Pressão atmosférica no nível do mar (atm)  \\\n",
       "0                       1015                                        NaN   \n",
       "1                       1014                                        NaN   \n",
       "2                       1014                                        NaN   \n",
       "3                       1014                                        NaN   \n",
       "4                       1013                                        NaN   \n",
       "\n",
       "   Pressão atmosférica na altitude local (atm)  Humidade (%)  \\\n",
       "0                                          NaN            83   \n",
       "1                                          NaN            83   \n",
       "2                                          NaN            88   \n",
       "3                                          NaN            86   \n",
       "4                                          NaN            89   \n",
       "\n",
       "   Velocidade do vento (m/s)  Valor médio de precipitação  \\\n",
       "0                       1.18                          NaN   \n",
       "1                       1.46                          NaN   \n",
       "2                       1.05                          NaN   \n",
       "3                       0.46                         0.14   \n",
       "4                       0.93                         1.26   \n",
       "\n",
       "   Nível de nebulosidade (%) Avaliação qualitativa do estado do tempo  \n",
       "0                         78                            broken clouds  \n",
       "1                         92                          overcast clouds  \n",
       "2                         91                          overcast clouds  \n",
       "3                         94                               light rain  \n",
       "4                         95                            moderate rain  "
      ]
     },
     "execution_count": 83,
     "metadata": {},
     "output_type": "execute_result"
    }
   ],
   "source": [
    "meteo['Data'] = pd.to_datetime(meteo['Data'], format='%Y-%m-%d %H:%M:%S +0000 UTC', errors='coerce') # 2021-09-01 00:00:00 +0000 UTC\n",
    "meteo.head()"
   ]
  },
  {
   "cell_type": "code",
   "execution_count": 84,
   "metadata": {},
   "outputs": [],
   "source": [
    "radiation_data['Data'] = pd.to_datetime(radiation_data['time'], format='%Y-%m-%d %H:%M:%S +0000 UTC', errors='coerce') # 2021-09-01 00:00:00 +0000 UTC\n",
    "radiation_data.drop(['time'], axis=1, inplace=True)\n",
    "radiation_data.drop(['direct_radiation (W/m²)', 'diffuse_radiation (W/m²)','direct_normal_irradiance (W/m²)','terrestrial_radiation (W/m²)'], axis=1, inplace=True)"
   ]
  },
  {
   "cell_type": "code",
   "execution_count": 85,
   "metadata": {},
   "outputs": [
    {
     "data": {
      "text/html": [
       "<div>\n",
       "<style scoped>\n",
       "    .dataframe tbody tr th:only-of-type {\n",
       "        vertical-align: middle;\n",
       "    }\n",
       "\n",
       "    .dataframe tbody tr th {\n",
       "        vertical-align: top;\n",
       "    }\n",
       "\n",
       "    .dataframe thead th {\n",
       "        text-align: right;\n",
       "    }\n",
       "</style>\n",
       "<table border=\"1\" class=\"dataframe\">\n",
       "  <thead>\n",
       "    <tr style=\"text-align: right;\">\n",
       "      <th></th>\n",
       "      <th>shortwave_radiation (W/m²)</th>\n",
       "      <th>Data</th>\n",
       "    </tr>\n",
       "  </thead>\n",
       "  <tbody>\n",
       "    <tr>\n",
       "      <th>0</th>\n",
       "      <td>0.0</td>\n",
       "      <td>2021-09-01 00:00:00</td>\n",
       "    </tr>\n",
       "    <tr>\n",
       "      <th>1</th>\n",
       "      <td>0.0</td>\n",
       "      <td>2021-09-01 01:00:00</td>\n",
       "    </tr>\n",
       "    <tr>\n",
       "      <th>2</th>\n",
       "      <td>0.0</td>\n",
       "      <td>2021-09-01 02:00:00</td>\n",
       "    </tr>\n",
       "    <tr>\n",
       "      <th>3</th>\n",
       "      <td>0.0</td>\n",
       "      <td>2021-09-01 03:00:00</td>\n",
       "    </tr>\n",
       "    <tr>\n",
       "      <th>4</th>\n",
       "      <td>0.0</td>\n",
       "      <td>2021-09-01 04:00:00</td>\n",
       "    </tr>\n",
       "  </tbody>\n",
       "</table>\n",
       "</div>"
      ],
      "text/plain": [
       "   shortwave_radiation (W/m²)                Data\n",
       "0                         0.0 2021-09-01 00:00:00\n",
       "1                         0.0 2021-09-01 01:00:00\n",
       "2                         0.0 2021-09-01 02:00:00\n",
       "3                         0.0 2021-09-01 03:00:00\n",
       "4                         0.0 2021-09-01 04:00:00"
      ]
     },
     "execution_count": 85,
     "metadata": {},
     "output_type": "execute_result"
    }
   ],
   "source": [
    "radiation_data.head()"
   ]
  },
  {
   "cell_type": "code",
   "execution_count": 86,
   "metadata": {
    "is_executing": true
   },
   "outputs": [
    {
     "data": {
      "text/html": [
       "<div>\n",
       "<style scoped>\n",
       "    .dataframe tbody tr th:only-of-type {\n",
       "        vertical-align: middle;\n",
       "    }\n",
       "\n",
       "    .dataframe tbody tr th {\n",
       "        vertical-align: top;\n",
       "    }\n",
       "\n",
       "    .dataframe thead th {\n",
       "        text-align: right;\n",
       "    }\n",
       "</style>\n",
       "<table border=\"1\" class=\"dataframe\">\n",
       "  <thead>\n",
       "    <tr style=\"text-align: right;\">\n",
       "      <th></th>\n",
       "      <th>Data</th>\n",
       "      <th>Normal (kWh)</th>\n",
       "      <th>Horário Económico (kWh)</th>\n",
       "      <th>Autoconsumo (kWh)</th>\n",
       "      <th>Injeção na rede (kWh)</th>\n",
       "    </tr>\n",
       "  </thead>\n",
       "  <tbody>\n",
       "    <tr>\n",
       "      <th>0</th>\n",
       "      <td>2021-09-29 00:00:00</td>\n",
       "      <td>0.0</td>\n",
       "      <td>0.0</td>\n",
       "      <td>0.0</td>\n",
       "      <td>NaN</td>\n",
       "    </tr>\n",
       "    <tr>\n",
       "      <th>1</th>\n",
       "      <td>2021-09-29 01:00:00</td>\n",
       "      <td>0.0</td>\n",
       "      <td>0.0</td>\n",
       "      <td>0.0</td>\n",
       "      <td>NaN</td>\n",
       "    </tr>\n",
       "    <tr>\n",
       "      <th>2</th>\n",
       "      <td>2021-09-29 02:00:00</td>\n",
       "      <td>0.0</td>\n",
       "      <td>0.0</td>\n",
       "      <td>0.0</td>\n",
       "      <td>NaN</td>\n",
       "    </tr>\n",
       "    <tr>\n",
       "      <th>3</th>\n",
       "      <td>2021-09-29 03:00:00</td>\n",
       "      <td>0.0</td>\n",
       "      <td>0.0</td>\n",
       "      <td>0.0</td>\n",
       "      <td>NaN</td>\n",
       "    </tr>\n",
       "    <tr>\n",
       "      <th>4</th>\n",
       "      <td>2021-09-29 04:00:00</td>\n",
       "      <td>0.0</td>\n",
       "      <td>0.0</td>\n",
       "      <td>0.0</td>\n",
       "      <td>NaN</td>\n",
       "    </tr>\n",
       "  </tbody>\n",
       "</table>\n",
       "</div>"
      ],
      "text/plain": [
       "                 Data  Normal (kWh)  Horário Económico (kWh)  \\\n",
       "0 2021-09-29 00:00:00           0.0                      0.0   \n",
       "1 2021-09-29 01:00:00           0.0                      0.0   \n",
       "2 2021-09-29 02:00:00           0.0                      0.0   \n",
       "3 2021-09-29 03:00:00           0.0                      0.0   \n",
       "4 2021-09-29 04:00:00           0.0                      0.0   \n",
       "\n",
       "   Autoconsumo (kWh) Injeção na rede (kWh)  \n",
       "0                0.0                   NaN  \n",
       "1                0.0                   NaN  \n",
       "2                0.0                   NaN  \n",
       "3                0.0                   NaN  \n",
       "4                0.0                   NaN  "
      ]
     },
     "execution_count": 86,
     "metadata": {},
     "output_type": "execute_result"
    }
   ],
   "source": [
    "energia['Data'] = pd.to_datetime(energia.apply(lambda row: f\"{row['Data']} {row['Hora']}\", axis=1), format='%Y-%m-%d %H', errors='coerce') \n",
    "energia.drop('Hora', axis=1, inplace=True)\n",
    "energia.head()"
   ]
  },
  {
   "cell_type": "markdown",
   "metadata": {},
   "source": [
    "### Merge aos três datasets"
   ]
  },
  {
   "cell_type": "code",
   "execution_count": 87,
   "metadata": {
    "is_executing": true
   },
   "outputs": [],
   "source": [
    "data = pd.merge(energia, meteo, how = 'left', on = 'Data')"
   ]
  },
  {
   "cell_type": "code",
   "execution_count": 88,
   "metadata": {},
   "outputs": [
    {
     "data": {
      "text/html": [
       "<div>\n",
       "<style scoped>\n",
       "    .dataframe tbody tr th:only-of-type {\n",
       "        vertical-align: middle;\n",
       "    }\n",
       "\n",
       "    .dataframe tbody tr th {\n",
       "        vertical-align: top;\n",
       "    }\n",
       "\n",
       "    .dataframe thead th {\n",
       "        text-align: right;\n",
       "    }\n",
       "</style>\n",
       "<table border=\"1\" class=\"dataframe\">\n",
       "  <thead>\n",
       "    <tr style=\"text-align: right;\">\n",
       "      <th></th>\n",
       "      <th>Data</th>\n",
       "      <th>Normal (kWh)</th>\n",
       "      <th>Horário Económico (kWh)</th>\n",
       "      <th>Autoconsumo (kWh)</th>\n",
       "      <th>Injeção na rede (kWh)</th>\n",
       "      <th>Timestamp</th>\n",
       "      <th>Nome da Cidade</th>\n",
       "      <th>Temperatura (ºC)</th>\n",
       "      <th>Sensação Térmica (ºC)</th>\n",
       "      <th>Temperatura Mínima (ºC)</th>\n",
       "      <th>Temperatura Máxima (ºC)</th>\n",
       "      <th>Pressão Atmosférica (atm)</th>\n",
       "      <th>Pressão atmosférica no nível do mar (atm)</th>\n",
       "      <th>Pressão atmosférica na altitude local (atm)</th>\n",
       "      <th>Humidade (%)</th>\n",
       "      <th>Velocidade do vento (m/s)</th>\n",
       "      <th>Valor médio de precipitação</th>\n",
       "      <th>Nível de nebulosidade (%)</th>\n",
       "      <th>Avaliação qualitativa do estado do tempo</th>\n",
       "      <th>shortwave_radiation (W/m²)</th>\n",
       "    </tr>\n",
       "  </thead>\n",
       "  <tbody>\n",
       "    <tr>\n",
       "      <th>0</th>\n",
       "      <td>2021-09-29 00:00:00</td>\n",
       "      <td>0.000</td>\n",
       "      <td>0.000</td>\n",
       "      <td>0.0</td>\n",
       "      <td>NaN</td>\n",
       "      <td>1632873600</td>\n",
       "      <td>local</td>\n",
       "      <td>13.97</td>\n",
       "      <td>13.54</td>\n",
       "      <td>11.45</td>\n",
       "      <td>14.04</td>\n",
       "      <td>1027</td>\n",
       "      <td>NaN</td>\n",
       "      <td>NaN</td>\n",
       "      <td>81</td>\n",
       "      <td>1.96</td>\n",
       "      <td>NaN</td>\n",
       "      <td>87</td>\n",
       "      <td>overcast clouds</td>\n",
       "      <td>0.0</td>\n",
       "    </tr>\n",
       "    <tr>\n",
       "      <th>1</th>\n",
       "      <td>2021-09-29 01:00:00</td>\n",
       "      <td>0.000</td>\n",
       "      <td>0.000</td>\n",
       "      <td>0.0</td>\n",
       "      <td>NaN</td>\n",
       "      <td>1632877200</td>\n",
       "      <td>local</td>\n",
       "      <td>13.48</td>\n",
       "      <td>13.02</td>\n",
       "      <td>13.43</td>\n",
       "      <td>13.90</td>\n",
       "      <td>1028</td>\n",
       "      <td>NaN</td>\n",
       "      <td>NaN</td>\n",
       "      <td>82</td>\n",
       "      <td>1.83</td>\n",
       "      <td>NaN</td>\n",
       "      <td>91</td>\n",
       "      <td>overcast clouds</td>\n",
       "      <td>0.0</td>\n",
       "    </tr>\n",
       "    <tr>\n",
       "      <th>2</th>\n",
       "      <td>2021-09-29 02:00:00</td>\n",
       "      <td>0.000</td>\n",
       "      <td>0.000</td>\n",
       "      <td>0.0</td>\n",
       "      <td>NaN</td>\n",
       "      <td>1632880800</td>\n",
       "      <td>local</td>\n",
       "      <td>12.93</td>\n",
       "      <td>12.47</td>\n",
       "      <td>12.72</td>\n",
       "      <td>13.43</td>\n",
       "      <td>1027</td>\n",
       "      <td>NaN</td>\n",
       "      <td>NaN</td>\n",
       "      <td>84</td>\n",
       "      <td>1.96</td>\n",
       "      <td>NaN</td>\n",
       "      <td>93</td>\n",
       "      <td>overcast clouds</td>\n",
       "      <td>0.0</td>\n",
       "    </tr>\n",
       "    <tr>\n",
       "      <th>3</th>\n",
       "      <td>2021-09-29 03:00:00</td>\n",
       "      <td>0.000</td>\n",
       "      <td>0.000</td>\n",
       "      <td>0.0</td>\n",
       "      <td>NaN</td>\n",
       "      <td>1632884400</td>\n",
       "      <td>local</td>\n",
       "      <td>12.61</td>\n",
       "      <td>12.15</td>\n",
       "      <td>10.34</td>\n",
       "      <td>12.93</td>\n",
       "      <td>1027</td>\n",
       "      <td>NaN</td>\n",
       "      <td>NaN</td>\n",
       "      <td>85</td>\n",
       "      <td>1.85</td>\n",
       "      <td>NaN</td>\n",
       "      <td>95</td>\n",
       "      <td>overcast clouds</td>\n",
       "      <td>0.0</td>\n",
       "    </tr>\n",
       "    <tr>\n",
       "      <th>4</th>\n",
       "      <td>2021-09-29 04:00:00</td>\n",
       "      <td>0.000</td>\n",
       "      <td>0.000</td>\n",
       "      <td>0.0</td>\n",
       "      <td>NaN</td>\n",
       "      <td>1632888000</td>\n",
       "      <td>local</td>\n",
       "      <td>12.61</td>\n",
       "      <td>12.17</td>\n",
       "      <td>9.79</td>\n",
       "      <td>12.93</td>\n",
       "      <td>1027</td>\n",
       "      <td>NaN</td>\n",
       "      <td>NaN</td>\n",
       "      <td>86</td>\n",
       "      <td>1.83</td>\n",
       "      <td>NaN</td>\n",
       "      <td>93</td>\n",
       "      <td>overcast clouds</td>\n",
       "      <td>0.0</td>\n",
       "    </tr>\n",
       "    <tr>\n",
       "      <th>...</th>\n",
       "      <td>...</td>\n",
       "      <td>...</td>\n",
       "      <td>...</td>\n",
       "      <td>...</td>\n",
       "      <td>...</td>\n",
       "      <td>...</td>\n",
       "      <td>...</td>\n",
       "      <td>...</td>\n",
       "      <td>...</td>\n",
       "      <td>...</td>\n",
       "      <td>...</td>\n",
       "      <td>...</td>\n",
       "      <td>...</td>\n",
       "      <td>...</td>\n",
       "      <td>...</td>\n",
       "      <td>...</td>\n",
       "      <td>...</td>\n",
       "      <td>...</td>\n",
       "      <td>...</td>\n",
       "      <td>...</td>\n",
       "    </tr>\n",
       "    <tr>\n",
       "      <th>11011</th>\n",
       "      <td>2022-12-31 19:00:00</td>\n",
       "      <td>1.693</td>\n",
       "      <td>0.000</td>\n",
       "      <td>0.0</td>\n",
       "      <td>NaN</td>\n",
       "      <td>1672513200</td>\n",
       "      <td>local</td>\n",
       "      <td>15.70</td>\n",
       "      <td>15.57</td>\n",
       "      <td>15.57</td>\n",
       "      <td>15.72</td>\n",
       "      <td>1018</td>\n",
       "      <td>NaN</td>\n",
       "      <td>NaN</td>\n",
       "      <td>86</td>\n",
       "      <td>5.56</td>\n",
       "      <td>3.58</td>\n",
       "      <td>100</td>\n",
       "      <td>moderate rain</td>\n",
       "      <td>0.0</td>\n",
       "    </tr>\n",
       "    <tr>\n",
       "      <th>11012</th>\n",
       "      <td>2022-12-31 20:00:00</td>\n",
       "      <td>1.327</td>\n",
       "      <td>0.000</td>\n",
       "      <td>0.0</td>\n",
       "      <td>NaN</td>\n",
       "      <td>1672516800</td>\n",
       "      <td>local</td>\n",
       "      <td>15.55</td>\n",
       "      <td>15.43</td>\n",
       "      <td>12.72</td>\n",
       "      <td>15.70</td>\n",
       "      <td>1018</td>\n",
       "      <td>NaN</td>\n",
       "      <td>NaN</td>\n",
       "      <td>87</td>\n",
       "      <td>4.47</td>\n",
       "      <td>4.20</td>\n",
       "      <td>100</td>\n",
       "      <td>heavy intensity rain</td>\n",
       "      <td>0.0</td>\n",
       "    </tr>\n",
       "    <tr>\n",
       "      <th>11013</th>\n",
       "      <td>2022-12-31 21:00:00</td>\n",
       "      <td>0.757</td>\n",
       "      <td>0.000</td>\n",
       "      <td>0.0</td>\n",
       "      <td>NaN</td>\n",
       "      <td>1672520400</td>\n",
       "      <td>local</td>\n",
       "      <td>13.45</td>\n",
       "      <td>13.28</td>\n",
       "      <td>12.23</td>\n",
       "      <td>13.99</td>\n",
       "      <td>1019</td>\n",
       "      <td>NaN</td>\n",
       "      <td>NaN</td>\n",
       "      <td>93</td>\n",
       "      <td>3.29</td>\n",
       "      <td>4.23</td>\n",
       "      <td>100</td>\n",
       "      <td>heavy intensity rain</td>\n",
       "      <td>0.0</td>\n",
       "    </tr>\n",
       "    <tr>\n",
       "      <th>11014</th>\n",
       "      <td>2022-12-31 22:00:00</td>\n",
       "      <td>0.000</td>\n",
       "      <td>0.675</td>\n",
       "      <td>0.0</td>\n",
       "      <td>NaN</td>\n",
       "      <td>1672524000</td>\n",
       "      <td>local</td>\n",
       "      <td>12.93</td>\n",
       "      <td>12.73</td>\n",
       "      <td>12.23</td>\n",
       "      <td>13.43</td>\n",
       "      <td>1019</td>\n",
       "      <td>NaN</td>\n",
       "      <td>NaN</td>\n",
       "      <td>94</td>\n",
       "      <td>1.49</td>\n",
       "      <td>3.90</td>\n",
       "      <td>100</td>\n",
       "      <td>moderate rain</td>\n",
       "      <td>0.0</td>\n",
       "    </tr>\n",
       "    <tr>\n",
       "      <th>11015</th>\n",
       "      <td>2022-12-31 23:00:00</td>\n",
       "      <td>0.000</td>\n",
       "      <td>0.403</td>\n",
       "      <td>0.0</td>\n",
       "      <td>NaN</td>\n",
       "      <td>1672527600</td>\n",
       "      <td>local</td>\n",
       "      <td>12.93</td>\n",
       "      <td>12.76</td>\n",
       "      <td>12.23</td>\n",
       "      <td>13.43</td>\n",
       "      <td>1019</td>\n",
       "      <td>NaN</td>\n",
       "      <td>NaN</td>\n",
       "      <td>95</td>\n",
       "      <td>1.93</td>\n",
       "      <td>4.07</td>\n",
       "      <td>100</td>\n",
       "      <td>heavy intensity rain</td>\n",
       "      <td>0.0</td>\n",
       "    </tr>\n",
       "  </tbody>\n",
       "</table>\n",
       "<p>11016 rows × 20 columns</p>\n",
       "</div>"
      ],
      "text/plain": [
       "                     Data  Normal (kWh)  Horário Económico (kWh)  \\\n",
       "0     2021-09-29 00:00:00         0.000                    0.000   \n",
       "1     2021-09-29 01:00:00         0.000                    0.000   \n",
       "2     2021-09-29 02:00:00         0.000                    0.000   \n",
       "3     2021-09-29 03:00:00         0.000                    0.000   \n",
       "4     2021-09-29 04:00:00         0.000                    0.000   \n",
       "...                   ...           ...                      ...   \n",
       "11011 2022-12-31 19:00:00         1.693                    0.000   \n",
       "11012 2022-12-31 20:00:00         1.327                    0.000   \n",
       "11013 2022-12-31 21:00:00         0.757                    0.000   \n",
       "11014 2022-12-31 22:00:00         0.000                    0.675   \n",
       "11015 2022-12-31 23:00:00         0.000                    0.403   \n",
       "\n",
       "       Autoconsumo (kWh) Injeção na rede (kWh)   Timestamp Nome da Cidade  \\\n",
       "0                    0.0                   NaN  1632873600          local   \n",
       "1                    0.0                   NaN  1632877200          local   \n",
       "2                    0.0                   NaN  1632880800          local   \n",
       "3                    0.0                   NaN  1632884400          local   \n",
       "4                    0.0                   NaN  1632888000          local   \n",
       "...                  ...                   ...         ...            ...   \n",
       "11011                0.0                   NaN  1672513200          local   \n",
       "11012                0.0                   NaN  1672516800          local   \n",
       "11013                0.0                   NaN  1672520400          local   \n",
       "11014                0.0                   NaN  1672524000          local   \n",
       "11015                0.0                   NaN  1672527600          local   \n",
       "\n",
       "       Temperatura (ºC)  Sensação Térmica (ºC)  Temperatura Mínima (ºC)  \\\n",
       "0                 13.97                  13.54                    11.45   \n",
       "1                 13.48                  13.02                    13.43   \n",
       "2                 12.93                  12.47                    12.72   \n",
       "3                 12.61                  12.15                    10.34   \n",
       "4                 12.61                  12.17                     9.79   \n",
       "...                 ...                    ...                      ...   \n",
       "11011             15.70                  15.57                    15.57   \n",
       "11012             15.55                  15.43                    12.72   \n",
       "11013             13.45                  13.28                    12.23   \n",
       "11014             12.93                  12.73                    12.23   \n",
       "11015             12.93                  12.76                    12.23   \n",
       "\n",
       "       Temperatura Máxima (ºC)  Pressão Atmosférica (atm)  \\\n",
       "0                        14.04                       1027   \n",
       "1                        13.90                       1028   \n",
       "2                        13.43                       1027   \n",
       "3                        12.93                       1027   \n",
       "4                        12.93                       1027   \n",
       "...                        ...                        ...   \n",
       "11011                    15.72                       1018   \n",
       "11012                    15.70                       1018   \n",
       "11013                    13.99                       1019   \n",
       "11014                    13.43                       1019   \n",
       "11015                    13.43                       1019   \n",
       "\n",
       "       Pressão atmosférica no nível do mar (atm)  \\\n",
       "0                                            NaN   \n",
       "1                                            NaN   \n",
       "2                                            NaN   \n",
       "3                                            NaN   \n",
       "4                                            NaN   \n",
       "...                                          ...   \n",
       "11011                                        NaN   \n",
       "11012                                        NaN   \n",
       "11013                                        NaN   \n",
       "11014                                        NaN   \n",
       "11015                                        NaN   \n",
       "\n",
       "       Pressão atmosférica na altitude local (atm)  Humidade (%)  \\\n",
       "0                                              NaN            81   \n",
       "1                                              NaN            82   \n",
       "2                                              NaN            84   \n",
       "3                                              NaN            85   \n",
       "4                                              NaN            86   \n",
       "...                                            ...           ...   \n",
       "11011                                          NaN            86   \n",
       "11012                                          NaN            87   \n",
       "11013                                          NaN            93   \n",
       "11014                                          NaN            94   \n",
       "11015                                          NaN            95   \n",
       "\n",
       "       Velocidade do vento (m/s)  Valor médio de precipitação  \\\n",
       "0                           1.96                          NaN   \n",
       "1                           1.83                          NaN   \n",
       "2                           1.96                          NaN   \n",
       "3                           1.85                          NaN   \n",
       "4                           1.83                          NaN   \n",
       "...                          ...                          ...   \n",
       "11011                       5.56                         3.58   \n",
       "11012                       4.47                         4.20   \n",
       "11013                       3.29                         4.23   \n",
       "11014                       1.49                         3.90   \n",
       "11015                       1.93                         4.07   \n",
       "\n",
       "       Nível de nebulosidade (%) Avaliação qualitativa do estado do tempo  \\\n",
       "0                             87                          overcast clouds   \n",
       "1                             91                          overcast clouds   \n",
       "2                             93                          overcast clouds   \n",
       "3                             95                          overcast clouds   \n",
       "4                             93                          overcast clouds   \n",
       "...                          ...                                      ...   \n",
       "11011                        100                            moderate rain   \n",
       "11012                        100                     heavy intensity rain   \n",
       "11013                        100                     heavy intensity rain   \n",
       "11014                        100                            moderate rain   \n",
       "11015                        100                     heavy intensity rain   \n",
       "\n",
       "       shortwave_radiation (W/m²)  \n",
       "0                             0.0  \n",
       "1                             0.0  \n",
       "2                             0.0  \n",
       "3                             0.0  \n",
       "4                             0.0  \n",
       "...                           ...  \n",
       "11011                         0.0  \n",
       "11012                         0.0  \n",
       "11013                         0.0  \n",
       "11014                         0.0  \n",
       "11015                         0.0  \n",
       "\n",
       "[11016 rows x 20 columns]"
      ]
     },
     "execution_count": 88,
     "metadata": {},
     "output_type": "execute_result"
    }
   ],
   "source": [
    "data = pd.merge(data, radiation_data, how = 'left', on = 'Data')\n",
    "data"
   ]
  },
  {
   "cell_type": "code",
   "execution_count": 89,
   "metadata": {},
   "outputs": [],
   "source": [
    "data.drop(['Timestamp', 'Nome da Cidade'], axis=1, inplace=True)"
   ]
  },
  {
   "cell_type": "markdown",
   "metadata": {},
   "source": [
    "Divisão da coluna Data"
   ]
  },
  {
   "cell_type": "code",
   "execution_count": 90,
   "metadata": {},
   "outputs": [],
   "source": [
    "data['Year'] = data['Data'].dt.year\n",
    "data['Month'] = data['Data'].dt.month\n",
    "data['Day'] = data['Data'].dt.day\n",
    "data['Hour'] = data['Data'].dt.hour\n",
    "data['Minute'] = data['Data'].dt.minute\n",
    "data['Seconds'] = data['Data'].dt.second\n",
    "\n",
    "data.drop(['Data'], axis=1, inplace=True)"
   ]
  },
  {
   "cell_type": "code",
   "execution_count": 91,
   "metadata": {},
   "outputs": [],
   "source": [
    "data.drop(['Minute', 'Seconds'], axis=1, inplace=True)"
   ]
  },
  {
   "cell_type": "markdown",
   "metadata": {},
   "source": [
    "### Preparação e Transformação dos Dados"
   ]
  },
  {
   "cell_type": "markdown",
   "metadata": {},
   "source": [
    "Retirar colunas 'Pressão atmosférica no nível do mar(atm)' e 'Pressão atmosférica na altitude local(atm)' (Só contém MV)"
   ]
  },
  {
   "cell_type": "code",
   "execution_count": 92,
   "metadata": {
    "is_executing": true
   },
   "outputs": [
    {
     "data": {
      "text/plain": [
       "<Axes: >"
      ]
     },
     "execution_count": 92,
     "metadata": {},
     "output_type": "execute_result"
    },
    {
     "data": {
      "image/png": "[encoded data removed]",
      "text/plain": [
       "<Figure size 640x480 with 1 Axes>"
      ]
     },
     "metadata": {},
     "output_type": "display_data"
    }
   ],
   "source": [
    "data.drop(['Pressão atmosférica no nível do mar (atm)', 'Pressão atmosférica na altitude local (atm)'], axis=1, inplace=True)\n",
    "sns.heatmap(data.isnull(), yticklabels=False, cbar=False, cmap='viridis')"
   ]
  },
  {
   "cell_type": "markdown",
   "metadata": {},
   "source": [
    "Tratamento da coluna 'Valor médio de precipitação'"
   ]
  },
  {
   "cell_type": "code",
   "execution_count": 93,
   "metadata": {
    "is_executing": true
   },
   "outputs": [
    {
     "data": {
      "text/plain": [
       "<Axes: >"
      ]
     },
     "execution_count": 93,
     "metadata": {},
     "output_type": "execute_result"
    },
    {
     "data": {
      "image/png": "[encoded data removed]",
      "text/plain": [
       "<Figure size 640x480 with 1 Axes>"
      ]
     },
     "metadata": {},
     "output_type": "display_data"
    }
   ],
   "source": [
    "data['Valor médio de precipitação'] = data['Valor médio de precipitação'].fillna(0)\n",
    "sns.heatmap(data.isnull(), yticklabels=False, cbar=False, cmap='viridis')"
   ]
  },
  {
   "cell_type": "markdown",
   "metadata": {},
   "source": [
    "Tratamento da coluna 'Injeção na rede(kWh)'"
   ]
  },
  {
   "cell_type": "code",
   "execution_count": 94,
   "metadata": {},
   "outputs": [
    {
     "data": {
      "text/plain": [
       "Injeção na rede (kWh)\n",
       "High         1103\n",
       "Medium       1098\n",
       "Very High     606\n",
       "Low           432\n",
       "Name: count, dtype: int64"
      ]
     },
     "execution_count": 94,
     "metadata": {},
     "output_type": "execute_result"
    }
   ],
   "source": [
    "data['Injeção na rede (kWh)'].value_counts()"
   ]
  },
  {
   "cell_type": "code",
   "execution_count": 95,
   "metadata": {
    "is_executing": true
   },
   "outputs": [
    {
     "data": {
      "text/plain": [
       "<Axes: >"
      ]
     },
     "execution_count": 95,
     "metadata": {},
     "output_type": "execute_result"
    },
    {
     "data": {
      "image/png": "[encoded data removed]",
      "text/plain": [
       "<Figure size 640x480 with 1 Axes>"
      ]
     },
     "metadata": {},
     "output_type": "display_data"
    }
   ],
   "source": [
    "data['Injeção na rede (kWh)'] = data['Injeção na rede (kWh)'].fillna('None')\n",
    "sns.heatmap(data.isnull(), yticklabels=False, cbar=False, cmap='viridis')"
   ]
  },
  {
   "cell_type": "code",
   "execution_count": 96,
   "metadata": {
    "is_executing": true
   },
   "outputs": [
    {
     "data": {
      "text/html": [
       "<div>\n",
       "<style scoped>\n",
       "    .dataframe tbody tr th:only-of-type {\n",
       "        vertical-align: middle;\n",
       "    }\n",
       "\n",
       "    .dataframe tbody tr th {\n",
       "        vertical-align: top;\n",
       "    }\n",
       "\n",
       "    .dataframe thead th {\n",
       "        text-align: right;\n",
       "    }\n",
       "</style>\n",
       "<table border=\"1\" class=\"dataframe\">\n",
       "  <thead>\n",
       "    <tr style=\"text-align: right;\">\n",
       "      <th></th>\n",
       "      <th>Normal (kWh)</th>\n",
       "      <th>Horário Económico (kWh)</th>\n",
       "      <th>Autoconsumo (kWh)</th>\n",
       "      <th>Injeção na rede (kWh)</th>\n",
       "      <th>Temperatura (ºC)</th>\n",
       "      <th>Sensação Térmica (ºC)</th>\n",
       "      <th>Temperatura Mínima (ºC)</th>\n",
       "      <th>Temperatura Máxima (ºC)</th>\n",
       "      <th>Pressão Atmosférica (atm)</th>\n",
       "      <th>Humidade (%)</th>\n",
       "      <th>Velocidade do vento (m/s)</th>\n",
       "      <th>Valor médio de precipitação</th>\n",
       "      <th>Nível de nebulosidade (%)</th>\n",
       "      <th>Avaliação qualitativa do estado do tempo</th>\n",
       "      <th>shortwave_radiation (W/m²)</th>\n",
       "      <th>Year</th>\n",
       "      <th>Month</th>\n",
       "      <th>Day</th>\n",
       "      <th>Hour</th>\n",
       "    </tr>\n",
       "  </thead>\n",
       "  <tbody>\n",
       "    <tr>\n",
       "      <th>0</th>\n",
       "      <td>0.000</td>\n",
       "      <td>0.000</td>\n",
       "      <td>0.0</td>\n",
       "      <td>None</td>\n",
       "      <td>13.97</td>\n",
       "      <td>13.54</td>\n",
       "      <td>11.45</td>\n",
       "      <td>14.04</td>\n",
       "      <td>1027</td>\n",
       "      <td>81</td>\n",
       "      <td>1.96</td>\n",
       "      <td>0.00</td>\n",
       "      <td>87</td>\n",
       "      <td>overcast clouds</td>\n",
       "      <td>0.0</td>\n",
       "      <td>2021</td>\n",
       "      <td>9</td>\n",
       "      <td>29</td>\n",
       "      <td>0</td>\n",
       "    </tr>\n",
       "    <tr>\n",
       "      <th>1</th>\n",
       "      <td>0.000</td>\n",
       "      <td>0.000</td>\n",
       "      <td>0.0</td>\n",
       "      <td>None</td>\n",
       "      <td>13.48</td>\n",
       "      <td>13.02</td>\n",
       "      <td>13.43</td>\n",
       "      <td>13.90</td>\n",
       "      <td>1028</td>\n",
       "      <td>82</td>\n",
       "      <td>1.83</td>\n",
       "      <td>0.00</td>\n",
       "      <td>91</td>\n",
       "      <td>overcast clouds</td>\n",
       "      <td>0.0</td>\n",
       "      <td>2021</td>\n",
       "      <td>9</td>\n",
       "      <td>29</td>\n",
       "      <td>1</td>\n",
       "    </tr>\n",
       "    <tr>\n",
       "      <th>2</th>\n",
       "      <td>0.000</td>\n",
       "      <td>0.000</td>\n",
       "      <td>0.0</td>\n",
       "      <td>None</td>\n",
       "      <td>12.93</td>\n",
       "      <td>12.47</td>\n",
       "      <td>12.72</td>\n",
       "      <td>13.43</td>\n",
       "      <td>1027</td>\n",
       "      <td>84</td>\n",
       "      <td>1.96</td>\n",
       "      <td>0.00</td>\n",
       "      <td>93</td>\n",
       "      <td>overcast clouds</td>\n",
       "      <td>0.0</td>\n",
       "      <td>2021</td>\n",
       "      <td>9</td>\n",
       "      <td>29</td>\n",
       "      <td>2</td>\n",
       "    </tr>\n",
       "    <tr>\n",
       "      <th>3</th>\n",
       "      <td>0.000</td>\n",
       "      <td>0.000</td>\n",
       "      <td>0.0</td>\n",
       "      <td>None</td>\n",
       "      <td>12.61</td>\n",
       "      <td>12.15</td>\n",
       "      <td>10.34</td>\n",
       "      <td>12.93</td>\n",
       "      <td>1027</td>\n",
       "      <td>85</td>\n",
       "      <td>1.85</td>\n",
       "      <td>0.00</td>\n",
       "      <td>95</td>\n",
       "      <td>overcast clouds</td>\n",
       "      <td>0.0</td>\n",
       "      <td>2021</td>\n",
       "      <td>9</td>\n",
       "      <td>29</td>\n",
       "      <td>3</td>\n",
       "    </tr>\n",
       "    <tr>\n",
       "      <th>4</th>\n",
       "      <td>0.000</td>\n",
       "      <td>0.000</td>\n",
       "      <td>0.0</td>\n",
       "      <td>None</td>\n",
       "      <td>12.61</td>\n",
       "      <td>12.17</td>\n",
       "      <td>9.79</td>\n",
       "      <td>12.93</td>\n",
       "      <td>1027</td>\n",
       "      <td>86</td>\n",
       "      <td>1.83</td>\n",
       "      <td>0.00</td>\n",
       "      <td>93</td>\n",
       "      <td>overcast clouds</td>\n",
       "      <td>0.0</td>\n",
       "      <td>2021</td>\n",
       "      <td>9</td>\n",
       "      <td>29</td>\n",
       "      <td>4</td>\n",
       "    </tr>\n",
       "    <tr>\n",
       "      <th>...</th>\n",
       "      <td>...</td>\n",
       "      <td>...</td>\n",
       "      <td>...</td>\n",
       "      <td>...</td>\n",
       "      <td>...</td>\n",
       "      <td>...</td>\n",
       "      <td>...</td>\n",
       "      <td>...</td>\n",
       "      <td>...</td>\n",
       "      <td>...</td>\n",
       "      <td>...</td>\n",
       "      <td>...</td>\n",
       "      <td>...</td>\n",
       "      <td>...</td>\n",
       "      <td>...</td>\n",
       "      <td>...</td>\n",
       "      <td>...</td>\n",
       "      <td>...</td>\n",
       "      <td>...</td>\n",
       "    </tr>\n",
       "    <tr>\n",
       "      <th>11011</th>\n",
       "      <td>1.693</td>\n",
       "      <td>0.000</td>\n",
       "      <td>0.0</td>\n",
       "      <td>None</td>\n",
       "      <td>15.70</td>\n",
       "      <td>15.57</td>\n",
       "      <td>15.57</td>\n",
       "      <td>15.72</td>\n",
       "      <td>1018</td>\n",
       "      <td>86</td>\n",
       "      <td>5.56</td>\n",
       "      <td>3.58</td>\n",
       "      <td>100</td>\n",
       "      <td>moderate rain</td>\n",
       "      <td>0.0</td>\n",
       "      <td>2022</td>\n",
       "      <td>12</td>\n",
       "      <td>31</td>\n",
       "      <td>19</td>\n",
       "    </tr>\n",
       "    <tr>\n",
       "      <th>11012</th>\n",
       "      <td>1.327</td>\n",
       "      <td>0.000</td>\n",
       "      <td>0.0</td>\n",
       "      <td>None</td>\n",
       "      <td>15.55</td>\n",
       "      <td>15.43</td>\n",
       "      <td>12.72</td>\n",
       "      <td>15.70</td>\n",
       "      <td>1018</td>\n",
       "      <td>87</td>\n",
       "      <td>4.47</td>\n",
       "      <td>4.20</td>\n",
       "      <td>100</td>\n",
       "      <td>heavy intensity rain</td>\n",
       "      <td>0.0</td>\n",
       "      <td>2022</td>\n",
       "      <td>12</td>\n",
       "      <td>31</td>\n",
       "      <td>20</td>\n",
       "    </tr>\n",
       "    <tr>\n",
       "      <th>11013</th>\n",
       "      <td>0.757</td>\n",
       "      <td>0.000</td>\n",
       "      <td>0.0</td>\n",
       "      <td>None</td>\n",
       "      <td>13.45</td>\n",
       "      <td>13.28</td>\n",
       "      <td>12.23</td>\n",
       "      <td>13.99</td>\n",
       "      <td>1019</td>\n",
       "      <td>93</td>\n",
       "      <td>3.29</td>\n",
       "      <td>4.23</td>\n",
       "      <td>100</td>\n",
       "      <td>heavy intensity rain</td>\n",
       "      <td>0.0</td>\n",
       "      <td>2022</td>\n",
       "      <td>12</td>\n",
       "      <td>31</td>\n",
       "      <td>21</td>\n",
       "    </tr>\n",
       "    <tr>\n",
       "      <th>11014</th>\n",
       "      <td>0.000</td>\n",
       "      <td>0.675</td>\n",
       "      <td>0.0</td>\n",
       "      <td>None</td>\n",
       "      <td>12.93</td>\n",
       "      <td>12.73</td>\n",
       "      <td>12.23</td>\n",
       "      <td>13.43</td>\n",
       "      <td>1019</td>\n",
       "      <td>94</td>\n",
       "      <td>1.49</td>\n",
       "      <td>3.90</td>\n",
       "      <td>100</td>\n",
       "      <td>moderate rain</td>\n",
       "      <td>0.0</td>\n",
       "      <td>2022</td>\n",
       "      <td>12</td>\n",
       "      <td>31</td>\n",
       "      <td>22</td>\n",
       "    </tr>\n",
       "    <tr>\n",
       "      <th>11015</th>\n",
       "      <td>0.000</td>\n",
       "      <td>0.403</td>\n",
       "      <td>0.0</td>\n",
       "      <td>None</td>\n",
       "      <td>12.93</td>\n",
       "      <td>12.76</td>\n",
       "      <td>12.23</td>\n",
       "      <td>13.43</td>\n",
       "      <td>1019</td>\n",
       "      <td>95</td>\n",
       "      <td>1.93</td>\n",
       "      <td>4.07</td>\n",
       "      <td>100</td>\n",
       "      <td>heavy intensity rain</td>\n",
       "      <td>0.0</td>\n",
       "      <td>2022</td>\n",
       "      <td>12</td>\n",
       "      <td>31</td>\n",
       "      <td>23</td>\n",
       "    </tr>\n",
       "  </tbody>\n",
       "</table>\n",
       "<p>11016 rows × 19 columns</p>\n",
       "</div>"
      ],
      "text/plain": [
       "       Normal (kWh)  Horário Económico (kWh)  Autoconsumo (kWh)  \\\n",
       "0             0.000                    0.000                0.0   \n",
       "1             0.000                    0.000                0.0   \n",
       "2             0.000                    0.000                0.0   \n",
       "3             0.000                    0.000                0.0   \n",
       "4             0.000                    0.000                0.0   \n",
       "...             ...                      ...                ...   \n",
       "11011         1.693                    0.000                0.0   \n",
       "11012         1.327                    0.000                0.0   \n",
       "11013         0.757                    0.000                0.0   \n",
       "11014         0.000                    0.675                0.0   \n",
       "11015         0.000                    0.403                0.0   \n",
       "\n",
       "      Injeção na rede (kWh)  Temperatura (ºC)  Sensação Térmica (ºC)  \\\n",
       "0                      None             13.97                  13.54   \n",
       "1                      None             13.48                  13.02   \n",
       "2                      None             12.93                  12.47   \n",
       "3                      None             12.61                  12.15   \n",
       "4                      None             12.61                  12.17   \n",
       "...                     ...               ...                    ...   \n",
       "11011                  None             15.70                  15.57   \n",
       "11012                  None             15.55                  15.43   \n",
       "11013                  None             13.45                  13.28   \n",
       "11014                  None             12.93                  12.73   \n",
       "11015                  None             12.93                  12.76   \n",
       "\n",
       "       Temperatura Mínima (ºC)  Temperatura Máxima (ºC)  \\\n",
       "0                        11.45                    14.04   \n",
       "1                        13.43                    13.90   \n",
       "2                        12.72                    13.43   \n",
       "3                        10.34                    12.93   \n",
       "4                         9.79                    12.93   \n",
       "...                        ...                      ...   \n",
       "11011                    15.57                    15.72   \n",
       "11012                    12.72                    15.70   \n",
       "11013                    12.23                    13.99   \n",
       "11014                    12.23                    13.43   \n",
       "11015                    12.23                    13.43   \n",
       "\n",
       "       Pressão Atmosférica (atm)  Humidade (%)  Velocidade do vento (m/s)  \\\n",
       "0                           1027            81                       1.96   \n",
       "1                           1028            82                       1.83   \n",
       "2                           1027            84                       1.96   \n",
       "3                           1027            85                       1.85   \n",
       "4                           1027            86                       1.83   \n",
       "...                          ...           ...                        ...   \n",
       "11011                       1018            86                       5.56   \n",
       "11012                       1018            87                       4.47   \n",
       "11013                       1019            93                       3.29   \n",
       "11014                       1019            94                       1.49   \n",
       "11015                       1019            95                       1.93   \n",
       "\n",
       "       Valor médio de precipitação  Nível de nebulosidade (%)  \\\n",
       "0                             0.00                         87   \n",
       "1                             0.00                         91   \n",
       "2                             0.00                         93   \n",
       "3                             0.00                         95   \n",
       "4                             0.00                         93   \n",
       "...                            ...                        ...   \n",
       "11011                         3.58                        100   \n",
       "11012                         4.20                        100   \n",
       "11013                         4.23                        100   \n",
       "11014                         3.90                        100   \n",
       "11015                         4.07                        100   \n",
       "\n",
       "      Avaliação qualitativa do estado do tempo  shortwave_radiation (W/m²)  \\\n",
       "0                              overcast clouds                         0.0   \n",
       "1                              overcast clouds                         0.0   \n",
       "2                              overcast clouds                         0.0   \n",
       "3                              overcast clouds                         0.0   \n",
       "4                              overcast clouds                         0.0   \n",
       "...                                        ...                         ...   \n",
       "11011                            moderate rain                         0.0   \n",
       "11012                     heavy intensity rain                         0.0   \n",
       "11013                     heavy intensity rain                         0.0   \n",
       "11014                            moderate rain                         0.0   \n",
       "11015                     heavy intensity rain                         0.0   \n",
       "\n",
       "       Year  Month  Day  Hour  \n",
       "0      2021      9   29     0  \n",
       "1      2021      9   29     1  \n",
       "2      2021      9   29     2  \n",
       "3      2021      9   29     3  \n",
       "4      2021      9   29     4  \n",
       "...     ...    ...  ...   ...  \n",
       "11011  2022     12   31    19  \n",
       "11012  2022     12   31    20  \n",
       "11013  2022     12   31    21  \n",
       "11014  2022     12   31    22  \n",
       "11015  2022     12   31    23  \n",
       "\n",
       "[11016 rows x 19 columns]"
      ]
     },
     "execution_count": 96,
     "metadata": {},
     "output_type": "execute_result"
    }
   ],
   "source": [
    "data"
   ]
  },
  {
   "cell_type": "markdown",
   "metadata": {},
   "source": [
    "## Outliers"
   ]
  },
  {
   "cell_type": "code",
   "execution_count": 97,
   "metadata": {},
   "outputs": [],
   "source": [
    "def remove_outliers(df, column_name, threshold=1.5):\n",
    "    \"\"\"\n",
    "    Remove outliers from a DataFrame based on a specified column using IQR method.\n",
    "\n",
    "    Args:\n",
    "    - df: DataFrame containing the data\n",
    "    - column_name: Name of the column to detect outliers\n",
    "    - threshold: Threshold value to determine outliers based on IQR (default=1.5)\n",
    "\n",
    "    Returns:\n",
    "    - DataFrame without outliers in the specified column\n",
    "    \"\"\"\n",
    "    q1 = df[column_name].quantile(0.25)\n",
    "    q3 = df[column_name].quantile(0.75)\n",
    "    iqr = q3 - q1\n",
    "    \n",
    "    lower_bound = q1 - (threshold * iqr)\n",
    "    upper_bound = q3 + (threshold * iqr)\n",
    "    \n",
    "    filtered_df = df[(df[column_name] >= lower_bound) & (df[column_name] <= upper_bound)]\n",
    "    \n",
    "    return filtered_df"
   ]
  },
  {
   "cell_type": "code",
   "execution_count": 98,
   "metadata": {},
   "outputs": [],
   "source": [
    "mapeamento = {'None': 0, 'Low': 1, 'Medium': 2, 'High': 3, 'Very High': 4}\n",
    "\n",
    "data['Injeção na rede (kWh)'] = data['Injeção na rede (kWh)'].replace(mapeamento)"
   ]
  },
  {
   "cell_type": "code",
   "execution_count": 99,
   "metadata": {},
   "outputs": [],
   "source": [
    "mapeamento = {'heavy intensity rain': 0, 'moderate rain': 1, 'few clouds': 2, 'scattered clouds': 3, 'broken clouds': 4,'light rain': 5,'overcast clouds': 6,'sky is clear': 7, 'clear sky': 7}\n",
    "\n",
    "# Substituir os valores no DataFrame\n",
    "data['Avaliação qualitativa do estado do tempo'] = data['Avaliação qualitativa do estado do tempo'].replace(mapeamento)"
   ]
  },
  {
   "cell_type": "markdown",
   "metadata": {},
   "source": [
    "### Modelação"
   ]
  },
  {
   "cell_type": "code",
   "execution_count": 100,
   "metadata": {},
   "outputs": [
    {
     "data": {
      "text/plain": [
       "0        0\n",
       "1        0\n",
       "2        0\n",
       "3        0\n",
       "4        0\n",
       "        ..\n",
       "11011    0\n",
       "11012    0\n",
       "11013    0\n",
       "11014    0\n",
       "11015    0\n",
       "Name: Injeção na rede (kWh), Length: 11016, dtype: int64"
      ]
     },
     "execution_count": 100,
     "metadata": {},
     "output_type": "execute_result"
    }
   ],
   "source": [
    "data['Injeção na rede (kWh)']"
   ]
  },
  {
   "cell_type": "code",
   "execution_count": 101,
   "metadata": {},
   "outputs": [],
   "source": [
    "X = data.drop(['Injeção na rede (kWh)', 'Velocidade do vento (m/s)', 'Sensação Térmica (ºC)', 'Temperatura Mínima (ºC)', 'Temperatura Máxima (ºC)'], axis=1)  \n",
    "y = data['Injeção na rede (kWh)']"
   ]
  },
  {
   "cell_type": "markdown",
   "metadata": {},
   "source": [
    "Undersampling"
   ]
  },
  {
   "cell_type": "code",
   "execution_count": 102,
   "metadata": {},
   "outputs": [],
   "source": [
    "#undersample = RandomUnderSampler(sampling_strategy='auto', random_state=42)\n",
    "#X, y = undersample.fit_resample(X, y)"
   ]
  },
  {
   "cell_type": "code",
   "execution_count": 103,
   "metadata": {},
   "outputs": [],
   "source": [
    "#print(y.value_counts())"
   ]
  },
  {
   "cell_type": "code",
   "execution_count": 104,
   "metadata": {},
   "outputs": [
    {
     "data": {
      "text/html": [
       "<div>\n",
       "<style scoped>\n",
       "    .dataframe tbody tr th:only-of-type {\n",
       "        vertical-align: middle;\n",
       "    }\n",
       "\n",
       "    .dataframe tbody tr th {\n",
       "        vertical-align: top;\n",
       "    }\n",
       "\n",
       "    .dataframe thead th {\n",
       "        text-align: right;\n",
       "    }\n",
       "</style>\n",
       "<table border=\"1\" class=\"dataframe\">\n",
       "  <thead>\n",
       "    <tr style=\"text-align: right;\">\n",
       "      <th></th>\n",
       "      <th>Normal (kWh)</th>\n",
       "      <th>Horário Económico (kWh)</th>\n",
       "      <th>Autoconsumo (kWh)</th>\n",
       "      <th>Temperatura (ºC)</th>\n",
       "      <th>Pressão Atmosférica (atm)</th>\n",
       "      <th>Humidade (%)</th>\n",
       "      <th>Valor médio de precipitação</th>\n",
       "      <th>Nível de nebulosidade (%)</th>\n",
       "      <th>Avaliação qualitativa do estado do tempo</th>\n",
       "      <th>shortwave_radiation (W/m²)</th>\n",
       "      <th>Year</th>\n",
       "      <th>Month</th>\n",
       "      <th>Day</th>\n",
       "      <th>Hour</th>\n",
       "    </tr>\n",
       "  </thead>\n",
       "  <tbody>\n",
       "    <tr>\n",
       "      <th>0</th>\n",
       "      <td>0.000</td>\n",
       "      <td>0.000</td>\n",
       "      <td>0.0</td>\n",
       "      <td>13.97</td>\n",
       "      <td>1027</td>\n",
       "      <td>81</td>\n",
       "      <td>0.00</td>\n",
       "      <td>87</td>\n",
       "      <td>6</td>\n",
       "      <td>0.0</td>\n",
       "      <td>2021</td>\n",
       "      <td>9</td>\n",
       "      <td>29</td>\n",
       "      <td>0</td>\n",
       "    </tr>\n",
       "    <tr>\n",
       "      <th>1</th>\n",
       "      <td>0.000</td>\n",
       "      <td>0.000</td>\n",
       "      <td>0.0</td>\n",
       "      <td>13.48</td>\n",
       "      <td>1028</td>\n",
       "      <td>82</td>\n",
       "      <td>0.00</td>\n",
       "      <td>91</td>\n",
       "      <td>6</td>\n",
       "      <td>0.0</td>\n",
       "      <td>2021</td>\n",
       "      <td>9</td>\n",
       "      <td>29</td>\n",
       "      <td>1</td>\n",
       "    </tr>\n",
       "    <tr>\n",
       "      <th>2</th>\n",
       "      <td>0.000</td>\n",
       "      <td>0.000</td>\n",
       "      <td>0.0</td>\n",
       "      <td>12.93</td>\n",
       "      <td>1027</td>\n",
       "      <td>84</td>\n",
       "      <td>0.00</td>\n",
       "      <td>93</td>\n",
       "      <td>6</td>\n",
       "      <td>0.0</td>\n",
       "      <td>2021</td>\n",
       "      <td>9</td>\n",
       "      <td>29</td>\n",
       "      <td>2</td>\n",
       "    </tr>\n",
       "    <tr>\n",
       "      <th>3</th>\n",
       "      <td>0.000</td>\n",
       "      <td>0.000</td>\n",
       "      <td>0.0</td>\n",
       "      <td>12.61</td>\n",
       "      <td>1027</td>\n",
       "      <td>85</td>\n",
       "      <td>0.00</td>\n",
       "      <td>95</td>\n",
       "      <td>6</td>\n",
       "      <td>0.0</td>\n",
       "      <td>2021</td>\n",
       "      <td>9</td>\n",
       "      <td>29</td>\n",
       "      <td>3</td>\n",
       "    </tr>\n",
       "    <tr>\n",
       "      <th>4</th>\n",
       "      <td>0.000</td>\n",
       "      <td>0.000</td>\n",
       "      <td>0.0</td>\n",
       "      <td>12.61</td>\n",
       "      <td>1027</td>\n",
       "      <td>86</td>\n",
       "      <td>0.00</td>\n",
       "      <td>93</td>\n",
       "      <td>6</td>\n",
       "      <td>0.0</td>\n",
       "      <td>2021</td>\n",
       "      <td>9</td>\n",
       "      <td>29</td>\n",
       "      <td>4</td>\n",
       "    </tr>\n",
       "    <tr>\n",
       "      <th>...</th>\n",
       "      <td>...</td>\n",
       "      <td>...</td>\n",
       "      <td>...</td>\n",
       "      <td>...</td>\n",
       "      <td>...</td>\n",
       "      <td>...</td>\n",
       "      <td>...</td>\n",
       "      <td>...</td>\n",
       "      <td>...</td>\n",
       "      <td>...</td>\n",
       "      <td>...</td>\n",
       "      <td>...</td>\n",
       "      <td>...</td>\n",
       "      <td>...</td>\n",
       "    </tr>\n",
       "    <tr>\n",
       "      <th>11011</th>\n",
       "      <td>1.693</td>\n",
       "      <td>0.000</td>\n",
       "      <td>0.0</td>\n",
       "      <td>15.70</td>\n",
       "      <td>1018</td>\n",
       "      <td>86</td>\n",
       "      <td>3.58</td>\n",
       "      <td>100</td>\n",
       "      <td>1</td>\n",
       "      <td>0.0</td>\n",
       "      <td>2022</td>\n",
       "      <td>12</td>\n",
       "      <td>31</td>\n",
       "      <td>19</td>\n",
       "    </tr>\n",
       "    <tr>\n",
       "      <th>11012</th>\n",
       "      <td>1.327</td>\n",
       "      <td>0.000</td>\n",
       "      <td>0.0</td>\n",
       "      <td>15.55</td>\n",
       "      <td>1018</td>\n",
       "      <td>87</td>\n",
       "      <td>4.20</td>\n",
       "      <td>100</td>\n",
       "      <td>0</td>\n",
       "      <td>0.0</td>\n",
       "      <td>2022</td>\n",
       "      <td>12</td>\n",
       "      <td>31</td>\n",
       "      <td>20</td>\n",
       "    </tr>\n",
       "    <tr>\n",
       "      <th>11013</th>\n",
       "      <td>0.757</td>\n",
       "      <td>0.000</td>\n",
       "      <td>0.0</td>\n",
       "      <td>13.45</td>\n",
       "      <td>1019</td>\n",
       "      <td>93</td>\n",
       "      <td>4.23</td>\n",
       "      <td>100</td>\n",
       "      <td>0</td>\n",
       "      <td>0.0</td>\n",
       "      <td>2022</td>\n",
       "      <td>12</td>\n",
       "      <td>31</td>\n",
       "      <td>21</td>\n",
       "    </tr>\n",
       "    <tr>\n",
       "      <th>11014</th>\n",
       "      <td>0.000</td>\n",
       "      <td>0.675</td>\n",
       "      <td>0.0</td>\n",
       "      <td>12.93</td>\n",
       "      <td>1019</td>\n",
       "      <td>94</td>\n",
       "      <td>3.90</td>\n",
       "      <td>100</td>\n",
       "      <td>1</td>\n",
       "      <td>0.0</td>\n",
       "      <td>2022</td>\n",
       "      <td>12</td>\n",
       "      <td>31</td>\n",
       "      <td>22</td>\n",
       "    </tr>\n",
       "    <tr>\n",
       "      <th>11015</th>\n",
       "      <td>0.000</td>\n",
       "      <td>0.403</td>\n",
       "      <td>0.0</td>\n",
       "      <td>12.93</td>\n",
       "      <td>1019</td>\n",
       "      <td>95</td>\n",
       "      <td>4.07</td>\n",
       "      <td>100</td>\n",
       "      <td>0</td>\n",
       "      <td>0.0</td>\n",
       "      <td>2022</td>\n",
       "      <td>12</td>\n",
       "      <td>31</td>\n",
       "      <td>23</td>\n",
       "    </tr>\n",
       "  </tbody>\n",
       "</table>\n",
       "<p>11016 rows × 14 columns</p>\n",
       "</div>"
      ],
      "text/plain": [
       "       Normal (kWh)  Horário Económico (kWh)  Autoconsumo (kWh)  \\\n",
       "0             0.000                    0.000                0.0   \n",
       "1             0.000                    0.000                0.0   \n",
       "2             0.000                    0.000                0.0   \n",
       "3             0.000                    0.000                0.0   \n",
       "4             0.000                    0.000                0.0   \n",
       "...             ...                      ...                ...   \n",
       "11011         1.693                    0.000                0.0   \n",
       "11012         1.327                    0.000                0.0   \n",
       "11013         0.757                    0.000                0.0   \n",
       "11014         0.000                    0.675                0.0   \n",
       "11015         0.000                    0.403                0.0   \n",
       "\n",
       "       Temperatura (ºC)  Pressão Atmosférica (atm)  Humidade (%)  \\\n",
       "0                 13.97                       1027            81   \n",
       "1                 13.48                       1028            82   \n",
       "2                 12.93                       1027            84   \n",
       "3                 12.61                       1027            85   \n",
       "4                 12.61                       1027            86   \n",
       "...                 ...                        ...           ...   \n",
       "11011             15.70                       1018            86   \n",
       "11012             15.55                       1018            87   \n",
       "11013             13.45                       1019            93   \n",
       "11014             12.93                       1019            94   \n",
       "11015             12.93                       1019            95   \n",
       "\n",
       "       Valor médio de precipitação  Nível de nebulosidade (%)  \\\n",
       "0                             0.00                         87   \n",
       "1                             0.00                         91   \n",
       "2                             0.00                         93   \n",
       "3                             0.00                         95   \n",
       "4                             0.00                         93   \n",
       "...                            ...                        ...   \n",
       "11011                         3.58                        100   \n",
       "11012                         4.20                        100   \n",
       "11013                         4.23                        100   \n",
       "11014                         3.90                        100   \n",
       "11015                         4.07                        100   \n",
       "\n",
       "       Avaliação qualitativa do estado do tempo  shortwave_radiation (W/m²)  \\\n",
       "0                                             6                         0.0   \n",
       "1                                             6                         0.0   \n",
       "2                                             6                         0.0   \n",
       "3                                             6                         0.0   \n",
       "4                                             6                         0.0   \n",
       "...                                         ...                         ...   \n",
       "11011                                         1                         0.0   \n",
       "11012                                         0                         0.0   \n",
       "11013                                         0                         0.0   \n",
       "11014                                         1                         0.0   \n",
       "11015                                         0                         0.0   \n",
       "\n",
       "       Year  Month  Day  Hour  \n",
       "0      2021      9   29     0  \n",
       "1      2021      9   29     1  \n",
       "2      2021      9   29     2  \n",
       "3      2021      9   29     3  \n",
       "4      2021      9   29     4  \n",
       "...     ...    ...  ...   ...  \n",
       "11011  2022     12   31    19  \n",
       "11012  2022     12   31    20  \n",
       "11013  2022     12   31    21  \n",
       "11014  2022     12   31    22  \n",
       "11015  2022     12   31    23  \n",
       "\n",
       "[11016 rows x 14 columns]"
      ]
     },
     "execution_count": 104,
     "metadata": {},
     "output_type": "execute_result"
    }
   ],
   "source": [
    "X"
   ]
  },
  {
   "cell_type": "code",
   "execution_count": 105,
   "metadata": {},
   "outputs": [
    {
     "data": {
      "text/plain": [
       "0        0\n",
       "1        0\n",
       "2        0\n",
       "3        0\n",
       "4        0\n",
       "        ..\n",
       "11011    0\n",
       "11012    0\n",
       "11013    0\n",
       "11014    0\n",
       "11015    0\n",
       "Name: Injeção na rede (kWh), Length: 11016, dtype: int64"
      ]
     },
     "execution_count": 105,
     "metadata": {},
     "output_type": "execute_result"
    }
   ],
   "source": [
    "y"
   ]
  },
  {
   "cell_type": "markdown",
   "metadata": {},
   "source": [
    "### Oversampling e Undersampling"
   ]
  },
  {
   "cell_type": "code",
   "execution_count": 107,
   "metadata": {},
   "outputs": [],
   "source": [
    "from imblearn.over_sampling import SMOTE\n",
    "from imblearn.pipeline import Pipeline\n",
    "from imblearn.under_sampling import RandomUnderSampler"
   ]
  },
  {
   "cell_type": "code",
   "execution_count": 108,
   "metadata": {},
   "outputs": [],
   "source": [
    "X_train, X_test, y_train, y_test = train_test_split(X, y, test_size=0.3, random_state=101)"
   ]
  },
  {
   "cell_type": "code",
   "execution_count": 224,
   "metadata": {},
   "outputs": [],
   "source": [
    "over = SMOTE()\n",
    "under = RandomUnderSampler(sampling_strategy='auto')\n",
    "steps = [('o', over)]\n",
    "pipeline = Pipeline(steps=steps)\n",
    "# transform the dataset\n",
    "#X_train, y_train = pipeline.fit_resample(X, y)"
   ]
  },
  {
   "cell_type": "code",
   "execution_count": 109,
   "metadata": {},
   "outputs": [
    {
     "data": {
      "text/plain": [
       "Injeção na rede (kWh)\n",
       "0    5468\n",
       "2     766\n",
       "3     755\n",
       "4     428\n",
       "1     294\n",
       "Name: count, dtype: int64"
      ]
     },
     "execution_count": 109,
     "metadata": {},
     "output_type": "execute_result"
    }
   ],
   "source": [
    "y_train.value_counts()"
   ]
  },
  {
   "cell_type": "markdown",
   "metadata": {},
   "source": [
    "### Regressão Logística"
   ]
  },
  {
   "cell_type": "markdown",
   "metadata": {},
   "source": [
    "### Training with newton-cg solver"
   ]
  },
  {
   "cell_type": "code",
   "execution_count": 42,
   "metadata": {},
   "outputs": [
    {
     "name": "stdout",
     "output_type": "stream",
     "text": [
      "LogisticRegression(random_state=2022, solver='newton-cg')\n",
      "Time spent: 11.734375 seconds\n"
     ]
    },
    {
     "name": "stderr",
     "output_type": "stream",
     "text": [
      "c:\\Users\\mgdsb\\miniconda3\\envs\\envNAME\\lib\\site-packages\\sklearn\\utils\\optimize.py:211: ConvergenceWarning: newton-cg failed to converge. Increase the number of iterations.\n",
      "  warnings.warn(\n"
     ]
    }
   ],
   "source": [
    "starttime = time.process_time()\n",
    "\n",
    "logmodel1 = LogisticRegression(random_state=2022, solver='newton-cg')\n",
    "print(logmodel1)\n",
    "logmodel1.fit(X_train, y_train)\n",
    "\n",
    "endtime = time.process_time()\n",
    "print(f\"Time spent: {endtime - starttime} seconds\")"
   ]
  },
  {
   "cell_type": "code",
   "execution_count": 43,
   "metadata": {},
   "outputs": [],
   "source": [
    "predictions_newton = logmodel1.predict(X_test)"
   ]
  },
  {
   "cell_type": "code",
   "execution_count": 44,
   "metadata": {},
   "outputs": [
    {
     "name": "stdout",
     "output_type": "stream",
     "text": [
      "              precision    recall  f1-score   support\n",
      "\n",
      "           0       0.95      0.98      0.97      2309\n",
      "           1       0.33      0.03      0.05       138\n",
      "           2       0.56      0.63      0.59       332\n",
      "           3       0.64      0.63      0.63       348\n",
      "           4       0.74      0.77      0.76       178\n",
      "\n",
      "    accuracy                           0.86      3305\n",
      "   macro avg       0.64      0.61      0.60      3305\n",
      "weighted avg       0.84      0.86      0.84      3305\n",
      "\n"
     ]
    }
   ],
   "source": [
    "print(classification_report(y_test, predictions_newton))"
   ]
  },
  {
   "cell_type": "markdown",
   "metadata": {},
   "source": [
    "### Training with lbfgs solver"
   ]
  },
  {
   "cell_type": "code",
   "execution_count": 45,
   "metadata": {},
   "outputs": [
    {
     "name": "stdout",
     "output_type": "stream",
     "text": [
      "LogisticRegression(random_state=2022)\n",
      "Time spent: 0.125 seconds\n"
     ]
    },
    {
     "name": "stderr",
     "output_type": "stream",
     "text": [
      "c:\\Users\\mgdsb\\miniconda3\\envs\\envNAME\\lib\\site-packages\\sklearn\\linear_model\\_logistic.py:460: ConvergenceWarning: lbfgs failed to converge (status=1):\n",
      "STOP: TOTAL NO. of ITERATIONS REACHED LIMIT.\n",
      "\n",
      "Increase the number of iterations (max_iter) or scale the data as shown in:\n",
      "    https://scikit-learn.org/stable/modules/preprocessing.html\n",
      "Please also refer to the documentation for alternative solver options:\n",
      "    https://scikit-learn.org/stable/modules/linear_model.html#logistic-regression\n",
      "  n_iter_i = _check_optimize_result(\n"
     ]
    }
   ],
   "source": [
    "starttime = time.process_time()\n",
    "\n",
    "logmodel2 = LogisticRegression(random_state=2022, solver='lbfgs')\n",
    "print(logmodel2)\n",
    "logmodel2.fit(X_train,y_train)\n",
    "\n",
    "endtime = time.process_time()\n",
    "print(f\"Time spent: {endtime - starttime} seconds\")"
   ]
  },
  {
   "cell_type": "code",
   "execution_count": 46,
   "metadata": {},
   "outputs": [],
   "source": [
    "predictions_solver = logmodel2.predict(X_test)"
   ]
  },
  {
   "cell_type": "code",
   "execution_count": 47,
   "metadata": {},
   "outputs": [
    {
     "name": "stdout",
     "output_type": "stream",
     "text": [
      "              precision    recall  f1-score   support\n",
      "\n",
      "           0       0.91      0.96      0.94      2309\n",
      "           1       0.08      0.01      0.01       138\n",
      "           2       0.38      0.30      0.34       332\n",
      "           3       0.46      0.54      0.50       348\n",
      "           4       0.58      0.63      0.61       178\n",
      "\n",
      "    accuracy                           0.79      3305\n",
      "   macro avg       0.48      0.49      0.48      3305\n",
      "weighted avg       0.76      0.79      0.77      3305\n",
      "\n"
     ]
    }
   ],
   "source": [
    "print(classification_report(y_test, predictions_solver))"
   ]
  },
  {
   "cell_type": "markdown",
   "metadata": {},
   "source": [
    "### Training with liblinear solver\n",
    "\n"
   ]
  },
  {
   "cell_type": "code",
   "execution_count": 48,
   "metadata": {},
   "outputs": [
    {
     "name": "stdout",
     "output_type": "stream",
     "text": [
      "LogisticRegression(random_state=2022, solver='liblinear')\n",
      "Time spent: 0.234375 seconds\n"
     ]
    }
   ],
   "source": [
    "starttime = time.process_time()\n",
    "\n",
    "logmodel3 = LogisticRegression(random_state=2022, solver='liblinear')\n",
    "print(logmodel3)\n",
    "logmodel3.fit(X_train,y_train)\n",
    "\n",
    "endtime = time.process_time()\n",
    "print(f\"Time spent: {endtime - starttime} seconds\")"
   ]
  },
  {
   "cell_type": "code",
   "execution_count": 49,
   "metadata": {},
   "outputs": [],
   "source": [
    "predictions_liblinear = logmodel3.predict(X_test)"
   ]
  },
  {
   "cell_type": "code",
   "execution_count": 50,
   "metadata": {},
   "outputs": [
    {
     "name": "stdout",
     "output_type": "stream",
     "text": [
      "              precision    recall  f1-score   support\n",
      "\n",
      "           0       0.91      0.96      0.94      2309\n",
      "           1       0.08      0.01      0.01       138\n",
      "           2       0.38      0.30      0.34       332\n",
      "           3       0.46      0.54      0.50       348\n",
      "           4       0.58      0.63      0.61       178\n",
      "\n",
      "    accuracy                           0.79      3305\n",
      "   macro avg       0.48      0.49      0.48      3305\n",
      "weighted avg       0.76      0.79      0.77      3305\n",
      "\n"
     ]
    }
   ],
   "source": [
    "print(classification_report(y_test, predictions_solver))"
   ]
  },
  {
   "cell_type": "markdown",
   "metadata": {},
   "source": [
    "### SVM (Support Vector Machine) "
   ]
  },
  {
   "cell_type": "code",
   "execution_count": 276,
   "metadata": {},
   "outputs": [],
   "source": [
    "model = SVC(random_state=2021)"
   ]
  },
  {
   "cell_type": "code",
   "execution_count": 91,
   "metadata": {},
   "outputs": [
    {
     "data": {
      "text/html": [
       "<style>#sk-container-id-1 {color: black;}#sk-container-id-1 pre{padding: 0;}#sk-container-id-1 div.sk-toggleable {background-color: white;}#sk-container-id-1 label.sk-toggleable__label {cursor: pointer;display: block;width: 100%;margin-bottom: 0;padding: 0.3em;box-sizing: border-box;text-align: center;}#sk-container-id-1 label.sk-toggleable__label-arrow:before {content: \"▸\";float: left;margin-right: 0.25em;color: #696969;}#sk-container-id-1 label.sk-toggleable__label-arrow:hover:before {color: black;}#sk-container-id-1 div.sk-estimator:hover label.sk-toggleable__label-arrow:before {color: black;}#sk-container-id-1 div.sk-toggleable__content {max-height: 0;max-width: 0;overflow: hidden;text-align: left;background-color: #f0f8ff;}#sk-container-id-1 div.sk-toggleable__content pre {margin: 0.2em;color: black;border-radius: 0.25em;background-color: #f0f8ff;}#sk-container-id-1 input.sk-toggleable__control:checked~div.sk-toggleable__content {max-height: 200px;max-width: 100%;overflow: auto;}#sk-container-id-1 input.sk-toggleable__control:checked~label.sk-toggleable__label-arrow:before {content: \"▾\";}#sk-container-id-1 div.sk-estimator input.sk-toggleable__control:checked~label.sk-toggleable__label {background-color: #d4ebff;}#sk-container-id-1 div.sk-label input.sk-toggleable__control:checked~label.sk-toggleable__label {background-color: #d4ebff;}#sk-container-id-1 input.sk-hidden--visually {border: 0;clip: rect(1px 1px 1px 1px);clip: rect(1px, 1px, 1px, 1px);height: 1px;margin: -1px;overflow: hidden;padding: 0;position: absolute;width: 1px;}#sk-container-id-1 div.sk-estimator {font-family: monospace;background-color: #f0f8ff;border: 1px dotted black;border-radius: 0.25em;box-sizing: border-box;margin-bottom: 0.5em;}#sk-container-id-1 div.sk-estimator:hover {background-color: #d4ebff;}#sk-container-id-1 div.sk-parallel-item::after {content: \"\";width: 100%;border-bottom: 1px solid gray;flex-grow: 1;}#sk-container-id-1 div.sk-label:hover label.sk-toggleable__label {background-color: #d4ebff;}#sk-container-id-1 div.sk-serial::before {content: \"\";position: absolute;border-left: 1px solid gray;box-sizing: border-box;top: 0;bottom: 0;left: 50%;z-index: 0;}#sk-container-id-1 div.sk-serial {display: flex;flex-direction: column;align-items: center;background-color: white;padding-right: 0.2em;padding-left: 0.2em;position: relative;}#sk-container-id-1 div.sk-item {position: relative;z-index: 1;}#sk-container-id-1 div.sk-parallel {display: flex;align-items: stretch;justify-content: center;background-color: white;position: relative;}#sk-container-id-1 div.sk-item::before, #sk-container-id-1 div.sk-parallel-item::before {content: \"\";position: absolute;border-left: 1px solid gray;box-sizing: border-box;top: 0;bottom: 0;left: 50%;z-index: -1;}#sk-container-id-1 div.sk-parallel-item {display: flex;flex-direction: column;z-index: 1;position: relative;background-color: white;}#sk-container-id-1 div.sk-parallel-item:first-child::after {align-self: flex-end;width: 50%;}#sk-container-id-1 div.sk-parallel-item:last-child::after {align-self: flex-start;width: 50%;}#sk-container-id-1 div.sk-parallel-item:only-child::after {width: 0;}#sk-container-id-1 div.sk-dashed-wrapped {border: 1px dashed gray;margin: 0 0.4em 0.5em 0.4em;box-sizing: border-box;padding-bottom: 0.4em;background-color: white;}#sk-container-id-1 div.sk-label label {font-family: monospace;font-weight: bold;display: inline-block;line-height: 1.2em;}#sk-container-id-1 div.sk-label-container {text-align: center;}#sk-container-id-1 div.sk-container {/* jupyter's `normalize.less` sets `[hidden] { display: none; }` but bootstrap.min.css set `[hidden] { display: none !important; }` so we also need the `!important` here to be able to override the default hidden behavior on the sphinx rendered scikit-learn.org. See: https://github.com/scikit-learn/scikit-learn/issues/21755 */display: inline-block !important;position: relative;}#sk-container-id-1 div.sk-text-repr-fallback {display: none;}</style><div id=\"sk-container-id-1\" class=\"sk-top-container\"><div class=\"sk-text-repr-fallback\"><pre>SVC(random_state=2021)</pre><b>In a Jupyter environment, please rerun this cell to show the HTML representation or trust the notebook. <br />On GitHub, the HTML representation is unable to render, please try loading this page with nbviewer.org.</b></div><div class=\"sk-container\" hidden><div class=\"sk-item\"><div class=\"sk-estimator sk-toggleable\"><input class=\"sk-toggleable__control sk-hidden--visually\" id=\"sk-estimator-id-1\" type=\"checkbox\" checked><label for=\"sk-estimator-id-1\" class=\"sk-toggleable__label sk-toggleable__label-arrow\">SVC</label><div class=\"sk-toggleable__content\"><pre>SVC(random_state=2021)</pre></div></div></div></div></div>"
      ],
      "text/plain": [
       "SVC(random_state=2021)"
      ]
     },
     "execution_count": 91,
     "metadata": {},
     "output_type": "execute_result"
    }
   ],
   "source": [
    "model.fit(X_train, np.ravel(y_train))"
   ]
  },
  {
   "cell_type": "code",
   "execution_count": 92,
   "metadata": {},
   "outputs": [],
   "source": [
    "pred_svm = model.predict(X_test)"
   ]
  },
  {
   "cell_type": "code",
   "execution_count": 93,
   "metadata": {},
   "outputs": [
    {
     "name": "stdout",
     "output_type": "stream",
     "text": [
      "              precision    recall  f1-score   support\n",
      "\n",
      "           0       0.39      0.68      0.50      2286\n",
      "           1       0.23      0.24      0.24      2359\n",
      "           2       0.23      0.02      0.03      2420\n",
      "           3       0.23      0.02      0.04      2290\n",
      "           4       0.34      0.71      0.46      2257\n",
      "\n",
      "    accuracy                           0.33     11612\n",
      "   macro avg       0.28      0.33      0.25     11612\n",
      "weighted avg       0.28      0.33      0.25     11612\n",
      "\n"
     ]
    }
   ],
   "source": [
    "print(classification_report(y_test, pred_svm))"
   ]
  },
  {
   "cell_type": "markdown",
   "metadata": {},
   "source": [
    "### xgboost"
   ]
  },
  {
   "cell_type": "code",
   "execution_count": 110,
   "metadata": {},
   "outputs": [],
   "source": [
    "# 'colsample_bytree': 1, 'learning_rate': 0.1, 'max_depth': 10, 'min_child_weight': 3, 'n_estimators': 100, 'subsample': 0.7\n",
    "model = xgb.XGBClassifier(objective='multi:softmax', num_class=5, seed=42,colsample_bytree=1, learning_rate=0.1, max_depth=10, min_child_weight=3, n_estimators=100, subsample=0.7)"
   ]
  },
  {
   "cell_type": "code",
   "execution_count": 111,
   "metadata": {},
   "outputs": [
    {
     "data": {
      "text/html": [
       "<style>#sk-container-id-4 {color: black;}#sk-container-id-4 pre{padding: 0;}#sk-container-id-4 div.sk-toggleable {background-color: white;}#sk-container-id-4 label.sk-toggleable__label {cursor: pointer;display: block;width: 100%;margin-bottom: 0;padding: 0.3em;box-sizing: border-box;text-align: center;}#sk-container-id-4 label.sk-toggleable__label-arrow:before {content: \"▸\";float: left;margin-right: 0.25em;color: #696969;}#sk-container-id-4 label.sk-toggleable__label-arrow:hover:before {color: black;}#sk-container-id-4 div.sk-estimator:hover label.sk-toggleable__label-arrow:before {color: black;}#sk-container-id-4 div.sk-toggleable__content {max-height: 0;max-width: 0;overflow: hidden;text-align: left;background-color: #f0f8ff;}#sk-container-id-4 div.sk-toggleable__content pre {margin: 0.2em;color: black;border-radius: 0.25em;background-color: #f0f8ff;}#sk-container-id-4 input.sk-toggleable__control:checked~div.sk-toggleable__content {max-height: 200px;max-width: 100%;overflow: auto;}#sk-container-id-4 input.sk-toggleable__control:checked~label.sk-toggleable__label-arrow:before {content: \"▾\";}#sk-container-id-4 div.sk-estimator input.sk-toggleable__control:checked~label.sk-toggleable__label {background-color: #d4ebff;}#sk-container-id-4 div.sk-label input.sk-toggleable__control:checked~label.sk-toggleable__label {background-color: #d4ebff;}#sk-container-id-4 input.sk-hidden--visually {border: 0;clip: rect(1px 1px 1px 1px);clip: rect(1px, 1px, 1px, 1px);height: 1px;margin: -1px;overflow: hidden;padding: 0;position: absolute;width: 1px;}#sk-container-id-4 div.sk-estimator {font-family: monospace;background-color: #f0f8ff;border: 1px dotted black;border-radius: 0.25em;box-sizing: border-box;margin-bottom: 0.5em;}#sk-container-id-4 div.sk-estimator:hover {background-color: #d4ebff;}#sk-container-id-4 div.sk-parallel-item::after {content: \"\";width: 100%;border-bottom: 1px solid gray;flex-grow: 1;}#sk-container-id-4 div.sk-label:hover label.sk-toggleable__label {background-color: #d4ebff;}#sk-container-id-4 div.sk-serial::before {content: \"\";position: absolute;border-left: 1px solid gray;box-sizing: border-box;top: 0;bottom: 0;left: 50%;z-index: 0;}#sk-container-id-4 div.sk-serial {display: flex;flex-direction: column;align-items: center;background-color: white;padding-right: 0.2em;padding-left: 0.2em;position: relative;}#sk-container-id-4 div.sk-item {position: relative;z-index: 1;}#sk-container-id-4 div.sk-parallel {display: flex;align-items: stretch;justify-content: center;background-color: white;position: relative;}#sk-container-id-4 div.sk-item::before, #sk-container-id-4 div.sk-parallel-item::before {content: \"\";position: absolute;border-left: 1px solid gray;box-sizing: border-box;top: 0;bottom: 0;left: 50%;z-index: -1;}#sk-container-id-4 div.sk-parallel-item {display: flex;flex-direction: column;z-index: 1;position: relative;background-color: white;}#sk-container-id-4 div.sk-parallel-item:first-child::after {align-self: flex-end;width: 50%;}#sk-container-id-4 div.sk-parallel-item:last-child::after {align-self: flex-start;width: 50%;}#sk-container-id-4 div.sk-parallel-item:only-child::after {width: 0;}#sk-container-id-4 div.sk-dashed-wrapped {border: 1px dashed gray;margin: 0 0.4em 0.5em 0.4em;box-sizing: border-box;padding-bottom: 0.4em;background-color: white;}#sk-container-id-4 div.sk-label label {font-family: monospace;font-weight: bold;display: inline-block;line-height: 1.2em;}#sk-container-id-4 div.sk-label-container {text-align: center;}#sk-container-id-4 div.sk-container {/* jupyter's `normalize.less` sets `[hidden] { display: none; }` but bootstrap.min.css set `[hidden] { display: none !important; }` so we also need the `!important` here to be able to override the default hidden behavior on the sphinx rendered scikit-learn.org. See: https://github.com/scikit-learn/scikit-learn/issues/21755 */display: inline-block !important;position: relative;}#sk-container-id-4 div.sk-text-repr-fallback {display: none;}</style><div id=\"sk-container-id-4\" class=\"sk-top-container\"><div class=\"sk-text-repr-fallback\"><pre>XGBClassifier(base_score=None, booster=None, callbacks=None,\n",
       "              colsample_bylevel=None, colsample_bynode=None, colsample_bytree=1,\n",
       "              device=None, early_stopping_rounds=None, enable_categorical=False,\n",
       "              eval_metric=None, feature_types=None, gamma=None,\n",
       "              grow_policy=None, importance_type=None,\n",
       "              interaction_constraints=None, learning_rate=0.1, max_bin=None,\n",
       "              max_cat_threshold=None, max_cat_to_onehot=None,\n",
       "              max_delta_step=None, max_depth=10, max_leaves=None,\n",
       "              min_child_weight=3, missing=nan, monotone_constraints=None,\n",
       "              multi_strategy=None, n_estimators=100, n_jobs=None, num_class=5,\n",
       "              num_parallel_tree=None, ...)</pre><b>In a Jupyter environment, please rerun this cell to show the HTML representation or trust the notebook. <br />On GitHub, the HTML representation is unable to render, please try loading this page with nbviewer.org.</b></div><div class=\"sk-container\" hidden><div class=\"sk-item\"><div class=\"sk-estimator sk-toggleable\"><input class=\"sk-toggleable__control sk-hidden--visually\" id=\"sk-estimator-id-6\" type=\"checkbox\" checked><label for=\"sk-estimator-id-6\" class=\"sk-toggleable__label sk-toggleable__label-arrow\">XGBClassifier</label><div class=\"sk-toggleable__content\"><pre>XGBClassifier(base_score=None, booster=None, callbacks=None,\n",
       "              colsample_bylevel=None, colsample_bynode=None, colsample_bytree=1,\n",
       "              device=None, early_stopping_rounds=None, enable_categorical=False,\n",
       "              eval_metric=None, feature_types=None, gamma=None,\n",
       "              grow_policy=None, importance_type=None,\n",
       "              interaction_constraints=None, learning_rate=0.1, max_bin=None,\n",
       "              max_cat_threshold=None, max_cat_to_onehot=None,\n",
       "              max_delta_step=None, max_depth=10, max_leaves=None,\n",
       "              min_child_weight=3, missing=nan, monotone_constraints=None,\n",
       "              multi_strategy=None, n_estimators=100, n_jobs=None, num_class=5,\n",
       "              num_parallel_tree=None, ...)</pre></div></div></div></div></div>"
      ],
      "text/plain": [
       "XGBClassifier(base_score=None, booster=None, callbacks=None,\n",
       "              colsample_bylevel=None, colsample_bynode=None, colsample_bytree=1,\n",
       "              device=None, early_stopping_rounds=None, enable_categorical=False,\n",
       "              eval_metric=None, feature_types=None, gamma=None,\n",
       "              grow_policy=None, importance_type=None,\n",
       "              interaction_constraints=None, learning_rate=0.1, max_bin=None,\n",
       "              max_cat_threshold=None, max_cat_to_onehot=None,\n",
       "              max_delta_step=None, max_depth=10, max_leaves=None,\n",
       "              min_child_weight=3, missing=nan, monotone_constraints=None,\n",
       "              multi_strategy=None, n_estimators=100, n_jobs=None, num_class=5,\n",
       "              num_parallel_tree=None, ...)"
      ]
     },
     "execution_count": 111,
     "metadata": {},
     "output_type": "execute_result"
    }
   ],
   "source": [
    "model.fit(X_train, y_train)"
   ]
  },
  {
   "cell_type": "code",
   "execution_count": 112,
   "metadata": {},
   "outputs": [],
   "source": [
    "predict_xgb = model.predict(X_test)"
   ]
  },
  {
   "cell_type": "code",
   "execution_count": 113,
   "metadata": {},
   "outputs": [
    {
     "name": "stdout",
     "output_type": "stream",
     "text": [
      "              precision    recall  f1-score   support\n",
      "\n",
      "           0       0.97      0.98      0.98      2309\n",
      "           1       0.48      0.29      0.36       138\n",
      "           2       0.68      0.69      0.68       332\n",
      "           3       0.76      0.76      0.76       348\n",
      "           4       0.78      0.83      0.81       178\n",
      "\n",
      "    accuracy                           0.89      3305\n",
      "   macro avg       0.73      0.71      0.72      3305\n",
      "weighted avg       0.89      0.89      0.89      3305\n",
      "\n"
     ]
    }
   ],
   "source": [
    "print(classification_report(y_test, predict_xgb))"
   ]
  },
  {
   "cell_type": "markdown",
   "metadata": {},
   "source": [
    "xgfboost fine tunning"
   ]
  },
  {
   "cell_type": "code",
   "execution_count": 55,
   "metadata": {},
   "outputs": [],
   "source": [
    "xgb_model = xgb.XGBClassifier(objective='multi:softmax', num_class=5, seed=42)"
   ]
  },
  {
   "cell_type": "code",
   "execution_count": 56,
   "metadata": {},
   "outputs": [],
   "source": [
    "param_grid = {\n",
    "    'max_depth': [5, 7],  # Profundidade máxima de cada árvore\n",
    "    'min_child_weight': [1, 3],  # Soma mínima dos pesos das instâncias necessária em um filho\n",
    "    'subsample': [0.6, 0.8],  # Fração de amostras a serem usadas para cada árvore\n",
    "    'colsample_bytree': [0.6, 0.8],  # Fração de colunas a serem usadas para cada árvore\n",
    "    'learning_rate': [0.01, 0.1, 0.2],  # Taxa de aprendizagem\n",
    "    'n_estimators': [100, 200],  # Número de árvores de impulso\n",
    "    'seed': [42]  # Semente para reprodutibilidade\n",
    "}\n"
   ]
  },
  {
   "cell_type": "code",
   "execution_count": 57,
   "metadata": {},
   "outputs": [
    {
     "name": "stdout",
     "output_type": "stream",
     "text": [
      "Fitting 3 folds for each of 96 candidates, totalling 288 fits\n",
      "[CV 1/3] END colsample_bytree=0.6, learning_rate=0.01, max_depth=5, min_child_weight=1, n_estimators=100, seed=42, subsample=0.6;, score=0.884 total time=   0.1s\n",
      "[CV 2/3] END colsample_bytree=0.6, learning_rate=0.01, max_depth=5, min_child_weight=1, n_estimators=100, seed=42, subsample=0.6;, score=0.876 total time=   0.1s\n",
      "[CV 3/3] END colsample_bytree=0.6, learning_rate=0.01, max_depth=5, min_child_weight=1, n_estimators=100, seed=42, subsample=0.6;, score=0.879 total time=   0.1s\n",
      "[CV 1/3] END colsample_bytree=0.6, learning_rate=0.01, max_depth=5, min_child_weight=1, n_estimators=100, seed=42, subsample=0.8;, score=0.882 total time=   0.1s\n",
      "[CV 2/3] END colsample_bytree=0.6, learning_rate=0.01, max_depth=5, min_child_weight=1, n_estimators=100, seed=42, subsample=0.8;, score=0.877 total time=   0.1s\n",
      "[CV 3/3] END colsample_bytree=0.6, learning_rate=0.01, max_depth=5, min_child_weight=1, n_estimators=100, seed=42, subsample=0.8;, score=0.878 total time=   0.1s\n",
      "[CV 1/3] END colsample_bytree=0.6, learning_rate=0.01, max_depth=5, min_child_weight=1, n_estimators=200, seed=42, subsample=0.6;, score=0.886 total time=   0.3s\n",
      "[CV 2/3] END colsample_bytree=0.6, learning_rate=0.01, max_depth=5, min_child_weight=1, n_estimators=200, seed=42, subsample=0.6;, score=0.879 total time=   0.3s\n",
      "[CV 3/3] END colsample_bytree=0.6, learning_rate=0.01, max_depth=5, min_child_weight=1, n_estimators=200, seed=42, subsample=0.6;, score=0.877 total time=   0.3s\n",
      "[CV 1/3] END colsample_bytree=0.6, learning_rate=0.01, max_depth=5, min_child_weight=1, n_estimators=200, seed=42, subsample=0.8;, score=0.885 total time=   0.3s\n",
      "[CV 2/3] END colsample_bytree=0.6, learning_rate=0.01, max_depth=5, min_child_weight=1, n_estimators=200, seed=42, subsample=0.8;, score=0.881 total time=   0.3s\n",
      "[CV 3/3] END colsample_bytree=0.6, learning_rate=0.01, max_depth=5, min_child_weight=1, n_estimators=200, seed=42, subsample=0.8;, score=0.877 total time=   0.3s\n",
      "[CV 1/3] END colsample_bytree=0.6, learning_rate=0.01, max_depth=5, min_child_weight=3, n_estimators=100, seed=42, subsample=0.6;, score=0.884 total time=   0.1s\n",
      "[CV 2/3] END colsample_bytree=0.6, learning_rate=0.01, max_depth=5, min_child_weight=3, n_estimators=100, seed=42, subsample=0.6;, score=0.876 total time=   0.1s\n",
      "[CV 3/3] END colsample_bytree=0.6, learning_rate=0.01, max_depth=5, min_child_weight=3, n_estimators=100, seed=42, subsample=0.6;, score=0.877 total time=   0.1s\n",
      "[CV 1/3] END colsample_bytree=0.6, learning_rate=0.01, max_depth=5, min_child_weight=3, n_estimators=100, seed=42, subsample=0.8;, score=0.883 total time=   0.1s\n",
      "[CV 2/3] END colsample_bytree=0.6, learning_rate=0.01, max_depth=5, min_child_weight=3, n_estimators=100, seed=42, subsample=0.8;, score=0.877 total time=   0.1s\n",
      "[CV 3/3] END colsample_bytree=0.6, learning_rate=0.01, max_depth=5, min_child_weight=3, n_estimators=100, seed=42, subsample=0.8;, score=0.878 total time=   0.1s\n",
      "[CV 1/3] END colsample_bytree=0.6, learning_rate=0.01, max_depth=5, min_child_weight=3, n_estimators=200, seed=42, subsample=0.6;, score=0.886 total time=   0.2s\n",
      "[CV 2/3] END colsample_bytree=0.6, learning_rate=0.01, max_depth=5, min_child_weight=3, n_estimators=200, seed=42, subsample=0.6;, score=0.878 total time=   0.3s\n",
      "[CV 3/3] END colsample_bytree=0.6, learning_rate=0.01, max_depth=5, min_child_weight=3, n_estimators=200, seed=42, subsample=0.6;, score=0.877 total time=   0.3s\n",
      "[CV 1/3] END colsample_bytree=0.6, learning_rate=0.01, max_depth=5, min_child_weight=3, n_estimators=200, seed=42, subsample=0.8;, score=0.887 total time=   0.6s\n",
      "[CV 2/3] END colsample_bytree=0.6, learning_rate=0.01, max_depth=5, min_child_weight=3, n_estimators=200, seed=42, subsample=0.8;, score=0.880 total time=   0.3s\n",
      "[CV 3/3] END colsample_bytree=0.6, learning_rate=0.01, max_depth=5, min_child_weight=3, n_estimators=200, seed=42, subsample=0.8;, score=0.877 total time=   0.3s\n",
      "[CV 1/3] END colsample_bytree=0.6, learning_rate=0.01, max_depth=7, min_child_weight=1, n_estimators=100, seed=42, subsample=0.6;, score=0.885 total time=   0.2s\n",
      "[CV 2/3] END colsample_bytree=0.6, learning_rate=0.01, max_depth=7, min_child_weight=1, n_estimators=100, seed=42, subsample=0.6;, score=0.882 total time=   0.2s\n",
      "[CV 3/3] END colsample_bytree=0.6, learning_rate=0.01, max_depth=7, min_child_weight=1, n_estimators=100, seed=42, subsample=0.6;, score=0.879 total time=   0.2s\n",
      "[CV 1/3] END colsample_bytree=0.6, learning_rate=0.01, max_depth=7, min_child_weight=1, n_estimators=100, seed=42, subsample=0.8;, score=0.885 total time=   0.2s\n",
      "[CV 2/3] END colsample_bytree=0.6, learning_rate=0.01, max_depth=7, min_child_weight=1, n_estimators=100, seed=42, subsample=0.8;, score=0.886 total time=   0.3s\n",
      "[CV 3/3] END colsample_bytree=0.6, learning_rate=0.01, max_depth=7, min_child_weight=1, n_estimators=100, seed=42, subsample=0.8;, score=0.878 total time=   0.2s\n",
      "[CV 1/3] END colsample_bytree=0.6, learning_rate=0.01, max_depth=7, min_child_weight=1, n_estimators=200, seed=42, subsample=0.6;, score=0.888 total time=   0.5s\n",
      "[CV 2/3] END colsample_bytree=0.6, learning_rate=0.01, max_depth=7, min_child_weight=1, n_estimators=200, seed=42, subsample=0.6;, score=0.886 total time=   0.5s\n",
      "[CV 3/3] END colsample_bytree=0.6, learning_rate=0.01, max_depth=7, min_child_weight=1, n_estimators=200, seed=42, subsample=0.6;, score=0.879 total time=   0.4s\n",
      "[CV 1/3] END colsample_bytree=0.6, learning_rate=0.01, max_depth=7, min_child_weight=1, n_estimators=200, seed=42, subsample=0.8;, score=0.886 total time=   0.5s\n",
      "[CV 2/3] END colsample_bytree=0.6, learning_rate=0.01, max_depth=7, min_child_weight=1, n_estimators=200, seed=42, subsample=0.8;, score=0.888 total time=   0.5s\n",
      "[CV 3/3] END colsample_bytree=0.6, learning_rate=0.01, max_depth=7, min_child_weight=1, n_estimators=200, seed=42, subsample=0.8;, score=0.879 total time=   0.5s\n",
      "[CV 1/3] END colsample_bytree=0.6, learning_rate=0.01, max_depth=7, min_child_weight=3, n_estimators=100, seed=42, subsample=0.6;, score=0.886 total time=   0.2s\n",
      "[CV 2/3] END colsample_bytree=0.6, learning_rate=0.01, max_depth=7, min_child_weight=3, n_estimators=100, seed=42, subsample=0.6;, score=0.881 total time=   0.2s\n",
      "[CV 3/3] END colsample_bytree=0.6, learning_rate=0.01, max_depth=7, min_child_weight=3, n_estimators=100, seed=42, subsample=0.6;, score=0.876 total time=   0.2s\n",
      "[CV 1/3] END colsample_bytree=0.6, learning_rate=0.01, max_depth=7, min_child_weight=3, n_estimators=100, seed=42, subsample=0.8;, score=0.886 total time=   0.2s\n",
      "[CV 2/3] END colsample_bytree=0.6, learning_rate=0.01, max_depth=7, min_child_weight=3, n_estimators=100, seed=42, subsample=0.8;, score=0.884 total time=   0.2s\n",
      "[CV 3/3] END colsample_bytree=0.6, learning_rate=0.01, max_depth=7, min_child_weight=3, n_estimators=100, seed=42, subsample=0.8;, score=0.877 total time=   0.2s\n",
      "[CV 1/3] END colsample_bytree=0.6, learning_rate=0.01, max_depth=7, min_child_weight=3, n_estimators=200, seed=42, subsample=0.6;, score=0.888 total time=   0.4s\n",
      "[CV 2/3] END colsample_bytree=0.6, learning_rate=0.01, max_depth=7, min_child_weight=3, n_estimators=200, seed=42, subsample=0.6;, score=0.884 total time=   0.4s\n",
      "[CV 3/3] END colsample_bytree=0.6, learning_rate=0.01, max_depth=7, min_child_weight=3, n_estimators=200, seed=42, subsample=0.6;, score=0.878 total time=   0.5s\n",
      "[CV 1/3] END colsample_bytree=0.6, learning_rate=0.01, max_depth=7, min_child_weight=3, n_estimators=200, seed=42, subsample=0.8;, score=0.887 total time=   0.4s\n",
      "[CV 2/3] END colsample_bytree=0.6, learning_rate=0.01, max_depth=7, min_child_weight=3, n_estimators=200, seed=42, subsample=0.8;, score=0.886 total time=   0.4s\n",
      "[CV 3/3] END colsample_bytree=0.6, learning_rate=0.01, max_depth=7, min_child_weight=3, n_estimators=200, seed=42, subsample=0.8;, score=0.878 total time=   0.4s\n",
      "[CV 1/3] END colsample_bytree=0.6, learning_rate=0.1, max_depth=5, min_child_weight=1, n_estimators=100, seed=42, subsample=0.6;, score=0.894 total time=   0.1s\n",
      "[CV 2/3] END colsample_bytree=0.6, learning_rate=0.1, max_depth=5, min_child_weight=1, n_estimators=100, seed=42, subsample=0.6;, score=0.891 total time=   0.1s\n",
      "[CV 3/3] END colsample_bytree=0.6, learning_rate=0.1, max_depth=5, min_child_weight=1, n_estimators=100, seed=42, subsample=0.6;, score=0.879 total time=   0.1s\n",
      "[CV 1/3] END colsample_bytree=0.6, learning_rate=0.1, max_depth=5, min_child_weight=1, n_estimators=100, seed=42, subsample=0.8;, score=0.893 total time=   0.1s\n",
      "[CV 2/3] END colsample_bytree=0.6, learning_rate=0.1, max_depth=5, min_child_weight=1, n_estimators=100, seed=42, subsample=0.8;, score=0.891 total time=   0.1s\n",
      "[CV 3/3] END colsample_bytree=0.6, learning_rate=0.1, max_depth=5, min_child_weight=1, n_estimators=100, seed=42, subsample=0.8;, score=0.884 total time=   0.1s\n",
      "[CV 1/3] END colsample_bytree=0.6, learning_rate=0.1, max_depth=5, min_child_weight=1, n_estimators=200, seed=42, subsample=0.6;, score=0.891 total time=   0.3s\n",
      "[CV 2/3] END colsample_bytree=0.6, learning_rate=0.1, max_depth=5, min_child_weight=1, n_estimators=200, seed=42, subsample=0.6;, score=0.886 total time=   0.3s\n",
      "[CV 3/3] END colsample_bytree=0.6, learning_rate=0.1, max_depth=5, min_child_weight=1, n_estimators=200, seed=42, subsample=0.6;, score=0.880 total time=   0.3s\n",
      "[CV 1/3] END colsample_bytree=0.6, learning_rate=0.1, max_depth=5, min_child_weight=1, n_estimators=200, seed=42, subsample=0.8;, score=0.889 total time=   0.3s\n",
      "[CV 2/3] END colsample_bytree=0.6, learning_rate=0.1, max_depth=5, min_child_weight=1, n_estimators=200, seed=42, subsample=0.8;, score=0.891 total time=   0.3s\n",
      "[CV 3/3] END colsample_bytree=0.6, learning_rate=0.1, max_depth=5, min_child_weight=1, n_estimators=200, seed=42, subsample=0.8;, score=0.884 total time=   0.3s\n",
      "[CV 1/3] END colsample_bytree=0.6, learning_rate=0.1, max_depth=5, min_child_weight=3, n_estimators=100, seed=42, subsample=0.6;, score=0.895 total time=   0.1s\n",
      "[CV 2/3] END colsample_bytree=0.6, learning_rate=0.1, max_depth=5, min_child_weight=3, n_estimators=100, seed=42, subsample=0.6;, score=0.889 total time=   0.2s\n",
      "[CV 3/3] END colsample_bytree=0.6, learning_rate=0.1, max_depth=5, min_child_weight=3, n_estimators=100, seed=42, subsample=0.6;, score=0.879 total time=   0.1s\n",
      "[CV 1/3] END colsample_bytree=0.6, learning_rate=0.1, max_depth=5, min_child_weight=3, n_estimators=100, seed=42, subsample=0.8;, score=0.889 total time=   0.1s\n",
      "[CV 2/3] END colsample_bytree=0.6, learning_rate=0.1, max_depth=5, min_child_weight=3, n_estimators=100, seed=42, subsample=0.8;, score=0.886 total time=   0.1s\n",
      "[CV 3/3] END colsample_bytree=0.6, learning_rate=0.1, max_depth=5, min_child_weight=3, n_estimators=100, seed=42, subsample=0.8;, score=0.885 total time=   0.1s\n",
      "[CV 1/3] END colsample_bytree=0.6, learning_rate=0.1, max_depth=5, min_child_weight=3, n_estimators=200, seed=42, subsample=0.6;, score=0.892 total time=   0.3s\n",
      "[CV 2/3] END colsample_bytree=0.6, learning_rate=0.1, max_depth=5, min_child_weight=3, n_estimators=200, seed=42, subsample=0.6;, score=0.885 total time=   0.3s\n",
      "[CV 3/3] END colsample_bytree=0.6, learning_rate=0.1, max_depth=5, min_child_weight=3, n_estimators=200, seed=42, subsample=0.6;, score=0.881 total time=   0.4s\n",
      "[CV 1/3] END colsample_bytree=0.6, learning_rate=0.1, max_depth=5, min_child_weight=3, n_estimators=200, seed=42, subsample=0.8;, score=0.890 total time=   0.3s\n",
      "[CV 2/3] END colsample_bytree=0.6, learning_rate=0.1, max_depth=5, min_child_weight=3, n_estimators=200, seed=42, subsample=0.8;, score=0.887 total time=   0.3s\n",
      "[CV 3/3] END colsample_bytree=0.6, learning_rate=0.1, max_depth=5, min_child_weight=3, n_estimators=200, seed=42, subsample=0.8;, score=0.881 total time=   0.3s\n",
      "[CV 1/3] END colsample_bytree=0.6, learning_rate=0.1, max_depth=7, min_child_weight=1, n_estimators=100, seed=42, subsample=0.6;, score=0.896 total time=   0.2s\n",
      "[CV 2/3] END colsample_bytree=0.6, learning_rate=0.1, max_depth=7, min_child_weight=1, n_estimators=100, seed=42, subsample=0.6;, score=0.889 total time=   0.2s\n",
      "[CV 3/3] END colsample_bytree=0.6, learning_rate=0.1, max_depth=7, min_child_weight=1, n_estimators=100, seed=42, subsample=0.6;, score=0.883 total time=   0.2s\n",
      "[CV 1/3] END colsample_bytree=0.6, learning_rate=0.1, max_depth=7, min_child_weight=1, n_estimators=100, seed=42, subsample=0.8;, score=0.891 total time=   0.2s\n",
      "[CV 2/3] END colsample_bytree=0.6, learning_rate=0.1, max_depth=7, min_child_weight=1, n_estimators=100, seed=42, subsample=0.8;, score=0.891 total time=   0.2s\n",
      "[CV 3/3] END colsample_bytree=0.6, learning_rate=0.1, max_depth=7, min_child_weight=1, n_estimators=100, seed=42, subsample=0.8;, score=0.881 total time=   0.2s\n",
      "[CV 1/3] END colsample_bytree=0.6, learning_rate=0.1, max_depth=7, min_child_weight=1, n_estimators=200, seed=42, subsample=0.6;, score=0.891 total time=   0.5s\n",
      "[CV 2/3] END colsample_bytree=0.6, learning_rate=0.1, max_depth=7, min_child_weight=1, n_estimators=200, seed=42, subsample=0.6;, score=0.888 total time=   0.4s\n",
      "[CV 3/3] END colsample_bytree=0.6, learning_rate=0.1, max_depth=7, min_child_weight=1, n_estimators=200, seed=42, subsample=0.6;, score=0.880 total time=   0.4s\n",
      "[CV 1/3] END colsample_bytree=0.6, learning_rate=0.1, max_depth=7, min_child_weight=1, n_estimators=200, seed=42, subsample=0.8;, score=0.893 total time=   0.4s\n",
      "[CV 2/3] END colsample_bytree=0.6, learning_rate=0.1, max_depth=7, min_child_weight=1, n_estimators=200, seed=42, subsample=0.8;, score=0.889 total time=   0.4s\n",
      "[CV 3/3] END colsample_bytree=0.6, learning_rate=0.1, max_depth=7, min_child_weight=1, n_estimators=200, seed=42, subsample=0.8;, score=0.880 total time=   0.4s\n",
      "[CV 1/3] END colsample_bytree=0.6, learning_rate=0.1, max_depth=7, min_child_weight=3, n_estimators=100, seed=42, subsample=0.6;, score=0.893 total time=   0.1s\n",
      "[CV 2/3] END colsample_bytree=0.6, learning_rate=0.1, max_depth=7, min_child_weight=3, n_estimators=100, seed=42, subsample=0.6;, score=0.887 total time=   0.1s\n",
      "[CV 3/3] END colsample_bytree=0.6, learning_rate=0.1, max_depth=7, min_child_weight=3, n_estimators=100, seed=42, subsample=0.6;, score=0.882 total time=   0.2s\n",
      "[CV 1/3] END colsample_bytree=0.6, learning_rate=0.1, max_depth=7, min_child_weight=3, n_estimators=100, seed=42, subsample=0.8;, score=0.891 total time=   0.2s\n",
      "[CV 2/3] END colsample_bytree=0.6, learning_rate=0.1, max_depth=7, min_child_weight=3, n_estimators=100, seed=42, subsample=0.8;, score=0.887 total time=   0.2s\n",
      "[CV 3/3] END colsample_bytree=0.6, learning_rate=0.1, max_depth=7, min_child_weight=3, n_estimators=100, seed=42, subsample=0.8;, score=0.881 total time=   0.1s\n",
      "[CV 1/3] END colsample_bytree=0.6, learning_rate=0.1, max_depth=7, min_child_weight=3, n_estimators=200, seed=42, subsample=0.6;, score=0.888 total time=   0.3s\n",
      "[CV 2/3] END colsample_bytree=0.6, learning_rate=0.1, max_depth=7, min_child_weight=3, n_estimators=200, seed=42, subsample=0.6;, score=0.889 total time=   0.4s\n",
      "[CV 3/3] END colsample_bytree=0.6, learning_rate=0.1, max_depth=7, min_child_weight=3, n_estimators=200, seed=42, subsample=0.6;, score=0.883 total time=   0.4s\n",
      "[CV 1/3] END colsample_bytree=0.6, learning_rate=0.1, max_depth=7, min_child_weight=3, n_estimators=200, seed=42, subsample=0.8;, score=0.889 total time=   0.4s\n",
      "[CV 2/3] END colsample_bytree=0.6, learning_rate=0.1, max_depth=7, min_child_weight=3, n_estimators=200, seed=42, subsample=0.8;, score=0.886 total time=   0.4s\n",
      "[CV 3/3] END colsample_bytree=0.6, learning_rate=0.1, max_depth=7, min_child_weight=3, n_estimators=200, seed=42, subsample=0.8;, score=0.883 total time=   0.4s\n",
      "[CV 1/3] END colsample_bytree=0.6, learning_rate=0.2, max_depth=5, min_child_weight=1, n_estimators=100, seed=42, subsample=0.6;, score=0.889 total time=   0.1s\n",
      "[CV 2/3] END colsample_bytree=0.6, learning_rate=0.2, max_depth=5, min_child_weight=1, n_estimators=100, seed=42, subsample=0.6;, score=0.890 total time=   0.1s\n",
      "[CV 3/3] END colsample_bytree=0.6, learning_rate=0.2, max_depth=5, min_child_weight=1, n_estimators=100, seed=42, subsample=0.6;, score=0.878 total time=   0.1s\n",
      "[CV 1/3] END colsample_bytree=0.6, learning_rate=0.2, max_depth=5, min_child_weight=1, n_estimators=100, seed=42, subsample=0.8;, score=0.890 total time=   0.1s\n",
      "[CV 2/3] END colsample_bytree=0.6, learning_rate=0.2, max_depth=5, min_child_weight=1, n_estimators=100, seed=42, subsample=0.8;, score=0.893 total time=   0.1s\n",
      "[CV 3/3] END colsample_bytree=0.6, learning_rate=0.2, max_depth=5, min_child_weight=1, n_estimators=100, seed=42, subsample=0.8;, score=0.877 total time=   0.1s\n",
      "[CV 1/3] END colsample_bytree=0.6, learning_rate=0.2, max_depth=5, min_child_weight=1, n_estimators=200, seed=42, subsample=0.6;, score=0.888 total time=   0.3s\n",
      "[CV 2/3] END colsample_bytree=0.6, learning_rate=0.2, max_depth=5, min_child_weight=1, n_estimators=200, seed=42, subsample=0.6;, score=0.883 total time=   0.3s\n",
      "[CV 3/3] END colsample_bytree=0.6, learning_rate=0.2, max_depth=5, min_child_weight=1, n_estimators=200, seed=42, subsample=0.6;, score=0.876 total time=   0.3s\n",
      "[CV 1/3] END colsample_bytree=0.6, learning_rate=0.2, max_depth=5, min_child_weight=1, n_estimators=200, seed=42, subsample=0.8;, score=0.888 total time=   0.3s\n",
      "[CV 2/3] END colsample_bytree=0.6, learning_rate=0.2, max_depth=5, min_child_weight=1, n_estimators=200, seed=42, subsample=0.8;, score=0.888 total time=   0.3s\n",
      "[CV 3/3] END colsample_bytree=0.6, learning_rate=0.2, max_depth=5, min_child_weight=1, n_estimators=200, seed=42, subsample=0.8;, score=0.877 total time=   0.3s\n",
      "[CV 1/3] END colsample_bytree=0.6, learning_rate=0.2, max_depth=5, min_child_weight=3, n_estimators=100, seed=42, subsample=0.6;, score=0.895 total time=   0.1s\n",
      "[CV 2/3] END colsample_bytree=0.6, learning_rate=0.2, max_depth=5, min_child_weight=3, n_estimators=100, seed=42, subsample=0.6;, score=0.884 total time=   0.1s\n",
      "[CV 3/3] END colsample_bytree=0.6, learning_rate=0.2, max_depth=5, min_child_weight=3, n_estimators=100, seed=42, subsample=0.6;, score=0.881 total time=   0.1s\n",
      "[CV 1/3] END colsample_bytree=0.6, learning_rate=0.2, max_depth=5, min_child_weight=3, n_estimators=100, seed=42, subsample=0.8;, score=0.891 total time=   0.1s\n",
      "[CV 2/3] END colsample_bytree=0.6, learning_rate=0.2, max_depth=5, min_child_weight=3, n_estimators=100, seed=42, subsample=0.8;, score=0.888 total time=   0.1s\n",
      "[CV 3/3] END colsample_bytree=0.6, learning_rate=0.2, max_depth=5, min_child_weight=3, n_estimators=100, seed=42, subsample=0.8;, score=0.883 total time=   0.1s\n",
      "[CV 1/3] END colsample_bytree=0.6, learning_rate=0.2, max_depth=5, min_child_weight=3, n_estimators=200, seed=42, subsample=0.6;, score=0.888 total time=   0.3s\n",
      "[CV 2/3] END colsample_bytree=0.6, learning_rate=0.2, max_depth=5, min_child_weight=3, n_estimators=200, seed=42, subsample=0.6;, score=0.881 total time=   0.3s\n",
      "[CV 3/3] END colsample_bytree=0.6, learning_rate=0.2, max_depth=5, min_child_weight=3, n_estimators=200, seed=42, subsample=0.6;, score=0.881 total time=   0.3s\n",
      "[CV 1/3] END colsample_bytree=0.6, learning_rate=0.2, max_depth=5, min_child_weight=3, n_estimators=200, seed=42, subsample=0.8;, score=0.885 total time=   0.3s\n",
      "[CV 2/3] END colsample_bytree=0.6, learning_rate=0.2, max_depth=5, min_child_weight=3, n_estimators=200, seed=42, subsample=0.8;, score=0.885 total time=   0.3s\n",
      "[CV 3/3] END colsample_bytree=0.6, learning_rate=0.2, max_depth=5, min_child_weight=3, n_estimators=200, seed=42, subsample=0.8;, score=0.879 total time=   0.3s\n",
      "[CV 1/3] END colsample_bytree=0.6, learning_rate=0.2, max_depth=7, min_child_weight=1, n_estimators=100, seed=42, subsample=0.6;, score=0.888 total time=   0.2s\n",
      "[CV 2/3] END colsample_bytree=0.6, learning_rate=0.2, max_depth=7, min_child_weight=1, n_estimators=100, seed=42, subsample=0.6;, score=0.886 total time=   0.2s\n",
      "[CV 3/3] END colsample_bytree=0.6, learning_rate=0.2, max_depth=7, min_child_weight=1, n_estimators=100, seed=42, subsample=0.6;, score=0.882 total time=   0.2s\n",
      "[CV 1/3] END colsample_bytree=0.6, learning_rate=0.2, max_depth=7, min_child_weight=1, n_estimators=100, seed=42, subsample=0.8;, score=0.888 total time=   0.2s\n",
      "[CV 2/3] END colsample_bytree=0.6, learning_rate=0.2, max_depth=7, min_child_weight=1, n_estimators=100, seed=42, subsample=0.8;, score=0.885 total time=   0.2s\n",
      "[CV 3/3] END colsample_bytree=0.6, learning_rate=0.2, max_depth=7, min_child_weight=1, n_estimators=100, seed=42, subsample=0.8;, score=0.878 total time=   0.2s\n",
      "[CV 1/3] END colsample_bytree=0.6, learning_rate=0.2, max_depth=7, min_child_weight=1, n_estimators=200, seed=42, subsample=0.6;, score=0.888 total time=   0.4s\n",
      "[CV 2/3] END colsample_bytree=0.6, learning_rate=0.2, max_depth=7, min_child_weight=1, n_estimators=200, seed=42, subsample=0.6;, score=0.885 total time=   0.4s\n",
      "[CV 3/3] END colsample_bytree=0.6, learning_rate=0.2, max_depth=7, min_child_weight=1, n_estimators=200, seed=42, subsample=0.6;, score=0.883 total time=   0.4s\n",
      "[CV 1/3] END colsample_bytree=0.6, learning_rate=0.2, max_depth=7, min_child_weight=1, n_estimators=200, seed=42, subsample=0.8;, score=0.890 total time=   0.5s\n",
      "[CV 2/3] END colsample_bytree=0.6, learning_rate=0.2, max_depth=7, min_child_weight=1, n_estimators=200, seed=42, subsample=0.8;, score=0.883 total time=   0.5s\n",
      "[CV 3/3] END colsample_bytree=0.6, learning_rate=0.2, max_depth=7, min_child_weight=1, n_estimators=200, seed=42, subsample=0.8;, score=0.877 total time=   0.4s\n",
      "[CV 1/3] END colsample_bytree=0.6, learning_rate=0.2, max_depth=7, min_child_weight=3, n_estimators=100, seed=42, subsample=0.6;, score=0.888 total time=   0.1s\n",
      "[CV 2/3] END colsample_bytree=0.6, learning_rate=0.2, max_depth=7, min_child_weight=3, n_estimators=100, seed=42, subsample=0.6;, score=0.882 total time=   0.1s\n",
      "[CV 3/3] END colsample_bytree=0.6, learning_rate=0.2, max_depth=7, min_child_weight=3, n_estimators=100, seed=42, subsample=0.6;, score=0.880 total time=   0.1s\n",
      "[CV 1/3] END colsample_bytree=0.6, learning_rate=0.2, max_depth=7, min_child_weight=3, n_estimators=100, seed=42, subsample=0.8;, score=0.888 total time=   0.1s\n",
      "[CV 2/3] END colsample_bytree=0.6, learning_rate=0.2, max_depth=7, min_child_weight=3, n_estimators=100, seed=42, subsample=0.8;, score=0.886 total time=   0.2s\n",
      "[CV 3/3] END colsample_bytree=0.6, learning_rate=0.2, max_depth=7, min_child_weight=3, n_estimators=100, seed=42, subsample=0.8;, score=0.877 total time=   0.2s\n",
      "[CV 1/3] END colsample_bytree=0.6, learning_rate=0.2, max_depth=7, min_child_weight=3, n_estimators=200, seed=42, subsample=0.6;, score=0.886 total time=   0.5s\n",
      "[CV 2/3] END colsample_bytree=0.6, learning_rate=0.2, max_depth=7, min_child_weight=3, n_estimators=200, seed=42, subsample=0.6;, score=0.880 total time=   0.4s\n",
      "[CV 3/3] END colsample_bytree=0.6, learning_rate=0.2, max_depth=7, min_child_weight=3, n_estimators=200, seed=42, subsample=0.6;, score=0.880 total time=   0.3s\n",
      "[CV 1/3] END colsample_bytree=0.6, learning_rate=0.2, max_depth=7, min_child_weight=3, n_estimators=200, seed=42, subsample=0.8;, score=0.887 total time=   0.4s\n",
      "[CV 2/3] END colsample_bytree=0.6, learning_rate=0.2, max_depth=7, min_child_weight=3, n_estimators=200, seed=42, subsample=0.8;, score=0.886 total time=   0.4s\n",
      "[CV 3/3] END colsample_bytree=0.6, learning_rate=0.2, max_depth=7, min_child_weight=3, n_estimators=200, seed=42, subsample=0.8;, score=0.875 total time=   0.3s\n",
      "[CV 1/3] END colsample_bytree=0.8, learning_rate=0.01, max_depth=5, min_child_weight=1, n_estimators=100, seed=42, subsample=0.6;, score=0.888 total time=   0.1s\n",
      "[CV 2/3] END colsample_bytree=0.8, learning_rate=0.01, max_depth=5, min_child_weight=1, n_estimators=100, seed=42, subsample=0.6;, score=0.878 total time=   0.1s\n",
      "[CV 3/3] END colsample_bytree=0.8, learning_rate=0.01, max_depth=5, min_child_weight=1, n_estimators=100, seed=42, subsample=0.6;, score=0.873 total time=   0.1s\n",
      "[CV 1/3] END colsample_bytree=0.8, learning_rate=0.01, max_depth=5, min_child_weight=1, n_estimators=100, seed=42, subsample=0.8;, score=0.891 total time=   0.1s\n",
      "[CV 2/3] END colsample_bytree=0.8, learning_rate=0.01, max_depth=5, min_child_weight=1, n_estimators=100, seed=42, subsample=0.8;, score=0.880 total time=   0.1s\n",
      "[CV 3/3] END colsample_bytree=0.8, learning_rate=0.01, max_depth=5, min_child_weight=1, n_estimators=100, seed=42, subsample=0.8;, score=0.875 total time=   0.1s\n",
      "[CV 1/3] END colsample_bytree=0.8, learning_rate=0.01, max_depth=5, min_child_weight=1, n_estimators=200, seed=42, subsample=0.6;, score=0.889 total time=   0.3s\n",
      "[CV 2/3] END colsample_bytree=0.8, learning_rate=0.01, max_depth=5, min_child_weight=1, n_estimators=200, seed=42, subsample=0.6;, score=0.882 total time=   0.3s\n",
      "[CV 3/3] END colsample_bytree=0.8, learning_rate=0.01, max_depth=5, min_child_weight=1, n_estimators=200, seed=42, subsample=0.6;, score=0.873 total time=   0.4s\n",
      "[CV 1/3] END colsample_bytree=0.8, learning_rate=0.01, max_depth=5, min_child_weight=1, n_estimators=200, seed=42, subsample=0.8;, score=0.890 total time=   0.3s\n",
      "[CV 2/3] END colsample_bytree=0.8, learning_rate=0.01, max_depth=5, min_child_weight=1, n_estimators=200, seed=42, subsample=0.8;, score=0.884 total time=   0.3s\n",
      "[CV 3/3] END colsample_bytree=0.8, learning_rate=0.01, max_depth=5, min_child_weight=1, n_estimators=200, seed=42, subsample=0.8;, score=0.875 total time=   0.3s\n",
      "[CV 1/3] END colsample_bytree=0.8, learning_rate=0.01, max_depth=5, min_child_weight=3, n_estimators=100, seed=42, subsample=0.6;, score=0.885 total time=   0.1s\n",
      "[CV 2/3] END colsample_bytree=0.8, learning_rate=0.01, max_depth=5, min_child_weight=3, n_estimators=100, seed=42, subsample=0.6;, score=0.877 total time=   0.1s\n",
      "[CV 3/3] END colsample_bytree=0.8, learning_rate=0.01, max_depth=5, min_child_weight=3, n_estimators=100, seed=42, subsample=0.6;, score=0.872 total time=   0.1s\n",
      "[CV 1/3] END colsample_bytree=0.8, learning_rate=0.01, max_depth=5, min_child_weight=3, n_estimators=100, seed=42, subsample=0.8;, score=0.890 total time=   0.1s\n",
      "[CV 2/3] END colsample_bytree=0.8, learning_rate=0.01, max_depth=5, min_child_weight=3, n_estimators=100, seed=42, subsample=0.8;, score=0.879 total time=   0.1s\n",
      "[CV 3/3] END colsample_bytree=0.8, learning_rate=0.01, max_depth=5, min_child_weight=3, n_estimators=100, seed=42, subsample=0.8;, score=0.873 total time=   0.1s\n",
      "[CV 1/3] END colsample_bytree=0.8, learning_rate=0.01, max_depth=5, min_child_weight=3, n_estimators=200, seed=42, subsample=0.6;, score=0.889 total time=   0.4s\n",
      "[CV 2/3] END colsample_bytree=0.8, learning_rate=0.01, max_depth=5, min_child_weight=3, n_estimators=200, seed=42, subsample=0.6;, score=0.881 total time=   0.4s\n",
      "[CV 3/3] END colsample_bytree=0.8, learning_rate=0.01, max_depth=5, min_child_weight=3, n_estimators=200, seed=42, subsample=0.6;, score=0.872 total time=   0.4s\n",
      "[CV 1/3] END colsample_bytree=0.8, learning_rate=0.01, max_depth=5, min_child_weight=3, n_estimators=200, seed=42, subsample=0.8;, score=0.892 total time=   0.4s\n",
      "[CV 2/3] END colsample_bytree=0.8, learning_rate=0.01, max_depth=5, min_child_weight=3, n_estimators=200, seed=42, subsample=0.8;, score=0.882 total time=   0.4s\n",
      "[CV 3/3] END colsample_bytree=0.8, learning_rate=0.01, max_depth=5, min_child_weight=3, n_estimators=200, seed=42, subsample=0.8;, score=0.875 total time=   0.4s\n",
      "[CV 1/3] END colsample_bytree=0.8, learning_rate=0.01, max_depth=7, min_child_weight=1, n_estimators=100, seed=42, subsample=0.6;, score=0.892 total time=   0.2s\n",
      "[CV 2/3] END colsample_bytree=0.8, learning_rate=0.01, max_depth=7, min_child_weight=1, n_estimators=100, seed=42, subsample=0.6;, score=0.884 total time=   0.2s\n",
      "[CV 3/3] END colsample_bytree=0.8, learning_rate=0.01, max_depth=7, min_child_weight=1, n_estimators=100, seed=42, subsample=0.6;, score=0.879 total time=   0.2s\n",
      "[CV 1/3] END colsample_bytree=0.8, learning_rate=0.01, max_depth=7, min_child_weight=1, n_estimators=100, seed=42, subsample=0.8;, score=0.893 total time=   0.3s\n",
      "[CV 2/3] END colsample_bytree=0.8, learning_rate=0.01, max_depth=7, min_child_weight=1, n_estimators=100, seed=42, subsample=0.8;, score=0.886 total time=   0.3s\n",
      "[CV 3/3] END colsample_bytree=0.8, learning_rate=0.01, max_depth=7, min_child_weight=1, n_estimators=100, seed=42, subsample=0.8;, score=0.877 total time=   0.2s\n",
      "[CV 1/3] END colsample_bytree=0.8, learning_rate=0.01, max_depth=7, min_child_weight=1, n_estimators=200, seed=42, subsample=0.6;, score=0.892 total time=   0.6s\n",
      "[CV 2/3] END colsample_bytree=0.8, learning_rate=0.01, max_depth=7, min_child_weight=1, n_estimators=200, seed=42, subsample=0.6;, score=0.888 total time=   0.6s\n",
      "[CV 3/3] END colsample_bytree=0.8, learning_rate=0.01, max_depth=7, min_child_weight=1, n_estimators=200, seed=42, subsample=0.6;, score=0.879 total time=   0.5s\n",
      "[CV 1/3] END colsample_bytree=0.8, learning_rate=0.01, max_depth=7, min_child_weight=1, n_estimators=200, seed=42, subsample=0.8;, score=0.894 total time=   0.6s\n",
      "[CV 2/3] END colsample_bytree=0.8, learning_rate=0.01, max_depth=7, min_child_weight=1, n_estimators=200, seed=42, subsample=0.8;, score=0.889 total time=   0.6s\n",
      "[CV 3/3] END colsample_bytree=0.8, learning_rate=0.01, max_depth=7, min_child_weight=1, n_estimators=200, seed=42, subsample=0.8;, score=0.881 total time=   0.6s\n",
      "[CV 1/3] END colsample_bytree=0.8, learning_rate=0.01, max_depth=7, min_child_weight=3, n_estimators=100, seed=42, subsample=0.6;, score=0.890 total time=   0.2s\n",
      "[CV 2/3] END colsample_bytree=0.8, learning_rate=0.01, max_depth=7, min_child_weight=3, n_estimators=100, seed=42, subsample=0.6;, score=0.883 total time=   0.2s\n",
      "[CV 3/3] END colsample_bytree=0.8, learning_rate=0.01, max_depth=7, min_child_weight=3, n_estimators=100, seed=42, subsample=0.6;, score=0.876 total time=   0.2s\n",
      "[CV 1/3] END colsample_bytree=0.8, learning_rate=0.01, max_depth=7, min_child_weight=3, n_estimators=100, seed=42, subsample=0.8;, score=0.892 total time=   0.2s\n",
      "[CV 2/3] END colsample_bytree=0.8, learning_rate=0.01, max_depth=7, min_child_weight=3, n_estimators=100, seed=42, subsample=0.8;, score=0.886 total time=   0.2s\n",
      "[CV 3/3] END colsample_bytree=0.8, learning_rate=0.01, max_depth=7, min_child_weight=3, n_estimators=100, seed=42, subsample=0.8;, score=0.874 total time=   0.2s\n",
      "[CV 1/3] END colsample_bytree=0.8, learning_rate=0.01, max_depth=7, min_child_weight=3, n_estimators=200, seed=42, subsample=0.6;, score=0.891 total time=   0.5s\n",
      "[CV 2/3] END colsample_bytree=0.8, learning_rate=0.01, max_depth=7, min_child_weight=3, n_estimators=200, seed=42, subsample=0.6;, score=0.887 total time=   0.5s\n",
      "[CV 3/3] END colsample_bytree=0.8, learning_rate=0.01, max_depth=7, min_child_weight=3, n_estimators=200, seed=42, subsample=0.6;, score=0.875 total time=   0.5s\n",
      "[CV 1/3] END colsample_bytree=0.8, learning_rate=0.01, max_depth=7, min_child_weight=3, n_estimators=200, seed=42, subsample=0.8;, score=0.894 total time=   0.5s\n",
      "[CV 2/3] END colsample_bytree=0.8, learning_rate=0.01, max_depth=7, min_child_weight=3, n_estimators=200, seed=42, subsample=0.8;, score=0.889 total time=   0.5s\n",
      "[CV 3/3] END colsample_bytree=0.8, learning_rate=0.01, max_depth=7, min_child_weight=3, n_estimators=200, seed=42, subsample=0.8;, score=0.877 total time=   0.5s\n",
      "[CV 1/3] END colsample_bytree=0.8, learning_rate=0.1, max_depth=5, min_child_weight=1, n_estimators=100, seed=42, subsample=0.6;, score=0.892 total time=   0.2s\n",
      "[CV 2/3] END colsample_bytree=0.8, learning_rate=0.1, max_depth=5, min_child_weight=1, n_estimators=100, seed=42, subsample=0.6;, score=0.890 total time=   0.1s\n",
      "[CV 3/3] END colsample_bytree=0.8, learning_rate=0.1, max_depth=5, min_child_weight=1, n_estimators=100, seed=42, subsample=0.6;, score=0.884 total time=   0.2s\n",
      "[CV 1/3] END colsample_bytree=0.8, learning_rate=0.1, max_depth=5, min_child_weight=1, n_estimators=100, seed=42, subsample=0.8;, score=0.893 total time=   0.1s\n",
      "[CV 2/3] END colsample_bytree=0.8, learning_rate=0.1, max_depth=5, min_child_weight=1, n_estimators=100, seed=42, subsample=0.8;, score=0.893 total time=   0.1s\n",
      "[CV 3/3] END colsample_bytree=0.8, learning_rate=0.1, max_depth=5, min_child_weight=1, n_estimators=100, seed=42, subsample=0.8;, score=0.881 total time=   0.1s\n",
      "[CV 1/3] END colsample_bytree=0.8, learning_rate=0.1, max_depth=5, min_child_weight=1, n_estimators=200, seed=42, subsample=0.6;, score=0.893 total time=   0.4s\n",
      "[CV 2/3] END colsample_bytree=0.8, learning_rate=0.1, max_depth=5, min_child_weight=1, n_estimators=200, seed=42, subsample=0.6;, score=0.889 total time=   0.4s\n",
      "[CV 3/3] END colsample_bytree=0.8, learning_rate=0.1, max_depth=5, min_child_weight=1, n_estimators=200, seed=42, subsample=0.6;, score=0.881 total time=   0.4s\n",
      "[CV 1/3] END colsample_bytree=0.8, learning_rate=0.1, max_depth=5, min_child_weight=1, n_estimators=200, seed=42, subsample=0.8;, score=0.890 total time=   0.4s\n",
      "[CV 2/3] END colsample_bytree=0.8, learning_rate=0.1, max_depth=5, min_child_weight=1, n_estimators=200, seed=42, subsample=0.8;, score=0.891 total time=   0.4s\n",
      "[CV 3/3] END colsample_bytree=0.8, learning_rate=0.1, max_depth=5, min_child_weight=1, n_estimators=200, seed=42, subsample=0.8;, score=0.882 total time=   0.4s\n",
      "[CV 1/3] END colsample_bytree=0.8, learning_rate=0.1, max_depth=5, min_child_weight=3, n_estimators=100, seed=42, subsample=0.6;, score=0.897 total time=   0.1s\n",
      "[CV 2/3] END colsample_bytree=0.8, learning_rate=0.1, max_depth=5, min_child_weight=3, n_estimators=100, seed=42, subsample=0.6;, score=0.891 total time=   0.1s\n",
      "[CV 3/3] END colsample_bytree=0.8, learning_rate=0.1, max_depth=5, min_child_weight=3, n_estimators=100, seed=42, subsample=0.6;, score=0.884 total time=   0.1s\n",
      "[CV 1/3] END colsample_bytree=0.8, learning_rate=0.1, max_depth=5, min_child_weight=3, n_estimators=100, seed=42, subsample=0.8;, score=0.893 total time=   0.1s\n",
      "[CV 2/3] END colsample_bytree=0.8, learning_rate=0.1, max_depth=5, min_child_weight=3, n_estimators=100, seed=42, subsample=0.8;, score=0.891 total time=   0.1s\n",
      "[CV 3/3] END colsample_bytree=0.8, learning_rate=0.1, max_depth=5, min_child_weight=3, n_estimators=100, seed=42, subsample=0.8;, score=0.882 total time=   0.1s\n",
      "[CV 1/3] END colsample_bytree=0.8, learning_rate=0.1, max_depth=5, min_child_weight=3, n_estimators=200, seed=42, subsample=0.6;, score=0.891 total time=   0.3s\n",
      "[CV 2/3] END colsample_bytree=0.8, learning_rate=0.1, max_depth=5, min_child_weight=3, n_estimators=200, seed=42, subsample=0.6;, score=0.888 total time=   0.4s\n",
      "[CV 3/3] END colsample_bytree=0.8, learning_rate=0.1, max_depth=5, min_child_weight=3, n_estimators=200, seed=42, subsample=0.6;, score=0.881 total time=   0.3s\n",
      "[CV 1/3] END colsample_bytree=0.8, learning_rate=0.1, max_depth=5, min_child_weight=3, n_estimators=200, seed=42, subsample=0.8;, score=0.895 total time=   0.3s\n",
      "[CV 2/3] END colsample_bytree=0.8, learning_rate=0.1, max_depth=5, min_child_weight=3, n_estimators=200, seed=42, subsample=0.8;, score=0.892 total time=   0.3s\n",
      "[CV 3/3] END colsample_bytree=0.8, learning_rate=0.1, max_depth=5, min_child_weight=3, n_estimators=200, seed=42, subsample=0.8;, score=0.882 total time=   0.3s\n",
      "[CV 1/3] END colsample_bytree=0.8, learning_rate=0.1, max_depth=7, min_child_weight=1, n_estimators=100, seed=42, subsample=0.6;, score=0.893 total time=   0.2s\n",
      "[CV 2/3] END colsample_bytree=0.8, learning_rate=0.1, max_depth=7, min_child_weight=1, n_estimators=100, seed=42, subsample=0.6;, score=0.893 total time=   0.2s\n",
      "[CV 3/3] END colsample_bytree=0.8, learning_rate=0.1, max_depth=7, min_child_weight=1, n_estimators=100, seed=42, subsample=0.6;, score=0.882 total time=   0.2s\n",
      "[CV 1/3] END colsample_bytree=0.8, learning_rate=0.1, max_depth=7, min_child_weight=1, n_estimators=100, seed=42, subsample=0.8;, score=0.889 total time=   0.2s\n",
      "[CV 2/3] END colsample_bytree=0.8, learning_rate=0.1, max_depth=7, min_child_weight=1, n_estimators=100, seed=42, subsample=0.8;, score=0.891 total time=   0.2s\n",
      "[CV 3/3] END colsample_bytree=0.8, learning_rate=0.1, max_depth=7, min_child_weight=1, n_estimators=100, seed=42, subsample=0.8;, score=0.884 total time=   0.2s\n",
      "[CV 1/3] END colsample_bytree=0.8, learning_rate=0.1, max_depth=7, min_child_weight=1, n_estimators=200, seed=42, subsample=0.6;, score=0.890 total time=   0.5s\n",
      "[CV 2/3] END colsample_bytree=0.8, learning_rate=0.1, max_depth=7, min_child_weight=1, n_estimators=200, seed=42, subsample=0.6;, score=0.891 total time=   0.5s\n",
      "[CV 3/3] END colsample_bytree=0.8, learning_rate=0.1, max_depth=7, min_child_weight=1, n_estimators=200, seed=42, subsample=0.6;, score=0.883 total time=   0.5s\n",
      "[CV 1/3] END colsample_bytree=0.8, learning_rate=0.1, max_depth=7, min_child_weight=1, n_estimators=200, seed=42, subsample=0.8;, score=0.890 total time=   0.5s\n",
      "[CV 2/3] END colsample_bytree=0.8, learning_rate=0.1, max_depth=7, min_child_weight=1, n_estimators=200, seed=42, subsample=0.8;, score=0.891 total time=   0.5s\n",
      "[CV 3/3] END colsample_bytree=0.8, learning_rate=0.1, max_depth=7, min_child_weight=1, n_estimators=200, seed=42, subsample=0.8;, score=0.882 total time=   0.5s\n",
      "[CV 1/3] END colsample_bytree=0.8, learning_rate=0.1, max_depth=7, min_child_weight=3, n_estimators=100, seed=42, subsample=0.6;, score=0.893 total time=   0.2s\n",
      "[CV 2/3] END colsample_bytree=0.8, learning_rate=0.1, max_depth=7, min_child_weight=3, n_estimators=100, seed=42, subsample=0.6;, score=0.890 total time=   0.2s\n",
      "[CV 3/3] END colsample_bytree=0.8, learning_rate=0.1, max_depth=7, min_child_weight=3, n_estimators=100, seed=42, subsample=0.6;, score=0.880 total time=   0.2s\n",
      "[CV 1/3] END colsample_bytree=0.8, learning_rate=0.1, max_depth=7, min_child_weight=3, n_estimators=100, seed=42, subsample=0.8;, score=0.890 total time=   0.2s\n",
      "[CV 2/3] END colsample_bytree=0.8, learning_rate=0.1, max_depth=7, min_child_weight=3, n_estimators=100, seed=42, subsample=0.8;, score=0.891 total time=   0.2s\n",
      "[CV 3/3] END colsample_bytree=0.8, learning_rate=0.1, max_depth=7, min_child_weight=3, n_estimators=100, seed=42, subsample=0.8;, score=0.883 total time=   0.2s\n",
      "[CV 1/3] END colsample_bytree=0.8, learning_rate=0.1, max_depth=7, min_child_weight=3, n_estimators=200, seed=42, subsample=0.6;, score=0.890 total time=   0.5s\n",
      "[CV 2/3] END colsample_bytree=0.8, learning_rate=0.1, max_depth=7, min_child_weight=3, n_estimators=200, seed=42, subsample=0.6;, score=0.886 total time=   0.5s\n",
      "[CV 3/3] END colsample_bytree=0.8, learning_rate=0.1, max_depth=7, min_child_weight=3, n_estimators=200, seed=42, subsample=0.6;, score=0.879 total time=   0.5s\n",
      "[CV 1/3] END colsample_bytree=0.8, learning_rate=0.1, max_depth=7, min_child_weight=3, n_estimators=200, seed=42, subsample=0.8;, score=0.888 total time=   0.5s\n",
      "[CV 2/3] END colsample_bytree=0.8, learning_rate=0.1, max_depth=7, min_child_weight=3, n_estimators=200, seed=42, subsample=0.8;, score=0.888 total time=   0.5s\n",
      "[CV 3/3] END colsample_bytree=0.8, learning_rate=0.1, max_depth=7, min_child_weight=3, n_estimators=200, seed=42, subsample=0.8;, score=0.878 total time=   0.5s\n",
      "[CV 1/3] END colsample_bytree=0.8, learning_rate=0.2, max_depth=5, min_child_weight=1, n_estimators=100, seed=42, subsample=0.6;, score=0.888 total time=   0.1s\n",
      "[CV 2/3] END colsample_bytree=0.8, learning_rate=0.2, max_depth=5, min_child_weight=1, n_estimators=100, seed=42, subsample=0.6;, score=0.888 total time=   0.1s\n",
      "[CV 3/3] END colsample_bytree=0.8, learning_rate=0.2, max_depth=5, min_child_weight=1, n_estimators=100, seed=42, subsample=0.6;, score=0.882 total time=   0.1s\n",
      "[CV 1/3] END colsample_bytree=0.8, learning_rate=0.2, max_depth=5, min_child_weight=1, n_estimators=100, seed=42, subsample=0.8;, score=0.891 total time=   0.1s\n",
      "[CV 2/3] END colsample_bytree=0.8, learning_rate=0.2, max_depth=5, min_child_weight=1, n_estimators=100, seed=42, subsample=0.8;, score=0.888 total time=   0.1s\n",
      "[CV 3/3] END colsample_bytree=0.8, learning_rate=0.2, max_depth=5, min_child_weight=1, n_estimators=100, seed=42, subsample=0.8;, score=0.877 total time=   0.1s\n",
      "[CV 1/3] END colsample_bytree=0.8, learning_rate=0.2, max_depth=5, min_child_weight=1, n_estimators=200, seed=42, subsample=0.6;, score=0.888 total time=   0.4s\n",
      "[CV 2/3] END colsample_bytree=0.8, learning_rate=0.2, max_depth=5, min_child_weight=1, n_estimators=200, seed=42, subsample=0.6;, score=0.886 total time=   0.4s\n",
      "[CV 3/3] END colsample_bytree=0.8, learning_rate=0.2, max_depth=5, min_child_weight=1, n_estimators=200, seed=42, subsample=0.6;, score=0.880 total time=   0.4s\n",
      "[CV 1/3] END colsample_bytree=0.8, learning_rate=0.2, max_depth=5, min_child_weight=1, n_estimators=200, seed=42, subsample=0.8;, score=0.890 total time=   0.4s\n",
      "[CV 2/3] END colsample_bytree=0.8, learning_rate=0.2, max_depth=5, min_child_weight=1, n_estimators=200, seed=42, subsample=0.8;, score=0.885 total time=   0.4s\n",
      "[CV 3/3] END colsample_bytree=0.8, learning_rate=0.2, max_depth=5, min_child_weight=1, n_estimators=200, seed=42, subsample=0.8;, score=0.873 total time=   0.4s\n",
      "[CV 1/3] END colsample_bytree=0.8, learning_rate=0.2, max_depth=5, min_child_weight=3, n_estimators=100, seed=42, subsample=0.6;, score=0.886 total time=   0.1s\n",
      "[CV 2/3] END colsample_bytree=0.8, learning_rate=0.2, max_depth=5, min_child_weight=3, n_estimators=100, seed=42, subsample=0.6;, score=0.886 total time=   0.1s\n",
      "[CV 3/3] END colsample_bytree=0.8, learning_rate=0.2, max_depth=5, min_child_weight=3, n_estimators=100, seed=42, subsample=0.6;, score=0.879 total time=   0.1s\n",
      "[CV 1/3] END colsample_bytree=0.8, learning_rate=0.2, max_depth=5, min_child_weight=3, n_estimators=100, seed=42, subsample=0.8;, score=0.894 total time=   0.1s\n",
      "[CV 2/3] END colsample_bytree=0.8, learning_rate=0.2, max_depth=5, min_child_weight=3, n_estimators=100, seed=42, subsample=0.8;, score=0.888 total time=   0.1s\n",
      "[CV 3/3] END colsample_bytree=0.8, learning_rate=0.2, max_depth=5, min_child_weight=3, n_estimators=100, seed=42, subsample=0.8;, score=0.879 total time=   0.1s\n",
      "[CV 1/3] END colsample_bytree=0.8, learning_rate=0.2, max_depth=5, min_child_weight=3, n_estimators=200, seed=42, subsample=0.6;, score=0.887 total time=   0.3s\n",
      "[CV 2/3] END colsample_bytree=0.8, learning_rate=0.2, max_depth=5, min_child_weight=3, n_estimators=200, seed=42, subsample=0.6;, score=0.882 total time=   0.3s\n",
      "[CV 3/3] END colsample_bytree=0.8, learning_rate=0.2, max_depth=5, min_child_weight=3, n_estimators=200, seed=42, subsample=0.6;, score=0.879 total time=   0.3s\n",
      "[CV 1/3] END colsample_bytree=0.8, learning_rate=0.2, max_depth=5, min_child_weight=3, n_estimators=200, seed=42, subsample=0.8;, score=0.893 total time=   0.3s\n",
      "[CV 2/3] END colsample_bytree=0.8, learning_rate=0.2, max_depth=5, min_child_weight=3, n_estimators=200, seed=42, subsample=0.8;, score=0.882 total time=   0.3s\n",
      "[CV 3/3] END colsample_bytree=0.8, learning_rate=0.2, max_depth=5, min_child_weight=3, n_estimators=200, seed=42, subsample=0.8;, score=0.877 total time=   0.3s\n",
      "[CV 1/3] END colsample_bytree=0.8, learning_rate=0.2, max_depth=7, min_child_weight=1, n_estimators=100, seed=42, subsample=0.6;, score=0.890 total time=   0.2s\n",
      "[CV 2/3] END colsample_bytree=0.8, learning_rate=0.2, max_depth=7, min_child_weight=1, n_estimators=100, seed=42, subsample=0.6;, score=0.888 total time=   0.2s\n",
      "[CV 3/3] END colsample_bytree=0.8, learning_rate=0.2, max_depth=7, min_child_weight=1, n_estimators=100, seed=42, subsample=0.6;, score=0.877 total time=   0.2s\n",
      "[CV 1/3] END colsample_bytree=0.8, learning_rate=0.2, max_depth=7, min_child_weight=1, n_estimators=100, seed=42, subsample=0.8;, score=0.892 total time=   0.2s\n",
      "[CV 2/3] END colsample_bytree=0.8, learning_rate=0.2, max_depth=7, min_child_weight=1, n_estimators=100, seed=42, subsample=0.8;, score=0.888 total time=   0.2s\n",
      "[CV 3/3] END colsample_bytree=0.8, learning_rate=0.2, max_depth=7, min_child_weight=1, n_estimators=100, seed=42, subsample=0.8;, score=0.877 total time=   0.2s\n",
      "[CV 1/3] END colsample_bytree=0.8, learning_rate=0.2, max_depth=7, min_child_weight=1, n_estimators=200, seed=42, subsample=0.6;, score=0.885 total time=   0.5s\n",
      "[CV 2/3] END colsample_bytree=0.8, learning_rate=0.2, max_depth=7, min_child_weight=1, n_estimators=200, seed=42, subsample=0.6;, score=0.886 total time=   0.5s\n",
      "[CV 3/3] END colsample_bytree=0.8, learning_rate=0.2, max_depth=7, min_child_weight=1, n_estimators=200, seed=42, subsample=0.6;, score=0.875 total time=   0.5s\n",
      "[CV 1/3] END colsample_bytree=0.8, learning_rate=0.2, max_depth=7, min_child_weight=1, n_estimators=200, seed=42, subsample=0.8;, score=0.893 total time=   0.5s\n",
      "[CV 2/3] END colsample_bytree=0.8, learning_rate=0.2, max_depth=7, min_child_weight=1, n_estimators=200, seed=42, subsample=0.8;, score=0.885 total time=   0.5s\n",
      "[CV 3/3] END colsample_bytree=0.8, learning_rate=0.2, max_depth=7, min_child_weight=1, n_estimators=200, seed=42, subsample=0.8;, score=0.876 total time=   0.5s\n",
      "[CV 1/3] END colsample_bytree=0.8, learning_rate=0.2, max_depth=7, min_child_weight=3, n_estimators=100, seed=42, subsample=0.6;, score=0.890 total time=   0.2s\n",
      "[CV 2/3] END colsample_bytree=0.8, learning_rate=0.2, max_depth=7, min_child_weight=3, n_estimators=100, seed=42, subsample=0.6;, score=0.886 total time=   0.2s\n",
      "[CV 3/3] END colsample_bytree=0.8, learning_rate=0.2, max_depth=7, min_child_weight=3, n_estimators=100, seed=42, subsample=0.6;, score=0.884 total time=   0.2s\n",
      "[CV 1/3] END colsample_bytree=0.8, learning_rate=0.2, max_depth=7, min_child_weight=3, n_estimators=100, seed=42, subsample=0.8;, score=0.895 total time=   0.2s\n",
      "[CV 2/3] END colsample_bytree=0.8, learning_rate=0.2, max_depth=7, min_child_weight=3, n_estimators=100, seed=42, subsample=0.8;, score=0.887 total time=   0.2s\n",
      "[CV 3/3] END colsample_bytree=0.8, learning_rate=0.2, max_depth=7, min_child_weight=3, n_estimators=100, seed=42, subsample=0.8;, score=0.879 total time=   0.1s\n",
      "[CV 1/3] END colsample_bytree=0.8, learning_rate=0.2, max_depth=7, min_child_weight=3, n_estimators=200, seed=42, subsample=0.6;, score=0.887 total time=   0.3s\n",
      "[CV 2/3] END colsample_bytree=0.8, learning_rate=0.2, max_depth=7, min_child_weight=3, n_estimators=200, seed=42, subsample=0.6;, score=0.885 total time=   0.3s\n",
      "[CV 3/3] END colsample_bytree=0.8, learning_rate=0.2, max_depth=7, min_child_weight=3, n_estimators=200, seed=42, subsample=0.6;, score=0.881 total time=   0.3s\n",
      "[CV 1/3] END colsample_bytree=0.8, learning_rate=0.2, max_depth=7, min_child_weight=3, n_estimators=200, seed=42, subsample=0.8;, score=0.893 total time=   0.3s\n",
      "[CV 2/3] END colsample_bytree=0.8, learning_rate=0.2, max_depth=7, min_child_weight=3, n_estimators=200, seed=42, subsample=0.8;, score=0.885 total time=   0.4s\n",
      "[CV 3/3] END colsample_bytree=0.8, learning_rate=0.2, max_depth=7, min_child_weight=3, n_estimators=200, seed=42, subsample=0.8;, score=0.879 total time=   0.3s\n"
     ]
    },
    {
     "data": {
      "text/html": [
       "<style>#sk-container-id-2 {color: black;}#sk-container-id-2 pre{padding: 0;}#sk-container-id-2 div.sk-toggleable {background-color: white;}#sk-container-id-2 label.sk-toggleable__label {cursor: pointer;display: block;width: 100%;margin-bottom: 0;padding: 0.3em;box-sizing: border-box;text-align: center;}#sk-container-id-2 label.sk-toggleable__label-arrow:before {content: \"▸\";float: left;margin-right: 0.25em;color: #696969;}#sk-container-id-2 label.sk-toggleable__label-arrow:hover:before {color: black;}#sk-container-id-2 div.sk-estimator:hover label.sk-toggleable__label-arrow:before {color: black;}#sk-container-id-2 div.sk-toggleable__content {max-height: 0;max-width: 0;overflow: hidden;text-align: left;background-color: #f0f8ff;}#sk-container-id-2 div.sk-toggleable__content pre {margin: 0.2em;color: black;border-radius: 0.25em;background-color: #f0f8ff;}#sk-container-id-2 input.sk-toggleable__control:checked~div.sk-toggleable__content {max-height: 200px;max-width: 100%;overflow: auto;}#sk-container-id-2 input.sk-toggleable__control:checked~label.sk-toggleable__label-arrow:before {content: \"▾\";}#sk-container-id-2 div.sk-estimator input.sk-toggleable__control:checked~label.sk-toggleable__label {background-color: #d4ebff;}#sk-container-id-2 div.sk-label input.sk-toggleable__control:checked~label.sk-toggleable__label {background-color: #d4ebff;}#sk-container-id-2 input.sk-hidden--visually {border: 0;clip: rect(1px 1px 1px 1px);clip: rect(1px, 1px, 1px, 1px);height: 1px;margin: -1px;overflow: hidden;padding: 0;position: absolute;width: 1px;}#sk-container-id-2 div.sk-estimator {font-family: monospace;background-color: #f0f8ff;border: 1px dotted black;border-radius: 0.25em;box-sizing: border-box;margin-bottom: 0.5em;}#sk-container-id-2 div.sk-estimator:hover {background-color: #d4ebff;}#sk-container-id-2 div.sk-parallel-item::after {content: \"\";width: 100%;border-bottom: 1px solid gray;flex-grow: 1;}#sk-container-id-2 div.sk-label:hover label.sk-toggleable__label {background-color: #d4ebff;}#sk-container-id-2 div.sk-serial::before {content: \"\";position: absolute;border-left: 1px solid gray;box-sizing: border-box;top: 0;bottom: 0;left: 50%;z-index: 0;}#sk-container-id-2 div.sk-serial {display: flex;flex-direction: column;align-items: center;background-color: white;padding-right: 0.2em;padding-left: 0.2em;position: relative;}#sk-container-id-2 div.sk-item {position: relative;z-index: 1;}#sk-container-id-2 div.sk-parallel {display: flex;align-items: stretch;justify-content: center;background-color: white;position: relative;}#sk-container-id-2 div.sk-item::before, #sk-container-id-2 div.sk-parallel-item::before {content: \"\";position: absolute;border-left: 1px solid gray;box-sizing: border-box;top: 0;bottom: 0;left: 50%;z-index: -1;}#sk-container-id-2 div.sk-parallel-item {display: flex;flex-direction: column;z-index: 1;position: relative;background-color: white;}#sk-container-id-2 div.sk-parallel-item:first-child::after {align-self: flex-end;width: 50%;}#sk-container-id-2 div.sk-parallel-item:last-child::after {align-self: flex-start;width: 50%;}#sk-container-id-2 div.sk-parallel-item:only-child::after {width: 0;}#sk-container-id-2 div.sk-dashed-wrapped {border: 1px dashed gray;margin: 0 0.4em 0.5em 0.4em;box-sizing: border-box;padding-bottom: 0.4em;background-color: white;}#sk-container-id-2 div.sk-label label {font-family: monospace;font-weight: bold;display: inline-block;line-height: 1.2em;}#sk-container-id-2 div.sk-label-container {text-align: center;}#sk-container-id-2 div.sk-container {/* jupyter's `normalize.less` sets `[hidden] { display: none; }` but bootstrap.min.css set `[hidden] { display: none !important; }` so we also need the `!important` here to be able to override the default hidden behavior on the sphinx rendered scikit-learn.org. See: https://github.com/scikit-learn/scikit-learn/issues/21755 */display: inline-block !important;position: relative;}#sk-container-id-2 div.sk-text-repr-fallback {display: none;}</style><div id=\"sk-container-id-2\" class=\"sk-top-container\"><div class=\"sk-text-repr-fallback\"><pre>GridSearchCV(cv=3,\n",
       "             estimator=XGBClassifier(base_score=None, booster=None,\n",
       "                                     callbacks=None, colsample_bylevel=None,\n",
       "                                     colsample_bynode=None,\n",
       "                                     colsample_bytree=None, device=None,\n",
       "                                     early_stopping_rounds=None,\n",
       "                                     enable_categorical=False, eval_metric=None,\n",
       "                                     feature_types=None, gamma=None,\n",
       "                                     grow_policy=None, importance_type=None,\n",
       "                                     interaction_constraints=None,\n",
       "                                     learning_rate=None,...\n",
       "                                     max_leaves=None, min_child_weight=None,\n",
       "                                     missing=nan, monotone_constraints=None,\n",
       "                                     multi_strategy=None, n_estimators=None,\n",
       "                                     n_jobs=None, num_class=5,\n",
       "                                     num_parallel_tree=None, ...),\n",
       "             param_grid={&#x27;colsample_bytree&#x27;: [0.6, 0.8],\n",
       "                         &#x27;learning_rate&#x27;: [0.01, 0.1, 0.2], &#x27;max_depth&#x27;: [5, 7],\n",
       "                         &#x27;min_child_weight&#x27;: [1, 3], &#x27;n_estimators&#x27;: [100, 200],\n",
       "                         &#x27;seed&#x27;: [42], &#x27;subsample&#x27;: [0.6, 0.8]},\n",
       "             scoring=&#x27;accuracy&#x27;, verbose=4)</pre><b>In a Jupyter environment, please rerun this cell to show the HTML representation or trust the notebook. <br />On GitHub, the HTML representation is unable to render, please try loading this page with nbviewer.org.</b></div><div class=\"sk-container\" hidden><div class=\"sk-item sk-dashed-wrapped\"><div class=\"sk-label-container\"><div class=\"sk-label sk-toggleable\"><input class=\"sk-toggleable__control sk-hidden--visually\" id=\"sk-estimator-id-2\" type=\"checkbox\" ><label for=\"sk-estimator-id-2\" class=\"sk-toggleable__label sk-toggleable__label-arrow\">GridSearchCV</label><div class=\"sk-toggleable__content\"><pre>GridSearchCV(cv=3,\n",
       "             estimator=XGBClassifier(base_score=None, booster=None,\n",
       "                                     callbacks=None, colsample_bylevel=None,\n",
       "                                     colsample_bynode=None,\n",
       "                                     colsample_bytree=None, device=None,\n",
       "                                     early_stopping_rounds=None,\n",
       "                                     enable_categorical=False, eval_metric=None,\n",
       "                                     feature_types=None, gamma=None,\n",
       "                                     grow_policy=None, importance_type=None,\n",
       "                                     interaction_constraints=None,\n",
       "                                     learning_rate=None,...\n",
       "                                     max_leaves=None, min_child_weight=None,\n",
       "                                     missing=nan, monotone_constraints=None,\n",
       "                                     multi_strategy=None, n_estimators=None,\n",
       "                                     n_jobs=None, num_class=5,\n",
       "                                     num_parallel_tree=None, ...),\n",
       "             param_grid={&#x27;colsample_bytree&#x27;: [0.6, 0.8],\n",
       "                         &#x27;learning_rate&#x27;: [0.01, 0.1, 0.2], &#x27;max_depth&#x27;: [5, 7],\n",
       "                         &#x27;min_child_weight&#x27;: [1, 3], &#x27;n_estimators&#x27;: [100, 200],\n",
       "                         &#x27;seed&#x27;: [42], &#x27;subsample&#x27;: [0.6, 0.8]},\n",
       "             scoring=&#x27;accuracy&#x27;, verbose=4)</pre></div></div></div><div class=\"sk-parallel\"><div class=\"sk-parallel-item\"><div class=\"sk-item\"><div class=\"sk-label-container\"><div class=\"sk-label sk-toggleable\"><input class=\"sk-toggleable__control sk-hidden--visually\" id=\"sk-estimator-id-3\" type=\"checkbox\" ><label for=\"sk-estimator-id-3\" class=\"sk-toggleable__label sk-toggleable__label-arrow\">estimator: XGBClassifier</label><div class=\"sk-toggleable__content\"><pre>XGBClassifier(base_score=None, booster=None, callbacks=None,\n",
       "              colsample_bylevel=None, colsample_bynode=None,\n",
       "              colsample_bytree=None, device=None, early_stopping_rounds=None,\n",
       "              enable_categorical=False, eval_metric=None, feature_types=None,\n",
       "              gamma=None, grow_policy=None, importance_type=None,\n",
       "              interaction_constraints=None, learning_rate=None, max_bin=None,\n",
       "              max_cat_threshold=None, max_cat_to_onehot=None,\n",
       "              max_delta_step=None, max_depth=None, max_leaves=None,\n",
       "              min_child_weight=None, missing=nan, monotone_constraints=None,\n",
       "              multi_strategy=None, n_estimators=None, n_jobs=None, num_class=5,\n",
       "              num_parallel_tree=None, ...)</pre></div></div></div><div class=\"sk-serial\"><div class=\"sk-item\"><div class=\"sk-estimator sk-toggleable\"><input class=\"sk-toggleable__control sk-hidden--visually\" id=\"sk-estimator-id-4\" type=\"checkbox\" ><label for=\"sk-estimator-id-4\" class=\"sk-toggleable__label sk-toggleable__label-arrow\">XGBClassifier</label><div class=\"sk-toggleable__content\"><pre>XGBClassifier(base_score=None, booster=None, callbacks=None,\n",
       "              colsample_bylevel=None, colsample_bynode=None,\n",
       "              colsample_bytree=None, device=None, early_stopping_rounds=None,\n",
       "              enable_categorical=False, eval_metric=None, feature_types=None,\n",
       "              gamma=None, grow_policy=None, importance_type=None,\n",
       "              interaction_constraints=None, learning_rate=None, max_bin=None,\n",
       "              max_cat_threshold=None, max_cat_to_onehot=None,\n",
       "              max_delta_step=None, max_depth=None, max_leaves=None,\n",
       "              min_child_weight=None, missing=nan, monotone_constraints=None,\n",
       "              multi_strategy=None, n_estimators=None, n_jobs=None, num_class=5,\n",
       "              num_parallel_tree=None, ...)</pre></div></div></div></div></div></div></div></div></div></div>"
      ],
      "text/plain": [
       "GridSearchCV(cv=3,\n",
       "             estimator=XGBClassifier(base_score=None, booster=None,\n",
       "                                     callbacks=None, colsample_bylevel=None,\n",
       "                                     colsample_bynode=None,\n",
       "                                     colsample_bytree=None, device=None,\n",
       "                                     early_stopping_rounds=None,\n",
       "                                     enable_categorical=False, eval_metric=None,\n",
       "                                     feature_types=None, gamma=None,\n",
       "                                     grow_policy=None, importance_type=None,\n",
       "                                     interaction_constraints=None,\n",
       "                                     learning_rate=None,...\n",
       "                                     max_leaves=None, min_child_weight=None,\n",
       "                                     missing=nan, monotone_constraints=None,\n",
       "                                     multi_strategy=None, n_estimators=None,\n",
       "                                     n_jobs=None, num_class=5,\n",
       "                                     num_parallel_tree=None, ...),\n",
       "             param_grid={'colsample_bytree': [0.6, 0.8],\n",
       "                         'learning_rate': [0.01, 0.1, 0.2], 'max_depth': [5, 7],\n",
       "                         'min_child_weight': [1, 3], 'n_estimators': [100, 200],\n",
       "                         'seed': [42], 'subsample': [0.6, 0.8]},\n",
       "             scoring='accuracy', verbose=4)"
      ]
     },
     "execution_count": 57,
     "metadata": {},
     "output_type": "execute_result"
    }
   ],
   "source": [
    "grid_search = GridSearchCV(estimator=xgb_model, param_grid=param_grid, cv=3, scoring='accuracy',verbose=4)\n",
    "grid_search.fit(X_train, y_train)"
   ]
  },
  {
   "cell_type": "code",
   "execution_count": 58,
   "metadata": {},
   "outputs": [
    {
     "name": "stdout",
     "output_type": "stream",
     "text": [
      "Best Parameters: {'colsample_bytree': 0.8, 'learning_rate': 0.1, 'max_depth': 5, 'min_child_weight': 3, 'n_estimators': 100, 'seed': 42, 'subsample': 0.6}\n",
      "Best Score: 0.890804599440734\n"
     ]
    }
   ],
   "source": [
    "best_params = grid_search.best_params_\n",
    "best_score = grid_search.best_score_\n",
    "\n",
    "print(\"Best Parameters:\", best_params)\n",
    "print(\"Best Score:\", best_score)"
   ]
  },
  {
   "cell_type": "code",
   "execution_count": 59,
   "metadata": {},
   "outputs": [
    {
     "data": {
      "text/html": [
       "<style>#sk-container-id-3 {color: black;}#sk-container-id-3 pre{padding: 0;}#sk-container-id-3 div.sk-toggleable {background-color: white;}#sk-container-id-3 label.sk-toggleable__label {cursor: pointer;display: block;width: 100%;margin-bottom: 0;padding: 0.3em;box-sizing: border-box;text-align: center;}#sk-container-id-3 label.sk-toggleable__label-arrow:before {content: \"▸\";float: left;margin-right: 0.25em;color: #696969;}#sk-container-id-3 label.sk-toggleable__label-arrow:hover:before {color: black;}#sk-container-id-3 div.sk-estimator:hover label.sk-toggleable__label-arrow:before {color: black;}#sk-container-id-3 div.sk-toggleable__content {max-height: 0;max-width: 0;overflow: hidden;text-align: left;background-color: #f0f8ff;}#sk-container-id-3 div.sk-toggleable__content pre {margin: 0.2em;color: black;border-radius: 0.25em;background-color: #f0f8ff;}#sk-container-id-3 input.sk-toggleable__control:checked~div.sk-toggleable__content {max-height: 200px;max-width: 100%;overflow: auto;}#sk-container-id-3 input.sk-toggleable__control:checked~label.sk-toggleable__label-arrow:before {content: \"▾\";}#sk-container-id-3 div.sk-estimator input.sk-toggleable__control:checked~label.sk-toggleable__label {background-color: #d4ebff;}#sk-container-id-3 div.sk-label input.sk-toggleable__control:checked~label.sk-toggleable__label {background-color: #d4ebff;}#sk-container-id-3 input.sk-hidden--visually {border: 0;clip: rect(1px 1px 1px 1px);clip: rect(1px, 1px, 1px, 1px);height: 1px;margin: -1px;overflow: hidden;padding: 0;position: absolute;width: 1px;}#sk-container-id-3 div.sk-estimator {font-family: monospace;background-color: #f0f8ff;border: 1px dotted black;border-radius: 0.25em;box-sizing: border-box;margin-bottom: 0.5em;}#sk-container-id-3 div.sk-estimator:hover {background-color: #d4ebff;}#sk-container-id-3 div.sk-parallel-item::after {content: \"\";width: 100%;border-bottom: 1px solid gray;flex-grow: 1;}#sk-container-id-3 div.sk-label:hover label.sk-toggleable__label {background-color: #d4ebff;}#sk-container-id-3 div.sk-serial::before {content: \"\";position: absolute;border-left: 1px solid gray;box-sizing: border-box;top: 0;bottom: 0;left: 50%;z-index: 0;}#sk-container-id-3 div.sk-serial {display: flex;flex-direction: column;align-items: center;background-color: white;padding-right: 0.2em;padding-left: 0.2em;position: relative;}#sk-container-id-3 div.sk-item {position: relative;z-index: 1;}#sk-container-id-3 div.sk-parallel {display: flex;align-items: stretch;justify-content: center;background-color: white;position: relative;}#sk-container-id-3 div.sk-item::before, #sk-container-id-3 div.sk-parallel-item::before {content: \"\";position: absolute;border-left: 1px solid gray;box-sizing: border-box;top: 0;bottom: 0;left: 50%;z-index: -1;}#sk-container-id-3 div.sk-parallel-item {display: flex;flex-direction: column;z-index: 1;position: relative;background-color: white;}#sk-container-id-3 div.sk-parallel-item:first-child::after {align-self: flex-end;width: 50%;}#sk-container-id-3 div.sk-parallel-item:last-child::after {align-self: flex-start;width: 50%;}#sk-container-id-3 div.sk-parallel-item:only-child::after {width: 0;}#sk-container-id-3 div.sk-dashed-wrapped {border: 1px dashed gray;margin: 0 0.4em 0.5em 0.4em;box-sizing: border-box;padding-bottom: 0.4em;background-color: white;}#sk-container-id-3 div.sk-label label {font-family: monospace;font-weight: bold;display: inline-block;line-height: 1.2em;}#sk-container-id-3 div.sk-label-container {text-align: center;}#sk-container-id-3 div.sk-container {/* jupyter's `normalize.less` sets `[hidden] { display: none; }` but bootstrap.min.css set `[hidden] { display: none !important; }` so we also need the `!important` here to be able to override the default hidden behavior on the sphinx rendered scikit-learn.org. See: https://github.com/scikit-learn/scikit-learn/issues/21755 */display: inline-block !important;position: relative;}#sk-container-id-3 div.sk-text-repr-fallback {display: none;}</style><div id=\"sk-container-id-3\" class=\"sk-top-container\"><div class=\"sk-text-repr-fallback\"><pre>XGBClassifier(base_score=None, booster=None, callbacks=None,\n",
       "              colsample_bylevel=None, colsample_bynode=None,\n",
       "              colsample_bytree=0.8, device=None, early_stopping_rounds=None,\n",
       "              enable_categorical=False, eval_metric=None, feature_types=None,\n",
       "              gamma=None, grow_policy=None, importance_type=None,\n",
       "              interaction_constraints=None, learning_rate=0.1, max_bin=None,\n",
       "              max_cat_threshold=None, max_cat_to_onehot=None,\n",
       "              max_delta_step=None, max_depth=5, max_leaves=None,\n",
       "              min_child_weight=3, missing=nan, monotone_constraints=None,\n",
       "              multi_strategy=None, n_estimators=100, n_jobs=None,\n",
       "              num_parallel_tree=None, objective=&#x27;multi:softprob&#x27;, ...)</pre><b>In a Jupyter environment, please rerun this cell to show the HTML representation or trust the notebook. <br />On GitHub, the HTML representation is unable to render, please try loading this page with nbviewer.org.</b></div><div class=\"sk-container\" hidden><div class=\"sk-item\"><div class=\"sk-estimator sk-toggleable\"><input class=\"sk-toggleable__control sk-hidden--visually\" id=\"sk-estimator-id-5\" type=\"checkbox\" checked><label for=\"sk-estimator-id-5\" class=\"sk-toggleable__label sk-toggleable__label-arrow\">XGBClassifier</label><div class=\"sk-toggleable__content\"><pre>XGBClassifier(base_score=None, booster=None, callbacks=None,\n",
       "              colsample_bylevel=None, colsample_bynode=None,\n",
       "              colsample_bytree=0.8, device=None, early_stopping_rounds=None,\n",
       "              enable_categorical=False, eval_metric=None, feature_types=None,\n",
       "              gamma=None, grow_policy=None, importance_type=None,\n",
       "              interaction_constraints=None, learning_rate=0.1, max_bin=None,\n",
       "              max_cat_threshold=None, max_cat_to_onehot=None,\n",
       "              max_delta_step=None, max_depth=5, max_leaves=None,\n",
       "              min_child_weight=3, missing=nan, monotone_constraints=None,\n",
       "              multi_strategy=None, n_estimators=100, n_jobs=None,\n",
       "              num_parallel_tree=None, objective=&#x27;multi:softprob&#x27;, ...)</pre></div></div></div></div></div>"
      ],
      "text/plain": [
       "XGBClassifier(base_score=None, booster=None, callbacks=None,\n",
       "              colsample_bylevel=None, colsample_bynode=None,\n",
       "              colsample_bytree=0.8, device=None, early_stopping_rounds=None,\n",
       "              enable_categorical=False, eval_metric=None, feature_types=None,\n",
       "              gamma=None, grow_policy=None, importance_type=None,\n",
       "              interaction_constraints=None, learning_rate=0.1, max_bin=None,\n",
       "              max_cat_threshold=None, max_cat_to_onehot=None,\n",
       "              max_delta_step=None, max_depth=5, max_leaves=None,\n",
       "              min_child_weight=3, missing=nan, monotone_constraints=None,\n",
       "              multi_strategy=None, n_estimators=100, n_jobs=None,\n",
       "              num_parallel_tree=None, objective='multi:softprob', ...)"
      ]
     },
     "execution_count": 59,
     "metadata": {},
     "output_type": "execute_result"
    }
   ],
   "source": [
    "best_xgb_model = xgb.XGBClassifier(**best_params)\n",
    "best_xgb_model.fit(X_train, y_train)"
   ]
  },
  {
   "cell_type": "code",
   "execution_count": 60,
   "metadata": {},
   "outputs": [],
   "source": [
    "y_pred = best_xgb_model.predict(X_test)"
   ]
  },
  {
   "cell_type": "code",
   "execution_count": 61,
   "metadata": {},
   "outputs": [
    {
     "name": "stdout",
     "output_type": "stream",
     "text": [
      "              precision    recall  f1-score   support\n",
      "\n",
      "           0       0.96      0.98      0.97      2309\n",
      "           1       0.45      0.22      0.29       138\n",
      "           2       0.66      0.70      0.68       332\n",
      "           3       0.75      0.74      0.74       348\n",
      "           4       0.78      0.82      0.80       178\n",
      "\n",
      "    accuracy                           0.89      3305\n",
      "   macro avg       0.72      0.69      0.70      3305\n",
      "weighted avg       0.88      0.89      0.88      3305\n",
      "\n"
     ]
    }
   ],
   "source": [
    "print(classification_report(y_test, y_pred))"
   ]
  },
  {
   "cell_type": "markdown",
   "metadata": {},
   "source": [
    "Decision Tree"
   ]
  },
  {
   "cell_type": "code",
   "execution_count": 220,
   "metadata": {},
   "outputs": [],
   "source": [
    "dt_model = DecisionTreeClassifier(random_state=2021)"
   ]
  },
  {
   "cell_type": "code",
   "execution_count": 221,
   "metadata": {},
   "outputs": [
    {
     "data": {
      "text/html": [
       "<style>#sk-container-id-11 {color: black;}#sk-container-id-11 pre{padding: 0;}#sk-container-id-11 div.sk-toggleable {background-color: white;}#sk-container-id-11 label.sk-toggleable__label {cursor: pointer;display: block;width: 100%;margin-bottom: 0;padding: 0.3em;box-sizing: border-box;text-align: center;}#sk-container-id-11 label.sk-toggleable__label-arrow:before {content: \"▸\";float: left;margin-right: 0.25em;color: #696969;}#sk-container-id-11 label.sk-toggleable__label-arrow:hover:before {color: black;}#sk-container-id-11 div.sk-estimator:hover label.sk-toggleable__label-arrow:before {color: black;}#sk-container-id-11 div.sk-toggleable__content {max-height: 0;max-width: 0;overflow: hidden;text-align: left;background-color: #f0f8ff;}#sk-container-id-11 div.sk-toggleable__content pre {margin: 0.2em;color: black;border-radius: 0.25em;background-color: #f0f8ff;}#sk-container-id-11 input.sk-toggleable__control:checked~div.sk-toggleable__content {max-height: 200px;max-width: 100%;overflow: auto;}#sk-container-id-11 input.sk-toggleable__control:checked~label.sk-toggleable__label-arrow:before {content: \"▾\";}#sk-container-id-11 div.sk-estimator input.sk-toggleable__control:checked~label.sk-toggleable__label {background-color: #d4ebff;}#sk-container-id-11 div.sk-label input.sk-toggleable__control:checked~label.sk-toggleable__label {background-color: #d4ebff;}#sk-container-id-11 input.sk-hidden--visually {border: 0;clip: rect(1px 1px 1px 1px);clip: rect(1px, 1px, 1px, 1px);height: 1px;margin: -1px;overflow: hidden;padding: 0;position: absolute;width: 1px;}#sk-container-id-11 div.sk-estimator {font-family: monospace;background-color: #f0f8ff;border: 1px dotted black;border-radius: 0.25em;box-sizing: border-box;margin-bottom: 0.5em;}#sk-container-id-11 div.sk-estimator:hover {background-color: #d4ebff;}#sk-container-id-11 div.sk-parallel-item::after {content: \"\";width: 100%;border-bottom: 1px solid gray;flex-grow: 1;}#sk-container-id-11 div.sk-label:hover label.sk-toggleable__label {background-color: #d4ebff;}#sk-container-id-11 div.sk-serial::before {content: \"\";position: absolute;border-left: 1px solid gray;box-sizing: border-box;top: 0;bottom: 0;left: 50%;z-index: 0;}#sk-container-id-11 div.sk-serial {display: flex;flex-direction: column;align-items: center;background-color: white;padding-right: 0.2em;padding-left: 0.2em;position: relative;}#sk-container-id-11 div.sk-item {position: relative;z-index: 1;}#sk-container-id-11 div.sk-parallel {display: flex;align-items: stretch;justify-content: center;background-color: white;position: relative;}#sk-container-id-11 div.sk-item::before, #sk-container-id-11 div.sk-parallel-item::before {content: \"\";position: absolute;border-left: 1px solid gray;box-sizing: border-box;top: 0;bottom: 0;left: 50%;z-index: -1;}#sk-container-id-11 div.sk-parallel-item {display: flex;flex-direction: column;z-index: 1;position: relative;background-color: white;}#sk-container-id-11 div.sk-parallel-item:first-child::after {align-self: flex-end;width: 50%;}#sk-container-id-11 div.sk-parallel-item:last-child::after {align-self: flex-start;width: 50%;}#sk-container-id-11 div.sk-parallel-item:only-child::after {width: 0;}#sk-container-id-11 div.sk-dashed-wrapped {border: 1px dashed gray;margin: 0 0.4em 0.5em 0.4em;box-sizing: border-box;padding-bottom: 0.4em;background-color: white;}#sk-container-id-11 div.sk-label label {font-family: monospace;font-weight: bold;display: inline-block;line-height: 1.2em;}#sk-container-id-11 div.sk-label-container {text-align: center;}#sk-container-id-11 div.sk-container {/* jupyter's `normalize.less` sets `[hidden] { display: none; }` but bootstrap.min.css set `[hidden] { display: none !important; }` so we also need the `!important` here to be able to override the default hidden behavior on the sphinx rendered scikit-learn.org. See: https://github.com/scikit-learn/scikit-learn/issues/21755 */display: inline-block !important;position: relative;}#sk-container-id-11 div.sk-text-repr-fallback {display: none;}</style><div id=\"sk-container-id-11\" class=\"sk-top-container\"><div class=\"sk-text-repr-fallback\"><pre>DecisionTreeClassifier(random_state=2021)</pre><b>In a Jupyter environment, please rerun this cell to show the HTML representation or trust the notebook. <br />On GitHub, the HTML representation is unable to render, please try loading this page with nbviewer.org.</b></div><div class=\"sk-container\" hidden><div class=\"sk-item\"><div class=\"sk-estimator sk-toggleable\"><input class=\"sk-toggleable__control sk-hidden--visually\" id=\"sk-estimator-id-17\" type=\"checkbox\" checked><label for=\"sk-estimator-id-17\" class=\"sk-toggleable__label sk-toggleable__label-arrow\">DecisionTreeClassifier</label><div class=\"sk-toggleable__content\"><pre>DecisionTreeClassifier(random_state=2021)</pre></div></div></div></div></div>"
      ],
      "text/plain": [
       "DecisionTreeClassifier(random_state=2021)"
      ]
     },
     "execution_count": 221,
     "metadata": {},
     "output_type": "execute_result"
    }
   ],
   "source": [
    "dt_model.fit(X_train, y_train)"
   ]
  },
  {
   "cell_type": "code",
   "execution_count": 222,
   "metadata": {},
   "outputs": [],
   "source": [
    "decision_tree_predictions = dt_model.predict(X_test)"
   ]
  },
  {
   "cell_type": "code",
   "execution_count": 223,
   "metadata": {},
   "outputs": [
    {
     "name": "stdout",
     "output_type": "stream",
     "text": [
      "              precision    recall  f1-score   support\n",
      "\n",
      "           0       0.97      0.96      0.97      2320\n",
      "           1       0.38      0.43      0.41       140\n",
      "           2       0.53      0.51      0.52       304\n",
      "           3       0.61      0.64      0.62       295\n",
      "           4       0.72      0.71      0.72       166\n",
      "\n",
      "    accuracy                           0.86      3225\n",
      "   macro avg       0.64      0.65      0.65      3225\n",
      "weighted avg       0.86      0.86      0.86      3225\n",
      "\n"
     ]
    }
   ],
   "source": [
    "print(classification_report(y_test, decision_tree_predictions))"
   ]
  },
  {
   "cell_type": "code",
   "execution_count": 224,
   "metadata": {},
   "outputs": [
    {
     "name": "stdout",
     "output_type": "stream",
     "text": [
      "Fitting 5 folds for each of 20 candidates, totalling 100 fits\n"
     ]
    },
    {
     "data": {
      "text/html": [
       "<style>#sk-container-id-12 {color: black;}#sk-container-id-12 pre{padding: 0;}#sk-container-id-12 div.sk-toggleable {background-color: white;}#sk-container-id-12 label.sk-toggleable__label {cursor: pointer;display: block;width: 100%;margin-bottom: 0;padding: 0.3em;box-sizing: border-box;text-align: center;}#sk-container-id-12 label.sk-toggleable__label-arrow:before {content: \"▸\";float: left;margin-right: 0.25em;color: #696969;}#sk-container-id-12 label.sk-toggleable__label-arrow:hover:before {color: black;}#sk-container-id-12 div.sk-estimator:hover label.sk-toggleable__label-arrow:before {color: black;}#sk-container-id-12 div.sk-toggleable__content {max-height: 0;max-width: 0;overflow: hidden;text-align: left;background-color: #f0f8ff;}#sk-container-id-12 div.sk-toggleable__content pre {margin: 0.2em;color: black;border-radius: 0.25em;background-color: #f0f8ff;}#sk-container-id-12 input.sk-toggleable__control:checked~div.sk-toggleable__content {max-height: 200px;max-width: 100%;overflow: auto;}#sk-container-id-12 input.sk-toggleable__control:checked~label.sk-toggleable__label-arrow:before {content: \"▾\";}#sk-container-id-12 div.sk-estimator input.sk-toggleable__control:checked~label.sk-toggleable__label {background-color: #d4ebff;}#sk-container-id-12 div.sk-label input.sk-toggleable__control:checked~label.sk-toggleable__label {background-color: #d4ebff;}#sk-container-id-12 input.sk-hidden--visually {border: 0;clip: rect(1px 1px 1px 1px);clip: rect(1px, 1px, 1px, 1px);height: 1px;margin: -1px;overflow: hidden;padding: 0;position: absolute;width: 1px;}#sk-container-id-12 div.sk-estimator {font-family: monospace;background-color: #f0f8ff;border: 1px dotted black;border-radius: 0.25em;box-sizing: border-box;margin-bottom: 0.5em;}#sk-container-id-12 div.sk-estimator:hover {background-color: #d4ebff;}#sk-container-id-12 div.sk-parallel-item::after {content: \"\";width: 100%;border-bottom: 1px solid gray;flex-grow: 1;}#sk-container-id-12 div.sk-label:hover label.sk-toggleable__label {background-color: #d4ebff;}#sk-container-id-12 div.sk-serial::before {content: \"\";position: absolute;border-left: 1px solid gray;box-sizing: border-box;top: 0;bottom: 0;left: 50%;z-index: 0;}#sk-container-id-12 div.sk-serial {display: flex;flex-direction: column;align-items: center;background-color: white;padding-right: 0.2em;padding-left: 0.2em;position: relative;}#sk-container-id-12 div.sk-item {position: relative;z-index: 1;}#sk-container-id-12 div.sk-parallel {display: flex;align-items: stretch;justify-content: center;background-color: white;position: relative;}#sk-container-id-12 div.sk-item::before, #sk-container-id-12 div.sk-parallel-item::before {content: \"\";position: absolute;border-left: 1px solid gray;box-sizing: border-box;top: 0;bottom: 0;left: 50%;z-index: -1;}#sk-container-id-12 div.sk-parallel-item {display: flex;flex-direction: column;z-index: 1;position: relative;background-color: white;}#sk-container-id-12 div.sk-parallel-item:first-child::after {align-self: flex-end;width: 50%;}#sk-container-id-12 div.sk-parallel-item:last-child::after {align-self: flex-start;width: 50%;}#sk-container-id-12 div.sk-parallel-item:only-child::after {width: 0;}#sk-container-id-12 div.sk-dashed-wrapped {border: 1px dashed gray;margin: 0 0.4em 0.5em 0.4em;box-sizing: border-box;padding-bottom: 0.4em;background-color: white;}#sk-container-id-12 div.sk-label label {font-family: monospace;font-weight: bold;display: inline-block;line-height: 1.2em;}#sk-container-id-12 div.sk-label-container {text-align: center;}#sk-container-id-12 div.sk-container {/* jupyter's `normalize.less` sets `[hidden] { display: none; }` but bootstrap.min.css set `[hidden] { display: none !important; }` so we also need the `!important` here to be able to override the default hidden behavior on the sphinx rendered scikit-learn.org. See: https://github.com/scikit-learn/scikit-learn/issues/21755 */display: inline-block !important;position: relative;}#sk-container-id-12 div.sk-text-repr-fallback {display: none;}</style><div id=\"sk-container-id-12\" class=\"sk-top-container\"><div class=\"sk-text-repr-fallback\"><pre>GridSearchCV(estimator=DecisionTreeClassifier(random_state=2021),\n",
       "             param_grid={&#x27;criterion&#x27;: [&#x27;gini&#x27;, &#x27;entropy&#x27;],\n",
       "                         &#x27;max_depth&#x27;: [1, 2, 3, 4, 5, 6, 7, 8, 9, 10]},\n",
       "             verbose=True)</pre><b>In a Jupyter environment, please rerun this cell to show the HTML representation or trust the notebook. <br />On GitHub, the HTML representation is unable to render, please try loading this page with nbviewer.org.</b></div><div class=\"sk-container\" hidden><div class=\"sk-item sk-dashed-wrapped\"><div class=\"sk-label-container\"><div class=\"sk-label sk-toggleable\"><input class=\"sk-toggleable__control sk-hidden--visually\" id=\"sk-estimator-id-18\" type=\"checkbox\" ><label for=\"sk-estimator-id-18\" class=\"sk-toggleable__label sk-toggleable__label-arrow\">GridSearchCV</label><div class=\"sk-toggleable__content\"><pre>GridSearchCV(estimator=DecisionTreeClassifier(random_state=2021),\n",
       "             param_grid={&#x27;criterion&#x27;: [&#x27;gini&#x27;, &#x27;entropy&#x27;],\n",
       "                         &#x27;max_depth&#x27;: [1, 2, 3, 4, 5, 6, 7, 8, 9, 10]},\n",
       "             verbose=True)</pre></div></div></div><div class=\"sk-parallel\"><div class=\"sk-parallel-item\"><div class=\"sk-item\"><div class=\"sk-label-container\"><div class=\"sk-label sk-toggleable\"><input class=\"sk-toggleable__control sk-hidden--visually\" id=\"sk-estimator-id-19\" type=\"checkbox\" ><label for=\"sk-estimator-id-19\" class=\"sk-toggleable__label sk-toggleable__label-arrow\">estimator: DecisionTreeClassifier</label><div class=\"sk-toggleable__content\"><pre>DecisionTreeClassifier(random_state=2021)</pre></div></div></div><div class=\"sk-serial\"><div class=\"sk-item\"><div class=\"sk-estimator sk-toggleable\"><input class=\"sk-toggleable__control sk-hidden--visually\" id=\"sk-estimator-id-20\" type=\"checkbox\" ><label for=\"sk-estimator-id-20\" class=\"sk-toggleable__label sk-toggleable__label-arrow\">DecisionTreeClassifier</label><div class=\"sk-toggleable__content\"><pre>DecisionTreeClassifier(random_state=2021)</pre></div></div></div></div></div></div></div></div></div></div>"
      ],
      "text/plain": [
       "GridSearchCV(estimator=DecisionTreeClassifier(random_state=2021),\n",
       "             param_grid={'criterion': ['gini', 'entropy'],\n",
       "                         'max_depth': [1, 2, 3, 4, 5, 6, 7, 8, 9, 10]},\n",
       "             verbose=True)"
      ]
     },
     "execution_count": 224,
     "metadata": {},
     "output_type": "execute_result"
    }
   ],
   "source": [
    "param_grid = {'criterion': ['gini', 'entropy'], 'max_depth' : [1,2,3,4,5,6,7,8,9,10]}\n",
    "estimator_dt = DecisionTreeClassifier(random_state=2021)\n",
    "grid_dt = GridSearchCV(estimator_dt, param_grid, refit=True, verbose=True)\n",
    "\n",
    "grid_dt.fit(X_train, y_train)"
   ]
  },
  {
   "cell_type": "code",
   "execution_count": 225,
   "metadata": {},
   "outputs": [],
   "source": [
    "grid_dt_predictions = grid_dt.predict(X_test)"
   ]
  },
  {
   "cell_type": "code",
   "execution_count": 226,
   "metadata": {},
   "outputs": [
    {
     "name": "stdout",
     "output_type": "stream",
     "text": [
      "              precision    recall  f1-score   support\n",
      "\n",
      "           0       0.97      0.97      0.97      2320\n",
      "           1       0.43      0.18      0.25       140\n",
      "           2       0.54      0.70      0.61       304\n",
      "           3       0.55      0.68      0.61       295\n",
      "           4       0.78      0.37      0.50       166\n",
      "\n",
      "    accuracy                           0.86      3225\n",
      "   macro avg       0.65      0.58      0.59      3225\n",
      "weighted avg       0.86      0.86      0.85      3225\n",
      "\n"
     ]
    }
   ],
   "source": [
    "print(classification_report(y_test, grid_dt_predictions))"
   ]
  },
  {
   "cell_type": "markdown",
   "metadata": {},
   "source": [
    "### Random Forest"
   ]
  },
  {
   "cell_type": "code",
   "execution_count": 227,
   "metadata": {},
   "outputs": [],
   "source": [
    "#param_grid = {\n",
    "#    'n_estimators': [100, 200],\n",
    "#    'max_depth': [4,5,6,7,8,9,10],\n",
    "#    'min_samples_split': [2, 5, 10],\n",
    "#    'min_samples_leaf': [1, 2, 4],\n",
    "#    'max_features': ['auto', 'sqrt', 'log2']\n",
    "#}"
   ]
  },
  {
   "cell_type": "code",
   "execution_count": 228,
   "metadata": {},
   "outputs": [],
   "source": [
    "#grid_search = GridSearchCV(estimator=RandomForestClassifier(random_state=2021),\n",
    "#                           param_grid=param_grid,\n",
    "#                           cv=5,\n",
    "#                           scoring='accuracy',\n",
    "#                           n_jobs=-1)"
   ]
  },
  {
   "cell_type": "code",
   "execution_count": 229,
   "metadata": {},
   "outputs": [],
   "source": [
    "#grid_search.fit(X_train, y_train)"
   ]
  },
  {
   "cell_type": "code",
   "execution_count": 230,
   "metadata": {},
   "outputs": [],
   "source": [
    "#best_rf = grid_search.best_estimator_"
   ]
  },
  {
   "cell_type": "code",
   "execution_count": 231,
   "metadata": {},
   "outputs": [],
   "source": [
    "#best_rf_predictions = best_rf.predict(X_test)"
   ]
  },
  {
   "cell_type": "code",
   "execution_count": 232,
   "metadata": {},
   "outputs": [],
   "source": [
    "#print(classification_report(y_test, best_rf_predictions))"
   ]
  },
  {
   "cell_type": "markdown",
   "metadata": {},
   "source": [
    "MLP"
   ]
  },
  {
   "cell_type": "code",
   "execution_count": 76,
   "metadata": {},
   "outputs": [],
   "source": [
    "from tensorflow.keras.callbacks import EarlyStopping"
   ]
  },
  {
   "cell_type": "code",
   "execution_count": 77,
   "metadata": {},
   "outputs": [
    {
     "data": {
      "text/html": [
       "<div>\n",
       "<style scoped>\n",
       "    .dataframe tbody tr th:only-of-type {\n",
       "        vertical-align: middle;\n",
       "    }\n",
       "\n",
       "    .dataframe tbody tr th {\n",
       "        vertical-align: top;\n",
       "    }\n",
       "\n",
       "    .dataframe thead th {\n",
       "        text-align: right;\n",
       "    }\n",
       "</style>\n",
       "<table border=\"1\" class=\"dataframe\">\n",
       "  <thead>\n",
       "    <tr style=\"text-align: right;\">\n",
       "      <th></th>\n",
       "      <th>Normal (kWh)</th>\n",
       "      <th>Horário Económico (kWh)</th>\n",
       "      <th>Autoconsumo (kWh)</th>\n",
       "      <th>Temperatura (ºC)</th>\n",
       "      <th>Pressão Atmosférica (atm)</th>\n",
       "      <th>Humidade (%)</th>\n",
       "      <th>Valor médio de precipitação</th>\n",
       "      <th>Nível de nebulosidade (%)</th>\n",
       "      <th>Year</th>\n",
       "      <th>Month</th>\n",
       "      <th>Day</th>\n",
       "      <th>Hour</th>\n",
       "    </tr>\n",
       "  </thead>\n",
       "  <tbody>\n",
       "    <tr>\n",
       "      <th>10581</th>\n",
       "      <td>0.000000</td>\n",
       "      <td>0.037976</td>\n",
       "      <td>0.000000</td>\n",
       "      <td>0.397216</td>\n",
       "      <td>0.475</td>\n",
       "      <td>0.9125</td>\n",
       "      <td>0.451007</td>\n",
       "      <td>1.00</td>\n",
       "      <td>1.0</td>\n",
       "      <td>1.000000</td>\n",
       "      <td>0.800000</td>\n",
       "      <td>0.086957</td>\n",
       "    </tr>\n",
       "    <tr>\n",
       "      <th>2266</th>\n",
       "      <td>0.152568</td>\n",
       "      <td>0.000000</td>\n",
       "      <td>0.457215</td>\n",
       "      <td>0.448041</td>\n",
       "      <td>0.750</td>\n",
       "      <td>0.5500</td>\n",
       "      <td>0.000000</td>\n",
       "      <td>0.93</td>\n",
       "      <td>1.0</td>\n",
       "      <td>0.000000</td>\n",
       "      <td>0.000000</td>\n",
       "      <td>0.434783</td>\n",
       "    </tr>\n",
       "    <tr>\n",
       "      <th>185</th>\n",
       "      <td>0.105814</td>\n",
       "      <td>0.000000</td>\n",
       "      <td>0.214765</td>\n",
       "      <td>0.749433</td>\n",
       "      <td>0.700</td>\n",
       "      <td>0.5125</td>\n",
       "      <td>0.000000</td>\n",
       "      <td>0.00</td>\n",
       "      <td>0.0</td>\n",
       "      <td>0.818182</td>\n",
       "      <td>0.166667</td>\n",
       "      <td>0.739130</td>\n",
       "    </tr>\n",
       "    <tr>\n",
       "      <th>3008</th>\n",
       "      <td>0.000000</td>\n",
       "      <td>0.000000</td>\n",
       "      <td>0.260067</td>\n",
       "      <td>0.395921</td>\n",
       "      <td>0.975</td>\n",
       "      <td>0.2875</td>\n",
       "      <td>0.000000</td>\n",
       "      <td>0.00</td>\n",
       "      <td>1.0</td>\n",
       "      <td>0.090909</td>\n",
       "      <td>0.000000</td>\n",
       "      <td>0.478261</td>\n",
       "    </tr>\n",
       "    <tr>\n",
       "      <th>1875</th>\n",
       "      <td>0.000000</td>\n",
       "      <td>0.043136</td>\n",
       "      <td>0.000000</td>\n",
       "      <td>0.211072</td>\n",
       "      <td>0.750</td>\n",
       "      <td>0.7375</td>\n",
       "      <td>0.000000</td>\n",
       "      <td>0.01</td>\n",
       "      <td>0.0</td>\n",
       "      <td>1.000000</td>\n",
       "      <td>0.500000</td>\n",
       "      <td>0.130435</td>\n",
       "    </tr>\n",
       "    <tr>\n",
       "      <th>...</th>\n",
       "      <td>...</td>\n",
       "      <td>...</td>\n",
       "      <td>...</td>\n",
       "      <td>...</td>\n",
       "      <td>...</td>\n",
       "      <td>...</td>\n",
       "      <td>...</td>\n",
       "      <td>...</td>\n",
       "      <td>...</td>\n",
       "      <td>...</td>\n",
       "      <td>...</td>\n",
       "      <td>...</td>\n",
       "    </tr>\n",
       "    <tr>\n",
       "      <th>599</th>\n",
       "      <td>0.173177</td>\n",
       "      <td>0.000000</td>\n",
       "      <td>0.000000</td>\n",
       "      <td>0.388152</td>\n",
       "      <td>0.725</td>\n",
       "      <td>0.8125</td>\n",
       "      <td>0.000000</td>\n",
       "      <td>0.00</td>\n",
       "      <td>0.0</td>\n",
       "      <td>0.818182</td>\n",
       "      <td>0.733333</td>\n",
       "      <td>1.000000</td>\n",
       "    </tr>\n",
       "    <tr>\n",
       "      <th>5695</th>\n",
       "      <td>0.029529</td>\n",
       "      <td>0.000000</td>\n",
       "      <td>0.354027</td>\n",
       "      <td>0.505018</td>\n",
       "      <td>0.600</td>\n",
       "      <td>0.5625</td>\n",
       "      <td>0.000000</td>\n",
       "      <td>0.50</td>\n",
       "      <td>1.0</td>\n",
       "      <td>0.363636</td>\n",
       "      <td>0.766667</td>\n",
       "      <td>0.652174</td>\n",
       "    </tr>\n",
       "    <tr>\n",
       "      <th>8006</th>\n",
       "      <td>0.000000</td>\n",
       "      <td>0.043422</td>\n",
       "      <td>0.000000</td>\n",
       "      <td>0.497896</td>\n",
       "      <td>0.550</td>\n",
       "      <td>0.9250</td>\n",
       "      <td>0.016107</td>\n",
       "      <td>1.00</td>\n",
       "      <td>1.0</td>\n",
       "      <td>0.727273</td>\n",
       "      <td>0.233333</td>\n",
       "      <td>0.304348</td>\n",
       "    </tr>\n",
       "    <tr>\n",
       "      <th>1361</th>\n",
       "      <td>0.158720</td>\n",
       "      <td>0.000000</td>\n",
       "      <td>0.000000</td>\n",
       "      <td>0.340240</td>\n",
       "      <td>0.550</td>\n",
       "      <td>0.6750</td>\n",
       "      <td>0.000000</td>\n",
       "      <td>0.22</td>\n",
       "      <td>0.0</td>\n",
       "      <td>0.909091</td>\n",
       "      <td>0.766667</td>\n",
       "      <td>0.739130</td>\n",
       "    </tr>\n",
       "    <tr>\n",
       "      <th>1547</th>\n",
       "      <td>0.109812</td>\n",
       "      <td>0.000000</td>\n",
       "      <td>0.557886</td>\n",
       "      <td>0.288443</td>\n",
       "      <td>0.725</td>\n",
       "      <td>0.6875</td>\n",
       "      <td>0.000000</td>\n",
       "      <td>0.19</td>\n",
       "      <td>0.0</td>\n",
       "      <td>1.000000</td>\n",
       "      <td>0.033333</td>\n",
       "      <td>0.478261</td>\n",
       "    </tr>\n",
       "  </tbody>\n",
       "</table>\n",
       "<p>7522 rows × 12 columns</p>\n",
       "</div>"
      ],
      "text/plain": [
       "       Normal (kWh)  Horário Económico (kWh)  Autoconsumo (kWh)  \\\n",
       "10581      0.000000                 0.037976           0.000000   \n",
       "2266       0.152568                 0.000000           0.457215   \n",
       "185        0.105814                 0.000000           0.214765   \n",
       "3008       0.000000                 0.000000           0.260067   \n",
       "1875       0.000000                 0.043136           0.000000   \n",
       "...             ...                      ...                ...   \n",
       "599        0.173177                 0.000000           0.000000   \n",
       "5695       0.029529                 0.000000           0.354027   \n",
       "8006       0.000000                 0.043422           0.000000   \n",
       "1361       0.158720                 0.000000           0.000000   \n",
       "1547       0.109812                 0.000000           0.557886   \n",
       "\n",
       "       Temperatura (ºC)  Pressão Atmosférica (atm)  Humidade (%)  \\\n",
       "10581          0.397216                      0.475        0.9125   \n",
       "2266           0.448041                      0.750        0.5500   \n",
       "185            0.749433                      0.700        0.5125   \n",
       "3008           0.395921                      0.975        0.2875   \n",
       "1875           0.211072                      0.750        0.7375   \n",
       "...                 ...                        ...           ...   \n",
       "599            0.388152                      0.725        0.8125   \n",
       "5695           0.505018                      0.600        0.5625   \n",
       "8006           0.497896                      0.550        0.9250   \n",
       "1361           0.340240                      0.550        0.6750   \n",
       "1547           0.288443                      0.725        0.6875   \n",
       "\n",
       "       Valor médio de precipitação  Nível de nebulosidade (%)  Year     Month  \\\n",
       "10581                     0.451007                       1.00   1.0  1.000000   \n",
       "2266                      0.000000                       0.93   1.0  0.000000   \n",
       "185                       0.000000                       0.00   0.0  0.818182   \n",
       "3008                      0.000000                       0.00   1.0  0.090909   \n",
       "1875                      0.000000                       0.01   0.0  1.000000   \n",
       "...                            ...                        ...   ...       ...   \n",
       "599                       0.000000                       0.00   0.0  0.818182   \n",
       "5695                      0.000000                       0.50   1.0  0.363636   \n",
       "8006                      0.016107                       1.00   1.0  0.727273   \n",
       "1361                      0.000000                       0.22   0.0  0.909091   \n",
       "1547                      0.000000                       0.19   0.0  1.000000   \n",
       "\n",
       "            Day      Hour  \n",
       "10581  0.800000  0.086957  \n",
       "2266   0.000000  0.434783  \n",
       "185    0.166667  0.739130  \n",
       "3008   0.000000  0.478261  \n",
       "1875   0.500000  0.130435  \n",
       "...         ...       ...  \n",
       "599    0.733333  1.000000  \n",
       "5695   0.766667  0.652174  \n",
       "8006   0.233333  0.304348  \n",
       "1361   0.766667  0.739130  \n",
       "1547   0.033333  0.478261  \n",
       "\n",
       "[7522 rows x 12 columns]"
      ]
     },
     "execution_count": 77,
     "metadata": {},
     "output_type": "execute_result"
    }
   ],
   "source": [
    "scaler_X = MinMaxScaler(feature_range=(0, 1)).fit(X)\n",
    "X_scaled = pd.DataFrame(scaler_X.transform(X[X.columns]), columns=X.columns)\n",
    "\n",
    "\n",
    "X_train, X_test, y_train, y_test = train_test_split(X_scaled, y, test_size=0.3, random_state=101)\n",
    "X_train"
   ]
  },
  {
   "cell_type": "code",
   "execution_count": 234,
   "metadata": {},
   "outputs": [],
   "source": [
    "\"\"\"def create_model(optimizer='adam', activation='relu', neurons=64):\n",
    "    model = Sequential()\n",
    "    model.add(Dense(neurons, input_dim=X_train.shape[1], activation=activation))\n",
    "    neurons = neurons / 2\n",
    "    while neurons > 1:\n",
    "        model.add(Dense(neurons, activation=activation))\n",
    "        neurons = neurons / 2\n",
    "    model.add(Dense(1, activation='softmax'))\n",
    "    model.compile(loss='categorical_crossentropy', optimizer=optimizer, metrics=['accuracy'])\n",
    "    return model\"\"\""
   ]
  },
  {
   "cell_type": "code",
   "execution_count": 78,
   "metadata": {},
   "outputs": [
    {
     "data": {
      "text/plain": [
       "12"
      ]
     },
     "execution_count": 78,
     "metadata": {},
     "output_type": "execute_result"
    }
   ],
   "source": [
    "X_scaled.shape[1]"
   ]
  },
  {
   "cell_type": "code",
   "execution_count": 79,
   "metadata": {},
   "outputs": [],
   "source": [
    "params = {'activation': ['relu', 'sigmoid', 'tanh', 'softmax', 'elu', 'leaky_relu'],\n",
    "          'optimizer': ['adam', 'sgd', 'rmsprop', 'adagrad', 'nadam']}\n",
    "#tf.optimizers.adam(learning_rate)"
   ]
  },
  {
   "cell_type": "code",
   "execution_count": 93,
   "metadata": {},
   "outputs": [],
   "source": [
    "def build_model(activation='relu', learning_rate=0.001):\n",
    "    model = Sequential()\n",
    "    model.add(Dense(24, input_dim=X_scaled.shape[1], activation=activation))\n",
    "    model.add(Dense(24, activation=activation))\n",
    "    model.add(Dense(5, activation='softmax'))  # Output layer - 5 classes\n",
    "\n",
    "    # Compile the model\n",
    "    model.compile(loss='sparse_categorical_crossentropy', optimizer=keras.optimizers.Nadam(learning_rate), metrics=['accuracy'])\n",
    "    return model"
   ]
  },
  {
   "cell_type": "code",
   "execution_count": 94,
   "metadata": {},
   "outputs": [],
   "source": [
    "model = KerasClassifier(build_fn=build_model, epochs=150, batch_size=32, verbose=0, random_state=2023)"
   ]
  },
  {
   "cell_type": "code",
   "execution_count": 95,
   "metadata": {},
   "outputs": [
    {
     "name": "stdout",
     "output_type": "stream",
     "text": [
      "Epoch 1/150\n"
     ]
    },
    {
     "name": "stderr",
     "output_type": "stream",
     "text": [
      "c:\\Users\\mgdsb\\miniconda3\\envs\\miniConda\\lib\\site-packages\\scikeras\\wrappers.py:915: UserWarning: ``build_fn`` will be renamed to ``model`` in a future release, at which point use of ``build_fn`` will raise an Error instead.\n",
      "  X, y = self._initialize(X, y)\n"
     ]
    },
    {
     "name": "stdout",
     "output_type": "stream",
     "text": [
      "236/236 - 1s - loss: 1.0767 - accuracy: 0.6791 - val_loss: 0.8034 - val_accuracy: 0.7194 - 917ms/epoch - 4ms/step\n",
      "Epoch 2/150\n",
      "236/236 - 0s - loss: 0.8235 - accuracy: 0.7223 - val_loss: 0.6552 - val_accuracy: 0.7212 - 235ms/epoch - 996us/step\n",
      "Epoch 3/150\n",
      "236/236 - 0s - loss: 0.6907 - accuracy: 0.7353 - val_loss: 0.5593 - val_accuracy: 0.7730 - 234ms/epoch - 991us/step\n",
      "Epoch 4/150\n",
      "236/236 - 0s - loss: 0.6012 - accuracy: 0.7635 - val_loss: 0.5164 - val_accuracy: 0.7916 - 228ms/epoch - 965us/step\n",
      "Epoch 5/150\n",
      "236/236 - 0s - loss: 0.5537 - accuracy: 0.7729 - val_loss: 0.4970 - val_accuracy: 0.7941 - 254ms/epoch - 1ms/step\n",
      "Epoch 6/150\n",
      "236/236 - 0s - loss: 0.5328 - accuracy: 0.7797 - val_loss: 0.4874 - val_accuracy: 0.7997 - 227ms/epoch - 964us/step\n",
      "Epoch 7/150\n",
      "236/236 - 0s - loss: 0.5176 - accuracy: 0.7842 - val_loss: 0.4762 - val_accuracy: 0.8053 - 225ms/epoch - 956us/step\n",
      "Epoch 8/150\n",
      "236/236 - 0s - loss: 0.5021 - accuracy: 0.7922 - val_loss: 0.4702 - val_accuracy: 0.8037 - 234ms/epoch - 991us/step\n",
      "Epoch 9/150\n",
      "236/236 - 0s - loss: 0.4946 - accuracy: 0.7957 - val_loss: 0.4628 - val_accuracy: 0.8102 - 231ms/epoch - 979us/step\n",
      "Epoch 10/150\n",
      "236/236 - 0s - loss: 0.4868 - accuracy: 0.7970 - val_loss: 0.4587 - val_accuracy: 0.8121 - 231ms/epoch - 977us/step\n",
      "Epoch 11/150\n",
      "236/236 - 0s - loss: 0.4800 - accuracy: 0.7969 - val_loss: 0.4560 - val_accuracy: 0.8136 - 229ms/epoch - 971us/step\n",
      "Epoch 12/150\n",
      "236/236 - 0s - loss: 0.4726 - accuracy: 0.8024 - val_loss: 0.4514 - val_accuracy: 0.8130 - 229ms/epoch - 972us/step\n",
      "Epoch 13/150\n",
      "236/236 - 0s - loss: 0.4669 - accuracy: 0.8072 - val_loss: 0.4446 - val_accuracy: 0.8167 - 224ms/epoch - 949us/step\n",
      "Epoch 14/150\n",
      "236/236 - 0s - loss: 0.4596 - accuracy: 0.8115 - val_loss: 0.4378 - val_accuracy: 0.8183 - 229ms/epoch - 969us/step\n",
      "Epoch 15/150\n",
      "236/236 - 0s - loss: 0.4511 - accuracy: 0.8087 - val_loss: 0.4344 - val_accuracy: 0.8195 - 228ms/epoch - 965us/step\n",
      "Epoch 16/150\n",
      "236/236 - 0s - loss: 0.4500 - accuracy: 0.8098 - val_loss: 0.4294 - val_accuracy: 0.8155 - 222ms/epoch - 942us/step\n",
      "Epoch 17/150\n",
      "236/236 - 0s - loss: 0.4410 - accuracy: 0.8152 - val_loss: 0.4239 - val_accuracy: 0.8198 - 231ms/epoch - 979us/step\n",
      "Epoch 18/150\n",
      "236/236 - 0s - loss: 0.4404 - accuracy: 0.8116 - val_loss: 0.4199 - val_accuracy: 0.8239 - 229ms/epoch - 968us/step\n",
      "Epoch 19/150\n",
      "236/236 - 0s - loss: 0.4344 - accuracy: 0.8141 - val_loss: 0.4156 - val_accuracy: 0.8245 - 229ms/epoch - 972us/step\n",
      "Epoch 20/150\n",
      "236/236 - 0s - loss: 0.4410 - accuracy: 0.8119 - val_loss: 0.4135 - val_accuracy: 0.8233 - 230ms/epoch - 975us/step\n",
      "Epoch 21/150\n",
      "236/236 - 0s - loss: 0.4335 - accuracy: 0.8165 - val_loss: 0.4091 - val_accuracy: 0.8245 - 225ms/epoch - 954us/step\n",
      "Epoch 22/150\n",
      "236/236 - 0s - loss: 0.4281 - accuracy: 0.8188 - val_loss: 0.4042 - val_accuracy: 0.8288 - 230ms/epoch - 976us/step\n",
      "Epoch 23/150\n",
      "236/236 - 0s - loss: 0.4307 - accuracy: 0.8199 - val_loss: 0.4042 - val_accuracy: 0.8242 - 228ms/epoch - 965us/step\n",
      "Epoch 24/150\n",
      "236/236 - 0s - loss: 0.4194 - accuracy: 0.8223 - val_loss: 0.3996 - val_accuracy: 0.8254 - 225ms/epoch - 954us/step\n",
      "Epoch 25/150\n",
      "236/236 - 0s - loss: 0.4235 - accuracy: 0.8184 - val_loss: 0.4000 - val_accuracy: 0.8288 - 224ms/epoch - 948us/step\n",
      "Epoch 26/150\n",
      "236/236 - 0s - loss: 0.4211 - accuracy: 0.8196 - val_loss: 0.4001 - val_accuracy: 0.8236 - 224ms/epoch - 950us/step\n",
      "Epoch 27/150\n",
      "236/236 - 0s - loss: 0.4178 - accuracy: 0.8212 - val_loss: 0.3965 - val_accuracy: 0.8257 - 229ms/epoch - 969us/step\n",
      "Epoch 28/150\n",
      "236/236 - 0s - loss: 0.4167 - accuracy: 0.8239 - val_loss: 0.3956 - val_accuracy: 0.8251 - 228ms/epoch - 968us/step\n",
      "Epoch 29/150\n",
      "236/236 - 0s - loss: 0.4114 - accuracy: 0.8223 - val_loss: 0.3895 - val_accuracy: 0.8260 - 229ms/epoch - 970us/step\n",
      "Epoch 30/150\n",
      "236/236 - 0s - loss: 0.4149 - accuracy: 0.8220 - val_loss: 0.3922 - val_accuracy: 0.8233 - 229ms/epoch - 971us/step\n",
      "Epoch 31/150\n",
      "236/236 - 0s - loss: 0.4113 - accuracy: 0.8187 - val_loss: 0.3837 - val_accuracy: 0.8257 - 234ms/epoch - 994us/step\n",
      "Epoch 32/150\n",
      "236/236 - 0s - loss: 0.4148 - accuracy: 0.8215 - val_loss: 0.3841 - val_accuracy: 0.8267 - 233ms/epoch - 986us/step\n",
      "Epoch 33/150\n",
      "236/236 - 0s - loss: 0.4080 - accuracy: 0.8245 - val_loss: 0.3874 - val_accuracy: 0.8254 - 228ms/epoch - 965us/step\n",
      "Epoch 34/150\n",
      "236/236 - 0s - loss: 0.4130 - accuracy: 0.8258 - val_loss: 0.3851 - val_accuracy: 0.8267 - 236ms/epoch - 1ms/step\n",
      "Epoch 35/150\n",
      "236/236 - 0s - loss: 0.4032 - accuracy: 0.8235 - val_loss: 0.3850 - val_accuracy: 0.8251 - 238ms/epoch - 1ms/step\n",
      "Epoch 36/150\n",
      "236/236 - 0s - loss: 0.4030 - accuracy: 0.8209 - val_loss: 0.3805 - val_accuracy: 0.8260 - 233ms/epoch - 989us/step\n",
      "Epoch 37/150\n",
      "236/236 - 0s - loss: 0.4054 - accuracy: 0.8211 - val_loss: 0.3838 - val_accuracy: 0.8226 - 231ms/epoch - 977us/step\n",
      "Epoch 38/150\n",
      "236/236 - 0s - loss: 0.4065 - accuracy: 0.8264 - val_loss: 0.3814 - val_accuracy: 0.8233 - 230ms/epoch - 973us/step\n",
      "Epoch 39/150\n",
      "236/236 - 0s - loss: 0.4071 - accuracy: 0.8219 - val_loss: 0.3783 - val_accuracy: 0.8248 - 230ms/epoch - 975us/step\n",
      "Epoch 40/150\n",
      "236/236 - 0s - loss: 0.3981 - accuracy: 0.8250 - val_loss: 0.3840 - val_accuracy: 0.8214 - 228ms/epoch - 968us/step\n",
      "Epoch 41/150\n",
      "236/236 - 0s - loss: 0.4010 - accuracy: 0.8223 - val_loss: 0.3778 - val_accuracy: 0.8239 - 228ms/epoch - 967us/step\n",
      "Epoch 42/150\n",
      "236/236 - 0s - loss: 0.3973 - accuracy: 0.8269 - val_loss: 0.3809 - val_accuracy: 0.8239 - 232ms/epoch - 984us/step\n",
      "Epoch 43/150\n",
      "236/236 - 0s - loss: 0.3942 - accuracy: 0.8252 - val_loss: 0.3768 - val_accuracy: 0.8267 - 229ms/epoch - 970us/step\n",
      "Epoch 44/150\n",
      "236/236 - 0s - loss: 0.3962 - accuracy: 0.8273 - val_loss: 0.3801 - val_accuracy: 0.8260 - 232ms/epoch - 982us/step\n",
      "Epoch 45/150\n",
      "236/236 - 0s - loss: 0.4003 - accuracy: 0.8220 - val_loss: 0.3755 - val_accuracy: 0.8279 - 229ms/epoch - 971us/step\n",
      "Epoch 46/150\n",
      "236/236 - 0s - loss: 0.3988 - accuracy: 0.8246 - val_loss: 0.3814 - val_accuracy: 0.8202 - 229ms/epoch - 971us/step\n",
      "Epoch 47/150\n",
      "236/236 - 0s - loss: 0.3939 - accuracy: 0.8286 - val_loss: 0.3737 - val_accuracy: 0.8279 - 231ms/epoch - 978us/step\n",
      "Epoch 48/150\n",
      "236/236 - 0s - loss: 0.3903 - accuracy: 0.8285 - val_loss: 0.3714 - val_accuracy: 0.8291 - 230ms/epoch - 976us/step\n",
      "Epoch 49/150\n",
      "236/236 - 0s - loss: 0.3986 - accuracy: 0.8229 - val_loss: 0.3776 - val_accuracy: 0.8233 - 229ms/epoch - 970us/step\n",
      "Epoch 50/150\n",
      "236/236 - 0s - loss: 0.3969 - accuracy: 0.8237 - val_loss: 0.3717 - val_accuracy: 0.8276 - 230ms/epoch - 975us/step\n",
      "Epoch 51/150\n",
      "236/236 - 0s - loss: 0.3957 - accuracy: 0.8276 - val_loss: 0.3715 - val_accuracy: 0.8239 - 228ms/epoch - 968us/step\n",
      "Epoch 52/150\n",
      "236/236 - 0s - loss: 0.3979 - accuracy: 0.8272 - val_loss: 0.3735 - val_accuracy: 0.8273 - 228ms/epoch - 966us/step\n",
      "Epoch 53/150\n",
      "236/236 - 0s - loss: 0.3880 - accuracy: 0.8297 - val_loss: 0.3752 - val_accuracy: 0.8260 - 232ms/epoch - 981us/step\n",
      "Epoch 54/150\n",
      "236/236 - 0s - loss: 0.3948 - accuracy: 0.8268 - val_loss: 0.3728 - val_accuracy: 0.8257 - 227ms/epoch - 964us/step\n",
      "Epoch 55/150\n",
      "236/236 - 0s - loss: 0.3876 - accuracy: 0.8289 - val_loss: 0.3719 - val_accuracy: 0.8248 - 228ms/epoch - 965us/step\n",
      "Epoch 56/150\n",
      "236/236 - 0s - loss: 0.3861 - accuracy: 0.8334 - val_loss: 0.3716 - val_accuracy: 0.8282 - 229ms/epoch - 968us/step\n",
      "Epoch 57/150\n",
      "236/236 - 0s - loss: 0.3890 - accuracy: 0.8290 - val_loss: 0.3714 - val_accuracy: 0.8276 - 229ms/epoch - 968us/step\n",
      "Epoch 58/150\n",
      "236/236 - 0s - loss: 0.3885 - accuracy: 0.8278 - val_loss: 0.3732 - val_accuracy: 0.8223 - 226ms/epoch - 957us/step\n",
      "Epoch 59/150\n",
      "236/236 - 0s - loss: 0.3914 - accuracy: 0.8278 - val_loss: 0.3680 - val_accuracy: 0.8264 - 227ms/epoch - 963us/step\n",
      "Epoch 60/150\n",
      "236/236 - 0s - loss: 0.3896 - accuracy: 0.8242 - val_loss: 0.3669 - val_accuracy: 0.8264 - 228ms/epoch - 966us/step\n",
      "Epoch 61/150\n",
      "236/236 - 0s - loss: 0.3889 - accuracy: 0.8312 - val_loss: 0.3677 - val_accuracy: 0.8242 - 225ms/epoch - 955us/step\n",
      "Epoch 62/150\n",
      "236/236 - 0s - loss: 0.3834 - accuracy: 0.8292 - val_loss: 0.3742 - val_accuracy: 0.8276 - 227ms/epoch - 960us/step\n",
      "Epoch 63/150\n",
      "236/236 - 0s - loss: 0.3848 - accuracy: 0.8284 - val_loss: 0.3694 - val_accuracy: 0.8239 - 225ms/epoch - 952us/step\n",
      "Epoch 64/150\n",
      "236/236 - 0s - loss: 0.3897 - accuracy: 0.8301 - val_loss: 0.3670 - val_accuracy: 0.8248 - 228ms/epoch - 964us/step\n",
      "Epoch 65/150\n",
      "236/236 - 0s - loss: 0.3844 - accuracy: 0.8301 - val_loss: 0.3670 - val_accuracy: 0.8245 - 226ms/epoch - 956us/step\n",
      "Epoch 66/150\n",
      "236/236 - 0s - loss: 0.3896 - accuracy: 0.8289 - val_loss: 0.3684 - val_accuracy: 0.8248 - 227ms/epoch - 963us/step\n",
      "Epoch 67/150\n",
      "236/236 - 0s - loss: 0.3927 - accuracy: 0.8280 - val_loss: 0.3700 - val_accuracy: 0.8214 - 228ms/epoch - 966us/step\n",
      "Epoch 68/150\n",
      "236/236 - 0s - loss: 0.3855 - accuracy: 0.8304 - val_loss: 0.3628 - val_accuracy: 0.8254 - 225ms/epoch - 955us/step\n",
      "Epoch 69/150\n",
      "236/236 - 0s - loss: 0.3787 - accuracy: 0.8300 - val_loss: 0.3660 - val_accuracy: 0.8267 - 229ms/epoch - 971us/step\n",
      "Epoch 70/150\n",
      "236/236 - 0s - loss: 0.3831 - accuracy: 0.8313 - val_loss: 0.3630 - val_accuracy: 0.8273 - 228ms/epoch - 967us/step\n",
      "Epoch 71/150\n",
      "236/236 - 0s - loss: 0.3787 - accuracy: 0.8324 - val_loss: 0.3631 - val_accuracy: 0.8276 - 228ms/epoch - 967us/step\n",
      "Epoch 72/150\n",
      "236/236 - 0s - loss: 0.3809 - accuracy: 0.8314 - val_loss: 0.3611 - val_accuracy: 0.8276 - 227ms/epoch - 961us/step\n",
      "Epoch 73/150\n",
      "236/236 - 0s - loss: 0.3785 - accuracy: 0.8336 - val_loss: 0.3658 - val_accuracy: 0.8270 - 225ms/epoch - 954us/step\n",
      "Epoch 74/150\n",
      "236/236 - 0s - loss: 0.3806 - accuracy: 0.8308 - val_loss: 0.3633 - val_accuracy: 0.8248 - 226ms/epoch - 959us/step\n",
      "Epoch 75/150\n",
      "236/236 - 0s - loss: 0.3826 - accuracy: 0.8310 - val_loss: 0.3633 - val_accuracy: 0.8273 - 232ms/epoch - 982us/step\n",
      "Epoch 76/150\n",
      "236/236 - 0s - loss: 0.3820 - accuracy: 0.8344 - val_loss: 0.3702 - val_accuracy: 0.8233 - 228ms/epoch - 965us/step\n",
      "Epoch 77/150\n",
      "236/236 - 0s - loss: 0.3819 - accuracy: 0.8325 - val_loss: 0.3623 - val_accuracy: 0.8264 - 226ms/epoch - 957us/step\n",
      "Epoch 78/150\n",
      "236/236 - 0s - loss: 0.3800 - accuracy: 0.8313 - val_loss: 0.3615 - val_accuracy: 0.8254 - 230ms/epoch - 974us/step\n",
      "Epoch 79/150\n",
      "236/236 - 0s - loss: 0.3842 - accuracy: 0.8284 - val_loss: 0.3627 - val_accuracy: 0.8270 - 228ms/epoch - 964us/step\n",
      "Epoch 80/150\n",
      "236/236 - 0s - loss: 0.3787 - accuracy: 0.8309 - val_loss: 0.3642 - val_accuracy: 0.8279 - 226ms/epoch - 956us/step\n",
      "Epoch 81/150\n",
      "236/236 - 0s - loss: 0.3832 - accuracy: 0.8320 - val_loss: 0.3620 - val_accuracy: 0.8257 - 227ms/epoch - 961us/step\n",
      "Epoch 82/150\n",
      "236/236 - 0s - loss: 0.3785 - accuracy: 0.8340 - val_loss: 0.3640 - val_accuracy: 0.8257 - 228ms/epoch - 967us/step\n",
      "Epoch 83/150\n",
      "236/236 - 0s - loss: 0.3767 - accuracy: 0.8370 - val_loss: 0.3628 - val_accuracy: 0.8270 - 230ms/epoch - 975us/step\n",
      "Epoch 84/150\n",
      "236/236 - 0s - loss: 0.3774 - accuracy: 0.8321 - val_loss: 0.3630 - val_accuracy: 0.8264 - 228ms/epoch - 966us/step\n",
      "Epoch 85/150\n",
      "236/236 - 0s - loss: 0.3741 - accuracy: 0.8310 - val_loss: 0.3577 - val_accuracy: 0.8257 - 227ms/epoch - 962us/step\n",
      "Epoch 86/150\n",
      "236/236 - 0s - loss: 0.3812 - accuracy: 0.8313 - val_loss: 0.3579 - val_accuracy: 0.8291 - 226ms/epoch - 960us/step\n",
      "Epoch 87/150\n",
      "236/236 - 0s - loss: 0.3766 - accuracy: 0.8362 - val_loss: 0.3552 - val_accuracy: 0.8270 - 227ms/epoch - 960us/step\n",
      "Epoch 88/150\n",
      "236/236 - 0s - loss: 0.3772 - accuracy: 0.8348 - val_loss: 0.3588 - val_accuracy: 0.8273 - 227ms/epoch - 964us/step\n",
      "Epoch 89/150\n",
      "236/236 - 0s - loss: 0.3780 - accuracy: 0.8336 - val_loss: 0.3561 - val_accuracy: 0.8276 - 227ms/epoch - 960us/step\n",
      "Epoch 90/150\n",
      "236/236 - 0s - loss: 0.3812 - accuracy: 0.8294 - val_loss: 0.3589 - val_accuracy: 0.8298 - 229ms/epoch - 971us/step\n",
      "Epoch 91/150\n",
      "236/236 - 0s - loss: 0.3806 - accuracy: 0.8344 - val_loss: 0.3547 - val_accuracy: 0.8273 - 225ms/epoch - 954us/step\n",
      "Epoch 92/150\n",
      "236/236 - 0s - loss: 0.3836 - accuracy: 0.8305 - val_loss: 0.3656 - val_accuracy: 0.8214 - 228ms/epoch - 965us/step\n",
      "Epoch 93/150\n",
      "236/236 - 0s - loss: 0.3759 - accuracy: 0.8357 - val_loss: 0.3564 - val_accuracy: 0.8319 - 227ms/epoch - 962us/step\n",
      "Epoch 94/150\n",
      "236/236 - 0s - loss: 0.3777 - accuracy: 0.8313 - val_loss: 0.3584 - val_accuracy: 0.8304 - 225ms/epoch - 954us/step\n",
      "Epoch 95/150\n",
      "236/236 - 0s - loss: 0.3728 - accuracy: 0.8367 - val_loss: 0.3575 - val_accuracy: 0.8273 - 227ms/epoch - 961us/step\n",
      "Epoch 96/150\n",
      "236/236 - 0s - loss: 0.3761 - accuracy: 0.8321 - val_loss: 0.3567 - val_accuracy: 0.8279 - 226ms/epoch - 960us/step\n",
      "Epoch 97/150\n",
      "236/236 - 0s - loss: 0.3745 - accuracy: 0.8352 - val_loss: 0.3559 - val_accuracy: 0.8353 - 227ms/epoch - 961us/step\n",
      "Epoch 98/150\n",
      "236/236 - 0s - loss: 0.3782 - accuracy: 0.8333 - val_loss: 0.3614 - val_accuracy: 0.8307 - 226ms/epoch - 956us/step\n",
      "Epoch 99/150\n",
      "236/236 - 0s - loss: 0.3740 - accuracy: 0.8348 - val_loss: 0.3650 - val_accuracy: 0.8326 - 226ms/epoch - 959us/step\n",
      "Epoch 100/150\n",
      "236/236 - 0s - loss: 0.3830 - accuracy: 0.8312 - val_loss: 0.3618 - val_accuracy: 0.8267 - 226ms/epoch - 958us/step\n",
      "Epoch 101/150\n",
      "236/236 - 0s - loss: 0.3686 - accuracy: 0.8394 - val_loss: 0.3540 - val_accuracy: 0.8332 - 228ms/epoch - 965us/step\n",
      "Epoch 102/150\n",
      "236/236 - 0s - loss: 0.3747 - accuracy: 0.8342 - val_loss: 0.3574 - val_accuracy: 0.8307 - 229ms/epoch - 971us/step\n",
      "Epoch 103/150\n",
      "236/236 - 0s - loss: 0.3739 - accuracy: 0.8352 - val_loss: 0.3576 - val_accuracy: 0.8310 - 228ms/epoch - 965us/step\n",
      "Epoch 104/150\n",
      "236/236 - 0s - loss: 0.3805 - accuracy: 0.8326 - val_loss: 0.3529 - val_accuracy: 0.8326 - 227ms/epoch - 964us/step\n",
      "Epoch 105/150\n",
      "236/236 - 0s - loss: 0.3811 - accuracy: 0.8341 - val_loss: 0.3569 - val_accuracy: 0.8301 - 225ms/epoch - 952us/step\n",
      "Epoch 106/150\n",
      "236/236 - 0s - loss: 0.3794 - accuracy: 0.8306 - val_loss: 0.3549 - val_accuracy: 0.8298 - 224ms/epoch - 949us/step\n",
      "Epoch 107/150\n",
      "236/236 - 0s - loss: 0.3682 - accuracy: 0.8390 - val_loss: 0.3555 - val_accuracy: 0.8326 - 227ms/epoch - 963us/step\n",
      "Epoch 108/150\n",
      "236/236 - 0s - loss: 0.3776 - accuracy: 0.8305 - val_loss: 0.3551 - val_accuracy: 0.8304 - 226ms/epoch - 959us/step\n",
      "Epoch 109/150\n",
      "236/236 - 0s - loss: 0.3750 - accuracy: 0.8353 - val_loss: 0.3622 - val_accuracy: 0.8295 - 228ms/epoch - 965us/step\n",
      "Epoch 110/150\n",
      "236/236 - 0s - loss: 0.3742 - accuracy: 0.8318 - val_loss: 0.3565 - val_accuracy: 0.8260 - 226ms/epoch - 958us/step\n",
      "Epoch 111/150\n",
      "236/236 - 0s - loss: 0.3692 - accuracy: 0.8373 - val_loss: 0.3561 - val_accuracy: 0.8288 - 227ms/epoch - 961us/step\n",
      "Epoch 112/150\n",
      "236/236 - 0s - loss: 0.3720 - accuracy: 0.8340 - val_loss: 0.3589 - val_accuracy: 0.8326 - 226ms/epoch - 958us/step\n",
      "Epoch 113/150\n",
      "236/236 - 0s - loss: 0.3741 - accuracy: 0.8358 - val_loss: 0.3551 - val_accuracy: 0.8298 - 227ms/epoch - 960us/step\n",
      "Epoch 114/150\n",
      "236/236 - 0s - loss: 0.3741 - accuracy: 0.8345 - val_loss: 0.3534 - val_accuracy: 0.8353 - 226ms/epoch - 957us/step\n",
      "Epoch 115/150\n",
      "236/236 - 0s - loss: 0.3729 - accuracy: 0.8326 - val_loss: 0.3571 - val_accuracy: 0.8291 - 224ms/epoch - 950us/step\n",
      "Epoch 116/150\n",
      "236/236 - 0s - loss: 0.3709 - accuracy: 0.8321 - val_loss: 0.3558 - val_accuracy: 0.8332 - 227ms/epoch - 962us/step\n",
      "Epoch 117/150\n",
      "236/236 - 0s - loss: 0.3729 - accuracy: 0.8350 - val_loss: 0.3525 - val_accuracy: 0.8347 - 226ms/epoch - 957us/step\n",
      "Epoch 118/150\n",
      "236/236 - 0s - loss: 0.3764 - accuracy: 0.8317 - val_loss: 0.3598 - val_accuracy: 0.8282 - 228ms/epoch - 967us/step\n",
      "Epoch 119/150\n",
      "236/236 - 0s - loss: 0.3732 - accuracy: 0.8318 - val_loss: 0.3524 - val_accuracy: 0.8322 - 225ms/epoch - 954us/step\n",
      "Epoch 120/150\n",
      "236/236 - 0s - loss: 0.3735 - accuracy: 0.8355 - val_loss: 0.3564 - val_accuracy: 0.8279 - 229ms/epoch - 970us/step\n",
      "Epoch 121/150\n",
      "236/236 - 0s - loss: 0.3672 - accuracy: 0.8342 - val_loss: 0.3557 - val_accuracy: 0.8254 - 226ms/epoch - 958us/step\n",
      "Epoch 122/150\n",
      "236/236 - 0s - loss: 0.3736 - accuracy: 0.8332 - val_loss: 0.3523 - val_accuracy: 0.8285 - 226ms/epoch - 957us/step\n",
      "Epoch 123/150\n",
      "236/236 - 0s - loss: 0.3755 - accuracy: 0.8345 - val_loss: 0.3524 - val_accuracy: 0.8335 - 226ms/epoch - 958us/step\n",
      "Epoch 124/150\n",
      "236/236 - 0s - loss: 0.3759 - accuracy: 0.8320 - val_loss: 0.3582 - val_accuracy: 0.8341 - 230ms/epoch - 975us/step\n",
      "Epoch 125/150\n",
      "236/236 - 0s - loss: 0.3704 - accuracy: 0.8314 - val_loss: 0.3525 - val_accuracy: 0.8301 - 226ms/epoch - 959us/step\n",
      "Epoch 126/150\n",
      "236/236 - 0s - loss: 0.3684 - accuracy: 0.8342 - val_loss: 0.3537 - val_accuracy: 0.8307 - 229ms/epoch - 970us/step\n",
      "Epoch 127/150\n",
      "236/236 - 0s - loss: 0.3719 - accuracy: 0.8341 - val_loss: 0.3563 - val_accuracy: 0.8301 - 229ms/epoch - 971us/step\n",
      "Epoch 128/150\n",
      "236/236 - 0s - loss: 0.3717 - accuracy: 0.8334 - val_loss: 0.3529 - val_accuracy: 0.8338 - 226ms/epoch - 957us/step\n",
      "Epoch 129/150\n",
      "236/236 - 0s - loss: 0.3710 - accuracy: 0.8363 - val_loss: 0.3552 - val_accuracy: 0.8326 - 228ms/epoch - 968us/step\n",
      "Epoch 130/150\n",
      "236/236 - 0s - loss: 0.3690 - accuracy: 0.8378 - val_loss: 0.3537 - val_accuracy: 0.8391 - 227ms/epoch - 960us/step\n",
      "Epoch 131/150\n",
      "236/236 - 0s - loss: 0.3647 - accuracy: 0.8385 - val_loss: 0.3504 - val_accuracy: 0.8353 - 227ms/epoch - 962us/step\n",
      "Epoch 132/150\n",
      "236/236 - 0s - loss: 0.3724 - accuracy: 0.8337 - val_loss: 0.3516 - val_accuracy: 0.8353 - 227ms/epoch - 961us/step\n",
      "Epoch 133/150\n",
      "236/236 - 0s - loss: 0.3584 - accuracy: 0.8391 - val_loss: 0.3509 - val_accuracy: 0.8341 - 230ms/epoch - 975us/step\n",
      "Epoch 134/150\n",
      "236/236 - 0s - loss: 0.3674 - accuracy: 0.8365 - val_loss: 0.3491 - val_accuracy: 0.8357 - 226ms/epoch - 956us/step\n",
      "Epoch 135/150\n",
      "236/236 - 0s - loss: 0.3723 - accuracy: 0.8348 - val_loss: 0.3530 - val_accuracy: 0.8304 - 226ms/epoch - 958us/step\n",
      "Epoch 136/150\n",
      "236/236 - 0s - loss: 0.3710 - accuracy: 0.8332 - val_loss: 0.3519 - val_accuracy: 0.8329 - 229ms/epoch - 969us/step\n",
      "Epoch 137/150\n",
      "236/236 - 0s - loss: 0.3733 - accuracy: 0.8385 - val_loss: 0.3507 - val_accuracy: 0.8353 - 227ms/epoch - 963us/step\n",
      "Epoch 138/150\n",
      "236/236 - 0s - loss: 0.3693 - accuracy: 0.8361 - val_loss: 0.3547 - val_accuracy: 0.8301 - 228ms/epoch - 966us/step\n",
      "Epoch 139/150\n",
      "236/236 - 0s - loss: 0.3701 - accuracy: 0.8348 - val_loss: 0.3525 - val_accuracy: 0.8316 - 227ms/epoch - 960us/step\n",
      "Epoch 140/150\n",
      "236/236 - 0s - loss: 0.3696 - accuracy: 0.8378 - val_loss: 0.3526 - val_accuracy: 0.8350 - 228ms/epoch - 966us/step\n",
      "Epoch 141/150\n",
      "236/236 - 0s - loss: 0.3628 - accuracy: 0.8369 - val_loss: 0.3514 - val_accuracy: 0.8326 - 225ms/epoch - 954us/step\n",
      "Epoch 142/150\n",
      "236/236 - 0s - loss: 0.3730 - accuracy: 0.8398 - val_loss: 0.3493 - val_accuracy: 0.8344 - 227ms/epoch - 963us/step\n",
      "Epoch 143/150\n",
      "236/236 - 0s - loss: 0.3709 - accuracy: 0.8373 - val_loss: 0.3478 - val_accuracy: 0.8381 - 226ms/epoch - 958us/step\n",
      "Epoch 144/150\n",
      "236/236 - 0s - loss: 0.3697 - accuracy: 0.8354 - val_loss: 0.3495 - val_accuracy: 0.8381 - 227ms/epoch - 963us/step\n",
      "Epoch 145/150\n",
      "236/236 - 0s - loss: 0.3764 - accuracy: 0.8350 - val_loss: 0.3486 - val_accuracy: 0.8391 - 228ms/epoch - 967us/step\n",
      "Epoch 146/150\n",
      "236/236 - 0s - loss: 0.3728 - accuracy: 0.8395 - val_loss: 0.3528 - val_accuracy: 0.8301 - 226ms/epoch - 959us/step\n",
      "Epoch 147/150\n",
      "236/236 - 0s - loss: 0.3674 - accuracy: 0.8349 - val_loss: 0.3428 - val_accuracy: 0.8443 - 227ms/epoch - 960us/step\n",
      "Epoch 148/150\n",
      "236/236 - 0s - loss: 0.3734 - accuracy: 0.8332 - val_loss: 0.3494 - val_accuracy: 0.8335 - 226ms/epoch - 957us/step\n",
      "Epoch 149/150\n",
      "236/236 - 0s - loss: 0.3688 - accuracy: 0.8377 - val_loss: 0.3492 - val_accuracy: 0.8338 - 230ms/epoch - 973us/step\n",
      "Epoch 150/150\n",
      "236/236 - 0s - loss: 0.3675 - accuracy: 0.8386 - val_loss: 0.3467 - val_accuracy: 0.8335 - 230ms/epoch - 975us/step\n"
     ]
    }
   ],
   "source": [
    "history = model.fit(X_train, y_train, validation_data=(X_test, y_test), verbose=2)"
   ]
  },
  {
   "cell_type": "code",
   "execution_count": 96,
   "metadata": {},
   "outputs": [],
   "source": [
    "y_pred = model.predict(X_test)"
   ]
  },
  {
   "cell_type": "code",
   "execution_count": 97,
   "metadata": {},
   "outputs": [
    {
     "data": {
      "text/plain": [
       "0    2348\n",
       "3     515\n",
       "2     357\n",
       "4       5\n",
       "Name: count, dtype: int64"
      ]
     },
     "execution_count": 97,
     "metadata": {},
     "output_type": "execute_result"
    }
   ],
   "source": [
    "pd.DataFrame(y_pred).value_counts()"
   ]
  },
  {
   "cell_type": "code",
   "execution_count": 388,
   "metadata": {},
   "outputs": [
    {
     "ename": "AxisError",
     "evalue": "axis 1 is out of bounds for array of dimension 1",
     "output_type": "error",
     "traceback": [
      "\u001b[1;31m---------------------------------------------------------------------------\u001b[0m",
      "\u001b[1;31mAxisError\u001b[0m                                 Traceback (most recent call last)",
      "Cell \u001b[1;32mIn[388], line 1\u001b[0m\n\u001b[1;32m----> 1\u001b[0m y_pred \u001b[38;5;241m=\u001b[39m \u001b[43my_pred\u001b[49m\u001b[38;5;241;43m.\u001b[39;49m\u001b[43margmax\u001b[49m\u001b[43m(\u001b[49m\u001b[43maxis\u001b[49m\u001b[38;5;241;43m=\u001b[39;49m\u001b[38;5;241;43m1\u001b[39;49m\u001b[43m)\u001b[49m\n\u001b[0;32m      2\u001b[0m y_pred\n",
      "\u001b[1;31mAxisError\u001b[0m: axis 1 is out of bounds for array of dimension 1"
     ]
    }
   ],
   "source": [
    "y_pred = y_pred.argmax(axis=1)\n",
    "y_pred"
   ]
  },
  {
   "cell_type": "code",
   "execution_count": 98,
   "metadata": {},
   "outputs": [
    {
     "name": "stdout",
     "output_type": "stream",
     "text": [
      "              precision    recall  f1-score   support\n",
      "\n",
      "           0       0.96      0.98      0.97      2320\n",
      "           1       0.00      0.00      0.00       140\n",
      "           2       0.49      0.57      0.53       304\n",
      "           3       0.47      0.83      0.60       295\n",
      "           4       1.00      0.03      0.06       166\n",
      "\n",
      "    accuracy                           0.83      3225\n",
      "   macro avg       0.59      0.48      0.43      3225\n",
      "weighted avg       0.83      0.83      0.81      3225\n",
      "\n"
     ]
    },
    {
     "name": "stderr",
     "output_type": "stream",
     "text": [
      "c:\\Users\\mgdsb\\miniconda3\\envs\\miniConda\\lib\\site-packages\\sklearn\\metrics\\_classification.py:1469: UndefinedMetricWarning: Precision and F-score are ill-defined and being set to 0.0 in labels with no predicted samples. Use `zero_division` parameter to control this behavior.\n",
      "  _warn_prf(average, modifier, msg_start, len(result))\n",
      "c:\\Users\\mgdsb\\miniconda3\\envs\\miniConda\\lib\\site-packages\\sklearn\\metrics\\_classification.py:1469: UndefinedMetricWarning: Precision and F-score are ill-defined and being set to 0.0 in labels with no predicted samples. Use `zero_division` parameter to control this behavior.\n",
      "  _warn_prf(average, modifier, msg_start, len(result))\n",
      "c:\\Users\\mgdsb\\miniconda3\\envs\\miniConda\\lib\\site-packages\\sklearn\\metrics\\_classification.py:1469: UndefinedMetricWarning: Precision and F-score are ill-defined and being set to 0.0 in labels with no predicted samples. Use `zero_division` parameter to control this behavior.\n",
      "  _warn_prf(average, modifier, msg_start, len(result))\n"
     ]
    }
   ],
   "source": [
    "print(classification_report(y_test, y_pred))"
   ]
  },
  {
   "cell_type": "code",
   "execution_count": 92,
   "metadata": {},
   "outputs": [
    {
     "data": {
      "image/png": "[encoded data removed]",
      "text/plain": [
       "<Figure size 640x480 with 1 Axes>"
      ]
     },
     "metadata": {},
     "output_type": "display_data"
    }
   ],
   "source": [
    "plt.plot(history.history_['loss'])\n",
    "plt.plot(history.history_['val_loss'])\n",
    "plt.title('Model Performance')\n",
    "plt.ylabel('Loss Values')\n",
    "plt.xlabel('Epoch')\n",
    "plt.legend(['Train', 'Validation'], loc='upper left')\n",
    "plt.show()"
   ]
  },
  {
   "cell_type": "markdown",
   "metadata": {},
   "source": [
    "Grid Search"
   ]
  },
  {
   "cell_type": "code",
   "execution_count": 106,
   "metadata": {},
   "outputs": [],
   "source": [
    "kf = KFold(n_splits=5, shuffle=True, random_state=2021)"
   ]
  },
  {
   "cell_type": "code",
   "execution_count": 107,
   "metadata": {},
   "outputs": [],
   "source": [
    "param_grid = {\n",
    "    'optimizer': ['adam', 'sgd', 'rmsprop', 'adagrad', 'nadam'],\n",
    "    #'activation': ['relu', 'sigmoid', 'tanh', 'softmax', 'elu', 'leaky_relu'],\n",
    "}"
   ]
  },
  {
   "cell_type": "code",
   "execution_count": 124,
   "metadata": {},
   "outputs": [],
   "source": [
    "model = KerasClassifier(build_fn=build_model, validation_split=0.2, epochs=100, batch_size=32, verbose=0)"
   ]
  },
  {
   "cell_type": "code",
   "execution_count": 118,
   "metadata": {},
   "outputs": [
    {
     "data": {
      "text/plain": [
       "dict_keys(['model', 'build_fn', 'warm_start', 'random_state', 'optimizer', 'loss', 'metrics', 'batch_size', 'validation_batch_size', 'verbose', 'callbacks', 'validation_split', 'shuffle', 'run_eagerly', 'epochs', 'class_weight'])"
      ]
     },
     "execution_count": 118,
     "metadata": {},
     "output_type": "execute_result"
    }
   ],
   "source": [
    "model.get_params().keys()"
   ]
  },
  {
   "cell_type": "code",
   "execution_count": 125,
   "metadata": {},
   "outputs": [
    {
     "name": "stdout",
     "output_type": "stream",
     "text": [
      "Fitting 5 folds for each of 5 candidates, totalling 25 fits\n"
     ]
    },
    {
     "name": "stderr",
     "output_type": "stream",
     "text": [
      "c:\\Users\\mgdsb\\miniconda3\\envs\\miniConda\\lib\\site-packages\\scikeras\\wrappers.py:915: UserWarning: ``build_fn`` will be renamed to ``model`` in a future release, at which point use of ``build_fn`` will raise an Error instead.\n",
      "  X, y = self._initialize(X, y)\n"
     ]
    },
    {
     "name": "stdout",
     "output_type": "stream",
     "text": [
      "[CV 1/5] END ....................optimizer=adam;, score=0.866 total time=  15.6s\n"
     ]
    },
    {
     "name": "stderr",
     "output_type": "stream",
     "text": [
      "c:\\Users\\mgdsb\\miniconda3\\envs\\miniConda\\lib\\site-packages\\scikeras\\wrappers.py:915: UserWarning: ``build_fn`` will be renamed to ``model`` in a future release, at which point use of ``build_fn`` will raise an Error instead.\n",
      "  X, y = self._initialize(X, y)\n"
     ]
    },
    {
     "name": "stdout",
     "output_type": "stream",
     "text": [
      "[CV 2/5] END ....................optimizer=adam;, score=0.844 total time=  15.3s\n"
     ]
    },
    {
     "name": "stderr",
     "output_type": "stream",
     "text": [
      "c:\\Users\\mgdsb\\miniconda3\\envs\\miniConda\\lib\\site-packages\\scikeras\\wrappers.py:915: UserWarning: ``build_fn`` will be renamed to ``model`` in a future release, at which point use of ``build_fn`` will raise an Error instead.\n",
      "  X, y = self._initialize(X, y)\n"
     ]
    },
    {
     "name": "stdout",
     "output_type": "stream",
     "text": [
      "[CV 3/5] END ....................optimizer=adam;, score=0.860 total time=  15.2s\n"
     ]
    },
    {
     "name": "stderr",
     "output_type": "stream",
     "text": [
      "c:\\Users\\mgdsb\\miniconda3\\envs\\miniConda\\lib\\site-packages\\scikeras\\wrappers.py:915: UserWarning: ``build_fn`` will be renamed to ``model`` in a future release, at which point use of ``build_fn`` will raise an Error instead.\n",
      "  X, y = self._initialize(X, y)\n"
     ]
    },
    {
     "name": "stdout",
     "output_type": "stream",
     "text": [
      "[CV 4/5] END ....................optimizer=adam;, score=0.864 total time=  15.2s\n"
     ]
    },
    {
     "name": "stderr",
     "output_type": "stream",
     "text": [
      "c:\\Users\\mgdsb\\miniconda3\\envs\\miniConda\\lib\\site-packages\\scikeras\\wrappers.py:915: UserWarning: ``build_fn`` will be renamed to ``model`` in a future release, at which point use of ``build_fn`` will raise an Error instead.\n",
      "  X, y = self._initialize(X, y)\n"
     ]
    },
    {
     "name": "stdout",
     "output_type": "stream",
     "text": [
      "[CV 5/5] END ....................optimizer=adam;, score=0.872 total time=  15.2s\n"
     ]
    },
    {
     "name": "stderr",
     "output_type": "stream",
     "text": [
      "c:\\Users\\mgdsb\\miniconda3\\envs\\miniConda\\lib\\site-packages\\scikeras\\wrappers.py:915: UserWarning: ``build_fn`` will be renamed to ``model`` in a future release, at which point use of ``build_fn`` will raise an Error instead.\n",
      "  X, y = self._initialize(X, y)\n"
     ]
    },
    {
     "name": "stdout",
     "output_type": "stream",
     "text": [
      "[CV 1/5] END .....................optimizer=sgd;, score=0.873 total time=  15.2s\n"
     ]
    },
    {
     "name": "stderr",
     "output_type": "stream",
     "text": [
      "c:\\Users\\mgdsb\\miniconda3\\envs\\miniConda\\lib\\site-packages\\scikeras\\wrappers.py:915: UserWarning: ``build_fn`` will be renamed to ``model`` in a future release, at which point use of ``build_fn`` will raise an Error instead.\n",
      "  X, y = self._initialize(X, y)\n"
     ]
    },
    {
     "name": "stdout",
     "output_type": "stream",
     "text": [
      "[CV 2/5] END .....................optimizer=sgd;, score=0.851 total time=  15.2s\n"
     ]
    },
    {
     "name": "stderr",
     "output_type": "stream",
     "text": [
      "c:\\Users\\mgdsb\\miniconda3\\envs\\miniConda\\lib\\site-packages\\scikeras\\wrappers.py:915: UserWarning: ``build_fn`` will be renamed to ``model`` in a future release, at which point use of ``build_fn`` will raise an Error instead.\n",
      "  X, y = self._initialize(X, y)\n"
     ]
    },
    {
     "name": "stdout",
     "output_type": "stream",
     "text": [
      "[CV 3/5] END .....................optimizer=sgd;, score=0.866 total time=  16.3s\n"
     ]
    },
    {
     "name": "stderr",
     "output_type": "stream",
     "text": [
      "c:\\Users\\mgdsb\\miniconda3\\envs\\miniConda\\lib\\site-packages\\scikeras\\wrappers.py:915: UserWarning: ``build_fn`` will be renamed to ``model`` in a future release, at which point use of ``build_fn`` will raise an Error instead.\n",
      "  X, y = self._initialize(X, y)\n"
     ]
    },
    {
     "name": "stdout",
     "output_type": "stream",
     "text": [
      "[CV 4/5] END .....................optimizer=sgd;, score=0.866 total time=  15.8s\n"
     ]
    },
    {
     "name": "stderr",
     "output_type": "stream",
     "text": [
      "c:\\Users\\mgdsb\\miniconda3\\envs\\miniConda\\lib\\site-packages\\scikeras\\wrappers.py:915: UserWarning: ``build_fn`` will be renamed to ``model`` in a future release, at which point use of ``build_fn`` will raise an Error instead.\n",
      "  X, y = self._initialize(X, y)\n"
     ]
    },
    {
     "name": "stdout",
     "output_type": "stream",
     "text": [
      "[CV 5/5] END .....................optimizer=sgd;, score=0.870 total time=  15.5s\n"
     ]
    },
    {
     "name": "stderr",
     "output_type": "stream",
     "text": [
      "c:\\Users\\mgdsb\\miniconda3\\envs\\miniConda\\lib\\site-packages\\scikeras\\wrappers.py:915: UserWarning: ``build_fn`` will be renamed to ``model`` in a future release, at which point use of ``build_fn`` will raise an Error instead.\n",
      "  X, y = self._initialize(X, y)\n"
     ]
    },
    {
     "name": "stdout",
     "output_type": "stream",
     "text": [
      "[CV 1/5] END .................optimizer=rmsprop;, score=0.868 total time=  15.6s\n"
     ]
    },
    {
     "name": "stderr",
     "output_type": "stream",
     "text": [
      "c:\\Users\\mgdsb\\miniconda3\\envs\\miniConda\\lib\\site-packages\\scikeras\\wrappers.py:915: UserWarning: ``build_fn`` will be renamed to ``model`` in a future release, at which point use of ``build_fn`` will raise an Error instead.\n",
      "  X, y = self._initialize(X, y)\n"
     ]
    },
    {
     "name": "stdout",
     "output_type": "stream",
     "text": [
      "[CV 2/5] END .................optimizer=rmsprop;, score=0.849 total time=  15.5s\n"
     ]
    },
    {
     "name": "stderr",
     "output_type": "stream",
     "text": [
      "c:\\Users\\mgdsb\\miniconda3\\envs\\miniConda\\lib\\site-packages\\scikeras\\wrappers.py:915: UserWarning: ``build_fn`` will be renamed to ``model`` in a future release, at which point use of ``build_fn`` will raise an Error instead.\n",
      "  X, y = self._initialize(X, y)\n"
     ]
    },
    {
     "name": "stdout",
     "output_type": "stream",
     "text": [
      "[CV 3/5] END .................optimizer=rmsprop;, score=0.870 total time=  15.5s\n"
     ]
    },
    {
     "name": "stderr",
     "output_type": "stream",
     "text": [
      "c:\\Users\\mgdsb\\miniconda3\\envs\\miniConda\\lib\\site-packages\\scikeras\\wrappers.py:915: UserWarning: ``build_fn`` will be renamed to ``model`` in a future release, at which point use of ``build_fn`` will raise an Error instead.\n",
      "  X, y = self._initialize(X, y)\n"
     ]
    },
    {
     "name": "stdout",
     "output_type": "stream",
     "text": [
      "[CV 4/5] END .................optimizer=rmsprop;, score=0.871 total time=  15.4s\n"
     ]
    },
    {
     "name": "stderr",
     "output_type": "stream",
     "text": [
      "c:\\Users\\mgdsb\\miniconda3\\envs\\miniConda\\lib\\site-packages\\scikeras\\wrappers.py:915: UserWarning: ``build_fn`` will be renamed to ``model`` in a future release, at which point use of ``build_fn`` will raise an Error instead.\n",
      "  X, y = self._initialize(X, y)\n"
     ]
    },
    {
     "name": "stdout",
     "output_type": "stream",
     "text": [
      "[CV 5/5] END .................optimizer=rmsprop;, score=0.876 total time=  15.4s\n"
     ]
    },
    {
     "name": "stderr",
     "output_type": "stream",
     "text": [
      "c:\\Users\\mgdsb\\miniconda3\\envs\\miniConda\\lib\\site-packages\\scikeras\\wrappers.py:915: UserWarning: ``build_fn`` will be renamed to ``model`` in a future release, at which point use of ``build_fn`` will raise an Error instead.\n",
      "  X, y = self._initialize(X, y)\n"
     ]
    },
    {
     "name": "stdout",
     "output_type": "stream",
     "text": [
      "[CV 1/5] END .................optimizer=adagrad;, score=0.873 total time=  15.5s\n"
     ]
    },
    {
     "name": "stderr",
     "output_type": "stream",
     "text": [
      "c:\\Users\\mgdsb\\miniconda3\\envs\\miniConda\\lib\\site-packages\\scikeras\\wrappers.py:915: UserWarning: ``build_fn`` will be renamed to ``model`` in a future release, at which point use of ``build_fn`` will raise an Error instead.\n",
      "  X, y = self._initialize(X, y)\n"
     ]
    },
    {
     "name": "stdout",
     "output_type": "stream",
     "text": [
      "[CV 2/5] END .................optimizer=adagrad;, score=0.852 total time=  15.4s\n"
     ]
    },
    {
     "name": "stderr",
     "output_type": "stream",
     "text": [
      "c:\\Users\\mgdsb\\miniconda3\\envs\\miniConda\\lib\\site-packages\\scikeras\\wrappers.py:915: UserWarning: ``build_fn`` will be renamed to ``model`` in a future release, at which point use of ``build_fn`` will raise an Error instead.\n",
      "  X, y = self._initialize(X, y)\n"
     ]
    },
    {
     "name": "stdout",
     "output_type": "stream",
     "text": [
      "[CV 3/5] END .................optimizer=adagrad;, score=0.868 total time=  15.5s\n"
     ]
    },
    {
     "name": "stderr",
     "output_type": "stream",
     "text": [
      "c:\\Users\\mgdsb\\miniconda3\\envs\\miniConda\\lib\\site-packages\\scikeras\\wrappers.py:915: UserWarning: ``build_fn`` will be renamed to ``model`` in a future release, at which point use of ``build_fn`` will raise an Error instead.\n",
      "  X, y = self._initialize(X, y)\n"
     ]
    },
    {
     "name": "stdout",
     "output_type": "stream",
     "text": [
      "[CV 4/5] END .................optimizer=adagrad;, score=0.860 total time=  15.6s\n"
     ]
    },
    {
     "name": "stderr",
     "output_type": "stream",
     "text": [
      "c:\\Users\\mgdsb\\miniconda3\\envs\\miniConda\\lib\\site-packages\\scikeras\\wrappers.py:915: UserWarning: ``build_fn`` will be renamed to ``model`` in a future release, at which point use of ``build_fn`` will raise an Error instead.\n",
      "  X, y = self._initialize(X, y)\n"
     ]
    },
    {
     "name": "stdout",
     "output_type": "stream",
     "text": [
      "[CV 5/5] END .................optimizer=adagrad;, score=0.873 total time=  15.5s\n"
     ]
    },
    {
     "name": "stderr",
     "output_type": "stream",
     "text": [
      "c:\\Users\\mgdsb\\miniconda3\\envs\\miniConda\\lib\\site-packages\\scikeras\\wrappers.py:915: UserWarning: ``build_fn`` will be renamed to ``model`` in a future release, at which point use of ``build_fn`` will raise an Error instead.\n",
      "  X, y = self._initialize(X, y)\n"
     ]
    },
    {
     "name": "stdout",
     "output_type": "stream",
     "text": [
      "[CV 1/5] END ...................optimizer=nadam;, score=0.868 total time=  15.5s\n"
     ]
    },
    {
     "name": "stderr",
     "output_type": "stream",
     "text": [
      "c:\\Users\\mgdsb\\miniconda3\\envs\\miniConda\\lib\\site-packages\\scikeras\\wrappers.py:915: UserWarning: ``build_fn`` will be renamed to ``model`` in a future release, at which point use of ``build_fn`` will raise an Error instead.\n",
      "  X, y = self._initialize(X, y)\n"
     ]
    },
    {
     "name": "stdout",
     "output_type": "stream",
     "text": [
      "[CV 2/5] END ...................optimizer=nadam;, score=0.845 total time=  15.6s\n"
     ]
    },
    {
     "name": "stderr",
     "output_type": "stream",
     "text": [
      "c:\\Users\\mgdsb\\miniconda3\\envs\\miniConda\\lib\\site-packages\\scikeras\\wrappers.py:915: UserWarning: ``build_fn`` will be renamed to ``model`` in a future release, at which point use of ``build_fn`` will raise an Error instead.\n",
      "  X, y = self._initialize(X, y)\n"
     ]
    },
    {
     "name": "stdout",
     "output_type": "stream",
     "text": [
      "[CV 3/5] END ...................optimizer=nadam;, score=0.862 total time=  15.8s\n"
     ]
    },
    {
     "name": "stderr",
     "output_type": "stream",
     "text": [
      "c:\\Users\\mgdsb\\miniconda3\\envs\\miniConda\\lib\\site-packages\\scikeras\\wrappers.py:915: UserWarning: ``build_fn`` will be renamed to ``model`` in a future release, at which point use of ``build_fn`` will raise an Error instead.\n",
      "  X, y = self._initialize(X, y)\n"
     ]
    },
    {
     "name": "stdout",
     "output_type": "stream",
     "text": [
      "[CV 4/5] END ...................optimizer=nadam;, score=0.872 total time=  15.5s\n"
     ]
    },
    {
     "name": "stderr",
     "output_type": "stream",
     "text": [
      "c:\\Users\\mgdsb\\miniconda3\\envs\\miniConda\\lib\\site-packages\\scikeras\\wrappers.py:915: UserWarning: ``build_fn`` will be renamed to ``model`` in a future release, at which point use of ``build_fn`` will raise an Error instead.\n",
      "  X, y = self._initialize(X, y)\n"
     ]
    },
    {
     "name": "stdout",
     "output_type": "stream",
     "text": [
      "[CV 5/5] END ...................optimizer=nadam;, score=0.868 total time=  15.4s\n"
     ]
    },
    {
     "name": "stderr",
     "output_type": "stream",
     "text": [
      "c:\\Users\\mgdsb\\miniconda3\\envs\\miniConda\\lib\\site-packages\\scikeras\\wrappers.py:915: UserWarning: ``build_fn`` will be renamed to ``model`` in a future release, at which point use of ``build_fn`` will raise an Error instead.\n",
      "  X, y = self._initialize(X, y)\n"
     ]
    }
   ],
   "source": [
    "grid = GridSearchCV(estimator=model, param_grid=param_grid, cv=kf, scoring='accuracy',refit=True, verbose=3)\n",
    "grid_result = grid.fit(X_train, y_train)"
   ]
  },
  {
   "cell_type": "code",
   "execution_count": 126,
   "metadata": {},
   "outputs": [
    {
     "data": {
      "text/html": [
       "<style>#sk-container-id-6 {color: black;}#sk-container-id-6 pre{padding: 0;}#sk-container-id-6 div.sk-toggleable {background-color: white;}#sk-container-id-6 label.sk-toggleable__label {cursor: pointer;display: block;width: 100%;margin-bottom: 0;padding: 0.3em;box-sizing: border-box;text-align: center;}#sk-container-id-6 label.sk-toggleable__label-arrow:before {content: \"▸\";float: left;margin-right: 0.25em;color: #696969;}#sk-container-id-6 label.sk-toggleable__label-arrow:hover:before {color: black;}#sk-container-id-6 div.sk-estimator:hover label.sk-toggleable__label-arrow:before {color: black;}#sk-container-id-6 div.sk-toggleable__content {max-height: 0;max-width: 0;overflow: hidden;text-align: left;background-color: #f0f8ff;}#sk-container-id-6 div.sk-toggleable__content pre {margin: 0.2em;color: black;border-radius: 0.25em;background-color: #f0f8ff;}#sk-container-id-6 input.sk-toggleable__control:checked~div.sk-toggleable__content {max-height: 200px;max-width: 100%;overflow: auto;}#sk-container-id-6 input.sk-toggleable__control:checked~label.sk-toggleable__label-arrow:before {content: \"▾\";}#sk-container-id-6 div.sk-estimator input.sk-toggleable__control:checked~label.sk-toggleable__label {background-color: #d4ebff;}#sk-container-id-6 div.sk-label input.sk-toggleable__control:checked~label.sk-toggleable__label {background-color: #d4ebff;}#sk-container-id-6 input.sk-hidden--visually {border: 0;clip: rect(1px 1px 1px 1px);clip: rect(1px, 1px, 1px, 1px);height: 1px;margin: -1px;overflow: hidden;padding: 0;position: absolute;width: 1px;}#sk-container-id-6 div.sk-estimator {font-family: monospace;background-color: #f0f8ff;border: 1px dotted black;border-radius: 0.25em;box-sizing: border-box;margin-bottom: 0.5em;}#sk-container-id-6 div.sk-estimator:hover {background-color: #d4ebff;}#sk-container-id-6 div.sk-parallel-item::after {content: \"\";width: 100%;border-bottom: 1px solid gray;flex-grow: 1;}#sk-container-id-6 div.sk-label:hover label.sk-toggleable__label {background-color: #d4ebff;}#sk-container-id-6 div.sk-serial::before {content: \"\";position: absolute;border-left: 1px solid gray;box-sizing: border-box;top: 0;bottom: 0;left: 50%;z-index: 0;}#sk-container-id-6 div.sk-serial {display: flex;flex-direction: column;align-items: center;background-color: white;padding-right: 0.2em;padding-left: 0.2em;position: relative;}#sk-container-id-6 div.sk-item {position: relative;z-index: 1;}#sk-container-id-6 div.sk-parallel {display: flex;align-items: stretch;justify-content: center;background-color: white;position: relative;}#sk-container-id-6 div.sk-item::before, #sk-container-id-6 div.sk-parallel-item::before {content: \"\";position: absolute;border-left: 1px solid gray;box-sizing: border-box;top: 0;bottom: 0;left: 50%;z-index: -1;}#sk-container-id-6 div.sk-parallel-item {display: flex;flex-direction: column;z-index: 1;position: relative;background-color: white;}#sk-container-id-6 div.sk-parallel-item:first-child::after {align-self: flex-end;width: 50%;}#sk-container-id-6 div.sk-parallel-item:last-child::after {align-self: flex-start;width: 50%;}#sk-container-id-6 div.sk-parallel-item:only-child::after {width: 0;}#sk-container-id-6 div.sk-dashed-wrapped {border: 1px dashed gray;margin: 0 0.4em 0.5em 0.4em;box-sizing: border-box;padding-bottom: 0.4em;background-color: white;}#sk-container-id-6 div.sk-label label {font-family: monospace;font-weight: bold;display: inline-block;line-height: 1.2em;}#sk-container-id-6 div.sk-label-container {text-align: center;}#sk-container-id-6 div.sk-container {/* jupyter's `normalize.less` sets `[hidden] { display: none; }` but bootstrap.min.css set `[hidden] { display: none !important; }` so we also need the `!important` here to be able to override the default hidden behavior on the sphinx rendered scikit-learn.org. See: https://github.com/scikit-learn/scikit-learn/issues/21755 */display: inline-block !important;position: relative;}#sk-container-id-6 div.sk-text-repr-fallback {display: none;}</style><div id=\"sk-container-id-6\" class=\"sk-top-container\"><div class=\"sk-text-repr-fallback\"><pre>KerasClassifier(\n",
       "\tmodel=None\n",
       "\tbuild_fn=&lt;function build_model at 0x0000027DCD1C8430&gt;\n",
       "\twarm_start=False\n",
       "\trandom_state=None\n",
       "\toptimizer=rmsprop\n",
       "\tloss=None\n",
       "\tmetrics=None\n",
       "\tbatch_size=32\n",
       "\tvalidation_batch_size=None\n",
       "\tverbose=0\n",
       "\tcallbacks=None\n",
       "\tvalidation_split=0.2\n",
       "\tshuffle=True\n",
       "\trun_eagerly=False\n",
       "\tepochs=100\n",
       "\tclass_weight=None\n",
       ")</pre><b>In a Jupyter environment, please rerun this cell to show the HTML representation or trust the notebook. <br />On GitHub, the HTML representation is unable to render, please try loading this page with nbviewer.org.</b></div><div class=\"sk-container\" hidden><div class=\"sk-item\"><div class=\"sk-estimator sk-toggleable\"><input class=\"sk-toggleable__control sk-hidden--visually\" id=\"sk-estimator-id-6\" type=\"checkbox\" checked><label for=\"sk-estimator-id-6\" class=\"sk-toggleable__label sk-toggleable__label-arrow\">KerasClassifier</label><div class=\"sk-toggleable__content\"><pre>KerasClassifier(\n",
       "\tmodel=None\n",
       "\tbuild_fn=&lt;function build_model at 0x0000027DCD1C8430&gt;\n",
       "\twarm_start=False\n",
       "\trandom_state=None\n",
       "\toptimizer=rmsprop\n",
       "\tloss=None\n",
       "\tmetrics=None\n",
       "\tbatch_size=32\n",
       "\tvalidation_batch_size=None\n",
       "\tverbose=0\n",
       "\tcallbacks=None\n",
       "\tvalidation_split=0.2\n",
       "\tshuffle=True\n",
       "\trun_eagerly=False\n",
       "\tepochs=100\n",
       "\tclass_weight=None\n",
       ")</pre></div></div></div></div></div>"
      ],
      "text/plain": [
       "KerasClassifier(\n",
       "\tmodel=None\n",
       "\tbuild_fn=<function build_model at 0x0000027DCD1C8430>\n",
       "\twarm_start=False\n",
       "\trandom_state=None\n",
       "\toptimizer=rmsprop\n",
       "\tloss=None\n",
       "\tmetrics=None\n",
       "\tbatch_size=32\n",
       "\tvalidation_batch_size=None\n",
       "\tverbose=0\n",
       "\tcallbacks=None\n",
       "\tvalidation_split=0.2\n",
       "\tshuffle=True\n",
       "\trun_eagerly=False\n",
       "\tepochs=100\n",
       "\tclass_weight=None\n",
       ")"
      ]
     },
     "execution_count": 126,
     "metadata": {},
     "output_type": "execute_result"
    }
   ],
   "source": [
    "best_model = grid_result.best_estimator_\n",
    "best_model"
   ]
  },
  {
   "cell_type": "code",
   "execution_count": 127,
   "metadata": {},
   "outputs": [
    {
     "data": {
      "image/png": "[encoded data removed]",
      "text/plain": [
       "<Figure size 640x480 with 1 Axes>"
      ]
     },
     "metadata": {},
     "output_type": "display_data"
    }
   ],
   "source": [
    "plt.plot(best_model.history_['loss'])\n",
    "plt.plot(best_model.history_['val_loss'])\n",
    "plt.title('Model Performance')\n",
    "plt.ylabel('Loss Values')\n",
    "plt.xlabel('Epoch')\n",
    "plt.legend(['Train', 'Validation'], loc='upper left')\n",
    "plt.show()"
   ]
  },
  {
   "cell_type": "code",
   "execution_count": 128,
   "metadata": {},
   "outputs": [],
   "source": [
    "mlp_pred = best_model.predict(X_test)"
   ]
  },
  {
   "cell_type": "code",
   "execution_count": 129,
   "metadata": {},
   "outputs": [
    {
     "name": "stdout",
     "output_type": "stream",
     "text": [
      "              precision    recall  f1-score   support\n",
      "\n",
      "           0       0.98      0.97      0.97      2320\n",
      "           1       0.42      0.27      0.33       140\n",
      "           2       0.54      0.69      0.60       304\n",
      "           3       0.62      0.57      0.60       295\n",
      "           4       0.74      0.73      0.74       166\n",
      "\n",
      "    accuracy                           0.87      3225\n",
      "   macro avg       0.66      0.65      0.65      3225\n",
      "weighted avg       0.87      0.87      0.86      3225\n",
      "\n"
     ]
    }
   ],
   "source": [
    "print(classification_report(y_test, mlp_pred))"
   ]
  }
 ],
 "metadata": {
  "kernelspec": {
   "display_name": "Python 3 (ipykernel)",
   "language": "python",
   "name": "python3"
  },
  "language_info": {
   "codemirror_mode": {
    "name": "ipython",
    "version": 3
   },
   "file_extension": ".py",
   "mimetype": "text/x-python",
   "name": "python",
   "nbconvert_exporter": "python",
   "pygments_lexer": "ipython3",
   "version": "3.10.0"
  }
 },
 "nbformat": 4,
 "nbformat_minor": 4
}
