{
 "cells": [
  {
   "cell_type": "markdown",
   "metadata": {},
   "source": [
    "# Produção Energética e Sustentabilidade"
   ]
  },
  {
   "cell_type": "markdown",
   "metadata": {},
   "source": [
    "### Descrição\n",
    "\n",
    "A energia solar é uma das principais fontes de energias renováveis, desempenhando não só um papel fundamental na transição para fontes de energia limpa e renovável, mas também na promoção da sustentabilidade ambiental. Nesse contexto, além de ser crucial otimizar o uso da energia solar, a relação entre o gasto e a produção energética é essencial para permitir um planeamento eficaz do consumo energético e a integração harmoniosa de sistemas de energia solar em redes elétricas existentes.\n",
    "\n",
    "Nesse sentido, a 6ª Edição da Competição ML @SBS/DAA consiste no desenvolvimento de modelos de Machine Learning capazes de prever, com precisão, a quantidade de energia elétrica, em kWh, gerada por painéis solares e injectada na rede eléctrica existente a cada hora do dia com base numa ampla gama de atributos, que vão desde dados meteorológicos e informações geográficas, ao histórico de gasto e produção energética.\n",
    "\n",
    "Este é, portanto, um problema de previsão de energia com impacto significativo na eficiência energética, mas também na redução das emissões de gases com efeito estufa e na promoção da sustentabilidade. Com isso em consideração, foi colecionado um dataset que contém diversos dados referentes à produção energética de determinados painéis solares na cidade de Braga (o dataset cobre um período que vai desde setembro de 2021 até abril de 2023)."
   ]
  },
  {
   "cell_type": "markdown",
   "metadata": {},
   "source": [
    "### Objetivo\n",
    "\n",
    "O objetivo de cada grupo de trabalho passa por desenvolver o melhor modelo possível capaz de prever a quantidade de energia, em kWh, produzida por painéis solares e injectada, em redes elétricas existentes, a cada hora do dia.\n",
    "\n",
    "O dataset utilizado nesta competição contém um conjunto de features sendo de destacar a feature Injeção na rede (kWh) . Esta feature indica, numa escala qualitativa (None, Low, Medium, High e Very_High), a quantidade de energia que se injectou na rede elétrica num determinado ponto temporal (i.e., numa determinada hora de um determinado dia). Se o valor desta feature for None, significa que não foi injectada nenhuma energia na rede (ou porque nada foi obtido dos painéis solares, ou porque toda a energia produzida pelos painéis foi consumida localmente). Um valor de Very_High implica a existência de uma quantidade muito alta de energia injectada na rede eléctrica naquele ponto temporal.\n",
    "\n",
    "Para treino e tuning dos modelos de Machine Learning ser-vos-ão disponibilizados dois datasets com dados energéticos e dois datasets com dados meteorológicos. Tantos os datasets energéticos como os meteorológicos estão divididos por data, i.e., um dos datasets cobre o período de 2021 enquanto que o outro cobre todo o ano de 2022. Os grupos de trabalho poderão adicionar aos datasets qualquer atributo que achem relevante.\n",
    "\n",
    "Para obtenção de scores na competição, os grupos de trabalho deverão prever, para cada registo do dataset de teste (\"energia_202301-202304.csv\"), a quantidade de energia que se injectou na rede elétrica num determinado ponto temporal, utilizando a escala None, Low, Medium, High e Very_High."
   ]
  },
  {
   "cell_type": "markdown",
   "metadata": {
    "tags": []
   },
   "source": [
    "### Os dados\n",
    "\n",
    "São disponibilizados dois tipos de datasets, i.e., um tipo com dados energéticos e outro tipo com dados meteorológicos. Além disso, cada tipo de dataset está dividido por data, i.e., um dos datasets cobre o período de 2021 enquanto que o outro cobre todo o ano de 2022. Em resumo, são disponibilizados quatro datasets para treino e tuning dos modelos de Machine Learning\n",
    "\n",
    "Features dos Datasets de Energia\n",
    "\n",
    "- **Data** - o timestamp associado ao registo, ao dia;\n",
    "- **Hora** - a hora associada ao registo;\n",
    "- **Normal (kWh)** - quantidade de energia eléctrica consumida, em kWh e proveniente da rede eléctrica, num período considerado normal em ciclos bi-horário diários (horas fora de vazio);\n",
    "- **Horário Económico (kWh)** - quantidade de energia eléctrica consumida, em kWh e proveniente da rede eléctrica, num período considerado económico em ciclos bi-horário diários (horas de vazio);\n",
    "- **Autoconsumo (kWh)** - quantidade de energia eléctrica consumida, em kWh, proveniente dos painéis solares;\n",
    "- **Injeção na rede (kWh)** - quantidade de energia eléctrica injectada na rede eléctrica, em kWh, proveniente dos painéis solares.\n",
    "\n",
    "Features dos Datasets Meteorológicos\n",
    "\n",
    "- **dt** - o timestamp associado ao registo;\n",
    "- **dt_iso** - a data associada ao registo, ao segundo;\n",
    "- **city_name** - o local em causa;\n",
    "- **temp** - temperatura em ºC;\n",
    "- **feels_like** - sensação térmica em ºC;\n",
    "- **temp_min** - temperatura mínima sentida em ºC;\n",
    "- **temp_max** - temperatura máxima sentida em ºC;\n",
    "- **pressure** - pressão atmosférica sentida em atm;\n",
    "- **sea_level** - pressão atmosférica sentida ao nível do mar em atm;\n",
    "- **grnd_level** - pressão atmosférica sentida à altitude local em atm;\n",
    "- **humidity** - humidade em percentagem;\n",
    "- **wind_speed** - velocidade do vento em metros por segundo;\n",
    "- **rain_1h** - valor médio de precipitação;\n",
    "- **clouds_all** - nível de nebulosidade em percentagem;\n",
    "- **weather_description** - avaliação qualitativa do estado do tempo.\n"
   ]
  },
  {
   "cell_type": "markdown",
   "metadata": {
    "tags": []
   },
   "source": [
    "## Importar Bibliotecas"
   ]
  },
  {
   "cell_type": "code",
   "execution_count": 1,
   "metadata": {},
   "outputs": [],
   "source": [
    "import pandas as pd\n",
    "import numpy as np\n",
    "import matplotlib.pyplot as plt\n",
    "import seaborn as sns\n",
    "\n",
    "# Outras bibliotecas a importar mais tarde\n",
    "%matplotlib inline"
   ]
  },
  {
   "cell_type": "markdown",
   "metadata": {
    "tags": []
   },
   "source": [
    "## Carregar os Datasets"
   ]
  },
  {
   "cell_type": "code",
   "execution_count": 2,
   "metadata": {},
   "outputs": [],
   "source": [
    "energia2021 = pd.read_csv('datasets/energia_202109-202112.csv', encoding = \"ISO-8859-1\")\n",
    "energia2022 = pd.read_csv('datasets/energia_202201-202212.csv', encoding = \"ISO-8859-1\")\n",
    "energia2023 = pd.read_csv('datasets/energia_202301-202304.csv', encoding = \"ISO-8859-1\")\n",
    "\n",
    "meteo2021 = pd.read_csv('datasets/meteo_202109-202112.csv')\n",
    "meteo2022 = pd.read_csv('datasets/meteo_202201-202212.csv')\n",
    "meteo2023 = pd.read_csv('datasets/meteo_202301-202304.csv')"
   ]
  },
  {
   "cell_type": "markdown",
   "metadata": {},
   "source": [
    "Verificar as colunas de cada dataset"
   ]
  },
  {
   "cell_type": "code",
   "execution_count": 3,
   "metadata": {},
   "outputs": [
    {
     "name": "stdout",
     "output_type": "stream",
     "text": [
      "Index(['Data', 'Hora', 'Normal (kWh)', 'Horário Económico (kWh)',\n",
      "       'Autoconsumo (kWh)', 'Injeção na rede (kWh)'],\n",
      "      dtype='object')\n",
      "Index(['Data', 'Hora', 'Normal (kWh)', 'Horário Económico (kWh)',\n",
      "       'Autoconsumo (kWh)', 'Injeção na rede (kWh)'],\n",
      "      dtype='object')\n",
      "Index(['dt', 'dt_iso', 'city_name', 'temp', 'feels_like', 'temp_min',\n",
      "       'temp_max', 'pressure', 'sea_level', 'grnd_level', 'humidity',\n",
      "       'wind_speed', 'rain_1h', 'clouds_all', 'weather_description'],\n",
      "      dtype='object')\n",
      "Index(['dt', 'dt_iso', 'city_name', 'temp', 'feels_like', 'temp_min',\n",
      "       'temp_max', 'pressure', 'sea_level', 'grnd_level', 'humidity',\n",
      "       'wind_speed', 'rain_1h', 'clouds_all', 'weather_description'],\n",
      "      dtype='object')\n"
     ]
    }
   ],
   "source": [
    "print(energia2021.columns)\n",
    "print(energia2022.columns)\n",
    "print(meteo2021.columns)\n",
    "print(meteo2022.columns)"
   ]
  },
  {
   "cell_type": "code",
   "execution_count": 4,
   "metadata": {},
   "outputs": [
    {
     "name": "stdout",
     "output_type": "stream",
     "text": [
      "<class 'pandas.core.frame.DataFrame'>\n",
      "RangeIndex: 2256 entries, 0 to 2255\n",
      "Data columns (total 6 columns):\n",
      " #   Column                   Non-Null Count  Dtype  \n",
      "---  ------                   --------------  -----  \n",
      " 0   Data                     2256 non-null   object \n",
      " 1   Hora                     2256 non-null   int64  \n",
      " 2   Normal (kWh)             2256 non-null   float64\n",
      " 3   Horário Económico (kWh)  2256 non-null   float64\n",
      " 4   Autoconsumo (kWh)        2256 non-null   float64\n",
      " 5   Injeção na rede (kWh)    566 non-null    object \n",
      "dtypes: float64(3), int64(1), object(2)\n",
      "memory usage: 105.9+ KB\n",
      "None\n",
      "\n",
      "<class 'pandas.core.frame.DataFrame'>\n",
      "RangeIndex: 8760 entries, 0 to 8759\n",
      "Data columns (total 6 columns):\n",
      " #   Column                   Non-Null Count  Dtype  \n",
      "---  ------                   --------------  -----  \n",
      " 0   Data                     8760 non-null   object \n",
      " 1   Hora                     8760 non-null   int64  \n",
      " 2   Normal (kWh)             8760 non-null   float64\n",
      " 3   Horário Económico (kWh)  8760 non-null   float64\n",
      " 4   Autoconsumo (kWh)        8760 non-null   float64\n",
      " 5   Injeção na rede (kWh)    2673 non-null   object \n",
      "dtypes: float64(3), int64(1), object(2)\n",
      "memory usage: 410.8+ KB\n",
      "None\n",
      "\n",
      "<class 'pandas.core.frame.DataFrame'>\n",
      "RangeIndex: 2928 entries, 0 to 2927\n",
      "Data columns (total 15 columns):\n",
      " #   Column               Non-Null Count  Dtype  \n",
      "---  ------               --------------  -----  \n",
      " 0   dt                   2928 non-null   int64  \n",
      " 1   dt_iso               2928 non-null   object \n",
      " 2   city_name            2928 non-null   object \n",
      " 3   temp                 2928 non-null   float64\n",
      " 4   feels_like           2928 non-null   float64\n",
      " 5   temp_min             2928 non-null   float64\n",
      " 6   temp_max             2928 non-null   float64\n",
      " 7   pressure             2928 non-null   int64  \n",
      " 8   sea_level            0 non-null      float64\n",
      " 9   grnd_level           0 non-null      float64\n",
      " 10  humidity             2928 non-null   int64  \n",
      " 11  wind_speed           2928 non-null   float64\n",
      " 12  rain_1h              537 non-null    float64\n",
      " 13  clouds_all           2928 non-null   int64  \n",
      " 14  weather_description  2928 non-null   object \n",
      "dtypes: float64(8), int64(4), object(3)\n",
      "memory usage: 343.2+ KB\n",
      "None\n",
      "\n",
      "<class 'pandas.core.frame.DataFrame'>\n",
      "RangeIndex: 8760 entries, 0 to 8759\n",
      "Data columns (total 15 columns):\n",
      " #   Column               Non-Null Count  Dtype  \n",
      "---  ------               --------------  -----  \n",
      " 0   dt                   8760 non-null   int64  \n",
      " 1   dt_iso               8760 non-null   object \n",
      " 2   city_name            8760 non-null   object \n",
      " 3   temp                 8760 non-null   float64\n",
      " 4   feels_like           8760 non-null   float64\n",
      " 5   temp_min             8760 non-null   float64\n",
      " 6   temp_max             8760 non-null   float64\n",
      " 7   pressure             8760 non-null   int64  \n",
      " 8   sea_level            0 non-null      float64\n",
      " 9   grnd_level           0 non-null      float64\n",
      " 10  humidity             8760 non-null   int64  \n",
      " 11  wind_speed           8760 non-null   float64\n",
      " 12  rain_1h              1898 non-null   float64\n",
      " 13  clouds_all           8760 non-null   int64  \n",
      " 14  weather_description  8760 non-null   object \n",
      "dtypes: float64(8), int64(4), object(3)\n",
      "memory usage: 1.0+ MB\n",
      "None\n"
     ]
    }
   ],
   "source": [
    "print(energia2021.info())\n",
    "print()\n",
    "print(energia2022.info())\n",
    "print()\n",
    "print(meteo2021.info())\n",
    "print()\n",
    "print(meteo2022.info())"
   ]
  },
  {
   "cell_type": "markdown",
   "metadata": {},
   "source": [
    "Conclusão: as colunas são as mesmas\n",
    "\n",
    "Próximo passo: Concatenar os datasets"
   ]
  },
  {
   "cell_type": "code",
   "execution_count": 31,
   "metadata": {},
   "outputs": [
    {
     "name": "stdout",
     "output_type": "stream",
     "text": [
      "Index(['Data', 'Hora', 'Normal (kWh)', 'Horï¿½rio Econï¿½mico (kWh)',\n",
      "       'Autoconsumo (kWh)', 'Injeï¿½ï¿½o na rede (kWh)',\n",
      "       'Horário Económico (kWh)', 'Injeção na rede (kWh)'],\n",
      "      dtype='object')\n",
      "Index(['dt', 'dt_iso', 'city_name', 'temp', 'feels_like', 'temp_min',\n",
      "       'temp_max', 'pressure', 'sea_level', 'grnd_level', 'humidity',\n",
      "       'wind_speed', 'rain_1h', 'clouds_all', 'weather_description'],\n",
      "      dtype='object')\n"
     ]
    }
   ],
   "source": [
    "frames_energia = [energia2021, energia2022]\n",
    "frames_meteo = [meteo2021, meteo2022]\n",
    "\n",
    "energia = pd.concat(frames_energia)\n",
    "meteo = pd.concat(frames_meteo)\n",
    "\n",
    "print(energia.columns)\n",
    "print(meteo.columns)"
   ]
  },
  {
   "cell_type": "markdown",
   "metadata": {},
   "source": [
    "Verificar o tamanho dos dados depois da concatenação, a presença de missing values e os tipos de dados"
   ]
  },
  {
   "cell_type": "code",
   "execution_count": 32,
   "metadata": {},
   "outputs": [
    {
     "name": "stdout",
     "output_type": "stream",
     "text": [
      "<class 'pandas.core.frame.DataFrame'>\n",
      "Index: 11016 entries, 0 to 8759\n",
      "Data columns (total 8 columns):\n",
      " #   Column                       Non-Null Count  Dtype  \n",
      "---  ------                       --------------  -----  \n",
      " 0   Data                         11016 non-null  object \n",
      " 1   Hora                         11016 non-null  int64  \n",
      " 2   Normal (kWh)                 11016 non-null  float64\n",
      " 3   Horï¿½rio Econï¿½mico (kWh)  2256 non-null   float64\n",
      " 4   Autoconsumo (kWh)            11016 non-null  float64\n",
      " 5   Injeï¿½ï¿½o na rede (kWh)    566 non-null    object \n",
      " 6   Horário Económico (kWh)      8760 non-null   float64\n",
      " 7   Injeção na rede (kWh)        2673 non-null   object \n",
      "dtypes: float64(4), int64(1), object(3)\n",
      "memory usage: 774.6+ KB\n",
      "None\n",
      "\n",
      "<class 'pandas.core.frame.DataFrame'>\n",
      "Index: 11688 entries, 0 to 8759\n",
      "Data columns (total 15 columns):\n",
      " #   Column               Non-Null Count  Dtype  \n",
      "---  ------               --------------  -----  \n",
      " 0   dt                   11688 non-null  int64  \n",
      " 1   dt_iso               11688 non-null  object \n",
      " 2   city_name            11688 non-null  object \n",
      " 3   temp                 11688 non-null  float64\n",
      " 4   feels_like           11688 non-null  float64\n",
      " 5   temp_min             11688 non-null  float64\n",
      " 6   temp_max             11688 non-null  float64\n",
      " 7   pressure             11688 non-null  int64  \n",
      " 8   sea_level            0 non-null      float64\n",
      " 9   grnd_level           0 non-null      float64\n",
      " 10  humidity             11688 non-null  int64  \n",
      " 11  wind_speed           11688 non-null  float64\n",
      " 12  rain_1h              2435 non-null   float64\n",
      " 13  clouds_all           11688 non-null  int64  \n",
      " 14  weather_description  11688 non-null  object \n",
      "dtypes: float64(8), int64(4), object(3)\n",
      "memory usage: 1.4+ MB\n",
      "None\n"
     ]
    }
   ],
   "source": [
    "print(energia.info())\n",
    "print()\n",
    "print(meteo.info())"
   ]
  },
  {
   "cell_type": "code",
   "execution_count": 33,
   "metadata": {},
   "outputs": [
    {
     "name": "stdout",
     "output_type": "stream",
     "text": [
      "           dt                         dt_iso city_name   temp  feels_like  \\\n",
      "0  1630454400  2021-09-01 00:00:00 +0000 UTC     local  18.74       18.84   \n",
      "1  1630458000  2021-09-01 01:00:00 +0000 UTC     local  18.73       18.83   \n",
      "2  1630461600  2021-09-01 02:00:00 +0000 UTC     local  17.84       17.98   \n",
      "3  1630465200  2021-09-01 03:00:00 +0000 UTC     local  18.27       18.40   \n",
      "4  1630468800  2021-09-01 04:00:00 +0000 UTC     local  17.81       17.97   \n",
      "\n",
      "   temp_min  temp_max  pressure  sea_level  grnd_level  humidity  wind_speed  \\\n",
      "0     15.72     20.34      1015        NaN         NaN        83        1.18   \n",
      "1     15.72     20.34      1014        NaN         NaN        83        1.46   \n",
      "2     16.72     20.34      1014        NaN         NaN        88        1.05   \n",
      "3     16.68     20.34      1014        NaN         NaN        86        0.46   \n",
      "4     16.12     20.34      1013        NaN         NaN        89        0.93   \n",
      "\n",
      "   rain_1h  clouds_all weather_description  \n",
      "0      NaN          78       broken clouds  \n",
      "1      NaN          92     overcast clouds  \n",
      "2      NaN          91     overcast clouds  \n",
      "3     0.14          94          light rain  \n",
      "4     1.26          95       moderate rain  \n"
     ]
    }
   ],
   "source": [
    "print(meteo.head())"
   ]
  },
  {
   "cell_type": "markdown",
   "metadata": {},
   "source": [
    "Juntar num único dataset. Precisamos de agrupar os dados metereológicos às medições de energia correspondentes.\n",
    "Agrupar por Data e Hora."
   ]
  },
  {
   "cell_type": "code",
   "execution_count": 51,
   "metadata": {},
   "outputs": [
    {
     "ename": "ValueError",
     "evalue": "Cannot parse both %Z and %z",
     "output_type": "error",
     "traceback": [
      "\u001b[0;31m---------------------------------------------------------------------------\u001b[0m",
      "\u001b[0;31mValueError\u001b[0m                                Traceback (most recent call last)",
      "\u001b[1;32m/home/miguel/Documents/4Ano1Sem/DAA/DAA/daasbstp2023/daasbstp_notebook.ipynb Cell 18\u001b[0m line \u001b[0;36m2\n\u001b[1;32m      <a href='vscode-notebook-cell:/home/miguel/Documents/4Ano1Sem/DAA/DAA/daasbstp2023/daasbstp_notebook.ipynb#Y300sZmlsZQ%3D%3D?line=0'>1</a>\u001b[0m \u001b[39m# Está a dar erro no formato\u001b[39;00m\n\u001b[0;32m----> <a href='vscode-notebook-cell:/home/miguel/Documents/4Ano1Sem/DAA/DAA/daasbstp2023/daasbstp_notebook.ipynb#Y300sZmlsZQ%3D%3D?line=1'>2</a>\u001b[0m meteo[\u001b[39m'\u001b[39m\u001b[39mdt_iso\u001b[39m\u001b[39m'\u001b[39m] \u001b[39m=\u001b[39m pd\u001b[39m.\u001b[39;49mto_datetime(meteo[\u001b[39m'\u001b[39;49m\u001b[39mdt_iso\u001b[39;49m\u001b[39m'\u001b[39;49m], \u001b[39mformat\u001b[39;49m\u001b[39m=\u001b[39;49m\u001b[39m'\u001b[39;49m\u001b[39m%\u001b[39;49m\u001b[39mY-\u001b[39;49m\u001b[39m%\u001b[39;49m\u001b[39mm-\u001b[39;49m\u001b[39m%d\u001b[39;49;00m\u001b[39m \u001b[39;49m\u001b[39m%\u001b[39;49m\u001b[39mH:\u001b[39;49m\u001b[39m%\u001b[39;49m\u001b[39mM:\u001b[39;49m\u001b[39m%\u001b[39;49m\u001b[39mS \u001b[39;49m\u001b[39m%\u001b[39;49m\u001b[39mz \u001b[39;49m\u001b[39m%\u001b[39;49m\u001b[39mZ\u001b[39;49m\u001b[39m'\u001b[39;49m, errors\u001b[39m=\u001b[39;49m\u001b[39m'\u001b[39;49m\u001b[39mcoerce\u001b[39;49m\u001b[39m'\u001b[39;49m) \u001b[39m# 2021-09-01 00:00:00 +0000 UTC\u001b[39;00m\n\u001b[1;32m      <a href='vscode-notebook-cell:/home/miguel/Documents/4Ano1Sem/DAA/DAA/daasbstp2023/daasbstp_notebook.ipynb#Y300sZmlsZQ%3D%3D?line=2'>3</a>\u001b[0m meteo\u001b[39m.\u001b[39minfo()\n",
      "File \u001b[0;32m~/miniconda3/envs/firstCondaEnv/lib/python3.10/site-packages/pandas/core/tools/datetimes.py:1050\u001b[0m, in \u001b[0;36mto_datetime\u001b[0;34m(arg, errors, dayfirst, yearfirst, utc, format, exact, unit, infer_datetime_format, origin, cache)\u001b[0m\n\u001b[1;32m   1048\u001b[0m         result \u001b[39m=\u001b[39m arg\u001b[39m.\u001b[39mmap(cache_array)\n\u001b[1;32m   1049\u001b[0m     \u001b[39melse\u001b[39;00m:\n\u001b[0;32m-> 1050\u001b[0m         values \u001b[39m=\u001b[39m convert_listlike(arg\u001b[39m.\u001b[39;49m_values, \u001b[39mformat\u001b[39;49m)\n\u001b[1;32m   1051\u001b[0m         result \u001b[39m=\u001b[39m arg\u001b[39m.\u001b[39m_constructor(values, index\u001b[39m=\u001b[39marg\u001b[39m.\u001b[39mindex, name\u001b[39m=\u001b[39marg\u001b[39m.\u001b[39mname)\n\u001b[1;32m   1052\u001b[0m \u001b[39melif\u001b[39;00m \u001b[39misinstance\u001b[39m(arg, (ABCDataFrame, abc\u001b[39m.\u001b[39mMutableMapping)):\n",
      "File \u001b[0;32m~/miniconda3/envs/firstCondaEnv/lib/python3.10/site-packages/pandas/core/tools/datetimes.py:453\u001b[0m, in \u001b[0;36m_convert_listlike_datetimes\u001b[0;34m(arg, format, name, utc, unit, errors, dayfirst, yearfirst, exact)\u001b[0m\n\u001b[1;32m    451\u001b[0m \u001b[39m# `format` could be inferred, or user didn't ask for mixed-format parsing.\u001b[39;00m\n\u001b[1;32m    452\u001b[0m \u001b[39mif\u001b[39;00m \u001b[39mformat\u001b[39m \u001b[39mis\u001b[39;00m \u001b[39mnot\u001b[39;00m \u001b[39mNone\u001b[39;00m \u001b[39mand\u001b[39;00m \u001b[39mformat\u001b[39m \u001b[39m!=\u001b[39m \u001b[39m\"\u001b[39m\u001b[39mmixed\u001b[39m\u001b[39m\"\u001b[39m:\n\u001b[0;32m--> 453\u001b[0m     \u001b[39mreturn\u001b[39;00m _array_strptime_with_fallback(arg, name, utc, \u001b[39mformat\u001b[39;49m, exact, errors)\n\u001b[1;32m    455\u001b[0m result, tz_parsed \u001b[39m=\u001b[39m objects_to_datetime64ns(\n\u001b[1;32m    456\u001b[0m     arg,\n\u001b[1;32m    457\u001b[0m     dayfirst\u001b[39m=\u001b[39mdayfirst,\n\u001b[0;32m   (...)\u001b[0m\n\u001b[1;32m    461\u001b[0m     allow_object\u001b[39m=\u001b[39m\u001b[39mTrue\u001b[39;00m,\n\u001b[1;32m    462\u001b[0m )\n\u001b[1;32m    464\u001b[0m \u001b[39mif\u001b[39;00m tz_parsed \u001b[39mis\u001b[39;00m \u001b[39mnot\u001b[39;00m \u001b[39mNone\u001b[39;00m:\n\u001b[1;32m    465\u001b[0m     \u001b[39m# We can take a shortcut since the datetime64 numpy array\u001b[39;00m\n\u001b[1;32m    466\u001b[0m     \u001b[39m# is in UTC\u001b[39;00m\n",
      "File \u001b[0;32m~/miniconda3/envs/firstCondaEnv/lib/python3.10/site-packages/pandas/core/tools/datetimes.py:484\u001b[0m, in \u001b[0;36m_array_strptime_with_fallback\u001b[0;34m(arg, name, utc, fmt, exact, errors)\u001b[0m\n\u001b[1;32m    473\u001b[0m \u001b[39mdef\u001b[39;00m \u001b[39m_array_strptime_with_fallback\u001b[39m(\n\u001b[1;32m    474\u001b[0m     arg,\n\u001b[1;32m    475\u001b[0m     name,\n\u001b[0;32m   (...)\u001b[0m\n\u001b[1;32m    479\u001b[0m     errors: \u001b[39mstr\u001b[39m,\n\u001b[1;32m    480\u001b[0m ) \u001b[39m-\u001b[39m\u001b[39m>\u001b[39m Index:\n\u001b[1;32m    481\u001b[0m \u001b[39m    \u001b[39m\u001b[39m\"\"\"\u001b[39;00m\n\u001b[1;32m    482\u001b[0m \u001b[39m    Call array_strptime, with fallback behavior depending on 'errors'.\u001b[39;00m\n\u001b[1;32m    483\u001b[0m \u001b[39m    \"\"\"\u001b[39;00m\n\u001b[0;32m--> 484\u001b[0m     result, timezones \u001b[39m=\u001b[39m array_strptime(arg, fmt, exact\u001b[39m=\u001b[39;49mexact, errors\u001b[39m=\u001b[39;49merrors, utc\u001b[39m=\u001b[39;49mutc)\n\u001b[1;32m    485\u001b[0m     \u001b[39mif\u001b[39;00m \u001b[39many\u001b[39m(tz \u001b[39mis\u001b[39;00m \u001b[39mnot\u001b[39;00m \u001b[39mNone\u001b[39;00m \u001b[39mfor\u001b[39;00m tz \u001b[39min\u001b[39;00m timezones):\n\u001b[1;32m    486\u001b[0m         \u001b[39mreturn\u001b[39;00m _return_parsed_timezone_results(result, timezones, utc, name)\n",
      "File \u001b[0;32m~/miniconda3/envs/firstCondaEnv/lib/python3.10/site-packages/pandas/_libs/tslibs/strptime.pyx:199\u001b[0m, in \u001b[0;36mpandas._libs.tslibs.strptime.array_strptime\u001b[0;34m()\u001b[0m\n",
      "\u001b[0;31mValueError\u001b[0m: Cannot parse both %Z and %z"
     ]
    }
   ],
   "source": [
    "# Está a dar erro no formato\n",
    "meteo['dt_iso'] = pd.to_datetime(meteo['dt_iso'], format='%Y-%m-%d %H:%M:%S %z %Z', errors='coerce') # 2021-09-01 00:00:00 +0000 UTC\n",
    "meteo.info()"
   ]
  }
 ],
 "metadata": {
  "kernelspec": {
   "display_name": "Python 3 (ipykernel)",
   "language": "python",
   "name": "python3"
  },
  "language_info": {
   "codemirror_mode": {
    "name": "ipython",
    "version": 3
   },
   "file_extension": ".py",
   "mimetype": "text/x-python",
   "name": "python",
   "nbconvert_exporter": "python",
   "pygments_lexer": "ipython3",
   "version": "3.10.0"
  }
 },
 "nbformat": 4,
 "nbformat_minor": 4
}
